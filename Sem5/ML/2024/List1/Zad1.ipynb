{
 "cells": [
  {
   "cell_type": "markdown",
   "metadata": {},
   "source": [
    "# Problem 1: Finding the Optimal k and Bootstrap Iterations\n",
    "\n",
    "In this task, you will use the **K-Nearest Neighbors (KNN)** classifier to classify handwritten digits from the **MNIST dataset**. The goal is to determine:\n",
    "1. The optimal number of neighbors (k) for the KNN classifier.\n",
    "2. The optimal number of bootstrap iterations needed to confidently estimate the model’s accuracy.\n",
    "\n",
    "## Task Breakdown\n",
    "\n",
    "1. **Download and preprocess the MNIST dataset** (use 10% of the dataset for faster experimentation).\n",
    "2. **Implement bootstrap resampling** to evaluate the KNN classifier for various values of k.\n",
    "3. Experiment with **different numbers of bootstrap iterations**.\n",
    "4. **Determine the optimal values of k** and the minimum number of bootstrap iterations required for a confident result.\n",
    "\n",
    "## Steps to Follow\n",
    "\n",
    "1. **Preprocess the MNIST dataset**:\n",
    "   - Normalize the pixel values (e.g., divide by 255 to scale between 0 and 1).\n",
    "   - Select a random 10% subset of the dataset.\n",
    "\n",
    "2. **KNN Classifier**:\n",
    "   - Use the `KNeighborsClassifier` from `sklearn.neighbors`.\n",
    "   - Iterate over different values of k, specifically $k = 1, 2, \\dots, 10$.\n",
    "\n",
    "3. **Bootstrap Resampling**:\n",
    "   - For each value of k, perform several bootstrap iterations:\n",
    "     - Resample the entire dataset with replacement to create a training set.\n",
    "     - Train the KNN model on the resampled data.\n",
    "     - Test the model on the remaining data points (out-of-bag data).\n",
    "     - Compute and store the accuracy on the out-of-bag data for each iteration.\n",
    "\n",
    "4. **Determine Optimal k and Bootstrap Iterations**:\n",
    "   - Experiment with different numbers of bootstrap iterations (e.g., try 1, 2, 11, 22, 44, 88, etc.).\n",
    "   - Calculate the mean accuracy across bootstrap iterations for each k.\n",
    "   - Determine the optimal k and the number of iterations required for a stable estimate.\n",
    "\n",
    "5. **Plot**:\n",
    "   - Plot the mean accuracy for each value of k.\n",
    "   - Include another plot showing how the mean accuracy stabilizes with increasing bootstrap iterations.\n"
   ]
  },
  {
   "cell_type": "code",
   "execution_count": 2,
   "metadata": {},
   "outputs": [],
   "source": [
    "import numpy as np\n",
    "import matplotlib.pyplot as plt\n",
    "import keras\n",
    "import sklearn"
   ]
  },
  {
   "cell_type": "code",
   "execution_count": 9,
   "metadata": {},
   "outputs": [],
   "source": [
    "(x_train, y_train), (x_test, y_test) = keras.datasets.mnist.load_data()\n",
    "\n",
    "# trim, change shape to 28*28 and convert to [0, 1]\n",
    "x_train, _, y_train, _ = sklearn.model_selection.train_test_split(x_train, y_train, test_size=0.1, random_state=101)\n",
    "x_test, _, y_test, _ = sklearn.model_selection.train_test_split(x_test, y_test, test_size=0.1, random_state=101)\n",
    "\n",
    "x_train = np.reshape(x_train, (6000, 28*28))\n",
    "x_train = x_train.astype(\"float32\") / 255\n",
    "\n",
    "x_test = np.reshape(x_test, (1000, 28*28))\n",
    "x_test = x_test.astype(\"float32\") / 255"
   ]
  },
  {
   "cell_type": "code",
   "execution_count": 12,
   "metadata": {},
   "outputs": [
    {
     "name": "stdout",
     "output_type": "stream",
     "text": [
      "k =  1 accuracy =  0.904\n",
      "k =  2 accuracy =  0.9\n",
      "k =  3 accuracy =  0.913\n",
      "k =  4 accuracy =  0.913\n",
      "k =  5 accuracy =  0.916\n",
      "k =  6 accuracy =  0.913\n",
      "k =  7 accuracy =  0.914\n",
      "k =  8 accuracy =  0.913\n",
      "k =  9 accuracy =  0.909\n",
      "k =  10 accuracy =  0.906\n"
     ]
    }
   ],
   "source": [
    "from sklearn.neighbors import KNeighborsClassifier\n",
    "\n",
    "for k in range(1, 11):\n",
    "    knn = KNeighborsClassifier(n_neighbors=k)\n",
    "    knn.fit(x_train, y_train)\n",
    "    print(\"k = \", k, \"accuracy = \", knn.score(x_test, y_test))"
   ]
  }
 ],
 "metadata": {
  "kernelspec": {
   "display_name": "Python 3",
   "language": "python",
   "name": "python3"
  },
  "language_info": {
   "codemirror_mode": {
    "name": "ipython",
    "version": 3
   },
   "file_extension": ".py",
   "mimetype": "text/x-python",
   "name": "python",
   "nbconvert_exporter": "python",
   "pygments_lexer": "ipython3",
   "version": "3.12.6"
  }
 },
 "nbformat": 4,
 "nbformat_minor": 2
}
