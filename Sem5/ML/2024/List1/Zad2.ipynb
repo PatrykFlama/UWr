{
 "cells": [
  {
   "cell_type": "markdown",
   "metadata": {},
   "source": [
    "# Problem 2: Finding the Optimal k Using Leave-One-Out Cross-Validation\n",
    "\n",
    "In this task, you will use the **K-Nearest Neighbors (KNN)** classifier to classify handwritten digits from the MNIST dataset. The goal is to determine:\n",
    "1. The optimal number of neighbors (k) for the KNN classifier.\n",
    "2. Evaluate the classifier’s performance using leave-one-out cross-validation (LOO CV).\n",
    "\n",
    "### Objectives\n",
    "1. **Download and preprocess the MNIST dataset** (use 10% of the dataset for faster experimentation).\n",
    "2. **Implement leave-one-out cross-validation** to evaluate the KNN classifier for various values of k.\n",
    "3. **Determine the optimal value of k** based on LOO CV results.\n",
    "\n",
    "### Steps to Follow:\n",
    "\n",
    "1. **Preprocess the MNIST Dataset**:\n",
    "   - Normalize the pixel values (e.g., divide by 255 to scale between 0 and 1).\n",
    "   - Select a random 10% subset of the dataset.\n",
    "\n",
    "2. **KNN Classifier**:\n",
    "   - Use the `KNeighborsClassifier` from `sklearn.neighbors`.\n",
    "   - Iterate over different values of k, specifically \\( k = 1, 2, \\dots, 10 \\).\n",
    "\n",
    "3. **Leave-One-Out Cross-Validation (LOO CV)**:\n",
    "   - For each value of k, perform LOO CV:\n",
    "     - Train the KNN model on \\( n - 1 \\) data points, where \\( n \\) is the total number of samples.\n",
    "     - Test the model on the single data point left out.\n",
    "     - Repeat this for all data points and compute the overall accuracy.\n",
    "\n",
    "4. **Determine the Optimal k**:\n",
    "   - Calculate the accuracy for each value of k.\n",
    "   - Determine the value of k with the highest accuracy.\n",
    "\n",
    "5. **Plot**:\n",
    "   - Plot the accuracy for each value of k based on the LOO CV results.\n"
   ]
  },
  {
   "cell_type": "code",
   "execution_count": 12,
   "metadata": {},
   "outputs": [],
   "source": [
    "import numpy as np\n",
    "import keras\n",
    "import sklearn"
   ]
  },
  {
   "cell_type": "code",
   "execution_count": 13,
   "metadata": {},
   "outputs": [],
   "source": [
    "(x_train, y_train), (x_test, y_test) = keras.datasets.mnist.load_data()\n",
    "\n",
    "# randomize data (but keep the label)\n",
    "np.random.seed(101)\n",
    "randomize = np.arange(len(x_train))\n",
    "np.random.shuffle(randomize)\n",
    "x_train = x_train[randomize]\n",
    "y_train = y_train[randomize]\n",
    "\n",
    "randomize = np.arange(len(x_test))\n",
    "np.random.shuffle(randomize)\n",
    "x_test = x_test[randomize]\n",
    "y_test = y_test[randomize]\n",
    "\n",
    "# trim, change shape to 28*28 and convert to [0, 1]\n",
    "# x_train, _, y_train, _ = sklearn.model_selection.train_test_split(x_train, y_train, test_size=0.1, random_state=101)\n",
    "# x_test, _, y_test, _ = sklearn.model_selection.train_test_split(x_test, y_test, test_size=0.1, random_state=101)\n",
    "\n",
    "x_train = x_train[:6000]\n",
    "y_train = y_train[:6000]\n",
    "\n",
    "x_test = x_test[:1000]\n",
    "y_test = y_test[:1000]\n",
    "\n",
    "x_train = x_train.reshape((6000, 28*28))\n",
    "x_train = x_train.astype(\"float32\") / 255.\n",
    "\n",
    "x_test = x_test.reshape((1000, 28*28))\n",
    "x_test = x_test.astype(\"float32\") / 255."
   ]
  },
  {
   "cell_type": "code",
   "execution_count": 14,
   "metadata": {},
   "outputs": [],
   "source": [
    "from sklearn.neighbors import KNeighborsClassifier\n",
    "from sklearn.model_selection import LeaveOneOut\n",
    "from sklearn.metrics import accuracy_score\n",
    "\n",
    "def loocv_knn(x_train, y_train, parameters):\n",
    "    parameter_accuracies = []\n",
    "\n",
    "    # iterate over parameters to test\n",
    "    for k in parameters:\n",
    "        accuracies = []\n",
    "        \n",
    "        # loocv (could be optimized, by replacing deletes with indexed copying, but its python)\n",
    "        for i in range(len(x_train)):\n",
    "            # split data\n",
    "            x_train_loo = np.delete(x_train, i, axis=0)\n",
    "            y_train_loo = np.delete(y_train, i, axis=0)\n",
    "            x_test_loo = [x_train[i]]\n",
    "            y_test_loo = [y_train[i]]\n",
    "\n",
    "            # fit model\n",
    "            model = KNeighborsClassifier(n_neighbors=k)\n",
    "            model.fit(x_train_loo, y_train_loo)\n",
    "\n",
    "            # predict\n",
    "            y_pred = model.predict(x_test_loo)\n",
    "\n",
    "            # evaluate\n",
    "            accuracies.append(accuracy_score(y_test_loo, y_pred))\n",
    "\n",
    "        print(\"k = %d, accuracy = %.2f\" % (k, np.mean(accuracies)))\n",
    "        parameter_accuracies.append(np.mean(accuracies))\n",
    "    \n",
    "    par_max_idx = np.argmax(parameter_accuracies)\n",
    "    return (parameters[par_max_idx], parameter_accuracies)"
   ]
  },
  {
   "cell_type": "code",
   "execution_count": 15,
   "metadata": {},
   "outputs": [
    {
     "name": "stdout",
     "output_type": "stream",
     "text": [
      "k = 1, accuracy = 0.94\n",
      "k = 2, accuracy = 0.92\n",
      "k = 3, accuracy = 0.93\n",
      "k = 4, accuracy = 0.93\n",
      "k = 5, accuracy = 0.93\n",
      "k = 6, accuracy = 0.93\n",
      "k = 7, accuracy = 0.93\n",
      "k = 8, accuracy = 0.93\n",
      "k = 9, accuracy = 0.93\n",
      "k = 10, accuracy = 0.93\n",
      "Best k: 1\n"
     ]
    }
   ],
   "source": [
    "parameters = np.arange(1, 11)\n",
    "best_k, accuracies = loocv_knn(x_train, y_train, parameters)\n",
    "print(\"Best k: %d\" % best_k)"
   ]
  },
  {
   "cell_type": "code",
   "execution_count": 16,
   "metadata": {},
   "outputs": [
    {
     "data": {
      "text/plain": [
       "[<matplotlib.lines.Line2D at 0x1520b26d970>]"
      ]
     },
     "execution_count": 16,
     "metadata": {},
     "output_type": "execute_result"
    },
    {
     "data": {
      "image/png": "[encoded data removed]",
      "text/plain": [
       "<Figure size 640x480 with 1 Axes>"
      ]
     },
     "metadata": {},
     "output_type": "display_data"
    }
   ],
   "source": [
    "import matplotlib.pyplot as plt\n",
    "\n",
    "plt.plot(parameters, accuracies)"
   ]
  }
 ],
 "metadata": {
  "kernelspec": {
   "display_name": "Python 3",
   "language": "python",
   "name": "python3"
  },
  "language_info": {
   "codemirror_mode": {
    "name": "ipython",
    "version": 3
   },
   "file_extension": ".py",
   "mimetype": "text/x-python",
   "name": "python",
   "nbconvert_exporter": "python",
   "pygments_lexer": "ipython3",
   "version": "3.12.6"
  }
 },
 "nbformat": 4,
 "nbformat_minor": 2
}
