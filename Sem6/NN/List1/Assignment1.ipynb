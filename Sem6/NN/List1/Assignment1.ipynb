{
 "cells": [
  {
   "cell_type": "markdown",
   "metadata": {
    "cell_id": "00001-caefeb56-f9c5-4f9e-a096-b89246dc63d7",
    "deepnote_app_coordinates": {
     "h": 5,
     "w": 12,
     "x": 0,
     "y": 6
    },
    "deepnote_cell_type": "markdown",
    "id": "CGXgWugfJ0Vl"
   },
   "source": [
    "\n",
    "## Assignment 1\n",
    "\n",
    "**Submission deadlines:** \n",
    "- get at least **2** points by Tuesday, 11.03.2025\n",
    "- remaining points: last lab session before or on Tuesday, 18.03.2025\n",
    "\n",
    "**Points:** Aim to get 8 out of 14 possible points\n",
    "\n",
    "## Submission instructions\n",
    "The class is held on-site in lab rooms. Please prepare you notebook on your computer or anywhere in the cloud (try using DeepNote or Google Colab).\n",
    "\n",
    "Make sure you know all the questions and answers, and that the notebook contains results; before presentation do `Runtime -> Restart and run all`\n",
    "![Picture title](image-20220302-183151.png)\n",
    "\n",
    "We provide starter code, however you are not required to use it as long as you properly solve the tasks.\n"
   ]
  },
  {
   "cell_type": "markdown",
   "metadata": {
    "cell_id": "00002-c92cc86e-f65f-4e16-9124-9ca4d4265c88",
    "deepnote_app_coordinates": {
     "h": 5,
     "w": 12,
     "x": 0,
     "y": 12
    },
    "deepnote_cell_type": "markdown",
    "id": "5S8iRaCPyO2a"
   },
   "source": [
    "# Task description\n",
    "\n",
    "## TLDR\n",
    "Implement and train a neural network using pure `torch`."
   ]
  },
  {
   "cell_type": "markdown",
   "metadata": {
    "cell_id": "00003-1893a0a0-4515-4960-bce8-37f660543eea",
    "deepnote_app_coordinates": {
     "h": 5,
     "w": 12,
     "x": 0,
     "y": 18
    },
    "deepnote_cell_type": "markdown",
    "id": "JHcz7I2V-bVM"
   },
   "source": [
    "\n",
    "## Problem 1 [2p]\n",
    "Implement a two-layer network, manually set weights and biases to solve the XOR task.\n",
    "\n",
    "A two-layer neural network implementes a function $f: \\mathbb{R}^D \\rightarrow \\mathbb{R}^O$ where $D$ is the input dimensionality and $O$ is the output dinemsionality. The output goes through an intermediate representation (the hidden layer) with dimensionality $H$. \n",
    "\n",
    "The computations are as follows:\n",
    "$$\n",
    "\\begin{aligned}\n",
    "A_1 &= x W_1^T + b_1  & \\qquad\\text{Total input to neurons in the hidden layer (network's first layer)} \\\\\n",
    "O_1 &= \\sigma_1(A_1)  & \\qquad\\text{Output of the hidden layer} \\\\\n",
    "A_2 &= O_1 W_2^T + b_2 & \\qquad\\text{Total input to neurons in the output layer (network's second layer)}\\\\\n",
    "O_2 &= \\sigma_2(A_2)  & \\qquad\\text{Output of the network}\n",
    "\\end{aligned}\n",
    "$$\n",
    "\n",
    "Where $W$ are weight matrices, $b$ are bias vectors, $\\sigma$ are non-linear activation functions (e.g. the logistic sigmoid applied element-wise, or softmax).\n",
    "\n",
    "For the 2D xor problem the network will:\n",
    "- have 2 inputs, 2 hidden neurons, one output\n",
    "- use the logistic sigmoid everywhere (that way we, when hand-designig the weights, we can assume that neurons' outputs are binary).\n",
    "\n",
    "Therrefore the shapes of the data flowing through the network will be:\n",
    "- input: $x\\in\\mathbb{}R^{2}$\n",
    "- hidden layer parameters: $W_1\\in\\mathbb{}R^{2\\times 2}$ and $b_1\\in\\mathbb{}R^{2}$\n",
    "- representations in the hidden layer: $A_1\\in\\mathbb{}R^{2}$ and $O_1\\in\\mathbb{}R^{2}$\n",
    "- output layer parameters: $W_2\\in\\mathbb{}R^{1\\times 2}$ and $b_2\\in\\mathbb{}R^{1}$\n",
    "- representations in the output layer: $A_2\\in\\mathbb{}R^{1}$ and $O_2\\in\\mathbb{}R^{1}$\n",
    "\n",
    "The network can be seen as a logistic regression model, prefixed by a nonlinear transformation of the data.\n",
    "\n",
    "The first tasks consists of:\n",
    "- implementing the network\n",
    "- selecting parametwrs ($W_1, b_1, W_2, b_2$) such that $f(x)\\approx XOR(x_1, x_2)$ where the approximation is die to the sigmoids - the output may be close to 0 or 1, but doesn't need to saturate at 0 or 1.\n",
    "\n",
    "NB: the convention on weight matrix shapes follows linear [layers in PyTorch](https://pytorch.org/docs/stable/generated/torch.nn.Linear.html).\n"
   ]
  },
  {
   "cell_type": "code",
   "execution_count": 42,
   "metadata": {},
   "outputs": [],
   "source": [
    "import numpy as np\n",
    "\n",
    "def sigm(z):\n",
    "    return 1 / (1 + pow(np.e, -z))\n",
    "\n",
    "def ensure_dim(M, arr):\n",
    "    if np.ndim(M) != len(arr):\n",
    "        return False\n",
    "\n",
    "    for i, dim in enumerate(M.shape):\n",
    "        if(arr[i] != dim):\n",
    "            return False\n",
    "    \n",
    "    return True\n",
    "\n",
    "class my_nn_221:\n",
    "    def __init__(self, W1, b1, W2, b2):\n",
    "        self.W1 = np.array(W1)\n",
    "        self.b1 = np.array(b1)\n",
    "        self.W2 = np.array(W2)\n",
    "        self.b2 = np.array(b2)\n",
    "\n",
    "    def predict(self, x):\n",
    "        x = np.array(x)\n",
    "        # print(x)\n",
    "        \n",
    "        A1 = x @ self.W1.T + self.b1\n",
    "        # print(A1)\n",
    "        O1 = sigm(A1)\n",
    "        # print(O1)\n",
    "        A2 = O1 @ self.W2.T + self.b2\n",
    "        # print(A2)\n",
    "        O2 = sigm(A2)\n",
    "        # print(O2)\n",
    "\n",
    "        return O2"
   ]
  },
  {
   "cell_type": "code",
   "execution_count": 45,
   "metadata": {},
   "outputs": [
    {
     "name": "stdout",
     "output_type": "stream",
     "text": [
      "[[0, 0], [1, 1], [1, 0], [0, 1]]\n",
      "[[0.45182306]\n",
      " [0.45182306]\n",
      " [0.68710389]\n",
      " [0.68710389]]\n"
     ]
    }
   ],
   "source": [
    "# concept:\n",
    "## first layer:\n",
    "### detect if 11 or 00\n",
    "### W=11 b=-1 or W=-1-1 b=1\n",
    "## second layer:\n",
    "### check if none active ie sigm(x>0) > 0.5\n",
    "### W=-1-1 b = 1\n",
    "\n",
    "x = [[0, 0], [1, 1], [1, 0], [0, 1]]\n",
    "W1 = [[10,10], [-10,-10]]\n",
    "# b1 = [-15, 5]\n",
    "b1 = [-W1[0][0]*3/2, -W1[1][0]/2]\n",
    "W2 = [[-1,-1]]\n",
    "b2 = [0.8]\n",
    "\n",
    "nn = my_nn_221(W1, b1, W2, b2)\n",
    "print(x)\n",
    "print(nn.predict(x))"
   ]
  },
  {
   "cell_type": "markdown",
   "metadata": {
    "cell_id": "00004-0d502510-cfd1-44da-b88c-da6aaf275617",
    "deepnote_app_coordinates": {
     "h": 5,
     "w": 12,
     "x": 0,
     "y": 24
    },
    "deepnote_cell_type": "markdown",
    "id": "0QSpZxuH-bLe"
   },
   "source": [
    "## Problem 2 [2p]\n",
    "1. Add a backward pass.\n",
    "2. Use a sensible random initialization for weights and biases.\n",
    "3. Numerically check the correctness of your gradient computation.\n",
    "\n",
    "There is nice article about taking derivative over vectors and vector chain rule: https://explained.ai/matrix-calculus/ if someone don't have experience with such calculus.\n"
   ]
  },
  {
   "cell_type": "markdown",
   "metadata": {
    "cell_id": "00005-96083315-f850-4103-946e-cc9b11377543",
    "deepnote_app_coordinates": {
     "h": 5,
     "w": 12,
     "x": 0,
     "y": 30
    },
    "deepnote_cell_type": "markdown",
    "id": "s1Tn8j0m-bAy"
   },
   "source": [
    "## Problem 3 [2p]\n",
    "1. Implement gradient descent\n",
    "2. Train your network to solve 3D XOR\n",
    "3. Try several hidden layer sizes, for each size record the fracton of successful trainings. Then answer:\n",
    "    - What is the minimal hidden size required to solve 3D XOR (even with low reliability, when the training has to be repeated multiple times)\n",
    "    - What is the minimal hidden size required to reliably solve 3D XOR\n",
    "    - Which networks are easier to train - small or large ones? Why?\n"
   ]
  },
  {
   "cell_type": "markdown",
   "metadata": {
    "cell_id": "00006-94cc4eb9-0202-4308-9a9e-007db44a6a98",
    "deepnote_app_coordinates": {
     "h": 5,
     "w": 12,
     "x": 0,
     "y": 36
    },
    "deepnote_cell_type": "markdown",
    "id": "RP9Pvpmf-a2A"
   },
   "source": [
    "## Problem 4 [1p]\n",
    "Replace the first nonlinearity with the [ReLU](https://en.wikipedia.org/wiki/Rectifier_(neural_networks)) activation function. Find a network architecture which reliably learns the 3D XOR problem.\n"
   ]
  },
  {
   "cell_type": "markdown",
   "metadata": {
    "cell_id": "00007-9e6e984c-5131-4333-837b-7e57c4bfb650",
    "deepnote_app_coordinates": {
     "h": 5,
     "w": 12,
     "x": 0,
     "y": 42
    },
    "deepnote_cell_type": "markdown",
    "id": "cGgtpe-w-asB"
   },
   "source": [
    "## Problem 5 [1p]\n",
    "Add a second hidden layer to your network, implement the forward and backward pass, then demonstrate training.\n"
   ]
  },
  {
   "cell_type": "markdown",
   "metadata": {
    "cell_id": "00008-86ea4bdd-83dc-4197-baad-d216fbacc786",
    "deepnote_app_coordinates": {
     "h": 5,
     "w": 12,
     "x": 0,
     "y": 48
    },
    "deepnote_cell_type": "markdown",
    "id": "Pe-pcFeO-aiE"
   },
   "source": [
    "## Problem 6 [2p]\n",
    "Implement a way to have a _variable number_ of hidden layers. Check how deep sigmoid or ReLU networks you  can train. For simplicity you can assume that all hidden layers have the same number of neurons, and use the same activation function.\n"
   ]
  },
  {
   "cell_type": "markdown",
   "metadata": {},
   "source": [
    "## Problem 7 [2p]\n",
    "Consider the following function $\\boldsymbol f: \\mathbb R^n \\to \\mathbb R^k$:\n",
    "$$ \\hat{\\boldsymbol y} := \\boldsymbol f(\\boldsymbol x\\,;\\,\\,W, \\boldsymbol b) = \\mathrm{softmax}(\\boldsymbol z) \\qquad (\\boldsymbol x \\in \\mathbb R^{n}, \\, W \\in\\mathbb R^{k\\times n}, \\, \\boldsymbol b \\in \\mathbb R^k), $$\n",
    "where $$ \\boldsymbol z = W  \\boldsymbol x + \\boldsymbol b $$\n",
    "and $W, \\boldsymbol b$ are the parameters.\n",
    "\n",
    "Analytically derive the form of the following gradients:\n",
    "\n",
    "$$ \\frac{\\partial \\hat{\\boldsymbol y}}{\\boldsymbol z} = \\ldots $$\n",
    "\n",
    "$$ \\frac{\\partial \\hat{\\boldsymbol y}}{W_{ij}} = \\ldots $$\n",
    "\n",
    "$$ \\frac{\\partial \\hat{\\boldsymbol y}}{\\boldsymbol b} = \\ldots $$"
   ]
  },
  {
   "cell_type": "markdown",
   "metadata": {
    "cell_id": "00010-954fd65b-4d81-4bbc-bf6b-4d10d50be9b8",
    "deepnote_app_coordinates": {
     "h": 5,
     "w": 12,
     "x": 0,
     "y": 60
    },
    "deepnote_cell_type": "markdown",
    "id": "rXJaoHSH0DZO"
   },
   "source": [
    "# Solutions and starter code"
   ]
  },
  {
   "cell_type": "code",
   "execution_count": 1,
   "metadata": {
    "ExecuteTime": {
     "end_time": "2024-02-17T11:44:28.263962Z",
     "start_time": "2024-02-17T11:44:27.307173Z"
    },
    "cell_id": "00011-97f2c7fe-a3d5-4a6b-bc12-8a96bfeed475",
    "deepnote_app_coordinates": {
     "h": 5,
     "w": 12,
     "x": 0,
     "y": 66
    },
    "deepnote_cell_type": "code",
    "id": "YiTEWD2oqW0Y"
   },
   "outputs": [],
   "source": [
    "import matplotlib.pyplot as plt\n",
    "import torch\n",
    "import random as rnd\n",
    "import math\n",
    "import numpy as np"
   ]
  },
  {
   "cell_type": "markdown",
   "metadata": {
    "cell_id": "00012-8bc44e88-e665-483d-89fc-c866879ad335",
    "deepnote_app_coordinates": {
     "h": 5,
     "w": 12,
     "x": 0,
     "y": 72
    },
    "deepnote_cell_type": "markdown",
    "id": "eqtfJKR40J3x"
   },
   "source": [
    "XOR dataset creation"
   ]
  },
  {
   "cell_type": "code",
   "execution_count": 2,
   "metadata": {
    "ExecuteTime": {
     "end_time": "2024-02-17T11:46:08.448211Z",
     "start_time": "2024-02-17T11:46:08.287486Z"
    }
   },
   "outputs": [
    {
     "data": {
      "text/plain": [
       "(-0.05, 1.05, -0.05, 1.05)"
      ]
     },
     "execution_count": 2,
     "metadata": {},
     "output_type": "execute_result"
    },
    {
     "data": {
      "image/png": "[encoded data removed]",
      "text/plain": [
       "<Figure size 640x480 with 1 Axes>"
      ]
     },
     "metadata": {},
     "output_type": "display_data"
    }
   ],
   "source": [
    "# Let's define a XOR dataset\n",
    "\n",
    "# X will be matrix of N 2-dimensional inputs\n",
    "X = torch.tensor([[0, 0], [0, 1], [1, 0], [1, 1],], dtype=torch.float64)\n",
    "# Y is a matrix of N numners - answers\n",
    "Y = torch.tensor([[0], [1], [1], [0],], dtype=torch.float64)\n",
    "\n",
    "plt.scatter(\n",
    "    X[:, 0], X[:, 1], c=Y[:, 0],\n",
    ")\n",
    "plt.xlabel(\"X[0]\")\n",
    "plt.ylabel(\"X[1]\")\n",
    "plt.axis(\"square\")"
   ]
  },
  {
   "cell_type": "markdown",
   "metadata": {
    "cell_id": "00014-fe501b87-4247-497d-a7c7-f528483d31cc",
    "deepnote_app_coordinates": {
     "h": 5,
     "w": 12,
     "x": 0,
     "y": 84
    },
    "deepnote_cell_type": "markdown",
    "id": "Rb3azMn929_I"
   },
   "source": [
    "## Problem 1"
   ]
  },
  {
   "cell_type": "markdown",
   "metadata": {
    "cell_id": "00015-97a3483d-0ae6-4bee-afd5-6226abc622a5",
    "deepnote_app_coordinates": {
     "h": 5,
     "w": 12,
     "x": 0,
     "y": 90
    },
    "deepnote_cell_type": "markdown",
    "id": "RZCM_hdELE04"
   },
   "source": [
    "The code below contains a mock-up of a two-layer neural network. Fill in the code and manually set weights to solve the XOR problem.\n",
    "\n",
    "Please note: the shapes are set to be compatible with PyTorch's conventions:\n",
    "* a batch containing $N$ $D$-dimensional examples has shape $N\\times D$ (each example is a row!)\n",
    "* a weight matrix in a linear layer with $I$ inputs and $O$ outputs has shape $O \\times I$\n",
    "* a bias vector is a 1D vector. Please note that [broadcasting rules](https://docs.scipy.org/doc/numpy/user/basics.broadcasting.html) allow us to think about it as a $1 \\times D$ matrix."
   ]
  },
  {
   "cell_type": "code",
   "execution_count": 3,
   "metadata": {
    "cell_id": "00016-87dd53c6-4f21-4286-8a85-61c2a92fa819",
    "deepnote_app_coordinates": {
     "h": 5,
     "w": 12,
     "x": 0,
     "y": 96
    },
    "deepnote_cell_type": "code",
    "id": "lrrRuk6zLiF0"
   },
   "outputs": [],
   "source": [
    "def sigmoid(x):\n",
    "    return 1 / (1 + pow(np.e, -x))\n",
    "\n",
    "\n",
    "class SmallNet:\n",
    "    def __init__(self, in_features: int, num_hidden: int, dtype=torch.float32):\n",
    "        self.W1 = torch.zeros((num_hidden, in_features), dtype=dtype)\n",
    "        self.b1 = torch.zeros((num_hidden,), dtype=dtype)\n",
    "        self.W2 = torch.zeros((1, num_hidden), dtype=dtype)\n",
    "        self.b2 = torch.zeros((1,), dtype=dtype)\n",
    "        self.init_params()\n",
    "\n",
    "    def init_params(self):\n",
    "        # for Problem 2:\n",
    "        # set all parameters to small random values, e.g. from N(0, 0.5)\n",
    "        torch.nn.init.normal_(self.W1, mean=0, std=0.5)\n",
    "        torch.nn.init.normal_(self.b1, mean=0, std=0.5)\n",
    "        torch.nn.init.normal_(self.W2, mean=0, std=0.5)\n",
    "        torch.nn.init.normal_(self.b2, mean=0, std=0.5)\n",
    "\n",
    "    def forward(self, X, Y=None, do_backward=False):\n",
    "        # Problem 1: Fill in details of forward propagation\n",
    "\n",
    "        # Input to neurons in 1st layer\n",
    "        A1 = X @ self.W1.t() + self.b1\n",
    "        # Outputs after the sigmoid non-linearity\n",
    "        O1 = sigmoid(A1)\n",
    "        # Inputs to neuron in the second layer\n",
    "        A2 = O1 @ self.W2.t() + self.b2\n",
    "        # Outputs after the sigmoid non-linearity\n",
    "        O2 = sigmoid(A2)\n",
    "\n",
    "        # When Y is none, simply return the predictions. Else compute the loss\n",
    "        if Y is not None:\n",
    "            eps = 1e-8\n",
    "            loss = -Y * torch.log(O2 + eps) - (1 - Y) * torch.log(1 - O2 + eps) # cross-entropy loss\n",
    "            # normalize loss by batch size\n",
    "            loss = loss.sum() / X.shape[0]\n",
    "        else:\n",
    "            loss = torch.nan\n",
    "\n",
    "        if do_backward:\n",
    "            # in Problem 2:\n",
    "            # fill in the gradient computation\n",
    "            # Please note, that there is a correspondance between\n",
    "            # the forward and backward pass: with backward computations happening\n",
    "            # in reverse order.\n",
    "            # We save the gradients with respect to the parameters as fields of self.\n",
    "            # It is not very elegant, but simplifies training code later on.\n",
    "\n",
    "            # A2_grad is the gradient of loss with respect to A2\n",
    "            # Hint: there is a concise formula for the gradient\n",
    "            # of logistic sigmoid and cross-entropy loss\n",
    "            \n",
    "            A2_grad = (O2 - Y) / X.shape[0]\n",
    "            self.b2_grad = A2_grad.sum(0)\n",
    "            self.W2_grad = A2_grad.t() @ O1\n",
    "            O1_grad = A2_grad @ self.W2\n",
    "            A1_grad = O1_grad * O1 * (1 - O1)\n",
    "            self.b1_grad = A1_grad.sum(0)\n",
    "            self.W1_grad = A1_grad.t() @ X\n",
    "\n",
    "\n",
    "        return O2, loss"
   ]
  },
  {
   "cell_type": "code",
   "execution_count": 4,
   "metadata": {
    "cell_id": "00017-32ce9293-0a37-4397-aeac-25eef428e8d4",
    "colab": {
     "base_uri": "https://localhost:8080/"
    },
    "deepnote_app_coordinates": {
     "h": 5,
     "w": 12,
     "x": 0,
     "y": 102
    },
    "deepnote_cell_type": "code",
    "id": "jJswvBk0oiIY",
    "outputId": "e6559317-7afa-4509-fbac-4880e73b91cc"
   },
   "outputs": [
    {
     "name": "stdout",
     "output_type": "stream",
     "text": [
      "XORnet(tensor([0., 0.], dtype=torch.float64)) = 0.0\n",
      "XORnet(tensor([0., 1.], dtype=torch.float64)) = 1.0\n",
      "XORnet(tensor([1., 0.], dtype=torch.float64)) = 1.0\n",
      "XORnet(tensor([1., 1.], dtype=torch.float64)) = 0.0\n"
     ]
    }
   ],
   "source": [
    "# Problem 1:\n",
    "# Set the weight values to solve the XOR problem\n",
    "\n",
    "net = SmallNet(2, 2, dtype=torch.float64)\n",
    "net.W1 = torch.tensor([[1000,1000], [-1000,-1000]], dtype=torch.float64)\n",
    "net.b1 = torch.tensor([-1500, 500], dtype=torch.float64)\n",
    "net.W2 = torch.tensor([[-1000,-1000]], dtype=torch.float64)\n",
    "net.b2 = torch.tensor([100], dtype=torch.float64)\n",
    "\n",
    "# Hint: since we use the logistic sigmoid activation, the weights may need to\n",
    "# be fairly large\n",
    "\n",
    "\n",
    "predictions, loss = net.forward(X, Y, do_backward=True)\n",
    "for x, p in zip(X, predictions):\n",
    "    print(f\"XORnet({x}) = {p[0]}\")"
   ]
  },
  {
   "cell_type": "markdown",
   "metadata": {
    "cell_id": "00018-9f8740d2-90e7-4d20-a535-002df8547aba",
    "deepnote_app_coordinates": {
     "h": 5,
     "w": 12,
     "x": 0,
     "y": 108
    },
    "deepnote_cell_type": "markdown",
    "id": "wmxCi5Vl6_xB"
   },
   "source": [
    "## Problem 2"
   ]
  },
  {
   "cell_type": "code",
   "execution_count": 5,
   "metadata": {
    "cell_id": "00019-8f804996-a00a-4bb5-a524-ad056659e023",
    "deepnote_app_coordinates": {
     "h": 5,
     "w": 12,
     "x": 0,
     "y": 114
    },
    "deepnote_cell_type": "code",
    "id": "eSM5hgJ1mrhY"
   },
   "outputs": [],
   "source": [
    "def check_grad(net, param_name, X, Y, eps=1e-5):\n",
    "    \"\"\"A gradient checking routine\"\"\"\n",
    "\n",
    "    param = getattr(net, param_name)\n",
    "    param_flat_accessor = param.reshape(-1)\n",
    "\n",
    "    grad = torch.empty_like(param)\n",
    "    grad_flat_accessor = grad.reshape(-1)\n",
    "\n",
    "    net.forward(X, Y, do_backward=True)\n",
    "    orig_grad = getattr(net, param_name + \"_grad\")\n",
    "    assert param.shape == orig_grad.shape\n",
    "\n",
    "    for i in range(param_flat_accessor.shape[0]):\n",
    "        orig_val = param_flat_accessor[i].item()\n",
    "        param_flat_accessor[i] = orig_val + eps\n",
    "        _, loss_positive = net.forward(X, Y)\n",
    "        param_flat_accessor[i] = orig_val - eps\n",
    "        _, loss_negative = net.forward(X, Y)\n",
    "        param_flat_accessor[i] = orig_val\n",
    "        grad_flat_accessor[i] = (loss_positive - loss_negative) / (2 * eps)\n",
    "    assert torch.allclose(grad, orig_grad)\n",
    "    return grad, orig_grad"
   ]
  },
  {
   "cell_type": "code",
   "execution_count": 6,
   "metadata": {
    "cell_id": "00020-1c4174cf-f129-4cad-adad-4734810a8ce1",
    "deepnote_app_coordinates": {
     "h": 5,
     "w": 12,
     "x": 0,
     "y": 120
    },
    "deepnote_cell_type": "code",
    "id": "TTZu0jFEvgXF"
   },
   "outputs": [],
   "source": [
    "# Hint: use float64 for checking the correctness of the gradient\n",
    "net = SmallNet(2, 2, dtype=torch.float64)\n",
    "\n",
    "for param_name in [\"W1\", \"b1\", \"W2\", \"b2\"]:\n",
    "    check_grad(net, param_name, X, Y)"
   ]
  },
  {
   "cell_type": "markdown",
   "metadata": {
    "cell_id": "00021-145837f8-c83f-4aab-8e62-0114e59f30fe",
    "deepnote_app_coordinates": {
     "h": 5,
     "w": 12,
     "x": 0,
     "y": 126
    },
    "deepnote_cell_type": "markdown",
    "id": "8mUOs3cVvjM2"
   },
   "source": [
    "## Problem 3"
   ]
  },
  {
   "cell_type": "code",
   "execution_count": 7,
   "metadata": {
    "cell_id": "00022-91b3eba0-6025-4839-847c-f5cb275fad07",
    "colab": {
     "base_uri": "https://localhost:8080/"
    },
    "deepnote_app_coordinates": {
     "h": 5,
     "w": 12,
     "x": 0,
     "y": 132
    },
    "deepnote_cell_type": "code",
    "id": "nn2AAoZo0vjU",
    "outputId": "7b6b5a9a-dea5-4357-e8c1-36a34c7c272a"
   },
   "outputs": [
    {
     "name": "stdout",
     "output_type": "stream",
     "text": [
      "after 0 steps \tloss=0.9342369017435209\n",
      "after 5000 steps \tloss=0.0467946693585098\n",
      "after 10000 steps \tloss=0.012867843282666717\n",
      "after 15000 steps \tloss=0.006867117863736321\n",
      "after 20000 steps \tloss=0.004537300954570744\n",
      "after 25000 steps \tloss=0.0033326588868054377\n",
      "after 30000 steps \tloss=0.002607448612633012\n",
      "after 35000 steps \tloss=0.0021273725003915014\n",
      "after 40000 steps \tloss=0.001788209740047959\n",
      "after 45000 steps \tloss=0.001536971992000004\n",
      "after 50000 steps \tloss=0.0013440320412120763\n",
      "after 55000 steps \tloss=0.0011915998870942806\n",
      "after 60000 steps \tloss=0.0010683826849896174\n",
      "after 65000 steps \tloss=0.0009668849923849148\n",
      "after 70000 steps \tloss=0.0008819464282200591\n",
      "after 75000 steps \tloss=0.0008099039243639724\n",
      "after 80000 steps \tloss=0.000748088944738048\n",
      "after 85000 steps \tloss=0.0006945136574716997\n",
      "after 90000 steps \tloss=0.0006476683566890554\n",
      "after 95000 steps \tloss=0.0006063868376874797\n"
     ]
    }
   ],
   "source": [
    "net = SmallNet(2, 10, dtype=torch.float64)\n",
    "\n",
    "alpha = 0.1  # set a learning rate\n",
    "\n",
    "for i in range(100000):\n",
    "    _, loss = net.forward(X, Y, do_backward=True)\n",
    "    if (i % 5000) == 0:\n",
    "        print(f\"after {i} steps \\tloss={loss}\")\n",
    "    for param_name in [\"W1\", \"b1\", \"W2\", \"b2\"]:\n",
    "        param = getattr(net, param_name)\n",
    "        # Hint: use the construct `param[:]` to change the contents of the array!\n",
    "        # Doing instead `param = new_val` simply changes to what the variable\n",
    "        # param points to, without affecting the network!\n",
    "        # alternatively, you could do setattr(net, param_name, new_value)\n",
    "        param[:] = param - alpha * getattr(net, param_name + \"_grad\")"
   ]
  },
  {
   "cell_type": "code",
   "execution_count": 8,
   "metadata": {
    "cell_id": "00023-c92941a8-24d1-46e8-a410-d189c1d87b08",
    "colab": {
     "base_uri": "https://localhost:8080/"
    },
    "deepnote_app_coordinates": {
     "h": 5,
     "w": 12,
     "x": 0,
     "y": 138
    },
    "deepnote_cell_type": "code",
    "id": "TwpEjpkU1JvK",
    "outputId": "dc044de9-81c1-4944-d9a2-5dcc72bf9a57"
   },
   "outputs": [
    {
     "name": "stdout",
     "output_type": "stream",
     "text": [
      "XORnet(tensor([0., 0.], dtype=torch.float64)) = 0.0003576336056177169\n",
      "XORnet(tensor([0., 1.], dtype=torch.float64)) = 0.9994400856416378\n",
      "XORnet(tensor([1., 0.], dtype=torch.float64)) = 0.9993696605281913\n",
      "XORnet(tensor([1., 1.], dtype=torch.float64)) = 0.0007304846339985898\n"
     ]
    }
   ],
   "source": [
    "predictions, loss = net.forward(X, Y, do_backward=True)\n",
    "for x, p in zip(X, predictions):\n",
    "    print(f\"XORnet({x}) = {p[0]}\")"
   ]
  },
  {
   "cell_type": "code",
   "execution_count": 9,
   "metadata": {
    "cell_id": "00024-e09655a3-84e1-4a43-9b61-00edb56c6054",
    "deepnote_app_coordinates": {
     "h": 5,
     "w": 12,
     "x": 0,
     "y": 144
    },
    "deepnote_cell_type": "code",
    "id": "U0ZMyHqz8xrC"
   },
   "outputs": [
    {
     "name": "stdout",
     "output_type": "stream",
     "text": [
      "tensor(0.6924, dtype=torch.float64) False\n",
      "tensor(0.6927, dtype=torch.float64) False\n",
      "tensor(0.6931, dtype=torch.float64) False\n",
      "hidden_dim=2 success rate=0.0\n",
      "tensor(0.4424, dtype=torch.float64) False\n",
      "tensor(0.6931, dtype=torch.float64) False\n",
      "tensor(0.6915, dtype=torch.float64) False\n",
      "hidden_dim=3 success rate=0.0\n",
      "tensor(0.6928, dtype=torch.float64) False\n",
      "tensor(0.6924, dtype=torch.float64) False\n",
      "tensor(0.0336, dtype=torch.float64) True\n",
      "hidden_dim=5 success rate=0.3333333333333333\n",
      "tensor(0.0335, dtype=torch.float64) True\n",
      "tensor(0.0163, dtype=torch.float64) True\n",
      "tensor(0.0184, dtype=torch.float64) True\n",
      "hidden_dim=10 success rate=1.0\n",
      "tensor(0.0270, dtype=torch.float64) True\n",
      "tensor(0.0140, dtype=torch.float64) True\n",
      "tensor(0.0245, dtype=torch.float64) True\n",
      "hidden_dim=20 success rate=1.0\n"
     ]
    },
    {
     "data": {
      "image/png": "[encoded data removed]",
      "text/plain": [
       "<Figure size 640x480 with 1 Axes>"
      ]
     },
     "metadata": {},
     "output_type": "display_data"
    },
    {
     "data": {
      "text/plain": [
       "<matplotlib.legend.Legend at 0x25957ef1c10>"
      ]
     },
     "execution_count": 9,
     "metadata": {},
     "output_type": "execute_result"
    },
    {
     "data": {
      "image/png": "[encoded data removed]",
      "text/plain": [
       "<Figure size 640x480 with 1 Axes>"
      ]
     },
     "metadata": {},
     "output_type": "display_data"
    }
   ],
   "source": [
    "# 3D XOR:\n",
    "# Generate data for a 3D XOR task\n",
    "# Then estimate the success rate of training the network with diferent\n",
    "# hidden sizes.\n",
    "\n",
    "X3 = torch.tensor([[0, 0, 0], [0, 0, 1], [0, 1, 0], [0, 1, 1],\n",
    "                   [1, 0, 0], [1, 0, 1], [1, 1, 0], [1, 1, 1]], dtype=torch.float64)\n",
    "Y3 = torch.tensor([[0], [1], [1], [0], [1], [0], [0], [1]], dtype=torch.float64)\n",
    "\n",
    "DIMS = [2, 3, 5, 10, 20]\n",
    "alpha = 0.1\n",
    "results = []\n",
    "train_histories = []\n",
    "for hidden_dim in DIMS:\n",
    "    # run a few trainings and record the fraction of successful ones\n",
    "    successes = 0\n",
    "    ITER = 3\n",
    "    train_histories.append([])\n",
    "    for _ in range(ITER):\n",
    "        net = SmallNet(3, hidden_dim, dtype=torch.float64)\n",
    "        for i in range(10000 + 1):\n",
    "            _, loss = net.forward(X3, Y3, do_backward=True)\n",
    "\n",
    "            # if (i % 5000) == 0:\n",
    "            #     print(f\"after {i} steps \\tloss={loss}\")\n",
    "\n",
    "            if (i % 5000) == 0:\n",
    "                if len(train_histories[-1]) <= i//5000:\n",
    "                    train_histories[-1].append(loss)\n",
    "                else:\n",
    "                    train_histories[-1][i//5000] += loss\n",
    "                    train_histories[-1][i//5000] /= 2\n",
    "\n",
    "            for param_name in [\"W1\", \"b1\", \"W2\", \"b2\"]:\n",
    "                param = getattr(net, param_name)\n",
    "                param[:] = param - alpha * getattr(net, param_name + \"_grad\")\n",
    "        \n",
    "        predictions, loss = net.forward(X3, Y3, do_backward=True)\n",
    "        success = torch.allclose(predictions.round(), Y3)\n",
    "        print(loss, success)\n",
    "        successes += success\n",
    "\n",
    "    results.append(successes / ITER)\n",
    "    print(f\"hidden_dim={hidden_dim} success rate={results[-1]}\")\n",
    "\n",
    "plt.plot(DIMS, results)\n",
    "plt.xlabel(\"Hidden layer size\")\n",
    "plt.ylabel(\"Success rate\")\n",
    "plt.show()\n",
    "\n",
    "for i, history in enumerate(train_histories):\n",
    "    plt.plot(history, label=f\"hidden_dim={DIMS[i]}\")\n",
    "plt.xlabel(\"Training steps (x5000)\")\n",
    "plt.ylabel(\"Loss\")\n",
    "plt.legend()"
   ]
  },
  {
   "cell_type": "markdown",
   "metadata": {
    "cell_id": "00025-9703bd09-6aae-4830-8221-09b53a623e4b",
    "deepnote_app_coordinates": {
     "h": 5,
     "w": 12,
     "x": 0,
     "y": 150
    },
    "deepnote_cell_type": "markdown",
    "id": "UuaLEoV-9DLG"
   },
   "source": [
    "## Problem 4\n"
   ]
  },
  {
   "cell_type": "code",
   "execution_count": 10,
   "metadata": {},
   "outputs": [],
   "source": [
    "def sigmoid(x):\n",
    "    return 1 / (1 + pow(np.e, -x))\n",
    "\n",
    "def relu(x):\n",
    "    return torch.maximum(x, torch.tensor(0.0))\n",
    "\n",
    "\n",
    "class SmallNet_Z4:\n",
    "    def __init__(self, in_features: int, num_hidden: int, lr=0.1, dtype=torch.float32):\n",
    "        self.W1 = torch.zeros((num_hidden, in_features), dtype=dtype)\n",
    "        self.b1 = torch.zeros((num_hidden,), dtype=dtype)\n",
    "        self.W2 = torch.zeros((1, num_hidden), dtype=dtype)\n",
    "        self.b2 = torch.zeros((1,), dtype=dtype)\n",
    "        self.init_params(lr)\n",
    "\n",
    "    def init_params(self, lr=0.1):\n",
    "        torch.nn.init.normal_(self.W1, mean=0, std=0.5)\n",
    "        torch.nn.init.normal_(self.b1, mean=0, std=0.5)\n",
    "        torch.nn.init.normal_(self.W2, mean=0, std=0.5)\n",
    "        torch.nn.init.normal_(self.b2, mean=0, std=0.5)\n",
    "        self.lr = lr\n",
    "\n",
    "    def forward(self, X, Y=None, do_backward=False):\n",
    "        A1 = X @ self.W1.t() + self.b1\n",
    "        O1 = relu(A1)\n",
    "        A2 = O1 @ self.W2.t() + self.b2\n",
    "        O2 = sigmoid(A2)\n",
    "\n",
    "        if Y is not None:\n",
    "            eps = 1e-8\n",
    "            loss = -Y * torch.log(O2 + eps) - (1 - Y) * torch.log(1 - O2 + eps) # cross-entropy loss\n",
    "            loss = loss.sum() / X.shape[0]\n",
    "        else:\n",
    "            loss = torch.nan\n",
    "\n",
    "        if do_backward:\n",
    "            A2_grad = (O2 - Y) / X.shape[0]\n",
    "            self.b2_grad = A2_grad.sum(0)\n",
    "            self.W2_grad = A2_grad.t() @ O1\n",
    "            O1_grad = A2_grad @ self.W2\n",
    "            # A1_grad = O1_grad * O1 * (1 - O1)\n",
    "            A1_grad = O1_grad * (O1 > 0).float() # increase numerical stability\n",
    "            self.b1_grad = A1_grad.sum(0)\n",
    "            self.W1_grad = A1_grad.t() @ X\n",
    "\n",
    "            self.W1 -= self.lr * self.W1_grad\n",
    "            self.b1 -= self.lr * self.b1_grad\n",
    "            self.W2 -= self.lr * self.W2_grad\n",
    "            self.b2 -= self.lr * self.b2_grad\n",
    "\n",
    "\n",
    "        return O2, loss"
   ]
  },
  {
   "cell_type": "code",
   "execution_count": 11,
   "metadata": {
    "cell_id": "00026-1a2be430-91e0-4209-ab3f-9ef84c39513b",
    "deepnote_app_coordinates": {
     "h": 5,
     "w": 12,
     "x": 0,
     "y": 156
    },
    "deepnote_cell_type": "code",
    "id": "w3lk9_TM-MvK"
   },
   "outputs": [
    {
     "name": "stdout",
     "output_type": "stream",
     "text": [
      "after 0 steps \tloss=0.024507970233782622\n",
      "after 5000 steps \tloss=0.024507970233782622\n",
      "after 10000 steps \tloss=0.024507970233782622\n",
      "tensor(0.0245, dtype=torch.float64) True\n",
      "after 0 steps \tloss=0.024507970233782622\n",
      "after 5000 steps \tloss=0.024507970233782622\n",
      "after 10000 steps \tloss=0.024507970233782622\n",
      "tensor(0.0245, dtype=torch.float64) True\n",
      "after 0 steps \tloss=0.024507970233782622\n",
      "after 5000 steps \tloss=0.024507970233782622\n",
      "after 10000 steps \tloss=0.024507970233782622\n",
      "tensor(0.0245, dtype=torch.float64) True\n",
      "hidden_dim=2 success rate=1.0\n",
      "after 0 steps \tloss=0.024507970233782622\n",
      "after 5000 steps \tloss=0.024507970233782622\n",
      "after 10000 steps \tloss=0.024507970233782622\n",
      "tensor(0.0245, dtype=torch.float64) True\n",
      "after 0 steps \tloss=0.024507970233782622\n",
      "after 5000 steps \tloss=0.024507970233782622\n",
      "after 10000 steps \tloss=0.024507970233782622\n",
      "tensor(0.0245, dtype=torch.float64) True\n",
      "after 0 steps \tloss=0.024507970233782622\n",
      "after 5000 steps \tloss=0.024507970233782622\n",
      "after 10000 steps \tloss=0.024507970233782622\n",
      "tensor(0.0245, dtype=torch.float64) True\n",
      "hidden_dim=3 success rate=1.0\n",
      "after 0 steps \tloss=0.024507970233782622\n",
      "after 5000 steps \tloss=0.024507970233782622\n",
      "after 10000 steps \tloss=0.024507970233782622\n",
      "tensor(0.0245, dtype=torch.float64) True\n",
      "after 0 steps \tloss=0.024507970233782622\n",
      "after 5000 steps \tloss=0.024507970233782622\n",
      "after 10000 steps \tloss=0.024507970233782622\n",
      "tensor(0.0245, dtype=torch.float64) True\n",
      "after 0 steps \tloss=0.024507970233782622\n",
      "after 5000 steps \tloss=0.024507970233782622\n",
      "after 10000 steps \tloss=0.024507970233782622\n",
      "tensor(0.0245, dtype=torch.float64) True\n",
      "hidden_dim=5 success rate=1.0\n",
      "after 0 steps \tloss=0.024507970233782622\n",
      "after 5000 steps \tloss=0.024507970233782622\n",
      "after 10000 steps \tloss=0.024507970233782622\n",
      "tensor(0.0245, dtype=torch.float64) True\n",
      "after 0 steps \tloss=0.024507970233782622\n",
      "after 5000 steps \tloss=0.024507970233782622\n",
      "after 10000 steps \tloss=0.024507970233782622\n",
      "tensor(0.0245, dtype=torch.float64) True\n",
      "after 0 steps \tloss=0.024507970233782622\n",
      "after 5000 steps \tloss=0.024507970233782622\n",
      "after 10000 steps \tloss=0.024507970233782622\n",
      "tensor(0.0245, dtype=torch.float64) True\n",
      "hidden_dim=10 success rate=1.0\n",
      "after 0 steps \tloss=0.024507970233782622\n",
      "after 5000 steps \tloss=0.024507970233782622\n",
      "after 10000 steps \tloss=0.024507970233782622\n",
      "tensor(0.0245, dtype=torch.float64) True\n",
      "after 0 steps \tloss=0.024507970233782622\n",
      "after 5000 steps \tloss=0.024507970233782622\n",
      "after 10000 steps \tloss=0.024507970233782622\n",
      "tensor(0.0245, dtype=torch.float64) True\n",
      "after 0 steps \tloss=0.024507970233782622\n",
      "after 5000 steps \tloss=0.024507970233782622\n",
      "after 10000 steps \tloss=0.024507970233782622\n",
      "tensor(0.0245, dtype=torch.float64) True\n",
      "hidden_dim=20 success rate=1.0\n"
     ]
    },
    {
     "data": {
      "image/png": "[encoded data removed]",
      "text/plain": [
       "<Figure size 640x480 with 1 Axes>"
      ]
     },
     "metadata": {},
     "output_type": "display_data"
    },
    {
     "data": {
      "text/plain": [
       "<matplotlib.legend.Legend at 0x25957ef3fe0>"
      ]
     },
     "execution_count": 11,
     "metadata": {},
     "output_type": "execute_result"
    },
    {
     "data": {
      "image/png": "[encoded data removed]",
      "text/plain": [
       "<Figure size 640x480 with 1 Axes>"
      ]
     },
     "metadata": {},
     "output_type": "display_data"
    }
   ],
   "source": [
    "# 3D XOR:\n",
    "# Generate data for a 3D XOR task\n",
    "# Then estimate the success rate of training the network with diferent\n",
    "# hidden sizes.\n",
    "\n",
    "X3 = torch.tensor([[0, 0, 0], [0, 0, 1], [0, 1, 0], [0, 1, 1],\n",
    "                   [1, 0, 0], [1, 0, 1], [1, 1, 0], [1, 1, 1]], dtype=torch.float64)\n",
    "Y3 = torch.tensor([[0], [1], [1], [0], [1], [0], [0], [1]], dtype=torch.float64)\n",
    "\n",
    "def relu(x):\n",
    "    return torch.maximum(x, torch.zeros_like(x))\n",
    "\n",
    "DIMS = [2, 3, 5, 10, 20]\n",
    "results = []\n",
    "train_histories = []\n",
    "for hidden_dim in DIMS:\n",
    "    # run a few trainings and record the fraction of successful ones\n",
    "    successes = 0\n",
    "    ITER = 3\n",
    "    train_histories.append([])\n",
    "    for _ in range(ITER):\n",
    "        net_z4 = SmallNet_Z4(3, hidden_dim, dtype=torch.float64)\n",
    "        for i in range(10000 + 1):\n",
    "            _, loss = net.forward(X3, Y3, do_backward=True)\n",
    "\n",
    "            if (i % 5000) == 0:\n",
    "                print(f\"after {i} steps \\tloss={loss}\")\n",
    "\n",
    "            if (i % 5000) == 0:\n",
    "                if len(train_histories[-1]) <= i//5000:\n",
    "                    train_histories[-1].append(loss)\n",
    "                else:\n",
    "                    train_histories[-1][i//5000] += loss\n",
    "                    train_histories[-1][i//5000] /= 2\n",
    "\n",
    "        predictions, loss = net.forward(X3, Y3, do_backward=True)\n",
    "        success = torch.allclose(predictions.round(), Y3)\n",
    "        print(loss, success)\n",
    "        successes += success\n",
    "\n",
    "    results.append(successes / ITER)\n",
    "    print(f\"hidden_dim={hidden_dim} success rate={results[-1]}\")\n",
    "\n",
    "plt.plot(DIMS, results)\n",
    "plt.xlabel(\"Hidden layer size\")\n",
    "plt.ylabel(\"Success rate\")\n",
    "plt.show()\n",
    "\n",
    "for i, history in enumerate(train_histories):\n",
    "    plt.plot(history, label=f\"hidden_dim={DIMS[i]}\")\n",
    "plt.xlabel(\"Training steps (x5000)\")\n",
    "plt.ylabel(\"Loss\")\n",
    "plt.legend()"
   ]
  },
  {
   "cell_type": "markdown",
   "metadata": {
    "cell_id": "00027-de8a387d-3b6a-48d5-b6c8-fddf13637e38",
    "deepnote_app_coordinates": {
     "h": 5,
     "w": 12,
     "x": 0,
     "y": 162
    },
    "deepnote_cell_type": "markdown",
    "id": "_Hr_iAKX-ND1"
   },
   "source": [
    "## Problem 5"
   ]
  },
  {
   "cell_type": "code",
   "execution_count": 12,
   "metadata": {
    "cell_id": "00028-0aa6ea62-907d-44bf-9ba4-71870d3dd547",
    "deepnote_app_coordinates": {
     "h": 5,
     "w": 12,
     "x": 0,
     "y": 168
    },
    "deepnote_cell_type": "code",
    "id": "rnz6CndQ-NRI"
   },
   "outputs": [],
   "source": [
    "def sigmoid(x):\n",
    "    return 1 / (1 + pow(np.e, -x))\n",
    "\n",
    "def relu(x):\n",
    "    return torch.maximum(x, torch.tensor(0.0))\n",
    "\n",
    "\n",
    "class SmallNet_Z5:\n",
    "    def __init__(self, in_features: int, num_hidden, lr=0.1, dtype=torch.float32):\n",
    "        self.W1 = torch.zeros((num_hidden[0], in_features), dtype=dtype)\n",
    "        self.b1 = torch.zeros((num_hidden[0],), dtype=dtype)\n",
    "        self.W2 = torch.zeros((num_hidden[1], num_hidden[0]), dtype=dtype)\n",
    "        self.b2 = torch.zeros((num_hidden[1],), dtype=dtype)\n",
    "        self.W3 = torch.zeros((1, num_hidden[1]), dtype=dtype)\n",
    "        self.b3 = torch.zeros((1,), dtype=dtype)\n",
    "        self.init_params(lr)\n",
    "\n",
    "    def init_params(self, lr):\n",
    "        torch.nn.init.normal_(self.W1, mean=0, std=0.5)\n",
    "        torch.nn.init.normal_(self.b1, mean=0, std=0.5)\n",
    "        torch.nn.init.normal_(self.W2, mean=0, std=0.5)\n",
    "        torch.nn.init.normal_(self.b2, mean=0, std=0.5)\n",
    "        torch.nn.init.normal_(self.W3, mean=0, std=0.5)\n",
    "        torch.nn.init.normal_(self.b3, mean=0, std=0.5)\n",
    "        self.lr = lr\n",
    "\n",
    "    def forward(self, X, Y=None, do_backward=False):\n",
    "        A1 = X @ self.W1.t() + self.b1\n",
    "        O1 = sigmoid(A1)\n",
    "        A2 = O1 @ self.W2.t() + self.b2\n",
    "        O2 = sigmoid(A2)\n",
    "        A3 = O2 @ self.W3.t() + self.b3\n",
    "        O3 = sigmoid(A3)\n",
    "\n",
    "        if Y is not None:\n",
    "            eps = 1e-8\n",
    "            loss = -Y * torch.log(O3 + eps) - (1 - Y) * torch.log(1 - O3 + eps) # cross-entropy loss\n",
    "            loss = loss.sum() / X.shape[0]\n",
    "        else:\n",
    "            loss = torch.nan\n",
    "\n",
    "        if do_backward:\n",
    "            A3_grad = (O3 - Y) / X.shape[0]\n",
    "            self.b3_grad = A3_grad.sum(0)\n",
    "            self.W3_grad = A3_grad.t() @ O2\n",
    "            O2_grad = A3_grad @ self.W3\n",
    "\n",
    "            A2_grad = O2_grad * O2 * (1 - O2)\n",
    "            self.b2_grad = A2_grad.sum(0)\n",
    "            self.W2_grad = A2_grad.t() @ O1\n",
    "            O1_grad = A2_grad @ self.W2\n",
    "\n",
    "            A1_grad = O1_grad * O1 * (1 - O1)\n",
    "            self.b1_grad = A1_grad.sum(0)\n",
    "            self.W1_grad = A1_grad.t() @ X\n",
    "\n",
    "            self.W1 -= self.lr * self.W1_grad\n",
    "            self.b1 -= self.lr * self.b1_grad\n",
    "            self.W2 -= self.lr * self.W2_grad\n",
    "            self.b2 -= self.lr * self.b2_grad\n",
    "            self.W3 -= self.lr * self.W3_grad\n",
    "            self.b3 -= self.lr * self.b3_grad\n",
    "\n",
    "\n",
    "        return O2, loss"
   ]
  },
  {
   "cell_type": "code",
   "execution_count": 13,
   "metadata": {},
   "outputs": [
    {
     "name": "stdout",
     "output_type": "stream",
     "text": [
      "after 0 steps \tloss=0.7620128796537422\n",
      "after 5000 steps \tloss=0.004489165814203034\n",
      "after 10000 steps \tloss=0.0016945255821270403\n",
      "after 15000 steps \tloss=0.0009981825534234148\n",
      "after 20000 steps \tloss=0.0006936255436933668\n",
      "XORnet(tensor([0., 0., 0.], dtype=torch.float64)) = 0.023034250635993517\n",
      "XORnet(tensor([0., 0., 1.], dtype=torch.float64)) = 0.9714574902183252\n",
      "XORnet(tensor([0., 1., 0.], dtype=torch.float64)) = 0.9766452097862877\n",
      "XORnet(tensor([0., 1., 1.], dtype=torch.float64)) = 0.018834543507748592\n",
      "XORnet(tensor([1., 0., 0.], dtype=torch.float64)) = 0.9737950586963007\n",
      "XORnet(tensor([1., 0., 1.], dtype=torch.float64)) = 0.03464376324384454\n",
      "XORnet(tensor([1., 1., 0.], dtype=torch.float64)) = 0.021388580473864896\n",
      "XORnet(tensor([1., 1., 1.], dtype=torch.float64)) = 0.9824328786513788\n"
     ]
    }
   ],
   "source": [
    "net_z5 = SmallNet_Z5(3, [10, 10], dtype=torch.float64)\n",
    "\n",
    "X3 = torch.tensor([[0, 0, 0], [0, 0, 1], [0, 1, 0], [0, 1, 1],\n",
    "                   [1, 0, 0], [1, 0, 1], [1, 1, 0], [1, 1, 1]], dtype=torch.float64)\n",
    "Y3 = torch.tensor([[0], [1], [1], [0], [1], [0], [0], [1]], dtype=torch.float64)\n",
    "\n",
    "for i in range(20000 + 1):\n",
    "    _, loss = net_z4.forward(X3, Y3, do_backward=True)\n",
    "    if (i % 5000) == 0:\n",
    "        print(f\"after {i} steps \\tloss={loss}\")\n",
    "\n",
    "predictions, loss = net.forward(X3, Y3, do_backward=True)\n",
    "for x, p in zip(X3, predictions):\n",
    "    print(f\"XORnet({x}) = {p[0]}\")"
   ]
  },
  {
   "cell_type": "markdown",
   "metadata": {
    "cell_id": "00029-1de44bc6-5f35-4df3-af9a-408291ccc867",
    "deepnote_app_coordinates": {
     "h": 5,
     "w": 12,
     "x": 0,
     "y": 174
    },
    "deepnote_cell_type": "markdown",
    "id": "4PcNxrCt-NcN"
   },
   "source": [
    "## Problem 6"
   ]
  },
  {
   "cell_type": "code",
   "execution_count": 14,
   "metadata": {
    "cell_id": "00030-fdaced74-34ab-4cfc-8fa2-f3a0b012fbf2",
    "deepnote_app_coordinates": {
     "h": 5,
     "w": 12,
     "x": 0,
     "y": 180
    },
    "deepnote_cell_type": "code",
    "id": "6Brepirl-Nln"
   },
   "outputs": [],
   "source": [
    "def sigmoid(x):\n",
    "    return 1 / (1 + torch.exp(-x))\n",
    "\n",
    "def relu(x):\n",
    "    return torch.maximum(x, torch.tensor(0.0))\n",
    "\n",
    "class SmallNet_Z6:\n",
    "    def __init__(self, in_features: int, num_layers: int, num_hidden: int, lr=0.1, dtype=torch.float32):\n",
    "        self.W = [torch.zeros((num_hidden, in_features), dtype=dtype)]\n",
    "        self.b = [torch.zeros((num_hidden,), dtype=dtype)]\n",
    "        \n",
    "        for _ in range(1, num_layers):\n",
    "            self.W.append(torch.zeros((num_hidden, num_hidden), dtype=dtype))\n",
    "            self.b.append(torch.zeros((num_hidden,), dtype=dtype))\n",
    "        \n",
    "        self.W.append(torch.zeros((1, num_hidden), dtype=dtype))\n",
    "        self.b.append(torch.zeros((1,), dtype=dtype))\n",
    "\n",
    "        self.init_params(lr)\n",
    "\n",
    "    def init_params(self, lr):\n",
    "        for i in range(len(self.W)):\n",
    "            torch.nn.init.normal_(self.W[i], mean=0, std=0.5)\n",
    "            torch.nn.init.normal_(self.b[i], mean=0, std=0.5)\n",
    "        self.lr = lr\n",
    "\n",
    "    def forward(self, X, Y=None, do_backward=False):\n",
    "        A = [X @ self.W[0].t() + self.b[0]]\n",
    "        O = [sigmoid(A[0])]\n",
    "        \n",
    "        for i in range(1, len(self.W)):\n",
    "            A.append(O[-1] @ self.W[i].t() + self.b[i])\n",
    "            O.append(sigmoid(A[-1]))\n",
    "        \n",
    "        if Y is not None:\n",
    "            eps = 1e-8\n",
    "            loss = -Y * torch.log(O[-1] + eps) - (1 - Y) * torch.log(1 - O[-1] + eps)\n",
    "            loss = loss.sum() / X.shape[0]\n",
    "        else:\n",
    "            loss = torch.nan\n",
    "        \n",
    "        if do_backward:\n",
    "            # A3_grad = (O3 - Y) / X.shape[0]\n",
    "\n",
    "            # self.b3_grad = A3_grad.sum(0)\n",
    "            # self.W3_grad = A3_grad.t() @ O2\n",
    "            # O2_grad = A3_grad @ self.W3\n",
    "            # A2_grad = O2_grad * O2 * (1 - O2)\n",
    "\n",
    "            # self.b2_grad = A2_grad.sum(0)\n",
    "            # self.W2_grad = A2_grad.t() @ O1\n",
    "            # O1_grad = A2_grad @ self.W2\n",
    "\n",
    "            # A1_grad = O1_grad * O1 * (1 - O1)\n",
    "            # self.b1_grad = A1_grad.sum(0)\n",
    "            # self.W1_grad = A1_grad.t() @ X\n",
    "\n",
    "            A_grad = (O[-1] - Y) / X.shape[0]\n",
    "            self.b_grad = []\n",
    "            self.W_grad = []\n",
    "            \n",
    "            for i in range(len(self.W) - 1, 0, -1):\n",
    "                self.b_grad.append(A_grad.sum(0))\n",
    "                self.W_grad.append(A_grad.t() @ O[i - 1])\n",
    "                A_grad = (A_grad @ self.W[i]) * O[i - 1] * (1 - O[i - 1])\n",
    "\n",
    "            self.b_grad.append(A_grad.sum(0))\n",
    "            self.W_grad.append(A_grad.t() @ X)\n",
    "\n",
    "            self.W_grad.reverse()\n",
    "            self.b_grad.reverse()\n",
    "\n",
    "            for i in range(len(self.W)):\n",
    "                self.W[i] -= self.lr * self.W_grad[i]\n",
    "                self.b[i] -= self.lr * self.b_grad[i]\n",
    "\n",
    "        return O[-1], loss"
   ]
  },
  {
   "cell_type": "code",
   "execution_count": 15,
   "metadata": {},
   "outputs": [
    {
     "name": "stdout",
     "output_type": "stream",
     "text": [
      "after 0 steps \tloss=0.6979882062088705\n",
      "after 5000 steps \tloss=0.6931440173561249\n",
      "after 10000 steps \tloss=0.6931439888232755\n",
      "after 15000 steps \tloss=0.6931439602390872\n",
      "after 20000 steps \tloss=0.6931439316023884\n",
      "XORnet(tensor([0., 0., 0.], dtype=torch.float64)) = 0.023034250635993517\n",
      "XORnet(tensor([0., 0., 1.], dtype=torch.float64)) = 0.9714574902183252\n",
      "XORnet(tensor([0., 1., 0.], dtype=torch.float64)) = 0.9766452097862877\n",
      "XORnet(tensor([0., 1., 1.], dtype=torch.float64)) = 0.018834543507748592\n",
      "XORnet(tensor([1., 0., 0.], dtype=torch.float64)) = 0.9737950586963007\n",
      "XORnet(tensor([1., 0., 1.], dtype=torch.float64)) = 0.03464376324384454\n",
      "XORnet(tensor([1., 1., 0.], dtype=torch.float64)) = 0.021388580473864896\n",
      "XORnet(tensor([1., 1., 1.], dtype=torch.float64)) = 0.9824328786513788\n"
     ]
    }
   ],
   "source": [
    "net = SmallNet_Z6(3, 5, 10, 0.01, dtype=torch.float64)\n",
    "\n",
    "X3 = torch.tensor([[0, 0, 0], [0, 0, 1], [0, 1, 0], [0, 1, 1],\n",
    "                   [1, 0, 0], [1, 0, 1], [1, 1, 0], [1, 1, 1]], dtype=torch.float64)\n",
    "Y3 = torch.tensor([[0], [1], [1], [0], [1], [0], [0], [1]], dtype=torch.float64)\n",
    "\n",
    "for i in range(20000 + 1):\n",
    "    _, loss = net.forward(X3, Y3, do_backward=True)\n",
    "\n",
    "    if (i % 5000) == 0:\n",
    "        print(f\"after {i} steps \\tloss={loss}\")\n",
    "\n",
    "for x, p in zip(X3, predictions):\n",
    "    print(f\"XORnet({x}) = {p[0]}\")"
   ]
  },
  {
   "cell_type": "markdown",
   "metadata": {
    "cell_id": "00031-032edb86-1c56-46e7-8ea3-3e011d72bf5f",
    "deepnote_app_coordinates": {
     "h": 5,
     "w": 12,
     "x": 0,
     "y": 186
    },
    "deepnote_cell_type": "markdown",
    "id": "nWuv7Q77-Nut"
   },
   "source": [
    "## Problem 7"
   ]
  },
  {
   "cell_type": "markdown",
   "metadata": {},
   "source": [
    "Consider the following function $\\boldsymbol f: \\mathbb R^n \\to \\mathbb R^k$:\n",
    "$$ \\hat{\\boldsymbol y} := \\boldsymbol f(\\boldsymbol x\\,;\\,\\,W, \\boldsymbol b) = \\mathrm{softmax}(\\boldsymbol z) \\qquad (\\boldsymbol x \\in \\mathbb R^{n}, \\, W \\in\\mathbb R^{k\\times n}, \\, \\boldsymbol b \\in \\mathbb R^k), $$\n",
    "where $$ \\boldsymbol z = W  \\boldsymbol x + \\boldsymbol b $$\n",
    "and $W, \\boldsymbol b$ are the parameters.\n",
    "\n",
    "$$ \\hat{\\boldsymbol y}_i = \\frac{\\exp(\\boldsymbol z_i)}{\\sum_{j=1}^k \\exp(z_j)} = \\frac{\\exp(\\boldsymbol z_i)}{\\boldsymbol S} \\qquad \\boldsymbol z = (z_1, \\ldots, z_k) $$\n",
    "\n",
    "Analytically derive the form of the following gradients:\n"
   ]
  },
  {
   "cell_type": "markdown",
   "metadata": {},
   "source": [
    "\n",
    "$$ \\frac{\\partial \\hat{\\boldsymbol y}}{\\boldsymbol z} = \\ldots $$\n",
    "\n",
    "$$ \\frac{\\partial \\hat{\\boldsymbol y}_i}{\\partial z_j} = \n",
    "\\frac{S (\\exp(z_i))' - \\exp(z_i) \\exp(z_j)}{S^2} =\n",
    "\n",
    "\\begin{cases}\n",
    "\\frac{S \\exp(z_i) - \\exp(2 z_i)}{(S)^2}\n",
    "= \\frac{\\exp(z_i)}{S} (\\frac{S - \\exp(z_i)}{S})\n",
    "= \\hat{\\boldsymbol y}_i (1 - \\hat{\\boldsymbol y}_i) & \\text{if } i = j \\\\\n",
    "\n",
    "\\frac{0 - \\exp(z_i) \\exp(z_j)}{S^2} = - \\frac{\\exp(z_i)}{S} \\frac{\\exp(z_j)}{S} =\n",
    "-\\hat{\\boldsymbol y}_i \\hat{\\boldsymbol y}_j & \\text{if } i \\neq j\n",
    "\\end{cases} \n",
    "$$"
   ]
  },
  {
   "cell_type": "markdown",
   "metadata": {},
   "source": [
    "\n",
    "$$ \\frac{\\partial \\hat{\\boldsymbol y}}{W_{ij}} = \\ldots $$\n"
   ]
  },
  {
   "cell_type": "markdown",
   "metadata": {},
   "source": [
    "\n",
    "$$ \\frac{\\partial \\hat{\\boldsymbol y}}{\\boldsymbol b} = \\ldots $$"
   ]
  }
 ],
 "metadata": {
  "colab": {
   "collapsed_sections": [],
   "include_colab_link": true,
   "name": "Assignment1.ipynb",
   "provenance": []
  },
  "deepnote": {},
  "deepnote_app_layout": "article",
  "deepnote_execution_queue": [],
  "deepnote_notebook_id": "1f038069-bae5-44e5-92ba-67bdff2c54a6",
  "kernelspec": {
   "display_name": "Python 3",
   "language": "python",
   "name": "python3"
  },
  "language_info": {
   "codemirror_mode": {
    "name": "ipython",
    "version": 3
   },
   "file_extension": ".py",
   "mimetype": "text/x-python",
   "name": "python",
   "nbconvert_exporter": "python",
   "pygments_lexer": "ipython3",
   "version": "3.12.6"
  }
 },
 "nbformat": 4,
 "nbformat_minor": 1
}
