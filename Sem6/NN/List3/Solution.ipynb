{
  "cells": [
    {
      "cell_type": "markdown",
      "id": "5d7da195",
      "metadata": {
        "id": "5d7da195"
      },
      "source": [
        "# Q&A\n",
        "* how to determine data split between train, validation and test sets? Since we cannot use the test set for any observation, is it even possible?  \n",
        "* is there conv3d, to use for the viedo data?\n",
        "* maxpool vs avgpool?\n",
        "* why big filters do not improve the performance by much?\n",
        "* how to manage memory correctly? because i think that my current code does generate some trash, that is noe beeing removes (as from time to time i use all available memory, but it appears to be rather random)\n",
        "* increasing the batch size seems to improve the performance, but worsen the validation accuracy"
      ]
    },
    {
      "cell_type": "markdown",
      "id": "e98eeaba",
      "metadata": {
        "id": "e98eeaba"
      },
      "source": [
        "# Setup"
      ]
    },
    {
      "cell_type": "markdown",
      "id": "e0358b4a",
      "metadata": {
        "id": "e0358b4a"
      },
      "source": [
        "## Libraries"
      ]
    },
    {
      "cell_type": "code",
      "execution_count": 3,
      "id": "c858342a",
      "metadata": {
        "id": "c858342a"
      },
      "outputs": [],
      "source": [
        "%matplotlib inline"
      ]
    },
    {
      "cell_type": "code",
      "execution_count": 4,
      "id": "86fbd696",
      "metadata": {
        "colab": {
          "base_uri": "https://localhost:8080/",
          "height": 0
        },
        "id": "86fbd696",
        "outputId": "3947a4ea-f727-4507-a2e6-29a031312fb3"
      },
      "outputs": [],
      "source": [
        "# !pip install matplotlib torch torchvision numpy pandas scikit-learn wandb"
      ]
    },
    {
      "cell_type": "code",
      "execution_count": 5,
      "id": "f70dc75a",
      "metadata": {
        "id": "f70dc75a"
      },
      "outputs": [
        {
          "name": "stderr",
          "output_type": "stream",
          "text": [
            "c:\\Users\\patry\\AppData\\Local\\Programs\\Python\\Python312\\Lib\\site-packages\\tqdm\\auto.py:21: TqdmWarning: IProgress not found. Please update jupyter and ipywidgets. See https://ipywidgets.readthedocs.io/en/stable/user_install.html\n",
            "  from .autonotebook import tqdm as notebook_tqdm\n"
          ]
        }
      ],
      "source": [
        "import os\n",
        "import time\n",
        "\n",
        "import matplotlib.pyplot as plt\n",
        "import numpy as np\n",
        "from IPython.display import clear_output\n",
        "from tqdm.auto import tqdm\n",
        "\n",
        "import torch\n",
        "import torch.nn.functional as F\n",
        "import torchvision\n",
        "import torchvision.transforms as transforms\n",
        "from torch import nn\n",
        "\n",
        "import wandb\n",
        "\n",
        "from io import StringIO\n",
        "import sys"
      ]
    },
    {
      "cell_type": "markdown",
      "id": "3b65df0e",
      "metadata": {
        "id": "3b65df0e"
      },
      "source": [
        "## Config"
      ]
    },
    {
      "cell_type": "code",
      "execution_count": 6,
      "id": "YLp4g5mXRyXJ",
      "metadata": {
        "id": "YLp4g5mXRyXJ"
      },
      "outputs": [],
      "source": [
        "batch_size = 64"
      ]
    },
    {
      "cell_type": "code",
      "execution_count": 7,
      "id": "ed6df5ac",
      "metadata": {
        "colab": {
          "base_uri": "https://localhost:8080/",
          "height": 0
        },
        "id": "ed6df5ac",
        "outputId": "1f9b3c37-12a8-4e8c-8906-f9008526da58"
      },
      "outputs": [
        {
          "name": "stdout",
          "output_type": "stream",
          "text": [
            "Using device: cuda\n"
          ]
        }
      ],
      "source": [
        "_device = torch.device(\"cuda\" if torch.cuda.is_available() else \"cpu\")\n",
        "print(f\"Using device: {_device}\")"
      ]
    },
    {
      "cell_type": "code",
      "execution_count": 8,
      "id": "zzFnCNzTPqjo",
      "metadata": {
        "id": "zzFnCNzTPqjo"
      },
      "outputs": [],
      "source": [
        "data_augmentation = True"
      ]
    },
    {
      "cell_type": "markdown",
      "id": "9DEJDmrwRfS4",
      "metadata": {
        "id": "9DEJDmrwRfS4"
      },
      "source": [
        "### Helpers\n"
      ]
    },
    {
      "cell_type": "code",
      "execution_count": 9,
      "id": "ERM06sq1RhvE",
      "metadata": {
        "id": "ERM06sq1RhvE"
      },
      "outputs": [],
      "source": [
        "# https://stackoverflow.com/questions/16571150/how-to-capture-stdout-output-from-a-python-function-call\n",
        "\n",
        "class Capturing(list):\n",
        "    def __enter__(self):\n",
        "        self._stdout = sys.stdout\n",
        "        sys.stdout = self._stringio = StringIO()\n",
        "        return self\n",
        "    def __exit__(self, *args):\n",
        "        self.extend(self._stringio.getvalue().splitlines())\n",
        "        del self._stringio    # free up some memory\n",
        "        sys.stdout = self._stdout\n"
      ]
    },
    {
      "cell_type": "markdown",
      "id": "e741ab63",
      "metadata": {
        "id": "e741ab63"
      },
      "source": [
        "## Import data\n",
        "**About data:** The dataset consists of 102 flower categories, and each class has between 40 and 258 images. The images have large scale, pose, and light variations. In addition, there are categories that have large variations within the category and several very similar categories.  \n",
        "The default split of the dataset is 1020, 1020 and 6149 images for training, validation and test sets respectively.\n",
        "If you can handle the bigger training dataset, you can experiment by taking up to 80% of the test set for training."
      ]
    },
    {
      "cell_type": "markdown",
      "id": "cbf3227e",
      "metadata": {},
      "source": [
        "### Custom data loader"
      ]
    },
    {
      "cell_type": "code",
      "execution_count": 10,
      "id": "312c2351",
      "metadata": {
        "id": "312c2351"
      },
      "outputs": [],
      "source": [
        "class InMemDataLoader(object):\n",
        "    \"\"\"\n",
        "    A data loader that keeps all data in CPU or GPU memory.\n",
        "    \"\"\"\n",
        "\n",
        "    __initialized = False\n",
        "\n",
        "    def __init__(\n",
        "        self,\n",
        "        dataset,\n",
        "        batch_size=1,\n",
        "        shuffle=False,\n",
        "        sampler=None,\n",
        "        batch_sampler=None,\n",
        "        drop_last=False,\n",
        "    ):\n",
        "        \"\"\"A torch dataloader that fetches data from memory.\"\"\"\n",
        "        batches = []\n",
        "        for i in tqdm(range(len(dataset))):\n",
        "            batch = [torch.tensor(t) for t in dataset[i]]\n",
        "            batches.append(batch)\n",
        "        tensors = [torch.stack(ts) for ts in zip(*batches)]\n",
        "        dataset = torch.utils.data.TensorDataset(*tensors)\n",
        "        self.dataset = dataset\n",
        "        self.batch_size = batch_size\n",
        "        self.drop_last = drop_last\n",
        "\n",
        "        if batch_sampler is not None:\n",
        "            if batch_size > 1 or shuffle or sampler is not None or drop_last:\n",
        "                raise ValueError(\n",
        "                    \"batch_sampler option is mutually exclusive \"\n",
        "                    \"with batch_size, shuffle, sampler, and \"\n",
        "                    \"drop_last\"\n",
        "                )\n",
        "            self.batch_size = None\n",
        "            self.drop_last = None\n",
        "\n",
        "        if sampler is not None and shuffle:\n",
        "            raise ValueError(\"sampler option is mutually exclusive with \" \"shuffle\")\n",
        "\n",
        "        if batch_sampler is None:\n",
        "            if sampler is None:\n",
        "                if shuffle:\n",
        "                    sampler = torch.utils.data.RandomSampler(dataset)\n",
        "                else:\n",
        "                    sampler = torch.utils.data.SequentialSampler(dataset)\n",
        "            batch_sampler = torch.utils.data.BatchSampler(\n",
        "                sampler, batch_size, drop_last\n",
        "            )\n",
        "\n",
        "        self.sampler = sampler\n",
        "        self.batch_sampler = batch_sampler\n",
        "        self.__initialized = True\n",
        "\n",
        "    def __setattr__(self, attr, val):\n",
        "        if self.__initialized and attr in (\"batch_size\", \"sampler\", \"drop_last\"):\n",
        "            raise ValueError(\n",
        "                \"{} attribute should not be set after {} is \"\n",
        "                \"initialized\".format(attr, self.__class__.__name__)\n",
        "            )\n",
        "\n",
        "        super(InMemDataLoader, self).__setattr__(attr, val)\n",
        "\n",
        "    def __iter__(self):\n",
        "        for batch_indices in self.batch_sampler:\n",
        "            yield self.dataset[batch_indices]\n",
        "\n",
        "    def __len__(self):\n",
        "        return len(self.batch_sampler)\n",
        "\n",
        "    def to(self, device):\n",
        "        self.dataset.tensors = tuple(t.to(device) for t in self.dataset.tensors)\n",
        "        return self"
      ]
    },
    {
      "cell_type": "markdown",
      "id": "cce5b9c2",
      "metadata": {},
      "source": [
        "### Data loading function"
      ]
    },
    {
      "cell_type": "code",
      "execution_count": 11,
      "id": "6c46a09f",
      "metadata": {
        "id": "6c46a09f"
      },
      "outputs": [],
      "source": [
        "def load_flowers(\n",
        "    batch_size=64,\n",
        "    test_train_valid_percent=(0.1, 0.8, 0.1),\n",
        "    train_transform=None,\n",
        "    eval_transform=None,\n",
        "    Loader=torch.utils.data.DataLoader,\n",
        "):\n",
        "    \"\"\"\n",
        "    Load the flowers dataset with the given batch size and transformation.\n",
        "    The dataset is split into train, validation, and test sets according to the specified percentages.\n",
        "    The data is loaded using the specified loader class.\n",
        "    \"\"\"\n",
        "\n",
        "    if train_transform is None:\n",
        "        train_transform = transforms.Compose([\n",
        "            transforms.Resize((224, 224)),\n",
        "\n",
        "            transforms.RandomResizedCrop(224, scale=(0.8, 1.0)),\n",
        "            transforms.RandomRotation(15),\n",
        "            transforms.RandomHorizontalFlip(),\n",
        "            transforms.RandomAdjustSharpness(sharpness_factor=2),\n",
        "            transforms.ColorJitter(brightness=0.2, contrast=0.2, saturation=0.2),\n",
        "\n",
        "            transforms.ToTensor(),\n",
        "            transforms.Normalize((0.5, 0.5, 0.5), (0.5, 0.5, 0.5)),\n",
        "        ])\n",
        "    if eval_transform is None:\n",
        "        eval_transform = transforms.Compose([\n",
        "            transforms.Resize((224, 224)),\n",
        "            transforms.ToTensor(),\n",
        "            transforms.Normalize((0.5, 0.5, 0.5), (0.5, 0.5, 0.5)),\n",
        "        ])\n",
        "\n",
        "\n",
        "    test_percent, train_percent, valid_percent = test_train_valid_percent\n",
        "\n",
        "    # TRAIN\n",
        "    train = torchvision.datasets.Flowers102(\n",
        "        root='./data', split='train', download=True,\n",
        "        transform=train_transform if data_augmentation else eval_transform\n",
        "    )\n",
        "    train = torch.utils.data.Subset(train, range(int(len(train) * train_percent)))\n",
        "\n",
        "    # TEST\n",
        "    test = torchvision.datasets.Flowers102(\n",
        "        root='./data', split='test', download=True, transform=eval_transform\n",
        "    )\n",
        "    test = torch.utils.data.Subset(test, range(int(len(test) * test_percent)))\n",
        "\n",
        "    # VALID\n",
        "    valid = torchvision.datasets.Flowers102(\n",
        "        root='./data', split='val', download=True, transform=eval_transform\n",
        "    )\n",
        "    valid = torch.utils.data.Subset(valid, range(int(len(valid) * valid_percent)))\n",
        "\n",
        "    data_loaders = {\n",
        "        'train': Loader(train, batch_size=batch_size, shuffle=True),\n",
        "        'valid': Loader(valid, batch_size=batch_size, shuffle=True),\n",
        "        'test': Loader(test, batch_size=batch_size, shuffle=True),\n",
        "    }\n",
        "\n",
        "    return data_loaders\n"
      ]
    },
    {
      "cell_type": "code",
      "execution_count": 12,
      "id": "4fa70c39",
      "metadata": {},
      "outputs": [
        {
          "name": "stderr",
          "output_type": "stream",
          "text": [
            "  0%|          | 0/1020 [00:00<?, ?it/s]C:\\Users\\patry\\AppData\\Local\\Temp\\ipykernel_4524\\2199848925.py:20: UserWarning: To copy construct from a tensor, it is recommended to use sourceTensor.clone().detach() or sourceTensor.clone().detach().requires_grad_(True), rather than torch.tensor(sourceTensor).\n",
            "  batch = [torch.tensor(t) for t in dataset[i]]\n",
            "100%|██████████| 1020/1020 [00:06<00:00, 153.12it/s]\n",
            "100%|██████████| 1020/1020 [00:03<00:00, 262.89it/s]\n",
            "100%|██████████| 6149/6149 [00:22<00:00, 272.92it/s]\n"
          ]
        }
      ],
      "source": [
        "data_loaders = load_flowers(batch_size, (1, 1, 1), Loader=InMemDataLoader)"
      ]
    },
    {
      "cell_type": "markdown",
      "id": "443248f7",
      "metadata": {
        "id": "443248f7"
      },
      "source": [
        "# Solution"
      ]
    },
    {
      "cell_type": "markdown",
      "id": "fedf7b0e",
      "metadata": {
        "id": "fedf7b0e"
      },
      "source": [
        "## Task 1\n",
        "* Your task is to implement a convolutional neural network from scratch using PyTorch.\n",
        "* Your CNN should consist of convolutional layers (Conv2D), pooling layers (MaxPooling2D), activation layers (e.g., ReLU), and fully connected layers (if needed)."
      ]
    },
    {
      "cell_type": "markdown",
      "id": "XXIVuhB3R6Ia",
      "metadata": {
        "id": "XXIVuhB3R6Ia"
      },
      "source": [
        "### Import data"
      ]
    },
    {
      "cell_type": "code",
      "execution_count": 21,
      "id": "x9i7gxgFR2kP",
      "metadata": {
        "id": "x9i7gxgFR2kP"
      },
      "outputs": [
        {
          "name": "stderr",
          "output_type": "stream",
          "text": [
            "  0%|          | 0/1020 [00:00<?, ?it/s]C:\\Users\\patry\\AppData\\Local\\Temp\\ipykernel_10616\\2199848925.py:20: UserWarning: To copy construct from a tensor, it is recommended to use sourceTensor.clone().detach() or sourceTensor.clone().detach().requires_grad_(True), rather than torch.tensor(sourceTensor).\n",
            "  batch = [torch.tensor(t) for t in dataset[i]]\n",
            "100%|██████████| 1020/1020 [00:07<00:00, 145.32it/s]\n",
            "100%|██████████| 1020/1020 [00:03<00:00, 261.81it/s]\n",
            "100%|██████████| 6149/6149 [00:24<00:00, 250.25it/s]\n"
          ]
        }
      ],
      "source": [
        "data_loaders = load_flowers(batch_size, (1, 1, 1), Loader=InMemDataLoader)"
      ]
    },
    {
      "cell_type": "markdown",
      "id": "8cb926eb",
      "metadata": {
        "id": "8cb926eb"
      },
      "source": [
        "### Model class"
      ]
    },
    {
      "cell_type": "code",
      "execution_count": 13,
      "id": "7c94c951",
      "metadata": {
        "id": "7c94c951"
      },
      "outputs": [],
      "source": [
        "class Model1(nn.Module):\n",
        "    def __init__(self, *args, **kwargs):\n",
        "        super(Model1, self).__init__()\n",
        "        self.layers = nn.Sequential(*args, **kwargs)\n",
        "\n",
        "    def forward(self, x):\n",
        "        x = self.layers(x)\n",
        "        return x"
      ]
    },
    {
      "cell_type": "code",
      "execution_count": 14,
      "id": "ebf022b0",
      "metadata": {
        "id": "ebf022b0"
      },
      "outputs": [],
      "source": [
        "def evaluate(model, data_loader):\n",
        "    loss = 0\n",
        "    correct = 0\n",
        "    loss_fn = nn.CrossEntropyLoss(\n",
        "        reduction='sum',\n",
        "    )\n",
        "\n",
        "    with torch.no_grad():\n",
        "        for inputs, labels in data_loader:\n",
        "            inputs, labels = inputs.to(_device), labels.to(_device)\n",
        "\n",
        "            outputs = model(inputs)\n",
        "            loss += loss_fn(outputs, labels).item()\n",
        "            pred = outputs.argmax(\n",
        "                dim=1, keepdim=True\n",
        "            )\n",
        "            correct += (\n",
        "                pred.eq(labels.view_as(pred)).sum().item()\n",
        "            )\n",
        "\n",
        "    loss /= len(data_loader.dataset)\n",
        "    accuracy = correct / len(data_loader.dataset)\n",
        "    return loss, accuracy"
      ]
    },
    {
      "cell_type": "code",
      "execution_count": 15,
      "id": "35647d6f",
      "metadata": {
        "id": "35647d6f"
      },
      "outputs": [],
      "source": [
        "def train_step(model, optimizer, loss_fn):\n",
        "    for batch_idx, (inputs, labels) in enumerate(data_loaders['train']):\n",
        "        inputs, labels = inputs.to(_device), labels.to(_device)\n",
        "\n",
        "        optimizer.zero_grad()   # Zero gradients\n",
        "        logits = model(inputs)   # Forward pass\n",
        "        loss = loss_fn(logits, labels)  # Compute loss\n",
        "        loss.backward() # Backward pass\n",
        "        optimizer.step()    # Update weights\n",
        "\n",
        "        wandb.log({\n",
        "            \"loss\": loss.item(),\n",
        "            \"batch_idx\": batch_idx,\n",
        "        })"
      ]
    },
    {
      "cell_type": "code",
      "execution_count": 16,
      "id": "e21bb9b6",
      "metadata": {
        "id": "e21bb9b6"
      },
      "outputs": [],
      "source": [
        "def init_weights(model):\n",
        "    for layer in model.modules():\n",
        "        if isinstance(layer, nn.Conv2d) or isinstance(layer, nn.Linear):\n",
        "            nn.init.kaiming_uniform_(layer.weight, nonlinearity='relu')\n",
        "            if layer.bias is not None:\n",
        "                nn.init.zeros_(layer.bias)\n",
        "        elif isinstance(layer, nn.BatchNorm2d):\n",
        "            nn.init.ones_(layer.weight)\n",
        "            if layer.bias is not None:\n",
        "                nn.init.zeros_(layer.bias)"
      ]
    },
    {
      "cell_type": "markdown",
      "id": "f486fbb5",
      "metadata": {
        "id": "f486fbb5"
      },
      "source": [
        "### Model creation"
      ]
    },
    {
      "cell_type": "markdown",
      "id": "2496bebc",
      "metadata": {},
      "source": [
        "#### Some random small net\n",
        "appears to be to small"
      ]
    },
    {
      "cell_type": "code",
      "execution_count": null,
      "id": "bf37bc94",
      "metadata": {
        "id": "bf37bc94"
      },
      "outputs": [],
      "source": [
        "model_type = \"v1\"\n",
        "\n",
        "model = Model1(\n",
        "    nn.Conv2d(3, 64, kernel_size=3, stride=1, padding=1),\n",
        "    nn.ReLU(),\n",
        "\n",
        "    nn.MaxPool2d(kernel_size=2, stride=2),\n",
        "    nn.Dropout(p=0.25),\n",
        "\n",
        "    nn.Conv2d(64, 128, kernel_size=3, stride=1, padding=1),\n",
        "    nn.ReLU(),\n",
        "\n",
        "    nn.MaxPool2d(kernel_size=2, stride=2),\n",
        "    nn.Dropout(p=0.25),\n",
        "\n",
        "    nn.Flatten(),\n",
        "    nn.Linear(128 * 56 * 56, 512),\n",
        "    nn.ReLU(),\n",
        "\n",
        "    nn.Dropout(p=0.5),\n",
        "    nn.Linear(512, 102),\n",
        ")"
      ]
    },
    {
      "cell_type": "markdown",
      "id": "7739d4db",
      "metadata": {},
      "source": [
        "#### Simmilar to previous one, but with more layers"
      ]
    },
    {
      "cell_type": "code",
      "execution_count": 27,
      "id": "585d2a7a",
      "metadata": {
        "id": "585d2a7a"
      },
      "outputs": [],
      "source": [
        "# version 2\n",
        "model_type = \"v2\"\n",
        "\n",
        "model = Model1(\n",
        "    nn.Conv2d(3, 128, kernel_size=11, stride=4, padding=2),\n",
        "    nn.ReLU(),\n",
        "\n",
        "    nn.MaxPool2d(kernel_size=5, stride=2),\n",
        "    nn.Dropout(p=0.25),\n",
        "\n",
        "    nn.Conv2d(128, 256, kernel_size=3, stride=1, padding=1),\n",
        "    nn.ReLU(),\n",
        "\n",
        "    nn.Conv2d(256, 256, kernel_size=3, stride=1, padding=1),\n",
        "    nn.MaxPool2d(kernel_size=2, stride=2),\n",
        "    nn.Dropout(p=0.25),\n",
        "\n",
        "    nn.Conv2d(256, 256, kernel_size=3),\n",
        "    nn.ReLU(),\n",
        "\n",
        "    nn.MaxPool2d(kernel_size=2, stride=2),\n",
        "    nn.Dropout(p=0.25),\n",
        "\n",
        "    nn.Flatten(),\n",
        "    nn.Linear(6400, 512),\n",
        "    nn.ReLU(),\n",
        "\n",
        "    nn.Dropout(p=0.5),\n",
        "    nn.Linear(512, 102),\n",
        ")"
      ]
    },
    {
      "cell_type": "markdown",
      "id": "005e3c78",
      "metadata": {},
      "source": [
        "#### Lots of small convolutions\n",
        "learns a lot slower, is able to reach high valid accuracy quickly (without reaching high train accuracy)"
      ]
    },
    {
      "cell_type": "code",
      "execution_count": 114,
      "id": "d22e04ec",
      "metadata": {
        "id": "d22e04ec"
      },
      "outputs": [],
      "source": [
        "# stacked 3x3 convs\n",
        "model_type = \"v3_stack3x3\"\n",
        "\n",
        "model = Model1(\n",
        "    nn.Conv2d(3, 64, kernel_size=3, stride=2, padding=2),\n",
        "    nn.BatchNorm2d(64),\n",
        "    nn.ReLU(),\n",
        "\n",
        "    nn.MaxPool2d(kernel_size=3, stride=2),\n",
        "    nn.Dropout(p=0.25),\n",
        "\n",
        "    nn.Conv2d(64, 128, kernel_size=3, stride=2),\n",
        "    nn.BatchNorm2d(128),\n",
        "    nn.ReLU(),\n",
        "\n",
        "    nn.MaxPool2d(kernel_size=3, stride=2),\n",
        "    nn.Dropout(p=0.25),\n",
        "\n",
        "    nn.Conv2d(128, 256, kernel_size=3),\n",
        "    nn.BatchNorm2d(256),\n",
        "    nn.ReLU(),\n",
        "    \n",
        "    nn.Conv2d(256, 256, kernel_size=3),\n",
        "    nn.BatchNorm2d(256),\n",
        "    nn.ReLU(),\n",
        "\n",
        "    nn.MaxPool2d(kernel_size=3),\n",
        "    nn.Dropout(p=0.25),\n",
        "\n",
        "    nn.Flatten(),\n",
        "    nn.Linear(2304, 4096),\n",
        "    nn.ReLU(),\n",
        "\n",
        "    # nn.Linear(4096, 4096),\n",
        "    # nn.ReLU(),\n",
        "\n",
        "    nn.Linear(4096, 512),\n",
        "    nn.ReLU(),\n",
        "\n",
        "    nn.Dropout(p=0.5),\n",
        "    nn.Linear(512, 102),\n",
        ")"
      ]
    },
    {
      "cell_type": "markdown",
      "id": "c9cf4ec7",
      "metadata": {},
      "source": [
        "#### Some variation inspired by alexnet"
      ]
    },
    {
      "cell_type": "code",
      "execution_count": 17,
      "id": "7e479d5a",
      "metadata": {
        "id": "7e479d5a"
      },
      "outputs": [],
      "source": [
        "# version 3 = alexnet\n",
        "model_type = \"alexnet\"\n",
        "\n",
        "model = Model1(\n",
        "    nn.Conv2d(3, 96, kernel_size=11, stride=4),\n",
        "    nn.BatchNorm2d(96),\n",
        "    nn.ReLU(),\n",
        "\n",
        "    nn.MaxPool2d(kernel_size=3, stride=2),\n",
        "    nn.Dropout(p=0.25),\n",
        "\n",
        "    nn.Conv2d(96, 256, kernel_size=5, padding=2),\n",
        "    nn.BatchNorm2d(256),\n",
        "    nn.ReLU(),\n",
        "\n",
        "    nn.MaxPool2d(kernel_size=3, stride=2),\n",
        "    nn.Dropout(p=0.25),\n",
        "\n",
        "    nn.Conv2d(256, 384, kernel_size=3, padding=1),\n",
        "    nn.BatchNorm2d(384),\n",
        "    nn.ReLU(),\n",
        "    nn.Dropout(p=0.25),\n",
        "\n",
        "    nn.Conv2d(384, 384, kernel_size=3, padding=1),\n",
        "    nn.BatchNorm2d(384),\n",
        "    nn.ReLU(),\n",
        "    nn.Dropout(p=0.25),\n",
        "\n",
        "    nn.Conv2d(384, 256, kernel_size=3, padding=1),\n",
        "    nn.BatchNorm2d(256),\n",
        "    nn.ReLU(),\n",
        "\n",
        "    nn.MaxPool2d(kernel_size=3, stride=2),\n",
        "    nn.Dropout(p=0.25),\n",
        "\n",
        "\n",
        "    nn.Flatten(),\n",
        "    nn.Linear(6400, 4096),\n",
        "    nn.ReLU(),\n",
        "\n",
        "    nn.Linear(4096, 4096),\n",
        "    nn.ReLU(),\n",
        "\n",
        "    nn.Dropout(p=0.5),\n",
        "    nn.Linear(4096, 102),\n",
        "    # nn.Softmax(dim=1),\n",
        ")"
      ]
    },
    {
      "cell_type": "markdown",
      "id": "KAd_QlZII8vu",
      "metadata": {
        "id": "KAd_QlZII8vu"
      },
      "source": [
        "### Training loop"
      ]
    },
    {
      "cell_type": "code",
      "execution_count": null,
      "id": "ab90a9d7",
      "metadata": {
        "colab": {
          "base_uri": "https://localhost:8080/",
          "height": 461
        },
        "id": "ab90a9d7",
        "outputId": "f10e97ea-6177-489e-9d69-f16075ca46b0"
      },
      "outputs": [
        {
          "name": "stderr",
          "output_type": "stream",
          "text": [
            "\u001b[34m\u001b[1mwandb\u001b[0m: Using wandb-core as the SDK backend.  Please refer to https://wandb.me/wandb-core for more information.\n",
            "\u001b[34m\u001b[1mwandb\u001b[0m: Currently logged in as: \u001b[33mfejowo5522\u001b[0m (\u001b[33mfejowo5522-\u001b[0m) to \u001b[32mhttps://api.wandb.ai\u001b[0m. Use \u001b[1m`wandb login --relogin`\u001b[0m to force relogin\n"
          ]
        },
        {
          "data": {
            "text/html": [
              "Tracking run with wandb version 0.19.9"
            ],
            "text/plain": [
              "<IPython.core.display.HTML object>"
            ]
          },
          "metadata": {},
          "output_type": "display_data"
        },
        {
          "data": {
            "text/html": [
              "Run data is saved locally in <code>d:\\SharedData\\Documents\\Programming\\UWr\\Sem6\\NN\\List3\\wandb\\run-20250422_230716-0azlvzqh</code>"
            ],
            "text/plain": [
              "<IPython.core.display.HTML object>"
            ]
          },
          "metadata": {},
          "output_type": "display_data"
        },
        {
          "data": {
            "text/html": [
              "Syncing run <strong><a href='https://wandb.ai/fejowo5522-/NN_list3_OxFlow/runs/0azlvzqh' target=\"_blank\">devoted-serenity-197</a></strong> to <a href='https://wandb.ai/fejowo5522-/NN_list3_OxFlow' target=\"_blank\">Weights & Biases</a> (<a href='https://wandb.me/developer-guide' target=\"_blank\">docs</a>)<br>"
            ],
            "text/plain": [
              "<IPython.core.display.HTML object>"
            ]
          },
          "metadata": {},
          "output_type": "display_data"
        },
        {
          "data": {
            "text/html": [
              " View project at <a href='https://wandb.ai/fejowo5522-/NN_list3_OxFlow' target=\"_blank\">https://wandb.ai/fejowo5522-/NN_list3_OxFlow</a>"
            ],
            "text/plain": [
              "<IPython.core.display.HTML object>"
            ]
          },
          "metadata": {},
          "output_type": "display_data"
        },
        {
          "data": {
            "text/html": [
              " View run at <a href='https://wandb.ai/fejowo5522-/NN_list3_OxFlow/runs/0azlvzqh' target=\"_blank\">https://wandb.ai/fejowo5522-/NN_list3_OxFlow/runs/0azlvzqh</a>"
            ],
            "text/plain": [
              "<IPython.core.display.HTML object>"
            ]
          },
          "metadata": {},
          "output_type": "display_data"
        },
        {
          "name": "stderr",
          "output_type": "stream",
          "text": [
            "                                                           \r"
          ]
        },
        {
          "name": "stdout",
          "output_type": "stream",
          "text": [
            "Test set: Average loss: 5.529020, Accuracy: (25.7%)\n"
          ]
        },
        {
          "data": {
            "text/html": [],
            "text/plain": [
              "<IPython.core.display.HTML object>"
            ]
          },
          "metadata": {},
          "output_type": "display_data"
        },
        {
          "data": {
            "text/html": [
              "<br>    <style><br>        .wandb-row {<br>            display: flex;<br>            flex-direction: row;<br>            flex-wrap: wrap;<br>            justify-content: flex-start;<br>            width: 100%;<br>        }<br>        .wandb-col {<br>            display: flex;<br>            flex-direction: column;<br>            flex-basis: 100%;<br>            flex: 1;<br>            padding: 10px;<br>        }<br>    </style><br><div class=\"wandb-row\"><div class=\"wandb-col\"><h3>Run history:</h3><br/><table class=\"wandb\"><tr><td>batch_idx</td><td>▆▅▁▆▄▃▁▆▅█▁▇▆▄█▃▇▃▁▁▇▇▄▁▅▇█▁▇▁▅▅▇▃▅▄▅█▄▁</td></tr><tr><td>epoch</td><td>▁▁▁▁▁▁▂▂▂▂▂▃▃▃▃▃▃▃▄▄▄▄▄▄▄▆▆▆▆▆▆▆▆▇▇▇▇▇██</td></tr><tr><td>loss</td><td>█▇▇▆▅▄▃▂▂▁▁▁▁▁▁▁▁▁▁▁▁▁▁▁▁▁▁▁▁▁▁▁▁▁▁▁▁▁▁▁</td></tr><tr><td>test_accuracy</td><td>▁</td></tr><tr><td>test_loss</td><td>▁</td></tr><tr><td>train_accuracy</td><td>▁▁▂▂▃▃▄▄▆███████████████████████████████</td></tr><tr><td>train_loss</td><td>█▆▆▆▄▂▂▁▁▁▁▁▁▁▁▁▁▁▁▁▁▁▁▁▁▁▁▁▁▁▁▁▁▁▁▁▁▁▁▁</td></tr><tr><td>valid_accuracy</td><td>▁▁▃▄▄▅▆▆▇▇▇▇▇▇▇▇▇▇▇▇█▇▇▇▇▇▇▇▇▇▇▇▇▇▇▇▇█▇█</td></tr><tr><td>valid_loss</td><td>▅▄▂▁▁▂▃▄▅▆▆▅▆▆▇▇▆▇▇▇▇▇▇█▇▇█▇▇▇▇▇██▇▇▇██▇</td></tr></table><br/></div><div class=\"wandb-col\"><h3>Run summary:</h3><br/><table class=\"wandb\"><tr><td>batch_idx</td><td>15</td></tr><tr><td>epoch</td><td>299</td></tr><tr><td>loss</td><td>0.00363</td></tr><tr><td>test_accuracy</td><td>0.25695</td></tr><tr><td>test_loss</td><td>5.52902</td></tr><tr><td>train_accuracy</td><td>0.99804</td></tr><tr><td>train_loss</td><td>0.00727</td></tr><tr><td>valid_accuracy</td><td>0.30686</td></tr><tr><td>valid_loss</td><td>4.92447</td></tr></table><br/></div></div>"
            ],
            "text/plain": [
              "<IPython.core.display.HTML object>"
            ]
          },
          "metadata": {},
          "output_type": "display_data"
        },
        {
          "data": {
            "text/html": [
              " View run <strong style=\"color:#cdcd00\">Task1_1745356037</strong> at: <a href='https://wandb.ai/fejowo5522-/NN_list3_OxFlow/runs/0azlvzqh' target=\"_blank\">https://wandb.ai/fejowo5522-/NN_list3_OxFlow/runs/0azlvzqh</a><br> View project at: <a href='https://wandb.ai/fejowo5522-/NN_list3_OxFlow' target=\"_blank\">https://wandb.ai/fejowo5522-/NN_list3_OxFlow</a><br>Synced 5 W&B file(s), 0 media file(s), 0 artifact file(s) and 0 other file(s)"
            ],
            "text/plain": [
              "<IPython.core.display.HTML object>"
            ]
          },
          "metadata": {},
          "output_type": "display_data"
        },
        {
          "data": {
            "text/html": [
              "Find logs at: <code>.\\wandb\\run-20250422_230716-0azlvzqh\\logs</code>"
            ],
            "text/plain": [
              "<IPython.core.display.HTML object>"
            ]
          },
          "metadata": {},
          "output_type": "display_data"
        }
      ],
      "source": [
        "model.to(_device)\n",
        "\n",
        "epochs = 100\n",
        "\n",
        "learning_rate = 0.0001\n",
        "momentum = 0.9\n",
        "weight_decay = 0.0005\n",
        "betas = (0.9, 0.999)\n",
        "\n",
        "optimizer = torch.optim.Adam(\n",
        "    model.parameters(),\n",
        "    lr=learning_rate,\n",
        "    betas=betas,\n",
        "    weight_decay=weight_decay,\n",
        ")\n",
        "# optimizer = torch.optim.SGD(\n",
        "#     model.parameters(),\n",
        "#     lr=learning_rate,\n",
        "#     momentum=momentum,\n",
        "#     weight_decay=weight_decay,\n",
        "# )\n",
        "\n",
        "loss_fn = nn.CrossEntropyLoss()\n",
        "\n",
        "init_weights(model)\n",
        "\n",
        "run = wandb.init(\n",
        "    entity = \"fejowo5522-\",\n",
        "    project= \"NN_list3_OxFlow\",\n",
        "    config = {\n",
        "        \"task\": 1,\n",
        "        \"batch_size\": batch_size,\n",
        "        \"epochs\": epochs,\n",
        "        \"optimizer\": \"Adam\",\n",
        "        \"learning_rate\": learning_rate,\n",
        "        # \"momentum\": momentum,\n",
        "        \"betas\": betas,\n",
        "        \"weight_decay\": weight_decay,\n",
        "        \"loss_fn\": \"cross_entropy\",\n",
        "        \"model\": model_type,\n",
        "        \"data_augmentation\": data_augmentation,\n",
        "    }\n",
        ")\n",
        "run.name = \"Task1_\" + str(int(time.time()))\n",
        "\n",
        "model.train()\n",
        "for epoch in tqdm(range(epochs), desc=\"Training\", leave=False):\n",
        "    train_step(model, optimizer, loss_fn)\n",
        "\n",
        "    for loader, split in [\n",
        "        (data_loaders['train'], 'train'),\n",
        "        (data_loaders['valid'], 'valid'),\n",
        "    ]:\n",
        "        loss, accuracy = evaluate(model, loader)\n",
        "        wandb.log({\n",
        "            \"epoch\": epoch,\n",
        "            f\"{split}_loss\": loss,\n",
        "            f\"{split}_accuracy\": accuracy,\n",
        "        })\n",
        "\n",
        "model.eval()\n",
        "loss, accuracy = evaluate(model, data_loaders['test'])\n",
        "wandb.log({\n",
        "    \"test_loss\": loss,\n",
        "    \"test_accuracy\": accuracy,\n",
        "})\n",
        "print(\n",
        "    \"Test set: Average loss: {:8.6f}, Accuracy: ({:4.1f}%)\".format(\n",
        "        loss,\n",
        "        100.0 * accuracy,\n",
        "    )\n",
        ")\n",
        "\n",
        "run.finish()"
      ]
    },
    {
      "cell_type": "markdown",
      "id": "B_R6q4DZJbJC",
      "metadata": {
        "id": "B_R6q4DZJbJC"
      },
      "source": [
        "## Task 2\n",
        "* Train your CNN on different training set sized (10%, 20%, 50%, 80%, 100%) and evaluate the performance on the validation set and test set.\n",
        "    * Report the accuracy and loss on the validation set and test set for each training set size.\n",
        "* Train your CNN on the full training set plus 20%, 50% and 80% of the test set and evaluate the performance on the validation set and the remaining test set.\n",
        "    * Report the accuracy and loss on the validation set and remaining test set for each training set size.\n",
        "* Compare the performance of your CNN on the different training set sizes and analyze the results.\n"
      ]
    },
    {
      "cell_type": "code",
      "execution_count": 31,
      "id": "Yr9BC2Fdeops",
      "metadata": {
        "id": "Yr9BC2Fdeops"
      },
      "outputs": [],
      "source": [
        "training_sizes = [0.1, 0.2, 0.5, 0.8, 1, 1.2, 1.5, 1.8]\n",
        "# training_sizes = [1.2, 1.5, 1.8]"
      ]
    },
    {
      "cell_type": "code",
      "execution_count": 32,
      "id": "-snCRGp3gyys",
      "metadata": {
        "id": "-snCRGp3gyys"
      },
      "outputs": [],
      "source": [
        "def _train_step(model, optimizer, loss_fn, data_loader, max_batch_percent=1, reverse_loop=False):\n",
        "    data_iter = iter(data_loader)\n",
        "\n",
        "    if reverse_loop:\n",
        "        data_iter = reversed(list(data_iter))\n",
        "\n",
        "    for batch_idx, (inputs, labels) in enumerate(data_iter):\n",
        "        if batch_idx >= max_batch_percent * len(data_loader):\n",
        "            break\n",
        "\n",
        "        inputs, labels = inputs.to(_device), labels.to(_device)\n",
        "\n",
        "        optimizer.zero_grad()   # Zero gradients\n",
        "        logits = model(inputs)   # Forward pass\n",
        "        loss = loss_fn(logits, labels)  # Compute loss\n",
        "        loss.backward() # Backward pass\n",
        "        optimizer.step()    # Update weights\n",
        "\n",
        "        wandb.log({\n",
        "            \"loss\": loss.item(),\n",
        "            \"batch_idx\": batch_idx,\n",
        "        })\n",
        "\n",
        "\n",
        "def train_step(model, optimizer, loss_fn, max_batch_percent=1):\n",
        "    _train_step(model, optimizer, loss_fn, data_loaders['train'], max_batch_percent)\n",
        "\n",
        "    if max_batch_percent > 1:\n",
        "        _train_step(model, optimizer, loss_fn, data_loaders['test'], max_batch_percent - 1, True)"
      ]
    },
    {
      "cell_type": "code",
      "execution_count": 33,
      "id": "MNLihZHOqt7b",
      "metadata": {
        "id": "MNLihZHOqt7b"
      },
      "outputs": [],
      "source": [
        "def evaluate(model, data_loader, max_batch_percent=1):\n",
        "    loss = 0\n",
        "    correct = 0\n",
        "    loss_fn = nn.CrossEntropyLoss(\n",
        "        reduction='sum',\n",
        "    )\n",
        "\n",
        "    with torch.no_grad():\n",
        "        for idx, (inputs, labels) in enumerate(data_loader):\n",
        "\n",
        "\n",
        "            inputs, labels = inputs.to(_device), labels.to(_device)\n",
        "\n",
        "            outputs = model(inputs)\n",
        "            loss += loss_fn(outputs, labels).item()\n",
        "            pred = outputs.argmax(\n",
        "                dim=1, keepdim=True\n",
        "            )\n",
        "            correct += (\n",
        "                pred.eq(labels.view_as(pred)).sum().item()\n",
        "            )\n",
        "\n",
        "    loss /= len(data_loader.dataset)\n",
        "    accuracy = correct / len(data_loader.dataset)\n",
        "    return loss, accuracy"
      ]
    },
    {
      "cell_type": "code",
      "execution_count": 34,
      "id": "obTgsm4qJc6m",
      "metadata": {
        "colab": {
          "base_uri": "https://localhost:8080/",
          "height": 1000,
          "referenced_widgets": [
            "5b376966309b48dba1a5402e097a69e0",
            "b63ea0956353410e8bd82c0e82f77359",
            "d4275e2cad9c4e559cc9d1349ff9d389",
            "17fdc65b12bd4ea28c280bea33fac2ac",
            "d3d462f2be2749889a14d6f27d926953",
            "378b45d1b3c34c9493535009fc9a38d1",
            "4c4ab23b8eda42ae849c604782b348fa",
            "7c938a53d76840ddbb2862d5a9d9562b",
            "3fc15fb7588e43bd8c9e77cb7d1cc5b9",
            "fb8904b0f1c542149031f60f99a65067",
            "6140400d011b4918b36315fb86445d6b",
            "b80e6b3d3d1d40428bb42b1e372a1d1b",
            "cfbfe1da4f85446f9578366485422d8c",
            "f50867693af14910b779f3fb294848e7",
            "3e129b177eb44d839247ab99d7d96818",
            "afe07127662b4000b730330c01859d24",
            "ca4fb363164745d68e8d9f4f7e767bf9",
            "1877e5e007174d61853df4a60bdd02d1",
            "ed01b9a2c71045b5a32ae931375fd530",
            "78e61ccc56064bb48e9101c44f09079e",
            "1f3a472598b04113ab118977eb3840eb",
            "c841f733ddd64b4bbce8565f4c40cf6d",
            "ad8c6ae966aa4e68a4742cee58a63971",
            "45eda23825f2483c890f42e531e770a8",
            "6f195517f0e04d87a2692234ba9cb098",
            "3b20af919b4845a6afe52998706c1921",
            "b5012ec11ac1474fae8beea3029ce85c",
            "b2682c8e91c8426b8b69bc0fb983f7e4",
            "fa9df3b8eff746248ede173332693c8e",
            "19b39a947851455c928a6ed3299116d9",
            "24cd3f6ebe1945a282f3e79d7e935109",
            "586af2ed76df4e49ad58e2c09577b76f",
            "4fceafdccd964d329e8d066687b31ea6",
            "db6ece1f110f4c5bbbdb341aaafa27eb",
            "6ad2e47dccfe4f829e1b0f07bc530c04",
            "9357a69d31af440fbfca4b0f4ad6dcf9",
            "6884f7f898634bbc9dbc0a4b0ae75ce3",
            "8a006181ac724a0184ede4353f0be080",
            "c3cd28f79694419192fa14f621a84f8c",
            "7a3be49a913a4de6ac56734ddfc8fb58",
            "61cecb160bd34b02a88879709de8f863",
            "7d1b7de9849543009ce588f0d52c9eb9",
            "2934717a766545919b1c25504d40429a",
            "be075ad893b74e049a71096b567d7a66",
            "12d35d2c98a04517ba3d699af657ca46",
            "fa81678bf787411ea7ee221ed165cd42",
            "c383d13d01594dccba643921dec97e40",
            "8f0cb2f853b5489e9b9c63b4c0bd4b02",
            "0d00e88b1f52412496896d742e8258f4",
            "2c1944399ed44975b541699562afdda8",
            "7bd1bcff2cba4a91a24ae6cee6e7c55c",
            "43f05496e8ab4644b5bf544d442a1244",
            "e488020de2c8431b9a07e399013fbe4a",
            "15d43da0964c48e79e50b1cd94f05afd",
            "6094b130466443a78e0d0733ded44dfb",
            "101787fa17a1480b97587ee9006fc530",
            "915652964d8b45009f058ab1840b3de8",
            "bcc9a6f7d8274a44a6a577eb81f1269c",
            "228a16a3a3f943d9a5016ad71bd6b94b",
            "b1fd6b72a71649b8a2f223b89e526195",
            "a6d06f6ad1174c4090374ea8dffd0f81",
            "765d1cd453ce42e9a7a8fdf68f93c9f3",
            "415e327053d04664a09429cb968835c8",
            "e79eb8bf1bd040cc801f4aac2d05042c",
            "362d974f66d444698a5f3fcc9ab5b79e",
            "3a9c3e758b3348a7a0d81ebb2d4233e4",
            "895f03e1286e4497aa8e0897afc095fc",
            "e0f5a8f8c3b0487eb0f2686b5157b724",
            "e2f3bc2420fb42faaff60417cc475b4f",
            "cc4c44ca88c147d28b0fa10df5be602c",
            "c771c0d9e86b44bfb3c8c069b488295f",
            "9452791e02ae40f2881b830219274021",
            "383a524e4608457cbcd1989acbc57c99",
            "a7c0dcf1c10a4389b59715e3985b7fdc",
            "fa795271c3af4ff6a2005befc9ec43df",
            "47368149c8094c3b97f2b438fd770770",
            "4e5b9d27a2a74733a8da68b442279c19",
            "04663791b3404fbbb8eefafc8d044ab8",
            "4adbefb7c49748699e9a381e4977c4a2",
            "7bb8bfc8e256481ea016d70ab098e0a5",
            "c68e33cb5b9c47a29750ebae10d491f6",
            "c4147903f89a4ed0ac0542b229de00ef",
            "6af4af7f2de64386ac00bf7796950b91",
            "4fbc2a47567942159ea314db6f8d385e",
            "b9faf53ad15b4e74bffe3284be9ea8ca",
            "cc1cc65d29ef4c4bab91c34d53c2ac8b",
            "bf63988768164be28da7c388eed7bcf2",
            "73b687c713164b86bf4e51c41b86181e"
          ]
        },
        "id": "obTgsm4qJc6m",
        "outputId": "c65bc247-217f-41d7-dc3e-60cec4c6ed09"
      },
      "outputs": [
        {
          "name": "stdout",
          "output_type": "stream",
          "text": [
            "====>   Training size: 0.1\n"
          ]
        },
        {
          "data": {
            "text/html": [
              "Tracking run with wandb version 0.19.9"
            ],
            "text/plain": [
              "<IPython.core.display.HTML object>"
            ]
          },
          "metadata": {},
          "output_type": "display_data"
        },
        {
          "data": {
            "text/html": [
              "Run data is saved locally in <code>d:\\SharedData\\Documents\\Programming\\UWr\\Sem6\\NN\\List3\\wandb\\run-20250422_161105-925d748s</code>"
            ],
            "text/plain": [
              "<IPython.core.display.HTML object>"
            ]
          },
          "metadata": {},
          "output_type": "display_data"
        },
        {
          "data": {
            "text/html": [
              "Syncing run <strong><a href='https://wandb.ai/fejowo5522-/NN_list3_OxFlow/runs/925d748s' target=\"_blank\">expert-surf-139</a></strong> to <a href='https://wandb.ai/fejowo5522-/NN_list3_OxFlow' target=\"_blank\">Weights & Biases</a> (<a href='https://wandb.me/developer-guide' target=\"_blank\">docs</a>)<br>"
            ],
            "text/plain": [
              "<IPython.core.display.HTML object>"
            ]
          },
          "metadata": {},
          "output_type": "display_data"
        },
        {
          "data": {
            "text/html": [
              " View project at <a href='https://wandb.ai/fejowo5522-/NN_list3_OxFlow' target=\"_blank\">https://wandb.ai/fejowo5522-/NN_list3_OxFlow</a>"
            ],
            "text/plain": [
              "<IPython.core.display.HTML object>"
            ]
          },
          "metadata": {},
          "output_type": "display_data"
        },
        {
          "data": {
            "text/html": [
              " View run at <a href='https://wandb.ai/fejowo5522-/NN_list3_OxFlow/runs/925d748s' target=\"_blank\">https://wandb.ai/fejowo5522-/NN_list3_OxFlow/runs/925d748s</a>"
            ],
            "text/plain": [
              "<IPython.core.display.HTML object>"
            ]
          },
          "metadata": {},
          "output_type": "display_data"
        },
        {
          "name": "stderr",
          "output_type": "stream",
          "text": [
            "                                                       \r"
          ]
        },
        {
          "name": "stdout",
          "output_type": "stream",
          "text": [
            "Test set: Average loss: 4.734443, Accuracy: ( 1.8%)\n"
          ]
        },
        {
          "data": {
            "text/html": [],
            "text/plain": [
              "<IPython.core.display.HTML object>"
            ]
          },
          "metadata": {},
          "output_type": "display_data"
        },
        {
          "data": {
            "text/html": [
              "<br>    <style><br>        .wandb-row {<br>            display: flex;<br>            flex-direction: row;<br>            flex-wrap: wrap;<br>            justify-content: flex-start;<br>            width: 100%;<br>        }<br>        .wandb-col {<br>            display: flex;<br>            flex-direction: column;<br>            flex-basis: 100%;<br>            flex: 1;<br>            padding: 10px;<br>        }<br>    </style><br><div class=\"wandb-row\"><div class=\"wandb-col\"><h3>Run history:</h3><br/><table class=\"wandb\"><tr><td>batch_idx</td><td>▁█▁█▁█▁█▁█</td></tr><tr><td>epoch</td><td>▁▁▃▃▅▅▆▆██</td></tr><tr><td>loss</td><td>▄█▃▄▅▃▁▄▂▂</td></tr><tr><td>test_accuracy</td><td>▁</td></tr><tr><td>test_loss</td><td>▁</td></tr><tr><td>train_accuracy</td><td>▅▁▂▄█</td></tr><tr><td>train_loss</td><td>█▆▄▃▁</td></tr><tr><td>valid_accuracy</td><td>▄▂█▄▁</td></tr><tr><td>valid_loss</td><td>█▆▄▃▁</td></tr></table><br/></div><div class=\"wandb-col\"><h3>Run summary:</h3><br/><table class=\"wandb\"><tr><td>batch_idx</td><td>1</td></tr><tr><td>epoch</td><td>4</td></tr><tr><td>loss</td><td>8.8791</td></tr><tr><td>test_accuracy</td><td>0.01821</td></tr><tr><td>test_loss</td><td>4.73444</td></tr><tr><td>train_accuracy</td><td>0.01863</td></tr><tr><td>train_loss</td><td>7.77216</td></tr><tr><td>valid_accuracy</td><td>0.0098</td></tr><tr><td>valid_loss</td><td>8.02943</td></tr></table><br/></div></div>"
            ],
            "text/plain": [
              "<IPython.core.display.HTML object>"
            ]
          },
          "metadata": {},
          "output_type": "display_data"
        },
        {
          "data": {
            "text/html": [
              " View run <strong style=\"color:#cdcd00\">Task2_1745331066</strong> at: <a href='https://wandb.ai/fejowo5522-/NN_list3_OxFlow/runs/925d748s' target=\"_blank\">https://wandb.ai/fejowo5522-/NN_list3_OxFlow/runs/925d748s</a><br> View project at: <a href='https://wandb.ai/fejowo5522-/NN_list3_OxFlow' target=\"_blank\">https://wandb.ai/fejowo5522-/NN_list3_OxFlow</a><br>Synced 5 W&B file(s), 0 media file(s), 0 artifact file(s) and 0 other file(s)"
            ],
            "text/plain": [
              "<IPython.core.display.HTML object>"
            ]
          },
          "metadata": {},
          "output_type": "display_data"
        },
        {
          "data": {
            "text/html": [
              "Find logs at: <code>.\\wandb\\run-20250422_161105-925d748s\\logs</code>"
            ],
            "text/plain": [
              "<IPython.core.display.HTML object>"
            ]
          },
          "metadata": {},
          "output_type": "display_data"
        },
        {
          "name": "stdout",
          "output_type": "stream",
          "text": [
            "====>   Training size: 0.2\n"
          ]
        },
        {
          "data": {
            "text/html": [
              "Tracking run with wandb version 0.19.9"
            ],
            "text/plain": [
              "<IPython.core.display.HTML object>"
            ]
          },
          "metadata": {},
          "output_type": "display_data"
        },
        {
          "data": {
            "text/html": [
              "Run data is saved locally in <code>d:\\SharedData\\Documents\\Programming\\UWr\\Sem6\\NN\\List3\\wandb\\run-20250422_161113-ouy2qy81</code>"
            ],
            "text/plain": [
              "<IPython.core.display.HTML object>"
            ]
          },
          "metadata": {},
          "output_type": "display_data"
        },
        {
          "data": {
            "text/html": [
              "Syncing run <strong><a href='https://wandb.ai/fejowo5522-/NN_list3_OxFlow/runs/ouy2qy81' target=\"_blank\">soft-universe-140</a></strong> to <a href='https://wandb.ai/fejowo5522-/NN_list3_OxFlow' target=\"_blank\">Weights & Biases</a> (<a href='https://wandb.me/developer-guide' target=\"_blank\">docs</a>)<br>"
            ],
            "text/plain": [
              "<IPython.core.display.HTML object>"
            ]
          },
          "metadata": {},
          "output_type": "display_data"
        },
        {
          "data": {
            "text/html": [
              " View project at <a href='https://wandb.ai/fejowo5522-/NN_list3_OxFlow' target=\"_blank\">https://wandb.ai/fejowo5522-/NN_list3_OxFlow</a>"
            ],
            "text/plain": [
              "<IPython.core.display.HTML object>"
            ]
          },
          "metadata": {},
          "output_type": "display_data"
        },
        {
          "data": {
            "text/html": [
              " View run at <a href='https://wandb.ai/fejowo5522-/NN_list3_OxFlow/runs/ouy2qy81' target=\"_blank\">https://wandb.ai/fejowo5522-/NN_list3_OxFlow/runs/ouy2qy81</a>"
            ],
            "text/plain": [
              "<IPython.core.display.HTML object>"
            ]
          },
          "metadata": {},
          "output_type": "display_data"
        },
        {
          "name": "stderr",
          "output_type": "stream",
          "text": [
            "                                                       \r"
          ]
        },
        {
          "name": "stdout",
          "output_type": "stream",
          "text": [
            "Test set: Average loss: 4.588317, Accuracy: ( 2.9%)\n"
          ]
        },
        {
          "data": {
            "text/html": [],
            "text/plain": [
              "<IPython.core.display.HTML object>"
            ]
          },
          "metadata": {},
          "output_type": "display_data"
        },
        {
          "data": {
            "text/html": [
              "<br>    <style><br>        .wandb-row {<br>            display: flex;<br>            flex-direction: row;<br>            flex-wrap: wrap;<br>            justify-content: flex-start;<br>            width: 100%;<br>        }<br>        .wandb-col {<br>            display: flex;<br>            flex-direction: column;<br>            flex-basis: 100%;<br>            flex: 1;<br>            padding: 10px;<br>        }<br>    </style><br><div class=\"wandb-row\"><div class=\"wandb-col\"><h3>Run history:</h3><br/><table class=\"wandb\"><tr><td>batch_idx</td><td>▁▃▆█▁▃▆█▁▃▆█▁▃▆█▁▃▆█</td></tr><tr><td>epoch</td><td>▁▁▃▃▅▅▆▆██</td></tr><tr><td>loss</td><td>█▇▅▅▄▅▄▄▃▃▂▃▃▂▂▂▁▁▁▁</td></tr><tr><td>test_accuracy</td><td>▁</td></tr><tr><td>test_loss</td><td>▁</td></tr><tr><td>train_accuracy</td><td>▁▄█▄▃</td></tr><tr><td>train_loss</td><td>█▅▃▂▁</td></tr><tr><td>valid_accuracy</td><td>▂▇▅█▁</td></tr><tr><td>valid_loss</td><td>█▆▃▂▁</td></tr></table><br/></div><div class=\"wandb-col\"><h3>Run summary:</h3><br/><table class=\"wandb\"><tr><td>batch_idx</td><td>3</td></tr><tr><td>epoch</td><td>4</td></tr><tr><td>loss</td><td>5.73706</td></tr><tr><td>test_accuracy</td><td>0.02944</td></tr><tr><td>test_loss</td><td>4.58832</td></tr><tr><td>train_accuracy</td><td>0.01078</td></tr><tr><td>train_loss</td><td>5.65553</td></tr><tr><td>valid_accuracy</td><td>0.0098</td></tr><tr><td>valid_loss</td><td>5.66893</td></tr></table><br/></div></div>"
            ],
            "text/plain": [
              "<IPython.core.display.HTML object>"
            ]
          },
          "metadata": {},
          "output_type": "display_data"
        },
        {
          "data": {
            "text/html": [
              " View run <strong style=\"color:#cdcd00\">Task2_1745331074</strong> at: <a href='https://wandb.ai/fejowo5522-/NN_list3_OxFlow/runs/ouy2qy81' target=\"_blank\">https://wandb.ai/fejowo5522-/NN_list3_OxFlow/runs/ouy2qy81</a><br> View project at: <a href='https://wandb.ai/fejowo5522-/NN_list3_OxFlow' target=\"_blank\">https://wandb.ai/fejowo5522-/NN_list3_OxFlow</a><br>Synced 5 W&B file(s), 0 media file(s), 0 artifact file(s) and 0 other file(s)"
            ],
            "text/plain": [
              "<IPython.core.display.HTML object>"
            ]
          },
          "metadata": {},
          "output_type": "display_data"
        },
        {
          "data": {
            "text/html": [
              "Find logs at: <code>.\\wandb\\run-20250422_161113-ouy2qy81\\logs</code>"
            ],
            "text/plain": [
              "<IPython.core.display.HTML object>"
            ]
          },
          "metadata": {},
          "output_type": "display_data"
        },
        {
          "name": "stdout",
          "output_type": "stream",
          "text": [
            "====>   Training size: 0.5\n"
          ]
        },
        {
          "data": {
            "text/html": [
              "Tracking run with wandb version 0.19.9"
            ],
            "text/plain": [
              "<IPython.core.display.HTML object>"
            ]
          },
          "metadata": {},
          "output_type": "display_data"
        },
        {
          "data": {
            "text/html": [
              "Run data is saved locally in <code>d:\\SharedData\\Documents\\Programming\\UWr\\Sem6\\NN\\List3\\wandb\\run-20250422_161121-12o4w6r3</code>"
            ],
            "text/plain": [
              "<IPython.core.display.HTML object>"
            ]
          },
          "metadata": {},
          "output_type": "display_data"
        },
        {
          "data": {
            "text/html": [
              "Syncing run <strong><a href='https://wandb.ai/fejowo5522-/NN_list3_OxFlow/runs/12o4w6r3' target=\"_blank\">drawn-bird-141</a></strong> to <a href='https://wandb.ai/fejowo5522-/NN_list3_OxFlow' target=\"_blank\">Weights & Biases</a> (<a href='https://wandb.me/developer-guide' target=\"_blank\">docs</a>)<br>"
            ],
            "text/plain": [
              "<IPython.core.display.HTML object>"
            ]
          },
          "metadata": {},
          "output_type": "display_data"
        },
        {
          "data": {
            "text/html": [
              " View project at <a href='https://wandb.ai/fejowo5522-/NN_list3_OxFlow' target=\"_blank\">https://wandb.ai/fejowo5522-/NN_list3_OxFlow</a>"
            ],
            "text/plain": [
              "<IPython.core.display.HTML object>"
            ]
          },
          "metadata": {},
          "output_type": "display_data"
        },
        {
          "data": {
            "text/html": [
              " View run at <a href='https://wandb.ai/fejowo5522-/NN_list3_OxFlow/runs/12o4w6r3' target=\"_blank\">https://wandb.ai/fejowo5522-/NN_list3_OxFlow/runs/12o4w6r3</a>"
            ],
            "text/plain": [
              "<IPython.core.display.HTML object>"
            ]
          },
          "metadata": {},
          "output_type": "display_data"
        },
        {
          "name": "stderr",
          "output_type": "stream",
          "text": [
            "                                                       \r"
          ]
        },
        {
          "name": "stdout",
          "output_type": "stream",
          "text": [
            "Test set: Average loss: 4.544996, Accuracy: ( 1.0%)\n"
          ]
        },
        {
          "data": {
            "text/html": [],
            "text/plain": [
              "<IPython.core.display.HTML object>"
            ]
          },
          "metadata": {},
          "output_type": "display_data"
        },
        {
          "data": {
            "text/html": [
              "<br>    <style><br>        .wandb-row {<br>            display: flex;<br>            flex-direction: row;<br>            flex-wrap: wrap;<br>            justify-content: flex-start;<br>            width: 100%;<br>        }<br>        .wandb-col {<br>            display: flex;<br>            flex-direction: column;<br>            flex-basis: 100%;<br>            flex: 1;<br>            padding: 10px;<br>        }<br>    </style><br><div class=\"wandb-row\"><div class=\"wandb-col\"><h3>Run history:</h3><br/><table class=\"wandb\"><tr><td>batch_idx</td><td>▁▂▃▄▅▆▇█▁▂▃▄▅▆▇█▁▂▃▄▅▆▇█▁▂▃▄▅▆▇█▁▂▃▄▅▆▇█</td></tr><tr><td>epoch</td><td>▁▁▃▃▅▅▆▆██</td></tr><tr><td>loss</td><td>█▅▆▅▆▅▄▄▄▄▃▃▄▄▃▃▂▂▂▂▃▃▂▂▁▁▂▂▂▁▁▂▂▁▂▁▁▂▁▁</td></tr><tr><td>test_accuracy</td><td>▁</td></tr><tr><td>test_loss</td><td>▁</td></tr><tr><td>train_accuracy</td><td>▁▃▄▁█</td></tr><tr><td>train_loss</td><td>█▄▂▂▁</td></tr><tr><td>valid_accuracy</td><td>▂▁▁█▄</td></tr><tr><td>valid_loss</td><td>█▄▂▁▁</td></tr></table><br/></div><div class=\"wandb-col\"><h3>Run summary:</h3><br/><table class=\"wandb\"><tr><td>batch_idx</td><td>7</td></tr><tr><td>epoch</td><td>4</td></tr><tr><td>loss</td><td>5.04862</td></tr><tr><td>test_accuracy</td><td>0.01025</td></tr><tr><td>test_loss</td><td>4.545</td></tr><tr><td>train_accuracy</td><td>0.01765</td></tr><tr><td>train_loss</td><td>4.96135</td></tr><tr><td>valid_accuracy</td><td>0.01765</td></tr><tr><td>valid_loss</td><td>5.01469</td></tr></table><br/></div></div>"
            ],
            "text/plain": [
              "<IPython.core.display.HTML object>"
            ]
          },
          "metadata": {},
          "output_type": "display_data"
        },
        {
          "data": {
            "text/html": [
              " View run <strong style=\"color:#cdcd00\">Task2_1745331082</strong> at: <a href='https://wandb.ai/fejowo5522-/NN_list3_OxFlow/runs/12o4w6r3' target=\"_blank\">https://wandb.ai/fejowo5522-/NN_list3_OxFlow/runs/12o4w6r3</a><br> View project at: <a href='https://wandb.ai/fejowo5522-/NN_list3_OxFlow' target=\"_blank\">https://wandb.ai/fejowo5522-/NN_list3_OxFlow</a><br>Synced 5 W&B file(s), 0 media file(s), 0 artifact file(s) and 0 other file(s)"
            ],
            "text/plain": [
              "<IPython.core.display.HTML object>"
            ]
          },
          "metadata": {},
          "output_type": "display_data"
        },
        {
          "data": {
            "text/html": [
              "Find logs at: <code>.\\wandb\\run-20250422_161121-12o4w6r3\\logs</code>"
            ],
            "text/plain": [
              "<IPython.core.display.HTML object>"
            ]
          },
          "metadata": {},
          "output_type": "display_data"
        },
        {
          "name": "stdout",
          "output_type": "stream",
          "text": [
            "====>   Training size: 0.8\n"
          ]
        },
        {
          "data": {
            "text/html": [
              "Tracking run with wandb version 0.19.9"
            ],
            "text/plain": [
              "<IPython.core.display.HTML object>"
            ]
          },
          "metadata": {},
          "output_type": "display_data"
        },
        {
          "data": {
            "text/html": [
              "Run data is saved locally in <code>d:\\SharedData\\Documents\\Programming\\UWr\\Sem6\\NN\\List3\\wandb\\run-20250422_161129-igij39hp</code>"
            ],
            "text/plain": [
              "<IPython.core.display.HTML object>"
            ]
          },
          "metadata": {},
          "output_type": "display_data"
        },
        {
          "data": {
            "text/html": [
              "Syncing run <strong><a href='https://wandb.ai/fejowo5522-/NN_list3_OxFlow/runs/igij39hp' target=\"_blank\">classic-bee-142</a></strong> to <a href='https://wandb.ai/fejowo5522-/NN_list3_OxFlow' target=\"_blank\">Weights & Biases</a> (<a href='https://wandb.me/developer-guide' target=\"_blank\">docs</a>)<br>"
            ],
            "text/plain": [
              "<IPython.core.display.HTML object>"
            ]
          },
          "metadata": {},
          "output_type": "display_data"
        },
        {
          "data": {
            "text/html": [
              " View project at <a href='https://wandb.ai/fejowo5522-/NN_list3_OxFlow' target=\"_blank\">https://wandb.ai/fejowo5522-/NN_list3_OxFlow</a>"
            ],
            "text/plain": [
              "<IPython.core.display.HTML object>"
            ]
          },
          "metadata": {},
          "output_type": "display_data"
        },
        {
          "data": {
            "text/html": [
              " View run at <a href='https://wandb.ai/fejowo5522-/NN_list3_OxFlow/runs/igij39hp' target=\"_blank\">https://wandb.ai/fejowo5522-/NN_list3_OxFlow/runs/igij39hp</a>"
            ],
            "text/plain": [
              "<IPython.core.display.HTML object>"
            ]
          },
          "metadata": {},
          "output_type": "display_data"
        },
        {
          "name": "stderr",
          "output_type": "stream",
          "text": [
            "                                                       \r"
          ]
        },
        {
          "name": "stdout",
          "output_type": "stream",
          "text": [
            "Test set: Average loss: 4.527538, Accuracy: ( 1.8%)\n"
          ]
        },
        {
          "data": {
            "text/html": [],
            "text/plain": [
              "<IPython.core.display.HTML object>"
            ]
          },
          "metadata": {},
          "output_type": "display_data"
        },
        {
          "data": {
            "text/html": [
              "<br>    <style><br>        .wandb-row {<br>            display: flex;<br>            flex-direction: row;<br>            flex-wrap: wrap;<br>            justify-content: flex-start;<br>            width: 100%;<br>        }<br>        .wandb-col {<br>            display: flex;<br>            flex-direction: column;<br>            flex-basis: 100%;<br>            flex: 1;<br>            padding: 10px;<br>        }<br>    </style><br><div class=\"wandb-row\"><div class=\"wandb-col\"><h3>Run history:</h3><br/><table class=\"wandb\"><tr><td>batch_idx</td><td>▂▃▃▄▅▆▆▇▁▂▄▅▆▆▇█▂▂▃▄▅▆▆▇▇▁▂▂▃▄▅▆▆▇█▃▄▅▅█</td></tr><tr><td>epoch</td><td>▁▁▃▃▅▅▆▆██</td></tr><tr><td>loss</td><td>█▆▅▅▄▄▃▃▃▃▃▃▂▂▂▂▂▂▂▂▂▂▁▁▂▁▂▁▁▁▂▁▁▁▁▁▁▁▁▁</td></tr><tr><td>test_accuracy</td><td>▁</td></tr><tr><td>test_loss</td><td>▁</td></tr><tr><td>train_accuracy</td><td>▁▃▄▇█</td></tr><tr><td>train_loss</td><td>█▄▂▁▁</td></tr><tr><td>valid_accuracy</td><td>▃▁▁█▅</td></tr><tr><td>valid_loss</td><td>█▃▂▂▁</td></tr></table><br/></div><div class=\"wandb-col\"><h3>Run summary:</h3><br/><table class=\"wandb\"><tr><td>batch_idx</td><td>12</td></tr><tr><td>epoch</td><td>4</td></tr><tr><td>loss</td><td>5.01719</td></tr><tr><td>test_accuracy</td><td>0.01789</td></tr><tr><td>test_loss</td><td>4.52754</td></tr><tr><td>train_accuracy</td><td>0.02451</td></tr><tr><td>train_loss</td><td>4.70549</td></tr><tr><td>valid_accuracy</td><td>0.01961</td></tr><tr><td>valid_loss</td><td>4.76114</td></tr></table><br/></div></div>"
            ],
            "text/plain": [
              "<IPython.core.display.HTML object>"
            ]
          },
          "metadata": {},
          "output_type": "display_data"
        },
        {
          "data": {
            "text/html": [
              " View run <strong style=\"color:#cdcd00\">Task2_1745331090</strong> at: <a href='https://wandb.ai/fejowo5522-/NN_list3_OxFlow/runs/igij39hp' target=\"_blank\">https://wandb.ai/fejowo5522-/NN_list3_OxFlow/runs/igij39hp</a><br> View project at: <a href='https://wandb.ai/fejowo5522-/NN_list3_OxFlow' target=\"_blank\">https://wandb.ai/fejowo5522-/NN_list3_OxFlow</a><br>Synced 5 W&B file(s), 0 media file(s), 0 artifact file(s) and 0 other file(s)"
            ],
            "text/plain": [
              "<IPython.core.display.HTML object>"
            ]
          },
          "metadata": {},
          "output_type": "display_data"
        },
        {
          "data": {
            "text/html": [
              "Find logs at: <code>.\\wandb\\run-20250422_161129-igij39hp\\logs</code>"
            ],
            "text/plain": [
              "<IPython.core.display.HTML object>"
            ]
          },
          "metadata": {},
          "output_type": "display_data"
        },
        {
          "name": "stdout",
          "output_type": "stream",
          "text": [
            "====>   Training size: 1\n"
          ]
        },
        {
          "data": {
            "text/html": [
              "Tracking run with wandb version 0.19.9"
            ],
            "text/plain": [
              "<IPython.core.display.HTML object>"
            ]
          },
          "metadata": {},
          "output_type": "display_data"
        },
        {
          "data": {
            "text/html": [
              "Run data is saved locally in <code>d:\\SharedData\\Documents\\Programming\\UWr\\Sem6\\NN\\List3\\wandb\\run-20250422_161140-xay0lliy</code>"
            ],
            "text/plain": [
              "<IPython.core.display.HTML object>"
            ]
          },
          "metadata": {},
          "output_type": "display_data"
        },
        {
          "data": {
            "text/html": [
              "Syncing run <strong><a href='https://wandb.ai/fejowo5522-/NN_list3_OxFlow/runs/xay0lliy' target=\"_blank\">skilled-vortex-143</a></strong> to <a href='https://wandb.ai/fejowo5522-/NN_list3_OxFlow' target=\"_blank\">Weights & Biases</a> (<a href='https://wandb.me/developer-guide' target=\"_blank\">docs</a>)<br>"
            ],
            "text/plain": [
              "<IPython.core.display.HTML object>"
            ]
          },
          "metadata": {},
          "output_type": "display_data"
        },
        {
          "data": {
            "text/html": [
              " View project at <a href='https://wandb.ai/fejowo5522-/NN_list3_OxFlow' target=\"_blank\">https://wandb.ai/fejowo5522-/NN_list3_OxFlow</a>"
            ],
            "text/plain": [
              "<IPython.core.display.HTML object>"
            ]
          },
          "metadata": {},
          "output_type": "display_data"
        },
        {
          "data": {
            "text/html": [
              " View run at <a href='https://wandb.ai/fejowo5522-/NN_list3_OxFlow/runs/xay0lliy' target=\"_blank\">https://wandb.ai/fejowo5522-/NN_list3_OxFlow/runs/xay0lliy</a>"
            ],
            "text/plain": [
              "<IPython.core.display.HTML object>"
            ]
          },
          "metadata": {},
          "output_type": "display_data"
        },
        {
          "name": "stderr",
          "output_type": "stream",
          "text": [
            "                                                       \r"
          ]
        },
        {
          "name": "stdout",
          "output_type": "stream",
          "text": [
            "Test set: Average loss: 4.391946, Accuracy: ( 3.7%)\n"
          ]
        },
        {
          "data": {
            "text/html": [],
            "text/plain": [
              "<IPython.core.display.HTML object>"
            ]
          },
          "metadata": {},
          "output_type": "display_data"
        },
        {
          "data": {
            "text/html": [
              "<br>    <style><br>        .wandb-row {<br>            display: flex;<br>            flex-direction: row;<br>            flex-wrap: wrap;<br>            justify-content: flex-start;<br>            width: 100%;<br>        }<br>        .wandb-col {<br>            display: flex;<br>            flex-direction: column;<br>            flex-basis: 100%;<br>            flex: 1;<br>            padding: 10px;<br>        }<br>    </style><br><div class=\"wandb-row\"><div class=\"wandb-col\"><h3>Run history:</h3><br/><table class=\"wandb\"><tr><td>batch_idx</td><td>▁▂▃▃▄▅▆▇██▁▂▅▆▇█▁▂▅▅▆▇██▁▃▄▅▆▇██▁▁▂▄▅▆▇█</td></tr><tr><td>epoch</td><td>▁▁▃▃▅▅▆▆██</td></tr><tr><td>loss</td><td>██▅▄▃▄▃▃▃▃▃▃▂▂▂▂▂▂▂▂▂▁▂▁▂▁▁▁▂▁▁▁▁▁▂▁▁▁▁▂</td></tr><tr><td>test_accuracy</td><td>▁</td></tr><tr><td>test_loss</td><td>▁</td></tr><tr><td>train_accuracy</td><td>▁▂▅█▅</td></tr><tr><td>train_loss</td><td>█▄▂▁▁</td></tr><tr><td>valid_accuracy</td><td>▁▃▄▄█</td></tr><tr><td>valid_loss</td><td>█▃▂▁▁</td></tr></table><br/></div><div class=\"wandb-col\"><h3>Run summary:</h3><br/><table class=\"wandb\"><tr><td>batch_idx</td><td>15</td></tr><tr><td>epoch</td><td>4</td></tr><tr><td>loss</td><td>4.80637</td></tr><tr><td>test_accuracy</td><td>0.03692</td></tr><tr><td>test_loss</td><td>4.39195</td></tr><tr><td>train_accuracy</td><td>0.02647</td></tr><tr><td>train_loss</td><td>4.45508</td></tr><tr><td>valid_accuracy</td><td>0.02745</td></tr><tr><td>valid_loss</td><td>4.55347</td></tr></table><br/></div></div>"
            ],
            "text/plain": [
              "<IPython.core.display.HTML object>"
            ]
          },
          "metadata": {},
          "output_type": "display_data"
        },
        {
          "data": {
            "text/html": [
              " View run <strong style=\"color:#cdcd00\">Task2_1745331100</strong> at: <a href='https://wandb.ai/fejowo5522-/NN_list3_OxFlow/runs/xay0lliy' target=\"_blank\">https://wandb.ai/fejowo5522-/NN_list3_OxFlow/runs/xay0lliy</a><br> View project at: <a href='https://wandb.ai/fejowo5522-/NN_list3_OxFlow' target=\"_blank\">https://wandb.ai/fejowo5522-/NN_list3_OxFlow</a><br>Synced 5 W&B file(s), 0 media file(s), 0 artifact file(s) and 0 other file(s)"
            ],
            "text/plain": [
              "<IPython.core.display.HTML object>"
            ]
          },
          "metadata": {},
          "output_type": "display_data"
        },
        {
          "data": {
            "text/html": [
              "Find logs at: <code>.\\wandb\\run-20250422_161140-xay0lliy\\logs</code>"
            ],
            "text/plain": [
              "<IPython.core.display.HTML object>"
            ]
          },
          "metadata": {},
          "output_type": "display_data"
        },
        {
          "name": "stdout",
          "output_type": "stream",
          "text": [
            "====>   Training size: 1.2\n"
          ]
        },
        {
          "data": {
            "text/html": [
              "Tracking run with wandb version 0.19.9"
            ],
            "text/plain": [
              "<IPython.core.display.HTML object>"
            ]
          },
          "metadata": {},
          "output_type": "display_data"
        },
        {
          "data": {
            "text/html": [
              "Run data is saved locally in <code>d:\\SharedData\\Documents\\Programming\\UWr\\Sem6\\NN\\List3\\wandb\\run-20250422_161151-j4i39w6s</code>"
            ],
            "text/plain": [
              "<IPython.core.display.HTML object>"
            ]
          },
          "metadata": {},
          "output_type": "display_data"
        },
        {
          "data": {
            "text/html": [
              "Syncing run <strong><a href='https://wandb.ai/fejowo5522-/NN_list3_OxFlow/runs/j4i39w6s' target=\"_blank\">laced-resonance-144</a></strong> to <a href='https://wandb.ai/fejowo5522-/NN_list3_OxFlow' target=\"_blank\">Weights & Biases</a> (<a href='https://wandb.me/developer-guide' target=\"_blank\">docs</a>)<br>"
            ],
            "text/plain": [
              "<IPython.core.display.HTML object>"
            ]
          },
          "metadata": {},
          "output_type": "display_data"
        },
        {
          "data": {
            "text/html": [
              " View project at <a href='https://wandb.ai/fejowo5522-/NN_list3_OxFlow' target=\"_blank\">https://wandb.ai/fejowo5522-/NN_list3_OxFlow</a>"
            ],
            "text/plain": [
              "<IPython.core.display.HTML object>"
            ]
          },
          "metadata": {},
          "output_type": "display_data"
        },
        {
          "data": {
            "text/html": [
              " View run at <a href='https://wandb.ai/fejowo5522-/NN_list3_OxFlow/runs/j4i39w6s' target=\"_blank\">https://wandb.ai/fejowo5522-/NN_list3_OxFlow/runs/j4i39w6s</a>"
            ],
            "text/plain": [
              "<IPython.core.display.HTML object>"
            ]
          },
          "metadata": {},
          "output_type": "display_data"
        },
        {
          "name": "stderr",
          "output_type": "stream",
          "text": [
            "                                                       \r"
          ]
        },
        {
          "name": "stdout",
          "output_type": "stream",
          "text": [
            "Test set: Average loss: 3.945188, Accuracy: ( 8.8%)\n"
          ]
        },
        {
          "data": {
            "text/html": [],
            "text/plain": [
              "<IPython.core.display.HTML object>"
            ]
          },
          "metadata": {},
          "output_type": "display_data"
        },
        {
          "data": {
            "text/html": [
              "<br>    <style><br>        .wandb-row {<br>            display: flex;<br>            flex-direction: row;<br>            flex-wrap: wrap;<br>            justify-content: flex-start;<br>            width: 100%;<br>        }<br>        .wandb-col {<br>            display: flex;<br>            flex-direction: column;<br>            flex-basis: 100%;<br>            flex: 1;<br>            padding: 10px;<br>        }<br>    </style><br><div class=\"wandb-row\"><div class=\"wandb-col\"><h3>Run history:</h3><br/><table class=\"wandb\"><tr><td>batch_idx</td><td>▁▃▄▇▂▄▆█▁▂▄▆▁▂▄▆▇▃▅▂▄▄▅█▁▁▂▃▃▄▇█▁▂▄▅▇▁▅█</td></tr><tr><td>epoch</td><td>▁▁▃▃▅▅▆▆██</td></tr><tr><td>loss</td><td>██▇▅▄▄▃▃▂▃▂▂▂▂▂▂▂▂▂▂▂▂▂▂▂▂▁▂▂▂▂▂▂▁▁▂▂▁▁▁</td></tr><tr><td>test_accuracy</td><td>▁</td></tr><tr><td>test_loss</td><td>▁</td></tr><tr><td>train_accuracy</td><td>▁▃▆▆█</td></tr><tr><td>train_loss</td><td>█▅▄▂▁</td></tr><tr><td>valid_accuracy</td><td>▁▃▄█▇</td></tr><tr><td>valid_loss</td><td>█▅▄▂▁</td></tr></table><br/></div><div class=\"wandb-col\"><h3>Run summary:</h3><br/><table class=\"wandb\"><tr><td>batch_idx</td><td>19</td></tr><tr><td>epoch</td><td>4</td></tr><tr><td>loss</td><td>4.30529</td></tr><tr><td>test_accuracy</td><td>0.08847</td></tr><tr><td>test_loss</td><td>3.94519</td></tr><tr><td>train_accuracy</td><td>0.04216</td></tr><tr><td>train_loss</td><td>4.36202</td></tr><tr><td>valid_accuracy</td><td>0.04118</td></tr><tr><td>valid_loss</td><td>4.38088</td></tr></table><br/></div></div>"
            ],
            "text/plain": [
              "<IPython.core.display.HTML object>"
            ]
          },
          "metadata": {},
          "output_type": "display_data"
        },
        {
          "data": {
            "text/html": [
              " View run <strong style=\"color:#cdcd00\">Task2_1745331112</strong> at: <a href='https://wandb.ai/fejowo5522-/NN_list3_OxFlow/runs/j4i39w6s' target=\"_blank\">https://wandb.ai/fejowo5522-/NN_list3_OxFlow/runs/j4i39w6s</a><br> View project at: <a href='https://wandb.ai/fejowo5522-/NN_list3_OxFlow' target=\"_blank\">https://wandb.ai/fejowo5522-/NN_list3_OxFlow</a><br>Synced 5 W&B file(s), 0 media file(s), 0 artifact file(s) and 0 other file(s)"
            ],
            "text/plain": [
              "<IPython.core.display.HTML object>"
            ]
          },
          "metadata": {},
          "output_type": "display_data"
        },
        {
          "data": {
            "text/html": [
              "Find logs at: <code>.\\wandb\\run-20250422_161151-j4i39w6s\\logs</code>"
            ],
            "text/plain": [
              "<IPython.core.display.HTML object>"
            ]
          },
          "metadata": {},
          "output_type": "display_data"
        },
        {
          "name": "stdout",
          "output_type": "stream",
          "text": [
            "====>   Training size: 1.5\n"
          ]
        },
        {
          "data": {
            "text/html": [
              "Tracking run with wandb version 0.19.9"
            ],
            "text/plain": [
              "<IPython.core.display.HTML object>"
            ]
          },
          "metadata": {},
          "output_type": "display_data"
        },
        {
          "data": {
            "text/html": [
              "Run data is saved locally in <code>d:\\SharedData\\Documents\\Programming\\UWr\\Sem6\\NN\\List3\\wandb\\run-20250422_161210-1zris4qm</code>"
            ],
            "text/plain": [
              "<IPython.core.display.HTML object>"
            ]
          },
          "metadata": {},
          "output_type": "display_data"
        },
        {
          "data": {
            "text/html": [
              "Syncing run <strong><a href='https://wandb.ai/fejowo5522-/NN_list3_OxFlow/runs/1zris4qm' target=\"_blank\">distinctive-plasma-145</a></strong> to <a href='https://wandb.ai/fejowo5522-/NN_list3_OxFlow' target=\"_blank\">Weights & Biases</a> (<a href='https://wandb.me/developer-guide' target=\"_blank\">docs</a>)<br>"
            ],
            "text/plain": [
              "<IPython.core.display.HTML object>"
            ]
          },
          "metadata": {},
          "output_type": "display_data"
        },
        {
          "data": {
            "text/html": [
              " View project at <a href='https://wandb.ai/fejowo5522-/NN_list3_OxFlow' target=\"_blank\">https://wandb.ai/fejowo5522-/NN_list3_OxFlow</a>"
            ],
            "text/plain": [
              "<IPython.core.display.HTML object>"
            ]
          },
          "metadata": {},
          "output_type": "display_data"
        },
        {
          "data": {
            "text/html": [
              " View run at <a href='https://wandb.ai/fejowo5522-/NN_list3_OxFlow/runs/1zris4qm' target=\"_blank\">https://wandb.ai/fejowo5522-/NN_list3_OxFlow/runs/1zris4qm</a>"
            ],
            "text/plain": [
              "<IPython.core.display.HTML object>"
            ]
          },
          "metadata": {},
          "output_type": "display_data"
        },
        {
          "name": "stderr",
          "output_type": "stream",
          "text": [
            "                                                       \r"
          ]
        },
        {
          "name": "stdout",
          "output_type": "stream",
          "text": [
            "Test set: Average loss: 3.587945, Accuracy: (14.1%)\n"
          ]
        },
        {
          "data": {
            "text/html": [],
            "text/plain": [
              "<IPython.core.display.HTML object>"
            ]
          },
          "metadata": {},
          "output_type": "display_data"
        },
        {
          "data": {
            "text/html": [
              "<br>    <style><br>        .wandb-row {<br>            display: flex;<br>            flex-direction: row;<br>            flex-wrap: wrap;<br>            justify-content: flex-start;<br>            width: 100%;<br>        }<br>        .wandb-col {<br>            display: flex;<br>            flex-direction: column;<br>            flex-basis: 100%;<br>            flex: 1;<br>            padding: 10px;<br>        }<br>    </style><br><div class=\"wandb-row\"><div class=\"wandb-col\"><h3>Run history:</h3><br/><table class=\"wandb\"><tr><td>batch_idx</td><td>▂▃▁▁▃▇█▃▆▆█▁▂▂▂▁▁▁▅▆▆▇▇▂▃▂▃▆▆▆▂▂▂▃▂▃▄▄▅▆</td></tr><tr><td>epoch</td><td>▁▁▃▃▅▅▆▆██</td></tr><tr><td>loss</td><td>██▇▅▄▄▃▃▄▃▃▃▃▂▂▃▃▂▂▂▂▂▃▃▃▂▃▂▂▂▃▂▃▂▁▁▂▂▂▁</td></tr><tr><td>test_accuracy</td><td>▁</td></tr><tr><td>test_loss</td><td>▁</td></tr><tr><td>train_accuracy</td><td>▁▃▅▆█</td></tr><tr><td>train_loss</td><td>█▆▄▂▁</td></tr><tr><td>valid_accuracy</td><td>▁▄▅▆█</td></tr><tr><td>valid_loss</td><td>█▆▃▂▁</td></tr></table><br/></div><div class=\"wandb-col\"><h3>Run summary:</h3><br/><table class=\"wandb\"><tr><td>batch_idx</td><td>48</td></tr><tr><td>epoch</td><td>4</td></tr><tr><td>loss</td><td>3.47943</td></tr><tr><td>test_accuracy</td><td>0.14149</td></tr><tr><td>test_loss</td><td>3.58794</td></tr><tr><td>train_accuracy</td><td>0.07255</td></tr><tr><td>train_loss</td><td>3.99466</td></tr><tr><td>valid_accuracy</td><td>0.08922</td></tr><tr><td>valid_loss</td><td>3.98025</td></tr></table><br/></div></div>"
            ],
            "text/plain": [
              "<IPython.core.display.HTML object>"
            ]
          },
          "metadata": {},
          "output_type": "display_data"
        },
        {
          "data": {
            "text/html": [
              " View run <strong style=\"color:#cdcd00\">Task2_1745331130</strong> at: <a href='https://wandb.ai/fejowo5522-/NN_list3_OxFlow/runs/1zris4qm' target=\"_blank\">https://wandb.ai/fejowo5522-/NN_list3_OxFlow/runs/1zris4qm</a><br> View project at: <a href='https://wandb.ai/fejowo5522-/NN_list3_OxFlow' target=\"_blank\">https://wandb.ai/fejowo5522-/NN_list3_OxFlow</a><br>Synced 5 W&B file(s), 0 media file(s), 0 artifact file(s) and 0 other file(s)"
            ],
            "text/plain": [
              "<IPython.core.display.HTML object>"
            ]
          },
          "metadata": {},
          "output_type": "display_data"
        },
        {
          "data": {
            "text/html": [
              "Find logs at: <code>.\\wandb\\run-20250422_161210-1zris4qm\\logs</code>"
            ],
            "text/plain": [
              "<IPython.core.display.HTML object>"
            ]
          },
          "metadata": {},
          "output_type": "display_data"
        },
        {
          "name": "stdout",
          "output_type": "stream",
          "text": [
            "====>   Training size: 1.8\n"
          ]
        },
        {
          "data": {
            "text/html": [
              "Tracking run with wandb version 0.19.9"
            ],
            "text/plain": [
              "<IPython.core.display.HTML object>"
            ]
          },
          "metadata": {},
          "output_type": "display_data"
        },
        {
          "data": {
            "text/html": [
              "Run data is saved locally in <code>d:\\SharedData\\Documents\\Programming\\UWr\\Sem6\\NN\\List3\\wandb\\run-20250422_161235-vsbbv155</code>"
            ],
            "text/plain": [
              "<IPython.core.display.HTML object>"
            ]
          },
          "metadata": {},
          "output_type": "display_data"
        },
        {
          "data": {
            "text/html": [
              "Syncing run <strong><a href='https://wandb.ai/fejowo5522-/NN_list3_OxFlow/runs/vsbbv155' target=\"_blank\">logical-snowflake-146</a></strong> to <a href='https://wandb.ai/fejowo5522-/NN_list3_OxFlow' target=\"_blank\">Weights & Biases</a> (<a href='https://wandb.me/developer-guide' target=\"_blank\">docs</a>)<br>"
            ],
            "text/plain": [
              "<IPython.core.display.HTML object>"
            ]
          },
          "metadata": {},
          "output_type": "display_data"
        },
        {
          "data": {
            "text/html": [
              " View project at <a href='https://wandb.ai/fejowo5522-/NN_list3_OxFlow' target=\"_blank\">https://wandb.ai/fejowo5522-/NN_list3_OxFlow</a>"
            ],
            "text/plain": [
              "<IPython.core.display.HTML object>"
            ]
          },
          "metadata": {},
          "output_type": "display_data"
        },
        {
          "data": {
            "text/html": [
              " View run at <a href='https://wandb.ai/fejowo5522-/NN_list3_OxFlow/runs/vsbbv155' target=\"_blank\">https://wandb.ai/fejowo5522-/NN_list3_OxFlow/runs/vsbbv155</a>"
            ],
            "text/plain": [
              "<IPython.core.display.HTML object>"
            ]
          },
          "metadata": {},
          "output_type": "display_data"
        },
        {
          "name": "stderr",
          "output_type": "stream",
          "text": [
            "                                                       \r"
          ]
        },
        {
          "name": "stdout",
          "output_type": "stream",
          "text": [
            "Test set: Average loss: 3.212188, Accuracy: (20.0%)\n"
          ]
        },
        {
          "data": {
            "text/html": [],
            "text/plain": [
              "<IPython.core.display.HTML object>"
            ]
          },
          "metadata": {},
          "output_type": "display_data"
        },
        {
          "data": {
            "text/html": [
              "<br>    <style><br>        .wandb-row {<br>            display: flex;<br>            flex-direction: row;<br>            flex-wrap: wrap;<br>            justify-content: flex-start;<br>            width: 100%;<br>        }<br>        .wandb-col {<br>            display: flex;<br>            flex-direction: column;<br>            flex-basis: 100%;<br>            flex: 1;<br>            padding: 10px;<br>        }<br>    </style><br><div class=\"wandb-row\"><div class=\"wandb-col\"><h3>Run history:</h3><br/><table class=\"wandb\"><tr><td>batch_idx</td><td>▁▃▄▄▅▇▁▂▁▂▄▅▆▇▇▁▃▃▄▄▅▅▅██▂▄▅▅▆▇▇██▁▁▄▅▅▆</td></tr><tr><td>epoch</td><td>▁▁▃▃▅▅▆▆██</td></tr><tr><td>loss</td><td>██▅▄▄▄▄▄▄▄▃▃▃▃▄▃▃▄▅▂▃▂▃▃▃▃▂▂▂▁▂▂▂▂▃▃▂▁▂▁</td></tr><tr><td>test_accuracy</td><td>▁</td></tr><tr><td>test_loss</td><td>▁</td></tr><tr><td>train_accuracy</td><td>▁▄▅▆█</td></tr><tr><td>train_loss</td><td>█▆▄▃▁</td></tr><tr><td>valid_accuracy</td><td>▁▄▅▆█</td></tr><tr><td>valid_loss</td><td>█▆▄▃▁</td></tr></table><br/></div><div class=\"wandb-col\"><h3>Run summary:</h3><br/><table class=\"wandb\"><tr><td>batch_idx</td><td>77</td></tr><tr><td>epoch</td><td>4</td></tr><tr><td>loss</td><td>3.08039</td></tr><tr><td>test_accuracy</td><td>0.20003</td></tr><tr><td>test_loss</td><td>3.21219</td></tr><tr><td>train_accuracy</td><td>0.13235</td></tr><tr><td>train_loss</td><td>3.5716</td></tr><tr><td>valid_accuracy</td><td>0.13529</td></tr><tr><td>valid_loss</td><td>3.5493</td></tr></table><br/></div></div>"
            ],
            "text/plain": [
              "<IPython.core.display.HTML object>"
            ]
          },
          "metadata": {},
          "output_type": "display_data"
        },
        {
          "data": {
            "text/html": [
              " View run <strong style=\"color:#cdcd00\">Task2_1745331156</strong> at: <a href='https://wandb.ai/fejowo5522-/NN_list3_OxFlow/runs/vsbbv155' target=\"_blank\">https://wandb.ai/fejowo5522-/NN_list3_OxFlow/runs/vsbbv155</a><br> View project at: <a href='https://wandb.ai/fejowo5522-/NN_list3_OxFlow' target=\"_blank\">https://wandb.ai/fejowo5522-/NN_list3_OxFlow</a><br>Synced 5 W&B file(s), 0 media file(s), 0 artifact file(s) and 0 other file(s)"
            ],
            "text/plain": [
              "<IPython.core.display.HTML object>"
            ]
          },
          "metadata": {},
          "output_type": "display_data"
        },
        {
          "data": {
            "text/html": [
              "Find logs at: <code>.\\wandb\\run-20250422_161235-vsbbv155\\logs</code>"
            ],
            "text/plain": [
              "<IPython.core.display.HTML object>"
            ]
          },
          "metadata": {},
          "output_type": "display_data"
        }
      ],
      "source": [
        "model.to(_device)\n",
        "\n",
        "epochs = 5\n",
        "\n",
        "learning_rate = 0.0001\n",
        "momentum = 0.9\n",
        "weight_decay = 0.0005\n",
        "betas = (0.9, 0.999)\n",
        "\n",
        "optimizer = torch.optim.Adam(\n",
        "    model.parameters(),\n",
        "    lr=learning_rate,\n",
        "    betas=betas,\n",
        "    weight_decay=weight_decay,\n",
        ")\n",
        "# optimizer = torch.optim.SGD(\n",
        "#     model.parameters(),\n",
        "#     lr=learning_rate,\n",
        "#     momentum=momentum,\n",
        "#     weight_decay=weight_decay,\n",
        "# )\n",
        "\n",
        "loss_fn = nn.CrossEntropyLoss()\n",
        "\n",
        "for training_size in training_sizes:\n",
        "    print(f\"====>   Training size: {training_size}\")\n",
        "\n",
        "    init_weights(model)\n",
        "\n",
        "    run = wandb.init(\n",
        "        entity = \"fejowo5522-\",\n",
        "        project= \"NN_list3_OxFlow\",\n",
        "        config = {\n",
        "            \"task\": 2,\n",
        "            \"batch_size\": batch_size,\n",
        "            \"epochs\": epochs,\n",
        "            \"optimizer\": \"SGD\",\n",
        "            \"learning_rate\": learning_rate,\n",
        "            # \"momentum\": momentum,\n",
        "            \"betas\": betas,\n",
        "            \"weight_decay\": weight_decay,\n",
        "            \"loss_fn\": \"cross_entropy\",\n",
        "            \"model\": model_type,\n",
        "            \"training_size\": training_size,\n",
        "            \"data_augmentation\": data_augmentation,\n",
        "        }\n",
        "    )\n",
        "    run.name = \"Task2_\" + str(int(time.time()))\n",
        "\n",
        "    model.train()\n",
        "\n",
        "    for epoch in tqdm(range(epochs), desc=\"Training\", leave=False):\n",
        "        train_step(model, optimizer, loss_fn, training_size)\n",
        "\n",
        "        for loader, split in [\n",
        "            (data_loaders['train'], 'train'),\n",
        "            (data_loaders['valid'], 'valid'),\n",
        "        ]:\n",
        "            loss, accuracy = evaluate(model, loader)\n",
        "            wandb.log({\n",
        "                \"epoch\": epoch,\n",
        "                f\"{split}_loss\": loss,\n",
        "                f\"{split}_accuracy\": accuracy,\n",
        "            })\n",
        "\n",
        "    model.eval()\n",
        "    loss, accuracy = evaluate(model, data_loaders['test'], 1 if training_size < 1 else 2 - training_size)\n",
        "    wandb.log({\n",
        "        \"test_loss\": loss,\n",
        "        \"test_accuracy\": accuracy,\n",
        "    })\n",
        "    print(\n",
        "        \"Test set: Average loss: {:8.6f}, Accuracy: ({:4.1f}%)\".format(\n",
        "            loss,\n",
        "            100.0 * accuracy,\n",
        "        )\n",
        "    )\n",
        "\n",
        "    run.finish()"
      ]
    },
    {
      "cell_type": "markdown",
      "id": "2dd9e3ac",
      "metadata": {
        "id": "2dd9e3ac"
      },
      "source": [
        "## Task 3\n",
        "* Implement a baseline AlexNet model using PyTorch.\n",
        "* Training AlexNet may take a long time, so try to use GPU acceleration if available.\n"
      ]
    },
    {
      "cell_type": "markdown",
      "id": "ebedad85",
      "metadata": {
        "id": "ebedad85"
      },
      "source": [
        "### Model class"
      ]
    },
    {
      "cell_type": "code",
      "execution_count": 35,
      "id": "f9fef544",
      "metadata": {
        "id": "f9fef544"
      },
      "outputs": [],
      "source": [
        "class AlexNetBaseline(nn.Module):\n",
        "    def __init__(self, num_classes=102):\n",
        "        super(AlexNetBaseline, self).__init__()\n",
        "        self.features = nn.Sequential(\n",
        "            nn.Conv2d(3, 64, kernel_size=11, stride=4, padding=2),\n",
        "            nn.ReLU(inplace=True),\n",
        "            nn.MaxPool2d(kernel_size=3, stride=2),\n",
        "            nn.Conv2d(64, 192, kernel_size=5, padding=2),\n",
        "            nn.ReLU(inplace=True),\n",
        "            nn.MaxPool2d(kernel_size=3, stride=2),\n",
        "            nn.Conv2d(192, 384, kernel_size=3, padding=1),\n",
        "            nn.ReLU(inplace=True),\n",
        "            nn.Conv2d(384, 256, kernel_size=3, padding=1),\n",
        "            nn.ReLU(inplace=True),\n",
        "            nn.Conv2d(256, 256, kernel_size=3, padding=1),\n",
        "            nn.ReLU(inplace=True),\n",
        "            nn.MaxPool2d(kernel_size=3, stride=2),\n",
        "        )\n",
        "        self.classifier = nn.Sequential(\n",
        "            nn.Dropout(p=0.5),\n",
        "            nn.Linear(256 * 6 * 6, 4096),\n",
        "            nn.ReLU(inplace=True),\n",
        "            nn.Dropout(p=0.5),\n",
        "            nn.Linear(4096, 4096),\n",
        "            nn.ReLU(inplace=True),\n",
        "            nn.Linear(4096, num_classes),\n",
        "        )\n",
        "\n",
        "    def forward(self, x):\n",
        "        x = self.features(x)\n",
        "        x = torch.flatten(x, 1)\n",
        "        x = self.classifier(x)\n",
        "        return x\n",
        "\n",
        "    def init_weights(self):\n",
        "        for layer in self.modules():\n",
        "            if isinstance(layer, nn.Conv2d) or isinstance(layer, nn.Linear):\n",
        "                nn.init.kaiming_uniform_(layer.weight, nonlinearity='relu')\n",
        "                if layer.bias is not None:\n",
        "                    nn.init.zeros_(layer.bias)\n",
        "            elif isinstance(layer, nn.BatchNorm2d):\n",
        "                nn.init.ones_(layer.weight)\n",
        "                if layer.bias is not None:\n",
        "                    nn.init.zeros_(layer.bias)\n",
        "\n",
        "    def evaluate(self, data_loader):\n",
        "        loss = 0\n",
        "        correct = 0\n",
        "        loss_fn = nn.CrossEntropyLoss(\n",
        "            reduction='sum',\n",
        "        )\n",
        "\n",
        "        with torch.no_grad():\n",
        "            for inputs, labels in data_loader:\n",
        "                inputs, labels = inputs.to(_device), labels.to(_device)\n",
        "\n",
        "                outputs = self(inputs)\n",
        "                loss += loss_fn(outputs, labels).item()\n",
        "                pred = outputs.argmax(\n",
        "                    dim=1, keepdim=True\n",
        "                )\n",
        "                correct += (\n",
        "                    pred.eq(labels.view_as(pred)).sum().item()\n",
        "                )\n",
        "\n",
        "        loss /= len(data_loader.dataset)\n",
        "        accuracy = correct / len(data_loader.dataset)\n",
        "        return loss, accuracy"
      ]
    },
    {
      "cell_type": "code",
      "execution_count": 36,
      "id": "59d6b75d",
      "metadata": {
        "id": "59d6b75d"
      },
      "outputs": [],
      "source": [
        "def train_step(model, optimizer, loss_fn, data_loader):\n",
        "    data_iter = iter(data_loader)\n",
        "\n",
        "    for batch_idx, (inputs, labels) in enumerate(data_iter):\n",
        "        inputs, labels = inputs.to(_device), labels.to(_device)\n",
        "\n",
        "        optimizer.zero_grad()   # Zero gradients\n",
        "        logits = model(inputs)   # Forward pass\n",
        "        loss = loss_fn(logits, labels)  # Compute loss\n",
        "        loss.backward() # Backward pass\n",
        "        optimizer.step()    # Update weights\n",
        "\n",
        "        wandb.log({\n",
        "            \"loss\": loss.item(),\n",
        "            \"batch_idx\": batch_idx,\n",
        "        })"
      ]
    },
    {
      "cell_type": "markdown",
      "id": "56dc34dc",
      "metadata": {
        "id": "56dc34dc"
      },
      "source": [
        "### Train model"
      ]
    },
    {
      "cell_type": "code",
      "execution_count": 39,
      "id": "OvhR36NXsCAx",
      "metadata": {
        "id": "OvhR36NXsCAx"
      },
      "outputs": [],
      "source": [
        "batch_size = 64\n",
        "data_loaders = load_flowers(batch_size, (1, 1, 1), Loader=torch.utils.data.DataLoader)"
      ]
    },
    {
      "cell_type": "code",
      "execution_count": 40,
      "id": "9f4669e3",
      "metadata": {
        "colab": {
          "base_uri": "https://localhost:8080/",
          "height": 0
        },
        "id": "9f4669e3",
        "outputId": "00646bc8-83fa-4358-bae0-7a42cb5f6965"
      },
      "outputs": [
        {
          "name": "stdout",
          "output_type": "stream",
          "text": [
            "AlexNetBaseline(\n",
            "  (features): Sequential(\n",
            "    (0): Conv2d(3, 64, kernel_size=(11, 11), stride=(4, 4), padding=(2, 2))\n",
            "    (1): ReLU(inplace=True)\n",
            "    (2): MaxPool2d(kernel_size=3, stride=2, padding=0, dilation=1, ceil_mode=False)\n",
            "    (3): Conv2d(64, 192, kernel_size=(5, 5), stride=(1, 1), padding=(2, 2))\n",
            "    (4): ReLU(inplace=True)\n",
            "    (5): MaxPool2d(kernel_size=3, stride=2, padding=0, dilation=1, ceil_mode=False)\n",
            "    (6): Conv2d(192, 384, kernel_size=(3, 3), stride=(1, 1), padding=(1, 1))\n",
            "    (7): ReLU(inplace=True)\n",
            "    (8): Conv2d(384, 256, kernel_size=(3, 3), stride=(1, 1), padding=(1, 1))\n",
            "    (9): ReLU(inplace=True)\n",
            "    (10): Conv2d(256, 256, kernel_size=(3, 3), stride=(1, 1), padding=(1, 1))\n",
            "    (11): ReLU(inplace=True)\n",
            "    (12): MaxPool2d(kernel_size=3, stride=2, padding=0, dilation=1, ceil_mode=False)\n",
            "  )\n",
            "  (classifier): Sequential(\n",
            "    (0): Dropout(p=0.5, inplace=False)\n",
            "    (1): Linear(in_features=9216, out_features=4096, bias=True)\n",
            "    (2): ReLU(inplace=True)\n",
            "    (3): Dropout(p=0.5, inplace=False)\n",
            "    (4): Linear(in_features=4096, out_features=4096, bias=True)\n",
            "    (5): ReLU(inplace=True)\n",
            "    (6): Linear(in_features=4096, out_features=102, bias=True)\n",
            "  )\n",
            ")\n"
          ]
        }
      ],
      "source": [
        "# initialize\n",
        "alexnet_model = AlexNetBaseline(num_classes=102).to(_device)\n",
        "print(alexnet_model)"
      ]
    },
    {
      "cell_type": "code",
      "execution_count": 41,
      "id": "5d1dcee0",
      "metadata": {
        "colab": {
          "base_uri": "https://localhost:8080/",
          "height": 756,
          "referenced_widgets": [
            "76a0942c183240ffbad8737ade16643e",
            "12b0026a9711459a854c6d4001f19ded",
            "c5aaf1894e7b4459be86e86c1396b5f8",
            "1d5c343cbc534d1a9fd8dded39dfd80a",
            "50a46a2fd585488fb08e3c71b75acaab",
            "b434d22f78a841d0b636329f124f538c",
            "1ef99c33bcd042f3ba9ffd2f5f40001d",
            "f0601be76ee04640862cedb9a21f0ca1",
            "89d6a9e16f7c471394f2d7188c735e10",
            "6467329fc14f4033bb083b2d97a084e0",
            "9bdf95fd3f264792ba5c647bf97dc5a5"
          ]
        },
        "id": "5d1dcee0",
        "outputId": "cd2ccf48-6d61-41a8-88bf-36e3bd6e3680"
      },
      "outputs": [
        {
          "data": {
            "text/html": [
              "Tracking run with wandb version 0.19.9"
            ],
            "text/plain": [
              "<IPython.core.display.HTML object>"
            ]
          },
          "metadata": {},
          "output_type": "display_data"
        },
        {
          "data": {
            "text/html": [
              "Run data is saved locally in <code>d:\\SharedData\\Documents\\Programming\\UWr\\Sem6\\NN\\List3\\wandb\\run-20250422_161436-2dcpocs0</code>"
            ],
            "text/plain": [
              "<IPython.core.display.HTML object>"
            ]
          },
          "metadata": {},
          "output_type": "display_data"
        },
        {
          "data": {
            "text/html": [
              "Syncing run <strong><a href='https://wandb.ai/fejowo5522-/NN_list3_OxFlow/runs/2dcpocs0' target=\"_blank\">glamorous-grass-147</a></strong> to <a href='https://wandb.ai/fejowo5522-/NN_list3_OxFlow' target=\"_blank\">Weights & Biases</a> (<a href='https://wandb.me/developer-guide' target=\"_blank\">docs</a>)<br>"
            ],
            "text/plain": [
              "<IPython.core.display.HTML object>"
            ]
          },
          "metadata": {},
          "output_type": "display_data"
        },
        {
          "data": {
            "text/html": [
              " View project at <a href='https://wandb.ai/fejowo5522-/NN_list3_OxFlow' target=\"_blank\">https://wandb.ai/fejowo5522-/NN_list3_OxFlow</a>"
            ],
            "text/plain": [
              "<IPython.core.display.HTML object>"
            ]
          },
          "metadata": {},
          "output_type": "display_data"
        },
        {
          "data": {
            "text/html": [
              " View run at <a href='https://wandb.ai/fejowo5522-/NN_list3_OxFlow/runs/2dcpocs0' target=\"_blank\">https://wandb.ai/fejowo5522-/NN_list3_OxFlow/runs/2dcpocs0</a>"
            ],
            "text/plain": [
              "<IPython.core.display.HTML object>"
            ]
          },
          "metadata": {},
          "output_type": "display_data"
        },
        {
          "name": "stderr",
          "output_type": "stream",
          "text": [
            "                                                           \r"
          ]
        },
        {
          "name": "stdout",
          "output_type": "stream",
          "text": [
            "Test set: Average loss: 4.624848, Accuracy: ( 0.3%)\n"
          ]
        },
        {
          "data": {
            "text/html": [],
            "text/plain": [
              "<IPython.core.display.HTML object>"
            ]
          },
          "metadata": {},
          "output_type": "display_data"
        },
        {
          "data": {
            "text/html": [
              "<br>    <style><br>        .wandb-row {<br>            display: flex;<br>            flex-direction: row;<br>            flex-wrap: wrap;<br>            justify-content: flex-start;<br>            width: 100%;<br>        }<br>        .wandb-col {<br>            display: flex;<br>            flex-direction: column;<br>            flex-basis: 100%;<br>            flex: 1;<br>            padding: 10px;<br>        }<br>    </style><br><div class=\"wandb-row\"><div class=\"wandb-col\"><h3>Run history:</h3><br/><table class=\"wandb\"><tr><td>batch_idx</td><td>▅▃▆▁▃█▁▇▁▆▃▄▇▇▅▅▁▄▁██▃▇▄█▅▇▁▃▇▄▅▂▁▃▅▅▃▁▄</td></tr><tr><td>epoch</td><td>▁▁▂▂▂▂▂▂▂▃▃▃▃▃▄▄▄▄▄▄▅▅▅▅▆▆▆▆▆▆▇▇▇▇▇█████</td></tr><tr><td>loss</td><td>▇▄█▇▇▇▇▇▆▇▇▆▇▇▇▆▁▇▆▆▇▆▆▆▇▆▇▇▇▆▇▇▆▆▇▇▆▇▇▆</td></tr><tr><td>test_accuracy</td><td>▁</td></tr><tr><td>test_loss</td><td>▁</td></tr><tr><td>train_accuracy</td><td>█▆▁▆▄▆▅▅▆▆▄▆▆▃▆▅▆▆▅▃▃▆▅▅▆▆▅▆▆▆▆▆▆▆▆▆▆▆▆▆</td></tr><tr><td>train_loss</td><td>████████████████████▁███████████████████</td></tr><tr><td>valid_accuracy</td><td>▄█▄▄▃▃▃▃▃▁▁▃▃▃▃▃▃▃▃▂▄▂▇▄▃▃▃▃▃▃▃▃▃▃▃▃▃▃▃▃</td></tr><tr><td>valid_loss</td><td>█▇▇▇▇▇▇▇▇▇▇▇▁▇▇▇▇▇▇▇▇▇▇▇▇▇▇▇▇▇▇▇▇▇▇▇▇▇▇▇</td></tr></table><br/></div><div class=\"wandb-col\"><h3>Run summary:</h3><br/><table class=\"wandb\"><tr><td>batch_idx</td><td>15</td></tr><tr><td>epoch</td><td>99</td></tr><tr><td>loss</td><td>4.62633</td></tr><tr><td>test_accuracy</td><td>0.00342</td></tr><tr><td>test_loss</td><td>4.62485</td></tr><tr><td>train_accuracy</td><td>0.0098</td></tr><tr><td>train_loss</td><td>4.62498</td></tr><tr><td>valid_accuracy</td><td>0.0098</td></tr><tr><td>valid_loss</td><td>4.62498</td></tr></table><br/></div></div>"
            ],
            "text/plain": [
              "<IPython.core.display.HTML object>"
            ]
          },
          "metadata": {},
          "output_type": "display_data"
        },
        {
          "data": {
            "text/html": [
              " View run <strong style=\"color:#cdcd00\">Task3_1745331277</strong> at: <a href='https://wandb.ai/fejowo5522-/NN_list3_OxFlow/runs/2dcpocs0' target=\"_blank\">https://wandb.ai/fejowo5522-/NN_list3_OxFlow/runs/2dcpocs0</a><br> View project at: <a href='https://wandb.ai/fejowo5522-/NN_list3_OxFlow' target=\"_blank\">https://wandb.ai/fejowo5522-/NN_list3_OxFlow</a><br>Synced 5 W&B file(s), 0 media file(s), 0 artifact file(s) and 0 other file(s)"
            ],
            "text/plain": [
              "<IPython.core.display.HTML object>"
            ]
          },
          "metadata": {},
          "output_type": "display_data"
        },
        {
          "data": {
            "text/html": [
              "Find logs at: <code>.\\wandb\\run-20250422_161436-2dcpocs0\\logs</code>"
            ],
            "text/plain": [
              "<IPython.core.display.HTML object>"
            ]
          },
          "metadata": {},
          "output_type": "display_data"
        }
      ],
      "source": [
        "# parameters\n",
        "epochs = 100\n",
        "learning_rate = 0.001\n",
        "weight_decay = 0.0005\n",
        "\n",
        "# optimizer and loss\n",
        "optimizer = torch.optim.Adam(alexnet_model.parameters(), lr=learning_rate, weight_decay=weight_decay)\n",
        "loss_fn = nn.CrossEntropyLoss()\n",
        "\n",
        "alexnet_model.init_weights()\n",
        "\n",
        "run = wandb.init(\n",
        "    entity = \"fejowo5522-\",\n",
        "    project= \"NN_list3_OxFlow\",\n",
        "    config = {\n",
        "        \"task\": 3,\n",
        "        \"batch_size\": batch_size,\n",
        "        \"epochs\": epochs,\n",
        "        \"optimizer\": \"Adam\",\n",
        "        \"learning_rate\": learning_rate,\n",
        "        \"weight_decay\": weight_decay,\n",
        "        \"loss_fn\": \"cross_entropy\",\n",
        "        \"model\": 'alexnet',\n",
        "        \"data_augmentation\": data_augmentation,\n",
        "    }\n",
        ")\n",
        "run.name = \"Task3_\" + str(int(time.time()))\n",
        "\n",
        "\n",
        "alexnet_model.train()\n",
        "for epoch in tqdm(range(epochs), desc=\"Training\", leave=False):\n",
        "    train_step(alexnet_model, optimizer, loss_fn, data_loaders['train'])\n",
        "\n",
        "    for loader, split in [\n",
        "        (data_loaders['train'], 'train'),\n",
        "        (data_loaders['valid'], 'valid'),\n",
        "    ]:\n",
        "        loss, accuracy = alexnet_model.evaluate(loader)\n",
        "        wandb.log({\n",
        "            \"epoch\": epoch,\n",
        "            f\"{split}_loss\": loss,\n",
        "            f\"{split}_accuracy\": accuracy,\n",
        "        })\n",
        "\n",
        "alexnet_model.eval()\n",
        "loss, accuracy = alexnet_model.evaluate(data_loaders['test'])\n",
        "wandb.log({\n",
        "    \"test_loss\": loss,\n",
        "    \"test_accuracy\": accuracy,\n",
        "})\n",
        "print(\n",
        "    \"Test set: Average loss: {:8.6f}, Accuracy: ({:4.1f}%)\".format(\n",
        "        loss,\n",
        "        100.0 * accuracy,\n",
        "    )\n",
        ")\n",
        "\n",
        "run.finish()"
      ]
    },
    {
      "cell_type": "markdown",
      "id": "h_sR8QQ6sJf_",
      "metadata": {
        "id": "h_sR8QQ6sJf_"
      },
      "source": [
        "## Task 4\n",
        "* Input normalization: experiment with different input normalization techniques (e.g., mean subtraction, standardization) and analyze their impact on the model's performance.\n"
      ]
    },
    {
      "cell_type": "code",
      "execution_count": 42,
      "id": "cI-Mr0erKKku",
      "metadata": {
        "id": "cI-Mr0erKKku"
      },
      "outputs": [],
      "source": [
        "def train_step(model, optimizer, loss_fn, data_loader):\n",
        "    data_iter = iter(data_loader)\n",
        "\n",
        "    for batch_idx, (inputs, labels) in enumerate(data_iter):\n",
        "        inputs, labels = inputs.to(_device), labels.to(_device)\n",
        "\n",
        "        optimizer.zero_grad()   # Zero gradients\n",
        "        logits = model(inputs)   # Forward pass\n",
        "        loss = loss_fn(logits, labels)  # Compute loss\n",
        "        loss.backward() # Backward pass\n",
        "        optimizer.step()    # Update weights\n",
        "\n",
        "        wandb.log({\n",
        "            \"loss\": loss.item(),\n",
        "            \"batch_idx\": batch_idx,\n",
        "        })"
      ]
    },
    {
      "cell_type": "code",
      "execution_count": 43,
      "id": "nsC8Cv-ctYs6",
      "metadata": {
        "id": "nsC8Cv-ctYs6"
      },
      "outputs": [],
      "source": [
        "def test_data_loaders(\n",
        "    normalization_method,\n",
        "    data_loaders,\n",
        "    model,\n",
        "    epochs=10,\n",
        "    learning_rate=0.001,\n",
        "    weight_decay = 0.0005,\n",
        "):\n",
        "    # optimizer and loss\n",
        "    optimizer = torch.optim.Adam(model.parameters(), lr=learning_rate, weight_decay=weight_decay)\n",
        "    loss_fn = nn.CrossEntropyLoss()\n",
        "\n",
        "    model.init_weights()\n",
        "\n",
        "    run = wandb.init(\n",
        "        entity = \"fejowo5522-\",\n",
        "        project= \"NN_list3_OxFlow\",\n",
        "        config = {\n",
        "            \"task\": 4,\n",
        "            \"batch_size\": batch_size,\n",
        "            \"epochs\": epochs,\n",
        "            \"optimizer\": \"Adam\",\n",
        "            \"learning_rate\": learning_rate,\n",
        "            \"weight_decay\": weight_decay,\n",
        "            \"loss_fn\": \"cross_entropy\",\n",
        "            \"model\": 'alexnet',\n",
        "            \"normalization\": normalization_method,\n",
        "            \"data_augmentation\": data_augmentation,\n",
        "        }\n",
        "    )\n",
        "    run.name = \"Task4_\" + str(int(time.time()))\n",
        "\n",
        "\n",
        "    model.train()\n",
        "    for epoch in tqdm(range(epochs), desc=\"Training\", leave=False):\n",
        "        train_step(model, optimizer, loss_fn, data_loaders['train'])\n",
        "\n",
        "        for loader, split in [\n",
        "            (data_loaders['train'], 'train'),\n",
        "            (data_loaders['valid'], 'valid'),\n",
        "        ]:\n",
        "            loss, accuracy = model.evaluate(loader)\n",
        "            wandb.log({\n",
        "                \"epoch\": epoch,\n",
        "                f\"{split}_loss\": loss,\n",
        "                f\"{split}_accuracy\": accuracy,\n",
        "            })\n",
        "\n",
        "    model.eval()\n",
        "    loss, accuracy = model.evaluate(data_loaders['test'])\n",
        "    wandb.log({\n",
        "        \"test_loss\": loss,\n",
        "        \"test_accuracy\": accuracy,\n",
        "    })\n",
        "    print(\n",
        "        \"Test set: Average loss: {:8.6f}, Accuracy: ({:4.1f}%)\".format(\n",
        "            loss,\n",
        "            100.0 * accuracy,\n",
        "        )\n",
        "    )\n",
        "\n",
        "    run.finish()"
      ]
    },
    {
      "cell_type": "code",
      "execution_count": 44,
      "id": "KgQ8WJtDsoCC",
      "metadata": {
        "colab": {
          "base_uri": "https://localhost:8080/",
          "height": 1000,
          "referenced_widgets": [
            "d91dcdcea05241a5a29afcd278fa82d0",
            "207ecbe74fd94c9bbee49e78bccbb114",
            "bbb34e6c2b004d339fb607f79f9da62a",
            "48b6bc6c63064396934ea4d0888a5910",
            "e7b662617f3b467a81680944430c0189",
            "a33e572741494f22b1c7fa1473d12fba",
            "d72deb31dc874356a328f4d11a41034e",
            "df42ff91d8234c3c9cae54e194302063",
            "bce0bf1b15c141fa868a4ff9c9cad10c",
            "bc7bc3bcd617463b8acd45de0dcae9fb",
            "774fa10f23c9470e99e39de6e52243fd",
            "63078e81221d47ce915756d175e44daf",
            "3ebcb1cb84a84dc7a08eda6f3e45eb32",
            "1af0721f7d124ffdaeaf076fae5d885f",
            "abbd6adb872f4272a082732e36b704b0",
            "36d2459b63934bcfa09450da86e3b342",
            "d337772c25a54b74a8fb5f4ded922948",
            "0f15ee3a73f0404983f07982d861b78f",
            "3da9d2ef06a14765a8cb03e3714509ea",
            "e693224d838a4470ae4f436174283991",
            "6c5dbdee23c546559b84ea89751acfd9",
            "fb879be9e7ff407a8a5d6cb3136cf539"
          ]
        },
        "id": "KgQ8WJtDsoCC",
        "outputId": "7e0345bc-3c20-4c23-efba-deffff3a4568"
      },
      "outputs": [
        {
          "data": {
            "text/html": [
              "Tracking run with wandb version 0.19.9"
            ],
            "text/plain": [
              "<IPython.core.display.HTML object>"
            ]
          },
          "metadata": {},
          "output_type": "display_data"
        },
        {
          "data": {
            "text/html": [
              "Run data is saved locally in <code>d:\\SharedData\\Documents\\Programming\\UWr\\Sem6\\NN\\List3\\wandb\\run-20250422_164852-4ioxt8qi</code>"
            ],
            "text/plain": [
              "<IPython.core.display.HTML object>"
            ]
          },
          "metadata": {},
          "output_type": "display_data"
        },
        {
          "data": {
            "text/html": [
              "Syncing run <strong><a href='https://wandb.ai/fejowo5522-/NN_list3_OxFlow/runs/4ioxt8qi' target=\"_blank\">colorful-morning-148</a></strong> to <a href='https://wandb.ai/fejowo5522-/NN_list3_OxFlow' target=\"_blank\">Weights & Biases</a> (<a href='https://wandb.me/developer-guide' target=\"_blank\">docs</a>)<br>"
            ],
            "text/plain": [
              "<IPython.core.display.HTML object>"
            ]
          },
          "metadata": {},
          "output_type": "display_data"
        },
        {
          "data": {
            "text/html": [
              " View project at <a href='https://wandb.ai/fejowo5522-/NN_list3_OxFlow' target=\"_blank\">https://wandb.ai/fejowo5522-/NN_list3_OxFlow</a>"
            ],
            "text/plain": [
              "<IPython.core.display.HTML object>"
            ]
          },
          "metadata": {},
          "output_type": "display_data"
        },
        {
          "data": {
            "text/html": [
              " View run at <a href='https://wandb.ai/fejowo5522-/NN_list3_OxFlow/runs/4ioxt8qi' target=\"_blank\">https://wandb.ai/fejowo5522-/NN_list3_OxFlow/runs/4ioxt8qi</a>"
            ],
            "text/plain": [
              "<IPython.core.display.HTML object>"
            ]
          },
          "metadata": {},
          "output_type": "display_data"
        },
        {
          "name": "stderr",
          "output_type": "stream",
          "text": [
            "                                                         \r"
          ]
        },
        {
          "name": "stdout",
          "output_type": "stream",
          "text": [
            "Test set: Average loss: 4.624605, Accuracy: ( 1.5%)\n"
          ]
        },
        {
          "data": {
            "text/html": [],
            "text/plain": [
              "<IPython.core.display.HTML object>"
            ]
          },
          "metadata": {},
          "output_type": "display_data"
        },
        {
          "data": {
            "text/html": [
              "<br>    <style><br>        .wandb-row {<br>            display: flex;<br>            flex-direction: row;<br>            flex-wrap: wrap;<br>            justify-content: flex-start;<br>            width: 100%;<br>        }<br>        .wandb-col {<br>            display: flex;<br>            flex-direction: column;<br>            flex-basis: 100%;<br>            flex: 1;<br>            padding: 10px;<br>        }<br>    </style><br><div class=\"wandb-row\"><div class=\"wandb-col\"><h3>Run history:</h3><br/><table class=\"wandb\"><tr><td>batch_idx</td><td>▁▅▆▁▂▇█▁▄▄█▁▁▂▃█▂▃▃▄█▃▄██▁▂▅▇█▄▄▅█▃▁▂▄▅█</td></tr><tr><td>epoch</td><td>▁▁▂▂▃▃▃▃▄▄▅▅▆▆▆▆▇▇██</td></tr><tr><td>loss</td><td>█▂▁▁▁▁▁▁▁▁▁▁▁▁▁▁▁▁▁▁▁▁▁▁▁▁▁▁▁▁▁▁▁▁▁▁▁▁▁▁</td></tr><tr><td>test_accuracy</td><td>▁</td></tr><tr><td>test_loss</td><td>▁</td></tr><tr><td>train_accuracy</td><td>▁▅▅▅▅█▆█▃▆</td></tr><tr><td>train_loss</td><td>█▄▄▄▁▂▁▃▂▃</td></tr><tr><td>valid_accuracy</td><td>█▇▇▆█▆▇▇█▁</td></tr><tr><td>valid_loss</td><td>█▆▇▇▁▆▅▄▃▃</td></tr></table><br/></div><div class=\"wandb-col\"><h3>Run summary:</h3><br/><table class=\"wandb\"><tr><td>batch_idx</td><td>15</td></tr><tr><td>epoch</td><td>9</td></tr><tr><td>loss</td><td>4.62719</td></tr><tr><td>test_accuracy</td><td>0.01529</td></tr><tr><td>test_loss</td><td>4.6246</td></tr><tr><td>train_accuracy</td><td>0.01078</td></tr><tr><td>train_loss</td><td>4.62502</td></tr><tr><td>valid_accuracy</td><td>0.00392</td></tr><tr><td>valid_loss</td><td>4.62499</td></tr></table><br/></div></div>"
            ],
            "text/plain": [
              "<IPython.core.display.HTML object>"
            ]
          },
          "metadata": {},
          "output_type": "display_data"
        },
        {
          "data": {
            "text/html": [
              " View run <strong style=\"color:#cdcd00\">Task4_1745333333</strong> at: <a href='https://wandb.ai/fejowo5522-/NN_list3_OxFlow/runs/4ioxt8qi' target=\"_blank\">https://wandb.ai/fejowo5522-/NN_list3_OxFlow/runs/4ioxt8qi</a><br> View project at: <a href='https://wandb.ai/fejowo5522-/NN_list3_OxFlow' target=\"_blank\">https://wandb.ai/fejowo5522-/NN_list3_OxFlow</a><br>Synced 5 W&B file(s), 0 media file(s), 0 artifact file(s) and 0 other file(s)"
            ],
            "text/plain": [
              "<IPython.core.display.HTML object>"
            ]
          },
          "metadata": {},
          "output_type": "display_data"
        },
        {
          "data": {
            "text/html": [
              "Find logs at: <code>.\\wandb\\run-20250422_164852-4ioxt8qi\\logs</code>"
            ],
            "text/plain": [
              "<IPython.core.display.HTML object>"
            ]
          },
          "metadata": {},
          "output_type": "display_data"
        },
        {
          "data": {
            "text/html": [
              "Tracking run with wandb version 0.19.9"
            ],
            "text/plain": [
              "<IPython.core.display.HTML object>"
            ]
          },
          "metadata": {},
          "output_type": "display_data"
        },
        {
          "data": {
            "text/html": [
              "Run data is saved locally in <code>d:\\SharedData\\Documents\\Programming\\UWr\\Sem6\\NN\\List3\\wandb\\run-20250422_165239-gn0xdgf8</code>"
            ],
            "text/plain": [
              "<IPython.core.display.HTML object>"
            ]
          },
          "metadata": {},
          "output_type": "display_data"
        },
        {
          "data": {
            "text/html": [
              "Syncing run <strong><a href='https://wandb.ai/fejowo5522-/NN_list3_OxFlow/runs/gn0xdgf8' target=\"_blank\">playful-disco-149</a></strong> to <a href='https://wandb.ai/fejowo5522-/NN_list3_OxFlow' target=\"_blank\">Weights & Biases</a> (<a href='https://wandb.me/developer-guide' target=\"_blank\">docs</a>)<br>"
            ],
            "text/plain": [
              "<IPython.core.display.HTML object>"
            ]
          },
          "metadata": {},
          "output_type": "display_data"
        },
        {
          "data": {
            "text/html": [
              " View project at <a href='https://wandb.ai/fejowo5522-/NN_list3_OxFlow' target=\"_blank\">https://wandb.ai/fejowo5522-/NN_list3_OxFlow</a>"
            ],
            "text/plain": [
              "<IPython.core.display.HTML object>"
            ]
          },
          "metadata": {},
          "output_type": "display_data"
        },
        {
          "data": {
            "text/html": [
              " View run at <a href='https://wandb.ai/fejowo5522-/NN_list3_OxFlow/runs/gn0xdgf8' target=\"_blank\">https://wandb.ai/fejowo5522-/NN_list3_OxFlow/runs/gn0xdgf8</a>"
            ],
            "text/plain": [
              "<IPython.core.display.HTML object>"
            ]
          },
          "metadata": {},
          "output_type": "display_data"
        },
        {
          "name": "stderr",
          "output_type": "stream",
          "text": [
            "                                                         \r"
          ]
        },
        {
          "name": "stdout",
          "output_type": "stream",
          "text": [
            "Test set: Average loss: 4.624555, Accuracy: ( 0.3%)\n"
          ]
        },
        {
          "data": {
            "text/html": [],
            "text/plain": [
              "<IPython.core.display.HTML object>"
            ]
          },
          "metadata": {},
          "output_type": "display_data"
        },
        {
          "data": {
            "text/html": [
              "<br>    <style><br>        .wandb-row {<br>            display: flex;<br>            flex-direction: row;<br>            flex-wrap: wrap;<br>            justify-content: flex-start;<br>            width: 100%;<br>        }<br>        .wandb-col {<br>            display: flex;<br>            flex-direction: column;<br>            flex-basis: 100%;<br>            flex: 1;<br>            padding: 10px;<br>        }<br>    </style><br><div class=\"wandb-row\"><div class=\"wandb-col\"><h3>Run history:</h3><br/><table class=\"wandb\"><tr><td>batch_idx</td><td>▂▄▅▇▄▁▁▃▆▇▅▆▇▇▁▃▅▇▁▂▅▅▆▇▇▃▅▅▇▁▃▃▅▅▁▃▅▅▆█</td></tr><tr><td>epoch</td><td>▁▁▂▂▃▃▃▃▄▄▅▅▆▆▆▆▇▇██</td></tr><tr><td>loss</td><td>█▁▁▁▁▁▁▁▁▁▁▁▁▁▁▁▁▁▁▁▁▁▁▁▁▁▁▁▁▁▁▁▁▁▁▁▁▁▁▁</td></tr><tr><td>test_accuracy</td><td>▁</td></tr><tr><td>test_loss</td><td>▁</td></tr><tr><td>train_accuracy</td><td>▅▅▁█▆▅▆▅▄▅</td></tr><tr><td>train_loss</td><td>▄█▆▄▃▂▆▂▃▁</td></tr><tr><td>valid_accuracy</td><td>▆█▁▆█▁█▃▆▆</td></tr><tr><td>valid_loss</td><td>█▆▆▅▃▃▃▂▂▁</td></tr></table><br/></div><div class=\"wandb-col\"><h3>Run summary:</h3><br/><table class=\"wandb\"><tr><td>batch_idx</td><td>15</td></tr><tr><td>epoch</td><td>9</td></tr><tr><td>loss</td><td>4.62548</td></tr><tr><td>test_accuracy</td><td>0.00325</td></tr><tr><td>test_loss</td><td>4.62455</td></tr><tr><td>train_accuracy</td><td>0.0098</td></tr><tr><td>train_loss</td><td>4.625</td></tr><tr><td>valid_accuracy</td><td>0.0098</td></tr><tr><td>valid_loss</td><td>4.62499</td></tr></table><br/></div></div>"
            ],
            "text/plain": [
              "<IPython.core.display.HTML object>"
            ]
          },
          "metadata": {},
          "output_type": "display_data"
        },
        {
          "data": {
            "text/html": [
              " View run <strong style=\"color:#cdcd00\">Task4_1745333560</strong> at: <a href='https://wandb.ai/fejowo5522-/NN_list3_OxFlow/runs/gn0xdgf8' target=\"_blank\">https://wandb.ai/fejowo5522-/NN_list3_OxFlow/runs/gn0xdgf8</a><br> View project at: <a href='https://wandb.ai/fejowo5522-/NN_list3_OxFlow' target=\"_blank\">https://wandb.ai/fejowo5522-/NN_list3_OxFlow</a><br>Synced 5 W&B file(s), 0 media file(s), 0 artifact file(s) and 0 other file(s)"
            ],
            "text/plain": [
              "<IPython.core.display.HTML object>"
            ]
          },
          "metadata": {},
          "output_type": "display_data"
        },
        {
          "data": {
            "text/html": [
              "Find logs at: <code>.\\wandb\\run-20250422_165239-gn0xdgf8\\logs</code>"
            ],
            "text/plain": [
              "<IPython.core.display.HTML object>"
            ]
          },
          "metadata": {},
          "output_type": "display_data"
        }
      ],
      "source": [
        "normalization_transforms = {\n",
        "    'mean_subtraction': transforms.Normalize(mean=[0.485, 0.456, 0.406], std=[1, 1, 1]),\n",
        "    'standardization': transforms.Normalize(mean=[0.485, 0.456, 0.406], std=[0.229, 0.224, 0.225]),\n",
        "}\n",
        "\n",
        "for name, normalization in normalization_transforms.items():\n",
        "    data_loaders = load_flowers(\n",
        "        batch_size,\n",
        "        (1,1,1),\n",
        "        train_transform=transforms.Compose([\n",
        "            transforms.Resize((224, 224)),\n",
        "\n",
        "            transforms.RandomResizedCrop(224, scale=(0.8, 1.0)),\n",
        "            transforms.RandomRotation(15),\n",
        "            transforms.RandomHorizontalFlip(),\n",
        "            transforms.RandomAdjustSharpness(sharpness_factor=2),\n",
        "            transforms.ColorJitter(brightness=0.2, contrast=0.2, saturation=0.2),\n",
        "\n",
        "            transforms.ToTensor(),\n",
        "            normalization,\n",
        "        ]),\n",
        "        eval_transform=transforms.Compose([\n",
        "            transforms.Resize((224, 224)),\n",
        "            transforms.ToTensor(),\n",
        "            normalization,\n",
        "        ]),\n",
        "        Loader=torch.utils.data.DataLoader\n",
        "    )\n",
        "\n",
        "\n",
        "    model = AlexNetBaseline(num_classes=102).to(_device)\n",
        "\n",
        "    test_data_loaders(name, data_loaders, model)\n",
        "\n"
      ]
    },
    {
      "cell_type": "markdown",
      "id": "RhqlS7OEFV3_",
      "metadata": {
        "id": "RhqlS7OEFV3_"
      },
      "source": [
        "## Zad 5\n",
        "* Experiment with different hyperparameters such as learning rate, batch size, number of epochs, and optimizer choice (e.g., SGD, Adam)."
      ]
    },
    {
      "cell_type": "markdown",
      "id": "mlzF1HDnKNLl",
      "metadata": {
        "id": "mlzF1HDnKNLl"
      },
      "source": [
        "### Testing function"
      ]
    },
    {
      "cell_type": "code",
      "execution_count": null,
      "id": "JM0F_foWFVBS",
      "metadata": {
        "id": "JM0F_foWFVBS"
      },
      "outputs": [],
      "source": [
        "def random_search_tuner(\n",
        "    param_ranges,\n",
        "    model_name,\n",
        "    model_class,\n",
        "    optimizer_name='Adam',\n",
        "    loss_fn_name='cross_entropy',\n",
        "    trials=10,\n",
        "    epochs=10,\n",
        "):\n",
        "    optimizer = {\n",
        "        'Adam': torch.optim.Adam,\n",
        "        'SGD': torch.optim.SGD,\n",
        "    }[optimizer_name]\n",
        "\n",
        "    loss_fn = {\n",
        "        'cross_entropy': nn.CrossEntropyLoss,\n",
        "        'mse': nn.MSELoss,\n",
        "    }[loss_fn_name]\n",
        "    loss_fn = loss_fn()\n",
        "\n",
        "    for trial in tqdm(range(trials), desc=\"Trial\", leave=False, position=0):\n",
        "        # randomly sample hyperparameters\n",
        "        variables = {\n",
        "            'learning_rate': 0,\n",
        "            'weight_decay': 0,\n",
        "            'momentum': 0,\n",
        "            'batch_size': 0,\n",
        "        }\n",
        "\n",
        "        for name, variable in variables.items():\n",
        "            if name in param_ranges:\n",
        "                variables[name] = np.random.uniform(param_ranges[name][0], param_ranges[name][1])\n",
        "\n",
        "        # init model\n",
        "        model = model_class().to(_device)\n",
        "        model.init_weights()\n",
        "\n",
        "        # create optimizer\n",
        "        if(optimizer_name == 'SGD'):\n",
        "            _optimizer = optimizer(\n",
        "                model.parameters(),\n",
        "                lr=variables['learning_rate'],\n",
        "                weight_decay=variables['weight_decay'],\n",
        "                momentum=variables['momentum'],\n",
        "            )\n",
        "        elif(optimizer_name == 'Adam'):\n",
        "            _optimizer = optimizer(\n",
        "                model.parameters(),\n",
        "                lr=variables['learning_rate'],\n",
        "                weight_decay=variables['weight_decay'],\n",
        "            )\n",
        "\n",
        "        # create data loaders\n",
        "        data_percent = (1,1,1)\n",
        "        data_loaders = load_flowers(\n",
        "            batch_size,\n",
        "            data_percent,\n",
        "        )\n",
        "\n",
        "        # init wandb\n",
        "        with Capturing() as output:\n",
        "            run = wandb.init(\n",
        "                entity = \"fejowo5522-\",\n",
        "                project= \"NN_list3_OxFlow\",\n",
        "                config = {\n",
        "                    \"task\": 5,\n",
        "                    \"batch_size\": variables['batch_size'],\n",
        "                    \"epochs\": epochs,\n",
        "                    \"optimizer\": optimizer_name,\n",
        "                    \"learning_rate\": variables['learning_rate'],\n",
        "                    \"momentum\": variables['momentum'],\n",
        "                    \"weight_decay\": variables['weight_decay'],\n",
        "                    \"loss_fn\": loss_fn_name,\n",
        "                    \"model\": model_name,\n",
        "                    \"data_percent\": data_percent,\n",
        "                    \"data_augmentation\": data_augmentation,\n",
        "                }\n",
        "            )\n",
        "            run.name = \"Task5_\" + str(int(time.time()))\n",
        "\n",
        "        # train model\n",
        "        model.train()\n",
        "        for epoch in tqdm(range(epochs), desc=\"Epoch\", leave=False, position=1):\n",
        "            train_step(model, _optimizer, loss_fn, data_loaders['train'])\n",
        "\n",
        "            for loader, split in [\n",
        "                (data_loaders['train'], 'train'),\n",
        "                (data_loaders['valid'], 'valid'),\n",
        "            ]:\n",
        "                loss, accuracy = model.evaluate(loader)\n",
        "                with Capturing() as output:\n",
        "                    wandb.log({\n",
        "                        \"epoch\": epoch,\n",
        "                        f\"{split}_loss\": loss,\n",
        "                        f\"{split}_accuracy\": accuracy,\n",
        "                    })\n",
        "\n",
        "        model.eval()\n",
        "        loss, accuracy = model.evaluate(data_loaders['test'])\n",
        "        with Capturing() as output:\n",
        "            wandb.log({\n",
        "                \"test_loss\": loss,\n",
        "                \"test_accuracy\": accuracy,\n",
        "            })\n",
        "            # print(\n",
        "            #     \"Test set: Average loss: {:8.6f}, Accuracy: ({:4.1f}%)\".format(\n",
        "            #         loss,\n",
        "            #         100.0 * accuracy,\n",
        "            #     )\n",
        "            # )\n",
        "            run.finish()\n"
      ]
    },
    {
      "cell_type": "markdown",
      "id": "lsbg8Ye1KTtB",
      "metadata": {
        "id": "lsbg8Ye1KTtB"
      },
      "source": [
        "### Model class"
      ]
    },
    {
      "cell_type": "code",
      "execution_count": 46,
      "id": "UefGJ5VVKU-F",
      "metadata": {
        "id": "UefGJ5VVKU-F"
      },
      "outputs": [],
      "source": [
        "def train_step(model, optimizer, loss_fn, data_loader):\n",
        "    data_iter = iter(data_loader)\n",
        "\n",
        "    for batch_idx, (inputs, labels) in enumerate(data_iter):\n",
        "        inputs, labels = inputs.to(_device), labels.to(_device)\n",
        "\n",
        "        optimizer.zero_grad()   # Zero gradients\n",
        "        logits = model(inputs)   # Forward pass\n",
        "        loss = loss_fn(logits, labels)  # Compute loss\n",
        "        loss.backward() # Backward pass\n",
        "        optimizer.step()    # Update weights\n",
        "\n",
        "        with Capturing() as output:\n",
        "            wandb.log({\n",
        "                \"loss\": loss.item(),\n",
        "                \"batch_idx\": batch_idx,\n",
        "            })"
      ]
    },
    {
      "cell_type": "markdown",
      "id": "Jih9V5i7KhgF",
      "metadata": {
        "id": "Jih9V5i7KhgF"
      },
      "source": [
        "### Perform test on parameters"
      ]
    },
    {
      "cell_type": "code",
      "execution_count": 48,
      "id": "QcM9cMoeKjci",
      "metadata": {
        "colab": {
          "base_uri": "https://localhost:8080/",
          "height": 700,
          "referenced_widgets": [
            "e27dd60fcfd64dc182691b9d42c20867",
            "b3f3a97f3fe74d93981caf4b92c78a0b",
            "d86615520aa042bf8752040c0512db16",
            "3a71a02cc09344a8b2283844684781ee",
            "e870e28c930a4d16b4768f27d6a77283",
            "d1a0b77df13743e699c23f6ed5fc8f38",
            "ab4d967f02b1474f9edf6513cd6a4dad",
            "85a4225f19734019b907ad786493032e",
            "2d22a5b9e7034484874b4da70086248a",
            "b26c1f8140854b78afe4df570d77472e",
            "1facb9118b454854b5bfae931115b15e",
            "f8039dacf28b4129ae528e69ef1caaab",
            "c376880bf4254311a4241386a27faa9e",
            "d2ce25838b5a48c7bdb7a8a9b36c11b6",
            "2dcf7b78f9354239bd3c76019fcc9b4c",
            "0d4eade8ef9a4017b83a8eb49fd6ff71",
            "723dfb211a154cb8ac7aa51b6727d293",
            "4ded19614e0c4484b80a4c1e403adc48",
            "a31b8c0837724178ab7a833391fdb97c",
            "290120c1c54843e4b32600ff0b993a83",
            "ef5334ac18be434f8cec8267b1da13ad",
            "5104afc176074c529de3e48133151ff4"
          ]
        },
        "id": "QcM9cMoeKjci",
        "outputId": "edd60e11-181c-4bfa-bbbd-a73409d8e843"
      },
      "outputs": [
        {
          "name": "stderr",
          "output_type": "stream",
          "text": [
            "Trial:   0%|          | 0/10 [00:00<?, ?it/s]"
          ]
        },
        {
          "data": {
            "text/html": [
              "Tracking run with wandb version 0.19.9"
            ],
            "text/plain": [
              "<IPython.core.display.HTML object>"
            ]
          },
          "metadata": {},
          "output_type": "display_data"
        },
        {
          "data": {
            "text/html": [
              "Run data is saved locally in <code>d:\\SharedData\\Documents\\Programming\\UWr\\Sem6\\NN\\List3\\wandb\\run-20250422_165631-nprhsev4</code>"
            ],
            "text/plain": [
              "<IPython.core.display.HTML object>"
            ]
          },
          "metadata": {},
          "output_type": "display_data"
        },
        {
          "data": {
            "text/html": [
              "Syncing run <strong><a href='https://wandb.ai/fejowo5522-/NN_list3_OxFlow/runs/nprhsev4' target=\"_blank\">copper-frost-150</a></strong> to <a href='https://wandb.ai/fejowo5522-/NN_list3_OxFlow' target=\"_blank\">Weights & Biases</a> (<a href='https://wandb.me/developer-guide' target=\"_blank\">docs</a>)<br>"
            ],
            "text/plain": [
              "<IPython.core.display.HTML object>"
            ]
          },
          "metadata": {},
          "output_type": "display_data"
        },
        {
          "data": {
            "text/html": [
              " View project at <a href='https://wandb.ai/fejowo5522-/NN_list3_OxFlow' target=\"_blank\">https://wandb.ai/fejowo5522-/NN_list3_OxFlow</a>"
            ],
            "text/plain": [
              "<IPython.core.display.HTML object>"
            ]
          },
          "metadata": {},
          "output_type": "display_data"
        },
        {
          "data": {
            "text/html": [
              " View run at <a href='https://wandb.ai/fejowo5522-/NN_list3_OxFlow/runs/nprhsev4' target=\"_blank\">https://wandb.ai/fejowo5522-/NN_list3_OxFlow/runs/nprhsev4</a>"
            ],
            "text/plain": [
              "<IPython.core.display.HTML object>"
            ]
          },
          "metadata": {},
          "output_type": "display_data"
        },
        {
          "name": "stderr",
          "output_type": "stream",
          "text": []
        },
        {
          "name": "stdout",
          "output_type": "stream",
          "text": [
            "Test set: Average loss: 4.626618, Accuracy: ( 0.7%)\n"
          ]
        },
        {
          "data": {
            "text/html": [],
            "text/plain": [
              "<IPython.core.display.HTML object>"
            ]
          },
          "metadata": {},
          "output_type": "display_data"
        },
        {
          "data": {
            "text/html": [
              "<br>    <style><br>        .wandb-row {<br>            display: flex;<br>            flex-direction: row;<br>            flex-wrap: wrap;<br>            justify-content: flex-start;<br>            width: 100%;<br>        }<br>        .wandb-col {<br>            display: flex;<br>            flex-direction: column;<br>            flex-basis: 100%;<br>            flex: 1;<br>            padding: 10px;<br>        }<br>    </style><br><div class=\"wandb-row\"><div class=\"wandb-col\"><h3>Run history:</h3><br/><table class=\"wandb\"><tr><td>batch_idx</td><td>▁▁▂▃▃▅▇▁▄▅▂▄▇█▂▆█▃▇▂▄▅▆▇▇▁▂▄▆▆▂▄▅▇▃▄▅▇▂▅</td></tr><tr><td>epoch</td><td>▁▁▂▂▃▃▃▃▄▄▅▅▆▆▆▆▇▇██</td></tr><tr><td>loss</td><td>█▅▁▁▁▁▁▁▁▁▁▁▁▁▁▁▁▁▁▁▁▁▁▁▁▁▁▁▁▁▁▁▁▁▁▁▁▁▁▁</td></tr><tr><td>test_accuracy</td><td>▁</td></tr><tr><td>test_loss</td><td>▁</td></tr><tr><td>train_accuracy</td><td>▁▇▆▄▇▇▆▇█▅</td></tr><tr><td>train_loss</td><td>█▁▁▁▁▁▁▁▁▁</td></tr><tr><td>valid_accuracy</td><td>▅▁▄▁▂▃▄▄█▄</td></tr><tr><td>valid_loss</td><td>█▁▁▁▁▁▁▁▁▁</td></tr></table><br/></div><div class=\"wandb-col\"><h3>Run summary:</h3><br/><table class=\"wandb\"><tr><td>batch_idx</td><td>15</td></tr><tr><td>epoch</td><td>9</td></tr><tr><td>loss</td><td>4.62958</td></tr><tr><td>test_accuracy</td><td>0.00748</td></tr><tr><td>test_loss</td><td>4.62662</td></tr><tr><td>train_accuracy</td><td>0.00882</td></tr><tr><td>train_loss</td><td>4.6246</td></tr><tr><td>valid_accuracy</td><td>0.01078</td></tr><tr><td>valid_loss</td><td>4.62499</td></tr></table><br/></div></div>"
            ],
            "text/plain": [
              "<IPython.core.display.HTML object>"
            ]
          },
          "metadata": {},
          "output_type": "display_data"
        },
        {
          "data": {
            "text/html": [
              " View run <strong style=\"color:#cdcd00\">Task5_1745333792</strong> at: <a href='https://wandb.ai/fejowo5522-/NN_list3_OxFlow/runs/nprhsev4' target=\"_blank\">https://wandb.ai/fejowo5522-/NN_list3_OxFlow/runs/nprhsev4</a><br> View project at: <a href='https://wandb.ai/fejowo5522-/NN_list3_OxFlow' target=\"_blank\">https://wandb.ai/fejowo5522-/NN_list3_OxFlow</a><br>Synced 5 W&B file(s), 0 media file(s), 0 artifact file(s) and 0 other file(s)"
            ],
            "text/plain": [
              "<IPython.core.display.HTML object>"
            ]
          },
          "metadata": {},
          "output_type": "display_data"
        },
        {
          "data": {
            "text/html": [
              "Find logs at: <code>.\\wandb\\run-20250422_165631-nprhsev4\\logs</code>"
            ],
            "text/plain": [
              "<IPython.core.display.HTML object>"
            ]
          },
          "metadata": {},
          "output_type": "display_data"
        },
        {
          "name": "stderr",
          "output_type": "stream",
          "text": [
            "Trial:  10%|█         | 1/10 [03:48<34:14, 228.25s/it]"
          ]
        },
        {
          "data": {
            "text/html": [
              "Tracking run with wandb version 0.19.9"
            ],
            "text/plain": [
              "<IPython.core.display.HTML object>"
            ]
          },
          "metadata": {},
          "output_type": "display_data"
        },
        {
          "data": {
            "text/html": [
              "Run data is saved locally in <code>d:\\SharedData\\Documents\\Programming\\UWr\\Sem6\\NN\\List3\\wandb\\run-20250422_170019-vi1ylvne</code>"
            ],
            "text/plain": [
              "<IPython.core.display.HTML object>"
            ]
          },
          "metadata": {},
          "output_type": "display_data"
        },
        {
          "data": {
            "text/html": [
              "Syncing run <strong><a href='https://wandb.ai/fejowo5522-/NN_list3_OxFlow/runs/vi1ylvne' target=\"_blank\">laced-terrain-151</a></strong> to <a href='https://wandb.ai/fejowo5522-/NN_list3_OxFlow' target=\"_blank\">Weights & Biases</a> (<a href='https://wandb.me/developer-guide' target=\"_blank\">docs</a>)<br>"
            ],
            "text/plain": [
              "<IPython.core.display.HTML object>"
            ]
          },
          "metadata": {},
          "output_type": "display_data"
        },
        {
          "data": {
            "text/html": [
              " View project at <a href='https://wandb.ai/fejowo5522-/NN_list3_OxFlow' target=\"_blank\">https://wandb.ai/fejowo5522-/NN_list3_OxFlow</a>"
            ],
            "text/plain": [
              "<IPython.core.display.HTML object>"
            ]
          },
          "metadata": {},
          "output_type": "display_data"
        },
        {
          "data": {
            "text/html": [
              " View run at <a href='https://wandb.ai/fejowo5522-/NN_list3_OxFlow/runs/vi1ylvne' target=\"_blank\">https://wandb.ai/fejowo5522-/NN_list3_OxFlow/runs/vi1ylvne</a>"
            ],
            "text/plain": [
              "<IPython.core.display.HTML object>"
            ]
          },
          "metadata": {},
          "output_type": "display_data"
        },
        {
          "name": "stderr",
          "output_type": "stream",
          "text": []
        },
        {
          "name": "stdout",
          "output_type": "stream",
          "text": [
            "Test set: Average loss: 4.672667, Accuracy: ( 0.4%)\n"
          ]
        },
        {
          "data": {
            "text/html": [],
            "text/plain": [
              "<IPython.core.display.HTML object>"
            ]
          },
          "metadata": {},
          "output_type": "display_data"
        },
        {
          "data": {
            "text/html": [
              "<br>    <style><br>        .wandb-row {<br>            display: flex;<br>            flex-direction: row;<br>            flex-wrap: wrap;<br>            justify-content: flex-start;<br>            width: 100%;<br>        }<br>        .wandb-col {<br>            display: flex;<br>            flex-direction: column;<br>            flex-basis: 100%;<br>            flex: 1;<br>            padding: 10px;<br>        }<br>    </style><br><div class=\"wandb-row\"><div class=\"wandb-col\"><h3>Run history:</h3><br/><table class=\"wandb\"><tr><td>batch_idx</td><td>▂▃▄▄▂▄▆▇█▁▅▆▁█▃▄▄▅▆▇▁▁▆██▁▂▄▇▁▅▁▂▄▅▆▇▇█▆</td></tr><tr><td>epoch</td><td>▁▁▂▂▃▃▃▃▄▄▅▅▆▆▆▆▇▇██</td></tr><tr><td>loss</td><td>█▁▁▁▁▁▁▁▁▁▁▁▁▁▁▁▁▁▁▁▁▁▁▁▁▁▁▁▁▁▁▁▁▁▁▁▁▁▁▁</td></tr><tr><td>test_accuracy</td><td>▁</td></tr><tr><td>test_loss</td><td>▁</td></tr><tr><td>train_accuracy</td><td>▃▃▃▁▃▃█▃▃▃</td></tr><tr><td>train_loss</td><td>▁▂▁█▂▁▂▂▁▄</td></tr><tr><td>valid_accuracy</td><td>▁▁▁█▁▁▃▁▃▁</td></tr><tr><td>valid_loss</td><td>▁▃▁█▂▁▂▂▁▅</td></tr></table><br/></div><div class=\"wandb-col\"><h3>Run summary:</h3><br/><table class=\"wandb\"><tr><td>batch_idx</td><td>15</td></tr><tr><td>epoch</td><td>9</td></tr><tr><td>loss</td><td>4.5841</td></tr><tr><td>test_accuracy</td><td>0.00407</td></tr><tr><td>test_loss</td><td>4.67267</td></tr><tr><td>train_accuracy</td><td>0.0098</td></tr><tr><td>train_loss</td><td>4.67572</td></tr><tr><td>valid_accuracy</td><td>0.0098</td></tr><tr><td>valid_loss</td><td>4.67169</td></tr></table><br/></div></div>"
            ],
            "text/plain": [
              "<IPython.core.display.HTML object>"
            ]
          },
          "metadata": {},
          "output_type": "display_data"
        },
        {
          "data": {
            "text/html": [
              " View run <strong style=\"color:#cdcd00\">Task5_1745334020</strong> at: <a href='https://wandb.ai/fejowo5522-/NN_list3_OxFlow/runs/vi1ylvne' target=\"_blank\">https://wandb.ai/fejowo5522-/NN_list3_OxFlow/runs/vi1ylvne</a><br> View project at: <a href='https://wandb.ai/fejowo5522-/NN_list3_OxFlow' target=\"_blank\">https://wandb.ai/fejowo5522-/NN_list3_OxFlow</a><br>Synced 5 W&B file(s), 0 media file(s), 0 artifact file(s) and 0 other file(s)"
            ],
            "text/plain": [
              "<IPython.core.display.HTML object>"
            ]
          },
          "metadata": {},
          "output_type": "display_data"
        },
        {
          "data": {
            "text/html": [
              "Find logs at: <code>.\\wandb\\run-20250422_170019-vi1ylvne\\logs</code>"
            ],
            "text/plain": [
              "<IPython.core.display.HTML object>"
            ]
          },
          "metadata": {},
          "output_type": "display_data"
        },
        {
          "name": "stderr",
          "output_type": "stream",
          "text": [
            "Trial:  20%|██        | 2/10 [07:35<30:19, 227.42s/it]"
          ]
        },
        {
          "data": {
            "text/html": [
              "Tracking run with wandb version 0.19.9"
            ],
            "text/plain": [
              "<IPython.core.display.HTML object>"
            ]
          },
          "metadata": {},
          "output_type": "display_data"
        },
        {
          "data": {
            "text/html": [
              "Run data is saved locally in <code>d:\\SharedData\\Documents\\Programming\\UWr\\Sem6\\NN\\List3\\wandb\\run-20250422_170406-nodfczqt</code>"
            ],
            "text/plain": [
              "<IPython.core.display.HTML object>"
            ]
          },
          "metadata": {},
          "output_type": "display_data"
        },
        {
          "data": {
            "text/html": [
              "Syncing run <strong><a href='https://wandb.ai/fejowo5522-/NN_list3_OxFlow/runs/nodfczqt' target=\"_blank\">solar-cloud-152</a></strong> to <a href='https://wandb.ai/fejowo5522-/NN_list3_OxFlow' target=\"_blank\">Weights & Biases</a> (<a href='https://wandb.me/developer-guide' target=\"_blank\">docs</a>)<br>"
            ],
            "text/plain": [
              "<IPython.core.display.HTML object>"
            ]
          },
          "metadata": {},
          "output_type": "display_data"
        },
        {
          "data": {
            "text/html": [
              " View project at <a href='https://wandb.ai/fejowo5522-/NN_list3_OxFlow' target=\"_blank\">https://wandb.ai/fejowo5522-/NN_list3_OxFlow</a>"
            ],
            "text/plain": [
              "<IPython.core.display.HTML object>"
            ]
          },
          "metadata": {},
          "output_type": "display_data"
        },
        {
          "data": {
            "text/html": [
              " View run at <a href='https://wandb.ai/fejowo5522-/NN_list3_OxFlow/runs/nodfczqt' target=\"_blank\">https://wandb.ai/fejowo5522-/NN_list3_OxFlow/runs/nodfczqt</a>"
            ],
            "text/plain": [
              "<IPython.core.display.HTML object>"
            ]
          },
          "metadata": {},
          "output_type": "display_data"
        },
        {
          "name": "stderr",
          "output_type": "stream",
          "text": []
        },
        {
          "name": "stdout",
          "output_type": "stream",
          "text": [
            "Test set: Average loss: 4.627571, Accuracy: ( 0.8%)\n"
          ]
        },
        {
          "data": {
            "text/html": [],
            "text/plain": [
              "<IPython.core.display.HTML object>"
            ]
          },
          "metadata": {},
          "output_type": "display_data"
        },
        {
          "data": {
            "text/html": [
              "<br>    <style><br>        .wandb-row {<br>            display: flex;<br>            flex-direction: row;<br>            flex-wrap: wrap;<br>            justify-content: flex-start;<br>            width: 100%;<br>        }<br>        .wandb-col {<br>            display: flex;<br>            flex-direction: column;<br>            flex-basis: 100%;<br>            flex: 1;<br>            padding: 10px;<br>        }<br>    </style><br><div class=\"wandb-row\"><div class=\"wandb-col\"><h3>Run history:</h3><br/><table class=\"wandb\"><tr><td>batch_idx</td><td>▁▂▃▇▇▂▃▅▇█▂▅▅▇▇▄▅▆▁▄▆▁▃▇▄▆▇█▁▁▆▁▃▄▆██▁▃▅</td></tr><tr><td>epoch</td><td>▁▁▂▂▃▃▃▃▄▄▅▅▆▆▆▆▇▇██</td></tr><tr><td>loss</td><td>▁▁▁▁▁█▃▂▁▁▁▃▁▁▁▁▁▁▁▁▁▁▁▁▁▁▁▁▁▁▁▁▁▁▁▁▁▁▁▁</td></tr><tr><td>test_accuracy</td><td>▁</td></tr><tr><td>test_loss</td><td>▁</td></tr><tr><td>train_accuracy</td><td>█▅▃▂▄▃▃▃▁▄</td></tr><tr><td>train_loss</td><td>█▁▁▁▁▁▁▁▁▁</td></tr><tr><td>valid_accuracy</td><td>▁▆▆▇▅▆▆▅▁█</td></tr><tr><td>valid_loss</td><td>█▁▂▁▁▁▁▁▁▁</td></tr></table><br/></div><div class=\"wandb-col\"><h3>Run summary:</h3><br/><table class=\"wandb\"><tr><td>batch_idx</td><td>15</td></tr><tr><td>epoch</td><td>9</td></tr><tr><td>loss</td><td>4.63346</td></tr><tr><td>test_accuracy</td><td>0.00764</td></tr><tr><td>test_loss</td><td>4.62757</td></tr><tr><td>train_accuracy</td><td>0.01078</td></tr><tr><td>train_loss</td><td>4.6254</td></tr><tr><td>valid_accuracy</td><td>0.01275</td></tr><tr><td>valid_loss</td><td>4.62431</td></tr></table><br/></div></div>"
            ],
            "text/plain": [
              "<IPython.core.display.HTML object>"
            ]
          },
          "metadata": {},
          "output_type": "display_data"
        },
        {
          "data": {
            "text/html": [
              " View run <strong style=\"color:#cdcd00\">Task5_1745334247</strong> at: <a href='https://wandb.ai/fejowo5522-/NN_list3_OxFlow/runs/nodfczqt' target=\"_blank\">https://wandb.ai/fejowo5522-/NN_list3_OxFlow/runs/nodfczqt</a><br> View project at: <a href='https://wandb.ai/fejowo5522-/NN_list3_OxFlow' target=\"_blank\">https://wandb.ai/fejowo5522-/NN_list3_OxFlow</a><br>Synced 5 W&B file(s), 0 media file(s), 0 artifact file(s) and 0 other file(s)"
            ],
            "text/plain": [
              "<IPython.core.display.HTML object>"
            ]
          },
          "metadata": {},
          "output_type": "display_data"
        },
        {
          "data": {
            "text/html": [
              "Find logs at: <code>.\\wandb\\run-20250422_170406-nodfczqt\\logs</code>"
            ],
            "text/plain": [
              "<IPython.core.display.HTML object>"
            ]
          },
          "metadata": {},
          "output_type": "display_data"
        },
        {
          "name": "stderr",
          "output_type": "stream",
          "text": [
            "Trial:  30%|███       | 3/10 [11:23<26:33, 227.65s/it]"
          ]
        },
        {
          "data": {
            "text/html": [
              "Tracking run with wandb version 0.19.9"
            ],
            "text/plain": [
              "<IPython.core.display.HTML object>"
            ]
          },
          "metadata": {},
          "output_type": "display_data"
        },
        {
          "data": {
            "text/html": [
              "Run data is saved locally in <code>d:\\SharedData\\Documents\\Programming\\UWr\\Sem6\\NN\\List3\\wandb\\run-20250422_170754-dlpz4540</code>"
            ],
            "text/plain": [
              "<IPython.core.display.HTML object>"
            ]
          },
          "metadata": {},
          "output_type": "display_data"
        },
        {
          "data": {
            "text/html": [
              "Syncing run <strong><a href='https://wandb.ai/fejowo5522-/NN_list3_OxFlow/runs/dlpz4540' target=\"_blank\">warm-moon-153</a></strong> to <a href='https://wandb.ai/fejowo5522-/NN_list3_OxFlow' target=\"_blank\">Weights & Biases</a> (<a href='https://wandb.me/developer-guide' target=\"_blank\">docs</a>)<br>"
            ],
            "text/plain": [
              "<IPython.core.display.HTML object>"
            ]
          },
          "metadata": {},
          "output_type": "display_data"
        },
        {
          "data": {
            "text/html": [
              " View project at <a href='https://wandb.ai/fejowo5522-/NN_list3_OxFlow' target=\"_blank\">https://wandb.ai/fejowo5522-/NN_list3_OxFlow</a>"
            ],
            "text/plain": [
              "<IPython.core.display.HTML object>"
            ]
          },
          "metadata": {},
          "output_type": "display_data"
        },
        {
          "data": {
            "text/html": [
              " View run at <a href='https://wandb.ai/fejowo5522-/NN_list3_OxFlow/runs/dlpz4540' target=\"_blank\">https://wandb.ai/fejowo5522-/NN_list3_OxFlow/runs/dlpz4540</a>"
            ],
            "text/plain": [
              "<IPython.core.display.HTML object>"
            ]
          },
          "metadata": {},
          "output_type": "display_data"
        },
        {
          "name": "stderr",
          "output_type": "stream",
          "text": []
        },
        {
          "name": "stdout",
          "output_type": "stream",
          "text": [
            "Test set: Average loss: 4.624457, Accuracy: ( 1.0%)\n"
          ]
        },
        {
          "data": {
            "text/html": [],
            "text/plain": [
              "<IPython.core.display.HTML object>"
            ]
          },
          "metadata": {},
          "output_type": "display_data"
        },
        {
          "data": {
            "text/html": [
              "<br>    <style><br>        .wandb-row {<br>            display: flex;<br>            flex-direction: row;<br>            flex-wrap: wrap;<br>            justify-content: flex-start;<br>            width: 100%;<br>        }<br>        .wandb-col {<br>            display: flex;<br>            flex-direction: column;<br>            flex-basis: 100%;<br>            flex: 1;<br>            padding: 10px;<br>        }<br>    </style><br><div class=\"wandb-row\"><div class=\"wandb-col\"><h3>Run history:</h3><br/><table class=\"wandb\"><tr><td>batch_idx</td><td>▃▄▄▇█▅█▂▃▄▁▃▆▆▂▇▇▃▄▄▇█▁▁▂▄▅▅▂▂▇█▁▂▃▆▆▇▃█</td></tr><tr><td>epoch</td><td>▁▁▂▂▃▃▃▃▄▄▅▅▆▆▆▆▇▇██</td></tr><tr><td>loss</td><td>█▁▁▁▁▁▁▁▁▁▁▁▁▁▁▁▁▁▁▁▁▁▁▁▁▁▁▁▁▁▁▁▁▁▁▁▁▁▁▁</td></tr><tr><td>test_accuracy</td><td>▁</td></tr><tr><td>test_loss</td><td>▁</td></tr><tr><td>train_accuracy</td><td>██▁▆▆▆▅▆▆▆</td></tr><tr><td>train_loss</td><td>▃▁█▁▁▁▃▁▁▁</td></tr><tr><td>valid_accuracy</td><td>▃▂█▁▃▂▂▂▂▂</td></tr><tr><td>valid_loss</td><td>▃▁█▁▁▄▃▁▁▁</td></tr></table><br/></div><div class=\"wandb-col\"><h3>Run summary:</h3><br/><table class=\"wandb\"><tr><td>batch_idx</td><td>15</td></tr><tr><td>epoch</td><td>9</td></tr><tr><td>loss</td><td>7371.14209</td></tr><tr><td>test_accuracy</td><td>0.01008</td></tr><tr><td>test_loss</td><td>4.62446</td></tr><tr><td>train_accuracy</td><td>0.0098</td></tr><tr><td>train_loss</td><td>304.64776</td></tr><tr><td>valid_accuracy</td><td>0.0098</td></tr><tr><td>valid_loss</td><td>98.68562</td></tr></table><br/></div></div>"
            ],
            "text/plain": [
              "<IPython.core.display.HTML object>"
            ]
          },
          "metadata": {},
          "output_type": "display_data"
        },
        {
          "data": {
            "text/html": [
              " View run <strong style=\"color:#cdcd00\">Task5_1745334475</strong> at: <a href='https://wandb.ai/fejowo5522-/NN_list3_OxFlow/runs/dlpz4540' target=\"_blank\">https://wandb.ai/fejowo5522-/NN_list3_OxFlow/runs/dlpz4540</a><br> View project at: <a href='https://wandb.ai/fejowo5522-/NN_list3_OxFlow' target=\"_blank\">https://wandb.ai/fejowo5522-/NN_list3_OxFlow</a><br>Synced 5 W&B file(s), 0 media file(s), 0 artifact file(s) and 0 other file(s)"
            ],
            "text/plain": [
              "<IPython.core.display.HTML object>"
            ]
          },
          "metadata": {},
          "output_type": "display_data"
        },
        {
          "data": {
            "text/html": [
              "Find logs at: <code>.\\wandb\\run-20250422_170754-dlpz4540\\logs</code>"
            ],
            "text/plain": [
              "<IPython.core.display.HTML object>"
            ]
          },
          "metadata": {},
          "output_type": "display_data"
        },
        {
          "name": "stderr",
          "output_type": "stream",
          "text": [
            "Trial:  40%|████      | 4/10 [15:09<22:43, 227.32s/it]"
          ]
        },
        {
          "data": {
            "text/html": [
              "Tracking run with wandb version 0.19.9"
            ],
            "text/plain": [
              "<IPython.core.display.HTML object>"
            ]
          },
          "metadata": {},
          "output_type": "display_data"
        },
        {
          "data": {
            "text/html": [
              "Run data is saved locally in <code>d:\\SharedData\\Documents\\Programming\\UWr\\Sem6\\NN\\List3\\wandb\\run-20250422_171141-3avcgndh</code>"
            ],
            "text/plain": [
              "<IPython.core.display.HTML object>"
            ]
          },
          "metadata": {},
          "output_type": "display_data"
        },
        {
          "data": {
            "text/html": [
              "Syncing run <strong><a href='https://wandb.ai/fejowo5522-/NN_list3_OxFlow/runs/3avcgndh' target=\"_blank\">lively-microwave-154</a></strong> to <a href='https://wandb.ai/fejowo5522-/NN_list3_OxFlow' target=\"_blank\">Weights & Biases</a> (<a href='https://wandb.me/developer-guide' target=\"_blank\">docs</a>)<br>"
            ],
            "text/plain": [
              "<IPython.core.display.HTML object>"
            ]
          },
          "metadata": {},
          "output_type": "display_data"
        },
        {
          "data": {
            "text/html": [
              " View project at <a href='https://wandb.ai/fejowo5522-/NN_list3_OxFlow' target=\"_blank\">https://wandb.ai/fejowo5522-/NN_list3_OxFlow</a>"
            ],
            "text/plain": [
              "<IPython.core.display.HTML object>"
            ]
          },
          "metadata": {},
          "output_type": "display_data"
        },
        {
          "data": {
            "text/html": [
              " View run at <a href='https://wandb.ai/fejowo5522-/NN_list3_OxFlow/runs/3avcgndh' target=\"_blank\">https://wandb.ai/fejowo5522-/NN_list3_OxFlow/runs/3avcgndh</a>"
            ],
            "text/plain": [
              "<IPython.core.display.HTML object>"
            ]
          },
          "metadata": {},
          "output_type": "display_data"
        },
        {
          "name": "stderr",
          "output_type": "stream",
          "text": []
        },
        {
          "name": "stdout",
          "output_type": "stream",
          "text": [
            "Test set: Average loss: 4.628027, Accuracy: ( 0.3%)\n"
          ]
        },
        {
          "data": {
            "text/html": [],
            "text/plain": [
              "<IPython.core.display.HTML object>"
            ]
          },
          "metadata": {},
          "output_type": "display_data"
        },
        {
          "data": {
            "text/html": [
              "<br>    <style><br>        .wandb-row {<br>            display: flex;<br>            flex-direction: row;<br>            flex-wrap: wrap;<br>            justify-content: flex-start;<br>            width: 100%;<br>        }<br>        .wandb-col {<br>            display: flex;<br>            flex-direction: column;<br>            flex-basis: 100%;<br>            flex: 1;<br>            padding: 10px;<br>        }<br>    </style><br><div class=\"wandb-row\"><div class=\"wandb-col\"><h3>Run history:</h3><br/><table class=\"wandb\"><tr><td>batch_idx</td><td>▂▄▆█▂▅▆▇▁▄█▁▆█▁▅▅▇▁▂▄▄▆▇▁▂▃▅▁▅▇██▁▁█▁▃▄█</td></tr><tr><td>epoch</td><td>▁▁▂▂▃▃▃▃▄▄▅▅▆▆▆▆▇▇██</td></tr><tr><td>loss</td><td>▁▁▁▁▂▂▁▁▁▁▁▁▁█▁▁▁▁▁▁▁▁▁▁▁▁▁▁▁▁▁▁▁▁▁▁▁▁▁▁</td></tr><tr><td>test_accuracy</td><td>▁</td></tr><tr><td>test_loss</td><td>▁</td></tr><tr><td>train_accuracy</td><td>██▁███████</td></tr><tr><td>train_loss</td><td>▁▁▆█▁▁▁▁▁▁</td></tr><tr><td>valid_accuracy</td><td>▃█▃▁▃▃▃▃▃▃</td></tr><tr><td>valid_loss</td><td>▁▁▆█▁▁▁▁▁▁</td></tr></table><br/></div><div class=\"wandb-col\"><h3>Run summary:</h3><br/><table class=\"wandb\"><tr><td>batch_idx</td><td>15</td></tr><tr><td>epoch</td><td>9</td></tr><tr><td>loss</td><td>1763265.25</td></tr><tr><td>test_accuracy</td><td>0.00325</td></tr><tr><td>test_loss</td><td>4.62803</td></tr><tr><td>train_accuracy</td><td>0.0098</td></tr><tr><td>train_loss</td><td>6217056.32939</td></tr><tr><td>valid_accuracy</td><td>0.0098</td></tr><tr><td>valid_loss</td><td>7116.0379</td></tr></table><br/></div></div>"
            ],
            "text/plain": [
              "<IPython.core.display.HTML object>"
            ]
          },
          "metadata": {},
          "output_type": "display_data"
        },
        {
          "data": {
            "text/html": [
              " View run <strong style=\"color:#cdcd00\">Task5_1745334702</strong> at: <a href='https://wandb.ai/fejowo5522-/NN_list3_OxFlow/runs/3avcgndh' target=\"_blank\">https://wandb.ai/fejowo5522-/NN_list3_OxFlow/runs/3avcgndh</a><br> View project at: <a href='https://wandb.ai/fejowo5522-/NN_list3_OxFlow' target=\"_blank\">https://wandb.ai/fejowo5522-/NN_list3_OxFlow</a><br>Synced 5 W&B file(s), 0 media file(s), 0 artifact file(s) and 0 other file(s)"
            ],
            "text/plain": [
              "<IPython.core.display.HTML object>"
            ]
          },
          "metadata": {},
          "output_type": "display_data"
        },
        {
          "data": {
            "text/html": [
              "Find logs at: <code>.\\wandb\\run-20250422_171141-3avcgndh\\logs</code>"
            ],
            "text/plain": [
              "<IPython.core.display.HTML object>"
            ]
          },
          "metadata": {},
          "output_type": "display_data"
        },
        {
          "name": "stderr",
          "output_type": "stream",
          "text": [
            "Trial:  50%|█████     | 5/10 [19:00<19:02, 228.55s/it]"
          ]
        },
        {
          "data": {
            "text/html": [
              "Tracking run with wandb version 0.19.9"
            ],
            "text/plain": [
              "<IPython.core.display.HTML object>"
            ]
          },
          "metadata": {},
          "output_type": "display_data"
        },
        {
          "data": {
            "text/html": [
              "Run data is saved locally in <code>d:\\SharedData\\Documents\\Programming\\UWr\\Sem6\\NN\\List3\\wandb\\run-20250422_171532-ccfvurxj</code>"
            ],
            "text/plain": [
              "<IPython.core.display.HTML object>"
            ]
          },
          "metadata": {},
          "output_type": "display_data"
        },
        {
          "data": {
            "text/html": [
              "Syncing run <strong><a href='https://wandb.ai/fejowo5522-/NN_list3_OxFlow/runs/ccfvurxj' target=\"_blank\">electric-cosmos-155</a></strong> to <a href='https://wandb.ai/fejowo5522-/NN_list3_OxFlow' target=\"_blank\">Weights & Biases</a> (<a href='https://wandb.me/developer-guide' target=\"_blank\">docs</a>)<br>"
            ],
            "text/plain": [
              "<IPython.core.display.HTML object>"
            ]
          },
          "metadata": {},
          "output_type": "display_data"
        },
        {
          "data": {
            "text/html": [
              " View project at <a href='https://wandb.ai/fejowo5522-/NN_list3_OxFlow' target=\"_blank\">https://wandb.ai/fejowo5522-/NN_list3_OxFlow</a>"
            ],
            "text/plain": [
              "<IPython.core.display.HTML object>"
            ]
          },
          "metadata": {},
          "output_type": "display_data"
        },
        {
          "data": {
            "text/html": [
              " View run at <a href='https://wandb.ai/fejowo5522-/NN_list3_OxFlow/runs/ccfvurxj' target=\"_blank\">https://wandb.ai/fejowo5522-/NN_list3_OxFlow/runs/ccfvurxj</a>"
            ],
            "text/plain": [
              "<IPython.core.display.HTML object>"
            ]
          },
          "metadata": {},
          "output_type": "display_data"
        },
        {
          "name": "stderr",
          "output_type": "stream",
          "text": []
        },
        {
          "name": "stdout",
          "output_type": "stream",
          "text": [
            "Test set: Average loss: 4.624874, Accuracy: ( 0.4%)\n"
          ]
        },
        {
          "data": {
            "text/html": [],
            "text/plain": [
              "<IPython.core.display.HTML object>"
            ]
          },
          "metadata": {},
          "output_type": "display_data"
        },
        {
          "data": {
            "text/html": [
              "<br>    <style><br>        .wandb-row {<br>            display: flex;<br>            flex-direction: row;<br>            flex-wrap: wrap;<br>            justify-content: flex-start;<br>            width: 100%;<br>        }<br>        .wandb-col {<br>            display: flex;<br>            flex-direction: column;<br>            flex-basis: 100%;<br>            flex: 1;<br>            padding: 10px;<br>        }<br>    </style><br><div class=\"wandb-row\"><div class=\"wandb-col\"><h3>Run history:</h3><br/><table class=\"wandb\"><tr><td>batch_idx</td><td>▂▃▆▇▂▆▇▁▃▃▆█▂▃▆█▂▃█▁▆█▄▅▅▂▃▄▅▆▇█▁▃█▃▃▄▅█</td></tr><tr><td>epoch</td><td>▁▁▂▂▃▃▃▃▄▄▅▅▆▆▆▆▇▇██</td></tr><tr><td>loss</td><td>█▂▃▃▂▃▃▁▁▄▃▂▂▂▂▂▂▂▂▂▁▁▂▂▂▂▂▂▂▂▂▂▂▂▂▂▂▂▂▂</td></tr><tr><td>test_accuracy</td><td>▁</td></tr><tr><td>test_loss</td><td>▁</td></tr><tr><td>train_accuracy</td><td>▃▄▃█▄▁▂▆▃▄</td></tr><tr><td>train_loss</td><td>█▃▂▅▅▁▇▇█▇</td></tr><tr><td>valid_accuracy</td><td>▄█▅▇▄▄▁▄▄▄</td></tr><tr><td>valid_loss</td><td>█▁▃▄▃▄▆▆▇▇</td></tr></table><br/></div><div class=\"wandb-col\"><h3>Run summary:</h3><br/><table class=\"wandb\"><tr><td>batch_idx</td><td>15</td></tr><tr><td>epoch</td><td>9</td></tr><tr><td>loss</td><td>4.62678</td></tr><tr><td>test_accuracy</td><td>0.00407</td></tr><tr><td>test_loss</td><td>4.62487</td></tr><tr><td>train_accuracy</td><td>0.0098</td></tr><tr><td>train_loss</td><td>4.62498</td></tr><tr><td>valid_accuracy</td><td>0.0098</td></tr><tr><td>valid_loss</td><td>4.62497</td></tr></table><br/></div></div>"
            ],
            "text/plain": [
              "<IPython.core.display.HTML object>"
            ]
          },
          "metadata": {},
          "output_type": "display_data"
        },
        {
          "data": {
            "text/html": [
              " View run <strong style=\"color:#cdcd00\">Task5_1745334932</strong> at: <a href='https://wandb.ai/fejowo5522-/NN_list3_OxFlow/runs/ccfvurxj' target=\"_blank\">https://wandb.ai/fejowo5522-/NN_list3_OxFlow/runs/ccfvurxj</a><br> View project at: <a href='https://wandb.ai/fejowo5522-/NN_list3_OxFlow' target=\"_blank\">https://wandb.ai/fejowo5522-/NN_list3_OxFlow</a><br>Synced 5 W&B file(s), 0 media file(s), 0 artifact file(s) and 0 other file(s)"
            ],
            "text/plain": [
              "<IPython.core.display.HTML object>"
            ]
          },
          "metadata": {},
          "output_type": "display_data"
        },
        {
          "data": {
            "text/html": [
              "Find logs at: <code>.\\wandb\\run-20250422_171532-ccfvurxj\\logs</code>"
            ],
            "text/plain": [
              "<IPython.core.display.HTML object>"
            ]
          },
          "metadata": {},
          "output_type": "display_data"
        },
        {
          "name": "stderr",
          "output_type": "stream",
          "text": [
            "Trial:  60%|██████    | 6/10 [22:48<15:13, 228.30s/it]"
          ]
        },
        {
          "data": {
            "text/html": [
              "Tracking run with wandb version 0.19.9"
            ],
            "text/plain": [
              "<IPython.core.display.HTML object>"
            ]
          },
          "metadata": {},
          "output_type": "display_data"
        },
        {
          "data": {
            "text/html": [
              "Run data is saved locally in <code>d:\\SharedData\\Documents\\Programming\\UWr\\Sem6\\NN\\List3\\wandb\\run-20250422_171919-oosi6cxb</code>"
            ],
            "text/plain": [
              "<IPython.core.display.HTML object>"
            ]
          },
          "metadata": {},
          "output_type": "display_data"
        },
        {
          "data": {
            "text/html": [
              "Syncing run <strong><a href='https://wandb.ai/fejowo5522-/NN_list3_OxFlow/runs/oosi6cxb' target=\"_blank\">astral-silence-156</a></strong> to <a href='https://wandb.ai/fejowo5522-/NN_list3_OxFlow' target=\"_blank\">Weights & Biases</a> (<a href='https://wandb.me/developer-guide' target=\"_blank\">docs</a>)<br>"
            ],
            "text/plain": [
              "<IPython.core.display.HTML object>"
            ]
          },
          "metadata": {},
          "output_type": "display_data"
        },
        {
          "data": {
            "text/html": [
              " View project at <a href='https://wandb.ai/fejowo5522-/NN_list3_OxFlow' target=\"_blank\">https://wandb.ai/fejowo5522-/NN_list3_OxFlow</a>"
            ],
            "text/plain": [
              "<IPython.core.display.HTML object>"
            ]
          },
          "metadata": {},
          "output_type": "display_data"
        },
        {
          "data": {
            "text/html": [
              " View run at <a href='https://wandb.ai/fejowo5522-/NN_list3_OxFlow/runs/oosi6cxb' target=\"_blank\">https://wandb.ai/fejowo5522-/NN_list3_OxFlow/runs/oosi6cxb</a>"
            ],
            "text/plain": [
              "<IPython.core.display.HTML object>"
            ]
          },
          "metadata": {},
          "output_type": "display_data"
        },
        {
          "name": "stderr",
          "output_type": "stream",
          "text": []
        },
        {
          "name": "stdout",
          "output_type": "stream",
          "text": [
            "Test set: Average loss: 4.630321, Accuracy: ( 1.6%)\n"
          ]
        },
        {
          "data": {
            "text/html": [],
            "text/plain": [
              "<IPython.core.display.HTML object>"
            ]
          },
          "metadata": {},
          "output_type": "display_data"
        },
        {
          "data": {
            "text/html": [
              "<br>    <style><br>        .wandb-row {<br>            display: flex;<br>            flex-direction: row;<br>            flex-wrap: wrap;<br>            justify-content: flex-start;<br>            width: 100%;<br>        }<br>        .wandb-col {<br>            display: flex;<br>            flex-direction: column;<br>            flex-basis: 100%;<br>            flex: 1;<br>            padding: 10px;<br>        }<br>    </style><br><div class=\"wandb-row\"><div class=\"wandb-col\"><h3>Run history:</h3><br/><table class=\"wandb\"><tr><td>batch_idx</td><td>▁▂▃▃▄█▁▅▅▅▃▅▆▄▇▁▄▅▅▆▇▇█▁▃▇▃▄▆▇▂▅▆▂▃▃▄▅▇▇</td></tr><tr><td>epoch</td><td>▁▁▂▂▃▃▃▃▄▄▅▅▆▆▆▆▇▇██</td></tr><tr><td>loss</td><td>▁▁▁▁▁▁▁▁▃▁▁▂▁▂▁▅▁▁▁▁█▁▁▁▁▁▁▁▁▁▁▁▁▁▁▁▁▁▁▁</td></tr><tr><td>test_accuracy</td><td>▁</td></tr><tr><td>test_loss</td><td>▁</td></tr><tr><td>train_accuracy</td><td>▁▆▃▃▁▆█▃▃▃</td></tr><tr><td>train_loss</td><td>█▁▁▂▁▁▁▁▁▁</td></tr><tr><td>valid_accuracy</td><td>▅█▅▆▅▅▁▆▅▅</td></tr><tr><td>valid_loss</td><td>█▁▁▂▁▁▁▁▁▁</td></tr></table><br/></div><div class=\"wandb-col\"><h3>Run summary:</h3><br/><table class=\"wandb\"><tr><td>batch_idx</td><td>15</td></tr><tr><td>epoch</td><td>9</td></tr><tr><td>loss</td><td>4.64729</td></tr><tr><td>test_accuracy</td><td>0.01626</td></tr><tr><td>test_loss</td><td>4.63032</td></tr><tr><td>train_accuracy</td><td>0.0098</td></tr><tr><td>train_loss</td><td>8695.68614</td></tr><tr><td>valid_accuracy</td><td>0.0098</td></tr><tr><td>valid_loss</td><td>327.65067</td></tr></table><br/></div></div>"
            ],
            "text/plain": [
              "<IPython.core.display.HTML object>"
            ]
          },
          "metadata": {},
          "output_type": "display_data"
        },
        {
          "data": {
            "text/html": [
              " View run <strong style=\"color:#cdcd00\">Task5_1745335160</strong> at: <a href='https://wandb.ai/fejowo5522-/NN_list3_OxFlow/runs/oosi6cxb' target=\"_blank\">https://wandb.ai/fejowo5522-/NN_list3_OxFlow/runs/oosi6cxb</a><br> View project at: <a href='https://wandb.ai/fejowo5522-/NN_list3_OxFlow' target=\"_blank\">https://wandb.ai/fejowo5522-/NN_list3_OxFlow</a><br>Synced 5 W&B file(s), 0 media file(s), 0 artifact file(s) and 0 other file(s)"
            ],
            "text/plain": [
              "<IPython.core.display.HTML object>"
            ]
          },
          "metadata": {},
          "output_type": "display_data"
        },
        {
          "data": {
            "text/html": [
              "Find logs at: <code>.\\wandb\\run-20250422_171919-oosi6cxb\\logs</code>"
            ],
            "text/plain": [
              "<IPython.core.display.HTML object>"
            ]
          },
          "metadata": {},
          "output_type": "display_data"
        },
        {
          "name": "stderr",
          "output_type": "stream",
          "text": [
            "Trial:  70%|███████   | 7/10 [26:35<11:23, 227.99s/it]"
          ]
        },
        {
          "data": {
            "text/html": [
              "Tracking run with wandb version 0.19.9"
            ],
            "text/plain": [
              "<IPython.core.display.HTML object>"
            ]
          },
          "metadata": {},
          "output_type": "display_data"
        },
        {
          "data": {
            "text/html": [
              "Run data is saved locally in <code>d:\\SharedData\\Documents\\Programming\\UWr\\Sem6\\NN\\List3\\wandb\\run-20250422_172307-q6kozl1u</code>"
            ],
            "text/plain": [
              "<IPython.core.display.HTML object>"
            ]
          },
          "metadata": {},
          "output_type": "display_data"
        },
        {
          "data": {
            "text/html": [
              "Syncing run <strong><a href='https://wandb.ai/fejowo5522-/NN_list3_OxFlow/runs/q6kozl1u' target=\"_blank\">dulcet-sun-157</a></strong> to <a href='https://wandb.ai/fejowo5522-/NN_list3_OxFlow' target=\"_blank\">Weights & Biases</a> (<a href='https://wandb.me/developer-guide' target=\"_blank\">docs</a>)<br>"
            ],
            "text/plain": [
              "<IPython.core.display.HTML object>"
            ]
          },
          "metadata": {},
          "output_type": "display_data"
        },
        {
          "data": {
            "text/html": [
              " View project at <a href='https://wandb.ai/fejowo5522-/NN_list3_OxFlow' target=\"_blank\">https://wandb.ai/fejowo5522-/NN_list3_OxFlow</a>"
            ],
            "text/plain": [
              "<IPython.core.display.HTML object>"
            ]
          },
          "metadata": {},
          "output_type": "display_data"
        },
        {
          "data": {
            "text/html": [
              " View run at <a href='https://wandb.ai/fejowo5522-/NN_list3_OxFlow/runs/q6kozl1u' target=\"_blank\">https://wandb.ai/fejowo5522-/NN_list3_OxFlow/runs/q6kozl1u</a>"
            ],
            "text/plain": [
              "<IPython.core.display.HTML object>"
            ]
          },
          "metadata": {},
          "output_type": "display_data"
        },
        {
          "name": "stderr",
          "output_type": "stream",
          "text": []
        },
        {
          "name": "stdout",
          "output_type": "stream",
          "text": [
            "Test set: Average loss: 4.622591, Accuracy: ( 0.6%)\n"
          ]
        },
        {
          "data": {
            "text/html": [],
            "text/plain": [
              "<IPython.core.display.HTML object>"
            ]
          },
          "metadata": {},
          "output_type": "display_data"
        },
        {
          "data": {
            "text/html": [
              "<br>    <style><br>        .wandb-row {<br>            display: flex;<br>            flex-direction: row;<br>            flex-wrap: wrap;<br>            justify-content: flex-start;<br>            width: 100%;<br>        }<br>        .wandb-col {<br>            display: flex;<br>            flex-direction: column;<br>            flex-basis: 100%;<br>            flex: 1;<br>            padding: 10px;<br>        }<br>    </style><br><div class=\"wandb-row\"><div class=\"wandb-col\"><h3>Run history:</h3><br/><table class=\"wandb\"><tr><td>batch_idx</td><td>▃▅▂▃▄▇▇▂▃▅▁▃▄▅▇▃▃▄▆▇▁▃▅▅▇▂▅█▁▄█▁▃▇█▁▃▅▅█</td></tr><tr><td>epoch</td><td>▁▁▂▂▃▃▃▃▄▄▅▅▆▆▆▆▇▇██</td></tr><tr><td>loss</td><td>█▁▅▄▁▁▁▁▁▁▁▁▁▁▁▁▁▁▁▁▁▁▁▁▁▁▁▁▁▁▁▁▁▁▁▁▁▁▁▁</td></tr><tr><td>test_accuracy</td><td>▁</td></tr><tr><td>test_loss</td><td>▁</td></tr><tr><td>train_accuracy</td><td>▁▁█▁▁▁▁▁▁▁</td></tr><tr><td>train_loss</td><td>█▁▁▁▁▁▁▁▁▁</td></tr><tr><td>valid_accuracy</td><td>▁█▆▆▆▆▆▆▆▆</td></tr><tr><td>valid_loss</td><td>█▁▁▁▁▁▁▁▁▁</td></tr></table><br/></div><div class=\"wandb-col\"><h3>Run summary:</h3><br/><table class=\"wandb\"><tr><td>batch_idx</td><td>15</td></tr><tr><td>epoch</td><td>9</td></tr><tr><td>loss</td><td>4.64324</td></tr><tr><td>test_accuracy</td><td>0.00634</td></tr><tr><td>test_loss</td><td>4.62259</td></tr><tr><td>train_accuracy</td><td>0.0098</td></tr><tr><td>train_loss</td><td>4.62523</td></tr><tr><td>valid_accuracy</td><td>0.0098</td></tr><tr><td>valid_loss</td><td>4.62523</td></tr></table><br/></div></div>"
            ],
            "text/plain": [
              "<IPython.core.display.HTML object>"
            ]
          },
          "metadata": {},
          "output_type": "display_data"
        },
        {
          "data": {
            "text/html": [
              " View run <strong style=\"color:#cdcd00\">Task5_1745335387</strong> at: <a href='https://wandb.ai/fejowo5522-/NN_list3_OxFlow/runs/q6kozl1u' target=\"_blank\">https://wandb.ai/fejowo5522-/NN_list3_OxFlow/runs/q6kozl1u</a><br> View project at: <a href='https://wandb.ai/fejowo5522-/NN_list3_OxFlow' target=\"_blank\">https://wandb.ai/fejowo5522-/NN_list3_OxFlow</a><br>Synced 5 W&B file(s), 0 media file(s), 0 artifact file(s) and 0 other file(s)"
            ],
            "text/plain": [
              "<IPython.core.display.HTML object>"
            ]
          },
          "metadata": {},
          "output_type": "display_data"
        },
        {
          "data": {
            "text/html": [
              "Find logs at: <code>.\\wandb\\run-20250422_172307-q6kozl1u\\logs</code>"
            ],
            "text/plain": [
              "<IPython.core.display.HTML object>"
            ]
          },
          "metadata": {},
          "output_type": "display_data"
        },
        {
          "name": "stderr",
          "output_type": "stream",
          "text": [
            "Trial:  80%|████████  | 8/10 [30:31<07:41, 230.55s/it]"
          ]
        },
        {
          "data": {
            "text/html": [
              "Tracking run with wandb version 0.19.9"
            ],
            "text/plain": [
              "<IPython.core.display.HTML object>"
            ]
          },
          "metadata": {},
          "output_type": "display_data"
        },
        {
          "data": {
            "text/html": [
              "Run data is saved locally in <code>d:\\SharedData\\Documents\\Programming\\UWr\\Sem6\\NN\\List3\\wandb\\run-20250422_172703-s3hi5zfr</code>"
            ],
            "text/plain": [
              "<IPython.core.display.HTML object>"
            ]
          },
          "metadata": {},
          "output_type": "display_data"
        },
        {
          "data": {
            "text/html": [
              "Syncing run <strong><a href='https://wandb.ai/fejowo5522-/NN_list3_OxFlow/runs/s3hi5zfr' target=\"_blank\">rural-sound-158</a></strong> to <a href='https://wandb.ai/fejowo5522-/NN_list3_OxFlow' target=\"_blank\">Weights & Biases</a> (<a href='https://wandb.me/developer-guide' target=\"_blank\">docs</a>)<br>"
            ],
            "text/plain": [
              "<IPython.core.display.HTML object>"
            ]
          },
          "metadata": {},
          "output_type": "display_data"
        },
        {
          "data": {
            "text/html": [
              " View project at <a href='https://wandb.ai/fejowo5522-/NN_list3_OxFlow' target=\"_blank\">https://wandb.ai/fejowo5522-/NN_list3_OxFlow</a>"
            ],
            "text/plain": [
              "<IPython.core.display.HTML object>"
            ]
          },
          "metadata": {},
          "output_type": "display_data"
        },
        {
          "data": {
            "text/html": [
              " View run at <a href='https://wandb.ai/fejowo5522-/NN_list3_OxFlow/runs/s3hi5zfr' target=\"_blank\">https://wandb.ai/fejowo5522-/NN_list3_OxFlow/runs/s3hi5zfr</a>"
            ],
            "text/plain": [
              "<IPython.core.display.HTML object>"
            ]
          },
          "metadata": {},
          "output_type": "display_data"
        },
        {
          "name": "stderr",
          "output_type": "stream",
          "text": []
        },
        {
          "name": "stdout",
          "output_type": "stream",
          "text": [
            "Test set: Average loss: 4.629289, Accuracy: ( 1.1%)\n"
          ]
        },
        {
          "data": {
            "text/html": [],
            "text/plain": [
              "<IPython.core.display.HTML object>"
            ]
          },
          "metadata": {},
          "output_type": "display_data"
        },
        {
          "data": {
            "text/html": [
              "<br>    <style><br>        .wandb-row {<br>            display: flex;<br>            flex-direction: row;<br>            flex-wrap: wrap;<br>            justify-content: flex-start;<br>            width: 100%;<br>        }<br>        .wandb-col {<br>            display: flex;<br>            flex-direction: column;<br>            flex-basis: 100%;<br>            flex: 1;<br>            padding: 10px;<br>        }<br>    </style><br><div class=\"wandb-row\"><div class=\"wandb-col\"><h3>Run history:</h3><br/><table class=\"wandb\"><tr><td>batch_idx</td><td>▂▄▅▆▆█▃▄▅▆▄▅▆▇▆▁▂▄▆█▇▃▅▅▆▇▇█▃▆█▁▄▁▂▃▅▆▆█</td></tr><tr><td>epoch</td><td>▁▁▂▂▃▃▃▃▄▄▅▅▆▆▆▆▇▇██</td></tr><tr><td>loss</td><td>█▁▁▁▁▂▁▂▃▁▂▁▁▁▁▁▁▁▁▁▁▁▁▁▁▁▂▂▁▁▁▁▁▁▄▁▁▁▁▁</td></tr><tr><td>test_accuracy</td><td>▁</td></tr><tr><td>test_loss</td><td>▁</td></tr><tr><td>train_accuracy</td><td>▁▁▁▁▁▁▁▁▁▁</td></tr><tr><td>train_loss</td><td>▁█▁▅▅▂▁▁▁▁</td></tr><tr><td>valid_accuracy</td><td>█▁▁▁▁▁▁▁▁▁</td></tr><tr><td>valid_loss</td><td>▁█▁▂▅▁▁▁▁▁</td></tr></table><br/></div><div class=\"wandb-col\"><h3>Run summary:</h3><br/><table class=\"wandb\"><tr><td>batch_idx</td><td>15</td></tr><tr><td>epoch</td><td>9</td></tr><tr><td>loss</td><td>4.64594</td></tr><tr><td>test_accuracy</td><td>0.01057</td></tr><tr><td>test_loss</td><td>4.62929</td></tr><tr><td>train_accuracy</td><td>0.0098</td></tr><tr><td>train_loss</td><td>1305.70387</td></tr><tr><td>valid_accuracy</td><td>0.0098</td></tr><tr><td>valid_loss</td><td>2171.545</td></tr></table><br/></div></div>"
            ],
            "text/plain": [
              "<IPython.core.display.HTML object>"
            ]
          },
          "metadata": {},
          "output_type": "display_data"
        },
        {
          "data": {
            "text/html": [
              " View run <strong style=\"color:#cdcd00\">Task5_1745335624</strong> at: <a href='https://wandb.ai/fejowo5522-/NN_list3_OxFlow/runs/s3hi5zfr' target=\"_blank\">https://wandb.ai/fejowo5522-/NN_list3_OxFlow/runs/s3hi5zfr</a><br> View project at: <a href='https://wandb.ai/fejowo5522-/NN_list3_OxFlow' target=\"_blank\">https://wandb.ai/fejowo5522-/NN_list3_OxFlow</a><br>Synced 5 W&B file(s), 0 media file(s), 0 artifact file(s) and 0 other file(s)"
            ],
            "text/plain": [
              "<IPython.core.display.HTML object>"
            ]
          },
          "metadata": {},
          "output_type": "display_data"
        },
        {
          "data": {
            "text/html": [
              "Find logs at: <code>.\\wandb\\run-20250422_172703-s3hi5zfr\\logs</code>"
            ],
            "text/plain": [
              "<IPython.core.display.HTML object>"
            ]
          },
          "metadata": {},
          "output_type": "display_data"
        },
        {
          "name": "stderr",
          "output_type": "stream",
          "text": [
            "Trial:  90%|█████████ | 9/10 [34:19<03:49, 229.74s/it]"
          ]
        },
        {
          "data": {
            "text/html": [
              "Tracking run with wandb version 0.19.9"
            ],
            "text/plain": [
              "<IPython.core.display.HTML object>"
            ]
          },
          "metadata": {},
          "output_type": "display_data"
        },
        {
          "data": {
            "text/html": [
              "Run data is saved locally in <code>d:\\SharedData\\Documents\\Programming\\UWr\\Sem6\\NN\\List3\\wandb\\run-20250422_173051-uzmrq27s</code>"
            ],
            "text/plain": [
              "<IPython.core.display.HTML object>"
            ]
          },
          "metadata": {},
          "output_type": "display_data"
        },
        {
          "data": {
            "text/html": [
              "Syncing run <strong><a href='https://wandb.ai/fejowo5522-/NN_list3_OxFlow/runs/uzmrq27s' target=\"_blank\">restful-cosmos-159</a></strong> to <a href='https://wandb.ai/fejowo5522-/NN_list3_OxFlow' target=\"_blank\">Weights & Biases</a> (<a href='https://wandb.me/developer-guide' target=\"_blank\">docs</a>)<br>"
            ],
            "text/plain": [
              "<IPython.core.display.HTML object>"
            ]
          },
          "metadata": {},
          "output_type": "display_data"
        },
        {
          "data": {
            "text/html": [
              " View project at <a href='https://wandb.ai/fejowo5522-/NN_list3_OxFlow' target=\"_blank\">https://wandb.ai/fejowo5522-/NN_list3_OxFlow</a>"
            ],
            "text/plain": [
              "<IPython.core.display.HTML object>"
            ]
          },
          "metadata": {},
          "output_type": "display_data"
        },
        {
          "data": {
            "text/html": [
              " View run at <a href='https://wandb.ai/fejowo5522-/NN_list3_OxFlow/runs/uzmrq27s' target=\"_blank\">https://wandb.ai/fejowo5522-/NN_list3_OxFlow/runs/uzmrq27s</a>"
            ],
            "text/plain": [
              "<IPython.core.display.HTML object>"
            ]
          },
          "metadata": {},
          "output_type": "display_data"
        },
        {
          "name": "stderr",
          "output_type": "stream",
          "text": []
        },
        {
          "name": "stdout",
          "output_type": "stream",
          "text": [
            "Test set: Average loss: 4.624595, Accuracy: ( 1.1%)\n"
          ]
        },
        {
          "data": {
            "text/html": [],
            "text/plain": [
              "<IPython.core.display.HTML object>"
            ]
          },
          "metadata": {},
          "output_type": "display_data"
        },
        {
          "data": {
            "text/html": [
              "<br>    <style><br>        .wandb-row {<br>            display: flex;<br>            flex-direction: row;<br>            flex-wrap: wrap;<br>            justify-content: flex-start;<br>            width: 100%;<br>        }<br>        .wandb-col {<br>            display: flex;<br>            flex-direction: column;<br>            flex-basis: 100%;<br>            flex: 1;<br>            padding: 10px;<br>        }<br>    </style><br><div class=\"wandb-row\"><div class=\"wandb-col\"><h3>Run history:</h3><br/><table class=\"wandb\"><tr><td>batch_idx</td><td>▁▆▁▂▃█▁▂▄▅▃▃▆▇█▄▆▇█▁▅▅▁▁▂▆█▁▅▆██▂▃▄█▁▃▃▇</td></tr><tr><td>epoch</td><td>▁▁▂▂▃▃▃▃▄▄▅▅▆▆▆▆▇▇██</td></tr><tr><td>loss</td><td>▁▁▁▁▂█▂▁▄▂▁▁▁▁▁▁▁▁▁▁▁▁▁▁▁▁▁▁▁▁▁▁▁▁▁▁▁▁▁▁</td></tr><tr><td>test_accuracy</td><td>▁</td></tr><tr><td>test_loss</td><td>▁</td></tr><tr><td>train_accuracy</td><td>▅▃▃▃▁▆▃█▅▃</td></tr><tr><td>train_loss</td><td>█▁▂▁▁▁▁▁▁▁</td></tr><tr><td>valid_accuracy</td><td>█▅▅▁▁▅▅▃▃▅</td></tr><tr><td>valid_loss</td><td>█▁▁▁▁▁▁▁▁▁</td></tr></table><br/></div><div class=\"wandb-col\"><h3>Run summary:</h3><br/><table class=\"wandb\"><tr><td>batch_idx</td><td>15</td></tr><tr><td>epoch</td><td>9</td></tr><tr><td>loss</td><td>4.64725</td></tr><tr><td>test_accuracy</td><td>0.0109</td></tr><tr><td>test_loss</td><td>4.6246</td></tr><tr><td>train_accuracy</td><td>0.0098</td></tr><tr><td>train_loss</td><td>4.62798</td></tr><tr><td>valid_accuracy</td><td>0.0098</td></tr><tr><td>valid_loss</td><td>4.62652</td></tr></table><br/></div></div>"
            ],
            "text/plain": [
              "<IPython.core.display.HTML object>"
            ]
          },
          "metadata": {},
          "output_type": "display_data"
        },
        {
          "data": {
            "text/html": [
              " View run <strong style=\"color:#cdcd00\">Task5_1745335851</strong> at: <a href='https://wandb.ai/fejowo5522-/NN_list3_OxFlow/runs/uzmrq27s' target=\"_blank\">https://wandb.ai/fejowo5522-/NN_list3_OxFlow/runs/uzmrq27s</a><br> View project at: <a href='https://wandb.ai/fejowo5522-/NN_list3_OxFlow' target=\"_blank\">https://wandb.ai/fejowo5522-/NN_list3_OxFlow</a><br>Synced 5 W&B file(s), 0 media file(s), 0 artifact file(s) and 0 other file(s)"
            ],
            "text/plain": [
              "<IPython.core.display.HTML object>"
            ]
          },
          "metadata": {},
          "output_type": "display_data"
        },
        {
          "data": {
            "text/html": [
              "Find logs at: <code>.\\wandb\\run-20250422_173051-uzmrq27s\\logs</code>"
            ],
            "text/plain": [
              "<IPython.core.display.HTML object>"
            ]
          },
          "metadata": {},
          "output_type": "display_data"
        },
        {
          "name": "stderr",
          "output_type": "stream",
          "text": [
            "                                                       \r"
          ]
        }
      ],
      "source": [
        "random_search_tuner(\n",
        "    param_ranges={\n",
        "        'learning_rate': (1e-5, 1e-1),\n",
        "        'weight_decay': (0.0, 0.1),\n",
        "    },\n",
        "    model_name = 'AlexNetBaseline',\n",
        "    model_class = AlexNetBaseline,\n",
        "    optimizer_name='Adam',\n",
        "    loss_fn_name='cross_entropy',\n",
        "    trials=10,\n",
        "    epochs=10,\n",
        ")"
      ]
    },
    {
      "cell_type": "code",
      "execution_count": 49,
      "id": "C6Sj0HRvL0w4",
      "metadata": {
        "id": "C6Sj0HRvL0w4"
      },
      "outputs": [
        {
          "name": "stderr",
          "output_type": "stream",
          "text": [
            "Trial:   0%|          | 0/10 [00:00<?, ?it/s]"
          ]
        },
        {
          "data": {
            "text/html": [
              "Tracking run with wandb version 0.19.9"
            ],
            "text/plain": [
              "<IPython.core.display.HTML object>"
            ]
          },
          "metadata": {},
          "output_type": "display_data"
        },
        {
          "data": {
            "text/html": [
              "Run data is saved locally in <code>d:\\SharedData\\Documents\\Programming\\UWr\\Sem6\\NN\\List3\\wandb\\run-20250422_173440-dame32tc</code>"
            ],
            "text/plain": [
              "<IPython.core.display.HTML object>"
            ]
          },
          "metadata": {},
          "output_type": "display_data"
        },
        {
          "data": {
            "text/html": [
              "Syncing run <strong><a href='https://wandb.ai/fejowo5522-/NN_list3_OxFlow/runs/dame32tc' target=\"_blank\">hardy-bee-160</a></strong> to <a href='https://wandb.ai/fejowo5522-/NN_list3_OxFlow' target=\"_blank\">Weights & Biases</a> (<a href='https://wandb.me/developer-guide' target=\"_blank\">docs</a>)<br>"
            ],
            "text/plain": [
              "<IPython.core.display.HTML object>"
            ]
          },
          "metadata": {},
          "output_type": "display_data"
        },
        {
          "data": {
            "text/html": [
              " View project at <a href='https://wandb.ai/fejowo5522-/NN_list3_OxFlow' target=\"_blank\">https://wandb.ai/fejowo5522-/NN_list3_OxFlow</a>"
            ],
            "text/plain": [
              "<IPython.core.display.HTML object>"
            ]
          },
          "metadata": {},
          "output_type": "display_data"
        },
        {
          "data": {
            "text/html": [
              " View run at <a href='https://wandb.ai/fejowo5522-/NN_list3_OxFlow/runs/dame32tc' target=\"_blank\">https://wandb.ai/fejowo5522-/NN_list3_OxFlow/runs/dame32tc</a>"
            ],
            "text/plain": [
              "<IPython.core.display.HTML object>"
            ]
          },
          "metadata": {},
          "output_type": "display_data"
        },
        {
          "name": "stderr",
          "output_type": "stream",
          "text": []
        },
        {
          "name": "stdout",
          "output_type": "stream",
          "text": [
            "Test set: Average loss:      nan, Accuracy: ( 0.3%)\n"
          ]
        },
        {
          "data": {
            "text/html": [],
            "text/plain": [
              "<IPython.core.display.HTML object>"
            ]
          },
          "metadata": {},
          "output_type": "display_data"
        },
        {
          "data": {
            "text/html": [
              "<br>    <style><br>        .wandb-row {<br>            display: flex;<br>            flex-direction: row;<br>            flex-wrap: wrap;<br>            justify-content: flex-start;<br>            width: 100%;<br>        }<br>        .wandb-col {<br>            display: flex;<br>            flex-direction: column;<br>            flex-basis: 100%;<br>            flex: 1;<br>            padding: 10px;<br>        }<br>    </style><br><div class=\"wandb-row\"><div class=\"wandb-col\"><h3>Run history:</h3><br/><table class=\"wandb\"><tr><td>batch_idx</td><td>▂▂▄▅▇▄▆▃▄▅▁▂▅▆▂▆▄█▁▃▆█▂▇▁▆▇█▃▁▂▄█▅▆▃▆▁▇█</td></tr><tr><td>epoch</td><td>▁▁▁▁▂▂▂▂▂▂▃▃▃▃▄▄▄▄▄▄▅▅▅▅▅▅▆▆▆▆▇▇▇▇▇▇████</td></tr><tr><td>loss</td><td>▁                                       </td></tr><tr><td>test_accuracy</td><td>▁</td></tr><tr><td>train_accuracy</td><td>▁▁▁▁▁▁▁▁▁▁▁▁▁▁▁▁▁▁▁▁</td></tr><tr><td>valid_accuracy</td><td>▁▁▁▁▁▁▁▁▁▁▁▁▁▁▁▁▁▁▁▁</td></tr></table><br/></div><div class=\"wandb-col\"><h3>Run summary:</h3><br/><table class=\"wandb\"><tr><td>batch_idx</td><td>15</td></tr><tr><td>epoch</td><td>19</td></tr><tr><td>loss</td><td>nan</td></tr><tr><td>test_accuracy</td><td>0.00325</td></tr><tr><td>test_loss</td><td>nan</td></tr><tr><td>train_accuracy</td><td>0.0098</td></tr><tr><td>train_loss</td><td>nan</td></tr><tr><td>valid_accuracy</td><td>0.0098</td></tr><tr><td>valid_loss</td><td>nan</td></tr></table><br/></div></div>"
            ],
            "text/plain": [
              "<IPython.core.display.HTML object>"
            ]
          },
          "metadata": {},
          "output_type": "display_data"
        },
        {
          "data": {
            "text/html": [
              " View run <strong style=\"color:#cdcd00\">Task5_1745336081</strong> at: <a href='https://wandb.ai/fejowo5522-/NN_list3_OxFlow/runs/dame32tc' target=\"_blank\">https://wandb.ai/fejowo5522-/NN_list3_OxFlow/runs/dame32tc</a><br> View project at: <a href='https://wandb.ai/fejowo5522-/NN_list3_OxFlow' target=\"_blank\">https://wandb.ai/fejowo5522-/NN_list3_OxFlow</a><br>Synced 5 W&B file(s), 0 media file(s), 0 artifact file(s) and 0 other file(s)"
            ],
            "text/plain": [
              "<IPython.core.display.HTML object>"
            ]
          },
          "metadata": {},
          "output_type": "display_data"
        },
        {
          "data": {
            "text/html": [
              "Find logs at: <code>.\\wandb\\run-20250422_173440-dame32tc\\logs</code>"
            ],
            "text/plain": [
              "<IPython.core.display.HTML object>"
            ]
          },
          "metadata": {},
          "output_type": "display_data"
        },
        {
          "name": "stderr",
          "output_type": "stream",
          "text": [
            "Trial:  10%|█         | 1/10 [07:05<1:03:53, 426.00s/it]"
          ]
        },
        {
          "data": {
            "text/html": [
              "Tracking run with wandb version 0.19.9"
            ],
            "text/plain": [
              "<IPython.core.display.HTML object>"
            ]
          },
          "metadata": {},
          "output_type": "display_data"
        },
        {
          "data": {
            "text/html": [
              "Run data is saved locally in <code>d:\\SharedData\\Documents\\Programming\\UWr\\Sem6\\NN\\List3\\wandb\\run-20250422_174147-79kkhsgo</code>"
            ],
            "text/plain": [
              "<IPython.core.display.HTML object>"
            ]
          },
          "metadata": {},
          "output_type": "display_data"
        },
        {
          "data": {
            "text/html": [
              "Syncing run <strong><a href='https://wandb.ai/fejowo5522-/NN_list3_OxFlow/runs/79kkhsgo' target=\"_blank\">ethereal-dust-161</a></strong> to <a href='https://wandb.ai/fejowo5522-/NN_list3_OxFlow' target=\"_blank\">Weights & Biases</a> (<a href='https://wandb.me/developer-guide' target=\"_blank\">docs</a>)<br>"
            ],
            "text/plain": [
              "<IPython.core.display.HTML object>"
            ]
          },
          "metadata": {},
          "output_type": "display_data"
        },
        {
          "data": {
            "text/html": [
              " View project at <a href='https://wandb.ai/fejowo5522-/NN_list3_OxFlow' target=\"_blank\">https://wandb.ai/fejowo5522-/NN_list3_OxFlow</a>"
            ],
            "text/plain": [
              "<IPython.core.display.HTML object>"
            ]
          },
          "metadata": {},
          "output_type": "display_data"
        },
        {
          "data": {
            "text/html": [
              " View run at <a href='https://wandb.ai/fejowo5522-/NN_list3_OxFlow/runs/79kkhsgo' target=\"_blank\">https://wandb.ai/fejowo5522-/NN_list3_OxFlow/runs/79kkhsgo</a>"
            ],
            "text/plain": [
              "<IPython.core.display.HTML object>"
            ]
          },
          "metadata": {},
          "output_type": "display_data"
        },
        {
          "name": "stderr",
          "output_type": "stream",
          "text": []
        },
        {
          "name": "stdout",
          "output_type": "stream",
          "text": [
            "Test set: Average loss: 3.793891, Accuracy: ( 9.3%)\n"
          ]
        },
        {
          "data": {
            "text/html": [],
            "text/plain": [
              "<IPython.core.display.HTML object>"
            ]
          },
          "metadata": {},
          "output_type": "display_data"
        },
        {
          "data": {
            "text/html": [
              "<br>    <style><br>        .wandb-row {<br>            display: flex;<br>            flex-direction: row;<br>            flex-wrap: wrap;<br>            justify-content: flex-start;<br>            width: 100%;<br>        }<br>        .wandb-col {<br>            display: flex;<br>            flex-direction: column;<br>            flex-basis: 100%;<br>            flex: 1;<br>            padding: 10px;<br>        }<br>    </style><br><div class=\"wandb-row\"><div class=\"wandb-col\"><h3>Run history:</h3><br/><table class=\"wandb\"><tr><td>batch_idx</td><td>▁▁▄▄▅▇█▄▆▇█▅▁▆█▃▁▇█▇▆▇▇█▁▂▄▇▄▅▇▂▇▂▃▅▆▇▂▅</td></tr><tr><td>epoch</td><td>▁▁▁▁▂▂▂▂▂▂▃▃▃▃▄▄▄▄▄▄▅▅▅▅▅▅▆▆▆▆▇▇▇▇▇▇████</td></tr><tr><td>loss</td><td>█▃▃▂▂▂▂▂▂▂▂▂▂▂▂▂▂▂▂▂▂▂▂▂▂▂▁▁▁▂▁▁▁▁▁▁▁▁▁▁</td></tr><tr><td>test_accuracy</td><td>▁</td></tr><tr><td>test_loss</td><td>▁</td></tr><tr><td>train_accuracy</td><td>▂▁▂▂▂▂▂▃▃▃▄▄▄▅▆▇▇▇██</td></tr><tr><td>train_loss</td><td>███▇▇▇▆▆▅▅▅▄▄▃▃▃▂▂▁▁</td></tr><tr><td>valid_accuracy</td><td>▁▁▂▂▂▃▂▃▃▃▃▄▄▅▆▅▅▇█▇</td></tr><tr><td>valid_loss</td><td>██▇▇▇▆▆▆▅▅▅▄▄▃▃▃▃▂▁▁</td></tr></table><br/></div><div class=\"wandb-col\"><h3>Run summary:</h3><br/><table class=\"wandb\"><tr><td>batch_idx</td><td>15</td></tr><tr><td>epoch</td><td>19</td></tr><tr><td>loss</td><td>3.90171</td></tr><tr><td>test_accuracy</td><td>0.0927</td></tr><tr><td>test_loss</td><td>3.79389</td></tr><tr><td>train_accuracy</td><td>0.10588</td></tr><tr><td>train_loss</td><td>3.69677</td></tr><tr><td>valid_accuracy</td><td>0.07549</td></tr><tr><td>valid_loss</td><td>3.85274</td></tr></table><br/></div></div>"
            ],
            "text/plain": [
              "<IPython.core.display.HTML object>"
            ]
          },
          "metadata": {},
          "output_type": "display_data"
        },
        {
          "data": {
            "text/html": [
              " View run <strong style=\"color:#cdcd00\">Task5_1745336507</strong> at: <a href='https://wandb.ai/fejowo5522-/NN_list3_OxFlow/runs/79kkhsgo' target=\"_blank\">https://wandb.ai/fejowo5522-/NN_list3_OxFlow/runs/79kkhsgo</a><br> View project at: <a href='https://wandb.ai/fejowo5522-/NN_list3_OxFlow' target=\"_blank\">https://wandb.ai/fejowo5522-/NN_list3_OxFlow</a><br>Synced 5 W&B file(s), 0 media file(s), 0 artifact file(s) and 0 other file(s)"
            ],
            "text/plain": [
              "<IPython.core.display.HTML object>"
            ]
          },
          "metadata": {},
          "output_type": "display_data"
        },
        {
          "data": {
            "text/html": [
              "Find logs at: <code>.\\wandb\\run-20250422_174147-79kkhsgo\\logs</code>"
            ],
            "text/plain": [
              "<IPython.core.display.HTML object>"
            ]
          },
          "metadata": {},
          "output_type": "display_data"
        },
        {
          "name": "stderr",
          "output_type": "stream",
          "text": [
            "Trial:  20%|██        | 2/10 [14:22<57:35, 431.95s/it]  "
          ]
        },
        {
          "data": {
            "text/html": [
              "Tracking run with wandb version 0.19.9"
            ],
            "text/plain": [
              "<IPython.core.display.HTML object>"
            ]
          },
          "metadata": {},
          "output_type": "display_data"
        },
        {
          "data": {
            "text/html": [
              "Run data is saved locally in <code>d:\\SharedData\\Documents\\Programming\\UWr\\Sem6\\NN\\List3\\wandb\\run-20250422_174903-k6z9eoii</code>"
            ],
            "text/plain": [
              "<IPython.core.display.HTML object>"
            ]
          },
          "metadata": {},
          "output_type": "display_data"
        },
        {
          "data": {
            "text/html": [
              "Syncing run <strong><a href='https://wandb.ai/fejowo5522-/NN_list3_OxFlow/runs/k6z9eoii' target=\"_blank\">eager-moon-162</a></strong> to <a href='https://wandb.ai/fejowo5522-/NN_list3_OxFlow' target=\"_blank\">Weights & Biases</a> (<a href='https://wandb.me/developer-guide' target=\"_blank\">docs</a>)<br>"
            ],
            "text/plain": [
              "<IPython.core.display.HTML object>"
            ]
          },
          "metadata": {},
          "output_type": "display_data"
        },
        {
          "data": {
            "text/html": [
              " View project at <a href='https://wandb.ai/fejowo5522-/NN_list3_OxFlow' target=\"_blank\">https://wandb.ai/fejowo5522-/NN_list3_OxFlow</a>"
            ],
            "text/plain": [
              "<IPython.core.display.HTML object>"
            ]
          },
          "metadata": {},
          "output_type": "display_data"
        },
        {
          "data": {
            "text/html": [
              " View run at <a href='https://wandb.ai/fejowo5522-/NN_list3_OxFlow/runs/k6z9eoii' target=\"_blank\">https://wandb.ai/fejowo5522-/NN_list3_OxFlow/runs/k6z9eoii</a>"
            ],
            "text/plain": [
              "<IPython.core.display.HTML object>"
            ]
          },
          "metadata": {},
          "output_type": "display_data"
        },
        {
          "name": "stderr",
          "output_type": "stream",
          "text": []
        },
        {
          "name": "stdout",
          "output_type": "stream",
          "text": [
            "Test set: Average loss:      nan, Accuracy: ( 0.3%)\n"
          ]
        },
        {
          "data": {
            "text/html": [],
            "text/plain": [
              "<IPython.core.display.HTML object>"
            ]
          },
          "metadata": {},
          "output_type": "display_data"
        },
        {
          "data": {
            "text/html": [
              "<br>    <style><br>        .wandb-row {<br>            display: flex;<br>            flex-direction: row;<br>            flex-wrap: wrap;<br>            justify-content: flex-start;<br>            width: 100%;<br>        }<br>        .wandb-col {<br>            display: flex;<br>            flex-direction: column;<br>            flex-basis: 100%;<br>            flex: 1;<br>            padding: 10px;<br>        }<br>    </style><br><div class=\"wandb-row\"><div class=\"wandb-col\"><h3>Run history:</h3><br/><table class=\"wandb\"><tr><td>batch_idx</td><td>▄▂▃▃▆▄▆▆▁▃▅▆▇█▁▆▆▅▆▂▄▆█▁▆▂▃▆▄▇▂▄▂█▂█▁▂▃█</td></tr><tr><td>epoch</td><td>▁▁▁▁▂▂▂▂▂▂▃▃▃▃▄▄▄▄▄▄▅▅▅▅▅▅▆▆▆▆▇▇▇▇▇▇████</td></tr><tr><td>loss</td><td>▁                                       </td></tr><tr><td>test_accuracy</td><td>▁</td></tr><tr><td>train_accuracy</td><td>▁▁▁▁▁▁▁▁▁▁▁▁▁▁▁▁▁▁▁▁</td></tr><tr><td>valid_accuracy</td><td>▁▁▁▁▁▁▁▁▁▁▁▁▁▁▁▁▁▁▁▁</td></tr></table><br/></div><div class=\"wandb-col\"><h3>Run summary:</h3><br/><table class=\"wandb\"><tr><td>batch_idx</td><td>15</td></tr><tr><td>epoch</td><td>19</td></tr><tr><td>loss</td><td>nan</td></tr><tr><td>test_accuracy</td><td>0.00325</td></tr><tr><td>test_loss</td><td>nan</td></tr><tr><td>train_accuracy</td><td>0.0098</td></tr><tr><td>train_loss</td><td>nan</td></tr><tr><td>valid_accuracy</td><td>0.0098</td></tr><tr><td>valid_loss</td><td>nan</td></tr></table><br/></div></div>"
            ],
            "text/plain": [
              "<IPython.core.display.HTML object>"
            ]
          },
          "metadata": {},
          "output_type": "display_data"
        },
        {
          "data": {
            "text/html": [
              " View run <strong style=\"color:#cdcd00\">Task5_1745336943</strong> at: <a href='https://wandb.ai/fejowo5522-/NN_list3_OxFlow/runs/k6z9eoii' target=\"_blank\">https://wandb.ai/fejowo5522-/NN_list3_OxFlow/runs/k6z9eoii</a><br> View project at: <a href='https://wandb.ai/fejowo5522-/NN_list3_OxFlow' target=\"_blank\">https://wandb.ai/fejowo5522-/NN_list3_OxFlow</a><br>Synced 5 W&B file(s), 0 media file(s), 0 artifact file(s) and 0 other file(s)"
            ],
            "text/plain": [
              "<IPython.core.display.HTML object>"
            ]
          },
          "metadata": {},
          "output_type": "display_data"
        },
        {
          "data": {
            "text/html": [
              "Find logs at: <code>.\\wandb\\run-20250422_174903-k6z9eoii\\logs</code>"
            ],
            "text/plain": [
              "<IPython.core.display.HTML object>"
            ]
          },
          "metadata": {},
          "output_type": "display_data"
        },
        {
          "name": "stderr",
          "output_type": "stream",
          "text": [
            "Trial:  30%|███       | 3/10 [21:33<50:21, 431.66s/it]"
          ]
        },
        {
          "data": {
            "text/html": [
              "Tracking run with wandb version 0.19.9"
            ],
            "text/plain": [
              "<IPython.core.display.HTML object>"
            ]
          },
          "metadata": {},
          "output_type": "display_data"
        },
        {
          "data": {
            "text/html": [
              "Run data is saved locally in <code>d:\\SharedData\\Documents\\Programming\\UWr\\Sem6\\NN\\List3\\wandb\\run-20250422_175614-7ngrhxpx</code>"
            ],
            "text/plain": [
              "<IPython.core.display.HTML object>"
            ]
          },
          "metadata": {},
          "output_type": "display_data"
        },
        {
          "data": {
            "text/html": [
              "Syncing run <strong><a href='https://wandb.ai/fejowo5522-/NN_list3_OxFlow/runs/7ngrhxpx' target=\"_blank\">lemon-sound-163</a></strong> to <a href='https://wandb.ai/fejowo5522-/NN_list3_OxFlow' target=\"_blank\">Weights & Biases</a> (<a href='https://wandb.me/developer-guide' target=\"_blank\">docs</a>)<br>"
            ],
            "text/plain": [
              "<IPython.core.display.HTML object>"
            ]
          },
          "metadata": {},
          "output_type": "display_data"
        },
        {
          "data": {
            "text/html": [
              " View project at <a href='https://wandb.ai/fejowo5522-/NN_list3_OxFlow' target=\"_blank\">https://wandb.ai/fejowo5522-/NN_list3_OxFlow</a>"
            ],
            "text/plain": [
              "<IPython.core.display.HTML object>"
            ]
          },
          "metadata": {},
          "output_type": "display_data"
        },
        {
          "data": {
            "text/html": [
              " View run at <a href='https://wandb.ai/fejowo5522-/NN_list3_OxFlow/runs/7ngrhxpx' target=\"_blank\">https://wandb.ai/fejowo5522-/NN_list3_OxFlow/runs/7ngrhxpx</a>"
            ],
            "text/plain": [
              "<IPython.core.display.HTML object>"
            ]
          },
          "metadata": {},
          "output_type": "display_data"
        },
        {
          "name": "stderr",
          "output_type": "stream",
          "text": []
        },
        {
          "name": "stdout",
          "output_type": "stream",
          "text": [
            "Test set: Average loss: 3.809682, Accuracy: ( 8.1%)\n"
          ]
        },
        {
          "data": {
            "text/html": [],
            "text/plain": [
              "<IPython.core.display.HTML object>"
            ]
          },
          "metadata": {},
          "output_type": "display_data"
        },
        {
          "data": {
            "text/html": [
              "<br>    <style><br>        .wandb-row {<br>            display: flex;<br>            flex-direction: row;<br>            flex-wrap: wrap;<br>            justify-content: flex-start;<br>            width: 100%;<br>        }<br>        .wandb-col {<br>            display: flex;<br>            flex-direction: column;<br>            flex-basis: 100%;<br>            flex: 1;<br>            padding: 10px;<br>        }<br>    </style><br><div class=\"wandb-row\"><div class=\"wandb-col\"><h3>Run history:</h3><br/><table class=\"wandb\"><tr><td>batch_idx</td><td>▂▆█▁▄▁▁▆█▄▁▁▄▇▅▇▁▃▆▂▄▆▆▇█▁▂▄▄▇█▅▅█▄▄▁▂█▇</td></tr><tr><td>epoch</td><td>▁▁▁▁▂▂▂▂▂▂▃▃▃▃▄▄▄▄▄▄▅▅▅▅▅▅▆▆▆▆▇▇▇▇▇▇████</td></tr><tr><td>loss</td><td>█▆▇▆▇▆▆▆▆▆▆▅▆▅▆▅▅▅▅▅▄▄▄▅▄▃▄▄▃▃▂▂▂▂▂▂▂▂▂▁</td></tr><tr><td>test_accuracy</td><td>▁</td></tr><tr><td>test_loss</td><td>▁</td></tr><tr><td>train_accuracy</td><td>▁▂▂▁▂▂▃▃▃▄▄▅▅▅▆▆▆▆▇█</td></tr><tr><td>train_loss</td><td>██▇▇▇▇▆▆▆▅▅▄▄▃▃▃▂▂▂▁</td></tr><tr><td>valid_accuracy</td><td>▁▁▁▁▂▂▂▃▃▃▄▃▄▅▆▅▇▆▆█</td></tr><tr><td>valid_loss</td><td>█▇▇▇▇▇▆▆▆▅▄▄▄▃▃▃▂▂▂▁</td></tr></table><br/></div><div class=\"wandb-col\"><h3>Run summary:</h3><br/><table class=\"wandb\"><tr><td>batch_idx</td><td>15</td></tr><tr><td>epoch</td><td>19</td></tr><tr><td>loss</td><td>4.0165</td></tr><tr><td>test_accuracy</td><td>0.08099</td></tr><tr><td>test_loss</td><td>3.80968</td></tr><tr><td>train_accuracy</td><td>0.09706</td></tr><tr><td>train_loss</td><td>3.7461</td></tr><tr><td>valid_accuracy</td><td>0.08235</td></tr><tr><td>valid_loss</td><td>3.90515</td></tr></table><br/></div></div>"
            ],
            "text/plain": [
              "<IPython.core.display.HTML object>"
            ]
          },
          "metadata": {},
          "output_type": "display_data"
        },
        {
          "data": {
            "text/html": [
              " View run <strong style=\"color:#cdcd00\">Task5_1745337375</strong> at: <a href='https://wandb.ai/fejowo5522-/NN_list3_OxFlow/runs/7ngrhxpx' target=\"_blank\">https://wandb.ai/fejowo5522-/NN_list3_OxFlow/runs/7ngrhxpx</a><br> View project at: <a href='https://wandb.ai/fejowo5522-/NN_list3_OxFlow' target=\"_blank\">https://wandb.ai/fejowo5522-/NN_list3_OxFlow</a><br>Synced 5 W&B file(s), 0 media file(s), 0 artifact file(s) and 0 other file(s)"
            ],
            "text/plain": [
              "<IPython.core.display.HTML object>"
            ]
          },
          "metadata": {},
          "output_type": "display_data"
        },
        {
          "data": {
            "text/html": [
              "Find logs at: <code>.\\wandb\\run-20250422_175614-7ngrhxpx\\logs</code>"
            ],
            "text/plain": [
              "<IPython.core.display.HTML object>"
            ]
          },
          "metadata": {},
          "output_type": "display_data"
        },
        {
          "name": "stderr",
          "output_type": "stream",
          "text": [
            "Trial:  40%|████      | 4/10 [28:40<42:59, 429.99s/it]"
          ]
        },
        {
          "data": {
            "text/html": [
              "Tracking run with wandb version 0.19.9"
            ],
            "text/plain": [
              "<IPython.core.display.HTML object>"
            ]
          },
          "metadata": {},
          "output_type": "display_data"
        },
        {
          "data": {
            "text/html": [
              "Run data is saved locally in <code>d:\\SharedData\\Documents\\Programming\\UWr\\Sem6\\NN\\List3\\wandb\\run-20250422_180321-duf1sxny</code>"
            ],
            "text/plain": [
              "<IPython.core.display.HTML object>"
            ]
          },
          "metadata": {},
          "output_type": "display_data"
        },
        {
          "data": {
            "text/html": [
              "Syncing run <strong><a href='https://wandb.ai/fejowo5522-/NN_list3_OxFlow/runs/duf1sxny' target=\"_blank\">kind-sound-164</a></strong> to <a href='https://wandb.ai/fejowo5522-/NN_list3_OxFlow' target=\"_blank\">Weights & Biases</a> (<a href='https://wandb.me/developer-guide' target=\"_blank\">docs</a>)<br>"
            ],
            "text/plain": [
              "<IPython.core.display.HTML object>"
            ]
          },
          "metadata": {},
          "output_type": "display_data"
        },
        {
          "data": {
            "text/html": [
              " View project at <a href='https://wandb.ai/fejowo5522-/NN_list3_OxFlow' target=\"_blank\">https://wandb.ai/fejowo5522-/NN_list3_OxFlow</a>"
            ],
            "text/plain": [
              "<IPython.core.display.HTML object>"
            ]
          },
          "metadata": {},
          "output_type": "display_data"
        },
        {
          "data": {
            "text/html": [
              " View run at <a href='https://wandb.ai/fejowo5522-/NN_list3_OxFlow/runs/duf1sxny' target=\"_blank\">https://wandb.ai/fejowo5522-/NN_list3_OxFlow/runs/duf1sxny</a>"
            ],
            "text/plain": [
              "<IPython.core.display.HTML object>"
            ]
          },
          "metadata": {},
          "output_type": "display_data"
        },
        {
          "name": "stderr",
          "output_type": "stream",
          "text": []
        },
        {
          "name": "stdout",
          "output_type": "stream",
          "text": [
            "Test set: Average loss: 4.375604, Accuracy: ( 2.9%)\n"
          ]
        },
        {
          "data": {
            "text/html": [],
            "text/plain": [
              "<IPython.core.display.HTML object>"
            ]
          },
          "metadata": {},
          "output_type": "display_data"
        },
        {
          "data": {
            "text/html": [
              "<br>    <style><br>        .wandb-row {<br>            display: flex;<br>            flex-direction: row;<br>            flex-wrap: wrap;<br>            justify-content: flex-start;<br>            width: 100%;<br>        }<br>        .wandb-col {<br>            display: flex;<br>            flex-direction: column;<br>            flex-basis: 100%;<br>            flex: 1;<br>            padding: 10px;<br>        }<br>    </style><br><div class=\"wandb-row\"><div class=\"wandb-col\"><h3>Run history:</h3><br/><table class=\"wandb\"><tr><td>batch_idx</td><td>▆▃▆▄██▁▁▂▅▆█▄▅█▄▁▃▇▁▄▃▃▄▅▂▄█▃▇▁▅▇▇▅▁▃▅▆▂</td></tr><tr><td>epoch</td><td>▁▁▁▁▂▂▂▂▂▂▃▃▃▃▄▄▄▄▄▄▅▅▅▅▅▅▆▆▆▆▇▇▇▇▇▇████</td></tr><tr><td>loss</td><td>▆▆██▆▆▆▆▆▆▆▆▆▆▆▆▇▆▇▆▆▆▅▆▆▆▆▆▅▅▅▇▅▄▄▄▄▃▃▁</td></tr><tr><td>test_accuracy</td><td>▁</td></tr><tr><td>test_loss</td><td>▁</td></tr><tr><td>train_accuracy</td><td>▅▃▄█▄▁▅▅▅▄▄▇▄▇▆▄▂▅▂▆</td></tr><tr><td>train_loss</td><td>███████████▇▇▇▇▇▆▃▂▁</td></tr><tr><td>valid_accuracy</td><td>▃▄▆▂▁▃▅▇▅▄▇▅▄▆█▄▅▂▅▇</td></tr><tr><td>valid_loss</td><td>██████▇▇▇▇▇▇▇▇▇▇▅▃▁▁</td></tr></table><br/></div><div class=\"wandb-col\"><h3>Run summary:</h3><br/><table class=\"wandb\"><tr><td>batch_idx</td><td>15</td></tr><tr><td>epoch</td><td>19</td></tr><tr><td>loss</td><td>4.33893</td></tr><tr><td>test_accuracy</td><td>0.02911</td></tr><tr><td>test_loss</td><td>4.3756</td></tr><tr><td>train_accuracy</td><td>0.01569</td></tr><tr><td>train_loss</td><td>4.38175</td></tr><tr><td>valid_accuracy</td><td>0.01569</td></tr><tr><td>valid_loss</td><td>4.40671</td></tr></table><br/></div></div>"
            ],
            "text/plain": [
              "<IPython.core.display.HTML object>"
            ]
          },
          "metadata": {},
          "output_type": "display_data"
        },
        {
          "data": {
            "text/html": [
              " View run <strong style=\"color:#cdcd00\">Task5_1745337802</strong> at: <a href='https://wandb.ai/fejowo5522-/NN_list3_OxFlow/runs/duf1sxny' target=\"_blank\">https://wandb.ai/fejowo5522-/NN_list3_OxFlow/runs/duf1sxny</a><br> View project at: <a href='https://wandb.ai/fejowo5522-/NN_list3_OxFlow' target=\"_blank\">https://wandb.ai/fejowo5522-/NN_list3_OxFlow</a><br>Synced 5 W&B file(s), 0 media file(s), 0 artifact file(s) and 0 other file(s)"
            ],
            "text/plain": [
              "<IPython.core.display.HTML object>"
            ]
          },
          "metadata": {},
          "output_type": "display_data"
        },
        {
          "data": {
            "text/html": [
              "Find logs at: <code>.\\wandb\\run-20250422_180321-duf1sxny\\logs</code>"
            ],
            "text/plain": [
              "<IPython.core.display.HTML object>"
            ]
          },
          "metadata": {},
          "output_type": "display_data"
        },
        {
          "name": "stderr",
          "output_type": "stream",
          "text": [
            "Trial:  50%|█████     | 5/10 [35:47<35:44, 428.95s/it]"
          ]
        },
        {
          "data": {
            "text/html": [
              "Tracking run with wandb version 0.19.9"
            ],
            "text/plain": [
              "<IPython.core.display.HTML object>"
            ]
          },
          "metadata": {},
          "output_type": "display_data"
        },
        {
          "data": {
            "text/html": [
              "Run data is saved locally in <code>d:\\SharedData\\Documents\\Programming\\UWr\\Sem6\\NN\\List3\\wandb\\run-20250422_181028-xmyy0yyd</code>"
            ],
            "text/plain": [
              "<IPython.core.display.HTML object>"
            ]
          },
          "metadata": {},
          "output_type": "display_data"
        },
        {
          "data": {
            "text/html": [
              "Syncing run <strong><a href='https://wandb.ai/fejowo5522-/NN_list3_OxFlow/runs/xmyy0yyd' target=\"_blank\">tough-sound-165</a></strong> to <a href='https://wandb.ai/fejowo5522-/NN_list3_OxFlow' target=\"_blank\">Weights & Biases</a> (<a href='https://wandb.me/developer-guide' target=\"_blank\">docs</a>)<br>"
            ],
            "text/plain": [
              "<IPython.core.display.HTML object>"
            ]
          },
          "metadata": {},
          "output_type": "display_data"
        },
        {
          "data": {
            "text/html": [
              " View project at <a href='https://wandb.ai/fejowo5522-/NN_list3_OxFlow' target=\"_blank\">https://wandb.ai/fejowo5522-/NN_list3_OxFlow</a>"
            ],
            "text/plain": [
              "<IPython.core.display.HTML object>"
            ]
          },
          "metadata": {},
          "output_type": "display_data"
        },
        {
          "data": {
            "text/html": [
              " View run at <a href='https://wandb.ai/fejowo5522-/NN_list3_OxFlow/runs/xmyy0yyd' target=\"_blank\">https://wandb.ai/fejowo5522-/NN_list3_OxFlow/runs/xmyy0yyd</a>"
            ],
            "text/plain": [
              "<IPython.core.display.HTML object>"
            ]
          },
          "metadata": {},
          "output_type": "display_data"
        },
        {
          "name": "stderr",
          "output_type": "stream",
          "text": []
        },
        {
          "name": "stdout",
          "output_type": "stream",
          "text": [
            "Test set: Average loss:      nan, Accuracy: ( 0.3%)\n"
          ]
        },
        {
          "data": {
            "text/html": [],
            "text/plain": [
              "<IPython.core.display.HTML object>"
            ]
          },
          "metadata": {},
          "output_type": "display_data"
        },
        {
          "data": {
            "text/html": [
              "<br>    <style><br>        .wandb-row {<br>            display: flex;<br>            flex-direction: row;<br>            flex-wrap: wrap;<br>            justify-content: flex-start;<br>            width: 100%;<br>        }<br>        .wandb-col {<br>            display: flex;<br>            flex-direction: column;<br>            flex-basis: 100%;<br>            flex: 1;<br>            padding: 10px;<br>        }<br>    </style><br><div class=\"wandb-row\"><div class=\"wandb-col\"><h3>Run history:</h3><br/><table class=\"wandb\"><tr><td>batch_idx</td><td>▁▂▇▂▃█▁▄▆▂▁▅▇▁▂▆▇█▄▇▃▅▁▃▅▆▇█▁▇▂▃▁▄▅▃▅▃▄▆</td></tr><tr><td>epoch</td><td>▁▁▁▁▂▂▂▂▂▂▃▃▃▃▄▄▄▄▄▄▅▅▅▅▅▅▆▆▆▆▇▇▇▇▇▇████</td></tr><tr><td>test_accuracy</td><td>▁</td></tr><tr><td>train_accuracy</td><td>▁▁▁▁▁▁▁▁▁▁▁▁▁▁▁▁▁▁▁▁</td></tr><tr><td>valid_accuracy</td><td>▁▁▁▁▁▁▁▁▁▁▁▁▁▁▁▁▁▁▁▁</td></tr></table><br/></div><div class=\"wandb-col\"><h3>Run summary:</h3><br/><table class=\"wandb\"><tr><td>batch_idx</td><td>15</td></tr><tr><td>epoch</td><td>19</td></tr><tr><td>loss</td><td>nan</td></tr><tr><td>test_accuracy</td><td>0.00325</td></tr><tr><td>test_loss</td><td>nan</td></tr><tr><td>train_accuracy</td><td>0.0098</td></tr><tr><td>train_loss</td><td>nan</td></tr><tr><td>valid_accuracy</td><td>0.0098</td></tr><tr><td>valid_loss</td><td>nan</td></tr></table><br/></div></div>"
            ],
            "text/plain": [
              "<IPython.core.display.HTML object>"
            ]
          },
          "metadata": {},
          "output_type": "display_data"
        },
        {
          "data": {
            "text/html": [
              " View run <strong style=\"color:#cdcd00\">Task5_1745338229</strong> at: <a href='https://wandb.ai/fejowo5522-/NN_list3_OxFlow/runs/xmyy0yyd' target=\"_blank\">https://wandb.ai/fejowo5522-/NN_list3_OxFlow/runs/xmyy0yyd</a><br> View project at: <a href='https://wandb.ai/fejowo5522-/NN_list3_OxFlow' target=\"_blank\">https://wandb.ai/fejowo5522-/NN_list3_OxFlow</a><br>Synced 5 W&B file(s), 0 media file(s), 0 artifact file(s) and 0 other file(s)"
            ],
            "text/plain": [
              "<IPython.core.display.HTML object>"
            ]
          },
          "metadata": {},
          "output_type": "display_data"
        },
        {
          "data": {
            "text/html": [
              "Find logs at: <code>.\\wandb\\run-20250422_181028-xmyy0yyd\\logs</code>"
            ],
            "text/plain": [
              "<IPython.core.display.HTML object>"
            ]
          },
          "metadata": {},
          "output_type": "display_data"
        },
        {
          "name": "stderr",
          "output_type": "stream",
          "text": [
            "Trial:  60%|██████    | 6/10 [42:46<28:21, 425.47s/it]"
          ]
        },
        {
          "data": {
            "text/html": [
              "Tracking run with wandb version 0.19.9"
            ],
            "text/plain": [
              "<IPython.core.display.HTML object>"
            ]
          },
          "metadata": {},
          "output_type": "display_data"
        },
        {
          "data": {
            "text/html": [
              "Run data is saved locally in <code>d:\\SharedData\\Documents\\Programming\\UWr\\Sem6\\NN\\List3\\wandb\\run-20250422_181727-p2jsdfbl</code>"
            ],
            "text/plain": [
              "<IPython.core.display.HTML object>"
            ]
          },
          "metadata": {},
          "output_type": "display_data"
        },
        {
          "data": {
            "text/html": [
              "Syncing run <strong><a href='https://wandb.ai/fejowo5522-/NN_list3_OxFlow/runs/p2jsdfbl' target=\"_blank\">sandy-yogurt-166</a></strong> to <a href='https://wandb.ai/fejowo5522-/NN_list3_OxFlow' target=\"_blank\">Weights & Biases</a> (<a href='https://wandb.me/developer-guide' target=\"_blank\">docs</a>)<br>"
            ],
            "text/plain": [
              "<IPython.core.display.HTML object>"
            ]
          },
          "metadata": {},
          "output_type": "display_data"
        },
        {
          "data": {
            "text/html": [
              " View project at <a href='https://wandb.ai/fejowo5522-/NN_list3_OxFlow' target=\"_blank\">https://wandb.ai/fejowo5522-/NN_list3_OxFlow</a>"
            ],
            "text/plain": [
              "<IPython.core.display.HTML object>"
            ]
          },
          "metadata": {},
          "output_type": "display_data"
        },
        {
          "data": {
            "text/html": [
              " View run at <a href='https://wandb.ai/fejowo5522-/NN_list3_OxFlow/runs/p2jsdfbl' target=\"_blank\">https://wandb.ai/fejowo5522-/NN_list3_OxFlow/runs/p2jsdfbl</a>"
            ],
            "text/plain": [
              "<IPython.core.display.HTML object>"
            ]
          },
          "metadata": {},
          "output_type": "display_data"
        },
        {
          "name": "stderr",
          "output_type": "stream",
          "text": []
        },
        {
          "name": "stdout",
          "output_type": "stream",
          "text": [
            "Test set: Average loss: 4.420977, Accuracy: ( 1.2%)\n"
          ]
        },
        {
          "data": {
            "text/html": [],
            "text/plain": [
              "<IPython.core.display.HTML object>"
            ]
          },
          "metadata": {},
          "output_type": "display_data"
        },
        {
          "data": {
            "text/html": [
              "<br>    <style><br>        .wandb-row {<br>            display: flex;<br>            flex-direction: row;<br>            flex-wrap: wrap;<br>            justify-content: flex-start;<br>            width: 100%;<br>        }<br>        .wandb-col {<br>            display: flex;<br>            flex-direction: column;<br>            flex-basis: 100%;<br>            flex: 1;<br>            padding: 10px;<br>        }<br>    </style><br><div class=\"wandb-row\"><div class=\"wandb-col\"><h3>Run history:</h3><br/><table class=\"wandb\"><tr><td>batch_idx</td><td>▆▁▇█▁██▂▃▆▃▂▆▂█▁▄█▂▅█▁▁▄▅▆█▁▂▄▃▄▆▁▅▅▃▄▆█</td></tr><tr><td>epoch</td><td>▁▁▁▁▂▂▂▂▂▂▃▃▃▃▄▄▄▄▄▄▅▅▅▅▅▅▆▆▆▆▇▇▇▇▇▇████</td></tr><tr><td>loss</td><td>█▄▄▃▃▃▃▃▃▃▃▂▂▂▂▃▂▁▃▂▃▂▂▃▃▂▂▂▂▂▁▃▂▂▃▂▃▂▂▁</td></tr><tr><td>test_accuracy</td><td>▁</td></tr><tr><td>test_loss</td><td>▁</td></tr><tr><td>train_accuracy</td><td>▂▁▃▃▃▄▅▆▄▆▆▇▇▆█▅▇▆▅▅</td></tr><tr><td>train_loss</td><td>██▇▆▄▃▃▄▃▂▂▂▁▂▄▂▁▁▂▂</td></tr><tr><td>valid_accuracy</td><td>▄▄▂▁▂▅▄▆▃▅▆▆▇█▇▅▇▅▄▅</td></tr><tr><td>valid_loss</td><td>█▇▆▅▃▃▂▃▃▂▂▂▁▁▃▃▁▁▁▂</td></tr></table><br/></div><div class=\"wandb-col\"><h3>Run summary:</h3><br/><table class=\"wandb\"><tr><td>batch_idx</td><td>15</td></tr><tr><td>epoch</td><td>19</td></tr><tr><td>loss</td><td>4.17776</td></tr><tr><td>test_accuracy</td><td>0.01155</td></tr><tr><td>test_loss</td><td>4.42098</td></tr><tr><td>train_accuracy</td><td>0.02059</td></tr><tr><td>train_loss</td><td>4.37649</td></tr><tr><td>valid_accuracy</td><td>0.02059</td></tr><tr><td>valid_loss</td><td>4.4291</td></tr></table><br/></div></div>"
            ],
            "text/plain": [
              "<IPython.core.display.HTML object>"
            ]
          },
          "metadata": {},
          "output_type": "display_data"
        },
        {
          "data": {
            "text/html": [
              " View run <strong style=\"color:#cdcd00\">Task5_1745338648</strong> at: <a href='https://wandb.ai/fejowo5522-/NN_list3_OxFlow/runs/p2jsdfbl' target=\"_blank\">https://wandb.ai/fejowo5522-/NN_list3_OxFlow/runs/p2jsdfbl</a><br> View project at: <a href='https://wandb.ai/fejowo5522-/NN_list3_OxFlow' target=\"_blank\">https://wandb.ai/fejowo5522-/NN_list3_OxFlow</a><br>Synced 5 W&B file(s), 0 media file(s), 0 artifact file(s) and 0 other file(s)"
            ],
            "text/plain": [
              "<IPython.core.display.HTML object>"
            ]
          },
          "metadata": {},
          "output_type": "display_data"
        },
        {
          "data": {
            "text/html": [
              "Find logs at: <code>.\\wandb\\run-20250422_181727-p2jsdfbl\\logs</code>"
            ],
            "text/plain": [
              "<IPython.core.display.HTML object>"
            ]
          },
          "metadata": {},
          "output_type": "display_data"
        },
        {
          "name": "stderr",
          "output_type": "stream",
          "text": [
            "Trial:  70%|███████   | 7/10 [49:51<21:15, 425.24s/it]"
          ]
        },
        {
          "data": {
            "text/html": [
              "Tracking run with wandb version 0.19.9"
            ],
            "text/plain": [
              "<IPython.core.display.HTML object>"
            ]
          },
          "metadata": {},
          "output_type": "display_data"
        },
        {
          "data": {
            "text/html": [
              "Run data is saved locally in <code>d:\\SharedData\\Documents\\Programming\\UWr\\Sem6\\NN\\List3\\wandb\\run-20250422_182432-jgedpm01</code>"
            ],
            "text/plain": [
              "<IPython.core.display.HTML object>"
            ]
          },
          "metadata": {},
          "output_type": "display_data"
        },
        {
          "data": {
            "text/html": [
              "Syncing run <strong><a href='https://wandb.ai/fejowo5522-/NN_list3_OxFlow/runs/jgedpm01' target=\"_blank\">prime-tree-167</a></strong> to <a href='https://wandb.ai/fejowo5522-/NN_list3_OxFlow' target=\"_blank\">Weights & Biases</a> (<a href='https://wandb.me/developer-guide' target=\"_blank\">docs</a>)<br>"
            ],
            "text/plain": [
              "<IPython.core.display.HTML object>"
            ]
          },
          "metadata": {},
          "output_type": "display_data"
        },
        {
          "data": {
            "text/html": [
              " View project at <a href='https://wandb.ai/fejowo5522-/NN_list3_OxFlow' target=\"_blank\">https://wandb.ai/fejowo5522-/NN_list3_OxFlow</a>"
            ],
            "text/plain": [
              "<IPython.core.display.HTML object>"
            ]
          },
          "metadata": {},
          "output_type": "display_data"
        },
        {
          "data": {
            "text/html": [
              " View run at <a href='https://wandb.ai/fejowo5522-/NN_list3_OxFlow/runs/jgedpm01' target=\"_blank\">https://wandb.ai/fejowo5522-/NN_list3_OxFlow/runs/jgedpm01</a>"
            ],
            "text/plain": [
              "<IPython.core.display.HTML object>"
            ]
          },
          "metadata": {},
          "output_type": "display_data"
        },
        {
          "name": "stderr",
          "output_type": "stream",
          "text": []
        },
        {
          "name": "stdout",
          "output_type": "stream",
          "text": [
            "Test set: Average loss:      nan, Accuracy: ( 0.3%)\n"
          ]
        },
        {
          "data": {
            "text/html": [],
            "text/plain": [
              "<IPython.core.display.HTML object>"
            ]
          },
          "metadata": {},
          "output_type": "display_data"
        },
        {
          "data": {
            "text/html": [
              "<br>    <style><br>        .wandb-row {<br>            display: flex;<br>            flex-direction: row;<br>            flex-wrap: wrap;<br>            justify-content: flex-start;<br>            width: 100%;<br>        }<br>        .wandb-col {<br>            display: flex;<br>            flex-direction: column;<br>            flex-basis: 100%;<br>            flex: 1;<br>            padding: 10px;<br>        }<br>    </style><br><div class=\"wandb-row\"><div class=\"wandb-col\"><h3>Run history:</h3><br/><table class=\"wandb\"><tr><td>batch_idx</td><td>▂▇▄▂▃▁▃▇▁▂▄█▁▄▆▂▂▆▁▂▅▆▇▄▅▇▁▂▃▇▄▇▁█▁█▆▆▁▇</td></tr><tr><td>epoch</td><td>▁▁▁▁▂▂▂▂▂▂▃▃▃▃▄▄▄▄▄▄▅▅▅▅▅▅▆▆▆▆▇▇▇▇▇▇████</td></tr><tr><td>loss</td><td>▁█                                      </td></tr><tr><td>test_accuracy</td><td>▁</td></tr><tr><td>train_accuracy</td><td>▁▁▁▁▁▁▁▁▁▁▁▁▁▁▁▁▁▁▁▁</td></tr><tr><td>valid_accuracy</td><td>▁▁▁▁▁▁▁▁▁▁▁▁▁▁▁▁▁▁▁▁</td></tr></table><br/></div><div class=\"wandb-col\"><h3>Run summary:</h3><br/><table class=\"wandb\"><tr><td>batch_idx</td><td>15</td></tr><tr><td>epoch</td><td>19</td></tr><tr><td>loss</td><td>nan</td></tr><tr><td>test_accuracy</td><td>0.00325</td></tr><tr><td>test_loss</td><td>nan</td></tr><tr><td>train_accuracy</td><td>0.0098</td></tr><tr><td>train_loss</td><td>nan</td></tr><tr><td>valid_accuracy</td><td>0.0098</td></tr><tr><td>valid_loss</td><td>nan</td></tr></table><br/></div></div>"
            ],
            "text/plain": [
              "<IPython.core.display.HTML object>"
            ]
          },
          "metadata": {},
          "output_type": "display_data"
        },
        {
          "data": {
            "text/html": [
              " View run <strong style=\"color:#cdcd00\">Task5_1745339073</strong> at: <a href='https://wandb.ai/fejowo5522-/NN_list3_OxFlow/runs/jgedpm01' target=\"_blank\">https://wandb.ai/fejowo5522-/NN_list3_OxFlow/runs/jgedpm01</a><br> View project at: <a href='https://wandb.ai/fejowo5522-/NN_list3_OxFlow' target=\"_blank\">https://wandb.ai/fejowo5522-/NN_list3_OxFlow</a><br>Synced 5 W&B file(s), 0 media file(s), 0 artifact file(s) and 0 other file(s)"
            ],
            "text/plain": [
              "<IPython.core.display.HTML object>"
            ]
          },
          "metadata": {},
          "output_type": "display_data"
        },
        {
          "data": {
            "text/html": [
              "Find logs at: <code>.\\wandb\\run-20250422_182432-jgedpm01\\logs</code>"
            ],
            "text/plain": [
              "<IPython.core.display.HTML object>"
            ]
          },
          "metadata": {},
          "output_type": "display_data"
        },
        {
          "name": "stderr",
          "output_type": "stream",
          "text": [
            "Trial:  80%|████████  | 8/10 [57:01<14:13, 426.84s/it]"
          ]
        },
        {
          "data": {
            "text/html": [
              "Tracking run with wandb version 0.19.9"
            ],
            "text/plain": [
              "<IPython.core.display.HTML object>"
            ]
          },
          "metadata": {},
          "output_type": "display_data"
        },
        {
          "data": {
            "text/html": [
              "Run data is saved locally in <code>d:\\SharedData\\Documents\\Programming\\UWr\\Sem6\\NN\\List3\\wandb\\run-20250422_183142-g8wg09rv</code>"
            ],
            "text/plain": [
              "<IPython.core.display.HTML object>"
            ]
          },
          "metadata": {},
          "output_type": "display_data"
        },
        {
          "data": {
            "text/html": [
              "Syncing run <strong><a href='https://wandb.ai/fejowo5522-/NN_list3_OxFlow/runs/g8wg09rv' target=\"_blank\">decent-plant-168</a></strong> to <a href='https://wandb.ai/fejowo5522-/NN_list3_OxFlow' target=\"_blank\">Weights & Biases</a> (<a href='https://wandb.me/developer-guide' target=\"_blank\">docs</a>)<br>"
            ],
            "text/plain": [
              "<IPython.core.display.HTML object>"
            ]
          },
          "metadata": {},
          "output_type": "display_data"
        },
        {
          "data": {
            "text/html": [
              " View project at <a href='https://wandb.ai/fejowo5522-/NN_list3_OxFlow' target=\"_blank\">https://wandb.ai/fejowo5522-/NN_list3_OxFlow</a>"
            ],
            "text/plain": [
              "<IPython.core.display.HTML object>"
            ]
          },
          "metadata": {},
          "output_type": "display_data"
        },
        {
          "data": {
            "text/html": [
              " View run at <a href='https://wandb.ai/fejowo5522-/NN_list3_OxFlow/runs/g8wg09rv' target=\"_blank\">https://wandb.ai/fejowo5522-/NN_list3_OxFlow/runs/g8wg09rv</a>"
            ],
            "text/plain": [
              "<IPython.core.display.HTML object>"
            ]
          },
          "metadata": {},
          "output_type": "display_data"
        },
        {
          "name": "stderr",
          "output_type": "stream",
          "text": []
        },
        {
          "name": "stdout",
          "output_type": "stream",
          "text": [
            "Test set: Average loss:      nan, Accuracy: ( 0.3%)\n"
          ]
        },
        {
          "data": {
            "text/html": [],
            "text/plain": [
              "<IPython.core.display.HTML object>"
            ]
          },
          "metadata": {},
          "output_type": "display_data"
        },
        {
          "data": {
            "text/html": [
              "<br>    <style><br>        .wandb-row {<br>            display: flex;<br>            flex-direction: row;<br>            flex-wrap: wrap;<br>            justify-content: flex-start;<br>            width: 100%;<br>        }<br>        .wandb-col {<br>            display: flex;<br>            flex-direction: column;<br>            flex-basis: 100%;<br>            flex: 1;<br>            padding: 10px;<br>        }<br>    </style><br><div class=\"wandb-row\"><div class=\"wandb-col\"><h3>Run history:</h3><br/><table class=\"wandb\"><tr><td>batch_idx</td><td>▂█▂▅▅▇█▁▂▅▇█▁▅▇▁█▁▃▄▄▁▃▆▁▄▅██▇▄▇▁▄▅▇▂█▁▅</td></tr><tr><td>epoch</td><td>▁▁▁▁▂▂▂▂▂▂▃▃▃▃▄▄▄▄▄▄▅▅▅▅▅▅▆▆▆▆▇▇▇▇▇▇████</td></tr><tr><td>test_accuracy</td><td>▁</td></tr><tr><td>train_accuracy</td><td>▁▁▁▁▁▁▁▁▁▁▁▁▁▁▁▁▁▁▁▁</td></tr><tr><td>valid_accuracy</td><td>▁▁▁▁▁▁▁▁▁▁▁▁▁▁▁▁▁▁▁▁</td></tr></table><br/></div><div class=\"wandb-col\"><h3>Run summary:</h3><br/><table class=\"wandb\"><tr><td>batch_idx</td><td>15</td></tr><tr><td>epoch</td><td>19</td></tr><tr><td>loss</td><td>nan</td></tr><tr><td>test_accuracy</td><td>0.00325</td></tr><tr><td>test_loss</td><td>nan</td></tr><tr><td>train_accuracy</td><td>0.0098</td></tr><tr><td>train_loss</td><td>nan</td></tr><tr><td>valid_accuracy</td><td>0.0098</td></tr><tr><td>valid_loss</td><td>nan</td></tr></table><br/></div></div>"
            ],
            "text/plain": [
              "<IPython.core.display.HTML object>"
            ]
          },
          "metadata": {},
          "output_type": "display_data"
        },
        {
          "data": {
            "text/html": [
              " View run <strong style=\"color:#cdcd00\">Task5_1745339503</strong> at: <a href='https://wandb.ai/fejowo5522-/NN_list3_OxFlow/runs/g8wg09rv' target=\"_blank\">https://wandb.ai/fejowo5522-/NN_list3_OxFlow/runs/g8wg09rv</a><br> View project at: <a href='https://wandb.ai/fejowo5522-/NN_list3_OxFlow' target=\"_blank\">https://wandb.ai/fejowo5522-/NN_list3_OxFlow</a><br>Synced 5 W&B file(s), 0 media file(s), 0 artifact file(s) and 0 other file(s)"
            ],
            "text/plain": [
              "<IPython.core.display.HTML object>"
            ]
          },
          "metadata": {},
          "output_type": "display_data"
        },
        {
          "data": {
            "text/html": [
              "Find logs at: <code>.\\wandb\\run-20250422_183142-g8wg09rv\\logs</code>"
            ],
            "text/plain": [
              "<IPython.core.display.HTML object>"
            ]
          },
          "metadata": {},
          "output_type": "display_data"
        },
        {
          "name": "stderr",
          "output_type": "stream",
          "text": [
            "Trial:  90%|█████████ | 9/10 [1:04:07<07:06, 426.50s/it]"
          ]
        },
        {
          "data": {
            "text/html": [
              "Tracking run with wandb version 0.19.9"
            ],
            "text/plain": [
              "<IPython.core.display.HTML object>"
            ]
          },
          "metadata": {},
          "output_type": "display_data"
        },
        {
          "data": {
            "text/html": [
              "Run data is saved locally in <code>d:\\SharedData\\Documents\\Programming\\UWr\\Sem6\\NN\\List3\\wandb\\run-20250422_183848-h0ikfjc8</code>"
            ],
            "text/plain": [
              "<IPython.core.display.HTML object>"
            ]
          },
          "metadata": {},
          "output_type": "display_data"
        },
        {
          "data": {
            "text/html": [
              "Syncing run <strong><a href='https://wandb.ai/fejowo5522-/NN_list3_OxFlow/runs/h0ikfjc8' target=\"_blank\">cosmic-pond-169</a></strong> to <a href='https://wandb.ai/fejowo5522-/NN_list3_OxFlow' target=\"_blank\">Weights & Biases</a> (<a href='https://wandb.me/developer-guide' target=\"_blank\">docs</a>)<br>"
            ],
            "text/plain": [
              "<IPython.core.display.HTML object>"
            ]
          },
          "metadata": {},
          "output_type": "display_data"
        },
        {
          "data": {
            "text/html": [
              " View project at <a href='https://wandb.ai/fejowo5522-/NN_list3_OxFlow' target=\"_blank\">https://wandb.ai/fejowo5522-/NN_list3_OxFlow</a>"
            ],
            "text/plain": [
              "<IPython.core.display.HTML object>"
            ]
          },
          "metadata": {},
          "output_type": "display_data"
        },
        {
          "data": {
            "text/html": [
              " View run at <a href='https://wandb.ai/fejowo5522-/NN_list3_OxFlow/runs/h0ikfjc8' target=\"_blank\">https://wandb.ai/fejowo5522-/NN_list3_OxFlow/runs/h0ikfjc8</a>"
            ],
            "text/plain": [
              "<IPython.core.display.HTML object>"
            ]
          },
          "metadata": {},
          "output_type": "display_data"
        },
        {
          "name": "stderr",
          "output_type": "stream",
          "text": []
        },
        {
          "name": "stdout",
          "output_type": "stream",
          "text": [
            "Test set: Average loss:      nan, Accuracy: ( 0.3%)\n"
          ]
        },
        {
          "data": {
            "text/html": [],
            "text/plain": [
              "<IPython.core.display.HTML object>"
            ]
          },
          "metadata": {},
          "output_type": "display_data"
        },
        {
          "data": {
            "text/html": [
              "<br>    <style><br>        .wandb-row {<br>            display: flex;<br>            flex-direction: row;<br>            flex-wrap: wrap;<br>            justify-content: flex-start;<br>            width: 100%;<br>        }<br>        .wandb-col {<br>            display: flex;<br>            flex-direction: column;<br>            flex-basis: 100%;<br>            flex: 1;<br>            padding: 10px;<br>        }<br>    </style><br><div class=\"wandb-row\"><div class=\"wandb-col\"><h3>Run history:</h3><br/><table class=\"wandb\"><tr><td>batch_idx</td><td>▂▄▄▇▃▂▅▃▅▇▁█▂▃▄▄▇▇▁▁▆▆▁▄▇█▂▄▇▁▅▅▇▆▁▁▁▆▃▇</td></tr><tr><td>epoch</td><td>▁▁▁▁▂▂▂▂▂▂▃▃▃▃▄▄▄▄▄▄▅▅▅▅▅▅▆▆▆▆▇▇▇▇▇▇████</td></tr><tr><td>loss</td><td>▁                                       </td></tr><tr><td>test_accuracy</td><td>▁</td></tr><tr><td>train_accuracy</td><td>▁▁▁▁▁▁▁▁▁▁▁▁▁▁▁▁▁▁▁▁</td></tr><tr><td>valid_accuracy</td><td>▁▁▁▁▁▁▁▁▁▁▁▁▁▁▁▁▁▁▁▁</td></tr></table><br/></div><div class=\"wandb-col\"><h3>Run summary:</h3><br/><table class=\"wandb\"><tr><td>batch_idx</td><td>15</td></tr><tr><td>epoch</td><td>19</td></tr><tr><td>loss</td><td>nan</td></tr><tr><td>test_accuracy</td><td>0.00325</td></tr><tr><td>test_loss</td><td>nan</td></tr><tr><td>train_accuracy</td><td>0.0098</td></tr><tr><td>train_loss</td><td>nan</td></tr><tr><td>valid_accuracy</td><td>0.0098</td></tr><tr><td>valid_loss</td><td>nan</td></tr></table><br/></div></div>"
            ],
            "text/plain": [
              "<IPython.core.display.HTML object>"
            ]
          },
          "metadata": {},
          "output_type": "display_data"
        },
        {
          "data": {
            "text/html": [
              " View run <strong style=\"color:#cdcd00\">Task5_1745339929</strong> at: <a href='https://wandb.ai/fejowo5522-/NN_list3_OxFlow/runs/h0ikfjc8' target=\"_blank\">https://wandb.ai/fejowo5522-/NN_list3_OxFlow/runs/h0ikfjc8</a><br> View project at: <a href='https://wandb.ai/fejowo5522-/NN_list3_OxFlow' target=\"_blank\">https://wandb.ai/fejowo5522-/NN_list3_OxFlow</a><br>Synced 5 W&B file(s), 0 media file(s), 0 artifact file(s) and 0 other file(s)"
            ],
            "text/plain": [
              "<IPython.core.display.HTML object>"
            ]
          },
          "metadata": {},
          "output_type": "display_data"
        },
        {
          "data": {
            "text/html": [
              "Find logs at: <code>.\\wandb\\run-20250422_183848-h0ikfjc8\\logs</code>"
            ],
            "text/plain": [
              "<IPython.core.display.HTML object>"
            ]
          },
          "metadata": {},
          "output_type": "display_data"
        },
        {
          "name": "stderr",
          "output_type": "stream",
          "text": [
            "                                                         \r"
          ]
        }
      ],
      "source": [
        "random_search_tuner(\n",
        "    param_ranges={\n",
        "        'learning_rate': (1e-5, 1e-1),\n",
        "        'weight_decay': (0.0, 0.1),\n",
        "        'momentum': (0.0, 0.01),\n",
        "    },\n",
        "    model_name = 'AlexNetBaseline',\n",
        "    model_class = AlexNetBaseline,\n",
        "    optimizer_name='SGD',\n",
        "    loss_fn_name='cross_entropy',\n",
        "    trials=10,\n",
        "    epochs=20,\n",
        ")"
      ]
    },
    {
      "cell_type": "markdown",
      "id": "nxHWxcNoQUFO",
      "metadata": {
        "id": "nxHWxcNoQUFO"
      },
      "source": [
        "## Zad 6\n",
        "* Modify your CNN architecture to include batch normalization and dropout layers.\n",
        "* Experiment with different dropout rates and analyze their impact on the model's performance.\n"
      ]
    },
    {
      "cell_type": "markdown",
      "id": "fzbWv_dLUafP",
      "metadata": {
        "id": "fzbWv_dLUafP"
      },
      "source": [
        "### Model class"
      ]
    },
    {
      "cell_type": "code",
      "execution_count": 50,
      "id": "tQUjC_ENUcOk",
      "metadata": {
        "id": "tQUjC_ENUcOk"
      },
      "outputs": [],
      "source": [
        "class AlexNetBaseline(nn.Module):\n",
        "    def __init__(self, dropout_p=0.5, num_classes=102):\n",
        "        super(AlexNetBaseline, self).__init__()\n",
        "        self.features = nn.Sequential(\n",
        "            nn.Conv2d(3, 64, kernel_size=11, stride=4, padding=2),\n",
        "            nn.Dropout(p=dropout_p),\n",
        "            nn.ReLU(inplace=True),\n",
        "            nn.MaxPool2d(kernel_size=3, stride=2),\n",
        "\n",
        "            nn.Conv2d(64, 192, kernel_size=5, padding=2),\n",
        "            nn.Dropout(p=dropout_p),\n",
        "            nn.ReLU(inplace=True),\n",
        "            nn.MaxPool2d(kernel_size=3, stride=2),\n",
        "\n",
        "            nn.Conv2d(192, 384, kernel_size=3, padding=1),\n",
        "            nn.Dropout(p=dropout_p),\n",
        "            nn.ReLU(inplace=True),\n",
        "\n",
        "            nn.Conv2d(384, 256, kernel_size=3, padding=1),\n",
        "            nn.Dropout(p=dropout_p),\n",
        "            nn.ReLU(inplace=True),\n",
        "\n",
        "            nn.Conv2d(256, 256, kernel_size=3, padding=1),\n",
        "            nn.Dropout(p=dropout_p),\n",
        "            nn.ReLU(inplace=True),\n",
        "            nn.MaxPool2d(kernel_size=3, stride=2),\n",
        "        )\n",
        "        self.classifier = nn.Sequential(\n",
        "            nn.Dropout(p=dropout_p),\n",
        "            nn.Linear(256 * 6 * 6, 4096),\n",
        "            nn.ReLU(inplace=True),\n",
        "\n",
        "            nn.Dropout(p=dropout_p),\n",
        "            nn.Linear(4096, 4096),\n",
        "            nn.ReLU(inplace=True),\n",
        "            nn.Linear(4096, num_classes),\n",
        "        )\n",
        "\n",
        "    def forward(self, x):\n",
        "        x = self.features(x)\n",
        "        x = torch.flatten(x, 1)\n",
        "        x = self.classifier(x)\n",
        "        return x\n",
        "\n",
        "    def init_weights(self):\n",
        "        for layer in self.modules():\n",
        "            if isinstance(layer, nn.Conv2d) or isinstance(layer, nn.Linear):\n",
        "                nn.init.kaiming_uniform_(layer.weight, nonlinearity='relu')\n",
        "                if layer.bias is not None:\n",
        "                    nn.init.zeros_(layer.bias)\n",
        "            elif isinstance(layer, nn.BatchNorm2d):\n",
        "                nn.init.ones_(layer.weight)\n",
        "                if layer.bias is not None:\n",
        "                    nn.init.zeros_(layer.bias)\n",
        "\n",
        "    def evaluate(self, data_loader):\n",
        "        loss = 0\n",
        "        correct = 0\n",
        "        loss_fn = nn.CrossEntropyLoss(\n",
        "            reduction='sum',\n",
        "        )\n",
        "\n",
        "        with torch.no_grad():\n",
        "            for inputs, labels in data_loader:\n",
        "                inputs, labels = inputs.to(_device), labels.to(_device)\n",
        "\n",
        "                outputs = self(inputs)\n",
        "                loss += loss_fn(outputs, labels).item()\n",
        "                pred = outputs.argmax(\n",
        "                    dim=1, keepdim=True\n",
        "                )\n",
        "                correct += (\n",
        "                    pred.eq(labels.view_as(pred)).sum().item()\n",
        "                )\n",
        "\n",
        "        loss /= len(data_loader.dataset)\n",
        "        accuracy = correct / len(data_loader.dataset)\n",
        "        return loss, accuracy"
      ]
    },
    {
      "cell_type": "markdown",
      "id": "RV74ttfjUZLu",
      "metadata": {
        "id": "RV74ttfjUZLu"
      },
      "source": [
        "### Training functions"
      ]
    },
    {
      "cell_type": "code",
      "execution_count": 51,
      "id": "7Mb3qht_TZ8f",
      "metadata": {
        "id": "7Mb3qht_TZ8f"
      },
      "outputs": [],
      "source": [
        "def train_step(model, optimizer, loss_fn, data_loader):\n",
        "    data_iter = iter(data_loader)\n",
        "\n",
        "    for batch_idx, (inputs, labels) in enumerate(data_iter):\n",
        "        inputs, labels = inputs.to(_device), labels.to(_device)\n",
        "\n",
        "        optimizer.zero_grad()   # Zero gradients\n",
        "        logits = model(inputs)   # Forward pass\n",
        "        loss = loss_fn(logits, labels)  # Compute loss\n",
        "        loss.backward() # Backward pass\n",
        "        optimizer.step()    # Update weights\n",
        "\n",
        "        wandb.log({\n",
        "            \"loss\": loss.item(),\n",
        "            \"batch_idx\": batch_idx,\n",
        "        })"
      ]
    },
    {
      "cell_type": "code",
      "execution_count": 58,
      "id": "5XZS8Ax2TZ8g",
      "metadata": {
        "id": "5XZS8Ax2TZ8g"
      },
      "outputs": [],
      "source": [
        "def test_dropout(\n",
        "    dropout,\n",
        "    model_class,\n",
        "    epochs=10,\n",
        "    learning_rate=0.001,\n",
        "    weight_decay = 0.0005,\n",
        "):\n",
        "    model = model_class(dropout).to(_device)\n",
        "    model.init_weights()\n",
        "\n",
        "    # optimizer and loss\n",
        "    optimizer = torch.optim.Adam(model.parameters(), lr=learning_rate, weight_decay=weight_decay)\n",
        "    loss_fn = nn.CrossEntropyLoss()\n",
        "\n",
        "    with Capturing() as output:\n",
        "        run = wandb.init(\n",
        "            entity = \"fejowo5522-\",\n",
        "            project= \"NN_list3_OxFlow\",\n",
        "            config = {\n",
        "                \"task\": 6,\n",
        "                \"batch_size\": batch_size,\n",
        "                \"epochs\": epochs,\n",
        "                \"data_augmentation\": data_augmentation,\n",
        "                \"optimizer\": \"Adam\",\n",
        "                \"loss_fn\": \"cross_entropy\",\n",
        "                \"learning_rate\": learning_rate,\n",
        "                \"weight_decay\": weight_decay,\n",
        "                \"model\": 'alexnet',\n",
        "                \"dropout\": dropout,\n",
        "            }\n",
        "        )\n",
        "        run.name = \"Task6_\" + str(int(time.time()))\n",
        "\n",
        "\n",
        "    model.train()\n",
        "    for epoch in tqdm(range(epochs), desc=\"Training\", leave=False, position=1):\n",
        "        train_step(model, optimizer, loss_fn, data_loaders['train'])\n",
        "\n",
        "        for loader, split in [\n",
        "            (data_loaders['train'], 'train'),\n",
        "            (data_loaders['valid'], 'valid'),\n",
        "        ]:\n",
        "            loss, accuracy = model.evaluate(loader)\n",
        "            wandb.log({\n",
        "                \"epoch\": epoch,\n",
        "                f\"{split}_loss\": loss,\n",
        "                f\"{split}_accuracy\": accuracy,\n",
        "            })\n",
        "\n",
        "    model.eval()\n",
        "    loss, accuracy = model.evaluate(data_loaders['test'])\n",
        "    with Capturing() as output:\n",
        "        wandb.log({\n",
        "            \"test_loss\": loss,\n",
        "            \"test_accuracy\": accuracy,\n",
        "        })\n",
        "    print(\n",
        "        \"Test set: Average loss: {:8.6f}, Accuracy: ({:4.1f}%)\".format(\n",
        "            loss,\n",
        "            100.0 * accuracy,\n",
        "        )\n",
        "    )\n",
        "\n",
        "    with Capturing() as output:\n",
        "        run.finish()"
      ]
    },
    {
      "cell_type": "markdown",
      "id": "UA-KjOxJUWub",
      "metadata": {
        "id": "UA-KjOxJUWub"
      },
      "source": [
        "### Test dropouts"
      ]
    },
    {
      "cell_type": "code",
      "execution_count": 59,
      "id": "Ogdk5xaJUUH5",
      "metadata": {
        "colab": {
          "base_uri": "https://localhost:8080/",
          "height": 478,
          "referenced_widgets": [
            "30531324cedb4b768624d1d73a588432",
            "6b17eccba96841feab7831b8407d4c52",
            "9d4142f2cbde4f81bcf3dcccd6094ca5",
            "7640f2779f664cab84dd204c3b7196ad",
            "f79dcf604de64521921c7e0ff9fea3a1",
            "aea9eb7ed09948eea016aa7cc7e0abd4",
            "29fc706f9bdf4da2885eb08845f6badb",
            "6e85cda149d449c68db9bba230e37681",
            "fbc03877773940e88c89c52e7e83fc60",
            "4d58fced911f4fb194f2c271669a0137",
            "9de9d09abd4042459339ecb5015cf5c5"
          ]
        },
        "id": "Ogdk5xaJUUH5",
        "outputId": "38294868-2883-422c-8dc1-72b9673ec15f"
      },
      "outputs": [
        {
          "name": "stderr",
          "output_type": "stream",
          "text": [
            "  0%|          | 0/10 [00:00<?, ?it/s]"
          ]
        },
        {
          "data": {
            "text/html": [],
            "text/plain": [
              "<IPython.core.display.HTML object>"
            ]
          },
          "metadata": {},
          "output_type": "display_data"
        },
        {
          "data": {
            "text/html": [
              " View run <strong style=\"color:#cdcd00\">skilled-hill-172</strong> at: <a href='https://wandb.ai/fejowo5522-/NN_list3_OxFlow/runs/j8vwuwpd' target=\"_blank\">https://wandb.ai/fejowo5522-/NN_list3_OxFlow/runs/j8vwuwpd</a><br> View project at: <a href='https://wandb.ai/fejowo5522-/NN_list3_OxFlow' target=\"_blank\">https://wandb.ai/fejowo5522-/NN_list3_OxFlow</a><br>Synced 4 W&B file(s), 0 media file(s), 0 artifact file(s) and 0 other file(s)"
            ],
            "text/plain": [
              "<IPython.core.display.HTML object>"
            ]
          },
          "metadata": {},
          "output_type": "display_data"
        },
        {
          "data": {
            "text/html": [
              "Find logs at: <code>.\\wandb\\run-20250422_190649-j8vwuwpd\\logs</code>"
            ],
            "text/plain": [
              "<IPython.core.display.HTML object>"
            ]
          },
          "metadata": {},
          "output_type": "display_data"
        },
        {
          "data": {
            "text/html": [
              "Tracking run with wandb version 0.19.9"
            ],
            "text/plain": [
              "<IPython.core.display.HTML object>"
            ]
          },
          "metadata": {},
          "output_type": "display_data"
        },
        {
          "data": {
            "text/html": [
              "Run data is saved locally in <code>d:\\SharedData\\Documents\\Programming\\UWr\\Sem6\\NN\\List3\\wandb\\run-20250422_190654-fndeok6j</code>"
            ],
            "text/plain": [
              "<IPython.core.display.HTML object>"
            ]
          },
          "metadata": {},
          "output_type": "display_data"
        },
        {
          "data": {
            "text/html": [
              "Syncing run <strong><a href='https://wandb.ai/fejowo5522-/NN_list3_OxFlow/runs/fndeok6j' target=\"_blank\">dutiful-glade-173</a></strong> to <a href='https://wandb.ai/fejowo5522-/NN_list3_OxFlow' target=\"_blank\">Weights & Biases</a> (<a href='https://wandb.me/developer-guide' target=\"_blank\">docs</a>)<br>"
            ],
            "text/plain": [
              "<IPython.core.display.HTML object>"
            ]
          },
          "metadata": {},
          "output_type": "display_data"
        },
        {
          "data": {
            "text/html": [
              " View project at <a href='https://wandb.ai/fejowo5522-/NN_list3_OxFlow' target=\"_blank\">https://wandb.ai/fejowo5522-/NN_list3_OxFlow</a>"
            ],
            "text/plain": [
              "<IPython.core.display.HTML object>"
            ]
          },
          "metadata": {},
          "output_type": "display_data"
        },
        {
          "data": {
            "text/html": [
              " View run at <a href='https://wandb.ai/fejowo5522-/NN_list3_OxFlow/runs/fndeok6j' target=\"_blank\">https://wandb.ai/fejowo5522-/NN_list3_OxFlow/runs/fndeok6j</a>"
            ],
            "text/plain": [
              "<IPython.core.display.HTML object>"
            ]
          },
          "metadata": {},
          "output_type": "display_data"
        },
        {
          "name": "stderr",
          "output_type": "stream",
          "text": []
        },
        {
          "data": {
            "text/html": [],
            "text/plain": [
              "<IPython.core.display.HTML object>"
            ]
          },
          "metadata": {},
          "output_type": "display_data"
        },
        {
          "name": "stdout",
          "output_type": "stream",
          "text": [
            "Test set: Average loss: 4.625293, Accuracy: ( 0.5%)\n"
          ]
        },
        {
          "data": {
            "text/html": [
              "<br>    <style><br>        .wandb-row {<br>            display: flex;<br>            flex-direction: row;<br>            flex-wrap: wrap;<br>            justify-content: flex-start;<br>            width: 100%;<br>        }<br>        .wandb-col {<br>            display: flex;<br>            flex-direction: column;<br>            flex-basis: 100%;<br>            flex: 1;<br>            padding: 10px;<br>        }<br>    </style><br><div class=\"wandb-row\"><div class=\"wandb-col\"><h3>Run history:</h3><br/><table class=\"wandb\"><tr><td>batch_idx</td><td>▁▃▃▄▄█▃▃▆▇▃▄▆▆▇▅██▁▅▃▄▅▇▇█▃▄▆█▃▃▄▄▅▇▃▃▄█</td></tr><tr><td>epoch</td><td>▁▁▂▂▃▃▃▃▄▄▅▅▆▆▆▆▇▇██</td></tr><tr><td>loss</td><td>█▂▁▁▁▁▁▁▁▁▁▁▁▁▁▁▁▁▁▁▁▁▁▁▁▁▁▁▁▁▁▁▁▁▁▁▁▁▁▁</td></tr><tr><td>test_accuracy</td><td>▁</td></tr><tr><td>test_loss</td><td>▁</td></tr><tr><td>train_accuracy</td><td>▁▁▁▁▁▁▁▁▁▁</td></tr><tr><td>train_loss</td><td>▁█▅▄▄▂▂▂▂▂</td></tr><tr><td>valid_accuracy</td><td>▁▁▁▁▁▁▁▁▁▁</td></tr><tr><td>valid_loss</td><td>▁█▇▆▆▆▆▅▅▅</td></tr></table><br/></div><div class=\"wandb-col\"><h3>Run summary:</h3><br/><table class=\"wandb\"><tr><td>batch_idx</td><td>15</td></tr><tr><td>epoch</td><td>9</td></tr><tr><td>loss</td><td>4.62573</td></tr><tr><td>test_accuracy</td><td>0.00472</td></tr><tr><td>test_loss</td><td>4.62529</td></tr><tr><td>train_accuracy</td><td>0.0098</td></tr><tr><td>train_loss</td><td>4.62501</td></tr><tr><td>valid_accuracy</td><td>0.0098</td></tr><tr><td>valid_loss</td><td>4.62501</td></tr></table><br/></div></div>"
            ],
            "text/plain": [
              "<IPython.core.display.HTML object>"
            ]
          },
          "metadata": {},
          "output_type": "display_data"
        },
        {
          "data": {
            "text/html": [
              " View run <strong style=\"color:#cdcd00\">Task6_1745341616</strong> at: <a href='https://wandb.ai/fejowo5522-/NN_list3_OxFlow/runs/fndeok6j' target=\"_blank\">https://wandb.ai/fejowo5522-/NN_list3_OxFlow/runs/fndeok6j</a><br> View project at: <a href='https://wandb.ai/fejowo5522-/NN_list3_OxFlow' target=\"_blank\">https://wandb.ai/fejowo5522-/NN_list3_OxFlow</a><br>Synced 5 W&B file(s), 0 media file(s), 0 artifact file(s) and 0 other file(s)"
            ],
            "text/plain": [
              "<IPython.core.display.HTML object>"
            ]
          },
          "metadata": {},
          "output_type": "display_data"
        },
        {
          "data": {
            "text/html": [
              "Find logs at: <code>.\\wandb\\run-20250422_190654-fndeok6j\\logs</code>"
            ],
            "text/plain": [
              "<IPython.core.display.HTML object>"
            ]
          },
          "metadata": {},
          "output_type": "display_data"
        },
        {
          "name": "stderr",
          "output_type": "stream",
          "text": [
            " 10%|█         | 1/10 [03:52<34:54, 232.74s/it]"
          ]
        },
        {
          "data": {
            "text/html": [
              "Tracking run with wandb version 0.19.9"
            ],
            "text/plain": [
              "<IPython.core.display.HTML object>"
            ]
          },
          "metadata": {},
          "output_type": "display_data"
        },
        {
          "data": {
            "text/html": [
              "Run data is saved locally in <code>d:\\SharedData\\Documents\\Programming\\UWr\\Sem6\\NN\\List3\\wandb\\run-20250422_191047-zdcqbd3o</code>"
            ],
            "text/plain": [
              "<IPython.core.display.HTML object>"
            ]
          },
          "metadata": {},
          "output_type": "display_data"
        },
        {
          "data": {
            "text/html": [
              "Syncing run <strong><a href='https://wandb.ai/fejowo5522-/NN_list3_OxFlow/runs/zdcqbd3o' target=\"_blank\">iconic-pyramid-174</a></strong> to <a href='https://wandb.ai/fejowo5522-/NN_list3_OxFlow' target=\"_blank\">Weights & Biases</a> (<a href='https://wandb.me/developer-guide' target=\"_blank\">docs</a>)<br>"
            ],
            "text/plain": [
              "<IPython.core.display.HTML object>"
            ]
          },
          "metadata": {},
          "output_type": "display_data"
        },
        {
          "data": {
            "text/html": [
              " View project at <a href='https://wandb.ai/fejowo5522-/NN_list3_OxFlow' target=\"_blank\">https://wandb.ai/fejowo5522-/NN_list3_OxFlow</a>"
            ],
            "text/plain": [
              "<IPython.core.display.HTML object>"
            ]
          },
          "metadata": {},
          "output_type": "display_data"
        },
        {
          "data": {
            "text/html": [
              " View run at <a href='https://wandb.ai/fejowo5522-/NN_list3_OxFlow/runs/zdcqbd3o' target=\"_blank\">https://wandb.ai/fejowo5522-/NN_list3_OxFlow/runs/zdcqbd3o</a>"
            ],
            "text/plain": [
              "<IPython.core.display.HTML object>"
            ]
          },
          "metadata": {},
          "output_type": "display_data"
        },
        {
          "name": "stderr",
          "output_type": "stream",
          "text": []
        },
        {
          "data": {
            "text/html": [],
            "text/plain": [
              "<IPython.core.display.HTML object>"
            ]
          },
          "metadata": {},
          "output_type": "display_data"
        },
        {
          "name": "stdout",
          "output_type": "stream",
          "text": [
            "Test set: Average loss: 4.623948, Accuracy: ( 0.9%)\n"
          ]
        },
        {
          "data": {
            "text/html": [
              "<br>    <style><br>        .wandb-row {<br>            display: flex;<br>            flex-direction: row;<br>            flex-wrap: wrap;<br>            justify-content: flex-start;<br>            width: 100%;<br>        }<br>        .wandb-col {<br>            display: flex;<br>            flex-direction: column;<br>            flex-basis: 100%;<br>            flex: 1;<br>            padding: 10px;<br>        }<br>    </style><br><div class=\"wandb-row\"><div class=\"wandb-col\"><h3>Run history:</h3><br/><table class=\"wandb\"><tr><td>batch_idx</td><td>▁▄▆▄▇█▆▇█▁▆▁▂▃▅▅▆▆▇█▁▅█▁▁▃▄▅▅▇▁▃▄▆█▁▃▄▅█</td></tr><tr><td>epoch</td><td>▁▁▂▂▃▃▃▃▄▄▅▅▆▆▆▆▇▇██</td></tr><tr><td>loss</td><td>█▂▁▁▁▁▁▁▁▁▁▁▁▁▁▁▁▁▁▁▁▁▁▁▁▁▁▁▁▁▁▁▁▁▁▁▁▁▁▁</td></tr><tr><td>test_accuracy</td><td>▁</td></tr><tr><td>test_loss</td><td>▁</td></tr><tr><td>train_accuracy</td><td>▆▆▅▁▅▆▆▆█▆</td></tr><tr><td>train_loss</td><td>▇█▁▃▂▂▂▂▁▁</td></tr><tr><td>valid_accuracy</td><td>▁▅▁█▁▁▁▁▃▁</td></tr><tr><td>valid_loss</td><td>▁▇█▂▂▁▁▁▁▁</td></tr></table><br/></div><div class=\"wandb-col\"><h3>Run summary:</h3><br/><table class=\"wandb\"><tr><td>batch_idx</td><td>15</td></tr><tr><td>epoch</td><td>9</td></tr><tr><td>loss</td><td>4.62693</td></tr><tr><td>test_accuracy</td><td>0.00943</td></tr><tr><td>test_loss</td><td>4.62395</td></tr><tr><td>train_accuracy</td><td>0.0098</td></tr><tr><td>train_loss</td><td>4.62501</td></tr><tr><td>valid_accuracy</td><td>0.0098</td></tr><tr><td>valid_loss</td><td>4.62503</td></tr></table><br/></div></div>"
            ],
            "text/plain": [
              "<IPython.core.display.HTML object>"
            ]
          },
          "metadata": {},
          "output_type": "display_data"
        },
        {
          "data": {
            "text/html": [
              " View run <strong style=\"color:#cdcd00\">Task6_1745341847</strong> at: <a href='https://wandb.ai/fejowo5522-/NN_list3_OxFlow/runs/zdcqbd3o' target=\"_blank\">https://wandb.ai/fejowo5522-/NN_list3_OxFlow/runs/zdcqbd3o</a><br> View project at: <a href='https://wandb.ai/fejowo5522-/NN_list3_OxFlow' target=\"_blank\">https://wandb.ai/fejowo5522-/NN_list3_OxFlow</a><br>Synced 5 W&B file(s), 0 media file(s), 0 artifact file(s) and 0 other file(s)"
            ],
            "text/plain": [
              "<IPython.core.display.HTML object>"
            ]
          },
          "metadata": {},
          "output_type": "display_data"
        },
        {
          "data": {
            "text/html": [
              "Find logs at: <code>.\\wandb\\run-20250422_191047-zdcqbd3o\\logs</code>"
            ],
            "text/plain": [
              "<IPython.core.display.HTML object>"
            ]
          },
          "metadata": {},
          "output_type": "display_data"
        },
        {
          "name": "stderr",
          "output_type": "stream",
          "text": [
            " 20%|██        | 2/10 [07:40<30:39, 229.99s/it]"
          ]
        },
        {
          "data": {
            "text/html": [
              "Tracking run with wandb version 0.19.9"
            ],
            "text/plain": [
              "<IPython.core.display.HTML object>"
            ]
          },
          "metadata": {},
          "output_type": "display_data"
        },
        {
          "data": {
            "text/html": [
              "Run data is saved locally in <code>d:\\SharedData\\Documents\\Programming\\UWr\\Sem6\\NN\\List3\\wandb\\run-20250422_191435-i2jsbqfv</code>"
            ],
            "text/plain": [
              "<IPython.core.display.HTML object>"
            ]
          },
          "metadata": {},
          "output_type": "display_data"
        },
        {
          "data": {
            "text/html": [
              "Syncing run <strong><a href='https://wandb.ai/fejowo5522-/NN_list3_OxFlow/runs/i2jsbqfv' target=\"_blank\">peachy-meadow-175</a></strong> to <a href='https://wandb.ai/fejowo5522-/NN_list3_OxFlow' target=\"_blank\">Weights & Biases</a> (<a href='https://wandb.me/developer-guide' target=\"_blank\">docs</a>)<br>"
            ],
            "text/plain": [
              "<IPython.core.display.HTML object>"
            ]
          },
          "metadata": {},
          "output_type": "display_data"
        },
        {
          "data": {
            "text/html": [
              " View project at <a href='https://wandb.ai/fejowo5522-/NN_list3_OxFlow' target=\"_blank\">https://wandb.ai/fejowo5522-/NN_list3_OxFlow</a>"
            ],
            "text/plain": [
              "<IPython.core.display.HTML object>"
            ]
          },
          "metadata": {},
          "output_type": "display_data"
        },
        {
          "data": {
            "text/html": [
              " View run at <a href='https://wandb.ai/fejowo5522-/NN_list3_OxFlow/runs/i2jsbqfv' target=\"_blank\">https://wandb.ai/fejowo5522-/NN_list3_OxFlow/runs/i2jsbqfv</a>"
            ],
            "text/plain": [
              "<IPython.core.display.HTML object>"
            ]
          },
          "metadata": {},
          "output_type": "display_data"
        },
        {
          "name": "stderr",
          "output_type": "stream",
          "text": []
        },
        {
          "data": {
            "text/html": [],
            "text/plain": [
              "<IPython.core.display.HTML object>"
            ]
          },
          "metadata": {},
          "output_type": "display_data"
        },
        {
          "name": "stdout",
          "output_type": "stream",
          "text": [
            "Test set: Average loss: 4.625145, Accuracy: ( 1.1%)\n"
          ]
        },
        {
          "data": {
            "text/html": [
              "<br>    <style><br>        .wandb-row {<br>            display: flex;<br>            flex-direction: row;<br>            flex-wrap: wrap;<br>            justify-content: flex-start;<br>            width: 100%;<br>        }<br>        .wandb-col {<br>            display: flex;<br>            flex-direction: column;<br>            flex-basis: 100%;<br>            flex: 1;<br>            padding: 10px;<br>        }<br>    </style><br><div class=\"wandb-row\"><div class=\"wandb-col\"><h3>Run history:</h3><br/><table class=\"wandb\"><tr><td>batch_idx</td><td>▁▅▅▆▁▂▄▁▂▃▇▄▄▇▇▆█▁▁▂▃▄█▅▆▁▂▅▇▇▁▂▃▄▅█▂▅▅█</td></tr><tr><td>epoch</td><td>▁▁▂▂▃▃▃▃▄▄▅▅▆▆▆▆▇▇██</td></tr><tr><td>loss</td><td>▂█▁▁▁▁▁▁▁▁▁▁▁▁▁▁▁▁▁▁▁▁▁▁▁▁▁▁▁▁▁▁▁▁▁▁▁▁▁▁</td></tr><tr><td>test_accuracy</td><td>▁</td></tr><tr><td>test_loss</td><td>▁</td></tr><tr><td>train_accuracy</td><td>▁▁▁▁▁▁▁█▁▁</td></tr><tr><td>train_loss</td><td>█▆▅▃▂▂▂▁▁▁</td></tr><tr><td>valid_accuracy</td><td>███████▁██</td></tr><tr><td>valid_loss</td><td>█▄▄▂▂▂▁▁▁▁</td></tr></table><br/></div><div class=\"wandb-col\"><h3>Run summary:</h3><br/><table class=\"wandb\"><tr><td>batch_idx</td><td>15</td></tr><tr><td>epoch</td><td>9</td></tr><tr><td>loss</td><td>4.62638</td></tr><tr><td>test_accuracy</td><td>0.01057</td></tr><tr><td>test_loss</td><td>4.62515</td></tr><tr><td>train_accuracy</td><td>0.0098</td></tr><tr><td>train_loss</td><td>4.62502</td></tr><tr><td>valid_accuracy</td><td>0.0098</td></tr><tr><td>valid_loss</td><td>4.62501</td></tr></table><br/></div></div>"
            ],
            "text/plain": [
              "<IPython.core.display.HTML object>"
            ]
          },
          "metadata": {},
          "output_type": "display_data"
        },
        {
          "data": {
            "text/html": [
              " View run <strong style=\"color:#cdcd00\">Task6_1745342076</strong> at: <a href='https://wandb.ai/fejowo5522-/NN_list3_OxFlow/runs/i2jsbqfv' target=\"_blank\">https://wandb.ai/fejowo5522-/NN_list3_OxFlow/runs/i2jsbqfv</a><br> View project at: <a href='https://wandb.ai/fejowo5522-/NN_list3_OxFlow' target=\"_blank\">https://wandb.ai/fejowo5522-/NN_list3_OxFlow</a><br>Synced 5 W&B file(s), 0 media file(s), 0 artifact file(s) and 0 other file(s)"
            ],
            "text/plain": [
              "<IPython.core.display.HTML object>"
            ]
          },
          "metadata": {},
          "output_type": "display_data"
        },
        {
          "data": {
            "text/html": [
              "Find logs at: <code>.\\wandb\\run-20250422_191435-i2jsbqfv\\logs</code>"
            ],
            "text/plain": [
              "<IPython.core.display.HTML object>"
            ]
          },
          "metadata": {},
          "output_type": "display_data"
        },
        {
          "name": "stderr",
          "output_type": "stream",
          "text": [
            " 30%|███       | 3/10 [11:26<26:37, 228.15s/it]"
          ]
        },
        {
          "data": {
            "text/html": [
              "Tracking run with wandb version 0.19.9"
            ],
            "text/plain": [
              "<IPython.core.display.HTML object>"
            ]
          },
          "metadata": {},
          "output_type": "display_data"
        },
        {
          "data": {
            "text/html": [
              "Run data is saved locally in <code>d:\\SharedData\\Documents\\Programming\\UWr\\Sem6\\NN\\List3\\wandb\\run-20250422_191821-pixn3ehk</code>"
            ],
            "text/plain": [
              "<IPython.core.display.HTML object>"
            ]
          },
          "metadata": {},
          "output_type": "display_data"
        },
        {
          "data": {
            "text/html": [
              "Syncing run <strong><a href='https://wandb.ai/fejowo5522-/NN_list3_OxFlow/runs/pixn3ehk' target=\"_blank\">soft-sunset-176</a></strong> to <a href='https://wandb.ai/fejowo5522-/NN_list3_OxFlow' target=\"_blank\">Weights & Biases</a> (<a href='https://wandb.me/developer-guide' target=\"_blank\">docs</a>)<br>"
            ],
            "text/plain": [
              "<IPython.core.display.HTML object>"
            ]
          },
          "metadata": {},
          "output_type": "display_data"
        },
        {
          "data": {
            "text/html": [
              " View project at <a href='https://wandb.ai/fejowo5522-/NN_list3_OxFlow' target=\"_blank\">https://wandb.ai/fejowo5522-/NN_list3_OxFlow</a>"
            ],
            "text/plain": [
              "<IPython.core.display.HTML object>"
            ]
          },
          "metadata": {},
          "output_type": "display_data"
        },
        {
          "data": {
            "text/html": [
              " View run at <a href='https://wandb.ai/fejowo5522-/NN_list3_OxFlow/runs/pixn3ehk' target=\"_blank\">https://wandb.ai/fejowo5522-/NN_list3_OxFlow/runs/pixn3ehk</a>"
            ],
            "text/plain": [
              "<IPython.core.display.HTML object>"
            ]
          },
          "metadata": {},
          "output_type": "display_data"
        },
        {
          "name": "stderr",
          "output_type": "stream",
          "text": []
        },
        {
          "data": {
            "text/html": [],
            "text/plain": [
              "<IPython.core.display.HTML object>"
            ]
          },
          "metadata": {},
          "output_type": "display_data"
        },
        {
          "name": "stdout",
          "output_type": "stream",
          "text": [
            "Test set: Average loss: 4.624293, Accuracy: ( 1.0%)\n"
          ]
        },
        {
          "data": {
            "text/html": [
              "<br>    <style><br>        .wandb-row {<br>            display: flex;<br>            flex-direction: row;<br>            flex-wrap: wrap;<br>            justify-content: flex-start;<br>            width: 100%;<br>        }<br>        .wandb-col {<br>            display: flex;<br>            flex-direction: column;<br>            flex-basis: 100%;<br>            flex: 1;<br>            padding: 10px;<br>        }<br>    </style><br><div class=\"wandb-row\"><div class=\"wandb-col\"><h3>Run history:</h3><br/><table class=\"wandb\"><tr><td>batch_idx</td><td>▄▅▆▁▄▁▃▃▆▇█▂▅▆▇▄▅▆▂▃▇▇█▂▅▆█▂▃▅██▁▂▃▂▃▄▅▆</td></tr><tr><td>epoch</td><td>▁▁▂▂▃▃▃▃▄▄▅▅▆▆▆▆▇▇██</td></tr><tr><td>loss</td><td>▂█▃▁▁▁▁▁▁▁▁▁▁▁▁▁▁▁▁▁▁▁▁▁▁▁▁▁▁▁▁▁▁▁▁▁▁▁▁▁</td></tr><tr><td>test_accuracy</td><td>▁</td></tr><tr><td>test_loss</td><td>▁</td></tr><tr><td>train_accuracy</td><td>▆▅▁▁▃▁▃█▁▁</td></tr><tr><td>train_loss</td><td>█▂▂▂▁▁▁▁▁▁</td></tr><tr><td>valid_accuracy</td><td>▆▁▄▄▃▄▄█▄▄</td></tr><tr><td>valid_loss</td><td>█▂▂▂▁▁▁▁▁▁</td></tr></table><br/></div><div class=\"wandb-col\"><h3>Run summary:</h3><br/><table class=\"wandb\"><tr><td>batch_idx</td><td>15</td></tr><tr><td>epoch</td><td>9</td></tr><tr><td>loss</td><td>4.62548</td></tr><tr><td>test_accuracy</td><td>0.01008</td></tr><tr><td>test_loss</td><td>4.62429</td></tr><tr><td>train_accuracy</td><td>0.0098</td></tr><tr><td>train_loss</td><td>4.62498</td></tr><tr><td>valid_accuracy</td><td>0.0098</td></tr><tr><td>valid_loss</td><td>4.625</td></tr></table><br/></div></div>"
            ],
            "text/plain": [
              "<IPython.core.display.HTML object>"
            ]
          },
          "metadata": {},
          "output_type": "display_data"
        },
        {
          "data": {
            "text/html": [
              " View run <strong style=\"color:#cdcd00\">Task6_1745342302</strong> at: <a href='https://wandb.ai/fejowo5522-/NN_list3_OxFlow/runs/pixn3ehk' target=\"_blank\">https://wandb.ai/fejowo5522-/NN_list3_OxFlow/runs/pixn3ehk</a><br> View project at: <a href='https://wandb.ai/fejowo5522-/NN_list3_OxFlow' target=\"_blank\">https://wandb.ai/fejowo5522-/NN_list3_OxFlow</a><br>Synced 5 W&B file(s), 0 media file(s), 0 artifact file(s) and 0 other file(s)"
            ],
            "text/plain": [
              "<IPython.core.display.HTML object>"
            ]
          },
          "metadata": {},
          "output_type": "display_data"
        },
        {
          "data": {
            "text/html": [
              "Find logs at: <code>.\\wandb\\run-20250422_191821-pixn3ehk\\logs</code>"
            ],
            "text/plain": [
              "<IPython.core.display.HTML object>"
            ]
          },
          "metadata": {},
          "output_type": "display_data"
        },
        {
          "name": "stderr",
          "output_type": "stream",
          "text": [
            " 40%|████      | 4/10 [16:00<24:36, 246.16s/it]"
          ]
        },
        {
          "data": {
            "text/html": [
              "Tracking run with wandb version 0.19.9"
            ],
            "text/plain": [
              "<IPython.core.display.HTML object>"
            ]
          },
          "metadata": {},
          "output_type": "display_data"
        },
        {
          "data": {
            "text/html": [
              "Run data is saved locally in <code>d:\\SharedData\\Documents\\Programming\\UWr\\Sem6\\NN\\List3\\wandb\\run-20250422_192255-hh97614j</code>"
            ],
            "text/plain": [
              "<IPython.core.display.HTML object>"
            ]
          },
          "metadata": {},
          "output_type": "display_data"
        },
        {
          "data": {
            "text/html": [
              "Syncing run <strong><a href='https://wandb.ai/fejowo5522-/NN_list3_OxFlow/runs/hh97614j' target=\"_blank\">logical-night-177</a></strong> to <a href='https://wandb.ai/fejowo5522-/NN_list3_OxFlow' target=\"_blank\">Weights & Biases</a> (<a href='https://wandb.me/developer-guide' target=\"_blank\">docs</a>)<br>"
            ],
            "text/plain": [
              "<IPython.core.display.HTML object>"
            ]
          },
          "metadata": {},
          "output_type": "display_data"
        },
        {
          "data": {
            "text/html": [
              " View project at <a href='https://wandb.ai/fejowo5522-/NN_list3_OxFlow' target=\"_blank\">https://wandb.ai/fejowo5522-/NN_list3_OxFlow</a>"
            ],
            "text/plain": [
              "<IPython.core.display.HTML object>"
            ]
          },
          "metadata": {},
          "output_type": "display_data"
        },
        {
          "data": {
            "text/html": [
              " View run at <a href='https://wandb.ai/fejowo5522-/NN_list3_OxFlow/runs/hh97614j' target=\"_blank\">https://wandb.ai/fejowo5522-/NN_list3_OxFlow/runs/hh97614j</a>"
            ],
            "text/plain": [
              "<IPython.core.display.HTML object>"
            ]
          },
          "metadata": {},
          "output_type": "display_data"
        },
        {
          "name": "stderr",
          "output_type": "stream",
          "text": []
        },
        {
          "data": {
            "text/html": [],
            "text/plain": [
              "<IPython.core.display.HTML object>"
            ]
          },
          "metadata": {},
          "output_type": "display_data"
        },
        {
          "name": "stdout",
          "output_type": "stream",
          "text": [
            "Test set: Average loss: 4.625585, Accuracy: ( 1.6%)\n"
          ]
        },
        {
          "data": {
            "text/html": [
              "<br>    <style><br>        .wandb-row {<br>            display: flex;<br>            flex-direction: row;<br>            flex-wrap: wrap;<br>            justify-content: flex-start;<br>            width: 100%;<br>        }<br>        .wandb-col {<br>            display: flex;<br>            flex-direction: column;<br>            flex-basis: 100%;<br>            flex: 1;<br>            padding: 10px;<br>        }<br>    </style><br><div class=\"wandb-row\"><div class=\"wandb-col\"><h3>Run history:</h3><br/><table class=\"wandb\"><tr><td>batch_idx</td><td>▂▃▃▁▂▄▅▇█▂▄▅▁▄▄▇█▁▃▆▂▃▅▆█▁▄▆▆▇▂▃▆▇█▅▆▂▂▇</td></tr><tr><td>epoch</td><td>▁▁▂▂▃▃▃▃▄▄▅▅▆▆▆▆▇▇██</td></tr><tr><td>loss</td><td>█▄▃▁▁▁▁▁▁▁▁▁▁▁▁▁▁▁▁▁▁▁▁▁▁▁▁▁▁▁▁▁▁▁▁▁▁▁▁▁</td></tr><tr><td>test_accuracy</td><td>▁</td></tr><tr><td>test_loss</td><td>▁</td></tr><tr><td>train_accuracy</td><td>▁▇▅▄▃▄█▆▃▄</td></tr><tr><td>train_loss</td><td>█▁▁▁▁▁▁▁▁▁</td></tr><tr><td>valid_accuracy</td><td>█▇▅▆▆▄▇▁▄▆</td></tr><tr><td>valid_loss</td><td>█▁▁▁▁▁▁▁▁▁</td></tr></table><br/></div><div class=\"wandb-col\"><h3>Run summary:</h3><br/><table class=\"wandb\"><tr><td>batch_idx</td><td>15</td></tr><tr><td>epoch</td><td>9</td></tr><tr><td>loss</td><td>4.62718</td></tr><tr><td>test_accuracy</td><td>0.01626</td></tr><tr><td>test_loss</td><td>4.62559</td></tr><tr><td>train_accuracy</td><td>0.0098</td></tr><tr><td>train_loss</td><td>4.62504</td></tr><tr><td>valid_accuracy</td><td>0.0098</td></tr><tr><td>valid_loss</td><td>4.62499</td></tr></table><br/></div></div>"
            ],
            "text/plain": [
              "<IPython.core.display.HTML object>"
            ]
          },
          "metadata": {},
          "output_type": "display_data"
        },
        {
          "data": {
            "text/html": [
              " View run <strong style=\"color:#cdcd00\">Task6_1745342576</strong> at: <a href='https://wandb.ai/fejowo5522-/NN_list3_OxFlow/runs/hh97614j' target=\"_blank\">https://wandb.ai/fejowo5522-/NN_list3_OxFlow/runs/hh97614j</a><br> View project at: <a href='https://wandb.ai/fejowo5522-/NN_list3_OxFlow' target=\"_blank\">https://wandb.ai/fejowo5522-/NN_list3_OxFlow</a><br>Synced 5 W&B file(s), 0 media file(s), 0 artifact file(s) and 0 other file(s)"
            ],
            "text/plain": [
              "<IPython.core.display.HTML object>"
            ]
          },
          "metadata": {},
          "output_type": "display_data"
        },
        {
          "data": {
            "text/html": [
              "Find logs at: <code>.\\wandb\\run-20250422_192255-hh97614j\\logs</code>"
            ],
            "text/plain": [
              "<IPython.core.display.HTML object>"
            ]
          },
          "metadata": {},
          "output_type": "display_data"
        },
        {
          "name": "stderr",
          "output_type": "stream",
          "text": [
            " 50%|█████     | 5/10 [19:46<19:54, 238.98s/it]"
          ]
        },
        {
          "data": {
            "text/html": [
              "Tracking run with wandb version 0.19.9"
            ],
            "text/plain": [
              "<IPython.core.display.HTML object>"
            ]
          },
          "metadata": {},
          "output_type": "display_data"
        },
        {
          "data": {
            "text/html": [
              "Run data is saved locally in <code>d:\\SharedData\\Documents\\Programming\\UWr\\Sem6\\NN\\List3\\wandb\\run-20250422_192641-qeqkt4k1</code>"
            ],
            "text/plain": [
              "<IPython.core.display.HTML object>"
            ]
          },
          "metadata": {},
          "output_type": "display_data"
        },
        {
          "data": {
            "text/html": [
              "Syncing run <strong><a href='https://wandb.ai/fejowo5522-/NN_list3_OxFlow/runs/qeqkt4k1' target=\"_blank\">hopeful-rain-178</a></strong> to <a href='https://wandb.ai/fejowo5522-/NN_list3_OxFlow' target=\"_blank\">Weights & Biases</a> (<a href='https://wandb.me/developer-guide' target=\"_blank\">docs</a>)<br>"
            ],
            "text/plain": [
              "<IPython.core.display.HTML object>"
            ]
          },
          "metadata": {},
          "output_type": "display_data"
        },
        {
          "data": {
            "text/html": [
              " View project at <a href='https://wandb.ai/fejowo5522-/NN_list3_OxFlow' target=\"_blank\">https://wandb.ai/fejowo5522-/NN_list3_OxFlow</a>"
            ],
            "text/plain": [
              "<IPython.core.display.HTML object>"
            ]
          },
          "metadata": {},
          "output_type": "display_data"
        },
        {
          "data": {
            "text/html": [
              " View run at <a href='https://wandb.ai/fejowo5522-/NN_list3_OxFlow/runs/qeqkt4k1' target=\"_blank\">https://wandb.ai/fejowo5522-/NN_list3_OxFlow/runs/qeqkt4k1</a>"
            ],
            "text/plain": [
              "<IPython.core.display.HTML object>"
            ]
          },
          "metadata": {},
          "output_type": "display_data"
        },
        {
          "name": "stderr",
          "output_type": "stream",
          "text": []
        },
        {
          "data": {
            "text/html": [],
            "text/plain": [
              "<IPython.core.display.HTML object>"
            ]
          },
          "metadata": {},
          "output_type": "display_data"
        },
        {
          "name": "stdout",
          "output_type": "stream",
          "text": [
            "Test set: Average loss: 4.624671, Accuracy: ( 1.5%)\n"
          ]
        },
        {
          "data": {
            "text/html": [
              "<br>    <style><br>        .wandb-row {<br>            display: flex;<br>            flex-direction: row;<br>            flex-wrap: wrap;<br>            justify-content: flex-start;<br>            width: 100%;<br>        }<br>        .wandb-col {<br>            display: flex;<br>            flex-direction: column;<br>            flex-basis: 100%;<br>            flex: 1;<br>            padding: 10px;<br>        }<br>    </style><br><div class=\"wandb-row\"><div class=\"wandb-col\"><h3>Run history:</h3><br/><table class=\"wandb\"><tr><td>batch_idx</td><td>▂▃▅▆█▂▃▇█▅▆▇█▃▆▃▄▆█▃▇▁▃▄▅█▁▃▅▆█▁▁▂▂▅▂▃▇█</td></tr><tr><td>epoch</td><td>▁▁▂▂▃▃▃▃▄▄▅▅▆▆▆▆▇▇██</td></tr><tr><td>loss</td><td>█▁▁▁▁▁▁▁▁▁▁▁▁▁▁▁▁▁▁▁▁▁▁▁▁▁▁▁▁▁▁▁▁▁▁▁▁▁▁▁</td></tr><tr><td>test_accuracy</td><td>▁</td></tr><tr><td>test_loss</td><td>▁</td></tr><tr><td>train_accuracy</td><td>▅▅▃▃▅▁▅▁▆█</td></tr><tr><td>train_loss</td><td>█▁▁▁▁▁▁▁▁▁</td></tr><tr><td>valid_accuracy</td><td>▁▄▅▄▄▆▁▄▅█</td></tr><tr><td>valid_loss</td><td>█▁▁▁▁▁▁▁▁▁</td></tr></table><br/></div><div class=\"wandb-col\"><h3>Run summary:</h3><br/><table class=\"wandb\"><tr><td>batch_idx</td><td>15</td></tr><tr><td>epoch</td><td>9</td></tr><tr><td>loss</td><td>4.62845</td></tr><tr><td>test_accuracy</td><td>0.01529</td></tr><tr><td>test_loss</td><td>4.62467</td></tr><tr><td>train_accuracy</td><td>0.01176</td></tr><tr><td>train_loss</td><td>4.62506</td></tr><tr><td>valid_accuracy</td><td>0.01471</td></tr><tr><td>valid_loss</td><td>4.62509</td></tr></table><br/></div></div>"
            ],
            "text/plain": [
              "<IPython.core.display.HTML object>"
            ]
          },
          "metadata": {},
          "output_type": "display_data"
        },
        {
          "data": {
            "text/html": [
              " View run <strong style=\"color:#cdcd00\">Task6_1745342802</strong> at: <a href='https://wandb.ai/fejowo5522-/NN_list3_OxFlow/runs/qeqkt4k1' target=\"_blank\">https://wandb.ai/fejowo5522-/NN_list3_OxFlow/runs/qeqkt4k1</a><br> View project at: <a href='https://wandb.ai/fejowo5522-/NN_list3_OxFlow' target=\"_blank\">https://wandb.ai/fejowo5522-/NN_list3_OxFlow</a><br>Synced 5 W&B file(s), 0 media file(s), 0 artifact file(s) and 0 other file(s)"
            ],
            "text/plain": [
              "<IPython.core.display.HTML object>"
            ]
          },
          "metadata": {},
          "output_type": "display_data"
        },
        {
          "data": {
            "text/html": [
              "Find logs at: <code>.\\wandb\\run-20250422_192641-qeqkt4k1\\logs</code>"
            ],
            "text/plain": [
              "<IPython.core.display.HTML object>"
            ]
          },
          "metadata": {},
          "output_type": "display_data"
        },
        {
          "name": "stderr",
          "output_type": "stream",
          "text": [
            " 60%|██████    | 6/10 [23:33<15:39, 234.79s/it]"
          ]
        },
        {
          "data": {
            "text/html": [
              "Tracking run with wandb version 0.19.9"
            ],
            "text/plain": [
              "<IPython.core.display.HTML object>"
            ]
          },
          "metadata": {},
          "output_type": "display_data"
        },
        {
          "data": {
            "text/html": [
              "Run data is saved locally in <code>d:\\SharedData\\Documents\\Programming\\UWr\\Sem6\\NN\\List3\\wandb\\run-20250422_193027-g9g1grl1</code>"
            ],
            "text/plain": [
              "<IPython.core.display.HTML object>"
            ]
          },
          "metadata": {},
          "output_type": "display_data"
        },
        {
          "data": {
            "text/html": [
              "Syncing run <strong><a href='https://wandb.ai/fejowo5522-/NN_list3_OxFlow/runs/g9g1grl1' target=\"_blank\">noble-butterfly-179</a></strong> to <a href='https://wandb.ai/fejowo5522-/NN_list3_OxFlow' target=\"_blank\">Weights & Biases</a> (<a href='https://wandb.me/developer-guide' target=\"_blank\">docs</a>)<br>"
            ],
            "text/plain": [
              "<IPython.core.display.HTML object>"
            ]
          },
          "metadata": {},
          "output_type": "display_data"
        },
        {
          "data": {
            "text/html": [
              " View project at <a href='https://wandb.ai/fejowo5522-/NN_list3_OxFlow' target=\"_blank\">https://wandb.ai/fejowo5522-/NN_list3_OxFlow</a>"
            ],
            "text/plain": [
              "<IPython.core.display.HTML object>"
            ]
          },
          "metadata": {},
          "output_type": "display_data"
        },
        {
          "data": {
            "text/html": [
              " View run at <a href='https://wandb.ai/fejowo5522-/NN_list3_OxFlow/runs/g9g1grl1' target=\"_blank\">https://wandb.ai/fejowo5522-/NN_list3_OxFlow/runs/g9g1grl1</a>"
            ],
            "text/plain": [
              "<IPython.core.display.HTML object>"
            ]
          },
          "metadata": {},
          "output_type": "display_data"
        },
        {
          "name": "stderr",
          "output_type": "stream",
          "text": []
        },
        {
          "data": {
            "text/html": [],
            "text/plain": [
              "<IPython.core.display.HTML object>"
            ]
          },
          "metadata": {},
          "output_type": "display_data"
        },
        {
          "name": "stdout",
          "output_type": "stream",
          "text": [
            "Test set: Average loss: 4.623091, Accuracy: ( 0.9%)\n"
          ]
        },
        {
          "data": {
            "text/html": [
              "<br>    <style><br>        .wandb-row {<br>            display: flex;<br>            flex-direction: row;<br>            flex-wrap: wrap;<br>            justify-content: flex-start;<br>            width: 100%;<br>        }<br>        .wandb-col {<br>            display: flex;<br>            flex-direction: column;<br>            flex-basis: 100%;<br>            flex: 1;<br>            padding: 10px;<br>        }<br>    </style><br><div class=\"wandb-row\"><div class=\"wandb-col\"><h3>Run history:</h3><br/><table class=\"wandb\"><tr><td>batch_idx</td><td>▂▄▅▆█▃▄▅▇▇▂▄▅▆▆▂▄▅▇█▄▅▇▇▁▃▄▅█▁▅▅█▁▃▁▂▄▅█</td></tr><tr><td>epoch</td><td>▁▁▂▂▃▃▃▃▄▄▅▅▆▆▆▆▇▇██</td></tr><tr><td>loss</td><td>█▁▁▁▁▁▁▁▁▁▁▁▁▁▁▁▁▁▁▁▁▁▁▁▁▁▁▁▁▁▁▁▁▁▁▁▁▁▁▁</td></tr><tr><td>test_accuracy</td><td>▁</td></tr><tr><td>test_loss</td><td>▁</td></tr><tr><td>train_accuracy</td><td>▂▁▅▁▆▆▄▅▅█</td></tr><tr><td>train_loss</td><td>█▁▁▁▁▁▁▁▁▁</td></tr><tr><td>valid_accuracy</td><td>▁▁▃▄▇▄▄▄██</td></tr><tr><td>valid_loss</td><td>█▁▁▁▁▁▁▁▁▁</td></tr></table><br/></div><div class=\"wandb-col\"><h3>Run summary:</h3><br/><table class=\"wandb\"><tr><td>batch_idx</td><td>15</td></tr><tr><td>epoch</td><td>9</td></tr><tr><td>loss</td><td>4.58498</td></tr><tr><td>test_accuracy</td><td>0.00943</td></tr><tr><td>test_loss</td><td>4.62309</td></tr><tr><td>train_accuracy</td><td>0.01961</td></tr><tr><td>train_loss</td><td>4.60428</td></tr><tr><td>valid_accuracy</td><td>0.01863</td></tr><tr><td>valid_loss</td><td>4.59446</td></tr></table><br/></div></div>"
            ],
            "text/plain": [
              "<IPython.core.display.HTML object>"
            ]
          },
          "metadata": {},
          "output_type": "display_data"
        },
        {
          "data": {
            "text/html": [
              " View run <strong style=\"color:#cdcd00\">Task6_1745343028</strong> at: <a href='https://wandb.ai/fejowo5522-/NN_list3_OxFlow/runs/g9g1grl1' target=\"_blank\">https://wandb.ai/fejowo5522-/NN_list3_OxFlow/runs/g9g1grl1</a><br> View project at: <a href='https://wandb.ai/fejowo5522-/NN_list3_OxFlow' target=\"_blank\">https://wandb.ai/fejowo5522-/NN_list3_OxFlow</a><br>Synced 5 W&B file(s), 0 media file(s), 0 artifact file(s) and 0 other file(s)"
            ],
            "text/plain": [
              "<IPython.core.display.HTML object>"
            ]
          },
          "metadata": {},
          "output_type": "display_data"
        },
        {
          "data": {
            "text/html": [
              "Find logs at: <code>.\\wandb\\run-20250422_193027-g9g1grl1\\logs</code>"
            ],
            "text/plain": [
              "<IPython.core.display.HTML object>"
            ]
          },
          "metadata": {},
          "output_type": "display_data"
        },
        {
          "name": "stderr",
          "output_type": "stream",
          "text": [
            " 70%|███████   | 7/10 [27:20<11:36, 232.22s/it]"
          ]
        },
        {
          "data": {
            "text/html": [
              "Tracking run with wandb version 0.19.9"
            ],
            "text/plain": [
              "<IPython.core.display.HTML object>"
            ]
          },
          "metadata": {},
          "output_type": "display_data"
        },
        {
          "data": {
            "text/html": [
              "Run data is saved locally in <code>d:\\SharedData\\Documents\\Programming\\UWr\\Sem6\\NN\\List3\\wandb\\run-20250422_193414-o6kheevu</code>"
            ],
            "text/plain": [
              "<IPython.core.display.HTML object>"
            ]
          },
          "metadata": {},
          "output_type": "display_data"
        },
        {
          "data": {
            "text/html": [
              "Syncing run <strong><a href='https://wandb.ai/fejowo5522-/NN_list3_OxFlow/runs/o6kheevu' target=\"_blank\">likely-bush-180</a></strong> to <a href='https://wandb.ai/fejowo5522-/NN_list3_OxFlow' target=\"_blank\">Weights & Biases</a> (<a href='https://wandb.me/developer-guide' target=\"_blank\">docs</a>)<br>"
            ],
            "text/plain": [
              "<IPython.core.display.HTML object>"
            ]
          },
          "metadata": {},
          "output_type": "display_data"
        },
        {
          "data": {
            "text/html": [
              " View project at <a href='https://wandb.ai/fejowo5522-/NN_list3_OxFlow' target=\"_blank\">https://wandb.ai/fejowo5522-/NN_list3_OxFlow</a>"
            ],
            "text/plain": [
              "<IPython.core.display.HTML object>"
            ]
          },
          "metadata": {},
          "output_type": "display_data"
        },
        {
          "data": {
            "text/html": [
              " View run at <a href='https://wandb.ai/fejowo5522-/NN_list3_OxFlow/runs/o6kheevu' target=\"_blank\">https://wandb.ai/fejowo5522-/NN_list3_OxFlow/runs/o6kheevu</a>"
            ],
            "text/plain": [
              "<IPython.core.display.HTML object>"
            ]
          },
          "metadata": {},
          "output_type": "display_data"
        },
        {
          "name": "stderr",
          "output_type": "stream",
          "text": []
        },
        {
          "data": {
            "text/html": [],
            "text/plain": [
              "<IPython.core.display.HTML object>"
            ]
          },
          "metadata": {},
          "output_type": "display_data"
        },
        {
          "name": "stdout",
          "output_type": "stream",
          "text": [
            "Test set: Average loss: 4.624409, Accuracy: ( 1.5%)\n"
          ]
        },
        {
          "data": {
            "text/html": [
              "<br>    <style><br>        .wandb-row {<br>            display: flex;<br>            flex-direction: row;<br>            flex-wrap: wrap;<br>            justify-content: flex-start;<br>            width: 100%;<br>        }<br>        .wandb-col {<br>            display: flex;<br>            flex-direction: column;<br>            flex-basis: 100%;<br>            flex: 1;<br>            padding: 10px;<br>        }<br>    </style><br><div class=\"wandb-row\"><div class=\"wandb-col\"><h3>Run history:</h3><br/><table class=\"wandb\"><tr><td>batch_idx</td><td>▁▄█▁▂▆▄▅▇▇▂▃▇▇▁▄▅▆█▂▄▂▃▅▅▂▃▄▅▅▇██▁▂▆██▅▇</td></tr><tr><td>epoch</td><td>▁▁▂▂▃▃▃▃▄▄▅▅▆▆▆▆▇▇██</td></tr><tr><td>loss</td><td>█▁▁▁▁▁▁▁▁▁▁▁▁▁▁▁▁▁▁▁▁▁▁▁▁▁▁▁▁▁▁▁▁▁▁▁▁▁▁▁</td></tr><tr><td>test_accuracy</td><td>▁</td></tr><tr><td>test_loss</td><td>▁</td></tr><tr><td>train_accuracy</td><td>▂▁▆▇▂▃█▅▅▄</td></tr><tr><td>train_loss</td><td>█▁▁▁▁▁▁▁▁▁</td></tr><tr><td>valid_accuracy</td><td>▁▃▁▇▃▇▄█▄▆</td></tr><tr><td>valid_loss</td><td>█▁▁▁▁▁▁▁▁▁</td></tr></table><br/></div><div class=\"wandb-col\"><h3>Run summary:</h3><br/><table class=\"wandb\"><tr><td>batch_idx</td><td>15</td></tr><tr><td>epoch</td><td>9</td></tr><tr><td>loss</td><td>4.57721</td></tr><tr><td>test_accuracy</td><td>0.01529</td></tr><tr><td>test_loss</td><td>4.62441</td></tr><tr><td>train_accuracy</td><td>0.01275</td></tr><tr><td>train_loss</td><td>4.64198</td></tr><tr><td>valid_accuracy</td><td>0.01275</td></tr><tr><td>valid_loss</td><td>4.63484</td></tr></table><br/></div></div>"
            ],
            "text/plain": [
              "<IPython.core.display.HTML object>"
            ]
          },
          "metadata": {},
          "output_type": "display_data"
        },
        {
          "data": {
            "text/html": [
              " View run <strong style=\"color:#cdcd00\">Task6_1745343255</strong> at: <a href='https://wandb.ai/fejowo5522-/NN_list3_OxFlow/runs/o6kheevu' target=\"_blank\">https://wandb.ai/fejowo5522-/NN_list3_OxFlow/runs/o6kheevu</a><br> View project at: <a href='https://wandb.ai/fejowo5522-/NN_list3_OxFlow' target=\"_blank\">https://wandb.ai/fejowo5522-/NN_list3_OxFlow</a><br>Synced 5 W&B file(s), 0 media file(s), 0 artifact file(s) and 0 other file(s)"
            ],
            "text/plain": [
              "<IPython.core.display.HTML object>"
            ]
          },
          "metadata": {},
          "output_type": "display_data"
        },
        {
          "data": {
            "text/html": [
              "Find logs at: <code>.\\wandb\\run-20250422_193414-o6kheevu\\logs</code>"
            ],
            "text/plain": [
              "<IPython.core.display.HTML object>"
            ]
          },
          "metadata": {},
          "output_type": "display_data"
        },
        {
          "name": "stderr",
          "output_type": "stream",
          "text": [
            " 80%|████████  | 8/10 [31:06<07:40, 230.24s/it]"
          ]
        },
        {
          "data": {
            "text/html": [
              "Tracking run with wandb version 0.19.9"
            ],
            "text/plain": [
              "<IPython.core.display.HTML object>"
            ]
          },
          "metadata": {},
          "output_type": "display_data"
        },
        {
          "data": {
            "text/html": [
              "Run data is saved locally in <code>d:\\SharedData\\Documents\\Programming\\UWr\\Sem6\\NN\\List3\\wandb\\run-20250422_193800-8g0dac5q</code>"
            ],
            "text/plain": [
              "<IPython.core.display.HTML object>"
            ]
          },
          "metadata": {},
          "output_type": "display_data"
        },
        {
          "data": {
            "text/html": [
              "Syncing run <strong><a href='https://wandb.ai/fejowo5522-/NN_list3_OxFlow/runs/8g0dac5q' target=\"_blank\">confused-shadow-181</a></strong> to <a href='https://wandb.ai/fejowo5522-/NN_list3_OxFlow' target=\"_blank\">Weights & Biases</a> (<a href='https://wandb.me/developer-guide' target=\"_blank\">docs</a>)<br>"
            ],
            "text/plain": [
              "<IPython.core.display.HTML object>"
            ]
          },
          "metadata": {},
          "output_type": "display_data"
        },
        {
          "data": {
            "text/html": [
              " View project at <a href='https://wandb.ai/fejowo5522-/NN_list3_OxFlow' target=\"_blank\">https://wandb.ai/fejowo5522-/NN_list3_OxFlow</a>"
            ],
            "text/plain": [
              "<IPython.core.display.HTML object>"
            ]
          },
          "metadata": {},
          "output_type": "display_data"
        },
        {
          "data": {
            "text/html": [
              " View run at <a href='https://wandb.ai/fejowo5522-/NN_list3_OxFlow/runs/8g0dac5q' target=\"_blank\">https://wandb.ai/fejowo5522-/NN_list3_OxFlow/runs/8g0dac5q</a>"
            ],
            "text/plain": [
              "<IPython.core.display.HTML object>"
            ]
          },
          "metadata": {},
          "output_type": "display_data"
        },
        {
          "name": "stderr",
          "output_type": "stream",
          "text": []
        },
        {
          "data": {
            "text/html": [],
            "text/plain": [
              "<IPython.core.display.HTML object>"
            ]
          },
          "metadata": {},
          "output_type": "display_data"
        },
        {
          "name": "stdout",
          "output_type": "stream",
          "text": [
            "Test set: Average loss: 4.623012, Accuracy: ( 0.5%)\n"
          ]
        },
        {
          "data": {
            "text/html": [
              "<br>    <style><br>        .wandb-row {<br>            display: flex;<br>            flex-direction: row;<br>            flex-wrap: wrap;<br>            justify-content: flex-start;<br>            width: 100%;<br>        }<br>        .wandb-col {<br>            display: flex;<br>            flex-direction: column;<br>            flex-basis: 100%;<br>            flex: 1;<br>            padding: 10px;<br>        }<br>    </style><br><div class=\"wandb-row\"><div class=\"wandb-col\"><h3>Run history:</h3><br/><table class=\"wandb\"><tr><td>batch_idx</td><td>▁▃▃▅█▃▄▅▄▅▆▇▂▃▅▂▃▁▂▃▅▆▇▇█▃▃▄▇█▃▄▅▇▇▃▃▄▅█</td></tr><tr><td>epoch</td><td>▁▁▂▂▃▃▃▃▄▄▅▅▆▆▆▆▇▇██</td></tr><tr><td>loss</td><td>█▃▁▁▁▁▁▁▁▁▁▁▁▁▁▁▁▁▁▁▁▁▁▁▁▁▁▁▁▁▁▁▁▁▁▁▁▁▁▁</td></tr><tr><td>test_accuracy</td><td>▁</td></tr><tr><td>test_loss</td><td>▁</td></tr><tr><td>train_accuracy</td><td>▄▅▅▇▁▅▅▃▃█</td></tr><tr><td>train_loss</td><td>█▂▁▁▁▁▁▁▁▁</td></tr><tr><td>valid_accuracy</td><td>▅▁▅▇▁▂█▂▂▁</td></tr><tr><td>valid_loss</td><td>█▂▁▁▁▁▁▁▁▁</td></tr></table><br/></div><div class=\"wandb-col\"><h3>Run summary:</h3><br/><table class=\"wandb\"><tr><td>batch_idx</td><td>15</td></tr><tr><td>epoch</td><td>9</td></tr><tr><td>loss</td><td>5.12937</td></tr><tr><td>test_accuracy</td><td>0.00472</td></tr><tr><td>test_loss</td><td>4.62301</td></tr><tr><td>train_accuracy</td><td>0.01373</td></tr><tr><td>train_loss</td><td>5.60694</td></tr><tr><td>valid_accuracy</td><td>0.00686</td></tr><tr><td>valid_loss</td><td>5.53309</td></tr></table><br/></div></div>"
            ],
            "text/plain": [
              "<IPython.core.display.HTML object>"
            ]
          },
          "metadata": {},
          "output_type": "display_data"
        },
        {
          "data": {
            "text/html": [
              " View run <strong style=\"color:#cdcd00\">Task6_1745343481</strong> at: <a href='https://wandb.ai/fejowo5522-/NN_list3_OxFlow/runs/8g0dac5q' target=\"_blank\">https://wandb.ai/fejowo5522-/NN_list3_OxFlow/runs/8g0dac5q</a><br> View project at: <a href='https://wandb.ai/fejowo5522-/NN_list3_OxFlow' target=\"_blank\">https://wandb.ai/fejowo5522-/NN_list3_OxFlow</a><br>Synced 5 W&B file(s), 0 media file(s), 0 artifact file(s) and 0 other file(s)"
            ],
            "text/plain": [
              "<IPython.core.display.HTML object>"
            ]
          },
          "metadata": {},
          "output_type": "display_data"
        },
        {
          "data": {
            "text/html": [
              "Find logs at: <code>.\\wandb\\run-20250422_193800-8g0dac5q\\logs</code>"
            ],
            "text/plain": [
              "<IPython.core.display.HTML object>"
            ]
          },
          "metadata": {},
          "output_type": "display_data"
        },
        {
          "name": "stderr",
          "output_type": "stream",
          "text": [
            " 90%|█████████ | 9/10 [34:55<03:49, 229.75s/it]"
          ]
        },
        {
          "data": {
            "text/html": [
              "Tracking run with wandb version 0.19.9"
            ],
            "text/plain": [
              "<IPython.core.display.HTML object>"
            ]
          },
          "metadata": {},
          "output_type": "display_data"
        },
        {
          "data": {
            "text/html": [
              "Run data is saved locally in <code>d:\\SharedData\\Documents\\Programming\\UWr\\Sem6\\NN\\List3\\wandb\\run-20250422_194149-i4f0ih3n</code>"
            ],
            "text/plain": [
              "<IPython.core.display.HTML object>"
            ]
          },
          "metadata": {},
          "output_type": "display_data"
        },
        {
          "data": {
            "text/html": [
              "Syncing run <strong><a href='https://wandb.ai/fejowo5522-/NN_list3_OxFlow/runs/i4f0ih3n' target=\"_blank\">astral-firebrand-182</a></strong> to <a href='https://wandb.ai/fejowo5522-/NN_list3_OxFlow' target=\"_blank\">Weights & Biases</a> (<a href='https://wandb.me/developer-guide' target=\"_blank\">docs</a>)<br>"
            ],
            "text/plain": [
              "<IPython.core.display.HTML object>"
            ]
          },
          "metadata": {},
          "output_type": "display_data"
        },
        {
          "data": {
            "text/html": [
              " View project at <a href='https://wandb.ai/fejowo5522-/NN_list3_OxFlow' target=\"_blank\">https://wandb.ai/fejowo5522-/NN_list3_OxFlow</a>"
            ],
            "text/plain": [
              "<IPython.core.display.HTML object>"
            ]
          },
          "metadata": {},
          "output_type": "display_data"
        },
        {
          "data": {
            "text/html": [
              " View run at <a href='https://wandb.ai/fejowo5522-/NN_list3_OxFlow/runs/i4f0ih3n' target=\"_blank\">https://wandb.ai/fejowo5522-/NN_list3_OxFlow/runs/i4f0ih3n</a>"
            ],
            "text/plain": [
              "<IPython.core.display.HTML object>"
            ]
          },
          "metadata": {},
          "output_type": "display_data"
        },
        {
          "name": "stderr",
          "output_type": "stream",
          "text": []
        },
        {
          "data": {
            "text/html": [],
            "text/plain": [
              "<IPython.core.display.HTML object>"
            ]
          },
          "metadata": {},
          "output_type": "display_data"
        },
        {
          "name": "stdout",
          "output_type": "stream",
          "text": [
            "Test set: Average loss: 4.628084, Accuracy: ( 0.6%)\n"
          ]
        },
        {
          "data": {
            "text/html": [
              "<br>    <style><br>        .wandb-row {<br>            display: flex;<br>            flex-direction: row;<br>            flex-wrap: wrap;<br>            justify-content: flex-start;<br>            width: 100%;<br>        }<br>        .wandb-col {<br>            display: flex;<br>            flex-direction: column;<br>            flex-basis: 100%;<br>            flex: 1;<br>            padding: 10px;<br>        }<br>    </style><br><div class=\"wandb-row\"><div class=\"wandb-col\"><h3>Run history:</h3><br/><table class=\"wandb\"><tr><td>batch_idx</td><td>▃▅▅▇█▃▅▆▁▅▇█▁▁▄▆▇▇█▁▃▄█▁▁▄▄▆▂▃▁▁▄▅▆▂▄▆▇█</td></tr><tr><td>epoch</td><td>▁▁▂▂▃▃▃▃▄▄▅▅▆▆▆▆▇▇██</td></tr><tr><td>loss</td><td>██▄▃▂▁▁▁▁▁▁▁▁▁▁▁▁▁▁▁▁▁▁▁▁▁▁▁▁▁▁▁▁▁▁▁▁▁▁▁</td></tr><tr><td>test_accuracy</td><td>▁</td></tr><tr><td>test_loss</td><td>▁</td></tr><tr><td>train_accuracy</td><td>▃▁▃▇▇▂▃▇█▄</td></tr><tr><td>train_loss</td><td>█▂▁▁▁▁▁▁▁▁</td></tr><tr><td>valid_accuracy</td><td>▆▄▃█▇▅▂▄▁▃</td></tr><tr><td>valid_loss</td><td>█▂▁▁▁▁▁▁▁▁</td></tr></table><br/></div><div class=\"wandb-col\"><h3>Run summary:</h3><br/><table class=\"wandb\"><tr><td>batch_idx</td><td>15</td></tr><tr><td>epoch</td><td>9</td></tr><tr><td>loss</td><td>83.79082</td></tr><tr><td>test_accuracy</td><td>0.00585</td></tr><tr><td>test_loss</td><td>4.62808</td></tr><tr><td>train_accuracy</td><td>0.00882</td></tr><tr><td>train_loss</td><td>70.5357</td></tr><tr><td>valid_accuracy</td><td>0.00784</td></tr><tr><td>valid_loss</td><td>59.25494</td></tr></table><br/></div></div>"
            ],
            "text/plain": [
              "<IPython.core.display.HTML object>"
            ]
          },
          "metadata": {},
          "output_type": "display_data"
        },
        {
          "data": {
            "text/html": [
              " View run <strong style=\"color:#cdcd00\">Task6_1745343710</strong> at: <a href='https://wandb.ai/fejowo5522-/NN_list3_OxFlow/runs/i4f0ih3n' target=\"_blank\">https://wandb.ai/fejowo5522-/NN_list3_OxFlow/runs/i4f0ih3n</a><br> View project at: <a href='https://wandb.ai/fejowo5522-/NN_list3_OxFlow' target=\"_blank\">https://wandb.ai/fejowo5522-/NN_list3_OxFlow</a><br>Synced 5 W&B file(s), 0 media file(s), 0 artifact file(s) and 0 other file(s)"
            ],
            "text/plain": [
              "<IPython.core.display.HTML object>"
            ]
          },
          "metadata": {},
          "output_type": "display_data"
        },
        {
          "data": {
            "text/html": [
              "Find logs at: <code>.\\wandb\\run-20250422_194149-i4f0ih3n\\logs</code>"
            ],
            "text/plain": [
              "<IPython.core.display.HTML object>"
            ]
          },
          "metadata": {},
          "output_type": "display_data"
        },
        {
          "name": "stderr",
          "output_type": "stream",
          "text": [
            "100%|██████████| 10/10 [38:42<00:00, 232.28s/it]\n"
          ]
        }
      ],
      "source": [
        "for drop in tqdm(range(0, 100, 10), position=0):\n",
        "    test_dropout(\n",
        "        drop/100,\n",
        "        AlexNetBaseline,\n",
        "        epochs=10,\n",
        "        learning_rate=0.001,\n",
        "        weight_decay = 0.0005,\n",
        "    )"
      ]
    },
    {
      "cell_type": "markdown",
      "id": "R_xrTs-GQVqp",
      "metadata": {
        "id": "R_xrTs-GQVqp"
      },
      "source": [
        "## Zad 7\n",
        "* Implement data augmentation techniques such as random rotations, shifts, flips, and zooms on the training dataset.\n",
        "* Train your CNN with augmented data and compare the performance with the baseline model trained on the original data.\n"
      ]
    },
    {
      "cell_type": "markdown",
      "id": "Yg6A8kxvVY6X",
      "metadata": {
        "id": "Yg6A8kxvVY6X"
      },
      "source": [
        "implemented already in `load_flowers` data loader and global `data_augmentation` variable or custom `transfrom`'s"
      ]
    },
    {
      "cell_type": "markdown",
      "id": "on2nSgBESPgA",
      "metadata": {
        "id": "on2nSgBESPgA"
      },
      "source": [
        "## Zad 8\n",
        "* Implement residual connections in your CNN architecture; see the [ResNet paper](https://arxiv.org/abs/1512.03385) for more details.\n",
        "* Implement inception modules in your CNN architecture; see the [GoogLeNet paper](https://arxiv.org/abs/1409.4842) for more details.\n"
      ]
    },
    {
      "cell_type": "markdown",
      "id": "950b95a4",
      "metadata": {},
      "source": [
        "### Model classes"
      ]
    },
    {
      "cell_type": "markdown",
      "id": "d2a2f335",
      "metadata": {},
      "source": [
        "#### ResNet"
      ]
    },
    {
      "cell_type": "code",
      "execution_count": null,
      "id": "b2861fe8",
      "metadata": {},
      "outputs": [],
      "source": [
        "class ResidualBlock(nn.Module):\n",
        "    def __init__(self, in_channels, out_channels, stride=1, downsample=None):\n",
        "        super(ResidualBlock, self).__init__()\n",
        "        self.conv1 = nn.Conv2d(in_channels, out_channels, kernel_size=3, stride=stride, padding=1, bias=False)\n",
        "        self.bn1 = nn.BatchNorm2d(out_channels)\n",
        "        self.relu = nn.ReLU(inplace=True)\n",
        "        self.conv2 = nn.Conv2d(out_channels, out_channels, kernel_size=3, stride=1, padding=1, bias=False)\n",
        "        self.bn2 = nn.BatchNorm2d(out_channels)\n",
        "        self.downsample = downsample\n",
        "\n",
        "    def forward(self, x):\n",
        "        identity = x\n",
        "        if self.downsample is not None:\n",
        "            identity = self.downsample(x)\n",
        "\n",
        "        out = self.conv1(x)\n",
        "        out = self.bn1(out)\n",
        "        out = self.relu(out)\n",
        "        out = self.conv2(out)\n",
        "        out = self.bn2(out)\n",
        "        out += identity\n",
        "        out = self.relu(out)\n",
        "        return out\n",
        "\n",
        "\n",
        "class ResNet(nn.Module):\n",
        "    def __init__(self, num_classes=102):\n",
        "        super(ResNet, self).__init__()\n",
        "        self.conv1 = nn.Conv2d(3, 64, kernel_size=7, stride=2, padding=3, bias=False)\n",
        "        self.bn1 = nn.BatchNorm2d(64)\n",
        "        self.relu = nn.ReLU(inplace=True)\n",
        "        self.maxpool = nn.MaxPool2d(kernel_size=3, stride=2, padding=1)\n",
        "\n",
        "        self.layer1 = self._make_layer(64, 64, 2)\n",
        "        self.layer2 = self._make_layer(64, 128, 2, stride=2)\n",
        "        self.layer3 = self._make_layer(128, 256, 2, stride=2)\n",
        "        self.layer4 = self._make_layer(256, 512, 2, stride=2)\n",
        "\n",
        "        self.avgpool = nn.AdaptiveAvgPool2d((1, 1))\n",
        "        self.fc = nn.Linear(512, num_classes)\n",
        "\n",
        "    def _make_layer(self, in_channels, out_channels, blocks, stride=1):\n",
        "        downsample = None\n",
        "        if stride != 1 or in_channels != out_channels:\n",
        "            downsample = nn.Sequential(\n",
        "                nn.Conv2d(in_channels, out_channels, kernel_size=1, stride=stride, bias=False),\n",
        "                nn.BatchNorm2d(out_channels),\n",
        "            )\n",
        "\n",
        "        layers = [ResidualBlock(in_channels, out_channels, stride, downsample)]\n",
        "        for _ in range(1, blocks):\n",
        "            layers.append(ResidualBlock(out_channels, out_channels))\n",
        "\n",
        "        return nn.Sequential(*layers)\n",
        "\n",
        "    def forward(self, x):\n",
        "        x = self.conv1(x)\n",
        "        x = self.bn1(x)\n",
        "        x = self.relu(x)\n",
        "        x = self.maxpool(x)\n",
        "\n",
        "        x = self.layer1(x)\n",
        "        x = self.layer2(x)\n",
        "        x = self.layer3(x)\n",
        "        x = self.layer4(x)\n",
        "\n",
        "        x = self.avgpool(x)\n",
        "        x = torch.flatten(x, 1)\n",
        "        x = self.fc(x)\n",
        "        return x"
      ]
    },
    {
      "cell_type": "markdown",
      "id": "3b22e4d4",
      "metadata": {},
      "source": [
        "#### Inception"
      ]
    },
    {
      "cell_type": "code",
      "execution_count": null,
      "id": "5d1b2fb0",
      "metadata": {},
      "outputs": [],
      "source": [
        "class InceptionModule(nn.Module):\n",
        "    def __init__(self, in_channels, out_1x1, red_3x3, out_3x3, red_5x5, out_5x5, out_pool):\n",
        "        super(InceptionModule, self).__init__()\n",
        "        self.branch1 = nn.Sequential(\n",
        "            nn.Conv2d(in_channels, out_1x1, kernel_size=1),\n",
        "            nn.ReLU(inplace=True),\n",
        "        )\n",
        "\n",
        "        self.branch2 = nn.Sequential(\n",
        "            nn.Conv2d(in_channels, red_3x3, kernel_size=1),\n",
        "            nn.ReLU(inplace=True),\n",
        "            nn.Conv2d(red_3x3, out_3x3, kernel_size=3, padding=1),\n",
        "            nn.ReLU(inplace=True),\n",
        "        )\n",
        "\n",
        "        self.branch3 = nn.Sequential(\n",
        "            nn.Conv2d(in_channels, red_5x5, kernel_size=1),\n",
        "            nn.ReLU(inplace=True),\n",
        "            nn.Conv2d(red_5x5, out_5x5, kernel_size=5, padding=2),\n",
        "            nn.ReLU(inplace=True),\n",
        "        )\n",
        "\n",
        "        self.branch4 = nn.Sequential(\n",
        "            nn.MaxPool2d(kernel_size=3, stride=1, padding=1),\n",
        "            nn.Conv2d(in_channels, out_pool, kernel_size=1),\n",
        "            nn.ReLU(inplace=True),\n",
        "        )\n",
        "\n",
        "    def forward(self, x):\n",
        "        branch1 = self.branch1(x)\n",
        "        branch2 = self.branch2(x)\n",
        "        branch3 = self.branch3(x)\n",
        "        branch4 = self.branch4(x)\n",
        "        outputs = torch.cat([branch1, branch2, branch3, branch4], dim=1)\n",
        "        return outputs\n",
        "\n",
        "\n",
        "class InceptionNet(nn.Module):\n",
        "    def __init__(self, num_classes=102):\n",
        "        super(InceptionNet, self).__init__()\n",
        "        self.conv1 = nn.Conv2d(3, 64, kernel_size=7, stride=2, padding=3)\n",
        "        self.relu = nn.ReLU(inplace=True)\n",
        "        self.maxpool1 = nn.MaxPool2d(kernel_size=3, stride=2, padding=1)\n",
        "\n",
        "        self.inception1 = InceptionModule(64, 64, 96, 128, 16, 32, 32)\n",
        "        self.inception2 = InceptionModule(256, 128, 128, 192, 32, 96, 64)\n",
        "\n",
        "        self.maxpool2 = nn.MaxPool2d(kernel_size=3, stride=2, padding=1)\n",
        "\n",
        "        self.inception3 = InceptionModule(480, 192, 96, 208, 16, 48, 64)\n",
        "        self.inception4 = InceptionModule(512, 160, 112, 224, 24, 64, 64)\n",
        "\n",
        "        self.avgpool = nn.AdaptiveAvgPool2d((1, 1))\n",
        "        self.fc = nn.Linear(512, num_classes)\n",
        "\n",
        "    def forward(self, x):\n",
        "        x = self.conv1(x)\n",
        "        x = self.relu(x)\n",
        "        x = self.maxpool1(x)\n",
        "\n",
        "        x = self.inception1(x)\n",
        "        x = self.inception2(x)\n",
        "        x = self.maxpool2(x)\n",
        "\n",
        "        x = self.inception3(x)\n",
        "        x = self.inception4(x)\n",
        "\n",
        "        x = self.avgpool(x)\n",
        "        x = torch.flatten(x, 1)\n",
        "        x = self.fc(x)\n",
        "        return x"
      ]
    },
    {
      "cell_type": "markdown",
      "id": "171e8c91",
      "metadata": {},
      "source": [
        "### Helpers"
      ]
    },
    {
      "cell_type": "code",
      "execution_count": 19,
      "id": "63778073",
      "metadata": {},
      "outputs": [],
      "source": [
        "def evaluate(model, data_loader):\n",
        "    loss = 0\n",
        "    correct = 0\n",
        "    loss_fn = nn.CrossEntropyLoss(\n",
        "        reduction='sum',\n",
        "    )\n",
        "\n",
        "    with torch.no_grad():\n",
        "        for inputs, labels in data_loader:\n",
        "            inputs, labels = inputs.to(_device), labels.to(_device)\n",
        "\n",
        "            outputs = model(inputs)\n",
        "            loss += loss_fn(outputs, labels).item()\n",
        "            pred = outputs.argmax(\n",
        "                dim=1, keepdim=True\n",
        "            )\n",
        "            correct += (\n",
        "                pred.eq(labels.view_as(pred)).sum().item()\n",
        "            )\n",
        "\n",
        "    loss /= len(data_loader.dataset)\n",
        "    accuracy = correct / len(data_loader.dataset)\n",
        "    return loss, accuracy"
      ]
    },
    {
      "cell_type": "code",
      "execution_count": 13,
      "id": "7c3b34b3",
      "metadata": {},
      "outputs": [],
      "source": [
        "def train_model(model, data_loaders, num_epochs=10, learning_rate=0.001):\n",
        "    model.to(_device)\n",
        "    optimizer = torch.optim.Adam(model.parameters(), lr=learning_rate)\n",
        "    loss_fn = nn.CrossEntropyLoss()\n",
        "\n",
        "    for epoch in range(num_epochs):\n",
        "        model.train()\n",
        "        for inputs, labels in data_loaders['train']:\n",
        "            inputs, labels = inputs.to(_device), labels.to(_device)\n",
        "            optimizer.zero_grad()\n",
        "            outputs = model(inputs)\n",
        "            loss = loss_fn(outputs, labels)\n",
        "            loss.backward()\n",
        "            optimizer.step()\n",
        "\n",
        "        model.eval()\n",
        "        train_loss, train_acc = evaluate(model, data_loaders['train'])\n",
        "        valid_loss, valid_acc = evaluate(model, data_loaders['valid'])\n",
        "        print(f\"Epoch {epoch+1}/{num_epochs}, Train Loss: {train_loss:.4f}, Train Acc: {train_acc:.4f}, Valid Loss: {valid_loss:.4f}, Valid Acc: {valid_acc:.4f}\")\n",
        "\n",
        "    test_loss, test_acc = evaluate(model, data_loaders['test'])\n",
        "    print(f\"Test Loss: {test_loss:.4f}, Test Accuracy: {test_acc:.4f}\")"
      ]
    },
    {
      "cell_type": "markdown",
      "id": "a430ef3b",
      "metadata": {},
      "source": [
        "### Train"
      ]
    },
    {
      "cell_type": "code",
      "execution_count": 17,
      "id": "afbbc8ee",
      "metadata": {},
      "outputs": [
        {
          "name": "stdout",
          "output_type": "stream",
          "text": [
            "Epoch 1/10, Train Loss: 4.8427, Train Acc: 0.0461, Valid Loss: 4.8738, Valid Acc: 0.0412\n",
            "Epoch 2/10, Train Loss: 3.9634, Train Acc: 0.0775, Valid Loss: 4.2482, Valid Acc: 0.0520\n",
            "Epoch 3/10, Train Loss: 3.8106, Train Acc: 0.0902, Valid Loss: 4.1405, Valid Acc: 0.0804\n",
            "Epoch 4/10, Train Loss: 4.0354, Train Acc: 0.0873, Valid Loss: 4.4489, Valid Acc: 0.0716\n",
            "Epoch 5/10, Train Loss: 3.3883, Train Acc: 0.1569, Valid Loss: 3.9904, Valid Acc: 0.0971\n",
            "Epoch 6/10, Train Loss: 3.0000, Train Acc: 0.2088, Valid Loss: 3.5486, Valid Acc: 0.1637\n",
            "Epoch 7/10, Train Loss: 3.1503, Train Acc: 0.1873, Valid Loss: 3.8723, Valid Acc: 0.1176\n",
            "Epoch 8/10, Train Loss: 2.8294, Train Acc: 0.2667, Valid Loss: 3.6525, Valid Acc: 0.1755\n",
            "Epoch 9/10, Train Loss: 2.5828, Train Acc: 0.2971, Valid Loss: 3.4127, Valid Acc: 0.2078\n",
            "Epoch 10/10, Train Loss: 2.3524, Train Acc: 0.3480, Valid Loss: 3.2429, Valid Acc: 0.2422\n",
            "Test Loss: 3.3430, Test Accuracy: 0.1947\n"
          ]
        }
      ],
      "source": [
        "resnet_model = ResNet(num_classes=102)\n",
        "train_model(resnet_model, data_loaders, num_epochs=10, learning_rate=0.001)"
      ]
    },
    {
      "cell_type": "code",
      "execution_count": 20,
      "id": "1ce6a116",
      "metadata": {},
      "outputs": [
        {
          "name": "stdout",
          "output_type": "stream",
          "text": [
            "Epoch 1/10, Train Loss: 4.6251, Train Acc: 0.0098, Valid Loss: 4.6251, Valid Acc: 0.0098\n",
            "Epoch 2/10, Train Loss: 4.6003, Train Acc: 0.0196, Valid Loss: 4.6027, Valid Acc: 0.0186\n",
            "Epoch 3/10, Train Loss: 4.2557, Train Acc: 0.0255, Valid Loss: 4.2838, Valid Acc: 0.0235\n",
            "Epoch 4/10, Train Loss: 4.1342, Train Acc: 0.0275, Valid Loss: 4.2110, Valid Acc: 0.0235\n",
            "Epoch 5/10, Train Loss: 4.1162, Train Acc: 0.0284, Valid Loss: 4.1860, Valid Acc: 0.0284\n",
            "Epoch 6/10, Train Loss: 4.0429, Train Acc: 0.0500, Valid Loss: 4.1326, Valid Acc: 0.0500\n",
            "Epoch 7/10, Train Loss: 3.9405, Train Acc: 0.0451, Valid Loss: 4.0723, Valid Acc: 0.0706\n",
            "Epoch 8/10, Train Loss: 3.9040, Train Acc: 0.0608, Valid Loss: 4.0412, Valid Acc: 0.0500\n",
            "Epoch 9/10, Train Loss: 3.8459, Train Acc: 0.0775, Valid Loss: 4.0131, Valid Acc: 0.0696\n",
            "Epoch 10/10, Train Loss: 3.8168, Train Acc: 0.0676, Valid Loss: 4.0339, Valid Acc: 0.0657\n",
            "Test Loss: 4.0369, Test Accuracy: 0.0550\n"
          ]
        }
      ],
      "source": [
        "inception_model = InceptionNet(num_classes=102)\n",
        "train_model(inception_model, data_loaders, num_epochs=10, learning_rate=0.001)"
      ]
    },
    {
      "cell_type": "markdown",
      "id": "6d6f996b",
      "metadata": {},
      "source": [
        "## Wandb reports\n",
        "https://wandb.ai/fejowo5522-/NN_list3_OxFlow/reportlist"
      ]
    }
  ],
  "metadata": {
    "accelerator": "GPU",
    "colab": {
      "collapsed_sections": [
        "e0358b4a",
        "3b65df0e",
        "9DEJDmrwRfS4",
        "e741ab63",
        "fedf7b0e",
        "8cb926eb",
        "f486fbb5",
        "KAd_QlZII8vu",
        "B_R6q4DZJbJC",
        "2dd9e3ac",
        "ebedad85",
        "h_sR8QQ6sJf_",
        "RhqlS7OEFV3_",
        "lsbg8Ye1KTtB",
        "fzbWv_dLUafP",
        "RV74ttfjUZLu"
      ],
      "gpuType": "T4",
      "provenance": []
    },
    "kernelspec": {
      "display_name": "Python 3",
      "language": "python",
      "name": "python3"
    },
    "language_info": {
      "codemirror_mode": {
        "name": "ipython",
        "version": 3
      },
      "file_extension": ".py",
      "mimetype": "text/x-python",
      "name": "python",
      "nbconvert_exporter": "python",
      "pygments_lexer": "ipython3",
      "version": "3.12.8"
    },
    "widgets": {
      "application/vnd.jupyter.widget-state+json": {
        "04663791b3404fbbb8eefafc8d044ab8": {
          "model_module": "@jupyter-widgets/controls",
          "model_module_version": "1.5.0",
          "model_name": "HBoxModel",
          "state": {
            "_dom_classes": [],
            "_model_module": "@jupyter-widgets/controls",
            "_model_module_version": "1.5.0",
            "_model_name": "HBoxModel",
            "_view_count": null,
            "_view_module": "@jupyter-widgets/controls",
            "_view_module_version": "1.5.0",
            "_view_name": "HBoxView",
            "box_style": "",
            "children": [
              "IPY_MODEL_4adbefb7c49748699e9a381e4977c4a2",
              "IPY_MODEL_7bb8bfc8e256481ea016d70ab098e0a5",
              "IPY_MODEL_c68e33cb5b9c47a29750ebae10d491f6"
            ],
            "layout": "IPY_MODEL_c4147903f89a4ed0ac0542b229de00ef"
          }
        },
        "0d00e88b1f52412496896d742e8258f4": {
          "model_module": "@jupyter-widgets/base",
          "model_module_version": "1.2.0",
          "model_name": "LayoutModel",
          "state": {
            "_model_module": "@jupyter-widgets/base",
            "_model_module_version": "1.2.0",
            "_model_name": "LayoutModel",
            "_view_count": null,
            "_view_module": "@jupyter-widgets/base",
            "_view_module_version": "1.2.0",
            "_view_name": "LayoutView",
            "align_content": null,
            "align_items": null,
            "align_self": null,
            "border": null,
            "bottom": null,
            "display": null,
            "flex": null,
            "flex_flow": null,
            "grid_area": null,
            "grid_auto_columns": null,
            "grid_auto_flow": null,
            "grid_auto_rows": null,
            "grid_column": null,
            "grid_gap": null,
            "grid_row": null,
            "grid_template_areas": null,
            "grid_template_columns": null,
            "grid_template_rows": null,
            "height": null,
            "justify_content": null,
            "justify_items": null,
            "left": null,
            "margin": null,
            "max_height": null,
            "max_width": null,
            "min_height": null,
            "min_width": null,
            "object_fit": null,
            "object_position": null,
            "order": null,
            "overflow": null,
            "overflow_x": null,
            "overflow_y": null,
            "padding": null,
            "right": null,
            "top": null,
            "visibility": "hidden",
            "width": null
          }
        },
        "0d4eade8ef9a4017b83a8eb49fd6ff71": {
          "model_module": "@jupyter-widgets/base",
          "model_module_version": "1.2.0",
          "model_name": "LayoutModel",
          "state": {
            "_model_module": "@jupyter-widgets/base",
            "_model_module_version": "1.2.0",
            "_model_name": "LayoutModel",
            "_view_count": null,
            "_view_module": "@jupyter-widgets/base",
            "_view_module_version": "1.2.0",
            "_view_name": "LayoutView",
            "align_content": null,
            "align_items": null,
            "align_self": null,
            "border": null,
            "bottom": null,
            "display": null,
            "flex": null,
            "flex_flow": null,
            "grid_area": null,
            "grid_auto_columns": null,
            "grid_auto_flow": null,
            "grid_auto_rows": null,
            "grid_column": null,
            "grid_gap": null,
            "grid_row": null,
            "grid_template_areas": null,
            "grid_template_columns": null,
            "grid_template_rows": null,
            "height": null,
            "justify_content": null,
            "justify_items": null,
            "left": null,
            "margin": null,
            "max_height": null,
            "max_width": null,
            "min_height": null,
            "min_width": null,
            "object_fit": null,
            "object_position": null,
            "order": null,
            "overflow": null,
            "overflow_x": null,
            "overflow_y": null,
            "padding": null,
            "right": null,
            "top": null,
            "visibility": null,
            "width": null
          }
        },
        "0f15ee3a73f0404983f07982d861b78f": {
          "model_module": "@jupyter-widgets/controls",
          "model_module_version": "1.5.0",
          "model_name": "DescriptionStyleModel",
          "state": {
            "_model_module": "@jupyter-widgets/controls",
            "_model_module_version": "1.5.0",
            "_model_name": "DescriptionStyleModel",
            "_view_count": null,
            "_view_module": "@jupyter-widgets/base",
            "_view_module_version": "1.2.0",
            "_view_name": "StyleView",
            "description_width": ""
          }
        },
        "101787fa17a1480b97587ee9006fc530": {
          "model_module": "@jupyter-widgets/controls",
          "model_module_version": "1.5.0",
          "model_name": "HBoxModel",
          "state": {
            "_dom_classes": [],
            "_model_module": "@jupyter-widgets/controls",
            "_model_module_version": "1.5.0",
            "_model_name": "HBoxModel",
            "_view_count": null,
            "_view_module": "@jupyter-widgets/controls",
            "_view_module_version": "1.5.0",
            "_view_name": "HBoxView",
            "box_style": "",
            "children": [
              "IPY_MODEL_915652964d8b45009f058ab1840b3de8",
              "IPY_MODEL_bcc9a6f7d8274a44a6a577eb81f1269c",
              "IPY_MODEL_228a16a3a3f943d9a5016ad71bd6b94b"
            ],
            "layout": "IPY_MODEL_b1fd6b72a71649b8a2f223b89e526195"
          }
        },
        "12b0026a9711459a854c6d4001f19ded": {
          "model_module": "@jupyter-widgets/controls",
          "model_module_version": "1.5.0",
          "model_name": "HTMLModel",
          "state": {
            "_dom_classes": [],
            "_model_module": "@jupyter-widgets/controls",
            "_model_module_version": "1.5.0",
            "_model_name": "HTMLModel",
            "_view_count": null,
            "_view_module": "@jupyter-widgets/controls",
            "_view_module_version": "1.5.0",
            "_view_name": "HTMLView",
            "description": "",
            "description_tooltip": null,
            "layout": "IPY_MODEL_b434d22f78a841d0b636329f124f538c",
            "placeholder": "​",
            "style": "IPY_MODEL_1ef99c33bcd042f3ba9ffd2f5f40001d",
            "value": "Training: 100%"
          }
        },
        "12d35d2c98a04517ba3d699af657ca46": {
          "model_module": "@jupyter-widgets/controls",
          "model_module_version": "1.5.0",
          "model_name": "HBoxModel",
          "state": {
            "_dom_classes": [],
            "_model_module": "@jupyter-widgets/controls",
            "_model_module_version": "1.5.0",
            "_model_name": "HBoxModel",
            "_view_count": null,
            "_view_module": "@jupyter-widgets/controls",
            "_view_module_version": "1.5.0",
            "_view_name": "HBoxView",
            "box_style": "",
            "children": [
              "IPY_MODEL_fa81678bf787411ea7ee221ed165cd42",
              "IPY_MODEL_c383d13d01594dccba643921dec97e40",
              "IPY_MODEL_8f0cb2f853b5489e9b9c63b4c0bd4b02"
            ],
            "layout": "IPY_MODEL_0d00e88b1f52412496896d742e8258f4"
          }
        },
        "15d43da0964c48e79e50b1cd94f05afd": {
          "model_module": "@jupyter-widgets/base",
          "model_module_version": "1.2.0",
          "model_name": "LayoutModel",
          "state": {
            "_model_module": "@jupyter-widgets/base",
            "_model_module_version": "1.2.0",
            "_model_name": "LayoutModel",
            "_view_count": null,
            "_view_module": "@jupyter-widgets/base",
            "_view_module_version": "1.2.0",
            "_view_name": "LayoutView",
            "align_content": null,
            "align_items": null,
            "align_self": null,
            "border": null,
            "bottom": null,
            "display": null,
            "flex": null,
            "flex_flow": null,
            "grid_area": null,
            "grid_auto_columns": null,
            "grid_auto_flow": null,
            "grid_auto_rows": null,
            "grid_column": null,
            "grid_gap": null,
            "grid_row": null,
            "grid_template_areas": null,
            "grid_template_columns": null,
            "grid_template_rows": null,
            "height": null,
            "justify_content": null,
            "justify_items": null,
            "left": null,
            "margin": null,
            "max_height": null,
            "max_width": null,
            "min_height": null,
            "min_width": null,
            "object_fit": null,
            "object_position": null,
            "order": null,
            "overflow": null,
            "overflow_x": null,
            "overflow_y": null,
            "padding": null,
            "right": null,
            "top": null,
            "visibility": null,
            "width": null
          }
        },
        "17fdc65b12bd4ea28c280bea33fac2ac": {
          "model_module": "@jupyter-widgets/controls",
          "model_module_version": "1.5.0",
          "model_name": "HTMLModel",
          "state": {
            "_dom_classes": [],
            "_model_module": "@jupyter-widgets/controls",
            "_model_module_version": "1.5.0",
            "_model_name": "HTMLModel",
            "_view_count": null,
            "_view_module": "@jupyter-widgets/controls",
            "_view_module_version": "1.5.0",
            "_view_name": "HTMLView",
            "description": "",
            "description_tooltip": null,
            "layout": "IPY_MODEL_fb8904b0f1c542149031f60f99a65067",
            "placeholder": "​",
            "style": "IPY_MODEL_6140400d011b4918b36315fb86445d6b",
            "value": " 5/5 [00:17&lt;00:00,  3.40s/it]"
          }
        },
        "1877e5e007174d61853df4a60bdd02d1": {
          "model_module": "@jupyter-widgets/controls",
          "model_module_version": "1.5.0",
          "model_name": "DescriptionStyleModel",
          "state": {
            "_model_module": "@jupyter-widgets/controls",
            "_model_module_version": "1.5.0",
            "_model_name": "DescriptionStyleModel",
            "_view_count": null,
            "_view_module": "@jupyter-widgets/base",
            "_view_module_version": "1.2.0",
            "_view_name": "StyleView",
            "description_width": ""
          }
        },
        "19b39a947851455c928a6ed3299116d9": {
          "model_module": "@jupyter-widgets/base",
          "model_module_version": "1.2.0",
          "model_name": "LayoutModel",
          "state": {
            "_model_module": "@jupyter-widgets/base",
            "_model_module_version": "1.2.0",
            "_model_name": "LayoutModel",
            "_view_count": null,
            "_view_module": "@jupyter-widgets/base",
            "_view_module_version": "1.2.0",
            "_view_name": "LayoutView",
            "align_content": null,
            "align_items": null,
            "align_self": null,
            "border": null,
            "bottom": null,
            "display": null,
            "flex": null,
            "flex_flow": null,
            "grid_area": null,
            "grid_auto_columns": null,
            "grid_auto_flow": null,
            "grid_auto_rows": null,
            "grid_column": null,
            "grid_gap": null,
            "grid_row": null,
            "grid_template_areas": null,
            "grid_template_columns": null,
            "grid_template_rows": null,
            "height": null,
            "justify_content": null,
            "justify_items": null,
            "left": null,
            "margin": null,
            "max_height": null,
            "max_width": null,
            "min_height": null,
            "min_width": null,
            "object_fit": null,
            "object_position": null,
            "order": null,
            "overflow": null,
            "overflow_x": null,
            "overflow_y": null,
            "padding": null,
            "right": null,
            "top": null,
            "visibility": null,
            "width": null
          }
        },
        "1af0721f7d124ffdaeaf076fae5d885f": {
          "model_module": "@jupyter-widgets/controls",
          "model_module_version": "1.5.0",
          "model_name": "FloatProgressModel",
          "state": {
            "_dom_classes": [],
            "_model_module": "@jupyter-widgets/controls",
            "_model_module_version": "1.5.0",
            "_model_name": "FloatProgressModel",
            "_view_count": null,
            "_view_module": "@jupyter-widgets/controls",
            "_view_module_version": "1.5.0",
            "_view_name": "ProgressView",
            "bar_style": "",
            "description": "",
            "description_tooltip": null,
            "layout": "IPY_MODEL_3da9d2ef06a14765a8cb03e3714509ea",
            "max": 10,
            "min": 0,
            "orientation": "horizontal",
            "style": "IPY_MODEL_e693224d838a4470ae4f436174283991",
            "value": 10
          }
        },
        "1d5c343cbc534d1a9fd8dded39dfd80a": {
          "model_module": "@jupyter-widgets/controls",
          "model_module_version": "1.5.0",
          "model_name": "HTMLModel",
          "state": {
            "_dom_classes": [],
            "_model_module": "@jupyter-widgets/controls",
            "_model_module_version": "1.5.0",
            "_model_name": "HTMLModel",
            "_view_count": null,
            "_view_module": "@jupyter-widgets/controls",
            "_view_module_version": "1.5.0",
            "_view_name": "HTMLView",
            "description": "",
            "description_tooltip": null,
            "layout": "IPY_MODEL_6467329fc14f4033bb083b2d97a084e0",
            "placeholder": "​",
            "style": "IPY_MODEL_9bdf95fd3f264792ba5c647bf97dc5a5",
            "value": " 100/100 [31:49&lt;00:00, 19.09s/it]"
          }
        },
        "1ef99c33bcd042f3ba9ffd2f5f40001d": {
          "model_module": "@jupyter-widgets/controls",
          "model_module_version": "1.5.0",
          "model_name": "DescriptionStyleModel",
          "state": {
            "_model_module": "@jupyter-widgets/controls",
            "_model_module_version": "1.5.0",
            "_model_name": "DescriptionStyleModel",
            "_view_count": null,
            "_view_module": "@jupyter-widgets/base",
            "_view_module_version": "1.2.0",
            "_view_name": "StyleView",
            "description_width": ""
          }
        },
        "1f3a472598b04113ab118977eb3840eb": {
          "model_module": "@jupyter-widgets/base",
          "model_module_version": "1.2.0",
          "model_name": "LayoutModel",
          "state": {
            "_model_module": "@jupyter-widgets/base",
            "_model_module_version": "1.2.0",
            "_model_name": "LayoutModel",
            "_view_count": null,
            "_view_module": "@jupyter-widgets/base",
            "_view_module_version": "1.2.0",
            "_view_name": "LayoutView",
            "align_content": null,
            "align_items": null,
            "align_self": null,
            "border": null,
            "bottom": null,
            "display": null,
            "flex": null,
            "flex_flow": null,
            "grid_area": null,
            "grid_auto_columns": null,
            "grid_auto_flow": null,
            "grid_auto_rows": null,
            "grid_column": null,
            "grid_gap": null,
            "grid_row": null,
            "grid_template_areas": null,
            "grid_template_columns": null,
            "grid_template_rows": null,
            "height": null,
            "justify_content": null,
            "justify_items": null,
            "left": null,
            "margin": null,
            "max_height": null,
            "max_width": null,
            "min_height": null,
            "min_width": null,
            "object_fit": null,
            "object_position": null,
            "order": null,
            "overflow": null,
            "overflow_x": null,
            "overflow_y": null,
            "padding": null,
            "right": null,
            "top": null,
            "visibility": null,
            "width": null
          }
        },
        "1facb9118b454854b5bfae931115b15e": {
          "model_module": "@jupyter-widgets/controls",
          "model_module_version": "1.5.0",
          "model_name": "DescriptionStyleModel",
          "state": {
            "_model_module": "@jupyter-widgets/controls",
            "_model_module_version": "1.5.0",
            "_model_name": "DescriptionStyleModel",
            "_view_count": null,
            "_view_module": "@jupyter-widgets/base",
            "_view_module_version": "1.2.0",
            "_view_name": "StyleView",
            "description_width": ""
          }
        },
        "207ecbe74fd94c9bbee49e78bccbb114": {
          "model_module": "@jupyter-widgets/controls",
          "model_module_version": "1.5.0",
          "model_name": "HTMLModel",
          "state": {
            "_dom_classes": [],
            "_model_module": "@jupyter-widgets/controls",
            "_model_module_version": "1.5.0",
            "_model_name": "HTMLModel",
            "_view_count": null,
            "_view_module": "@jupyter-widgets/controls",
            "_view_module_version": "1.5.0",
            "_view_name": "HTMLView",
            "description": "",
            "description_tooltip": null,
            "layout": "IPY_MODEL_a33e572741494f22b1c7fa1473d12fba",
            "placeholder": "​",
            "style": "IPY_MODEL_d72deb31dc874356a328f4d11a41034e",
            "value": "Training: 100%"
          }
        },
        "228a16a3a3f943d9a5016ad71bd6b94b": {
          "model_module": "@jupyter-widgets/controls",
          "model_module_version": "1.5.0",
          "model_name": "HTMLModel",
          "state": {
            "_dom_classes": [],
            "_model_module": "@jupyter-widgets/controls",
            "_model_module_version": "1.5.0",
            "_model_name": "HTMLModel",
            "_view_count": null,
            "_view_module": "@jupyter-widgets/controls",
            "_view_module_version": "1.5.0",
            "_view_name": "HTMLView",
            "description": "",
            "description_tooltip": null,
            "layout": "IPY_MODEL_362d974f66d444698a5f3fcc9ab5b79e",
            "placeholder": "​",
            "style": "IPY_MODEL_3a9c3e758b3348a7a0d81ebb2d4233e4",
            "value": " 5/5 [01:15&lt;00:00, 15.03s/it]"
          }
        },
        "24cd3f6ebe1945a282f3e79d7e935109": {
          "model_module": "@jupyter-widgets/controls",
          "model_module_version": "1.5.0",
          "model_name": "ProgressStyleModel",
          "state": {
            "_model_module": "@jupyter-widgets/controls",
            "_model_module_version": "1.5.0",
            "_model_name": "ProgressStyleModel",
            "_view_count": null,
            "_view_module": "@jupyter-widgets/base",
            "_view_module_version": "1.2.0",
            "_view_name": "StyleView",
            "bar_color": null,
            "description_width": ""
          }
        },
        "290120c1c54843e4b32600ff0b993a83": {
          "model_module": "@jupyter-widgets/controls",
          "model_module_version": "1.5.0",
          "model_name": "ProgressStyleModel",
          "state": {
            "_model_module": "@jupyter-widgets/controls",
            "_model_module_version": "1.5.0",
            "_model_name": "ProgressStyleModel",
            "_view_count": null,
            "_view_module": "@jupyter-widgets/base",
            "_view_module_version": "1.2.0",
            "_view_name": "StyleView",
            "bar_color": null,
            "description_width": ""
          }
        },
        "2934717a766545919b1c25504d40429a": {
          "model_module": "@jupyter-widgets/base",
          "model_module_version": "1.2.0",
          "model_name": "LayoutModel",
          "state": {
            "_model_module": "@jupyter-widgets/base",
            "_model_module_version": "1.2.0",
            "_model_name": "LayoutModel",
            "_view_count": null,
            "_view_module": "@jupyter-widgets/base",
            "_view_module_version": "1.2.0",
            "_view_name": "LayoutView",
            "align_content": null,
            "align_items": null,
            "align_self": null,
            "border": null,
            "bottom": null,
            "display": null,
            "flex": null,
            "flex_flow": null,
            "grid_area": null,
            "grid_auto_columns": null,
            "grid_auto_flow": null,
            "grid_auto_rows": null,
            "grid_column": null,
            "grid_gap": null,
            "grid_row": null,
            "grid_template_areas": null,
            "grid_template_columns": null,
            "grid_template_rows": null,
            "height": null,
            "justify_content": null,
            "justify_items": null,
            "left": null,
            "margin": null,
            "max_height": null,
            "max_width": null,
            "min_height": null,
            "min_width": null,
            "object_fit": null,
            "object_position": null,
            "order": null,
            "overflow": null,
            "overflow_x": null,
            "overflow_y": null,
            "padding": null,
            "right": null,
            "top": null,
            "visibility": null,
            "width": null
          }
        },
        "29fc706f9bdf4da2885eb08845f6badb": {
          "model_module": "@jupyter-widgets/controls",
          "model_module_version": "1.5.0",
          "model_name": "DescriptionStyleModel",
          "state": {
            "_model_module": "@jupyter-widgets/controls",
            "_model_module_version": "1.5.0",
            "_model_name": "DescriptionStyleModel",
            "_view_count": null,
            "_view_module": "@jupyter-widgets/base",
            "_view_module_version": "1.2.0",
            "_view_name": "StyleView",
            "description_width": ""
          }
        },
        "2c1944399ed44975b541699562afdda8": {
          "model_module": "@jupyter-widgets/base",
          "model_module_version": "1.2.0",
          "model_name": "LayoutModel",
          "state": {
            "_model_module": "@jupyter-widgets/base",
            "_model_module_version": "1.2.0",
            "_model_name": "LayoutModel",
            "_view_count": null,
            "_view_module": "@jupyter-widgets/base",
            "_view_module_version": "1.2.0",
            "_view_name": "LayoutView",
            "align_content": null,
            "align_items": null,
            "align_self": null,
            "border": null,
            "bottom": null,
            "display": null,
            "flex": null,
            "flex_flow": null,
            "grid_area": null,
            "grid_auto_columns": null,
            "grid_auto_flow": null,
            "grid_auto_rows": null,
            "grid_column": null,
            "grid_gap": null,
            "grid_row": null,
            "grid_template_areas": null,
            "grid_template_columns": null,
            "grid_template_rows": null,
            "height": null,
            "justify_content": null,
            "justify_items": null,
            "left": null,
            "margin": null,
            "max_height": null,
            "max_width": null,
            "min_height": null,
            "min_width": null,
            "object_fit": null,
            "object_position": null,
            "order": null,
            "overflow": null,
            "overflow_x": null,
            "overflow_y": null,
            "padding": null,
            "right": null,
            "top": null,
            "visibility": null,
            "width": null
          }
        },
        "2d22a5b9e7034484874b4da70086248a": {
          "model_module": "@jupyter-widgets/controls",
          "model_module_version": "1.5.0",
          "model_name": "ProgressStyleModel",
          "state": {
            "_model_module": "@jupyter-widgets/controls",
            "_model_module_version": "1.5.0",
            "_model_name": "ProgressStyleModel",
            "_view_count": null,
            "_view_module": "@jupyter-widgets/base",
            "_view_module_version": "1.2.0",
            "_view_name": "StyleView",
            "bar_color": null,
            "description_width": ""
          }
        },
        "2dcf7b78f9354239bd3c76019fcc9b4c": {
          "model_module": "@jupyter-widgets/controls",
          "model_module_version": "1.5.0",
          "model_name": "HTMLModel",
          "state": {
            "_dom_classes": [],
            "_model_module": "@jupyter-widgets/controls",
            "_model_module_version": "1.5.0",
            "_model_name": "HTMLModel",
            "_view_count": null,
            "_view_module": "@jupyter-widgets/controls",
            "_view_module_version": "1.5.0",
            "_view_name": "HTMLView",
            "description": "",
            "description_tooltip": null,
            "layout": "IPY_MODEL_ef5334ac18be434f8cec8267b1da13ad",
            "placeholder": "​",
            "style": "IPY_MODEL_5104afc176074c529de3e48133151ff4",
            "value": " 3/20 [11:41&lt;56:56, 200.96s/it]"
          }
        },
        "30531324cedb4b768624d1d73a588432": {
          "model_module": "@jupyter-widgets/controls",
          "model_module_version": "1.5.0",
          "model_name": "HBoxModel",
          "state": {
            "_dom_classes": [],
            "_model_module": "@jupyter-widgets/controls",
            "_model_module_version": "1.5.0",
            "_model_name": "HBoxModel",
            "_view_count": null,
            "_view_module": "@jupyter-widgets/controls",
            "_view_module_version": "1.5.0",
            "_view_name": "HBoxView",
            "box_style": "",
            "children": [
              "IPY_MODEL_6b17eccba96841feab7831b8407d4c52",
              "IPY_MODEL_9d4142f2cbde4f81bcf3dcccd6094ca5",
              "IPY_MODEL_7640f2779f664cab84dd204c3b7196ad"
            ],
            "layout": "IPY_MODEL_f79dcf604de64521921c7e0ff9fea3a1"
          }
        },
        "362d974f66d444698a5f3fcc9ab5b79e": {
          "model_module": "@jupyter-widgets/base",
          "model_module_version": "1.2.0",
          "model_name": "LayoutModel",
          "state": {
            "_model_module": "@jupyter-widgets/base",
            "_model_module_version": "1.2.0",
            "_model_name": "LayoutModel",
            "_view_count": null,
            "_view_module": "@jupyter-widgets/base",
            "_view_module_version": "1.2.0",
            "_view_name": "LayoutView",
            "align_content": null,
            "align_items": null,
            "align_self": null,
            "border": null,
            "bottom": null,
            "display": null,
            "flex": null,
            "flex_flow": null,
            "grid_area": null,
            "grid_auto_columns": null,
            "grid_auto_flow": null,
            "grid_auto_rows": null,
            "grid_column": null,
            "grid_gap": null,
            "grid_row": null,
            "grid_template_areas": null,
            "grid_template_columns": null,
            "grid_template_rows": null,
            "height": null,
            "justify_content": null,
            "justify_items": null,
            "left": null,
            "margin": null,
            "max_height": null,
            "max_width": null,
            "min_height": null,
            "min_width": null,
            "object_fit": null,
            "object_position": null,
            "order": null,
            "overflow": null,
            "overflow_x": null,
            "overflow_y": null,
            "padding": null,
            "right": null,
            "top": null,
            "visibility": null,
            "width": null
          }
        },
        "36d2459b63934bcfa09450da86e3b342": {
          "model_module": "@jupyter-widgets/base",
          "model_module_version": "1.2.0",
          "model_name": "LayoutModel",
          "state": {
            "_model_module": "@jupyter-widgets/base",
            "_model_module_version": "1.2.0",
            "_model_name": "LayoutModel",
            "_view_count": null,
            "_view_module": "@jupyter-widgets/base",
            "_view_module_version": "1.2.0",
            "_view_name": "LayoutView",
            "align_content": null,
            "align_items": null,
            "align_self": null,
            "border": null,
            "bottom": null,
            "display": null,
            "flex": null,
            "flex_flow": null,
            "grid_area": null,
            "grid_auto_columns": null,
            "grid_auto_flow": null,
            "grid_auto_rows": null,
            "grid_column": null,
            "grid_gap": null,
            "grid_row": null,
            "grid_template_areas": null,
            "grid_template_columns": null,
            "grid_template_rows": null,
            "height": null,
            "justify_content": null,
            "justify_items": null,
            "left": null,
            "margin": null,
            "max_height": null,
            "max_width": null,
            "min_height": null,
            "min_width": null,
            "object_fit": null,
            "object_position": null,
            "order": null,
            "overflow": null,
            "overflow_x": null,
            "overflow_y": null,
            "padding": null,
            "right": null,
            "top": null,
            "visibility": "hidden",
            "width": null
          }
        },
        "378b45d1b3c34c9493535009fc9a38d1": {
          "model_module": "@jupyter-widgets/base",
          "model_module_version": "1.2.0",
          "model_name": "LayoutModel",
          "state": {
            "_model_module": "@jupyter-widgets/base",
            "_model_module_version": "1.2.0",
            "_model_name": "LayoutModel",
            "_view_count": null,
            "_view_module": "@jupyter-widgets/base",
            "_view_module_version": "1.2.0",
            "_view_name": "LayoutView",
            "align_content": null,
            "align_items": null,
            "align_self": null,
            "border": null,
            "bottom": null,
            "display": null,
            "flex": null,
            "flex_flow": null,
            "grid_area": null,
            "grid_auto_columns": null,
            "grid_auto_flow": null,
            "grid_auto_rows": null,
            "grid_column": null,
            "grid_gap": null,
            "grid_row": null,
            "grid_template_areas": null,
            "grid_template_columns": null,
            "grid_template_rows": null,
            "height": null,
            "justify_content": null,
            "justify_items": null,
            "left": null,
            "margin": null,
            "max_height": null,
            "max_width": null,
            "min_height": null,
            "min_width": null,
            "object_fit": null,
            "object_position": null,
            "order": null,
            "overflow": null,
            "overflow_x": null,
            "overflow_y": null,
            "padding": null,
            "right": null,
            "top": null,
            "visibility": null,
            "width": null
          }
        },
        "383a524e4608457cbcd1989acbc57c99": {
          "model_module": "@jupyter-widgets/controls",
          "model_module_version": "1.5.0",
          "model_name": "DescriptionStyleModel",
          "state": {
            "_model_module": "@jupyter-widgets/controls",
            "_model_module_version": "1.5.0",
            "_model_name": "DescriptionStyleModel",
            "_view_count": null,
            "_view_module": "@jupyter-widgets/base",
            "_view_module_version": "1.2.0",
            "_view_name": "StyleView",
            "description_width": ""
          }
        },
        "3a71a02cc09344a8b2283844684781ee": {
          "model_module": "@jupyter-widgets/controls",
          "model_module_version": "1.5.0",
          "model_name": "HTMLModel",
          "state": {
            "_dom_classes": [],
            "_model_module": "@jupyter-widgets/controls",
            "_model_module_version": "1.5.0",
            "_model_name": "HTMLModel",
            "_view_count": null,
            "_view_module": "@jupyter-widgets/controls",
            "_view_module_version": "1.5.0",
            "_view_name": "HTMLView",
            "description": "",
            "description_tooltip": null,
            "layout": "IPY_MODEL_b26c1f8140854b78afe4df570d77472e",
            "placeholder": "​",
            "style": "IPY_MODEL_1facb9118b454854b5bfae931115b15e",
            "value": " 0/10 [13:14&lt;?, ?it/s]"
          }
        },
        "3a9c3e758b3348a7a0d81ebb2d4233e4": {
          "model_module": "@jupyter-widgets/controls",
          "model_module_version": "1.5.0",
          "model_name": "DescriptionStyleModel",
          "state": {
            "_model_module": "@jupyter-widgets/controls",
            "_model_module_version": "1.5.0",
            "_model_name": "DescriptionStyleModel",
            "_view_count": null,
            "_view_module": "@jupyter-widgets/base",
            "_view_module_version": "1.2.0",
            "_view_name": "StyleView",
            "description_width": ""
          }
        },
        "3b20af919b4845a6afe52998706c1921": {
          "model_module": "@jupyter-widgets/controls",
          "model_module_version": "1.5.0",
          "model_name": "HTMLModel",
          "state": {
            "_dom_classes": [],
            "_model_module": "@jupyter-widgets/controls",
            "_model_module_version": "1.5.0",
            "_model_name": "HTMLModel",
            "_view_count": null,
            "_view_module": "@jupyter-widgets/controls",
            "_view_module_version": "1.5.0",
            "_view_name": "HTMLView",
            "description": "",
            "description_tooltip": null,
            "layout": "IPY_MODEL_586af2ed76df4e49ad58e2c09577b76f",
            "placeholder": "​",
            "style": "IPY_MODEL_4fceafdccd964d329e8d066687b31ea6",
            "value": " 5/5 [00:25&lt;00:00,  5.02s/it]"
          }
        },
        "3da9d2ef06a14765a8cb03e3714509ea": {
          "model_module": "@jupyter-widgets/base",
          "model_module_version": "1.2.0",
          "model_name": "LayoutModel",
          "state": {
            "_model_module": "@jupyter-widgets/base",
            "_model_module_version": "1.2.0",
            "_model_name": "LayoutModel",
            "_view_count": null,
            "_view_module": "@jupyter-widgets/base",
            "_view_module_version": "1.2.0",
            "_view_name": "LayoutView",
            "align_content": null,
            "align_items": null,
            "align_self": null,
            "border": null,
            "bottom": null,
            "display": null,
            "flex": null,
            "flex_flow": null,
            "grid_area": null,
            "grid_auto_columns": null,
            "grid_auto_flow": null,
            "grid_auto_rows": null,
            "grid_column": null,
            "grid_gap": null,
            "grid_row": null,
            "grid_template_areas": null,
            "grid_template_columns": null,
            "grid_template_rows": null,
            "height": null,
            "justify_content": null,
            "justify_items": null,
            "left": null,
            "margin": null,
            "max_height": null,
            "max_width": null,
            "min_height": null,
            "min_width": null,
            "object_fit": null,
            "object_position": null,
            "order": null,
            "overflow": null,
            "overflow_x": null,
            "overflow_y": null,
            "padding": null,
            "right": null,
            "top": null,
            "visibility": null,
            "width": null
          }
        },
        "3e129b177eb44d839247ab99d7d96818": {
          "model_module": "@jupyter-widgets/controls",
          "model_module_version": "1.5.0",
          "model_name": "HTMLModel",
          "state": {
            "_dom_classes": [],
            "_model_module": "@jupyter-widgets/controls",
            "_model_module_version": "1.5.0",
            "_model_name": "HTMLModel",
            "_view_count": null,
            "_view_module": "@jupyter-widgets/controls",
            "_view_module_version": "1.5.0",
            "_view_name": "HTMLView",
            "description": "",
            "description_tooltip": null,
            "layout": "IPY_MODEL_1f3a472598b04113ab118977eb3840eb",
            "placeholder": "​",
            "style": "IPY_MODEL_c841f733ddd64b4bbce8565f4c40cf6d",
            "value": " 5/5 [00:19&lt;00:00,  3.93s/it]"
          }
        },
        "3ebcb1cb84a84dc7a08eda6f3e45eb32": {
          "model_module": "@jupyter-widgets/controls",
          "model_module_version": "1.5.0",
          "model_name": "HTMLModel",
          "state": {
            "_dom_classes": [],
            "_model_module": "@jupyter-widgets/controls",
            "_model_module_version": "1.5.0",
            "_model_name": "HTMLModel",
            "_view_count": null,
            "_view_module": "@jupyter-widgets/controls",
            "_view_module_version": "1.5.0",
            "_view_name": "HTMLView",
            "description": "",
            "description_tooltip": null,
            "layout": "IPY_MODEL_d337772c25a54b74a8fb5f4ded922948",
            "placeholder": "​",
            "style": "IPY_MODEL_0f15ee3a73f0404983f07982d861b78f",
            "value": "Training: 100%"
          }
        },
        "3fc15fb7588e43bd8c9e77cb7d1cc5b9": {
          "model_module": "@jupyter-widgets/controls",
          "model_module_version": "1.5.0",
          "model_name": "ProgressStyleModel",
          "state": {
            "_model_module": "@jupyter-widgets/controls",
            "_model_module_version": "1.5.0",
            "_model_name": "ProgressStyleModel",
            "_view_count": null,
            "_view_module": "@jupyter-widgets/base",
            "_view_module_version": "1.2.0",
            "_view_name": "StyleView",
            "bar_color": null,
            "description_width": ""
          }
        },
        "415e327053d04664a09429cb968835c8": {
          "model_module": "@jupyter-widgets/base",
          "model_module_version": "1.2.0",
          "model_name": "LayoutModel",
          "state": {
            "_model_module": "@jupyter-widgets/base",
            "_model_module_version": "1.2.0",
            "_model_name": "LayoutModel",
            "_view_count": null,
            "_view_module": "@jupyter-widgets/base",
            "_view_module_version": "1.2.0",
            "_view_name": "LayoutView",
            "align_content": null,
            "align_items": null,
            "align_self": null,
            "border": null,
            "bottom": null,
            "display": null,
            "flex": null,
            "flex_flow": null,
            "grid_area": null,
            "grid_auto_columns": null,
            "grid_auto_flow": null,
            "grid_auto_rows": null,
            "grid_column": null,
            "grid_gap": null,
            "grid_row": null,
            "grid_template_areas": null,
            "grid_template_columns": null,
            "grid_template_rows": null,
            "height": null,
            "justify_content": null,
            "justify_items": null,
            "left": null,
            "margin": null,
            "max_height": null,
            "max_width": null,
            "min_height": null,
            "min_width": null,
            "object_fit": null,
            "object_position": null,
            "order": null,
            "overflow": null,
            "overflow_x": null,
            "overflow_y": null,
            "padding": null,
            "right": null,
            "top": null,
            "visibility": null,
            "width": null
          }
        },
        "43f05496e8ab4644b5bf544d442a1244": {
          "model_module": "@jupyter-widgets/base",
          "model_module_version": "1.2.0",
          "model_name": "LayoutModel",
          "state": {
            "_model_module": "@jupyter-widgets/base",
            "_model_module_version": "1.2.0",
            "_model_name": "LayoutModel",
            "_view_count": null,
            "_view_module": "@jupyter-widgets/base",
            "_view_module_version": "1.2.0",
            "_view_name": "LayoutView",
            "align_content": null,
            "align_items": null,
            "align_self": null,
            "border": null,
            "bottom": null,
            "display": null,
            "flex": null,
            "flex_flow": null,
            "grid_area": null,
            "grid_auto_columns": null,
            "grid_auto_flow": null,
            "grid_auto_rows": null,
            "grid_column": null,
            "grid_gap": null,
            "grid_row": null,
            "grid_template_areas": null,
            "grid_template_columns": null,
            "grid_template_rows": null,
            "height": null,
            "justify_content": null,
            "justify_items": null,
            "left": null,
            "margin": null,
            "max_height": null,
            "max_width": null,
            "min_height": null,
            "min_width": null,
            "object_fit": null,
            "object_position": null,
            "order": null,
            "overflow": null,
            "overflow_x": null,
            "overflow_y": null,
            "padding": null,
            "right": null,
            "top": null,
            "visibility": null,
            "width": null
          }
        },
        "45eda23825f2483c890f42e531e770a8": {
          "model_module": "@jupyter-widgets/controls",
          "model_module_version": "1.5.0",
          "model_name": "HTMLModel",
          "state": {
            "_dom_classes": [],
            "_model_module": "@jupyter-widgets/controls",
            "_model_module_version": "1.5.0",
            "_model_name": "HTMLModel",
            "_view_count": null,
            "_view_module": "@jupyter-widgets/controls",
            "_view_module_version": "1.5.0",
            "_view_name": "HTMLView",
            "description": "",
            "description_tooltip": null,
            "layout": "IPY_MODEL_b2682c8e91c8426b8b69bc0fb983f7e4",
            "placeholder": "​",
            "style": "IPY_MODEL_fa9df3b8eff746248ede173332693c8e",
            "value": "Training: 100%"
          }
        },
        "47368149c8094c3b97f2b438fd770770": {
          "model_module": "@jupyter-widgets/base",
          "model_module_version": "1.2.0",
          "model_name": "LayoutModel",
          "state": {
            "_model_module": "@jupyter-widgets/base",
            "_model_module_version": "1.2.0",
            "_model_name": "LayoutModel",
            "_view_count": null,
            "_view_module": "@jupyter-widgets/base",
            "_view_module_version": "1.2.0",
            "_view_name": "LayoutView",
            "align_content": null,
            "align_items": null,
            "align_self": null,
            "border": null,
            "bottom": null,
            "display": null,
            "flex": null,
            "flex_flow": null,
            "grid_area": null,
            "grid_auto_columns": null,
            "grid_auto_flow": null,
            "grid_auto_rows": null,
            "grid_column": null,
            "grid_gap": null,
            "grid_row": null,
            "grid_template_areas": null,
            "grid_template_columns": null,
            "grid_template_rows": null,
            "height": null,
            "justify_content": null,
            "justify_items": null,
            "left": null,
            "margin": null,
            "max_height": null,
            "max_width": null,
            "min_height": null,
            "min_width": null,
            "object_fit": null,
            "object_position": null,
            "order": null,
            "overflow": null,
            "overflow_x": null,
            "overflow_y": null,
            "padding": null,
            "right": null,
            "top": null,
            "visibility": null,
            "width": null
          }
        },
        "48b6bc6c63064396934ea4d0888a5910": {
          "model_module": "@jupyter-widgets/controls",
          "model_module_version": "1.5.0",
          "model_name": "HTMLModel",
          "state": {
            "_dom_classes": [],
            "_model_module": "@jupyter-widgets/controls",
            "_model_module_version": "1.5.0",
            "_model_name": "HTMLModel",
            "_view_count": null,
            "_view_module": "@jupyter-widgets/controls",
            "_view_module_version": "1.5.0",
            "_view_name": "HTMLView",
            "description": "",
            "description_tooltip": null,
            "layout": "IPY_MODEL_bc7bc3bcd617463b8acd45de0dcae9fb",
            "placeholder": "​",
            "style": "IPY_MODEL_774fa10f23c9470e99e39de6e52243fd",
            "value": " 10/10 [04:37&lt;00:00, 27.67s/it]"
          }
        },
        "4adbefb7c49748699e9a381e4977c4a2": {
          "model_module": "@jupyter-widgets/controls",
          "model_module_version": "1.5.0",
          "model_name": "HTMLModel",
          "state": {
            "_dom_classes": [],
            "_model_module": "@jupyter-widgets/controls",
            "_model_module_version": "1.5.0",
            "_model_name": "HTMLModel",
            "_view_count": null,
            "_view_module": "@jupyter-widgets/controls",
            "_view_module_version": "1.5.0",
            "_view_name": "HTMLView",
            "description": "",
            "description_tooltip": null,
            "layout": "IPY_MODEL_6af4af7f2de64386ac00bf7796950b91",
            "placeholder": "​",
            "style": "IPY_MODEL_4fbc2a47567942159ea314db6f8d385e",
            "value": "Training: 100%"
          }
        },
        "4c4ab23b8eda42ae849c604782b348fa": {
          "model_module": "@jupyter-widgets/controls",
          "model_module_version": "1.5.0",
          "model_name": "DescriptionStyleModel",
          "state": {
            "_model_module": "@jupyter-widgets/controls",
            "_model_module_version": "1.5.0",
            "_model_name": "DescriptionStyleModel",
            "_view_count": null,
            "_view_module": "@jupyter-widgets/base",
            "_view_module_version": "1.2.0",
            "_view_name": "StyleView",
            "description_width": ""
          }
        },
        "4d58fced911f4fb194f2c271669a0137": {
          "model_module": "@jupyter-widgets/base",
          "model_module_version": "1.2.0",
          "model_name": "LayoutModel",
          "state": {
            "_model_module": "@jupyter-widgets/base",
            "_model_module_version": "1.2.0",
            "_model_name": "LayoutModel",
            "_view_count": null,
            "_view_module": "@jupyter-widgets/base",
            "_view_module_version": "1.2.0",
            "_view_name": "LayoutView",
            "align_content": null,
            "align_items": null,
            "align_self": null,
            "border": null,
            "bottom": null,
            "display": null,
            "flex": null,
            "flex_flow": null,
            "grid_area": null,
            "grid_auto_columns": null,
            "grid_auto_flow": null,
            "grid_auto_rows": null,
            "grid_column": null,
            "grid_gap": null,
            "grid_row": null,
            "grid_template_areas": null,
            "grid_template_columns": null,
            "grid_template_rows": null,
            "height": null,
            "justify_content": null,
            "justify_items": null,
            "left": null,
            "margin": null,
            "max_height": null,
            "max_width": null,
            "min_height": null,
            "min_width": null,
            "object_fit": null,
            "object_position": null,
            "order": null,
            "overflow": null,
            "overflow_x": null,
            "overflow_y": null,
            "padding": null,
            "right": null,
            "top": null,
            "visibility": null,
            "width": null
          }
        },
        "4ded19614e0c4484b80a4c1e403adc48": {
          "model_module": "@jupyter-widgets/controls",
          "model_module_version": "1.5.0",
          "model_name": "DescriptionStyleModel",
          "state": {
            "_model_module": "@jupyter-widgets/controls",
            "_model_module_version": "1.5.0",
            "_model_name": "DescriptionStyleModel",
            "_view_count": null,
            "_view_module": "@jupyter-widgets/base",
            "_view_module_version": "1.2.0",
            "_view_name": "StyleView",
            "description_width": ""
          }
        },
        "4e5b9d27a2a74733a8da68b442279c19": {
          "model_module": "@jupyter-widgets/controls",
          "model_module_version": "1.5.0",
          "model_name": "DescriptionStyleModel",
          "state": {
            "_model_module": "@jupyter-widgets/controls",
            "_model_module_version": "1.5.0",
            "_model_name": "DescriptionStyleModel",
            "_view_count": null,
            "_view_module": "@jupyter-widgets/base",
            "_view_module_version": "1.2.0",
            "_view_name": "StyleView",
            "description_width": ""
          }
        },
        "4fbc2a47567942159ea314db6f8d385e": {
          "model_module": "@jupyter-widgets/controls",
          "model_module_version": "1.5.0",
          "model_name": "DescriptionStyleModel",
          "state": {
            "_model_module": "@jupyter-widgets/controls",
            "_model_module_version": "1.5.0",
            "_model_name": "DescriptionStyleModel",
            "_view_count": null,
            "_view_module": "@jupyter-widgets/base",
            "_view_module_version": "1.2.0",
            "_view_name": "StyleView",
            "description_width": ""
          }
        },
        "4fceafdccd964d329e8d066687b31ea6": {
          "model_module": "@jupyter-widgets/controls",
          "model_module_version": "1.5.0",
          "model_name": "DescriptionStyleModel",
          "state": {
            "_model_module": "@jupyter-widgets/controls",
            "_model_module_version": "1.5.0",
            "_model_name": "DescriptionStyleModel",
            "_view_count": null,
            "_view_module": "@jupyter-widgets/base",
            "_view_module_version": "1.2.0",
            "_view_name": "StyleView",
            "description_width": ""
          }
        },
        "50a46a2fd585488fb08e3c71b75acaab": {
          "model_module": "@jupyter-widgets/base",
          "model_module_version": "1.2.0",
          "model_name": "LayoutModel",
          "state": {
            "_model_module": "@jupyter-widgets/base",
            "_model_module_version": "1.2.0",
            "_model_name": "LayoutModel",
            "_view_count": null,
            "_view_module": "@jupyter-widgets/base",
            "_view_module_version": "1.2.0",
            "_view_name": "LayoutView",
            "align_content": null,
            "align_items": null,
            "align_self": null,
            "border": null,
            "bottom": null,
            "display": null,
            "flex": null,
            "flex_flow": null,
            "grid_area": null,
            "grid_auto_columns": null,
            "grid_auto_flow": null,
            "grid_auto_rows": null,
            "grid_column": null,
            "grid_gap": null,
            "grid_row": null,
            "grid_template_areas": null,
            "grid_template_columns": null,
            "grid_template_rows": null,
            "height": null,
            "justify_content": null,
            "justify_items": null,
            "left": null,
            "margin": null,
            "max_height": null,
            "max_width": null,
            "min_height": null,
            "min_width": null,
            "object_fit": null,
            "object_position": null,
            "order": null,
            "overflow": null,
            "overflow_x": null,
            "overflow_y": null,
            "padding": null,
            "right": null,
            "top": null,
            "visibility": "hidden",
            "width": null
          }
        },
        "5104afc176074c529de3e48133151ff4": {
          "model_module": "@jupyter-widgets/controls",
          "model_module_version": "1.5.0",
          "model_name": "DescriptionStyleModel",
          "state": {
            "_model_module": "@jupyter-widgets/controls",
            "_model_module_version": "1.5.0",
            "_model_name": "DescriptionStyleModel",
            "_view_count": null,
            "_view_module": "@jupyter-widgets/base",
            "_view_module_version": "1.2.0",
            "_view_name": "StyleView",
            "description_width": ""
          }
        },
        "586af2ed76df4e49ad58e2c09577b76f": {
          "model_module": "@jupyter-widgets/base",
          "model_module_version": "1.2.0",
          "model_name": "LayoutModel",
          "state": {
            "_model_module": "@jupyter-widgets/base",
            "_model_module_version": "1.2.0",
            "_model_name": "LayoutModel",
            "_view_count": null,
            "_view_module": "@jupyter-widgets/base",
            "_view_module_version": "1.2.0",
            "_view_name": "LayoutView",
            "align_content": null,
            "align_items": null,
            "align_self": null,
            "border": null,
            "bottom": null,
            "display": null,
            "flex": null,
            "flex_flow": null,
            "grid_area": null,
            "grid_auto_columns": null,
            "grid_auto_flow": null,
            "grid_auto_rows": null,
            "grid_column": null,
            "grid_gap": null,
            "grid_row": null,
            "grid_template_areas": null,
            "grid_template_columns": null,
            "grid_template_rows": null,
            "height": null,
            "justify_content": null,
            "justify_items": null,
            "left": null,
            "margin": null,
            "max_height": null,
            "max_width": null,
            "min_height": null,
            "min_width": null,
            "object_fit": null,
            "object_position": null,
            "order": null,
            "overflow": null,
            "overflow_x": null,
            "overflow_y": null,
            "padding": null,
            "right": null,
            "top": null,
            "visibility": null,
            "width": null
          }
        },
        "5b376966309b48dba1a5402e097a69e0": {
          "model_module": "@jupyter-widgets/controls",
          "model_module_version": "1.5.0",
          "model_name": "HBoxModel",
          "state": {
            "_dom_classes": [],
            "_model_module": "@jupyter-widgets/controls",
            "_model_module_version": "1.5.0",
            "_model_name": "HBoxModel",
            "_view_count": null,
            "_view_module": "@jupyter-widgets/controls",
            "_view_module_version": "1.5.0",
            "_view_name": "HBoxView",
            "box_style": "",
            "children": [
              "IPY_MODEL_b63ea0956353410e8bd82c0e82f77359",
              "IPY_MODEL_d4275e2cad9c4e559cc9d1349ff9d389",
              "IPY_MODEL_17fdc65b12bd4ea28c280bea33fac2ac"
            ],
            "layout": "IPY_MODEL_d3d462f2be2749889a14d6f27d926953"
          }
        },
        "6094b130466443a78e0d0733ded44dfb": {
          "model_module": "@jupyter-widgets/controls",
          "model_module_version": "1.5.0",
          "model_name": "DescriptionStyleModel",
          "state": {
            "_model_module": "@jupyter-widgets/controls",
            "_model_module_version": "1.5.0",
            "_model_name": "DescriptionStyleModel",
            "_view_count": null,
            "_view_module": "@jupyter-widgets/base",
            "_view_module_version": "1.2.0",
            "_view_name": "StyleView",
            "description_width": ""
          }
        },
        "6140400d011b4918b36315fb86445d6b": {
          "model_module": "@jupyter-widgets/controls",
          "model_module_version": "1.5.0",
          "model_name": "DescriptionStyleModel",
          "state": {
            "_model_module": "@jupyter-widgets/controls",
            "_model_module_version": "1.5.0",
            "_model_name": "DescriptionStyleModel",
            "_view_count": null,
            "_view_module": "@jupyter-widgets/base",
            "_view_module_version": "1.2.0",
            "_view_name": "StyleView",
            "description_width": ""
          }
        },
        "61cecb160bd34b02a88879709de8f863": {
          "model_module": "@jupyter-widgets/base",
          "model_module_version": "1.2.0",
          "model_name": "LayoutModel",
          "state": {
            "_model_module": "@jupyter-widgets/base",
            "_model_module_version": "1.2.0",
            "_model_name": "LayoutModel",
            "_view_count": null,
            "_view_module": "@jupyter-widgets/base",
            "_view_module_version": "1.2.0",
            "_view_name": "LayoutView",
            "align_content": null,
            "align_items": null,
            "align_self": null,
            "border": null,
            "bottom": null,
            "display": null,
            "flex": null,
            "flex_flow": null,
            "grid_area": null,
            "grid_auto_columns": null,
            "grid_auto_flow": null,
            "grid_auto_rows": null,
            "grid_column": null,
            "grid_gap": null,
            "grid_row": null,
            "grid_template_areas": null,
            "grid_template_columns": null,
            "grid_template_rows": null,
            "height": null,
            "justify_content": null,
            "justify_items": null,
            "left": null,
            "margin": null,
            "max_height": null,
            "max_width": null,
            "min_height": null,
            "min_width": null,
            "object_fit": null,
            "object_position": null,
            "order": null,
            "overflow": null,
            "overflow_x": null,
            "overflow_y": null,
            "padding": null,
            "right": null,
            "top": null,
            "visibility": null,
            "width": null
          }
        },
        "63078e81221d47ce915756d175e44daf": {
          "model_module": "@jupyter-widgets/controls",
          "model_module_version": "1.5.0",
          "model_name": "HBoxModel",
          "state": {
            "_dom_classes": [],
            "_model_module": "@jupyter-widgets/controls",
            "_model_module_version": "1.5.0",
            "_model_name": "HBoxModel",
            "_view_count": null,
            "_view_module": "@jupyter-widgets/controls",
            "_view_module_version": "1.5.0",
            "_view_name": "HBoxView",
            "box_style": "",
            "children": [
              "IPY_MODEL_3ebcb1cb84a84dc7a08eda6f3e45eb32",
              "IPY_MODEL_1af0721f7d124ffdaeaf076fae5d885f",
              "IPY_MODEL_abbd6adb872f4272a082732e36b704b0"
            ],
            "layout": "IPY_MODEL_36d2459b63934bcfa09450da86e3b342"
          }
        },
        "6467329fc14f4033bb083b2d97a084e0": {
          "model_module": "@jupyter-widgets/base",
          "model_module_version": "1.2.0",
          "model_name": "LayoutModel",
          "state": {
            "_model_module": "@jupyter-widgets/base",
            "_model_module_version": "1.2.0",
            "_model_name": "LayoutModel",
            "_view_count": null,
            "_view_module": "@jupyter-widgets/base",
            "_view_module_version": "1.2.0",
            "_view_name": "LayoutView",
            "align_content": null,
            "align_items": null,
            "align_self": null,
            "border": null,
            "bottom": null,
            "display": null,
            "flex": null,
            "flex_flow": null,
            "grid_area": null,
            "grid_auto_columns": null,
            "grid_auto_flow": null,
            "grid_auto_rows": null,
            "grid_column": null,
            "grid_gap": null,
            "grid_row": null,
            "grid_template_areas": null,
            "grid_template_columns": null,
            "grid_template_rows": null,
            "height": null,
            "justify_content": null,
            "justify_items": null,
            "left": null,
            "margin": null,
            "max_height": null,
            "max_width": null,
            "min_height": null,
            "min_width": null,
            "object_fit": null,
            "object_position": null,
            "order": null,
            "overflow": null,
            "overflow_x": null,
            "overflow_y": null,
            "padding": null,
            "right": null,
            "top": null,
            "visibility": null,
            "width": null
          }
        },
        "6884f7f898634bbc9dbc0a4b0ae75ce3": {
          "model_module": "@jupyter-widgets/controls",
          "model_module_version": "1.5.0",
          "model_name": "HTMLModel",
          "state": {
            "_dom_classes": [],
            "_model_module": "@jupyter-widgets/controls",
            "_model_module_version": "1.5.0",
            "_model_name": "HTMLModel",
            "_view_count": null,
            "_view_module": "@jupyter-widgets/controls",
            "_view_module_version": "1.5.0",
            "_view_name": "HTMLView",
            "description": "",
            "description_tooltip": null,
            "layout": "IPY_MODEL_2934717a766545919b1c25504d40429a",
            "placeholder": "​",
            "style": "IPY_MODEL_be075ad893b74e049a71096b567d7a66",
            "value": " 5/5 [00:32&lt;00:00,  6.46s/it]"
          }
        },
        "6ad2e47dccfe4f829e1b0f07bc530c04": {
          "model_module": "@jupyter-widgets/controls",
          "model_module_version": "1.5.0",
          "model_name": "HTMLModel",
          "state": {
            "_dom_classes": [],
            "_model_module": "@jupyter-widgets/controls",
            "_model_module_version": "1.5.0",
            "_model_name": "HTMLModel",
            "_view_count": null,
            "_view_module": "@jupyter-widgets/controls",
            "_view_module_version": "1.5.0",
            "_view_name": "HTMLView",
            "description": "",
            "description_tooltip": null,
            "layout": "IPY_MODEL_c3cd28f79694419192fa14f621a84f8c",
            "placeholder": "​",
            "style": "IPY_MODEL_7a3be49a913a4de6ac56734ddfc8fb58",
            "value": "Training: 100%"
          }
        },
        "6af4af7f2de64386ac00bf7796950b91": {
          "model_module": "@jupyter-widgets/base",
          "model_module_version": "1.2.0",
          "model_name": "LayoutModel",
          "state": {
            "_model_module": "@jupyter-widgets/base",
            "_model_module_version": "1.2.0",
            "_model_name": "LayoutModel",
            "_view_count": null,
            "_view_module": "@jupyter-widgets/base",
            "_view_module_version": "1.2.0",
            "_view_name": "LayoutView",
            "align_content": null,
            "align_items": null,
            "align_self": null,
            "border": null,
            "bottom": null,
            "display": null,
            "flex": null,
            "flex_flow": null,
            "grid_area": null,
            "grid_auto_columns": null,
            "grid_auto_flow": null,
            "grid_auto_rows": null,
            "grid_column": null,
            "grid_gap": null,
            "grid_row": null,
            "grid_template_areas": null,
            "grid_template_columns": null,
            "grid_template_rows": null,
            "height": null,
            "justify_content": null,
            "justify_items": null,
            "left": null,
            "margin": null,
            "max_height": null,
            "max_width": null,
            "min_height": null,
            "min_width": null,
            "object_fit": null,
            "object_position": null,
            "order": null,
            "overflow": null,
            "overflow_x": null,
            "overflow_y": null,
            "padding": null,
            "right": null,
            "top": null,
            "visibility": null,
            "width": null
          }
        },
        "6b17eccba96841feab7831b8407d4c52": {
          "model_module": "@jupyter-widgets/controls",
          "model_module_version": "1.5.0",
          "model_name": "HTMLModel",
          "state": {
            "_dom_classes": [],
            "_model_module": "@jupyter-widgets/controls",
            "_model_module_version": "1.5.0",
            "_model_name": "HTMLModel",
            "_view_count": null,
            "_view_module": "@jupyter-widgets/controls",
            "_view_module_version": "1.5.0",
            "_view_name": "HTMLView",
            "description": "",
            "description_tooltip": null,
            "layout": "IPY_MODEL_aea9eb7ed09948eea016aa7cc7e0abd4",
            "placeholder": "​",
            "style": "IPY_MODEL_29fc706f9bdf4da2885eb08845f6badb",
            "value": "Training:  10%"
          }
        },
        "6c5dbdee23c546559b84ea89751acfd9": {
          "model_module": "@jupyter-widgets/base",
          "model_module_version": "1.2.0",
          "model_name": "LayoutModel",
          "state": {
            "_model_module": "@jupyter-widgets/base",
            "_model_module_version": "1.2.0",
            "_model_name": "LayoutModel",
            "_view_count": null,
            "_view_module": "@jupyter-widgets/base",
            "_view_module_version": "1.2.0",
            "_view_name": "LayoutView",
            "align_content": null,
            "align_items": null,
            "align_self": null,
            "border": null,
            "bottom": null,
            "display": null,
            "flex": null,
            "flex_flow": null,
            "grid_area": null,
            "grid_auto_columns": null,
            "grid_auto_flow": null,
            "grid_auto_rows": null,
            "grid_column": null,
            "grid_gap": null,
            "grid_row": null,
            "grid_template_areas": null,
            "grid_template_columns": null,
            "grid_template_rows": null,
            "height": null,
            "justify_content": null,
            "justify_items": null,
            "left": null,
            "margin": null,
            "max_height": null,
            "max_width": null,
            "min_height": null,
            "min_width": null,
            "object_fit": null,
            "object_position": null,
            "order": null,
            "overflow": null,
            "overflow_x": null,
            "overflow_y": null,
            "padding": null,
            "right": null,
            "top": null,
            "visibility": null,
            "width": null
          }
        },
        "6e85cda149d449c68db9bba230e37681": {
          "model_module": "@jupyter-widgets/base",
          "model_module_version": "1.2.0",
          "model_name": "LayoutModel",
          "state": {
            "_model_module": "@jupyter-widgets/base",
            "_model_module_version": "1.2.0",
            "_model_name": "LayoutModel",
            "_view_count": null,
            "_view_module": "@jupyter-widgets/base",
            "_view_module_version": "1.2.0",
            "_view_name": "LayoutView",
            "align_content": null,
            "align_items": null,
            "align_self": null,
            "border": null,
            "bottom": null,
            "display": null,
            "flex": null,
            "flex_flow": null,
            "grid_area": null,
            "grid_auto_columns": null,
            "grid_auto_flow": null,
            "grid_auto_rows": null,
            "grid_column": null,
            "grid_gap": null,
            "grid_row": null,
            "grid_template_areas": null,
            "grid_template_columns": null,
            "grid_template_rows": null,
            "height": null,
            "justify_content": null,
            "justify_items": null,
            "left": null,
            "margin": null,
            "max_height": null,
            "max_width": null,
            "min_height": null,
            "min_width": null,
            "object_fit": null,
            "object_position": null,
            "order": null,
            "overflow": null,
            "overflow_x": null,
            "overflow_y": null,
            "padding": null,
            "right": null,
            "top": null,
            "visibility": null,
            "width": null
          }
        },
        "6f195517f0e04d87a2692234ba9cb098": {
          "model_module": "@jupyter-widgets/controls",
          "model_module_version": "1.5.0",
          "model_name": "FloatProgressModel",
          "state": {
            "_dom_classes": [],
            "_model_module": "@jupyter-widgets/controls",
            "_model_module_version": "1.5.0",
            "_model_name": "FloatProgressModel",
            "_view_count": null,
            "_view_module": "@jupyter-widgets/controls",
            "_view_module_version": "1.5.0",
            "_view_name": "ProgressView",
            "bar_style": "",
            "description": "",
            "description_tooltip": null,
            "layout": "IPY_MODEL_19b39a947851455c928a6ed3299116d9",
            "max": 5,
            "min": 0,
            "orientation": "horizontal",
            "style": "IPY_MODEL_24cd3f6ebe1945a282f3e79d7e935109",
            "value": 5
          }
        },
        "723dfb211a154cb8ac7aa51b6727d293": {
          "model_module": "@jupyter-widgets/base",
          "model_module_version": "1.2.0",
          "model_name": "LayoutModel",
          "state": {
            "_model_module": "@jupyter-widgets/base",
            "_model_module_version": "1.2.0",
            "_model_name": "LayoutModel",
            "_view_count": null,
            "_view_module": "@jupyter-widgets/base",
            "_view_module_version": "1.2.0",
            "_view_name": "LayoutView",
            "align_content": null,
            "align_items": null,
            "align_self": null,
            "border": null,
            "bottom": null,
            "display": null,
            "flex": null,
            "flex_flow": null,
            "grid_area": null,
            "grid_auto_columns": null,
            "grid_auto_flow": null,
            "grid_auto_rows": null,
            "grid_column": null,
            "grid_gap": null,
            "grid_row": null,
            "grid_template_areas": null,
            "grid_template_columns": null,
            "grid_template_rows": null,
            "height": null,
            "justify_content": null,
            "justify_items": null,
            "left": null,
            "margin": null,
            "max_height": null,
            "max_width": null,
            "min_height": null,
            "min_width": null,
            "object_fit": null,
            "object_position": null,
            "order": null,
            "overflow": null,
            "overflow_x": null,
            "overflow_y": null,
            "padding": null,
            "right": null,
            "top": null,
            "visibility": null,
            "width": null
          }
        },
        "73b687c713164b86bf4e51c41b86181e": {
          "model_module": "@jupyter-widgets/controls",
          "model_module_version": "1.5.0",
          "model_name": "DescriptionStyleModel",
          "state": {
            "_model_module": "@jupyter-widgets/controls",
            "_model_module_version": "1.5.0",
            "_model_name": "DescriptionStyleModel",
            "_view_count": null,
            "_view_module": "@jupyter-widgets/base",
            "_view_module_version": "1.2.0",
            "_view_name": "StyleView",
            "description_width": ""
          }
        },
        "7640f2779f664cab84dd204c3b7196ad": {
          "model_module": "@jupyter-widgets/controls",
          "model_module_version": "1.5.0",
          "model_name": "HTMLModel",
          "state": {
            "_dom_classes": [],
            "_model_module": "@jupyter-widgets/controls",
            "_model_module_version": "1.5.0",
            "_model_name": "HTMLModel",
            "_view_count": null,
            "_view_module": "@jupyter-widgets/controls",
            "_view_module_version": "1.5.0",
            "_view_name": "HTMLView",
            "description": "",
            "description_tooltip": null,
            "layout": "IPY_MODEL_4d58fced911f4fb194f2c271669a0137",
            "placeholder": "​",
            "style": "IPY_MODEL_9de9d09abd4042459339ecb5015cf5c5",
            "value": " 1/10 [02:48&lt;25:13, 168.18s/it]"
          }
        },
        "765d1cd453ce42e9a7a8fdf68f93c9f3": {
          "model_module": "@jupyter-widgets/controls",
          "model_module_version": "1.5.0",
          "model_name": "DescriptionStyleModel",
          "state": {
            "_model_module": "@jupyter-widgets/controls",
            "_model_module_version": "1.5.0",
            "_model_name": "DescriptionStyleModel",
            "_view_count": null,
            "_view_module": "@jupyter-widgets/base",
            "_view_module_version": "1.2.0",
            "_view_name": "StyleView",
            "description_width": ""
          }
        },
        "76a0942c183240ffbad8737ade16643e": {
          "model_module": "@jupyter-widgets/controls",
          "model_module_version": "1.5.0",
          "model_name": "HBoxModel",
          "state": {
            "_dom_classes": [],
            "_model_module": "@jupyter-widgets/controls",
            "_model_module_version": "1.5.0",
            "_model_name": "HBoxModel",
            "_view_count": null,
            "_view_module": "@jupyter-widgets/controls",
            "_view_module_version": "1.5.0",
            "_view_name": "HBoxView",
            "box_style": "",
            "children": [
              "IPY_MODEL_12b0026a9711459a854c6d4001f19ded",
              "IPY_MODEL_c5aaf1894e7b4459be86e86c1396b5f8",
              "IPY_MODEL_1d5c343cbc534d1a9fd8dded39dfd80a"
            ],
            "layout": "IPY_MODEL_50a46a2fd585488fb08e3c71b75acaab"
          }
        },
        "774fa10f23c9470e99e39de6e52243fd": {
          "model_module": "@jupyter-widgets/controls",
          "model_module_version": "1.5.0",
          "model_name": "DescriptionStyleModel",
          "state": {
            "_model_module": "@jupyter-widgets/controls",
            "_model_module_version": "1.5.0",
            "_model_name": "DescriptionStyleModel",
            "_view_count": null,
            "_view_module": "@jupyter-widgets/base",
            "_view_module_version": "1.2.0",
            "_view_name": "StyleView",
            "description_width": ""
          }
        },
        "78e61ccc56064bb48e9101c44f09079e": {
          "model_module": "@jupyter-widgets/controls",
          "model_module_version": "1.5.0",
          "model_name": "ProgressStyleModel",
          "state": {
            "_model_module": "@jupyter-widgets/controls",
            "_model_module_version": "1.5.0",
            "_model_name": "ProgressStyleModel",
            "_view_count": null,
            "_view_module": "@jupyter-widgets/base",
            "_view_module_version": "1.2.0",
            "_view_name": "StyleView",
            "bar_color": null,
            "description_width": ""
          }
        },
        "7a3be49a913a4de6ac56734ddfc8fb58": {
          "model_module": "@jupyter-widgets/controls",
          "model_module_version": "1.5.0",
          "model_name": "DescriptionStyleModel",
          "state": {
            "_model_module": "@jupyter-widgets/controls",
            "_model_module_version": "1.5.0",
            "_model_name": "DescriptionStyleModel",
            "_view_count": null,
            "_view_module": "@jupyter-widgets/base",
            "_view_module_version": "1.2.0",
            "_view_name": "StyleView",
            "description_width": ""
          }
        },
        "7bb8bfc8e256481ea016d70ab098e0a5": {
          "model_module": "@jupyter-widgets/controls",
          "model_module_version": "1.5.0",
          "model_name": "FloatProgressModel",
          "state": {
            "_dom_classes": [],
            "_model_module": "@jupyter-widgets/controls",
            "_model_module_version": "1.5.0",
            "_model_name": "FloatProgressModel",
            "_view_count": null,
            "_view_module": "@jupyter-widgets/controls",
            "_view_module_version": "1.5.0",
            "_view_name": "ProgressView",
            "bar_style": "",
            "description": "",
            "description_tooltip": null,
            "layout": "IPY_MODEL_b9faf53ad15b4e74bffe3284be9ea8ca",
            "max": 5,
            "min": 0,
            "orientation": "horizontal",
            "style": "IPY_MODEL_cc1cc65d29ef4c4bab91c34d53c2ac8b",
            "value": 5
          }
        },
        "7bd1bcff2cba4a91a24ae6cee6e7c55c": {
          "model_module": "@jupyter-widgets/controls",
          "model_module_version": "1.5.0",
          "model_name": "DescriptionStyleModel",
          "state": {
            "_model_module": "@jupyter-widgets/controls",
            "_model_module_version": "1.5.0",
            "_model_name": "DescriptionStyleModel",
            "_view_count": null,
            "_view_module": "@jupyter-widgets/base",
            "_view_module_version": "1.2.0",
            "_view_name": "StyleView",
            "description_width": ""
          }
        },
        "7c938a53d76840ddbb2862d5a9d9562b": {
          "model_module": "@jupyter-widgets/base",
          "model_module_version": "1.2.0",
          "model_name": "LayoutModel",
          "state": {
            "_model_module": "@jupyter-widgets/base",
            "_model_module_version": "1.2.0",
            "_model_name": "LayoutModel",
            "_view_count": null,
            "_view_module": "@jupyter-widgets/base",
            "_view_module_version": "1.2.0",
            "_view_name": "LayoutView",
            "align_content": null,
            "align_items": null,
            "align_self": null,
            "border": null,
            "bottom": null,
            "display": null,
            "flex": null,
            "flex_flow": null,
            "grid_area": null,
            "grid_auto_columns": null,
            "grid_auto_flow": null,
            "grid_auto_rows": null,
            "grid_column": null,
            "grid_gap": null,
            "grid_row": null,
            "grid_template_areas": null,
            "grid_template_columns": null,
            "grid_template_rows": null,
            "height": null,
            "justify_content": null,
            "justify_items": null,
            "left": null,
            "margin": null,
            "max_height": null,
            "max_width": null,
            "min_height": null,
            "min_width": null,
            "object_fit": null,
            "object_position": null,
            "order": null,
            "overflow": null,
            "overflow_x": null,
            "overflow_y": null,
            "padding": null,
            "right": null,
            "top": null,
            "visibility": null,
            "width": null
          }
        },
        "7d1b7de9849543009ce588f0d52c9eb9": {
          "model_module": "@jupyter-widgets/controls",
          "model_module_version": "1.5.0",
          "model_name": "ProgressStyleModel",
          "state": {
            "_model_module": "@jupyter-widgets/controls",
            "_model_module_version": "1.5.0",
            "_model_name": "ProgressStyleModel",
            "_view_count": null,
            "_view_module": "@jupyter-widgets/base",
            "_view_module_version": "1.2.0",
            "_view_name": "StyleView",
            "bar_color": null,
            "description_width": ""
          }
        },
        "85a4225f19734019b907ad786493032e": {
          "model_module": "@jupyter-widgets/base",
          "model_module_version": "1.2.0",
          "model_name": "LayoutModel",
          "state": {
            "_model_module": "@jupyter-widgets/base",
            "_model_module_version": "1.2.0",
            "_model_name": "LayoutModel",
            "_view_count": null,
            "_view_module": "@jupyter-widgets/base",
            "_view_module_version": "1.2.0",
            "_view_name": "LayoutView",
            "align_content": null,
            "align_items": null,
            "align_self": null,
            "border": null,
            "bottom": null,
            "display": null,
            "flex": null,
            "flex_flow": null,
            "grid_area": null,
            "grid_auto_columns": null,
            "grid_auto_flow": null,
            "grid_auto_rows": null,
            "grid_column": null,
            "grid_gap": null,
            "grid_row": null,
            "grid_template_areas": null,
            "grid_template_columns": null,
            "grid_template_rows": null,
            "height": null,
            "justify_content": null,
            "justify_items": null,
            "left": null,
            "margin": null,
            "max_height": null,
            "max_width": null,
            "min_height": null,
            "min_width": null,
            "object_fit": null,
            "object_position": null,
            "order": null,
            "overflow": null,
            "overflow_x": null,
            "overflow_y": null,
            "padding": null,
            "right": null,
            "top": null,
            "visibility": null,
            "width": null
          }
        },
        "895f03e1286e4497aa8e0897afc095fc": {
          "model_module": "@jupyter-widgets/controls",
          "model_module_version": "1.5.0",
          "model_name": "HBoxModel",
          "state": {
            "_dom_classes": [],
            "_model_module": "@jupyter-widgets/controls",
            "_model_module_version": "1.5.0",
            "_model_name": "HBoxModel",
            "_view_count": null,
            "_view_module": "@jupyter-widgets/controls",
            "_view_module_version": "1.5.0",
            "_view_name": "HBoxView",
            "box_style": "",
            "children": [
              "IPY_MODEL_e0f5a8f8c3b0487eb0f2686b5157b724",
              "IPY_MODEL_e2f3bc2420fb42faaff60417cc475b4f",
              "IPY_MODEL_cc4c44ca88c147d28b0fa10df5be602c"
            ],
            "layout": "IPY_MODEL_c771c0d9e86b44bfb3c8c069b488295f"
          }
        },
        "89d6a9e16f7c471394f2d7188c735e10": {
          "model_module": "@jupyter-widgets/controls",
          "model_module_version": "1.5.0",
          "model_name": "ProgressStyleModel",
          "state": {
            "_model_module": "@jupyter-widgets/controls",
            "_model_module_version": "1.5.0",
            "_model_name": "ProgressStyleModel",
            "_view_count": null,
            "_view_module": "@jupyter-widgets/base",
            "_view_module_version": "1.2.0",
            "_view_name": "StyleView",
            "bar_color": null,
            "description_width": ""
          }
        },
        "8a006181ac724a0184ede4353f0be080": {
          "model_module": "@jupyter-widgets/base",
          "model_module_version": "1.2.0",
          "model_name": "LayoutModel",
          "state": {
            "_model_module": "@jupyter-widgets/base",
            "_model_module_version": "1.2.0",
            "_model_name": "LayoutModel",
            "_view_count": null,
            "_view_module": "@jupyter-widgets/base",
            "_view_module_version": "1.2.0",
            "_view_name": "LayoutView",
            "align_content": null,
            "align_items": null,
            "align_self": null,
            "border": null,
            "bottom": null,
            "display": null,
            "flex": null,
            "flex_flow": null,
            "grid_area": null,
            "grid_auto_columns": null,
            "grid_auto_flow": null,
            "grid_auto_rows": null,
            "grid_column": null,
            "grid_gap": null,
            "grid_row": null,
            "grid_template_areas": null,
            "grid_template_columns": null,
            "grid_template_rows": null,
            "height": null,
            "justify_content": null,
            "justify_items": null,
            "left": null,
            "margin": null,
            "max_height": null,
            "max_width": null,
            "min_height": null,
            "min_width": null,
            "object_fit": null,
            "object_position": null,
            "order": null,
            "overflow": null,
            "overflow_x": null,
            "overflow_y": null,
            "padding": null,
            "right": null,
            "top": null,
            "visibility": "hidden",
            "width": null
          }
        },
        "8f0cb2f853b5489e9b9c63b4c0bd4b02": {
          "model_module": "@jupyter-widgets/controls",
          "model_module_version": "1.5.0",
          "model_name": "HTMLModel",
          "state": {
            "_dom_classes": [],
            "_model_module": "@jupyter-widgets/controls",
            "_model_module_version": "1.5.0",
            "_model_name": "HTMLModel",
            "_view_count": null,
            "_view_module": "@jupyter-widgets/controls",
            "_view_module_version": "1.5.0",
            "_view_name": "HTMLView",
            "description": "",
            "description_tooltip": null,
            "layout": "IPY_MODEL_15d43da0964c48e79e50b1cd94f05afd",
            "placeholder": "​",
            "style": "IPY_MODEL_6094b130466443a78e0d0733ded44dfb",
            "value": " 5/5 [00:36&lt;00:00,  7.26s/it]"
          }
        },
        "915652964d8b45009f058ab1840b3de8": {
          "model_module": "@jupyter-widgets/controls",
          "model_module_version": "1.5.0",
          "model_name": "HTMLModel",
          "state": {
            "_dom_classes": [],
            "_model_module": "@jupyter-widgets/controls",
            "_model_module_version": "1.5.0",
            "_model_name": "HTMLModel",
            "_view_count": null,
            "_view_module": "@jupyter-widgets/controls",
            "_view_module_version": "1.5.0",
            "_view_name": "HTMLView",
            "description": "",
            "description_tooltip": null,
            "layout": "IPY_MODEL_a6d06f6ad1174c4090374ea8dffd0f81",
            "placeholder": "​",
            "style": "IPY_MODEL_765d1cd453ce42e9a7a8fdf68f93c9f3",
            "value": "Training: 100%"
          }
        },
        "9357a69d31af440fbfca4b0f4ad6dcf9": {
          "model_module": "@jupyter-widgets/controls",
          "model_module_version": "1.5.0",
          "model_name": "FloatProgressModel",
          "state": {
            "_dom_classes": [],
            "_model_module": "@jupyter-widgets/controls",
            "_model_module_version": "1.5.0",
            "_model_name": "FloatProgressModel",
            "_view_count": null,
            "_view_module": "@jupyter-widgets/controls",
            "_view_module_version": "1.5.0",
            "_view_name": "ProgressView",
            "bar_style": "",
            "description": "",
            "description_tooltip": null,
            "layout": "IPY_MODEL_61cecb160bd34b02a88879709de8f863",
            "max": 5,
            "min": 0,
            "orientation": "horizontal",
            "style": "IPY_MODEL_7d1b7de9849543009ce588f0d52c9eb9",
            "value": 5
          }
        },
        "9452791e02ae40f2881b830219274021": {
          "model_module": "@jupyter-widgets/base",
          "model_module_version": "1.2.0",
          "model_name": "LayoutModel",
          "state": {
            "_model_module": "@jupyter-widgets/base",
            "_model_module_version": "1.2.0",
            "_model_name": "LayoutModel",
            "_view_count": null,
            "_view_module": "@jupyter-widgets/base",
            "_view_module_version": "1.2.0",
            "_view_name": "LayoutView",
            "align_content": null,
            "align_items": null,
            "align_self": null,
            "border": null,
            "bottom": null,
            "display": null,
            "flex": null,
            "flex_flow": null,
            "grid_area": null,
            "grid_auto_columns": null,
            "grid_auto_flow": null,
            "grid_auto_rows": null,
            "grid_column": null,
            "grid_gap": null,
            "grid_row": null,
            "grid_template_areas": null,
            "grid_template_columns": null,
            "grid_template_rows": null,
            "height": null,
            "justify_content": null,
            "justify_items": null,
            "left": null,
            "margin": null,
            "max_height": null,
            "max_width": null,
            "min_height": null,
            "min_width": null,
            "object_fit": null,
            "object_position": null,
            "order": null,
            "overflow": null,
            "overflow_x": null,
            "overflow_y": null,
            "padding": null,
            "right": null,
            "top": null,
            "visibility": null,
            "width": null
          }
        },
        "9bdf95fd3f264792ba5c647bf97dc5a5": {
          "model_module": "@jupyter-widgets/controls",
          "model_module_version": "1.5.0",
          "model_name": "DescriptionStyleModel",
          "state": {
            "_model_module": "@jupyter-widgets/controls",
            "_model_module_version": "1.5.0",
            "_model_name": "DescriptionStyleModel",
            "_view_count": null,
            "_view_module": "@jupyter-widgets/base",
            "_view_module_version": "1.2.0",
            "_view_name": "StyleView",
            "description_width": ""
          }
        },
        "9d4142f2cbde4f81bcf3dcccd6094ca5": {
          "model_module": "@jupyter-widgets/controls",
          "model_module_version": "1.5.0",
          "model_name": "FloatProgressModel",
          "state": {
            "_dom_classes": [],
            "_model_module": "@jupyter-widgets/controls",
            "_model_module_version": "1.5.0",
            "_model_name": "FloatProgressModel",
            "_view_count": null,
            "_view_module": "@jupyter-widgets/controls",
            "_view_module_version": "1.5.0",
            "_view_name": "ProgressView",
            "bar_style": "",
            "description": "",
            "description_tooltip": null,
            "layout": "IPY_MODEL_6e85cda149d449c68db9bba230e37681",
            "max": 10,
            "min": 0,
            "orientation": "horizontal",
            "style": "IPY_MODEL_fbc03877773940e88c89c52e7e83fc60",
            "value": 1
          }
        },
        "9de9d09abd4042459339ecb5015cf5c5": {
          "model_module": "@jupyter-widgets/controls",
          "model_module_version": "1.5.0",
          "model_name": "DescriptionStyleModel",
          "state": {
            "_model_module": "@jupyter-widgets/controls",
            "_model_module_version": "1.5.0",
            "_model_name": "DescriptionStyleModel",
            "_view_count": null,
            "_view_module": "@jupyter-widgets/base",
            "_view_module_version": "1.2.0",
            "_view_name": "StyleView",
            "description_width": ""
          }
        },
        "a31b8c0837724178ab7a833391fdb97c": {
          "model_module": "@jupyter-widgets/base",
          "model_module_version": "1.2.0",
          "model_name": "LayoutModel",
          "state": {
            "_model_module": "@jupyter-widgets/base",
            "_model_module_version": "1.2.0",
            "_model_name": "LayoutModel",
            "_view_count": null,
            "_view_module": "@jupyter-widgets/base",
            "_view_module_version": "1.2.0",
            "_view_name": "LayoutView",
            "align_content": null,
            "align_items": null,
            "align_self": null,
            "border": null,
            "bottom": null,
            "display": null,
            "flex": null,
            "flex_flow": null,
            "grid_area": null,
            "grid_auto_columns": null,
            "grid_auto_flow": null,
            "grid_auto_rows": null,
            "grid_column": null,
            "grid_gap": null,
            "grid_row": null,
            "grid_template_areas": null,
            "grid_template_columns": null,
            "grid_template_rows": null,
            "height": null,
            "justify_content": null,
            "justify_items": null,
            "left": null,
            "margin": null,
            "max_height": null,
            "max_width": null,
            "min_height": null,
            "min_width": null,
            "object_fit": null,
            "object_position": null,
            "order": null,
            "overflow": null,
            "overflow_x": null,
            "overflow_y": null,
            "padding": null,
            "right": null,
            "top": null,
            "visibility": null,
            "width": null
          }
        },
        "a33e572741494f22b1c7fa1473d12fba": {
          "model_module": "@jupyter-widgets/base",
          "model_module_version": "1.2.0",
          "model_name": "LayoutModel",
          "state": {
            "_model_module": "@jupyter-widgets/base",
            "_model_module_version": "1.2.0",
            "_model_name": "LayoutModel",
            "_view_count": null,
            "_view_module": "@jupyter-widgets/base",
            "_view_module_version": "1.2.0",
            "_view_name": "LayoutView",
            "align_content": null,
            "align_items": null,
            "align_self": null,
            "border": null,
            "bottom": null,
            "display": null,
            "flex": null,
            "flex_flow": null,
            "grid_area": null,
            "grid_auto_columns": null,
            "grid_auto_flow": null,
            "grid_auto_rows": null,
            "grid_column": null,
            "grid_gap": null,
            "grid_row": null,
            "grid_template_areas": null,
            "grid_template_columns": null,
            "grid_template_rows": null,
            "height": null,
            "justify_content": null,
            "justify_items": null,
            "left": null,
            "margin": null,
            "max_height": null,
            "max_width": null,
            "min_height": null,
            "min_width": null,
            "object_fit": null,
            "object_position": null,
            "order": null,
            "overflow": null,
            "overflow_x": null,
            "overflow_y": null,
            "padding": null,
            "right": null,
            "top": null,
            "visibility": null,
            "width": null
          }
        },
        "a6d06f6ad1174c4090374ea8dffd0f81": {
          "model_module": "@jupyter-widgets/base",
          "model_module_version": "1.2.0",
          "model_name": "LayoutModel",
          "state": {
            "_model_module": "@jupyter-widgets/base",
            "_model_module_version": "1.2.0",
            "_model_name": "LayoutModel",
            "_view_count": null,
            "_view_module": "@jupyter-widgets/base",
            "_view_module_version": "1.2.0",
            "_view_name": "LayoutView",
            "align_content": null,
            "align_items": null,
            "align_self": null,
            "border": null,
            "bottom": null,
            "display": null,
            "flex": null,
            "flex_flow": null,
            "grid_area": null,
            "grid_auto_columns": null,
            "grid_auto_flow": null,
            "grid_auto_rows": null,
            "grid_column": null,
            "grid_gap": null,
            "grid_row": null,
            "grid_template_areas": null,
            "grid_template_columns": null,
            "grid_template_rows": null,
            "height": null,
            "justify_content": null,
            "justify_items": null,
            "left": null,
            "margin": null,
            "max_height": null,
            "max_width": null,
            "min_height": null,
            "min_width": null,
            "object_fit": null,
            "object_position": null,
            "order": null,
            "overflow": null,
            "overflow_x": null,
            "overflow_y": null,
            "padding": null,
            "right": null,
            "top": null,
            "visibility": null,
            "width": null
          }
        },
        "a7c0dcf1c10a4389b59715e3985b7fdc": {
          "model_module": "@jupyter-widgets/base",
          "model_module_version": "1.2.0",
          "model_name": "LayoutModel",
          "state": {
            "_model_module": "@jupyter-widgets/base",
            "_model_module_version": "1.2.0",
            "_model_name": "LayoutModel",
            "_view_count": null,
            "_view_module": "@jupyter-widgets/base",
            "_view_module_version": "1.2.0",
            "_view_name": "LayoutView",
            "align_content": null,
            "align_items": null,
            "align_self": null,
            "border": null,
            "bottom": null,
            "display": null,
            "flex": null,
            "flex_flow": null,
            "grid_area": null,
            "grid_auto_columns": null,
            "grid_auto_flow": null,
            "grid_auto_rows": null,
            "grid_column": null,
            "grid_gap": null,
            "grid_row": null,
            "grid_template_areas": null,
            "grid_template_columns": null,
            "grid_template_rows": null,
            "height": null,
            "justify_content": null,
            "justify_items": null,
            "left": null,
            "margin": null,
            "max_height": null,
            "max_width": null,
            "min_height": null,
            "min_width": null,
            "object_fit": null,
            "object_position": null,
            "order": null,
            "overflow": null,
            "overflow_x": null,
            "overflow_y": null,
            "padding": null,
            "right": null,
            "top": null,
            "visibility": null,
            "width": null
          }
        },
        "ab4d967f02b1474f9edf6513cd6a4dad": {
          "model_module": "@jupyter-widgets/controls",
          "model_module_version": "1.5.0",
          "model_name": "DescriptionStyleModel",
          "state": {
            "_model_module": "@jupyter-widgets/controls",
            "_model_module_version": "1.5.0",
            "_model_name": "DescriptionStyleModel",
            "_view_count": null,
            "_view_module": "@jupyter-widgets/base",
            "_view_module_version": "1.2.0",
            "_view_name": "StyleView",
            "description_width": ""
          }
        },
        "abbd6adb872f4272a082732e36b704b0": {
          "model_module": "@jupyter-widgets/controls",
          "model_module_version": "1.5.0",
          "model_name": "HTMLModel",
          "state": {
            "_dom_classes": [],
            "_model_module": "@jupyter-widgets/controls",
            "_model_module_version": "1.5.0",
            "_model_name": "HTMLModel",
            "_view_count": null,
            "_view_module": "@jupyter-widgets/controls",
            "_view_module_version": "1.5.0",
            "_view_name": "HTMLView",
            "description": "",
            "description_tooltip": null,
            "layout": "IPY_MODEL_6c5dbdee23c546559b84ea89751acfd9",
            "placeholder": "​",
            "style": "IPY_MODEL_fb879be9e7ff407a8a5d6cb3136cf539",
            "value": " 10/10 [05:16&lt;00:00, 31.63s/it]"
          }
        },
        "ad8c6ae966aa4e68a4742cee58a63971": {
          "model_module": "@jupyter-widgets/controls",
          "model_module_version": "1.5.0",
          "model_name": "HBoxModel",
          "state": {
            "_dom_classes": [],
            "_model_module": "@jupyter-widgets/controls",
            "_model_module_version": "1.5.0",
            "_model_name": "HBoxModel",
            "_view_count": null,
            "_view_module": "@jupyter-widgets/controls",
            "_view_module_version": "1.5.0",
            "_view_name": "HBoxView",
            "box_style": "",
            "children": [
              "IPY_MODEL_45eda23825f2483c890f42e531e770a8",
              "IPY_MODEL_6f195517f0e04d87a2692234ba9cb098",
              "IPY_MODEL_3b20af919b4845a6afe52998706c1921"
            ],
            "layout": "IPY_MODEL_b5012ec11ac1474fae8beea3029ce85c"
          }
        },
        "aea9eb7ed09948eea016aa7cc7e0abd4": {
          "model_module": "@jupyter-widgets/base",
          "model_module_version": "1.2.0",
          "model_name": "LayoutModel",
          "state": {
            "_model_module": "@jupyter-widgets/base",
            "_model_module_version": "1.2.0",
            "_model_name": "LayoutModel",
            "_view_count": null,
            "_view_module": "@jupyter-widgets/base",
            "_view_module_version": "1.2.0",
            "_view_name": "LayoutView",
            "align_content": null,
            "align_items": null,
            "align_self": null,
            "border": null,
            "bottom": null,
            "display": null,
            "flex": null,
            "flex_flow": null,
            "grid_area": null,
            "grid_auto_columns": null,
            "grid_auto_flow": null,
            "grid_auto_rows": null,
            "grid_column": null,
            "grid_gap": null,
            "grid_row": null,
            "grid_template_areas": null,
            "grid_template_columns": null,
            "grid_template_rows": null,
            "height": null,
            "justify_content": null,
            "justify_items": null,
            "left": null,
            "margin": null,
            "max_height": null,
            "max_width": null,
            "min_height": null,
            "min_width": null,
            "object_fit": null,
            "object_position": null,
            "order": null,
            "overflow": null,
            "overflow_x": null,
            "overflow_y": null,
            "padding": null,
            "right": null,
            "top": null,
            "visibility": null,
            "width": null
          }
        },
        "afe07127662b4000b730330c01859d24": {
          "model_module": "@jupyter-widgets/base",
          "model_module_version": "1.2.0",
          "model_name": "LayoutModel",
          "state": {
            "_model_module": "@jupyter-widgets/base",
            "_model_module_version": "1.2.0",
            "_model_name": "LayoutModel",
            "_view_count": null,
            "_view_module": "@jupyter-widgets/base",
            "_view_module_version": "1.2.0",
            "_view_name": "LayoutView",
            "align_content": null,
            "align_items": null,
            "align_self": null,
            "border": null,
            "bottom": null,
            "display": null,
            "flex": null,
            "flex_flow": null,
            "grid_area": null,
            "grid_auto_columns": null,
            "grid_auto_flow": null,
            "grid_auto_rows": null,
            "grid_column": null,
            "grid_gap": null,
            "grid_row": null,
            "grid_template_areas": null,
            "grid_template_columns": null,
            "grid_template_rows": null,
            "height": null,
            "justify_content": null,
            "justify_items": null,
            "left": null,
            "margin": null,
            "max_height": null,
            "max_width": null,
            "min_height": null,
            "min_width": null,
            "object_fit": null,
            "object_position": null,
            "order": null,
            "overflow": null,
            "overflow_x": null,
            "overflow_y": null,
            "padding": null,
            "right": null,
            "top": null,
            "visibility": "hidden",
            "width": null
          }
        },
        "b1fd6b72a71649b8a2f223b89e526195": {
          "model_module": "@jupyter-widgets/base",
          "model_module_version": "1.2.0",
          "model_name": "LayoutModel",
          "state": {
            "_model_module": "@jupyter-widgets/base",
            "_model_module_version": "1.2.0",
            "_model_name": "LayoutModel",
            "_view_count": null,
            "_view_module": "@jupyter-widgets/base",
            "_view_module_version": "1.2.0",
            "_view_name": "LayoutView",
            "align_content": null,
            "align_items": null,
            "align_self": null,
            "border": null,
            "bottom": null,
            "display": null,
            "flex": null,
            "flex_flow": null,
            "grid_area": null,
            "grid_auto_columns": null,
            "grid_auto_flow": null,
            "grid_auto_rows": null,
            "grid_column": null,
            "grid_gap": null,
            "grid_row": null,
            "grid_template_areas": null,
            "grid_template_columns": null,
            "grid_template_rows": null,
            "height": null,
            "justify_content": null,
            "justify_items": null,
            "left": null,
            "margin": null,
            "max_height": null,
            "max_width": null,
            "min_height": null,
            "min_width": null,
            "object_fit": null,
            "object_position": null,
            "order": null,
            "overflow": null,
            "overflow_x": null,
            "overflow_y": null,
            "padding": null,
            "right": null,
            "top": null,
            "visibility": "hidden",
            "width": null
          }
        },
        "b2682c8e91c8426b8b69bc0fb983f7e4": {
          "model_module": "@jupyter-widgets/base",
          "model_module_version": "1.2.0",
          "model_name": "LayoutModel",
          "state": {
            "_model_module": "@jupyter-widgets/base",
            "_model_module_version": "1.2.0",
            "_model_name": "LayoutModel",
            "_view_count": null,
            "_view_module": "@jupyter-widgets/base",
            "_view_module_version": "1.2.0",
            "_view_name": "LayoutView",
            "align_content": null,
            "align_items": null,
            "align_self": null,
            "border": null,
            "bottom": null,
            "display": null,
            "flex": null,
            "flex_flow": null,
            "grid_area": null,
            "grid_auto_columns": null,
            "grid_auto_flow": null,
            "grid_auto_rows": null,
            "grid_column": null,
            "grid_gap": null,
            "grid_row": null,
            "grid_template_areas": null,
            "grid_template_columns": null,
            "grid_template_rows": null,
            "height": null,
            "justify_content": null,
            "justify_items": null,
            "left": null,
            "margin": null,
            "max_height": null,
            "max_width": null,
            "min_height": null,
            "min_width": null,
            "object_fit": null,
            "object_position": null,
            "order": null,
            "overflow": null,
            "overflow_x": null,
            "overflow_y": null,
            "padding": null,
            "right": null,
            "top": null,
            "visibility": null,
            "width": null
          }
        },
        "b26c1f8140854b78afe4df570d77472e": {
          "model_module": "@jupyter-widgets/base",
          "model_module_version": "1.2.0",
          "model_name": "LayoutModel",
          "state": {
            "_model_module": "@jupyter-widgets/base",
            "_model_module_version": "1.2.0",
            "_model_name": "LayoutModel",
            "_view_count": null,
            "_view_module": "@jupyter-widgets/base",
            "_view_module_version": "1.2.0",
            "_view_name": "LayoutView",
            "align_content": null,
            "align_items": null,
            "align_self": null,
            "border": null,
            "bottom": null,
            "display": null,
            "flex": null,
            "flex_flow": null,
            "grid_area": null,
            "grid_auto_columns": null,
            "grid_auto_flow": null,
            "grid_auto_rows": null,
            "grid_column": null,
            "grid_gap": null,
            "grid_row": null,
            "grid_template_areas": null,
            "grid_template_columns": null,
            "grid_template_rows": null,
            "height": null,
            "justify_content": null,
            "justify_items": null,
            "left": null,
            "margin": null,
            "max_height": null,
            "max_width": null,
            "min_height": null,
            "min_width": null,
            "object_fit": null,
            "object_position": null,
            "order": null,
            "overflow": null,
            "overflow_x": null,
            "overflow_y": null,
            "padding": null,
            "right": null,
            "top": null,
            "visibility": null,
            "width": null
          }
        },
        "b3f3a97f3fe74d93981caf4b92c78a0b": {
          "model_module": "@jupyter-widgets/controls",
          "model_module_version": "1.5.0",
          "model_name": "HTMLModel",
          "state": {
            "_dom_classes": [],
            "_model_module": "@jupyter-widgets/controls",
            "_model_module_version": "1.5.0",
            "_model_name": "HTMLModel",
            "_view_count": null,
            "_view_module": "@jupyter-widgets/controls",
            "_view_module_version": "1.5.0",
            "_view_name": "HTMLView",
            "description": "",
            "description_tooltip": null,
            "layout": "IPY_MODEL_d1a0b77df13743e699c23f6ed5fc8f38",
            "placeholder": "​",
            "style": "IPY_MODEL_ab4d967f02b1474f9edf6513cd6a4dad",
            "value": "Trial:   0%"
          }
        },
        "b434d22f78a841d0b636329f124f538c": {
          "model_module": "@jupyter-widgets/base",
          "model_module_version": "1.2.0",
          "model_name": "LayoutModel",
          "state": {
            "_model_module": "@jupyter-widgets/base",
            "_model_module_version": "1.2.0",
            "_model_name": "LayoutModel",
            "_view_count": null,
            "_view_module": "@jupyter-widgets/base",
            "_view_module_version": "1.2.0",
            "_view_name": "LayoutView",
            "align_content": null,
            "align_items": null,
            "align_self": null,
            "border": null,
            "bottom": null,
            "display": null,
            "flex": null,
            "flex_flow": null,
            "grid_area": null,
            "grid_auto_columns": null,
            "grid_auto_flow": null,
            "grid_auto_rows": null,
            "grid_column": null,
            "grid_gap": null,
            "grid_row": null,
            "grid_template_areas": null,
            "grid_template_columns": null,
            "grid_template_rows": null,
            "height": null,
            "justify_content": null,
            "justify_items": null,
            "left": null,
            "margin": null,
            "max_height": null,
            "max_width": null,
            "min_height": null,
            "min_width": null,
            "object_fit": null,
            "object_position": null,
            "order": null,
            "overflow": null,
            "overflow_x": null,
            "overflow_y": null,
            "padding": null,
            "right": null,
            "top": null,
            "visibility": null,
            "width": null
          }
        },
        "b5012ec11ac1474fae8beea3029ce85c": {
          "model_module": "@jupyter-widgets/base",
          "model_module_version": "1.2.0",
          "model_name": "LayoutModel",
          "state": {
            "_model_module": "@jupyter-widgets/base",
            "_model_module_version": "1.2.0",
            "_model_name": "LayoutModel",
            "_view_count": null,
            "_view_module": "@jupyter-widgets/base",
            "_view_module_version": "1.2.0",
            "_view_name": "LayoutView",
            "align_content": null,
            "align_items": null,
            "align_self": null,
            "border": null,
            "bottom": null,
            "display": null,
            "flex": null,
            "flex_flow": null,
            "grid_area": null,
            "grid_auto_columns": null,
            "grid_auto_flow": null,
            "grid_auto_rows": null,
            "grid_column": null,
            "grid_gap": null,
            "grid_row": null,
            "grid_template_areas": null,
            "grid_template_columns": null,
            "grid_template_rows": null,
            "height": null,
            "justify_content": null,
            "justify_items": null,
            "left": null,
            "margin": null,
            "max_height": null,
            "max_width": null,
            "min_height": null,
            "min_width": null,
            "object_fit": null,
            "object_position": null,
            "order": null,
            "overflow": null,
            "overflow_x": null,
            "overflow_y": null,
            "padding": null,
            "right": null,
            "top": null,
            "visibility": "hidden",
            "width": null
          }
        },
        "b63ea0956353410e8bd82c0e82f77359": {
          "model_module": "@jupyter-widgets/controls",
          "model_module_version": "1.5.0",
          "model_name": "HTMLModel",
          "state": {
            "_dom_classes": [],
            "_model_module": "@jupyter-widgets/controls",
            "_model_module_version": "1.5.0",
            "_model_name": "HTMLModel",
            "_view_count": null,
            "_view_module": "@jupyter-widgets/controls",
            "_view_module_version": "1.5.0",
            "_view_name": "HTMLView",
            "description": "",
            "description_tooltip": null,
            "layout": "IPY_MODEL_378b45d1b3c34c9493535009fc9a38d1",
            "placeholder": "​",
            "style": "IPY_MODEL_4c4ab23b8eda42ae849c604782b348fa",
            "value": "Training: 100%"
          }
        },
        "b80e6b3d3d1d40428bb42b1e372a1d1b": {
          "model_module": "@jupyter-widgets/controls",
          "model_module_version": "1.5.0",
          "model_name": "HBoxModel",
          "state": {
            "_dom_classes": [],
            "_model_module": "@jupyter-widgets/controls",
            "_model_module_version": "1.5.0",
            "_model_name": "HBoxModel",
            "_view_count": null,
            "_view_module": "@jupyter-widgets/controls",
            "_view_module_version": "1.5.0",
            "_view_name": "HBoxView",
            "box_style": "",
            "children": [
              "IPY_MODEL_cfbfe1da4f85446f9578366485422d8c",
              "IPY_MODEL_f50867693af14910b779f3fb294848e7",
              "IPY_MODEL_3e129b177eb44d839247ab99d7d96818"
            ],
            "layout": "IPY_MODEL_afe07127662b4000b730330c01859d24"
          }
        },
        "b9faf53ad15b4e74bffe3284be9ea8ca": {
          "model_module": "@jupyter-widgets/base",
          "model_module_version": "1.2.0",
          "model_name": "LayoutModel",
          "state": {
            "_model_module": "@jupyter-widgets/base",
            "_model_module_version": "1.2.0",
            "_model_name": "LayoutModel",
            "_view_count": null,
            "_view_module": "@jupyter-widgets/base",
            "_view_module_version": "1.2.0",
            "_view_name": "LayoutView",
            "align_content": null,
            "align_items": null,
            "align_self": null,
            "border": null,
            "bottom": null,
            "display": null,
            "flex": null,
            "flex_flow": null,
            "grid_area": null,
            "grid_auto_columns": null,
            "grid_auto_flow": null,
            "grid_auto_rows": null,
            "grid_column": null,
            "grid_gap": null,
            "grid_row": null,
            "grid_template_areas": null,
            "grid_template_columns": null,
            "grid_template_rows": null,
            "height": null,
            "justify_content": null,
            "justify_items": null,
            "left": null,
            "margin": null,
            "max_height": null,
            "max_width": null,
            "min_height": null,
            "min_width": null,
            "object_fit": null,
            "object_position": null,
            "order": null,
            "overflow": null,
            "overflow_x": null,
            "overflow_y": null,
            "padding": null,
            "right": null,
            "top": null,
            "visibility": null,
            "width": null
          }
        },
        "bbb34e6c2b004d339fb607f79f9da62a": {
          "model_module": "@jupyter-widgets/controls",
          "model_module_version": "1.5.0",
          "model_name": "FloatProgressModel",
          "state": {
            "_dom_classes": [],
            "_model_module": "@jupyter-widgets/controls",
            "_model_module_version": "1.5.0",
            "_model_name": "FloatProgressModel",
            "_view_count": null,
            "_view_module": "@jupyter-widgets/controls",
            "_view_module_version": "1.5.0",
            "_view_name": "ProgressView",
            "bar_style": "",
            "description": "",
            "description_tooltip": null,
            "layout": "IPY_MODEL_df42ff91d8234c3c9cae54e194302063",
            "max": 10,
            "min": 0,
            "orientation": "horizontal",
            "style": "IPY_MODEL_bce0bf1b15c141fa868a4ff9c9cad10c",
            "value": 10
          }
        },
        "bc7bc3bcd617463b8acd45de0dcae9fb": {
          "model_module": "@jupyter-widgets/base",
          "model_module_version": "1.2.0",
          "model_name": "LayoutModel",
          "state": {
            "_model_module": "@jupyter-widgets/base",
            "_model_module_version": "1.2.0",
            "_model_name": "LayoutModel",
            "_view_count": null,
            "_view_module": "@jupyter-widgets/base",
            "_view_module_version": "1.2.0",
            "_view_name": "LayoutView",
            "align_content": null,
            "align_items": null,
            "align_self": null,
            "border": null,
            "bottom": null,
            "display": null,
            "flex": null,
            "flex_flow": null,
            "grid_area": null,
            "grid_auto_columns": null,
            "grid_auto_flow": null,
            "grid_auto_rows": null,
            "grid_column": null,
            "grid_gap": null,
            "grid_row": null,
            "grid_template_areas": null,
            "grid_template_columns": null,
            "grid_template_rows": null,
            "height": null,
            "justify_content": null,
            "justify_items": null,
            "left": null,
            "margin": null,
            "max_height": null,
            "max_width": null,
            "min_height": null,
            "min_width": null,
            "object_fit": null,
            "object_position": null,
            "order": null,
            "overflow": null,
            "overflow_x": null,
            "overflow_y": null,
            "padding": null,
            "right": null,
            "top": null,
            "visibility": null,
            "width": null
          }
        },
        "bcc9a6f7d8274a44a6a577eb81f1269c": {
          "model_module": "@jupyter-widgets/controls",
          "model_module_version": "1.5.0",
          "model_name": "FloatProgressModel",
          "state": {
            "_dom_classes": [],
            "_model_module": "@jupyter-widgets/controls",
            "_model_module_version": "1.5.0",
            "_model_name": "FloatProgressModel",
            "_view_count": null,
            "_view_module": "@jupyter-widgets/controls",
            "_view_module_version": "1.5.0",
            "_view_name": "ProgressView",
            "bar_style": "",
            "description": "",
            "description_tooltip": null,
            "layout": "IPY_MODEL_415e327053d04664a09429cb968835c8",
            "max": 5,
            "min": 0,
            "orientation": "horizontal",
            "style": "IPY_MODEL_e79eb8bf1bd040cc801f4aac2d05042c",
            "value": 5
          }
        },
        "bce0bf1b15c141fa868a4ff9c9cad10c": {
          "model_module": "@jupyter-widgets/controls",
          "model_module_version": "1.5.0",
          "model_name": "ProgressStyleModel",
          "state": {
            "_model_module": "@jupyter-widgets/controls",
            "_model_module_version": "1.5.0",
            "_model_name": "ProgressStyleModel",
            "_view_count": null,
            "_view_module": "@jupyter-widgets/base",
            "_view_module_version": "1.2.0",
            "_view_name": "StyleView",
            "bar_color": null,
            "description_width": ""
          }
        },
        "be075ad893b74e049a71096b567d7a66": {
          "model_module": "@jupyter-widgets/controls",
          "model_module_version": "1.5.0",
          "model_name": "DescriptionStyleModel",
          "state": {
            "_model_module": "@jupyter-widgets/controls",
            "_model_module_version": "1.5.0",
            "_model_name": "DescriptionStyleModel",
            "_view_count": null,
            "_view_module": "@jupyter-widgets/base",
            "_view_module_version": "1.2.0",
            "_view_name": "StyleView",
            "description_width": ""
          }
        },
        "bf63988768164be28da7c388eed7bcf2": {
          "model_module": "@jupyter-widgets/base",
          "model_module_version": "1.2.0",
          "model_name": "LayoutModel",
          "state": {
            "_model_module": "@jupyter-widgets/base",
            "_model_module_version": "1.2.0",
            "_model_name": "LayoutModel",
            "_view_count": null,
            "_view_module": "@jupyter-widgets/base",
            "_view_module_version": "1.2.0",
            "_view_name": "LayoutView",
            "align_content": null,
            "align_items": null,
            "align_self": null,
            "border": null,
            "bottom": null,
            "display": null,
            "flex": null,
            "flex_flow": null,
            "grid_area": null,
            "grid_auto_columns": null,
            "grid_auto_flow": null,
            "grid_auto_rows": null,
            "grid_column": null,
            "grid_gap": null,
            "grid_row": null,
            "grid_template_areas": null,
            "grid_template_columns": null,
            "grid_template_rows": null,
            "height": null,
            "justify_content": null,
            "justify_items": null,
            "left": null,
            "margin": null,
            "max_height": null,
            "max_width": null,
            "min_height": null,
            "min_width": null,
            "object_fit": null,
            "object_position": null,
            "order": null,
            "overflow": null,
            "overflow_x": null,
            "overflow_y": null,
            "padding": null,
            "right": null,
            "top": null,
            "visibility": null,
            "width": null
          }
        },
        "c376880bf4254311a4241386a27faa9e": {
          "model_module": "@jupyter-widgets/controls",
          "model_module_version": "1.5.0",
          "model_name": "HTMLModel",
          "state": {
            "_dom_classes": [],
            "_model_module": "@jupyter-widgets/controls",
            "_model_module_version": "1.5.0",
            "_model_name": "HTMLModel",
            "_view_count": null,
            "_view_module": "@jupyter-widgets/controls",
            "_view_module_version": "1.5.0",
            "_view_name": "HTMLView",
            "description": "",
            "description_tooltip": null,
            "layout": "IPY_MODEL_723dfb211a154cb8ac7aa51b6727d293",
            "placeholder": "​",
            "style": "IPY_MODEL_4ded19614e0c4484b80a4c1e403adc48",
            "value": "Epoch:  15%"
          }
        },
        "c383d13d01594dccba643921dec97e40": {
          "model_module": "@jupyter-widgets/controls",
          "model_module_version": "1.5.0",
          "model_name": "FloatProgressModel",
          "state": {
            "_dom_classes": [],
            "_model_module": "@jupyter-widgets/controls",
            "_model_module_version": "1.5.0",
            "_model_name": "FloatProgressModel",
            "_view_count": null,
            "_view_module": "@jupyter-widgets/controls",
            "_view_module_version": "1.5.0",
            "_view_name": "ProgressView",
            "bar_style": "",
            "description": "",
            "description_tooltip": null,
            "layout": "IPY_MODEL_43f05496e8ab4644b5bf544d442a1244",
            "max": 5,
            "min": 0,
            "orientation": "horizontal",
            "style": "IPY_MODEL_e488020de2c8431b9a07e399013fbe4a",
            "value": 5
          }
        },
        "c3cd28f79694419192fa14f621a84f8c": {
          "model_module": "@jupyter-widgets/base",
          "model_module_version": "1.2.0",
          "model_name": "LayoutModel",
          "state": {
            "_model_module": "@jupyter-widgets/base",
            "_model_module_version": "1.2.0",
            "_model_name": "LayoutModel",
            "_view_count": null,
            "_view_module": "@jupyter-widgets/base",
            "_view_module_version": "1.2.0",
            "_view_name": "LayoutView",
            "align_content": null,
            "align_items": null,
            "align_self": null,
            "border": null,
            "bottom": null,
            "display": null,
            "flex": null,
            "flex_flow": null,
            "grid_area": null,
            "grid_auto_columns": null,
            "grid_auto_flow": null,
            "grid_auto_rows": null,
            "grid_column": null,
            "grid_gap": null,
            "grid_row": null,
            "grid_template_areas": null,
            "grid_template_columns": null,
            "grid_template_rows": null,
            "height": null,
            "justify_content": null,
            "justify_items": null,
            "left": null,
            "margin": null,
            "max_height": null,
            "max_width": null,
            "min_height": null,
            "min_width": null,
            "object_fit": null,
            "object_position": null,
            "order": null,
            "overflow": null,
            "overflow_x": null,
            "overflow_y": null,
            "padding": null,
            "right": null,
            "top": null,
            "visibility": null,
            "width": null
          }
        },
        "c4147903f89a4ed0ac0542b229de00ef": {
          "model_module": "@jupyter-widgets/base",
          "model_module_version": "1.2.0",
          "model_name": "LayoutModel",
          "state": {
            "_model_module": "@jupyter-widgets/base",
            "_model_module_version": "1.2.0",
            "_model_name": "LayoutModel",
            "_view_count": null,
            "_view_module": "@jupyter-widgets/base",
            "_view_module_version": "1.2.0",
            "_view_name": "LayoutView",
            "align_content": null,
            "align_items": null,
            "align_self": null,
            "border": null,
            "bottom": null,
            "display": null,
            "flex": null,
            "flex_flow": null,
            "grid_area": null,
            "grid_auto_columns": null,
            "grid_auto_flow": null,
            "grid_auto_rows": null,
            "grid_column": null,
            "grid_gap": null,
            "grid_row": null,
            "grid_template_areas": null,
            "grid_template_columns": null,
            "grid_template_rows": null,
            "height": null,
            "justify_content": null,
            "justify_items": null,
            "left": null,
            "margin": null,
            "max_height": null,
            "max_width": null,
            "min_height": null,
            "min_width": null,
            "object_fit": null,
            "object_position": null,
            "order": null,
            "overflow": null,
            "overflow_x": null,
            "overflow_y": null,
            "padding": null,
            "right": null,
            "top": null,
            "visibility": "hidden",
            "width": null
          }
        },
        "c5aaf1894e7b4459be86e86c1396b5f8": {
          "model_module": "@jupyter-widgets/controls",
          "model_module_version": "1.5.0",
          "model_name": "FloatProgressModel",
          "state": {
            "_dom_classes": [],
            "_model_module": "@jupyter-widgets/controls",
            "_model_module_version": "1.5.0",
            "_model_name": "FloatProgressModel",
            "_view_count": null,
            "_view_module": "@jupyter-widgets/controls",
            "_view_module_version": "1.5.0",
            "_view_name": "ProgressView",
            "bar_style": "",
            "description": "",
            "description_tooltip": null,
            "layout": "IPY_MODEL_f0601be76ee04640862cedb9a21f0ca1",
            "max": 100,
            "min": 0,
            "orientation": "horizontal",
            "style": "IPY_MODEL_89d6a9e16f7c471394f2d7188c735e10",
            "value": 100
          }
        },
        "c68e33cb5b9c47a29750ebae10d491f6": {
          "model_module": "@jupyter-widgets/controls",
          "model_module_version": "1.5.0",
          "model_name": "HTMLModel",
          "state": {
            "_dom_classes": [],
            "_model_module": "@jupyter-widgets/controls",
            "_model_module_version": "1.5.0",
            "_model_name": "HTMLModel",
            "_view_count": null,
            "_view_module": "@jupyter-widgets/controls",
            "_view_module_version": "1.5.0",
            "_view_name": "HTMLView",
            "description": "",
            "description_tooltip": null,
            "layout": "IPY_MODEL_bf63988768164be28da7c388eed7bcf2",
            "placeholder": "​",
            "style": "IPY_MODEL_73b687c713164b86bf4e51c41b86181e",
            "value": " 5/5 [02:32&lt;00:00, 30.47s/it]"
          }
        },
        "c771c0d9e86b44bfb3c8c069b488295f": {
          "model_module": "@jupyter-widgets/base",
          "model_module_version": "1.2.0",
          "model_name": "LayoutModel",
          "state": {
            "_model_module": "@jupyter-widgets/base",
            "_model_module_version": "1.2.0",
            "_model_name": "LayoutModel",
            "_view_count": null,
            "_view_module": "@jupyter-widgets/base",
            "_view_module_version": "1.2.0",
            "_view_name": "LayoutView",
            "align_content": null,
            "align_items": null,
            "align_self": null,
            "border": null,
            "bottom": null,
            "display": null,
            "flex": null,
            "flex_flow": null,
            "grid_area": null,
            "grid_auto_columns": null,
            "grid_auto_flow": null,
            "grid_auto_rows": null,
            "grid_column": null,
            "grid_gap": null,
            "grid_row": null,
            "grid_template_areas": null,
            "grid_template_columns": null,
            "grid_template_rows": null,
            "height": null,
            "justify_content": null,
            "justify_items": null,
            "left": null,
            "margin": null,
            "max_height": null,
            "max_width": null,
            "min_height": null,
            "min_width": null,
            "object_fit": null,
            "object_position": null,
            "order": null,
            "overflow": null,
            "overflow_x": null,
            "overflow_y": null,
            "padding": null,
            "right": null,
            "top": null,
            "visibility": "hidden",
            "width": null
          }
        },
        "c841f733ddd64b4bbce8565f4c40cf6d": {
          "model_module": "@jupyter-widgets/controls",
          "model_module_version": "1.5.0",
          "model_name": "DescriptionStyleModel",
          "state": {
            "_model_module": "@jupyter-widgets/controls",
            "_model_module_version": "1.5.0",
            "_model_name": "DescriptionStyleModel",
            "_view_count": null,
            "_view_module": "@jupyter-widgets/base",
            "_view_module_version": "1.2.0",
            "_view_name": "StyleView",
            "description_width": ""
          }
        },
        "ca4fb363164745d68e8d9f4f7e767bf9": {
          "model_module": "@jupyter-widgets/base",
          "model_module_version": "1.2.0",
          "model_name": "LayoutModel",
          "state": {
            "_model_module": "@jupyter-widgets/base",
            "_model_module_version": "1.2.0",
            "_model_name": "LayoutModel",
            "_view_count": null,
            "_view_module": "@jupyter-widgets/base",
            "_view_module_version": "1.2.0",
            "_view_name": "LayoutView",
            "align_content": null,
            "align_items": null,
            "align_self": null,
            "border": null,
            "bottom": null,
            "display": null,
            "flex": null,
            "flex_flow": null,
            "grid_area": null,
            "grid_auto_columns": null,
            "grid_auto_flow": null,
            "grid_auto_rows": null,
            "grid_column": null,
            "grid_gap": null,
            "grid_row": null,
            "grid_template_areas": null,
            "grid_template_columns": null,
            "grid_template_rows": null,
            "height": null,
            "justify_content": null,
            "justify_items": null,
            "left": null,
            "margin": null,
            "max_height": null,
            "max_width": null,
            "min_height": null,
            "min_width": null,
            "object_fit": null,
            "object_position": null,
            "order": null,
            "overflow": null,
            "overflow_x": null,
            "overflow_y": null,
            "padding": null,
            "right": null,
            "top": null,
            "visibility": null,
            "width": null
          }
        },
        "cc1cc65d29ef4c4bab91c34d53c2ac8b": {
          "model_module": "@jupyter-widgets/controls",
          "model_module_version": "1.5.0",
          "model_name": "ProgressStyleModel",
          "state": {
            "_model_module": "@jupyter-widgets/controls",
            "_model_module_version": "1.5.0",
            "_model_name": "ProgressStyleModel",
            "_view_count": null,
            "_view_module": "@jupyter-widgets/base",
            "_view_module_version": "1.2.0",
            "_view_name": "StyleView",
            "bar_color": null,
            "description_width": ""
          }
        },
        "cc4c44ca88c147d28b0fa10df5be602c": {
          "model_module": "@jupyter-widgets/controls",
          "model_module_version": "1.5.0",
          "model_name": "HTMLModel",
          "state": {
            "_dom_classes": [],
            "_model_module": "@jupyter-widgets/controls",
            "_model_module_version": "1.5.0",
            "_model_name": "HTMLModel",
            "_view_count": null,
            "_view_module": "@jupyter-widgets/controls",
            "_view_module_version": "1.5.0",
            "_view_name": "HTMLView",
            "description": "",
            "description_tooltip": null,
            "layout": "IPY_MODEL_47368149c8094c3b97f2b438fd770770",
            "placeholder": "​",
            "style": "IPY_MODEL_4e5b9d27a2a74733a8da68b442279c19",
            "value": " 5/5 [01:53&lt;00:00, 22.70s/it]"
          }
        },
        "cfbfe1da4f85446f9578366485422d8c": {
          "model_module": "@jupyter-widgets/controls",
          "model_module_version": "1.5.0",
          "model_name": "HTMLModel",
          "state": {
            "_dom_classes": [],
            "_model_module": "@jupyter-widgets/controls",
            "_model_module_version": "1.5.0",
            "_model_name": "HTMLModel",
            "_view_count": null,
            "_view_module": "@jupyter-widgets/controls",
            "_view_module_version": "1.5.0",
            "_view_name": "HTMLView",
            "description": "",
            "description_tooltip": null,
            "layout": "IPY_MODEL_ca4fb363164745d68e8d9f4f7e767bf9",
            "placeholder": "​",
            "style": "IPY_MODEL_1877e5e007174d61853df4a60bdd02d1",
            "value": "Training: 100%"
          }
        },
        "d1a0b77df13743e699c23f6ed5fc8f38": {
          "model_module": "@jupyter-widgets/base",
          "model_module_version": "1.2.0",
          "model_name": "LayoutModel",
          "state": {
            "_model_module": "@jupyter-widgets/base",
            "_model_module_version": "1.2.0",
            "_model_name": "LayoutModel",
            "_view_count": null,
            "_view_module": "@jupyter-widgets/base",
            "_view_module_version": "1.2.0",
            "_view_name": "LayoutView",
            "align_content": null,
            "align_items": null,
            "align_self": null,
            "border": null,
            "bottom": null,
            "display": null,
            "flex": null,
            "flex_flow": null,
            "grid_area": null,
            "grid_auto_columns": null,
            "grid_auto_flow": null,
            "grid_auto_rows": null,
            "grid_column": null,
            "grid_gap": null,
            "grid_row": null,
            "grid_template_areas": null,
            "grid_template_columns": null,
            "grid_template_rows": null,
            "height": null,
            "justify_content": null,
            "justify_items": null,
            "left": null,
            "margin": null,
            "max_height": null,
            "max_width": null,
            "min_height": null,
            "min_width": null,
            "object_fit": null,
            "object_position": null,
            "order": null,
            "overflow": null,
            "overflow_x": null,
            "overflow_y": null,
            "padding": null,
            "right": null,
            "top": null,
            "visibility": null,
            "width": null
          }
        },
        "d2ce25838b5a48c7bdb7a8a9b36c11b6": {
          "model_module": "@jupyter-widgets/controls",
          "model_module_version": "1.5.0",
          "model_name": "FloatProgressModel",
          "state": {
            "_dom_classes": [],
            "_model_module": "@jupyter-widgets/controls",
            "_model_module_version": "1.5.0",
            "_model_name": "FloatProgressModel",
            "_view_count": null,
            "_view_module": "@jupyter-widgets/controls",
            "_view_module_version": "1.5.0",
            "_view_name": "ProgressView",
            "bar_style": "danger",
            "description": "",
            "description_tooltip": null,
            "layout": "IPY_MODEL_a31b8c0837724178ab7a833391fdb97c",
            "max": 20,
            "min": 0,
            "orientation": "horizontal",
            "style": "IPY_MODEL_290120c1c54843e4b32600ff0b993a83",
            "value": 3
          }
        },
        "d337772c25a54b74a8fb5f4ded922948": {
          "model_module": "@jupyter-widgets/base",
          "model_module_version": "1.2.0",
          "model_name": "LayoutModel",
          "state": {
            "_model_module": "@jupyter-widgets/base",
            "_model_module_version": "1.2.0",
            "_model_name": "LayoutModel",
            "_view_count": null,
            "_view_module": "@jupyter-widgets/base",
            "_view_module_version": "1.2.0",
            "_view_name": "LayoutView",
            "align_content": null,
            "align_items": null,
            "align_self": null,
            "border": null,
            "bottom": null,
            "display": null,
            "flex": null,
            "flex_flow": null,
            "grid_area": null,
            "grid_auto_columns": null,
            "grid_auto_flow": null,
            "grid_auto_rows": null,
            "grid_column": null,
            "grid_gap": null,
            "grid_row": null,
            "grid_template_areas": null,
            "grid_template_columns": null,
            "grid_template_rows": null,
            "height": null,
            "justify_content": null,
            "justify_items": null,
            "left": null,
            "margin": null,
            "max_height": null,
            "max_width": null,
            "min_height": null,
            "min_width": null,
            "object_fit": null,
            "object_position": null,
            "order": null,
            "overflow": null,
            "overflow_x": null,
            "overflow_y": null,
            "padding": null,
            "right": null,
            "top": null,
            "visibility": null,
            "width": null
          }
        },
        "d3d462f2be2749889a14d6f27d926953": {
          "model_module": "@jupyter-widgets/base",
          "model_module_version": "1.2.0",
          "model_name": "LayoutModel",
          "state": {
            "_model_module": "@jupyter-widgets/base",
            "_model_module_version": "1.2.0",
            "_model_name": "LayoutModel",
            "_view_count": null,
            "_view_module": "@jupyter-widgets/base",
            "_view_module_version": "1.2.0",
            "_view_name": "LayoutView",
            "align_content": null,
            "align_items": null,
            "align_self": null,
            "border": null,
            "bottom": null,
            "display": null,
            "flex": null,
            "flex_flow": null,
            "grid_area": null,
            "grid_auto_columns": null,
            "grid_auto_flow": null,
            "grid_auto_rows": null,
            "grid_column": null,
            "grid_gap": null,
            "grid_row": null,
            "grid_template_areas": null,
            "grid_template_columns": null,
            "grid_template_rows": null,
            "height": null,
            "justify_content": null,
            "justify_items": null,
            "left": null,
            "margin": null,
            "max_height": null,
            "max_width": null,
            "min_height": null,
            "min_width": null,
            "object_fit": null,
            "object_position": null,
            "order": null,
            "overflow": null,
            "overflow_x": null,
            "overflow_y": null,
            "padding": null,
            "right": null,
            "top": null,
            "visibility": "hidden",
            "width": null
          }
        },
        "d4275e2cad9c4e559cc9d1349ff9d389": {
          "model_module": "@jupyter-widgets/controls",
          "model_module_version": "1.5.0",
          "model_name": "FloatProgressModel",
          "state": {
            "_dom_classes": [],
            "_model_module": "@jupyter-widgets/controls",
            "_model_module_version": "1.5.0",
            "_model_name": "FloatProgressModel",
            "_view_count": null,
            "_view_module": "@jupyter-widgets/controls",
            "_view_module_version": "1.5.0",
            "_view_name": "ProgressView",
            "bar_style": "",
            "description": "",
            "description_tooltip": null,
            "layout": "IPY_MODEL_7c938a53d76840ddbb2862d5a9d9562b",
            "max": 5,
            "min": 0,
            "orientation": "horizontal",
            "style": "IPY_MODEL_3fc15fb7588e43bd8c9e77cb7d1cc5b9",
            "value": 5
          }
        },
        "d72deb31dc874356a328f4d11a41034e": {
          "model_module": "@jupyter-widgets/controls",
          "model_module_version": "1.5.0",
          "model_name": "DescriptionStyleModel",
          "state": {
            "_model_module": "@jupyter-widgets/controls",
            "_model_module_version": "1.5.0",
            "_model_name": "DescriptionStyleModel",
            "_view_count": null,
            "_view_module": "@jupyter-widgets/base",
            "_view_module_version": "1.2.0",
            "_view_name": "StyleView",
            "description_width": ""
          }
        },
        "d86615520aa042bf8752040c0512db16": {
          "model_module": "@jupyter-widgets/controls",
          "model_module_version": "1.5.0",
          "model_name": "FloatProgressModel",
          "state": {
            "_dom_classes": [],
            "_model_module": "@jupyter-widgets/controls",
            "_model_module_version": "1.5.0",
            "_model_name": "FloatProgressModel",
            "_view_count": null,
            "_view_module": "@jupyter-widgets/controls",
            "_view_module_version": "1.5.0",
            "_view_name": "ProgressView",
            "bar_style": "danger",
            "description": "",
            "description_tooltip": null,
            "layout": "IPY_MODEL_85a4225f19734019b907ad786493032e",
            "max": 10,
            "min": 0,
            "orientation": "horizontal",
            "style": "IPY_MODEL_2d22a5b9e7034484874b4da70086248a",
            "value": 0
          }
        },
        "d91dcdcea05241a5a29afcd278fa82d0": {
          "model_module": "@jupyter-widgets/controls",
          "model_module_version": "1.5.0",
          "model_name": "HBoxModel",
          "state": {
            "_dom_classes": [],
            "_model_module": "@jupyter-widgets/controls",
            "_model_module_version": "1.5.0",
            "_model_name": "HBoxModel",
            "_view_count": null,
            "_view_module": "@jupyter-widgets/controls",
            "_view_module_version": "1.5.0",
            "_view_name": "HBoxView",
            "box_style": "",
            "children": [
              "IPY_MODEL_207ecbe74fd94c9bbee49e78bccbb114",
              "IPY_MODEL_bbb34e6c2b004d339fb607f79f9da62a",
              "IPY_MODEL_48b6bc6c63064396934ea4d0888a5910"
            ],
            "layout": "IPY_MODEL_e7b662617f3b467a81680944430c0189"
          }
        },
        "db6ece1f110f4c5bbbdb341aaafa27eb": {
          "model_module": "@jupyter-widgets/controls",
          "model_module_version": "1.5.0",
          "model_name": "HBoxModel",
          "state": {
            "_dom_classes": [],
            "_model_module": "@jupyter-widgets/controls",
            "_model_module_version": "1.5.0",
            "_model_name": "HBoxModel",
            "_view_count": null,
            "_view_module": "@jupyter-widgets/controls",
            "_view_module_version": "1.5.0",
            "_view_name": "HBoxView",
            "box_style": "",
            "children": [
              "IPY_MODEL_6ad2e47dccfe4f829e1b0f07bc530c04",
              "IPY_MODEL_9357a69d31af440fbfca4b0f4ad6dcf9",
              "IPY_MODEL_6884f7f898634bbc9dbc0a4b0ae75ce3"
            ],
            "layout": "IPY_MODEL_8a006181ac724a0184ede4353f0be080"
          }
        },
        "df42ff91d8234c3c9cae54e194302063": {
          "model_module": "@jupyter-widgets/base",
          "model_module_version": "1.2.0",
          "model_name": "LayoutModel",
          "state": {
            "_model_module": "@jupyter-widgets/base",
            "_model_module_version": "1.2.0",
            "_model_name": "LayoutModel",
            "_view_count": null,
            "_view_module": "@jupyter-widgets/base",
            "_view_module_version": "1.2.0",
            "_view_name": "LayoutView",
            "align_content": null,
            "align_items": null,
            "align_self": null,
            "border": null,
            "bottom": null,
            "display": null,
            "flex": null,
            "flex_flow": null,
            "grid_area": null,
            "grid_auto_columns": null,
            "grid_auto_flow": null,
            "grid_auto_rows": null,
            "grid_column": null,
            "grid_gap": null,
            "grid_row": null,
            "grid_template_areas": null,
            "grid_template_columns": null,
            "grid_template_rows": null,
            "height": null,
            "justify_content": null,
            "justify_items": null,
            "left": null,
            "margin": null,
            "max_height": null,
            "max_width": null,
            "min_height": null,
            "min_width": null,
            "object_fit": null,
            "object_position": null,
            "order": null,
            "overflow": null,
            "overflow_x": null,
            "overflow_y": null,
            "padding": null,
            "right": null,
            "top": null,
            "visibility": null,
            "width": null
          }
        },
        "e0f5a8f8c3b0487eb0f2686b5157b724": {
          "model_module": "@jupyter-widgets/controls",
          "model_module_version": "1.5.0",
          "model_name": "HTMLModel",
          "state": {
            "_dom_classes": [],
            "_model_module": "@jupyter-widgets/controls",
            "_model_module_version": "1.5.0",
            "_model_name": "HTMLModel",
            "_view_count": null,
            "_view_module": "@jupyter-widgets/controls",
            "_view_module_version": "1.5.0",
            "_view_name": "HTMLView",
            "description": "",
            "description_tooltip": null,
            "layout": "IPY_MODEL_9452791e02ae40f2881b830219274021",
            "placeholder": "​",
            "style": "IPY_MODEL_383a524e4608457cbcd1989acbc57c99",
            "value": "Training: 100%"
          }
        },
        "e27dd60fcfd64dc182691b9d42c20867": {
          "model_module": "@jupyter-widgets/controls",
          "model_module_version": "1.5.0",
          "model_name": "HBoxModel",
          "state": {
            "_dom_classes": [],
            "_model_module": "@jupyter-widgets/controls",
            "_model_module_version": "1.5.0",
            "_model_name": "HBoxModel",
            "_view_count": null,
            "_view_module": "@jupyter-widgets/controls",
            "_view_module_version": "1.5.0",
            "_view_name": "HBoxView",
            "box_style": "",
            "children": [
              "IPY_MODEL_b3f3a97f3fe74d93981caf4b92c78a0b",
              "IPY_MODEL_d86615520aa042bf8752040c0512db16",
              "IPY_MODEL_3a71a02cc09344a8b2283844684781ee"
            ],
            "layout": "IPY_MODEL_e870e28c930a4d16b4768f27d6a77283"
          }
        },
        "e2f3bc2420fb42faaff60417cc475b4f": {
          "model_module": "@jupyter-widgets/controls",
          "model_module_version": "1.5.0",
          "model_name": "FloatProgressModel",
          "state": {
            "_dom_classes": [],
            "_model_module": "@jupyter-widgets/controls",
            "_model_module_version": "1.5.0",
            "_model_name": "FloatProgressModel",
            "_view_count": null,
            "_view_module": "@jupyter-widgets/controls",
            "_view_module_version": "1.5.0",
            "_view_name": "ProgressView",
            "bar_style": "",
            "description": "",
            "description_tooltip": null,
            "layout": "IPY_MODEL_a7c0dcf1c10a4389b59715e3985b7fdc",
            "max": 5,
            "min": 0,
            "orientation": "horizontal",
            "style": "IPY_MODEL_fa795271c3af4ff6a2005befc9ec43df",
            "value": 5
          }
        },
        "e488020de2c8431b9a07e399013fbe4a": {
          "model_module": "@jupyter-widgets/controls",
          "model_module_version": "1.5.0",
          "model_name": "ProgressStyleModel",
          "state": {
            "_model_module": "@jupyter-widgets/controls",
            "_model_module_version": "1.5.0",
            "_model_name": "ProgressStyleModel",
            "_view_count": null,
            "_view_module": "@jupyter-widgets/base",
            "_view_module_version": "1.2.0",
            "_view_name": "StyleView",
            "bar_color": null,
            "description_width": ""
          }
        },
        "e693224d838a4470ae4f436174283991": {
          "model_module": "@jupyter-widgets/controls",
          "model_module_version": "1.5.0",
          "model_name": "ProgressStyleModel",
          "state": {
            "_model_module": "@jupyter-widgets/controls",
            "_model_module_version": "1.5.0",
            "_model_name": "ProgressStyleModel",
            "_view_count": null,
            "_view_module": "@jupyter-widgets/base",
            "_view_module_version": "1.2.0",
            "_view_name": "StyleView",
            "bar_color": null,
            "description_width": ""
          }
        },
        "e79eb8bf1bd040cc801f4aac2d05042c": {
          "model_module": "@jupyter-widgets/controls",
          "model_module_version": "1.5.0",
          "model_name": "ProgressStyleModel",
          "state": {
            "_model_module": "@jupyter-widgets/controls",
            "_model_module_version": "1.5.0",
            "_model_name": "ProgressStyleModel",
            "_view_count": null,
            "_view_module": "@jupyter-widgets/base",
            "_view_module_version": "1.2.0",
            "_view_name": "StyleView",
            "bar_color": null,
            "description_width": ""
          }
        },
        "e7b662617f3b467a81680944430c0189": {
          "model_module": "@jupyter-widgets/base",
          "model_module_version": "1.2.0",
          "model_name": "LayoutModel",
          "state": {
            "_model_module": "@jupyter-widgets/base",
            "_model_module_version": "1.2.0",
            "_model_name": "LayoutModel",
            "_view_count": null,
            "_view_module": "@jupyter-widgets/base",
            "_view_module_version": "1.2.0",
            "_view_name": "LayoutView",
            "align_content": null,
            "align_items": null,
            "align_self": null,
            "border": null,
            "bottom": null,
            "display": null,
            "flex": null,
            "flex_flow": null,
            "grid_area": null,
            "grid_auto_columns": null,
            "grid_auto_flow": null,
            "grid_auto_rows": null,
            "grid_column": null,
            "grid_gap": null,
            "grid_row": null,
            "grid_template_areas": null,
            "grid_template_columns": null,
            "grid_template_rows": null,
            "height": null,
            "justify_content": null,
            "justify_items": null,
            "left": null,
            "margin": null,
            "max_height": null,
            "max_width": null,
            "min_height": null,
            "min_width": null,
            "object_fit": null,
            "object_position": null,
            "order": null,
            "overflow": null,
            "overflow_x": null,
            "overflow_y": null,
            "padding": null,
            "right": null,
            "top": null,
            "visibility": "hidden",
            "width": null
          }
        },
        "e870e28c930a4d16b4768f27d6a77283": {
          "model_module": "@jupyter-widgets/base",
          "model_module_version": "1.2.0",
          "model_name": "LayoutModel",
          "state": {
            "_model_module": "@jupyter-widgets/base",
            "_model_module_version": "1.2.0",
            "_model_name": "LayoutModel",
            "_view_count": null,
            "_view_module": "@jupyter-widgets/base",
            "_view_module_version": "1.2.0",
            "_view_name": "LayoutView",
            "align_content": null,
            "align_items": null,
            "align_self": null,
            "border": null,
            "bottom": null,
            "display": null,
            "flex": null,
            "flex_flow": null,
            "grid_area": null,
            "grid_auto_columns": null,
            "grid_auto_flow": null,
            "grid_auto_rows": null,
            "grid_column": null,
            "grid_gap": null,
            "grid_row": null,
            "grid_template_areas": null,
            "grid_template_columns": null,
            "grid_template_rows": null,
            "height": null,
            "justify_content": null,
            "justify_items": null,
            "left": null,
            "margin": null,
            "max_height": null,
            "max_width": null,
            "min_height": null,
            "min_width": null,
            "object_fit": null,
            "object_position": null,
            "order": null,
            "overflow": null,
            "overflow_x": null,
            "overflow_y": null,
            "padding": null,
            "right": null,
            "top": null,
            "visibility": null,
            "width": null
          }
        },
        "ed01b9a2c71045b5a32ae931375fd530": {
          "model_module": "@jupyter-widgets/base",
          "model_module_version": "1.2.0",
          "model_name": "LayoutModel",
          "state": {
            "_model_module": "@jupyter-widgets/base",
            "_model_module_version": "1.2.0",
            "_model_name": "LayoutModel",
            "_view_count": null,
            "_view_module": "@jupyter-widgets/base",
            "_view_module_version": "1.2.0",
            "_view_name": "LayoutView",
            "align_content": null,
            "align_items": null,
            "align_self": null,
            "border": null,
            "bottom": null,
            "display": null,
            "flex": null,
            "flex_flow": null,
            "grid_area": null,
            "grid_auto_columns": null,
            "grid_auto_flow": null,
            "grid_auto_rows": null,
            "grid_column": null,
            "grid_gap": null,
            "grid_row": null,
            "grid_template_areas": null,
            "grid_template_columns": null,
            "grid_template_rows": null,
            "height": null,
            "justify_content": null,
            "justify_items": null,
            "left": null,
            "margin": null,
            "max_height": null,
            "max_width": null,
            "min_height": null,
            "min_width": null,
            "object_fit": null,
            "object_position": null,
            "order": null,
            "overflow": null,
            "overflow_x": null,
            "overflow_y": null,
            "padding": null,
            "right": null,
            "top": null,
            "visibility": null,
            "width": null
          }
        },
        "ef5334ac18be434f8cec8267b1da13ad": {
          "model_module": "@jupyter-widgets/base",
          "model_module_version": "1.2.0",
          "model_name": "LayoutModel",
          "state": {
            "_model_module": "@jupyter-widgets/base",
            "_model_module_version": "1.2.0",
            "_model_name": "LayoutModel",
            "_view_count": null,
            "_view_module": "@jupyter-widgets/base",
            "_view_module_version": "1.2.0",
            "_view_name": "LayoutView",
            "align_content": null,
            "align_items": null,
            "align_self": null,
            "border": null,
            "bottom": null,
            "display": null,
            "flex": null,
            "flex_flow": null,
            "grid_area": null,
            "grid_auto_columns": null,
            "grid_auto_flow": null,
            "grid_auto_rows": null,
            "grid_column": null,
            "grid_gap": null,
            "grid_row": null,
            "grid_template_areas": null,
            "grid_template_columns": null,
            "grid_template_rows": null,
            "height": null,
            "justify_content": null,
            "justify_items": null,
            "left": null,
            "margin": null,
            "max_height": null,
            "max_width": null,
            "min_height": null,
            "min_width": null,
            "object_fit": null,
            "object_position": null,
            "order": null,
            "overflow": null,
            "overflow_x": null,
            "overflow_y": null,
            "padding": null,
            "right": null,
            "top": null,
            "visibility": null,
            "width": null
          }
        },
        "f0601be76ee04640862cedb9a21f0ca1": {
          "model_module": "@jupyter-widgets/base",
          "model_module_version": "1.2.0",
          "model_name": "LayoutModel",
          "state": {
            "_model_module": "@jupyter-widgets/base",
            "_model_module_version": "1.2.0",
            "_model_name": "LayoutModel",
            "_view_count": null,
            "_view_module": "@jupyter-widgets/base",
            "_view_module_version": "1.2.0",
            "_view_name": "LayoutView",
            "align_content": null,
            "align_items": null,
            "align_self": null,
            "border": null,
            "bottom": null,
            "display": null,
            "flex": null,
            "flex_flow": null,
            "grid_area": null,
            "grid_auto_columns": null,
            "grid_auto_flow": null,
            "grid_auto_rows": null,
            "grid_column": null,
            "grid_gap": null,
            "grid_row": null,
            "grid_template_areas": null,
            "grid_template_columns": null,
            "grid_template_rows": null,
            "height": null,
            "justify_content": null,
            "justify_items": null,
            "left": null,
            "margin": null,
            "max_height": null,
            "max_width": null,
            "min_height": null,
            "min_width": null,
            "object_fit": null,
            "object_position": null,
            "order": null,
            "overflow": null,
            "overflow_x": null,
            "overflow_y": null,
            "padding": null,
            "right": null,
            "top": null,
            "visibility": null,
            "width": null
          }
        },
        "f50867693af14910b779f3fb294848e7": {
          "model_module": "@jupyter-widgets/controls",
          "model_module_version": "1.5.0",
          "model_name": "FloatProgressModel",
          "state": {
            "_dom_classes": [],
            "_model_module": "@jupyter-widgets/controls",
            "_model_module_version": "1.5.0",
            "_model_name": "FloatProgressModel",
            "_view_count": null,
            "_view_module": "@jupyter-widgets/controls",
            "_view_module_version": "1.5.0",
            "_view_name": "ProgressView",
            "bar_style": "",
            "description": "",
            "description_tooltip": null,
            "layout": "IPY_MODEL_ed01b9a2c71045b5a32ae931375fd530",
            "max": 5,
            "min": 0,
            "orientation": "horizontal",
            "style": "IPY_MODEL_78e61ccc56064bb48e9101c44f09079e",
            "value": 5
          }
        },
        "f79dcf604de64521921c7e0ff9fea3a1": {
          "model_module": "@jupyter-widgets/base",
          "model_module_version": "1.2.0",
          "model_name": "LayoutModel",
          "state": {
            "_model_module": "@jupyter-widgets/base",
            "_model_module_version": "1.2.0",
            "_model_name": "LayoutModel",
            "_view_count": null,
            "_view_module": "@jupyter-widgets/base",
            "_view_module_version": "1.2.0",
            "_view_name": "LayoutView",
            "align_content": null,
            "align_items": null,
            "align_self": null,
            "border": null,
            "bottom": null,
            "display": null,
            "flex": null,
            "flex_flow": null,
            "grid_area": null,
            "grid_auto_columns": null,
            "grid_auto_flow": null,
            "grid_auto_rows": null,
            "grid_column": null,
            "grid_gap": null,
            "grid_row": null,
            "grid_template_areas": null,
            "grid_template_columns": null,
            "grid_template_rows": null,
            "height": null,
            "justify_content": null,
            "justify_items": null,
            "left": null,
            "margin": null,
            "max_height": null,
            "max_width": null,
            "min_height": null,
            "min_width": null,
            "object_fit": null,
            "object_position": null,
            "order": null,
            "overflow": null,
            "overflow_x": null,
            "overflow_y": null,
            "padding": null,
            "right": null,
            "top": null,
            "visibility": null,
            "width": null
          }
        },
        "f8039dacf28b4129ae528e69ef1caaab": {
          "model_module": "@jupyter-widgets/controls",
          "model_module_version": "1.5.0",
          "model_name": "HBoxModel",
          "state": {
            "_dom_classes": [],
            "_model_module": "@jupyter-widgets/controls",
            "_model_module_version": "1.5.0",
            "_model_name": "HBoxModel",
            "_view_count": null,
            "_view_module": "@jupyter-widgets/controls",
            "_view_module_version": "1.5.0",
            "_view_name": "HBoxView",
            "box_style": "",
            "children": [
              "IPY_MODEL_c376880bf4254311a4241386a27faa9e",
              "IPY_MODEL_d2ce25838b5a48c7bdb7a8a9b36c11b6",
              "IPY_MODEL_2dcf7b78f9354239bd3c76019fcc9b4c"
            ],
            "layout": "IPY_MODEL_0d4eade8ef9a4017b83a8eb49fd6ff71"
          }
        },
        "fa795271c3af4ff6a2005befc9ec43df": {
          "model_module": "@jupyter-widgets/controls",
          "model_module_version": "1.5.0",
          "model_name": "ProgressStyleModel",
          "state": {
            "_model_module": "@jupyter-widgets/controls",
            "_model_module_version": "1.5.0",
            "_model_name": "ProgressStyleModel",
            "_view_count": null,
            "_view_module": "@jupyter-widgets/base",
            "_view_module_version": "1.2.0",
            "_view_name": "StyleView",
            "bar_color": null,
            "description_width": ""
          }
        },
        "fa81678bf787411ea7ee221ed165cd42": {
          "model_module": "@jupyter-widgets/controls",
          "model_module_version": "1.5.0",
          "model_name": "HTMLModel",
          "state": {
            "_dom_classes": [],
            "_model_module": "@jupyter-widgets/controls",
            "_model_module_version": "1.5.0",
            "_model_name": "HTMLModel",
            "_view_count": null,
            "_view_module": "@jupyter-widgets/controls",
            "_view_module_version": "1.5.0",
            "_view_name": "HTMLView",
            "description": "",
            "description_tooltip": null,
            "layout": "IPY_MODEL_2c1944399ed44975b541699562afdda8",
            "placeholder": "​",
            "style": "IPY_MODEL_7bd1bcff2cba4a91a24ae6cee6e7c55c",
            "value": "Training: 100%"
          }
        },
        "fa9df3b8eff746248ede173332693c8e": {
          "model_module": "@jupyter-widgets/controls",
          "model_module_version": "1.5.0",
          "model_name": "DescriptionStyleModel",
          "state": {
            "_model_module": "@jupyter-widgets/controls",
            "_model_module_version": "1.5.0",
            "_model_name": "DescriptionStyleModel",
            "_view_count": null,
            "_view_module": "@jupyter-widgets/base",
            "_view_module_version": "1.2.0",
            "_view_name": "StyleView",
            "description_width": ""
          }
        },
        "fb879be9e7ff407a8a5d6cb3136cf539": {
          "model_module": "@jupyter-widgets/controls",
          "model_module_version": "1.5.0",
          "model_name": "DescriptionStyleModel",
          "state": {
            "_model_module": "@jupyter-widgets/controls",
            "_model_module_version": "1.5.0",
            "_model_name": "DescriptionStyleModel",
            "_view_count": null,
            "_view_module": "@jupyter-widgets/base",
            "_view_module_version": "1.2.0",
            "_view_name": "StyleView",
            "description_width": ""
          }
        },
        "fb8904b0f1c542149031f60f99a65067": {
          "model_module": "@jupyter-widgets/base",
          "model_module_version": "1.2.0",
          "model_name": "LayoutModel",
          "state": {
            "_model_module": "@jupyter-widgets/base",
            "_model_module_version": "1.2.0",
            "_model_name": "LayoutModel",
            "_view_count": null,
            "_view_module": "@jupyter-widgets/base",
            "_view_module_version": "1.2.0",
            "_view_name": "LayoutView",
            "align_content": null,
            "align_items": null,
            "align_self": null,
            "border": null,
            "bottom": null,
            "display": null,
            "flex": null,
            "flex_flow": null,
            "grid_area": null,
            "grid_auto_columns": null,
            "grid_auto_flow": null,
            "grid_auto_rows": null,
            "grid_column": null,
            "grid_gap": null,
            "grid_row": null,
            "grid_template_areas": null,
            "grid_template_columns": null,
            "grid_template_rows": null,
            "height": null,
            "justify_content": null,
            "justify_items": null,
            "left": null,
            "margin": null,
            "max_height": null,
            "max_width": null,
            "min_height": null,
            "min_width": null,
            "object_fit": null,
            "object_position": null,
            "order": null,
            "overflow": null,
            "overflow_x": null,
            "overflow_y": null,
            "padding": null,
            "right": null,
            "top": null,
            "visibility": null,
            "width": null
          }
        },
        "fbc03877773940e88c89c52e7e83fc60": {
          "model_module": "@jupyter-widgets/controls",
          "model_module_version": "1.5.0",
          "model_name": "ProgressStyleModel",
          "state": {
            "_model_module": "@jupyter-widgets/controls",
            "_model_module_version": "1.5.0",
            "_model_name": "ProgressStyleModel",
            "_view_count": null,
            "_view_module": "@jupyter-widgets/base",
            "_view_module_version": "1.2.0",
            "_view_name": "StyleView",
            "bar_color": null,
            "description_width": ""
          }
        }
      }
    }
  },
  "nbformat": 4,
  "nbformat_minor": 5
}
