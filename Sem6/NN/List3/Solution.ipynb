{
  "cells": [
    {
      "cell_type": "markdown",
      "id": "5d7da195",
      "metadata": {
        "id": "5d7da195"
      },
      "source": [
        "# Q&A\n",
        "* how to determine data split between train, validation and test sets? Since we cannot use the test set for any observation, is it even possible?  \n",
        "* is there conv3d, to use for the viedo data?\n",
        "* maxpool vs avgpool?\n",
        "* why big filters do not improve the performance by much?\n",
        "* how to manage memory correctly? because i think that my current code does generate some trash, that is noe beeing removes (as from time to time i use all available memory, but it appears to be rather random)"
      ]
    },
    {
      "cell_type": "markdown",
      "id": "e98eeaba",
      "metadata": {
        "id": "e98eeaba"
      },
      "source": [
        "# Setup"
      ]
    },
    {
      "cell_type": "markdown",
      "id": "e0358b4a",
      "metadata": {
        "id": "e0358b4a"
      },
      "source": [
        "## Libraries"
      ]
    },
    {
      "cell_type": "code",
      "execution_count": 1,
      "id": "c858342a",
      "metadata": {
        "id": "c858342a"
      },
      "outputs": [],
      "source": [
        "%matplotlib inline"
      ]
    },
    {
      "cell_type": "code",
      "execution_count": 2,
      "id": "86fbd696",
      "metadata": {
        "colab": {
          "base_uri": "https://localhost:8080/",
          "height": 0
        },
        "id": "86fbd696",
        "outputId": "3947a4ea-f727-4507-a2e6-29a031312fb3"
      },
      "outputs": [
        {
          "output_type": "stream",
          "name": "stdout",
          "text": [
            "Requirement already satisfied: matplotlib in /usr/local/lib/python3.11/dist-packages (3.10.0)\n",
            "Requirement already satisfied: torch in /usr/local/lib/python3.11/dist-packages (2.6.0+cu124)\n",
            "Requirement already satisfied: torchvision in /usr/local/lib/python3.11/dist-packages (0.21.0+cu124)\n",
            "Requirement already satisfied: numpy in /usr/local/lib/python3.11/dist-packages (2.0.2)\n",
            "Requirement already satisfied: pandas in /usr/local/lib/python3.11/dist-packages (2.2.2)\n",
            "Requirement already satisfied: scikit-learn in /usr/local/lib/python3.11/dist-packages (1.6.1)\n",
            "Requirement already satisfied: wandb in /usr/local/lib/python3.11/dist-packages (0.19.9)\n",
            "Requirement already satisfied: contourpy>=1.0.1 in /usr/local/lib/python3.11/dist-packages (from matplotlib) (1.3.2)\n",
            "Requirement already satisfied: cycler>=0.10 in /usr/local/lib/python3.11/dist-packages (from matplotlib) (0.12.1)\n",
            "Requirement already satisfied: fonttools>=4.22.0 in /usr/local/lib/python3.11/dist-packages (from matplotlib) (4.57.0)\n",
            "Requirement already satisfied: kiwisolver>=1.3.1 in /usr/local/lib/python3.11/dist-packages (from matplotlib) (1.4.8)\n",
            "Requirement already satisfied: packaging>=20.0 in /usr/local/lib/python3.11/dist-packages (from matplotlib) (24.2)\n",
            "Requirement already satisfied: pillow>=8 in /usr/local/lib/python3.11/dist-packages (from matplotlib) (11.1.0)\n",
            "Requirement already satisfied: pyparsing>=2.3.1 in /usr/local/lib/python3.11/dist-packages (from matplotlib) (3.2.3)\n",
            "Requirement already satisfied: python-dateutil>=2.7 in /usr/local/lib/python3.11/dist-packages (from matplotlib) (2.8.2)\n",
            "Requirement already satisfied: filelock in /usr/local/lib/python3.11/dist-packages (from torch) (3.18.0)\n",
            "Requirement already satisfied: typing-extensions>=4.10.0 in /usr/local/lib/python3.11/dist-packages (from torch) (4.13.2)\n",
            "Requirement already satisfied: networkx in /usr/local/lib/python3.11/dist-packages (from torch) (3.4.2)\n",
            "Requirement already satisfied: jinja2 in /usr/local/lib/python3.11/dist-packages (from torch) (3.1.6)\n",
            "Requirement already satisfied: fsspec in /usr/local/lib/python3.11/dist-packages (from torch) (2025.3.2)\n",
            "Requirement already satisfied: nvidia-cuda-nvrtc-cu12==12.4.127 in /usr/local/lib/python3.11/dist-packages (from torch) (12.4.127)\n",
            "Requirement already satisfied: nvidia-cuda-runtime-cu12==12.4.127 in /usr/local/lib/python3.11/dist-packages (from torch) (12.4.127)\n",
            "Requirement already satisfied: nvidia-cuda-cupti-cu12==12.4.127 in /usr/local/lib/python3.11/dist-packages (from torch) (12.4.127)\n",
            "Requirement already satisfied: nvidia-cudnn-cu12==9.1.0.70 in /usr/local/lib/python3.11/dist-packages (from torch) (9.1.0.70)\n",
            "Requirement already satisfied: nvidia-cublas-cu12==12.4.5.8 in /usr/local/lib/python3.11/dist-packages (from torch) (12.4.5.8)\n",
            "Requirement already satisfied: nvidia-cufft-cu12==11.2.1.3 in /usr/local/lib/python3.11/dist-packages (from torch) (11.2.1.3)\n",
            "Requirement already satisfied: nvidia-curand-cu12==10.3.5.147 in /usr/local/lib/python3.11/dist-packages (from torch) (10.3.5.147)\n",
            "Requirement already satisfied: nvidia-cusolver-cu12==11.6.1.9 in /usr/local/lib/python3.11/dist-packages (from torch) (11.6.1.9)\n",
            "Requirement already satisfied: nvidia-cusparse-cu12==12.3.1.170 in /usr/local/lib/python3.11/dist-packages (from torch) (12.3.1.170)\n",
            "Requirement already satisfied: nvidia-cusparselt-cu12==0.6.2 in /usr/local/lib/python3.11/dist-packages (from torch) (0.6.2)\n",
            "Requirement already satisfied: nvidia-nccl-cu12==2.21.5 in /usr/local/lib/python3.11/dist-packages (from torch) (2.21.5)\n",
            "Requirement already satisfied: nvidia-nvtx-cu12==12.4.127 in /usr/local/lib/python3.11/dist-packages (from torch) (12.4.127)\n",
            "Requirement already satisfied: nvidia-nvjitlink-cu12==12.4.127 in /usr/local/lib/python3.11/dist-packages (from torch) (12.4.127)\n",
            "Requirement already satisfied: triton==3.2.0 in /usr/local/lib/python3.11/dist-packages (from torch) (3.2.0)\n",
            "Requirement already satisfied: sympy==1.13.1 in /usr/local/lib/python3.11/dist-packages (from torch) (1.13.1)\n",
            "Requirement already satisfied: mpmath<1.4,>=1.1.0 in /usr/local/lib/python3.11/dist-packages (from sympy==1.13.1->torch) (1.3.0)\n",
            "Requirement already satisfied: pytz>=2020.1 in /usr/local/lib/python3.11/dist-packages (from pandas) (2025.2)\n",
            "Requirement already satisfied: tzdata>=2022.7 in /usr/local/lib/python3.11/dist-packages (from pandas) (2025.2)\n",
            "Requirement already satisfied: scipy>=1.6.0 in /usr/local/lib/python3.11/dist-packages (from scikit-learn) (1.14.1)\n",
            "Requirement already satisfied: joblib>=1.2.0 in /usr/local/lib/python3.11/dist-packages (from scikit-learn) (1.4.2)\n",
            "Requirement already satisfied: threadpoolctl>=3.1.0 in /usr/local/lib/python3.11/dist-packages (from scikit-learn) (3.6.0)\n",
            "Requirement already satisfied: click!=8.0.0,>=7.1 in /usr/local/lib/python3.11/dist-packages (from wandb) (8.1.8)\n",
            "Requirement already satisfied: docker-pycreds>=0.4.0 in /usr/local/lib/python3.11/dist-packages (from wandb) (0.4.0)\n",
            "Requirement already satisfied: gitpython!=3.1.29,>=1.0.0 in /usr/local/lib/python3.11/dist-packages (from wandb) (3.1.44)\n",
            "Requirement already satisfied: platformdirs in /usr/local/lib/python3.11/dist-packages (from wandb) (4.3.7)\n",
            "Requirement already satisfied: protobuf!=4.21.0,!=5.28.0,<6,>=3.19.0 in /usr/local/lib/python3.11/dist-packages (from wandb) (5.29.4)\n",
            "Requirement already satisfied: psutil>=5.0.0 in /usr/local/lib/python3.11/dist-packages (from wandb) (5.9.5)\n",
            "Requirement already satisfied: pydantic<3 in /usr/local/lib/python3.11/dist-packages (from wandb) (2.11.3)\n",
            "Requirement already satisfied: pyyaml in /usr/local/lib/python3.11/dist-packages (from wandb) (6.0.2)\n",
            "Requirement already satisfied: requests<3,>=2.0.0 in /usr/local/lib/python3.11/dist-packages (from wandb) (2.32.3)\n",
            "Requirement already satisfied: sentry-sdk>=2.0.0 in /usr/local/lib/python3.11/dist-packages (from wandb) (2.26.1)\n",
            "Requirement already satisfied: setproctitle in /usr/local/lib/python3.11/dist-packages (from wandb) (1.3.5)\n",
            "Requirement already satisfied: setuptools in /usr/local/lib/python3.11/dist-packages (from wandb) (75.2.0)\n",
            "Requirement already satisfied: six>=1.4.0 in /usr/local/lib/python3.11/dist-packages (from docker-pycreds>=0.4.0->wandb) (1.17.0)\n",
            "Requirement already satisfied: gitdb<5,>=4.0.1 in /usr/local/lib/python3.11/dist-packages (from gitpython!=3.1.29,>=1.0.0->wandb) (4.0.12)\n",
            "Requirement already satisfied: annotated-types>=0.6.0 in /usr/local/lib/python3.11/dist-packages (from pydantic<3->wandb) (0.7.0)\n",
            "Requirement already satisfied: pydantic-core==2.33.1 in /usr/local/lib/python3.11/dist-packages (from pydantic<3->wandb) (2.33.1)\n",
            "Requirement already satisfied: typing-inspection>=0.4.0 in /usr/local/lib/python3.11/dist-packages (from pydantic<3->wandb) (0.4.0)\n",
            "Requirement already satisfied: charset-normalizer<4,>=2 in /usr/local/lib/python3.11/dist-packages (from requests<3,>=2.0.0->wandb) (3.4.1)\n",
            "Requirement already satisfied: idna<4,>=2.5 in /usr/local/lib/python3.11/dist-packages (from requests<3,>=2.0.0->wandb) (3.10)\n",
            "Requirement already satisfied: urllib3<3,>=1.21.1 in /usr/local/lib/python3.11/dist-packages (from requests<3,>=2.0.0->wandb) (2.3.0)\n",
            "Requirement already satisfied: certifi>=2017.4.17 in /usr/local/lib/python3.11/dist-packages (from requests<3,>=2.0.0->wandb) (2025.1.31)\n",
            "Requirement already satisfied: MarkupSafe>=2.0 in /usr/local/lib/python3.11/dist-packages (from jinja2->torch) (3.0.2)\n",
            "Requirement already satisfied: smmap<6,>=3.0.1 in /usr/local/lib/python3.11/dist-packages (from gitdb<5,>=4.0.1->gitpython!=3.1.29,>=1.0.0->wandb) (5.0.2)\n"
          ]
        }
      ],
      "source": [
        "!pip install matplotlib torch torchvision numpy pandas scikit-learn wandb"
      ]
    },
    {
      "cell_type": "code",
      "execution_count": 3,
      "id": "f70dc75a",
      "metadata": {
        "id": "f70dc75a"
      },
      "outputs": [],
      "source": [
        "import os\n",
        "import time\n",
        "\n",
        "import matplotlib.pyplot as plt\n",
        "import numpy as np\n",
        "from IPython.display import clear_output\n",
        "from tqdm.auto import tqdm\n",
        "\n",
        "import torch\n",
        "import torch.nn.functional as F\n",
        "import torchvision\n",
        "import torchvision.transforms as transforms\n",
        "from torch import nn\n",
        "\n",
        "import wandb\n",
        "\n",
        "from io import StringIO\n",
        "import sys"
      ]
    },
    {
      "cell_type": "markdown",
      "id": "3b65df0e",
      "metadata": {
        "id": "3b65df0e"
      },
      "source": [
        "## Config"
      ]
    },
    {
      "cell_type": "code",
      "source": [
        "batch_size = 64"
      ],
      "metadata": {
        "id": "YLp4g5mXRyXJ"
      },
      "id": "YLp4g5mXRyXJ",
      "execution_count": null,
      "outputs": []
    },
    {
      "cell_type": "code",
      "execution_count": 4,
      "id": "ed6df5ac",
      "metadata": {
        "colab": {
          "base_uri": "https://localhost:8080/",
          "height": 0
        },
        "id": "ed6df5ac",
        "outputId": "1f9b3c37-12a8-4e8c-8906-f9008526da58"
      },
      "outputs": [
        {
          "output_type": "stream",
          "name": "stdout",
          "text": [
            "Using device: cpu\n"
          ]
        }
      ],
      "source": [
        "_device = torch.device(\"cuda\" if torch.cuda.is_available() else \"cpu\")\n",
        "print(f\"Using device: {_device}\")"
      ]
    },
    {
      "cell_type": "code",
      "source": [
        "data_augmentation = True"
      ],
      "metadata": {
        "id": "zzFnCNzTPqjo"
      },
      "id": "zzFnCNzTPqjo",
      "execution_count": 5,
      "outputs": []
    },
    {
      "cell_type": "markdown",
      "source": [
        "### Helpers\n"
      ],
      "metadata": {
        "id": "9DEJDmrwRfS4"
      },
      "id": "9DEJDmrwRfS4"
    },
    {
      "cell_type": "code",
      "source": [
        "# https://stackoverflow.com/questions/16571150/how-to-capture-stdout-output-from-a-python-function-call\n",
        "\n",
        "class Capturing(list):\n",
        "    def __enter__(self):\n",
        "        self._stdout = sys.stdout\n",
        "        sys.stdout = self._stringio = StringIO()\n",
        "        return self\n",
        "    def __exit__(self, *args):\n",
        "        self.extend(self._stringio.getvalue().splitlines())\n",
        "        del self._stringio    # free up some memory\n",
        "        sys.stdout = self._stdout\n"
      ],
      "metadata": {
        "id": "ERM06sq1RhvE"
      },
      "id": "ERM06sq1RhvE",
      "execution_count": null,
      "outputs": []
    },
    {
      "cell_type": "markdown",
      "id": "e741ab63",
      "metadata": {
        "id": "e741ab63"
      },
      "source": [
        "## Import data\n",
        "**About data:** The dataset consists of 102 flower categories, and each class has between 40 and 258 images. The images have large scale, pose, and light variations. In addition, there are categories that have large variations within the category and several very similar categories.  \n",
        "The default split of the dataset is 1020, 1020 and 6149 images for training, validation and test sets respectively.\n",
        "If you can handle the bigger training dataset, you can experiment by taking up to 80% of the test set for training."
      ]
    },
    {
      "cell_type": "code",
      "execution_count": 6,
      "id": "312c2351",
      "metadata": {
        "id": "312c2351"
      },
      "outputs": [],
      "source": [
        "class InMemDataLoader(object):\n",
        "    \"\"\"\n",
        "    A data loader that keeps all data in CPU or GPU memory.\n",
        "    \"\"\"\n",
        "\n",
        "    __initialized = False\n",
        "\n",
        "    def __init__(\n",
        "        self,\n",
        "        dataset,\n",
        "        batch_size=1,\n",
        "        shuffle=False,\n",
        "        sampler=None,\n",
        "        batch_sampler=None,\n",
        "        drop_last=False,\n",
        "    ):\n",
        "        \"\"\"A torch dataloader that fetches data from memory.\"\"\"\n",
        "        batches = []\n",
        "        for i in tqdm(range(len(dataset))):\n",
        "            batch = [torch.tensor(t) for t in dataset[i]]\n",
        "            batches.append(batch)\n",
        "        tensors = [torch.stack(ts) for ts in zip(*batches)]\n",
        "        dataset = torch.utils.data.TensorDataset(*tensors)\n",
        "        self.dataset = dataset\n",
        "        self.batch_size = batch_size\n",
        "        self.drop_last = drop_last\n",
        "\n",
        "        if batch_sampler is not None:\n",
        "            if batch_size > 1 or shuffle or sampler is not None or drop_last:\n",
        "                raise ValueError(\n",
        "                    \"batch_sampler option is mutually exclusive \"\n",
        "                    \"with batch_size, shuffle, sampler, and \"\n",
        "                    \"drop_last\"\n",
        "                )\n",
        "            self.batch_size = None\n",
        "            self.drop_last = None\n",
        "\n",
        "        if sampler is not None and shuffle:\n",
        "            raise ValueError(\"sampler option is mutually exclusive with \" \"shuffle\")\n",
        "\n",
        "        if batch_sampler is None:\n",
        "            if sampler is None:\n",
        "                if shuffle:\n",
        "                    sampler = torch.utils.data.RandomSampler(dataset)\n",
        "                else:\n",
        "                    sampler = torch.utils.data.SequentialSampler(dataset)\n",
        "            batch_sampler = torch.utils.data.BatchSampler(\n",
        "                sampler, batch_size, drop_last\n",
        "            )\n",
        "\n",
        "        self.sampler = sampler\n",
        "        self.batch_sampler = batch_sampler\n",
        "        self.__initialized = True\n",
        "\n",
        "    def __setattr__(self, attr, val):\n",
        "        if self.__initialized and attr in (\"batch_size\", \"sampler\", \"drop_last\"):\n",
        "            raise ValueError(\n",
        "                \"{} attribute should not be set after {} is \"\n",
        "                \"initialized\".format(attr, self.__class__.__name__)\n",
        "            )\n",
        "\n",
        "        super(InMemDataLoader, self).__setattr__(attr, val)\n",
        "\n",
        "    def __iter__(self):\n",
        "        for batch_indices in self.batch_sampler:\n",
        "            yield self.dataset[batch_indices]\n",
        "\n",
        "    def __len__(self):\n",
        "        return len(self.batch_sampler)\n",
        "\n",
        "    def to(self, device):\n",
        "        self.dataset.tensors = tuple(t.to(device) for t in self.dataset.tensors)\n",
        "        return self"
      ]
    },
    {
      "cell_type": "code",
      "execution_count": 7,
      "id": "6c46a09f",
      "metadata": {
        "id": "6c46a09f"
      },
      "outputs": [],
      "source": [
        "def load_flowers(\n",
        "    batch_size=64,\n",
        "    test_train_valid_percent=(0.1, 0.8, 0.1),\n",
        "    train_transform=None,\n",
        "    eval_transform=None,\n",
        "    Loader=torch.utils.data.DataLoader,\n",
        "):\n",
        "    \"\"\"\n",
        "    Load the flowers dataset with the given batch size and transformation.\n",
        "    The dataset is split into train, validation, and test sets according to the specified percentages.\n",
        "    The data is loaded using the specified loader class.\n",
        "    \"\"\"\n",
        "\n",
        "    if train_transform is None:\n",
        "        train_transform = transforms.Compose([\n",
        "            transforms.Resize((224, 224)),\n",
        "\n",
        "            transforms.RandomResizedCrop(224, scale=(0.8, 1.0)),\n",
        "            transforms.RandomRotation(15),\n",
        "            transforms.RandomHorizontalFlip(),\n",
        "            transforms.RandomAdjustSharpness(sharpness_factor=2),\n",
        "            transforms.ColorJitter(brightness=0.2, contrast=0.2, saturation=0.2),\n",
        "\n",
        "            transforms.ToTensor(),\n",
        "            transforms.Normalize((0.5, 0.5, 0.5), (0.5, 0.5, 0.5)),\n",
        "        ])\n",
        "    if eval_transform is None:\n",
        "        eval_transform = transforms.Compose([\n",
        "            transforms.Resize((224, 224)),\n",
        "            transforms.ToTensor(),\n",
        "            transforms.Normalize((0.5, 0.5, 0.5), (0.5, 0.5, 0.5)),\n",
        "        ])\n",
        "\n",
        "\n",
        "    test_percent, train_percent, valid_percent = test_train_valid_percent\n",
        "\n",
        "    # TRAIN\n",
        "    train = torchvision.datasets.Flowers102(\n",
        "        root='./data', split='train', download=True,\n",
        "        transform=train_transform if data_augmentation else eval_transform\n",
        "    )\n",
        "    train = torch.utils.data.Subset(train, range(int(len(train) * train_percent)))\n",
        "\n",
        "    # TEST\n",
        "    test = torchvision.datasets.Flowers102(\n",
        "        root='./data', split='test', download=True, transform=eval_transform\n",
        "    )\n",
        "    test = torch.utils.data.Subset(test, range(int(len(test) * test_percent)))\n",
        "\n",
        "    # VALID\n",
        "    valid = torchvision.datasets.Flowers102(\n",
        "        root='./data', split='val', download=True, transform=eval_transform\n",
        "    )\n",
        "    valid = torch.utils.data.Subset(valid, range(int(len(valid) * valid_percent)))\n",
        "\n",
        "    data_loaders = {\n",
        "        'train': Loader(train, batch_size=batch_size, shuffle=True),\n",
        "        'valid': Loader(valid, batch_size=batch_size, shuffle=True),\n",
        "        'test': Loader(test, batch_size=batch_size, shuffle=True),\n",
        "    }\n",
        "\n",
        "    return data_loaders\n"
      ]
    },
    {
      "cell_type": "markdown",
      "id": "443248f7",
      "metadata": {
        "id": "443248f7"
      },
      "source": [
        "# Solution"
      ]
    },
    {
      "cell_type": "markdown",
      "id": "fedf7b0e",
      "metadata": {
        "id": "fedf7b0e"
      },
      "source": [
        "## Task 1\n",
        "* Your task is to implement a convolutional neural network from scratch using PyTorch.\n",
        "* Your CNN should consist of convolutional layers (Conv2D), pooling layers (MaxPooling2D), activation layers (e.g., ReLU), and fully connected layers (if needed)."
      ]
    },
    {
      "cell_type": "markdown",
      "source": [
        "### Import data"
      ],
      "metadata": {
        "id": "XXIVuhB3R6Ia"
      },
      "id": "XXIVuhB3R6Ia"
    },
    {
      "cell_type": "code",
      "source": [
        "data_loaders = load_flowers(batch_size, (1, 1, 1), Loader=InMemDataLoader)"
      ],
      "metadata": {
        "id": "x9i7gxgFR2kP"
      },
      "id": "x9i7gxgFR2kP",
      "execution_count": null,
      "outputs": []
    },
    {
      "cell_type": "markdown",
      "id": "8cb926eb",
      "metadata": {
        "id": "8cb926eb"
      },
      "source": [
        "### Model class"
      ]
    },
    {
      "cell_type": "code",
      "execution_count": null,
      "id": "7c94c951",
      "metadata": {
        "id": "7c94c951"
      },
      "outputs": [],
      "source": [
        "class Model1(nn.Module):\n",
        "    def __init__(self, *args, **kwargs):\n",
        "        super(Model1, self).__init__()\n",
        "        self.layers = nn.Sequential(*args, **kwargs)\n",
        "\n",
        "    def forward(self, x):\n",
        "        x = self.layers(x)\n",
        "        return x"
      ]
    },
    {
      "cell_type": "code",
      "execution_count": null,
      "id": "ebf022b0",
      "metadata": {
        "id": "ebf022b0"
      },
      "outputs": [],
      "source": [
        "def evaluate(model, data_loader):\n",
        "    loss = 0\n",
        "    correct = 0\n",
        "    loss_fn = nn.CrossEntropyLoss(\n",
        "        reduction='sum',\n",
        "    )\n",
        "\n",
        "    with torch.no_grad():\n",
        "        for inputs, labels in data_loader:\n",
        "            inputs, labels = inputs.to(_device), labels.to(_device)\n",
        "\n",
        "            outputs = model(inputs)\n",
        "            loss += loss_fn(outputs, labels).item()\n",
        "            pred = outputs.argmax(\n",
        "                dim=1, keepdim=True\n",
        "            )\n",
        "            correct += (\n",
        "                pred.eq(labels.view_as(pred)).sum().item()\n",
        "            )\n",
        "\n",
        "    loss /= len(data_loader.dataset)\n",
        "    accuracy = correct / len(data_loader.dataset)\n",
        "    return loss, accuracy"
      ]
    },
    {
      "cell_type": "code",
      "execution_count": null,
      "id": "35647d6f",
      "metadata": {
        "id": "35647d6f"
      },
      "outputs": [],
      "source": [
        "def train_step(model, optimizer, loss_fn):\n",
        "    for batch_idx, (inputs, labels) in enumerate(data_loaders['train']):\n",
        "        inputs, labels = inputs.to(_device), labels.to(_device)\n",
        "\n",
        "        optimizer.zero_grad()   # Zero gradients\n",
        "        logits = model(inputs)   # Forward pass\n",
        "        loss = loss_fn(logits, labels)  # Compute loss\n",
        "        loss.backward() # Backward pass\n",
        "        optimizer.step()    # Update weights\n",
        "\n",
        "        wandb.log({\n",
        "            \"loss\": loss.item(),\n",
        "            \"batch_idx\": batch_idx,\n",
        "        })"
      ]
    },
    {
      "cell_type": "code",
      "execution_count": null,
      "id": "e21bb9b6",
      "metadata": {
        "id": "e21bb9b6"
      },
      "outputs": [],
      "source": [
        "def init_weights(model):\n",
        "    for layer in model.modules():\n",
        "        if isinstance(layer, nn.Conv2d) or isinstance(layer, nn.Linear):\n",
        "            nn.init.kaiming_uniform_(layer.weight, nonlinearity='relu')\n",
        "            if layer.bias is not None:\n",
        "                nn.init.zeros_(layer.bias)\n",
        "        elif isinstance(layer, nn.BatchNorm2d):\n",
        "            nn.init.ones_(layer.weight)\n",
        "            if layer.bias is not None:\n",
        "                nn.init.zeros_(layer.bias)"
      ]
    },
    {
      "cell_type": "markdown",
      "id": "f486fbb5",
      "metadata": {
        "id": "f486fbb5"
      },
      "source": [
        "### Model creation"
      ]
    },
    {
      "cell_type": "code",
      "execution_count": null,
      "id": "bf37bc94",
      "metadata": {
        "id": "bf37bc94"
      },
      "outputs": [],
      "source": [
        "# version 1 of model - too simple\n",
        "model_type = \"v1\"\n",
        "\n",
        "model = Model1(\n",
        "    nn.Conv2d(3, 64, kernel_size=3, stride=1, padding=1),\n",
        "    nn.ReLU(),\n",
        "\n",
        "    nn.MaxPool2d(kernel_size=2, stride=2),\n",
        "    nn.Dropout(p=0.25),\n",
        "\n",
        "    nn.Conv2d(64, 128, kernel_size=3, stride=1, padding=1),\n",
        "    nn.ReLU(),\n",
        "\n",
        "    nn.MaxPool2d(kernel_size=2, stride=2),\n",
        "    nn.Dropout(p=0.25),\n",
        "\n",
        "    nn.Flatten(),\n",
        "    nn.Linear(128 * 56 * 56, 512),\n",
        "    nn.ReLU(),\n",
        "\n",
        "    nn.Dropout(p=0.5),\n",
        "    nn.Linear(512, 102),\n",
        ")"
      ]
    },
    {
      "cell_type": "code",
      "execution_count": null,
      "id": "585d2a7a",
      "metadata": {
        "id": "585d2a7a"
      },
      "outputs": [],
      "source": [
        "# version 2\n",
        "model_type = \"v2\"\n",
        "\n",
        "model = Model1(\n",
        "    nn.Conv2d(3, 128, kernel_size=11, stride=4, padding=2),\n",
        "    nn.ReLU(),\n",
        "\n",
        "    nn.MaxPool2d(kernel_size=5, stride=2),\n",
        "    nn.Dropout(p=0.25),\n",
        "\n",
        "    nn.Conv2d(128, 256, kernel_size=3, stride=1, padding=1),\n",
        "    nn.ReLU(),\n",
        "\n",
        "    nn.Conv2d(256, 256, kernel_size=3, stride=1, padding=1),\n",
        "    nn.MaxPool2d(kernel_size=2, stride=2),\n",
        "    nn.Dropout(p=0.25),\n",
        "\n",
        "    nn.Conv2d(256, 256, kernel_size=3),\n",
        "    nn.ReLU(),\n",
        "\n",
        "    nn.MaxPool2d(kernel_size=2, stride=2),\n",
        "    nn.Dropout(p=0.25),\n",
        "\n",
        "    nn.Flatten(),\n",
        "    nn.Linear(6400, 512),\n",
        "    nn.ReLU(),\n",
        "\n",
        "    nn.Dropout(p=0.5),\n",
        "    nn.Linear(512, 102),\n",
        ")"
      ]
    },
    {
      "cell_type": "code",
      "execution_count": null,
      "id": "d22e04ec",
      "metadata": {
        "id": "d22e04ec"
      },
      "outputs": [],
      "source": [
        "# stacked 3x3 convs\n",
        "model_type = \"v3_stack3x3\"\n",
        "\n",
        "model = Model1(\n",
        "    nn.Conv2d(3, 64, kernel_size=5, stride=3, padding=2),\n",
        "    nn.BatchNorm2d(64),\n",
        "    nn.ReLU(),\n",
        "\n",
        "    nn.Conv2d(64, 128, kernel_size=3),\n",
        "    nn.BatchNorm2d(128),\n",
        "    nn.ReLU(),\n",
        "\n",
        "    nn.MaxPool2d(kernel_size=3, stride=3),\n",
        "    nn.Dropout(p=0.25),\n",
        "\n",
        "    nn.Conv2d(128, 256, kernel_size=3, stride=2),\n",
        "    nn.BatchNorm2d(256),\n",
        "    nn.ReLU(),\n",
        "\n",
        "    nn.Conv2d(256, 256, kernel_size=3),\n",
        "    nn.BatchNorm2d(256),\n",
        "    nn.ReLU(),\n",
        "\n",
        "    nn.MaxPool2d(kernel_size=3, stride=3),\n",
        "    nn.Dropout(p=0.25),\n",
        "\n",
        "    nn.Flatten(),\n",
        "    nn.Linear(2304, 1024),\n",
        "    nn.ReLU(),\n",
        "\n",
        "    nn.Linear(1024, 512),\n",
        "    nn.ReLU(),\n",
        "\n",
        "    nn.Dropout(p=0.5),\n",
        "    nn.Linear(512, 102),\n",
        ")"
      ]
    },
    {
      "cell_type": "code",
      "execution_count": null,
      "id": "7e479d5a",
      "metadata": {
        "id": "7e479d5a"
      },
      "outputs": [],
      "source": [
        "# version 3 = alexnet\n",
        "model_type = \"alexnet\"\n",
        "\n",
        "model = Model1(\n",
        "    nn.Conv2d(3, 96, kernel_size=11, stride=4),\n",
        "    nn.BatchNorm2d(96),\n",
        "    nn.ReLU(),\n",
        "\n",
        "    nn.MaxPool2d(kernel_size=3, stride=2),\n",
        "    nn.Dropout(p=0.25),\n",
        "\n",
        "    nn.Conv2d(96, 256, kernel_size=5, padding=2),\n",
        "    nn.BatchNorm2d(256),\n",
        "    nn.ReLU(),\n",
        "\n",
        "    nn.MaxPool2d(kernel_size=3, stride=2),\n",
        "    nn.Dropout(p=0.25),\n",
        "\n",
        "    nn.Conv2d(256, 384, kernel_size=3, padding=1),\n",
        "    nn.BatchNorm2d(384),\n",
        "    nn.ReLU(),\n",
        "    nn.Dropout(p=0.25),\n",
        "\n",
        "    nn.Conv2d(384, 384, kernel_size=3, padding=1),\n",
        "    nn.BatchNorm2d(384),\n",
        "    nn.ReLU(),\n",
        "    nn.Dropout(p=0.25),\n",
        "\n",
        "    nn.Conv2d(384, 256, kernel_size=3, padding=1),\n",
        "    nn.BatchNorm2d(256),\n",
        "    nn.ReLU(),\n",
        "\n",
        "    nn.MaxPool2d(kernel_size=3, stride=2),\n",
        "    nn.Dropout(p=0.25),\n",
        "\n",
        "\n",
        "    nn.Flatten(),\n",
        "    nn.Linear(6400, 4096),\n",
        "    nn.ReLU(),\n",
        "\n",
        "    nn.Linear(4096, 4096),\n",
        "    nn.ReLU(),\n",
        "\n",
        "    nn.Dropout(p=0.5),\n",
        "    nn.Linear(4096, 102),\n",
        "    # nn.Softmax(dim=1),\n",
        ")"
      ]
    },
    {
      "cell_type": "markdown",
      "id": "KAd_QlZII8vu",
      "metadata": {
        "id": "KAd_QlZII8vu"
      },
      "source": [
        "### Training loop"
      ]
    },
    {
      "cell_type": "code",
      "execution_count": null,
      "id": "ab90a9d7",
      "metadata": {
        "colab": {
          "base_uri": "https://localhost:8080/",
          "height": 461
        },
        "id": "ab90a9d7",
        "outputId": "f10e97ea-6177-489e-9d69-f16075ca46b0"
      },
      "outputs": [
        {
          "name": "stderr",
          "output_type": "stream",
          "text": [
            "\u001b[34m\u001b[1mwandb\u001b[0m: Using wandb-core as the SDK backend.  Please refer to https://wandb.me/wandb-core for more information.\n"
          ]
        },
        {
          "data": {
            "application/javascript": "\n        window._wandbApiKey = new Promise((resolve, reject) => {\n            function loadScript(url) {\n            return new Promise(function(resolve, reject) {\n                let newScript = document.createElement(\"script\");\n                newScript.onerror = reject;\n                newScript.onload = resolve;\n                document.body.appendChild(newScript);\n                newScript.src = url;\n            });\n            }\n            loadScript(\"https://cdn.jsdelivr.net/npm/postmate/build/postmate.min.js\").then(() => {\n            const iframe = document.createElement('iframe')\n            iframe.style.cssText = \"width:0;height:0;border:none\"\n            document.body.appendChild(iframe)\n            const handshake = new Postmate({\n                container: iframe,\n                url: 'https://wandb.ai/authorize'\n            });\n            const timeout = setTimeout(() => reject(\"Couldn't auto authenticate\"), 5000)\n            handshake.then(function(child) {\n                child.on('authorize', data => {\n                    clearTimeout(timeout)\n                    resolve(data)\n                });\n            });\n            })\n        });\n    ",
            "text/plain": [
              "<IPython.core.display.Javascript object>"
            ]
          },
          "metadata": {},
          "output_type": "display_data"
        },
        {
          "name": "stderr",
          "output_type": "stream",
          "text": [
            "\u001b[34m\u001b[1mwandb\u001b[0m: Logging into wandb.ai. (Learn how to deploy a W&B server locally: https://wandb.me/wandb-server)\n",
            "\u001b[34m\u001b[1mwandb\u001b[0m: You can find your API key in your browser here: https://wandb.ai/authorize\n",
            "wandb: Paste an API key from your profile and hit enter:\n"
          ]
        },
        {
          "ename": "Abort",
          "evalue": "",
          "output_type": "error",
          "traceback": [
            "\u001b[0;31m---------------------------------------------------------------------------\u001b[0m",
            "\u001b[0;31mAbort\u001b[0m                                     Traceback (most recent call last)",
            "\u001b[0;32m<ipython-input-14-c58c937c383f>\u001b[0m in \u001b[0;36m<cell line: 0>\u001b[0;34m()\u001b[0m\n\u001b[1;32m     25\u001b[0m \u001b[0minit_weights\u001b[0m\u001b[0;34m(\u001b[0m\u001b[0mmodel\u001b[0m\u001b[0;34m)\u001b[0m\u001b[0;34m\u001b[0m\u001b[0;34m\u001b[0m\u001b[0m\n\u001b[1;32m     26\u001b[0m \u001b[0;34m\u001b[0m\u001b[0m\n\u001b[0;32m---> 27\u001b[0;31m run = wandb.init(\n\u001b[0m\u001b[1;32m     28\u001b[0m     \u001b[0mentity\u001b[0m \u001b[0;34m=\u001b[0m \u001b[0;34m\"fejowo5522-\"\u001b[0m\u001b[0;34m,\u001b[0m\u001b[0;34m\u001b[0m\u001b[0;34m\u001b[0m\u001b[0m\n\u001b[1;32m     29\u001b[0m     \u001b[0mproject\u001b[0m\u001b[0;34m=\u001b[0m \u001b[0;34m\"NN_list3_OxFlow\"\u001b[0m\u001b[0;34m,\u001b[0m\u001b[0;34m\u001b[0m\u001b[0;34m\u001b[0m\u001b[0m\n",
            "\u001b[0;32m/usr/local/lib/python3.11/dist-packages/wandb/sdk/wandb_init.py\u001b[0m in \u001b[0;36minit\u001b[0;34m(entity, project, dir, id, name, notes, tags, config, config_exclude_keys, config_include_keys, allow_val_change, group, job_type, mode, force, anonymous, reinit, resume, resume_from, fork_from, save_code, tensorboard, sync_tensorboard, monitor_gym, settings)\u001b[0m\n\u001b[1;32m   1542\u001b[0m         \u001b[0;31m# Need to build delay into this sentry capture because our exit hooks\u001b[0m\u001b[0;34m\u001b[0m\u001b[0;34m\u001b[0m\u001b[0m\n\u001b[1;32m   1543\u001b[0m         \u001b[0;31m# mess with sentry's ability to send out errors before the program ends.\u001b[0m\u001b[0;34m\u001b[0m\u001b[0;34m\u001b[0m\u001b[0m\n\u001b[0;32m-> 1544\u001b[0;31m         \u001b[0mwandb\u001b[0m\u001b[0;34m.\u001b[0m\u001b[0m_sentry\u001b[0m\u001b[0;34m.\u001b[0m\u001b[0mreraise\u001b[0m\u001b[0;34m(\u001b[0m\u001b[0me\u001b[0m\u001b[0;34m)\u001b[0m\u001b[0;34m\u001b[0m\u001b[0;34m\u001b[0m\u001b[0m\n\u001b[0m\u001b[1;32m   1545\u001b[0m         \u001b[0;32mraise\u001b[0m \u001b[0mAssertionError\u001b[0m\u001b[0;34m(\u001b[0m\u001b[0;34m)\u001b[0m  \u001b[0;31m# should never get here\u001b[0m\u001b[0;34m\u001b[0m\u001b[0;34m\u001b[0m\u001b[0m\n",
            "\u001b[0;32m/usr/local/lib/python3.11/dist-packages/wandb/analytics/sentry.py\u001b[0m in \u001b[0;36mreraise\u001b[0;34m(self, exc)\u001b[0m\n\u001b[1;32m    154\u001b[0m         \u001b[0;31m# this will messily add this \"reraise\" function to the stack trace,\u001b[0m\u001b[0;34m\u001b[0m\u001b[0;34m\u001b[0m\u001b[0m\n\u001b[1;32m    155\u001b[0m         \u001b[0;31m# but hopefully it's not too bad\u001b[0m\u001b[0;34m\u001b[0m\u001b[0;34m\u001b[0m\u001b[0m\n\u001b[0;32m--> 156\u001b[0;31m         \u001b[0;32mraise\u001b[0m \u001b[0mexc\u001b[0m\u001b[0;34m.\u001b[0m\u001b[0mwith_traceback\u001b[0m\u001b[0;34m(\u001b[0m\u001b[0msys\u001b[0m\u001b[0;34m.\u001b[0m\u001b[0mexc_info\u001b[0m\u001b[0;34m(\u001b[0m\u001b[0;34m)\u001b[0m\u001b[0;34m[\u001b[0m\u001b[0;36m2\u001b[0m\u001b[0;34m]\u001b[0m\u001b[0;34m)\u001b[0m\u001b[0;34m\u001b[0m\u001b[0;34m\u001b[0m\u001b[0m\n\u001b[0m\u001b[1;32m    157\u001b[0m \u001b[0;34m\u001b[0m\u001b[0m\n\u001b[1;32m    158\u001b[0m     \u001b[0;34m@\u001b[0m\u001b[0m_safe_noop\u001b[0m\u001b[0;34m\u001b[0m\u001b[0;34m\u001b[0m\u001b[0m\n",
            "\u001b[0;32m/usr/local/lib/python3.11/dist-packages/wandb/sdk/wandb_init.py\u001b[0m in \u001b[0;36minit\u001b[0;34m(entity, project, dir, id, name, notes, tags, config, config_exclude_keys, config_include_keys, allow_val_change, group, job_type, mode, force, anonymous, reinit, resume, resume_from, fork_from, save_code, tensorboard, sync_tensorboard, monitor_gym, settings)\u001b[0m\n\u001b[1;32m   1476\u001b[0m         \u001b[0mwi\u001b[0m \u001b[0;34m=\u001b[0m \u001b[0m_WandbInit\u001b[0m\u001b[0;34m(\u001b[0m\u001b[0mwl\u001b[0m\u001b[0;34m,\u001b[0m \u001b[0minit_telemetry\u001b[0m\u001b[0;34m)\u001b[0m\u001b[0;34m\u001b[0m\u001b[0;34m\u001b[0m\u001b[0m\n\u001b[1;32m   1477\u001b[0m \u001b[0;34m\u001b[0m\u001b[0m\n\u001b[0;32m-> 1478\u001b[0;31m         \u001b[0mwi\u001b[0m\u001b[0;34m.\u001b[0m\u001b[0mmaybe_login\u001b[0m\u001b[0;34m(\u001b[0m\u001b[0minit_settings\u001b[0m\u001b[0;34m)\u001b[0m\u001b[0;34m\u001b[0m\u001b[0;34m\u001b[0m\u001b[0m\n\u001b[0m\u001b[1;32m   1479\u001b[0m         \u001b[0mrun_settings\u001b[0m \u001b[0;34m=\u001b[0m \u001b[0mwi\u001b[0m\u001b[0;34m.\u001b[0m\u001b[0mmake_run_settings\u001b[0m\u001b[0;34m(\u001b[0m\u001b[0minit_settings\u001b[0m\u001b[0;34m)\u001b[0m\u001b[0;34m\u001b[0m\u001b[0;34m\u001b[0m\u001b[0m\n\u001b[1;32m   1480\u001b[0m \u001b[0;34m\u001b[0m\u001b[0m\n",
            "\u001b[0;32m/usr/local/lib/python3.11/dist-packages/wandb/sdk/wandb_init.py\u001b[0m in \u001b[0;36mmaybe_login\u001b[0;34m(self, init_settings)\u001b[0m\n\u001b[1;32m    175\u001b[0m             \u001b[0;32mreturn\u001b[0m\u001b[0;34m\u001b[0m\u001b[0;34m\u001b[0m\u001b[0m\n\u001b[1;32m    176\u001b[0m \u001b[0;34m\u001b[0m\u001b[0m\n\u001b[0;32m--> 177\u001b[0;31m         wandb_login._login(\n\u001b[0m\u001b[1;32m    178\u001b[0m             \u001b[0manonymous\u001b[0m\u001b[0;34m=\u001b[0m\u001b[0mrun_settings\u001b[0m\u001b[0;34m.\u001b[0m\u001b[0manonymous\u001b[0m\u001b[0;34m,\u001b[0m\u001b[0;34m\u001b[0m\u001b[0;34m\u001b[0m\u001b[0m\n\u001b[1;32m    179\u001b[0m             \u001b[0mforce\u001b[0m\u001b[0;34m=\u001b[0m\u001b[0mrun_settings\u001b[0m\u001b[0;34m.\u001b[0m\u001b[0mforce\u001b[0m\u001b[0;34m,\u001b[0m\u001b[0;34m\u001b[0m\u001b[0;34m\u001b[0m\u001b[0m\n",
            "\u001b[0;32m/usr/local/lib/python3.11/dist-packages/wandb/sdk/wandb_login.py\u001b[0m in \u001b[0;36m_login\u001b[0;34m(anonymous, key, relogin, host, force, timeout, verify, _silent, _disable_warning)\u001b[0m\n\u001b[1;32m    303\u001b[0m             \u001b[0mkey_is_pre_configured\u001b[0m \u001b[0;34m=\u001b[0m \u001b[0;32mTrue\u001b[0m\u001b[0;34m\u001b[0m\u001b[0;34m\u001b[0m\u001b[0m\n\u001b[1;32m    304\u001b[0m         \u001b[0;32melse\u001b[0m\u001b[0;34m:\u001b[0m\u001b[0;34m\u001b[0m\u001b[0;34m\u001b[0m\u001b[0m\n\u001b[0;32m--> 305\u001b[0;31m             \u001b[0mkey\u001b[0m\u001b[0;34m,\u001b[0m \u001b[0mkey_status\u001b[0m \u001b[0;34m=\u001b[0m \u001b[0mwlogin\u001b[0m\u001b[0;34m.\u001b[0m\u001b[0mprompt_api_key\u001b[0m\u001b[0;34m(\u001b[0m\u001b[0;34m)\u001b[0m\u001b[0;34m\u001b[0m\u001b[0;34m\u001b[0m\u001b[0m\n\u001b[0m\u001b[1;32m    306\u001b[0m \u001b[0;34m\u001b[0m\u001b[0m\n\u001b[1;32m    307\u001b[0m     \u001b[0;32mif\u001b[0m \u001b[0mverify\u001b[0m\u001b[0;34m:\u001b[0m\u001b[0;34m\u001b[0m\u001b[0;34m\u001b[0m\u001b[0m\n",
            "\u001b[0;32m/usr/local/lib/python3.11/dist-packages/wandb/sdk/wandb_login.py\u001b[0m in \u001b[0;36mprompt_api_key\u001b[0;34m(self)\u001b[0m\n\u001b[1;32m    225\u001b[0m     \u001b[0;32mdef\u001b[0m \u001b[0mprompt_api_key\u001b[0m\u001b[0;34m(\u001b[0m\u001b[0mself\u001b[0m\u001b[0;34m)\u001b[0m \u001b[0;34m->\u001b[0m \u001b[0mTuple\u001b[0m\u001b[0;34m[\u001b[0m\u001b[0mOptional\u001b[0m\u001b[0;34m[\u001b[0m\u001b[0mstr\u001b[0m\u001b[0;34m]\u001b[0m\u001b[0;34m,\u001b[0m \u001b[0mApiKeyStatus\u001b[0m\u001b[0;34m]\u001b[0m\u001b[0;34m:\u001b[0m\u001b[0;34m\u001b[0m\u001b[0;34m\u001b[0m\u001b[0m\n\u001b[1;32m    226\u001b[0m         \u001b[0;34m\"\"\"Updates the global API key by prompting the user.\"\"\"\u001b[0m\u001b[0;34m\u001b[0m\u001b[0;34m\u001b[0m\u001b[0m\n\u001b[0;32m--> 227\u001b[0;31m         \u001b[0mkey\u001b[0m\u001b[0;34m,\u001b[0m \u001b[0mstatus\u001b[0m \u001b[0;34m=\u001b[0m \u001b[0mself\u001b[0m\u001b[0;34m.\u001b[0m\u001b[0m_prompt_api_key\u001b[0m\u001b[0;34m(\u001b[0m\u001b[0;34m)\u001b[0m\u001b[0;34m\u001b[0m\u001b[0;34m\u001b[0m\u001b[0m\n\u001b[0m\u001b[1;32m    228\u001b[0m         \u001b[0;32mif\u001b[0m \u001b[0mstatus\u001b[0m \u001b[0;34m==\u001b[0m \u001b[0mApiKeyStatus\u001b[0m\u001b[0;34m.\u001b[0m\u001b[0mNOTTY\u001b[0m\u001b[0;34m:\u001b[0m\u001b[0;34m\u001b[0m\u001b[0;34m\u001b[0m\u001b[0m\n\u001b[1;32m    229\u001b[0m             directive = (\n",
            "\u001b[0;32m/usr/local/lib/python3.11/dist-packages/wandb/sdk/wandb_login.py\u001b[0m in \u001b[0;36m_prompt_api_key\u001b[0;34m(self)\u001b[0m\n\u001b[1;32m    204\u001b[0m         \u001b[0;32mwhile\u001b[0m \u001b[0;32mTrue\u001b[0m\u001b[0;34m:\u001b[0m\u001b[0;34m\u001b[0m\u001b[0;34m\u001b[0m\u001b[0m\n\u001b[1;32m    205\u001b[0m             \u001b[0;32mtry\u001b[0m\u001b[0;34m:\u001b[0m\u001b[0;34m\u001b[0m\u001b[0;34m\u001b[0m\u001b[0m\n\u001b[0;32m--> 206\u001b[0;31m                 key = apikey.prompt_api_key(\n\u001b[0m\u001b[1;32m    207\u001b[0m                     \u001b[0mself\u001b[0m\u001b[0;34m.\u001b[0m\u001b[0m_settings\u001b[0m\u001b[0;34m,\u001b[0m\u001b[0;34m\u001b[0m\u001b[0;34m\u001b[0m\u001b[0m\n\u001b[1;32m    208\u001b[0m                     \u001b[0mapi\u001b[0m\u001b[0;34m=\u001b[0m\u001b[0mapi\u001b[0m\u001b[0;34m,\u001b[0m\u001b[0;34m\u001b[0m\u001b[0;34m\u001b[0m\u001b[0m\n",
            "\u001b[0;32m/usr/local/lib/python3.11/dist-packages/wandb/sdk/lib/apikey.py\u001b[0m in \u001b[0;36mprompt_api_key\u001b[0;34m(settings, api, input_callback, browser_callback, no_offline, no_create, local)\u001b[0m\n\u001b[1;32m    168\u001b[0m                 \u001b[0;34mf\"You can find your API key in your browser here: {app_url}/authorize\"\u001b[0m\u001b[0;34m\u001b[0m\u001b[0;34m\u001b[0m\u001b[0m\n\u001b[1;32m    169\u001b[0m             )\n\u001b[0;32m--> 170\u001b[0;31m             \u001b[0mkey\u001b[0m \u001b[0;34m=\u001b[0m \u001b[0minput_callback\u001b[0m\u001b[0;34m(\u001b[0m\u001b[0mapi_ask\u001b[0m\u001b[0;34m)\u001b[0m\u001b[0;34m.\u001b[0m\u001b[0mstrip\u001b[0m\u001b[0;34m(\u001b[0m\u001b[0;34m)\u001b[0m\u001b[0;34m\u001b[0m\u001b[0;34m\u001b[0m\u001b[0m\n\u001b[0m\u001b[1;32m    171\u001b[0m     \u001b[0;32melif\u001b[0m \u001b[0mresult\u001b[0m \u001b[0;34m==\u001b[0m \u001b[0mLOGIN_CHOICE_NOTTY\u001b[0m\u001b[0;34m:\u001b[0m\u001b[0;34m\u001b[0m\u001b[0;34m\u001b[0m\u001b[0m\n\u001b[1;32m    172\u001b[0m         \u001b[0;31m# TODO: Needs refactor as this needs to be handled by caller\u001b[0m\u001b[0;34m\u001b[0m\u001b[0;34m\u001b[0m\u001b[0m\n",
            "\u001b[0;32m/usr/local/lib/python3.11/dist-packages/click/termui.py\u001b[0m in \u001b[0;36mprompt\u001b[0;34m(text, default, hide_input, confirmation_prompt, type, value_proc, prompt_suffix, show_default, err, show_choices)\u001b[0m\n\u001b[1;32m    162\u001b[0m     \u001b[0;32mwhile\u001b[0m \u001b[0;32mTrue\u001b[0m\u001b[0;34m:\u001b[0m\u001b[0;34m\u001b[0m\u001b[0;34m\u001b[0m\u001b[0m\n\u001b[1;32m    163\u001b[0m         \u001b[0;32mwhile\u001b[0m \u001b[0;32mTrue\u001b[0m\u001b[0;34m:\u001b[0m\u001b[0;34m\u001b[0m\u001b[0;34m\u001b[0m\u001b[0m\n\u001b[0;32m--> 164\u001b[0;31m             \u001b[0mvalue\u001b[0m \u001b[0;34m=\u001b[0m \u001b[0mprompt_func\u001b[0m\u001b[0;34m(\u001b[0m\u001b[0mprompt\u001b[0m\u001b[0;34m)\u001b[0m\u001b[0;34m\u001b[0m\u001b[0;34m\u001b[0m\u001b[0m\n\u001b[0m\u001b[1;32m    165\u001b[0m             \u001b[0;32mif\u001b[0m \u001b[0mvalue\u001b[0m\u001b[0;34m:\u001b[0m\u001b[0;34m\u001b[0m\u001b[0;34m\u001b[0m\u001b[0m\n\u001b[1;32m    166\u001b[0m                 \u001b[0;32mbreak\u001b[0m\u001b[0;34m\u001b[0m\u001b[0;34m\u001b[0m\u001b[0m\n",
            "\u001b[0;32m/usr/local/lib/python3.11/dist-packages/click/termui.py\u001b[0m in \u001b[0;36mprompt_func\u001b[0;34m(text)\u001b[0m\n\u001b[1;32m    145\u001b[0m             \u001b[0;32mif\u001b[0m \u001b[0mhide_input\u001b[0m\u001b[0;34m:\u001b[0m\u001b[0;34m\u001b[0m\u001b[0;34m\u001b[0m\u001b[0m\n\u001b[1;32m    146\u001b[0m                 \u001b[0mecho\u001b[0m\u001b[0;34m(\u001b[0m\u001b[0;32mNone\u001b[0m\u001b[0;34m,\u001b[0m \u001b[0merr\u001b[0m\u001b[0;34m=\u001b[0m\u001b[0merr\u001b[0m\u001b[0;34m)\u001b[0m\u001b[0;34m\u001b[0m\u001b[0;34m\u001b[0m\u001b[0m\n\u001b[0;32m--> 147\u001b[0;31m             \u001b[0;32mraise\u001b[0m \u001b[0mAbort\u001b[0m\u001b[0;34m(\u001b[0m\u001b[0;34m)\u001b[0m \u001b[0;32mfrom\u001b[0m \u001b[0;32mNone\u001b[0m\u001b[0;34m\u001b[0m\u001b[0;34m\u001b[0m\u001b[0m\n\u001b[0m\u001b[1;32m    148\u001b[0m \u001b[0;34m\u001b[0m\u001b[0m\n\u001b[1;32m    149\u001b[0m     \u001b[0;32mif\u001b[0m \u001b[0mvalue_proc\u001b[0m \u001b[0;32mis\u001b[0m \u001b[0;32mNone\u001b[0m\u001b[0;34m:\u001b[0m\u001b[0;34m\u001b[0m\u001b[0;34m\u001b[0m\u001b[0m\n",
            "\u001b[0;31mAbort\u001b[0m: "
          ]
        }
      ],
      "source": [
        "model.to(_device)\n",
        "\n",
        "epochs = 100\n",
        "\n",
        "learning_rate = 0.0001\n",
        "momentum = 0.9\n",
        "weight_decay = 0.0005\n",
        "betas = (0.9, 0.999)\n",
        "\n",
        "optimizer = torch.optim.Adam(\n",
        "    model.parameters(),\n",
        "    lr=learning_rate,\n",
        "    betas=betas,\n",
        "    weight_decay=weight_decay,\n",
        ")\n",
        "# optimizer = torch.optim.SGD(\n",
        "#     model.parameters(),\n",
        "#     lr=learning_rate,\n",
        "#     momentum=momentum,\n",
        "#     weight_decay=weight_decay,\n",
        "# )\n",
        "\n",
        "loss_fn = nn.CrossEntropyLoss()\n",
        "\n",
        "init_weights(model)\n",
        "\n",
        "run = wandb.init(\n",
        "    entity = \"fejowo5522-\",\n",
        "    project= \"NN_list3_OxFlow\",\n",
        "    config = {\n",
        "        \"task\": 1,\n",
        "        \"batch_size\": batch_size,\n",
        "        \"epochs\": epochs,\n",
        "        \"optimizer\": \"SGD\",\n",
        "        \"learning_rate\": learning_rate,\n",
        "        # \"momentum\": momentum,\n",
        "        \"betas\": betas,\n",
        "        \"weight_decay\": weight_decay,\n",
        "        \"loss_fn\": \"cross_entropy\",\n",
        "        \"model\": model_type,\n",
        "        \"data_augmentation\": data_augmentation,\n",
        "    }\n",
        ")\n",
        "run.name = \"Task1_\" + str(int(time.time()))\n",
        "\n",
        "model.train()\n",
        "for epoch in tqdm(range(epochs), desc=\"Training\", leave=False):\n",
        "    train_step(model, optimizer, loss_fn)\n",
        "\n",
        "    for loader, split in [\n",
        "        (data_loaders['train'], 'train'),\n",
        "        (data_loaders['valid'], 'valid'),\n",
        "    ]:\n",
        "        loss, accuracy = evaluate(model, loader)\n",
        "        wandb.log({\n",
        "            \"epoch\": epoch,\n",
        "            f\"{split}_loss\": loss,\n",
        "            f\"{split}_accuracy\": accuracy,\n",
        "        })\n",
        "\n",
        "model.eval()\n",
        "loss, accuracy = evaluate(model, data_loaders['test'])\n",
        "wandb.log({\n",
        "    \"test_loss\": loss,\n",
        "    \"test_accuracy\": accuracy,\n",
        "})\n",
        "print(\n",
        "    \"Test set: Average loss: {:8.6f}, Accuracy: ({:4.1f}%)\".format(\n",
        "        loss,\n",
        "        100.0 * accuracy,\n",
        "    )\n",
        ")\n",
        "\n",
        "run.finish()"
      ]
    },
    {
      "cell_type": "markdown",
      "id": "B_R6q4DZJbJC",
      "metadata": {
        "id": "B_R6q4DZJbJC"
      },
      "source": [
        "## Task 2\n",
        "* Train your CNN on different training set sized (10%, 20%, 50%, 80%, 100%) and evaluate the performance on the validation set and test set.\n",
        "    * Report the accuracy and loss on the validation set and test set for each training set size.\n",
        "* Train your CNN on the full training set plus 20%, 50% and 80% of the test set and evaluate the performance on the validation set and the remaining test set.\n",
        "    * Report the accuracy and loss on the validation set and remaining test set for each training set size.\n",
        "* Compare the performance of your CNN on the different training set sizes and analyze the results.\n"
      ]
    },
    {
      "cell_type": "code",
      "execution_count": null,
      "id": "Yr9BC2Fdeops",
      "metadata": {
        "id": "Yr9BC2Fdeops"
      },
      "outputs": [],
      "source": [
        "training_sizes = [0.1, 0.2, 0.5, 0.8, 1, 1.2, 1.5, 1.8]\n",
        "# training_sizes = [1.2, 1.5, 1.8]"
      ]
    },
    {
      "cell_type": "code",
      "execution_count": null,
      "id": "-snCRGp3gyys",
      "metadata": {
        "id": "-snCRGp3gyys"
      },
      "outputs": [],
      "source": [
        "def _train_step(model, optimizer, loss_fn, data_loader, max_batch_percent=1, reverse_loop=False):\n",
        "    data_iter = iter(data_loader)\n",
        "\n",
        "    if reverse_loop:\n",
        "        data_iter = reversed(list(data_iter))\n",
        "\n",
        "    for batch_idx, (inputs, labels) in enumerate(data_iter):\n",
        "        if batch_idx >= max_batch_percent * len(data_loader):\n",
        "            break\n",
        "\n",
        "        inputs, labels = inputs.to(_device), labels.to(_device)\n",
        "\n",
        "        optimizer.zero_grad()   # Zero gradients\n",
        "        logits = model(inputs)   # Forward pass\n",
        "        loss = loss_fn(logits, labels)  # Compute loss\n",
        "        loss.backward() # Backward pass\n",
        "        optimizer.step()    # Update weights\n",
        "\n",
        "        wandb.log({\n",
        "            \"loss\": loss.item(),\n",
        "            \"batch_idx\": batch_idx,\n",
        "        })\n",
        "\n",
        "\n",
        "def train_step(model, optimizer, loss_fn, max_batch_percent=1):\n",
        "    _train_step(model, optimizer, loss_fn, data_loaders['train'], max_batch_percent)\n",
        "\n",
        "    if max_batch_percent > 1:\n",
        "        _train_step(model, optimizer, loss_fn, data_loaders['test'], max_batch_percent - 1, True)"
      ]
    },
    {
      "cell_type": "code",
      "execution_count": null,
      "id": "MNLihZHOqt7b",
      "metadata": {
        "id": "MNLihZHOqt7b"
      },
      "outputs": [],
      "source": [
        "def evaluate(model, data_loader, max_batch_percent=1):\n",
        "    loss = 0\n",
        "    correct = 0\n",
        "    loss_fn = nn.CrossEntropyLoss(\n",
        "        reduction='sum',\n",
        "    )\n",
        "\n",
        "    with torch.no_grad():\n",
        "        for idx, (inputs, labels) in enumerate(data_loader):\n",
        "\n",
        "\n",
        "            inputs, labels = inputs.to(_device), labels.to(_device)\n",
        "\n",
        "            outputs = model(inputs)\n",
        "            loss += loss_fn(outputs, labels).item()\n",
        "            pred = outputs.argmax(\n",
        "                dim=1, keepdim=True\n",
        "            )\n",
        "            correct += (\n",
        "                pred.eq(labels.view_as(pred)).sum().item()\n",
        "            )\n",
        "\n",
        "    loss /= len(data_loader.dataset)\n",
        "    accuracy = correct / len(data_loader.dataset)\n",
        "    return loss, accuracy"
      ]
    },
    {
      "cell_type": "code",
      "execution_count": null,
      "id": "obTgsm4qJc6m",
      "metadata": {
        "colab": {
          "base_uri": "https://localhost:8080/",
          "height": 1000,
          "referenced_widgets": [
            "5b376966309b48dba1a5402e097a69e0",
            "b63ea0956353410e8bd82c0e82f77359",
            "d4275e2cad9c4e559cc9d1349ff9d389",
            "17fdc65b12bd4ea28c280bea33fac2ac",
            "d3d462f2be2749889a14d6f27d926953",
            "378b45d1b3c34c9493535009fc9a38d1",
            "4c4ab23b8eda42ae849c604782b348fa",
            "7c938a53d76840ddbb2862d5a9d9562b",
            "3fc15fb7588e43bd8c9e77cb7d1cc5b9",
            "fb8904b0f1c542149031f60f99a65067",
            "6140400d011b4918b36315fb86445d6b",
            "b80e6b3d3d1d40428bb42b1e372a1d1b",
            "cfbfe1da4f85446f9578366485422d8c",
            "f50867693af14910b779f3fb294848e7",
            "3e129b177eb44d839247ab99d7d96818",
            "afe07127662b4000b730330c01859d24",
            "ca4fb363164745d68e8d9f4f7e767bf9",
            "1877e5e007174d61853df4a60bdd02d1",
            "ed01b9a2c71045b5a32ae931375fd530",
            "78e61ccc56064bb48e9101c44f09079e",
            "1f3a472598b04113ab118977eb3840eb",
            "c841f733ddd64b4bbce8565f4c40cf6d",
            "ad8c6ae966aa4e68a4742cee58a63971",
            "45eda23825f2483c890f42e531e770a8",
            "6f195517f0e04d87a2692234ba9cb098",
            "3b20af919b4845a6afe52998706c1921",
            "b5012ec11ac1474fae8beea3029ce85c",
            "b2682c8e91c8426b8b69bc0fb983f7e4",
            "fa9df3b8eff746248ede173332693c8e",
            "19b39a947851455c928a6ed3299116d9",
            "24cd3f6ebe1945a282f3e79d7e935109",
            "586af2ed76df4e49ad58e2c09577b76f",
            "4fceafdccd964d329e8d066687b31ea6",
            "db6ece1f110f4c5bbbdb341aaafa27eb",
            "6ad2e47dccfe4f829e1b0f07bc530c04",
            "9357a69d31af440fbfca4b0f4ad6dcf9",
            "6884f7f898634bbc9dbc0a4b0ae75ce3",
            "8a006181ac724a0184ede4353f0be080",
            "c3cd28f79694419192fa14f621a84f8c",
            "7a3be49a913a4de6ac56734ddfc8fb58",
            "61cecb160bd34b02a88879709de8f863",
            "7d1b7de9849543009ce588f0d52c9eb9",
            "2934717a766545919b1c25504d40429a",
            "be075ad893b74e049a71096b567d7a66",
            "12d35d2c98a04517ba3d699af657ca46",
            "fa81678bf787411ea7ee221ed165cd42",
            "c383d13d01594dccba643921dec97e40",
            "8f0cb2f853b5489e9b9c63b4c0bd4b02",
            "0d00e88b1f52412496896d742e8258f4",
            "2c1944399ed44975b541699562afdda8",
            "7bd1bcff2cba4a91a24ae6cee6e7c55c",
            "43f05496e8ab4644b5bf544d442a1244",
            "e488020de2c8431b9a07e399013fbe4a",
            "15d43da0964c48e79e50b1cd94f05afd",
            "6094b130466443a78e0d0733ded44dfb",
            "101787fa17a1480b97587ee9006fc530",
            "915652964d8b45009f058ab1840b3de8",
            "bcc9a6f7d8274a44a6a577eb81f1269c",
            "228a16a3a3f943d9a5016ad71bd6b94b",
            "b1fd6b72a71649b8a2f223b89e526195",
            "a6d06f6ad1174c4090374ea8dffd0f81",
            "765d1cd453ce42e9a7a8fdf68f93c9f3",
            "415e327053d04664a09429cb968835c8",
            "e79eb8bf1bd040cc801f4aac2d05042c",
            "362d974f66d444698a5f3fcc9ab5b79e",
            "3a9c3e758b3348a7a0d81ebb2d4233e4",
            "895f03e1286e4497aa8e0897afc095fc",
            "e0f5a8f8c3b0487eb0f2686b5157b724",
            "e2f3bc2420fb42faaff60417cc475b4f",
            "cc4c44ca88c147d28b0fa10df5be602c",
            "c771c0d9e86b44bfb3c8c069b488295f",
            "9452791e02ae40f2881b830219274021",
            "383a524e4608457cbcd1989acbc57c99",
            "a7c0dcf1c10a4389b59715e3985b7fdc",
            "fa795271c3af4ff6a2005befc9ec43df",
            "47368149c8094c3b97f2b438fd770770",
            "4e5b9d27a2a74733a8da68b442279c19",
            "04663791b3404fbbb8eefafc8d044ab8",
            "4adbefb7c49748699e9a381e4977c4a2",
            "7bb8bfc8e256481ea016d70ab098e0a5",
            "c68e33cb5b9c47a29750ebae10d491f6",
            "c4147903f89a4ed0ac0542b229de00ef",
            "6af4af7f2de64386ac00bf7796950b91",
            "4fbc2a47567942159ea314db6f8d385e",
            "b9faf53ad15b4e74bffe3284be9ea8ca",
            "cc1cc65d29ef4c4bab91c34d53c2ac8b",
            "bf63988768164be28da7c388eed7bcf2",
            "73b687c713164b86bf4e51c41b86181e"
          ]
        },
        "id": "obTgsm4qJc6m",
        "outputId": "c65bc247-217f-41d7-dc3e-60cec4c6ed09"
      },
      "outputs": [
        {
          "name": "stdout",
          "output_type": "stream",
          "text": [
            "====>   Training size: 0.1\n"
          ]
        },
        {
          "data": {
            "text/html": [],
            "text/plain": [
              "<IPython.core.display.HTML object>"
            ]
          },
          "metadata": {},
          "output_type": "display_data"
        },
        {
          "data": {
            "text/html": [
              "<br>    <style><br>        .wandb-row {<br>            display: flex;<br>            flex-direction: row;<br>            flex-wrap: wrap;<br>            justify-content: flex-start;<br>            width: 100%;<br>        }<br>        .wandb-col {<br>            display: flex;<br>            flex-direction: column;<br>            flex-basis: 100%;<br>            flex: 1;<br>            padding: 10px;<br>        }<br>    </style><br><div class=\"wandb-row\"><div class=\"wandb-col\"><h3>Run history:</h3><br/><table class=\"wandb\"><tr><td>batch_idx</td><td>▄▇▃▁▂▄▅▅█▃▅▄▁▂▃▂▄▃▇▂█▄▇▁▂▇▃▄▅▆▄▆▂▂▃▆▃▄▆▅</td></tr><tr><td>epoch</td><td>▁▁▂▂▃▃▃▃▄▄▅▅▆▆▆▆▇▇██</td></tr><tr><td>loss</td><td>▁█▁▁▁▁▁▁▁▁▁▁▁▁▁▁▁▁▁▁▁▁▁▁▁▁▁▁▁▁▁▁▁▁▁▁▁▁▁▁</td></tr><tr><td>train_accuracy</td><td>▁▁▁▁▁▁▁▁▁▁</td></tr><tr><td>train_loss</td><td>▁▆█▅▅▅███▄</td></tr><tr><td>valid_accuracy</td><td>▁▁▁▁▁▁▁▁▁▁</td></tr><tr><td>valid_loss</td><td>▁▁▁▂▃▃▄▅▇█</td></tr></table><br/></div><div class=\"wandb-col\"><h3>Run summary:</h3><br/><table class=\"wandb\"><tr><td>batch_idx</td><td>15</td></tr><tr><td>epoch</td><td>9</td></tr><tr><td>loss</td><td>4.62315</td></tr><tr><td>train_accuracy</td><td>0.0098</td></tr><tr><td>train_loss</td><td>4.623</td></tr><tr><td>valid_accuracy</td><td>0.0098</td></tr><tr><td>valid_loss</td><td>4.625</td></tr></table><br/></div></div>"
            ],
            "text/plain": [
              "<IPython.core.display.HTML object>"
            ]
          },
          "metadata": {},
          "output_type": "display_data"
        },
        {
          "data": {
            "text/html": [
              " View run <strong style=\"color:#cdcd00\">Task2_1744726107</strong> at: <a href='https://wandb.ai/fejowo5522-/NN_list3_OxFlow/runs/st6202gt' target=\"_blank\">https://wandb.ai/fejowo5522-/NN_list3_OxFlow/runs/st6202gt</a><br> View project at: <a href='https://wandb.ai/fejowo5522-/NN_list3_OxFlow' target=\"_blank\">https://wandb.ai/fejowo5522-/NN_list3_OxFlow</a><br>Synced 5 W&B file(s), 0 media file(s), 0 artifact file(s) and 0 other file(s)"
            ],
            "text/plain": [
              "<IPython.core.display.HTML object>"
            ]
          },
          "metadata": {},
          "output_type": "display_data"
        },
        {
          "data": {
            "text/html": [
              "Find logs at: <code>./wandb/run-20250415_140826-st6202gt/logs</code>"
            ],
            "text/plain": [
              "<IPython.core.display.HTML object>"
            ]
          },
          "metadata": {},
          "output_type": "display_data"
        },
        {
          "data": {
            "text/html": [
              "Tracking run with wandb version 0.19.9"
            ],
            "text/plain": [
              "<IPython.core.display.HTML object>"
            ]
          },
          "metadata": {},
          "output_type": "display_data"
        },
        {
          "data": {
            "text/html": [
              "Run data is saved locally in <code>/content/wandb/run-20250415_141114-vi5h95pd</code>"
            ],
            "text/plain": [
              "<IPython.core.display.HTML object>"
            ]
          },
          "metadata": {},
          "output_type": "display_data"
        },
        {
          "data": {
            "text/html": [
              "Syncing run <strong><a href='https://wandb.ai/fejowo5522-/NN_list3_OxFlow/runs/vi5h95pd' target=\"_blank\">decent-leaf-78</a></strong> to <a href='https://wandb.ai/fejowo5522-/NN_list3_OxFlow' target=\"_blank\">Weights & Biases</a> (<a href='https://wandb.me/developer-guide' target=\"_blank\">docs</a>)<br>"
            ],
            "text/plain": [
              "<IPython.core.display.HTML object>"
            ]
          },
          "metadata": {},
          "output_type": "display_data"
        },
        {
          "data": {
            "text/html": [
              " View project at <a href='https://wandb.ai/fejowo5522-/NN_list3_OxFlow' target=\"_blank\">https://wandb.ai/fejowo5522-/NN_list3_OxFlow</a>"
            ],
            "text/plain": [
              "<IPython.core.display.HTML object>"
            ]
          },
          "metadata": {},
          "output_type": "display_data"
        },
        {
          "data": {
            "text/html": [
              " View run at <a href='https://wandb.ai/fejowo5522-/NN_list3_OxFlow/runs/vi5h95pd' target=\"_blank\">https://wandb.ai/fejowo5522-/NN_list3_OxFlow/runs/vi5h95pd</a>"
            ],
            "text/plain": [
              "<IPython.core.display.HTML object>"
            ]
          },
          "metadata": {},
          "output_type": "display_data"
        },
        {
          "data": {
            "application/vnd.jupyter.widget-view+json": {
              "model_id": "5b376966309b48dba1a5402e097a69e0",
              "version_major": 2,
              "version_minor": 0
            },
            "text/plain": [
              "Training:   0%|          | 0/5 [00:00<?, ?it/s]"
            ]
          },
          "metadata": {},
          "output_type": "display_data"
        },
        {
          "name": "stdout",
          "output_type": "stream",
          "text": [
            "Test set: Average loss: 4.619931, Accuracy: ( 1.0%)\n"
          ]
        },
        {
          "data": {
            "text/html": [],
            "text/plain": [
              "<IPython.core.display.HTML object>"
            ]
          },
          "metadata": {},
          "output_type": "display_data"
        },
        {
          "data": {
            "text/html": [
              "<br>    <style><br>        .wandb-row {<br>            display: flex;<br>            flex-direction: row;<br>            flex-wrap: wrap;<br>            justify-content: flex-start;<br>            width: 100%;<br>        }<br>        .wandb-col {<br>            display: flex;<br>            flex-direction: column;<br>            flex-basis: 100%;<br>            flex: 1;<br>            padding: 10px;<br>        }<br>    </style><br><div class=\"wandb-row\"><div class=\"wandb-col\"><h3>Run history:</h3><br/><table class=\"wandb\"><tr><td>batch_idx</td><td>▁█▁█▁█▁█▁█</td></tr><tr><td>epoch</td><td>▁▁▃▃▅▅▆▆██</td></tr><tr><td>loss</td><td>▁██▆▅▃▂▁▁▁</td></tr><tr><td>test_accuracy</td><td>▁</td></tr><tr><td>test_loss</td><td>▁</td></tr><tr><td>train_accuracy</td><td>▅▂▆█▁</td></tr><tr><td>train_loss</td><td>█▅▂▁▁</td></tr><tr><td>valid_accuracy</td><td>▂▃█▁▂</td></tr><tr><td>valid_loss</td><td>█▅▂▁▁</td></tr></table><br/></div><div class=\"wandb-col\"><h3>Run summary:</h3><br/><table class=\"wandb\"><tr><td>batch_idx</td><td>1</td></tr><tr><td>epoch</td><td>4</td></tr><tr><td>loss</td><td>4.73263</td></tr><tr><td>test_accuracy</td><td>0.00992</td></tr><tr><td>test_loss</td><td>4.61993</td></tr><tr><td>train_accuracy</td><td>0.0098</td></tr><tr><td>train_loss</td><td>4.62428</td></tr><tr><td>valid_accuracy</td><td>0.00784</td></tr><tr><td>valid_loss</td><td>4.65063</td></tr></table><br/></div></div>"
            ],
            "text/plain": [
              "<IPython.core.display.HTML object>"
            ]
          },
          "metadata": {},
          "output_type": "display_data"
        },
        {
          "data": {
            "text/html": [
              " View run <strong style=\"color:#cdcd00\">Task2_1744726275</strong> at: <a href='https://wandb.ai/fejowo5522-/NN_list3_OxFlow/runs/vi5h95pd' target=\"_blank\">https://wandb.ai/fejowo5522-/NN_list3_OxFlow/runs/vi5h95pd</a><br> View project at: <a href='https://wandb.ai/fejowo5522-/NN_list3_OxFlow' target=\"_blank\">https://wandb.ai/fejowo5522-/NN_list3_OxFlow</a><br>Synced 5 W&B file(s), 0 media file(s), 0 artifact file(s) and 0 other file(s)"
            ],
            "text/plain": [
              "<IPython.core.display.HTML object>"
            ]
          },
          "metadata": {},
          "output_type": "display_data"
        },
        {
          "data": {
            "text/html": [
              "Find logs at: <code>./wandb/run-20250415_141114-vi5h95pd/logs</code>"
            ],
            "text/plain": [
              "<IPython.core.display.HTML object>"
            ]
          },
          "metadata": {},
          "output_type": "display_data"
        },
        {
          "name": "stdout",
          "output_type": "stream",
          "text": [
            "====>   Training size: 0.2\n"
          ]
        },
        {
          "data": {
            "text/html": [
              "Tracking run with wandb version 0.19.9"
            ],
            "text/plain": [
              "<IPython.core.display.HTML object>"
            ]
          },
          "metadata": {},
          "output_type": "display_data"
        },
        {
          "data": {
            "text/html": [
              "Run data is saved locally in <code>/content/wandb/run-20250415_141141-us0463j3</code>"
            ],
            "text/plain": [
              "<IPython.core.display.HTML object>"
            ]
          },
          "metadata": {},
          "output_type": "display_data"
        },
        {
          "data": {
            "text/html": [
              "Syncing run <strong><a href='https://wandb.ai/fejowo5522-/NN_list3_OxFlow/runs/us0463j3' target=\"_blank\">fanciful-monkey-79</a></strong> to <a href='https://wandb.ai/fejowo5522-/NN_list3_OxFlow' target=\"_blank\">Weights & Biases</a> (<a href='https://wandb.me/developer-guide' target=\"_blank\">docs</a>)<br>"
            ],
            "text/plain": [
              "<IPython.core.display.HTML object>"
            ]
          },
          "metadata": {},
          "output_type": "display_data"
        },
        {
          "data": {
            "text/html": [
              " View project at <a href='https://wandb.ai/fejowo5522-/NN_list3_OxFlow' target=\"_blank\">https://wandb.ai/fejowo5522-/NN_list3_OxFlow</a>"
            ],
            "text/plain": [
              "<IPython.core.display.HTML object>"
            ]
          },
          "metadata": {},
          "output_type": "display_data"
        },
        {
          "data": {
            "text/html": [
              " View run at <a href='https://wandb.ai/fejowo5522-/NN_list3_OxFlow/runs/us0463j3' target=\"_blank\">https://wandb.ai/fejowo5522-/NN_list3_OxFlow/runs/us0463j3</a>"
            ],
            "text/plain": [
              "<IPython.core.display.HTML object>"
            ]
          },
          "metadata": {},
          "output_type": "display_data"
        },
        {
          "data": {
            "application/vnd.jupyter.widget-view+json": {
              "model_id": "b80e6b3d3d1d40428bb42b1e372a1d1b",
              "version_major": 2,
              "version_minor": 0
            },
            "text/plain": [
              "Training:   0%|          | 0/5 [00:00<?, ?it/s]"
            ]
          },
          "metadata": {},
          "output_type": "display_data"
        },
        {
          "name": "stdout",
          "output_type": "stream",
          "text": [
            "Test set: Average loss: 4.624298, Accuracy: ( 1.0%)\n"
          ]
        },
        {
          "data": {
            "text/html": [],
            "text/plain": [
              "<IPython.core.display.HTML object>"
            ]
          },
          "metadata": {},
          "output_type": "display_data"
        },
        {
          "data": {
            "text/html": [
              "<br>    <style><br>        .wandb-row {<br>            display: flex;<br>            flex-direction: row;<br>            flex-wrap: wrap;<br>            justify-content: flex-start;<br>            width: 100%;<br>        }<br>        .wandb-col {<br>            display: flex;<br>            flex-direction: column;<br>            flex-basis: 100%;<br>            flex: 1;<br>            padding: 10px;<br>        }<br>    </style><br><div class=\"wandb-row\"><div class=\"wandb-col\"><h3>Run history:</h3><br/><table class=\"wandb\"><tr><td>batch_idx</td><td>▁▃▆█▁▃▆█▁▃▆█▁▃▆█▁▃▆█</td></tr><tr><td>epoch</td><td>▁▁▃▃▅▅▆▆██</td></tr><tr><td>loss</td><td>▂▇██▆▄▂▁▁▁▁▁▁▁▁▁▁▁▁▁</td></tr><tr><td>test_accuracy</td><td>▁</td></tr><tr><td>test_loss</td><td>▁</td></tr><tr><td>train_accuracy</td><td>█▁▅▇▂</td></tr><tr><td>train_loss</td><td>█▁▁▁▁</td></tr><tr><td>valid_accuracy</td><td>▁▃█▆█</td></tr><tr><td>valid_loss</td><td>█▁▁▁▁</td></tr></table><br/></div><div class=\"wandb-col\"><h3>Run summary:</h3><br/><table class=\"wandb\"><tr><td>batch_idx</td><td>3</td></tr><tr><td>epoch</td><td>4</td></tr><tr><td>loss</td><td>4.61903</td></tr><tr><td>test_accuracy</td><td>0.01025</td></tr><tr><td>test_loss</td><td>4.6243</td></tr><tr><td>train_accuracy</td><td>0.00784</td></tr><tr><td>train_loss</td><td>4.62643</td></tr><tr><td>valid_accuracy</td><td>0.01078</td></tr><tr><td>valid_loss</td><td>4.61738</td></tr></table><br/></div></div>"
            ],
            "text/plain": [
              "<IPython.core.display.HTML object>"
            ]
          },
          "metadata": {},
          "output_type": "display_data"
        },
        {
          "data": {
            "text/html": [
              " View run <strong style=\"color:#cdcd00\">Task2_1744726302</strong> at: <a href='https://wandb.ai/fejowo5522-/NN_list3_OxFlow/runs/us0463j3' target=\"_blank\">https://wandb.ai/fejowo5522-/NN_list3_OxFlow/runs/us0463j3</a><br> View project at: <a href='https://wandb.ai/fejowo5522-/NN_list3_OxFlow' target=\"_blank\">https://wandb.ai/fejowo5522-/NN_list3_OxFlow</a><br>Synced 5 W&B file(s), 0 media file(s), 0 artifact file(s) and 0 other file(s)"
            ],
            "text/plain": [
              "<IPython.core.display.HTML object>"
            ]
          },
          "metadata": {},
          "output_type": "display_data"
        },
        {
          "data": {
            "text/html": [
              "Find logs at: <code>./wandb/run-20250415_141141-us0463j3/logs</code>"
            ],
            "text/plain": [
              "<IPython.core.display.HTML object>"
            ]
          },
          "metadata": {},
          "output_type": "display_data"
        },
        {
          "name": "stdout",
          "output_type": "stream",
          "text": [
            "====>   Training size: 0.5\n"
          ]
        },
        {
          "data": {
            "text/html": [
              "Tracking run with wandb version 0.19.9"
            ],
            "text/plain": [
              "<IPython.core.display.HTML object>"
            ]
          },
          "metadata": {},
          "output_type": "display_data"
        },
        {
          "data": {
            "text/html": [
              "Run data is saved locally in <code>/content/wandb/run-20250415_141211-ezplr2zd</code>"
            ],
            "text/plain": [
              "<IPython.core.display.HTML object>"
            ]
          },
          "metadata": {},
          "output_type": "display_data"
        },
        {
          "data": {
            "text/html": [
              "Syncing run <strong><a href='https://wandb.ai/fejowo5522-/NN_list3_OxFlow/runs/ezplr2zd' target=\"_blank\">frosty-wildflower-80</a></strong> to <a href='https://wandb.ai/fejowo5522-/NN_list3_OxFlow' target=\"_blank\">Weights & Biases</a> (<a href='https://wandb.me/developer-guide' target=\"_blank\">docs</a>)<br>"
            ],
            "text/plain": [
              "<IPython.core.display.HTML object>"
            ]
          },
          "metadata": {},
          "output_type": "display_data"
        },
        {
          "data": {
            "text/html": [
              " View project at <a href='https://wandb.ai/fejowo5522-/NN_list3_OxFlow' target=\"_blank\">https://wandb.ai/fejowo5522-/NN_list3_OxFlow</a>"
            ],
            "text/plain": [
              "<IPython.core.display.HTML object>"
            ]
          },
          "metadata": {},
          "output_type": "display_data"
        },
        {
          "data": {
            "text/html": [
              " View run at <a href='https://wandb.ai/fejowo5522-/NN_list3_OxFlow/runs/ezplr2zd' target=\"_blank\">https://wandb.ai/fejowo5522-/NN_list3_OxFlow/runs/ezplr2zd</a>"
            ],
            "text/plain": [
              "<IPython.core.display.HTML object>"
            ]
          },
          "metadata": {},
          "output_type": "display_data"
        },
        {
          "data": {
            "application/vnd.jupyter.widget-view+json": {
              "model_id": "ad8c6ae966aa4e68a4742cee58a63971",
              "version_major": 2,
              "version_minor": 0
            },
            "text/plain": [
              "Training:   0%|          | 0/5 [00:00<?, ?it/s]"
            ]
          },
          "metadata": {},
          "output_type": "display_data"
        },
        {
          "name": "stdout",
          "output_type": "stream",
          "text": [
            "Test set: Average loss: 4.624965, Accuracy: ( 1.0%)\n"
          ]
        },
        {
          "data": {
            "text/html": [],
            "text/plain": [
              "<IPython.core.display.HTML object>"
            ]
          },
          "metadata": {},
          "output_type": "display_data"
        },
        {
          "data": {
            "text/html": [
              "<br>    <style><br>        .wandb-row {<br>            display: flex;<br>            flex-direction: row;<br>            flex-wrap: wrap;<br>            justify-content: flex-start;<br>            width: 100%;<br>        }<br>        .wandb-col {<br>            display: flex;<br>            flex-direction: column;<br>            flex-basis: 100%;<br>            flex: 1;<br>            padding: 10px;<br>        }<br>    </style><br><div class=\"wandb-row\"><div class=\"wandb-col\"><h3>Run history:</h3><br/><table class=\"wandb\"><tr><td>batch_idx</td><td>▁▂▃▄▅▆▇█▁▂▃▄▅▆▇█▁▂▃▄▅▆▇█▁▂▃▄▅▆▇█▁▂▃▄▅▆▇█</td></tr><tr><td>epoch</td><td>▁▁▃▃▅▅▆▆██</td></tr><tr><td>loss</td><td>▃▆▇█▅▃▁▁▁▁▁▁▁▁▁▁▁▁▁▁▁▁▁▁▁▁▁▁▁▁▁▁▁▁▁▁▁▁▁▁</td></tr><tr><td>test_accuracy</td><td>▁</td></tr><tr><td>test_loss</td><td>▁</td></tr><tr><td>train_accuracy</td><td>▁████</td></tr><tr><td>train_loss</td><td>█▁▁▁▁</td></tr><tr><td>valid_accuracy</td><td>▁▁▁▁▁</td></tr><tr><td>valid_loss</td><td>█▁▁▁▁</td></tr></table><br/></div><div class=\"wandb-col\"><h3>Run summary:</h3><br/><table class=\"wandb\"><tr><td>batch_idx</td><td>7</td></tr><tr><td>epoch</td><td>4</td></tr><tr><td>loss</td><td>4.62499</td></tr><tr><td>test_accuracy</td><td>0.01008</td></tr><tr><td>test_loss</td><td>4.62496</td></tr><tr><td>train_accuracy</td><td>0.0098</td></tr><tr><td>train_loss</td><td>4.62482</td></tr><tr><td>valid_accuracy</td><td>0.0098</td></tr><tr><td>valid_loss</td><td>4.62497</td></tr></table><br/></div></div>"
            ],
            "text/plain": [
              "<IPython.core.display.HTML object>"
            ]
          },
          "metadata": {},
          "output_type": "display_data"
        },
        {
          "data": {
            "text/html": [
              " View run <strong style=\"color:#cdcd00\">Task2_1744726332</strong> at: <a href='https://wandb.ai/fejowo5522-/NN_list3_OxFlow/runs/ezplr2zd' target=\"_blank\">https://wandb.ai/fejowo5522-/NN_list3_OxFlow/runs/ezplr2zd</a><br> View project at: <a href='https://wandb.ai/fejowo5522-/NN_list3_OxFlow' target=\"_blank\">https://wandb.ai/fejowo5522-/NN_list3_OxFlow</a><br>Synced 5 W&B file(s), 0 media file(s), 0 artifact file(s) and 0 other file(s)"
            ],
            "text/plain": [
              "<IPython.core.display.HTML object>"
            ]
          },
          "metadata": {},
          "output_type": "display_data"
        },
        {
          "data": {
            "text/html": [
              "Find logs at: <code>./wandb/run-20250415_141211-ezplr2zd/logs</code>"
            ],
            "text/plain": [
              "<IPython.core.display.HTML object>"
            ]
          },
          "metadata": {},
          "output_type": "display_data"
        },
        {
          "name": "stdout",
          "output_type": "stream",
          "text": [
            "====>   Training size: 0.8\n"
          ]
        },
        {
          "data": {
            "text/html": [
              "Tracking run with wandb version 0.19.9"
            ],
            "text/plain": [
              "<IPython.core.display.HTML object>"
            ]
          },
          "metadata": {},
          "output_type": "display_data"
        },
        {
          "data": {
            "text/html": [
              "Run data is saved locally in <code>/content/wandb/run-20250415_141246-mddacxto</code>"
            ],
            "text/plain": [
              "<IPython.core.display.HTML object>"
            ]
          },
          "metadata": {},
          "output_type": "display_data"
        },
        {
          "data": {
            "text/html": [
              "Syncing run <strong><a href='https://wandb.ai/fejowo5522-/NN_list3_OxFlow/runs/mddacxto' target=\"_blank\">rosy-silence-81</a></strong> to <a href='https://wandb.ai/fejowo5522-/NN_list3_OxFlow' target=\"_blank\">Weights & Biases</a> (<a href='https://wandb.me/developer-guide' target=\"_blank\">docs</a>)<br>"
            ],
            "text/plain": [
              "<IPython.core.display.HTML object>"
            ]
          },
          "metadata": {},
          "output_type": "display_data"
        },
        {
          "data": {
            "text/html": [
              " View project at <a href='https://wandb.ai/fejowo5522-/NN_list3_OxFlow' target=\"_blank\">https://wandb.ai/fejowo5522-/NN_list3_OxFlow</a>"
            ],
            "text/plain": [
              "<IPython.core.display.HTML object>"
            ]
          },
          "metadata": {},
          "output_type": "display_data"
        },
        {
          "data": {
            "text/html": [
              " View run at <a href='https://wandb.ai/fejowo5522-/NN_list3_OxFlow/runs/mddacxto' target=\"_blank\">https://wandb.ai/fejowo5522-/NN_list3_OxFlow/runs/mddacxto</a>"
            ],
            "text/plain": [
              "<IPython.core.display.HTML object>"
            ]
          },
          "metadata": {},
          "output_type": "display_data"
        },
        {
          "data": {
            "application/vnd.jupyter.widget-view+json": {
              "model_id": "db6ece1f110f4c5bbbdb341aaafa27eb",
              "version_major": 2,
              "version_minor": 0
            },
            "text/plain": [
              "Training:   0%|          | 0/5 [00:00<?, ?it/s]"
            ]
          },
          "metadata": {},
          "output_type": "display_data"
        },
        {
          "name": "stdout",
          "output_type": "stream",
          "text": [
            "Test set: Average loss: 4.624758, Accuracy: ( 0.3%)\n"
          ]
        },
        {
          "data": {
            "text/html": [],
            "text/plain": [
              "<IPython.core.display.HTML object>"
            ]
          },
          "metadata": {},
          "output_type": "display_data"
        },
        {
          "data": {
            "text/html": [
              "<br>    <style><br>        .wandb-row {<br>            display: flex;<br>            flex-direction: row;<br>            flex-wrap: wrap;<br>            justify-content: flex-start;<br>            width: 100%;<br>        }<br>        .wandb-col {<br>            display: flex;<br>            flex-direction: column;<br>            flex-basis: 100%;<br>            flex: 1;<br>            padding: 10px;<br>        }<br>    </style><br><div class=\"wandb-row\"><div class=\"wandb-col\"><h3>Run history:</h3><br/><table class=\"wandb\"><tr><td>batch_idx</td><td>▁▂▂▃▃▅▆▇▇█▂▄▅▇█▂▂▃▅▅▆▇█▂▂▃▄▅▆▆▇█▁▂▂▃▅▆▇█</td></tr><tr><td>epoch</td><td>▁▁▃▃▅▅▆▆██</td></tr><tr><td>loss</td><td>▂▆██▁▁▁▁▁▁▁▁▁▁▁▁▁▁▁▁▁▁▁▁▁▁▁▁▁▁▁▁▁▁▁▁▁▁▁▁</td></tr><tr><td>test_accuracy</td><td>▁</td></tr><tr><td>test_loss</td><td>▁</td></tr><tr><td>train_accuracy</td><td>▁▆█▅▅</td></tr><tr><td>train_loss</td><td>▁▁█▂▂</td></tr><tr><td>valid_accuracy</td><td>▁▁▁▁▁</td></tr><tr><td>valid_loss</td><td>█▂▁▃▂</td></tr></table><br/></div><div class=\"wandb-col\"><h3>Run summary:</h3><br/><table class=\"wandb\"><tr><td>batch_idx</td><td>12</td></tr><tr><td>epoch</td><td>4</td></tr><tr><td>loss</td><td>4.62132</td></tr><tr><td>test_accuracy</td><td>0.00293</td></tr><tr><td>test_loss</td><td>4.62476</td></tr><tr><td>train_accuracy</td><td>0.0098</td></tr><tr><td>train_loss</td><td>4.62426</td></tr><tr><td>valid_accuracy</td><td>0.0098</td></tr><tr><td>valid_loss</td><td>4.62487</td></tr></table><br/></div></div>"
            ],
            "text/plain": [
              "<IPython.core.display.HTML object>"
            ]
          },
          "metadata": {},
          "output_type": "display_data"
        },
        {
          "data": {
            "text/html": [
              " View run <strong style=\"color:#cdcd00\">Task2_1744726367</strong> at: <a href='https://wandb.ai/fejowo5522-/NN_list3_OxFlow/runs/mddacxto' target=\"_blank\">https://wandb.ai/fejowo5522-/NN_list3_OxFlow/runs/mddacxto</a><br> View project at: <a href='https://wandb.ai/fejowo5522-/NN_list3_OxFlow' target=\"_blank\">https://wandb.ai/fejowo5522-/NN_list3_OxFlow</a><br>Synced 5 W&B file(s), 0 media file(s), 0 artifact file(s) and 0 other file(s)"
            ],
            "text/plain": [
              "<IPython.core.display.HTML object>"
            ]
          },
          "metadata": {},
          "output_type": "display_data"
        },
        {
          "data": {
            "text/html": [
              "Find logs at: <code>./wandb/run-20250415_141246-mddacxto/logs</code>"
            ],
            "text/plain": [
              "<IPython.core.display.HTML object>"
            ]
          },
          "metadata": {},
          "output_type": "display_data"
        },
        {
          "name": "stdout",
          "output_type": "stream",
          "text": [
            "====>   Training size: 1\n"
          ]
        },
        {
          "data": {
            "text/html": [
              "Tracking run with wandb version 0.19.9"
            ],
            "text/plain": [
              "<IPython.core.display.HTML object>"
            ]
          },
          "metadata": {},
          "output_type": "display_data"
        },
        {
          "data": {
            "text/html": [
              "Run data is saved locally in <code>/content/wandb/run-20250415_141328-tcek60om</code>"
            ],
            "text/plain": [
              "<IPython.core.display.HTML object>"
            ]
          },
          "metadata": {},
          "output_type": "display_data"
        },
        {
          "data": {
            "text/html": [
              "Syncing run <strong><a href='https://wandb.ai/fejowo5522-/NN_list3_OxFlow/runs/tcek60om' target=\"_blank\">peach-leaf-82</a></strong> to <a href='https://wandb.ai/fejowo5522-/NN_list3_OxFlow' target=\"_blank\">Weights & Biases</a> (<a href='https://wandb.me/developer-guide' target=\"_blank\">docs</a>)<br>"
            ],
            "text/plain": [
              "<IPython.core.display.HTML object>"
            ]
          },
          "metadata": {},
          "output_type": "display_data"
        },
        {
          "data": {
            "text/html": [
              " View project at <a href='https://wandb.ai/fejowo5522-/NN_list3_OxFlow' target=\"_blank\">https://wandb.ai/fejowo5522-/NN_list3_OxFlow</a>"
            ],
            "text/plain": [
              "<IPython.core.display.HTML object>"
            ]
          },
          "metadata": {},
          "output_type": "display_data"
        },
        {
          "data": {
            "text/html": [
              " View run at <a href='https://wandb.ai/fejowo5522-/NN_list3_OxFlow/runs/tcek60om' target=\"_blank\">https://wandb.ai/fejowo5522-/NN_list3_OxFlow/runs/tcek60om</a>"
            ],
            "text/plain": [
              "<IPython.core.display.HTML object>"
            ]
          },
          "metadata": {},
          "output_type": "display_data"
        },
        {
          "data": {
            "application/vnd.jupyter.widget-view+json": {
              "model_id": "12d35d2c98a04517ba3d699af657ca46",
              "version_major": 2,
              "version_minor": 0
            },
            "text/plain": [
              "Training:   0%|          | 0/5 [00:00<?, ?it/s]"
            ]
          },
          "metadata": {},
          "output_type": "display_data"
        },
        {
          "name": "stdout",
          "output_type": "stream",
          "text": [
            "Test set: Average loss: 4.622943, Accuracy: ( 1.7%)\n"
          ]
        },
        {
          "data": {
            "text/html": [],
            "text/plain": [
              "<IPython.core.display.HTML object>"
            ]
          },
          "metadata": {},
          "output_type": "display_data"
        },
        {
          "data": {
            "text/html": [
              "<br>    <style><br>        .wandb-row {<br>            display: flex;<br>            flex-direction: row;<br>            flex-wrap: wrap;<br>            justify-content: flex-start;<br>            width: 100%;<br>        }<br>        .wandb-col {<br>            display: flex;<br>            flex-direction: column;<br>            flex-basis: 100%;<br>            flex: 1;<br>            padding: 10px;<br>        }<br>    </style><br><div class=\"wandb-row\"><div class=\"wandb-col\"><h3>Run history:</h3><br/><table class=\"wandb\"><tr><td>batch_idx</td><td>▂▃▃▄▄▅▆▆▇█▁▂▂▃▄▅▆▆▇█▁▃▄▅▆█▂▃▄▄▅▆▆▇▁▂▃▄▅█</td></tr><tr><td>epoch</td><td>▁▁▃▃▅▅▆▆██</td></tr><tr><td>loss</td><td>▇█▁▁▁▁▁▁▁▁▁▁▁▁▁▁▁▁▁▁▁▁▁▁▁▁▁▁▁▁▁▁▁▁▁▁▁▁▁▁</td></tr><tr><td>test_accuracy</td><td>▁</td></tr><tr><td>test_loss</td><td>▁</td></tr><tr><td>train_accuracy</td><td>█▃▆▁▁</td></tr><tr><td>train_loss</td><td>▅█▁▆█</td></tr><tr><td>valid_accuracy</td><td>▆▁█▁▁</td></tr><tr><td>valid_loss</td><td>▄█▁▆▇</td></tr></table><br/></div><div class=\"wandb-col\"><h3>Run summary:</h3><br/><table class=\"wandb\"><tr><td>batch_idx</td><td>15</td></tr><tr><td>epoch</td><td>4</td></tr><tr><td>loss</td><td>4.62503</td></tr><tr><td>test_accuracy</td><td>0.01659</td></tr><tr><td>test_loss</td><td>4.62294</td></tr><tr><td>train_accuracy</td><td>0.0098</td></tr><tr><td>train_loss</td><td>4.6249</td></tr><tr><td>valid_accuracy</td><td>0.0098</td></tr><tr><td>valid_loss</td><td>4.62497</td></tr></table><br/></div></div>"
            ],
            "text/plain": [
              "<IPython.core.display.HTML object>"
            ]
          },
          "metadata": {},
          "output_type": "display_data"
        },
        {
          "data": {
            "text/html": [
              " View run <strong style=\"color:#cdcd00\">Task2_1744726409</strong> at: <a href='https://wandb.ai/fejowo5522-/NN_list3_OxFlow/runs/tcek60om' target=\"_blank\">https://wandb.ai/fejowo5522-/NN_list3_OxFlow/runs/tcek60om</a><br> View project at: <a href='https://wandb.ai/fejowo5522-/NN_list3_OxFlow' target=\"_blank\">https://wandb.ai/fejowo5522-/NN_list3_OxFlow</a><br>Synced 5 W&B file(s), 0 media file(s), 0 artifact file(s) and 0 other file(s)"
            ],
            "text/plain": [
              "<IPython.core.display.HTML object>"
            ]
          },
          "metadata": {},
          "output_type": "display_data"
        },
        {
          "data": {
            "text/html": [
              "Find logs at: <code>./wandb/run-20250415_141328-tcek60om/logs</code>"
            ],
            "text/plain": [
              "<IPython.core.display.HTML object>"
            ]
          },
          "metadata": {},
          "output_type": "display_data"
        },
        {
          "name": "stdout",
          "output_type": "stream",
          "text": [
            "====>   Training size: 1.2\n"
          ]
        },
        {
          "data": {
            "text/html": [
              "Tracking run with wandb version 0.19.9"
            ],
            "text/plain": [
              "<IPython.core.display.HTML object>"
            ]
          },
          "metadata": {},
          "output_type": "display_data"
        },
        {
          "data": {
            "text/html": [
              "Run data is saved locally in <code>/content/wandb/run-20250415_141414-3y5jkmlc</code>"
            ],
            "text/plain": [
              "<IPython.core.display.HTML object>"
            ]
          },
          "metadata": {},
          "output_type": "display_data"
        },
        {
          "data": {
            "text/html": [
              "Syncing run <strong><a href='https://wandb.ai/fejowo5522-/NN_list3_OxFlow/runs/3y5jkmlc' target=\"_blank\">soft-wood-83</a></strong> to <a href='https://wandb.ai/fejowo5522-/NN_list3_OxFlow' target=\"_blank\">Weights & Biases</a> (<a href='https://wandb.me/developer-guide' target=\"_blank\">docs</a>)<br>"
            ],
            "text/plain": [
              "<IPython.core.display.HTML object>"
            ]
          },
          "metadata": {},
          "output_type": "display_data"
        },
        {
          "data": {
            "text/html": [
              " View project at <a href='https://wandb.ai/fejowo5522-/NN_list3_OxFlow' target=\"_blank\">https://wandb.ai/fejowo5522-/NN_list3_OxFlow</a>"
            ],
            "text/plain": [
              "<IPython.core.display.HTML object>"
            ]
          },
          "metadata": {},
          "output_type": "display_data"
        },
        {
          "data": {
            "text/html": [
              " View run at <a href='https://wandb.ai/fejowo5522-/NN_list3_OxFlow/runs/3y5jkmlc' target=\"_blank\">https://wandb.ai/fejowo5522-/NN_list3_OxFlow/runs/3y5jkmlc</a>"
            ],
            "text/plain": [
              "<IPython.core.display.HTML object>"
            ]
          },
          "metadata": {},
          "output_type": "display_data"
        },
        {
          "data": {
            "application/vnd.jupyter.widget-view+json": {
              "model_id": "101787fa17a1480b97587ee9006fc530",
              "version_major": 2,
              "version_minor": 0
            },
            "text/plain": [
              "Training:   0%|          | 0/5 [00:00<?, ?it/s]"
            ]
          },
          "metadata": {},
          "output_type": "display_data"
        },
        {
          "name": "stdout",
          "output_type": "stream",
          "text": [
            "Test set: Average loss: 4.609618, Accuracy: ( 4.7%)\n"
          ]
        },
        {
          "data": {
            "text/html": [],
            "text/plain": [
              "<IPython.core.display.HTML object>"
            ]
          },
          "metadata": {},
          "output_type": "display_data"
        },
        {
          "data": {
            "text/html": [
              "<br>    <style><br>        .wandb-row {<br>            display: flex;<br>            flex-direction: row;<br>            flex-wrap: wrap;<br>            justify-content: flex-start;<br>            width: 100%;<br>        }<br>        .wandb-col {<br>            display: flex;<br>            flex-direction: column;<br>            flex-basis: 100%;<br>            flex: 1;<br>            padding: 10px;<br>        }<br>    </style><br><div class=\"wandb-row\"><div class=\"wandb-col\"><h3>Run history:</h3><br/><table class=\"wandb\"><tr><td>batch_idx</td><td>▂▄▆▂▄▅▅▆▇█▄▄▅▁▄▅▇█▂▂██▂▂▄▇▁▃▄▅▇▇█▄▅▅▅▅▇▇</td></tr><tr><td>epoch</td><td>▁▁▃▃▅▅▆▆██</td></tr><tr><td>loss</td><td>█▁▁▁▁▁▁▁▁▁▁▁▁▁▁▁▁▁▁▁▁▁▁▁▁▁▁▁▁▁▁▁▁▁▁▁▁▁▁▁</td></tr><tr><td>test_accuracy</td><td>▁</td></tr><tr><td>test_loss</td><td>▁</td></tr><tr><td>train_accuracy</td><td>▁█▃▃▆</td></tr><tr><td>train_loss</td><td>█▃▂▁▁</td></tr><tr><td>valid_accuracy</td><td>▁▁▁▁█</td></tr><tr><td>valid_loss</td><td>█▆▄▄▁</td></tr></table><br/></div><div class=\"wandb-col\"><h3>Run summary:</h3><br/><table class=\"wandb\"><tr><td>batch_idx</td><td>19</td></tr><tr><td>epoch</td><td>4</td></tr><tr><td>loss</td><td>4.6181</td></tr><tr><td>test_accuracy</td><td>0.04732</td></tr><tr><td>test_loss</td><td>4.60962</td></tr><tr><td>train_accuracy</td><td>0.01078</td></tr><tr><td>train_loss</td><td>4.62315</td></tr><tr><td>valid_accuracy</td><td>0.01275</td></tr><tr><td>valid_loss</td><td>4.62048</td></tr></table><br/></div></div>"
            ],
            "text/plain": [
              "<IPython.core.display.HTML object>"
            ]
          },
          "metadata": {},
          "output_type": "display_data"
        },
        {
          "data": {
            "text/html": [
              " View run <strong style=\"color:#cdcd00\">Task2_1744726455</strong> at: <a href='https://wandb.ai/fejowo5522-/NN_list3_OxFlow/runs/3y5jkmlc' target=\"_blank\">https://wandb.ai/fejowo5522-/NN_list3_OxFlow/runs/3y5jkmlc</a><br> View project at: <a href='https://wandb.ai/fejowo5522-/NN_list3_OxFlow' target=\"_blank\">https://wandb.ai/fejowo5522-/NN_list3_OxFlow</a><br>Synced 5 W&B file(s), 0 media file(s), 0 artifact file(s) and 0 other file(s)"
            ],
            "text/plain": [
              "<IPython.core.display.HTML object>"
            ]
          },
          "metadata": {},
          "output_type": "display_data"
        },
        {
          "data": {
            "text/html": [
              "Find logs at: <code>./wandb/run-20250415_141414-3y5jkmlc/logs</code>"
            ],
            "text/plain": [
              "<IPython.core.display.HTML object>"
            ]
          },
          "metadata": {},
          "output_type": "display_data"
        },
        {
          "name": "stdout",
          "output_type": "stream",
          "text": [
            "====>   Training size: 1.5\n"
          ]
        },
        {
          "data": {
            "text/html": [
              "Tracking run with wandb version 0.19.9"
            ],
            "text/plain": [
              "<IPython.core.display.HTML object>"
            ]
          },
          "metadata": {},
          "output_type": "display_data"
        },
        {
          "data": {
            "text/html": [
              "Run data is saved locally in <code>/content/wandb/run-20250415_141539-n34zgu4y</code>"
            ],
            "text/plain": [
              "<IPython.core.display.HTML object>"
            ]
          },
          "metadata": {},
          "output_type": "display_data"
        },
        {
          "data": {
            "text/html": [
              "Syncing run <strong><a href='https://wandb.ai/fejowo5522-/NN_list3_OxFlow/runs/n34zgu4y' target=\"_blank\">trim-sunset-84</a></strong> to <a href='https://wandb.ai/fejowo5522-/NN_list3_OxFlow' target=\"_blank\">Weights & Biases</a> (<a href='https://wandb.me/developer-guide' target=\"_blank\">docs</a>)<br>"
            ],
            "text/plain": [
              "<IPython.core.display.HTML object>"
            ]
          },
          "metadata": {},
          "output_type": "display_data"
        },
        {
          "data": {
            "text/html": [
              " View project at <a href='https://wandb.ai/fejowo5522-/NN_list3_OxFlow' target=\"_blank\">https://wandb.ai/fejowo5522-/NN_list3_OxFlow</a>"
            ],
            "text/plain": [
              "<IPython.core.display.HTML object>"
            ]
          },
          "metadata": {},
          "output_type": "display_data"
        },
        {
          "data": {
            "text/html": [
              " View run at <a href='https://wandb.ai/fejowo5522-/NN_list3_OxFlow/runs/n34zgu4y' target=\"_blank\">https://wandb.ai/fejowo5522-/NN_list3_OxFlow/runs/n34zgu4y</a>"
            ],
            "text/plain": [
              "<IPython.core.display.HTML object>"
            ]
          },
          "metadata": {},
          "output_type": "display_data"
        },
        {
          "data": {
            "application/vnd.jupyter.widget-view+json": {
              "model_id": "895f03e1286e4497aa8e0897afc095fc",
              "version_major": 2,
              "version_minor": 0
            },
            "text/plain": [
              "Training:   0%|          | 0/5 [00:00<?, ?it/s]"
            ]
          },
          "metadata": {},
          "output_type": "display_data"
        },
        {
          "name": "stdout",
          "output_type": "stream",
          "text": [
            "Test set: Average loss: 4.618347, Accuracy: ( 3.8%)\n"
          ]
        },
        {
          "data": {
            "text/html": [],
            "text/plain": [
              "<IPython.core.display.HTML object>"
            ]
          },
          "metadata": {},
          "output_type": "display_data"
        },
        {
          "data": {
            "text/html": [
              "<br>    <style><br>        .wandb-row {<br>            display: flex;<br>            flex-direction: row;<br>            flex-wrap: wrap;<br>            justify-content: flex-start;<br>            width: 100%;<br>        }<br>        .wandb-col {<br>            display: flex;<br>            flex-direction: column;<br>            flex-basis: 100%;<br>            flex: 1;<br>            padding: 10px;<br>        }<br>    </style><br><div class=\"wandb-row\"><div class=\"wandb-col\"><h3>Run history:</h3><br/><table class=\"wandb\"><tr><td>batch_idx</td><td>▁▂▃▂▂▄▆▆▂▁▂▂▅▅▆█▃▄▄▄▇▃▃▁▁▆▇██▁▃▃▂▂▃▄▅▅▆█</td></tr><tr><td>epoch</td><td>▁▁▃▃▅▅▆▆██</td></tr><tr><td>loss</td><td>█▅▃▄▃▃▁▄▃▃▃▃▄▃▃▃▃▃▅▄▃▃▃▃▃▃▃▄▃▃▃▂▃▄▃▄▃▂▃▂</td></tr><tr><td>test_accuracy</td><td>▁</td></tr><tr><td>test_loss</td><td>▁</td></tr><tr><td>train_accuracy</td><td>▁▁▁▁▁</td></tr><tr><td>train_loss</td><td>▁▄▇██</td></tr><tr><td>valid_accuracy</td><td>▁▁▁▁▁</td></tr><tr><td>valid_loss</td><td>▁▂▃▅█</td></tr></table><br/></div><div class=\"wandb-col\"><h3>Run summary:</h3><br/><table class=\"wandb\"><tr><td>batch_idx</td><td>48</td></tr><tr><td>epoch</td><td>4</td></tr><tr><td>loss</td><td>4.61874</td></tr><tr><td>test_accuracy</td><td>0.03773</td></tr><tr><td>test_loss</td><td>4.61835</td></tr><tr><td>train_accuracy</td><td>0.0098</td></tr><tr><td>train_loss</td><td>4.62502</td></tr><tr><td>valid_accuracy</td><td>0.0098</td></tr><tr><td>valid_loss</td><td>4.62502</td></tr></table><br/></div></div>"
            ],
            "text/plain": [
              "<IPython.core.display.HTML object>"
            ]
          },
          "metadata": {},
          "output_type": "display_data"
        },
        {
          "data": {
            "text/html": [
              " View run <strong style=\"color:#cdcd00\">Task2_1744726540</strong> at: <a href='https://wandb.ai/fejowo5522-/NN_list3_OxFlow/runs/n34zgu4y' target=\"_blank\">https://wandb.ai/fejowo5522-/NN_list3_OxFlow/runs/n34zgu4y</a><br> View project at: <a href='https://wandb.ai/fejowo5522-/NN_list3_OxFlow' target=\"_blank\">https://wandb.ai/fejowo5522-/NN_list3_OxFlow</a><br>Synced 5 W&B file(s), 0 media file(s), 0 artifact file(s) and 0 other file(s)"
            ],
            "text/plain": [
              "<IPython.core.display.HTML object>"
            ]
          },
          "metadata": {},
          "output_type": "display_data"
        },
        {
          "data": {
            "text/html": [
              "Find logs at: <code>./wandb/run-20250415_141539-n34zgu4y/logs</code>"
            ],
            "text/plain": [
              "<IPython.core.display.HTML object>"
            ]
          },
          "metadata": {},
          "output_type": "display_data"
        },
        {
          "name": "stdout",
          "output_type": "stream",
          "text": [
            "====>   Training size: 1.8\n"
          ]
        },
        {
          "data": {
            "text/html": [
              "Tracking run with wandb version 0.19.9"
            ],
            "text/plain": [
              "<IPython.core.display.HTML object>"
            ]
          },
          "metadata": {},
          "output_type": "display_data"
        },
        {
          "data": {
            "text/html": [
              "Run data is saved locally in <code>/content/wandb/run-20250415_141743-k5ynbpj3</code>"
            ],
            "text/plain": [
              "<IPython.core.display.HTML object>"
            ]
          },
          "metadata": {},
          "output_type": "display_data"
        },
        {
          "data": {
            "text/html": [
              "Syncing run <strong><a href='https://wandb.ai/fejowo5522-/NN_list3_OxFlow/runs/k5ynbpj3' target=\"_blank\">swept-fire-85</a></strong> to <a href='https://wandb.ai/fejowo5522-/NN_list3_OxFlow' target=\"_blank\">Weights & Biases</a> (<a href='https://wandb.me/developer-guide' target=\"_blank\">docs</a>)<br>"
            ],
            "text/plain": [
              "<IPython.core.display.HTML object>"
            ]
          },
          "metadata": {},
          "output_type": "display_data"
        },
        {
          "data": {
            "text/html": [
              " View project at <a href='https://wandb.ai/fejowo5522-/NN_list3_OxFlow' target=\"_blank\">https://wandb.ai/fejowo5522-/NN_list3_OxFlow</a>"
            ],
            "text/plain": [
              "<IPython.core.display.HTML object>"
            ]
          },
          "metadata": {},
          "output_type": "display_data"
        },
        {
          "data": {
            "text/html": [
              " View run at <a href='https://wandb.ai/fejowo5522-/NN_list3_OxFlow/runs/k5ynbpj3' target=\"_blank\">https://wandb.ai/fejowo5522-/NN_list3_OxFlow/runs/k5ynbpj3</a>"
            ],
            "text/plain": [
              "<IPython.core.display.HTML object>"
            ]
          },
          "metadata": {},
          "output_type": "display_data"
        },
        {
          "data": {
            "application/vnd.jupyter.widget-view+json": {
              "model_id": "04663791b3404fbbb8eefafc8d044ab8",
              "version_major": 2,
              "version_minor": 0
            },
            "text/plain": [
              "Training:   0%|          | 0/5 [00:00<?, ?it/s]"
            ]
          },
          "metadata": {},
          "output_type": "display_data"
        },
        {
          "name": "stdout",
          "output_type": "stream",
          "text": [
            "Test set: Average loss: 4.614853, Accuracy: ( 3.9%)\n"
          ]
        },
        {
          "data": {
            "text/html": [],
            "text/plain": [
              "<IPython.core.display.HTML object>"
            ]
          },
          "metadata": {},
          "output_type": "display_data"
        },
        {
          "data": {
            "text/html": [
              "<br>    <style><br>        .wandb-row {<br>            display: flex;<br>            flex-direction: row;<br>            flex-wrap: wrap;<br>            justify-content: flex-start;<br>            width: 100%;<br>        }<br>        .wandb-col {<br>            display: flex;<br>            flex-direction: column;<br>            flex-basis: 100%;<br>            flex: 1;<br>            padding: 10px;<br>        }<br>    </style><br><div class=\"wandb-row\"><div class=\"wandb-col\"><h3>Run history:</h3><br/><table class=\"wandb\"><tr><td>batch_idx</td><td>▁▂▁▂▃█▁▂▂▂▄▆▇▇█▂▂▂▁▂▅▅▅▇▇▂▂▃▃▅▂▂▃▄▄▅▆▇▇█</td></tr><tr><td>epoch</td><td>▁▁▃▃▅▅▆▆██</td></tr><tr><td>loss</td><td>▅█▃▁▁▁▁▁▁▁▁▁▁▁▁▁▁▁▁▁▁▁▁▁▁▁▁▁▁▁▁▁▁▁▁▁▁▁▁▁</td></tr><tr><td>test_accuracy</td><td>▁</td></tr><tr><td>test_loss</td><td>▁</td></tr><tr><td>train_accuracy</td><td>▁▁▁▁▁</td></tr><tr><td>train_loss</td><td>▁▁▆▇█</td></tr><tr><td>valid_accuracy</td><td>▁▁▁▁▁</td></tr><tr><td>valid_loss</td><td>▁▂▃▅█</td></tr></table><br/></div><div class=\"wandb-col\"><h3>Run summary:</h3><br/><table class=\"wandb\"><tr><td>batch_idx</td><td>77</td></tr><tr><td>epoch</td><td>4</td></tr><tr><td>loss</td><td>4.61319</td></tr><tr><td>test_accuracy</td><td>0.03887</td></tr><tr><td>test_loss</td><td>4.61485</td></tr><tr><td>train_accuracy</td><td>0.0098</td></tr><tr><td>train_loss</td><td>4.62508</td></tr><tr><td>valid_accuracy</td><td>0.0098</td></tr><tr><td>valid_loss</td><td>4.62508</td></tr></table><br/></div></div>"
            ],
            "text/plain": [
              "<IPython.core.display.HTML object>"
            ]
          },
          "metadata": {},
          "output_type": "display_data"
        },
        {
          "data": {
            "text/html": [
              " View run <strong style=\"color:#cdcd00\">Task2_1744726664</strong> at: <a href='https://wandb.ai/fejowo5522-/NN_list3_OxFlow/runs/k5ynbpj3' target=\"_blank\">https://wandb.ai/fejowo5522-/NN_list3_OxFlow/runs/k5ynbpj3</a><br> View project at: <a href='https://wandb.ai/fejowo5522-/NN_list3_OxFlow' target=\"_blank\">https://wandb.ai/fejowo5522-/NN_list3_OxFlow</a><br>Synced 5 W&B file(s), 0 media file(s), 0 artifact file(s) and 0 other file(s)"
            ],
            "text/plain": [
              "<IPython.core.display.HTML object>"
            ]
          },
          "metadata": {},
          "output_type": "display_data"
        },
        {
          "data": {
            "text/html": [
              "Find logs at: <code>./wandb/run-20250415_141743-k5ynbpj3/logs</code>"
            ],
            "text/plain": [
              "<IPython.core.display.HTML object>"
            ]
          },
          "metadata": {},
          "output_type": "display_data"
        }
      ],
      "source": [
        "model.to(_device)\n",
        "\n",
        "epochs = 5\n",
        "\n",
        "learning_rate = 0.0001\n",
        "momentum = 0.9\n",
        "weight_decay = 0.0005\n",
        "betas = (0.9, 0.999)\n",
        "\n",
        "optimizer = torch.optim.Adam(\n",
        "    model.parameters(),\n",
        "    lr=learning_rate,\n",
        "    betas=betas,\n",
        "    weight_decay=weight_decay,\n",
        ")\n",
        "# optimizer = torch.optim.SGD(\n",
        "#     model.parameters(),\n",
        "#     lr=learning_rate,\n",
        "#     momentum=momentum,\n",
        "#     weight_decay=weight_decay,\n",
        "# )\n",
        "\n",
        "loss_fn = nn.CrossEntropyLoss()\n",
        "\n",
        "for training_size in training_sizes:\n",
        "    print(f\"====>   Training size: {training_size}\")\n",
        "\n",
        "    init_weights(model)\n",
        "\n",
        "    run = wandb.init(\n",
        "        entity = \"fejowo5522-\",\n",
        "        project= \"NN_list3_OxFlow\",\n",
        "        config = {\n",
        "            \"task\": 2,\n",
        "            \"batch_size\": batch_size,\n",
        "            \"epochs\": epochs,\n",
        "            \"optimizer\": \"SGD\",\n",
        "            \"learning_rate\": learning_rate,\n",
        "            # \"momentum\": momentum,\n",
        "            \"betas\": betas,\n",
        "            \"weight_decay\": weight_decay,\n",
        "            \"loss_fn\": \"cross_entropy\",\n",
        "            \"model\": model_type,\n",
        "            \"training_size\": training_size,\n",
        "            \"data_augmentation\": data_augmentation,\n",
        "        }\n",
        "    )\n",
        "    run.name = \"Task2_\" + str(int(time.time()))\n",
        "\n",
        "    model.train()\n",
        "\n",
        "    for epoch in tqdm(range(epochs), desc=\"Training\", leave=False):\n",
        "        train_step(model, optimizer, loss_fn, training_size)\n",
        "\n",
        "        for loader, split in [\n",
        "            (data_loaders['train'], 'train'),\n",
        "            (data_loaders['valid'], 'valid'),\n",
        "        ]:\n",
        "            loss, accuracy = evaluate(model, loader)\n",
        "            wandb.log({\n",
        "                \"epoch\": epoch,\n",
        "                f\"{split}_loss\": loss,\n",
        "                f\"{split}_accuracy\": accuracy,\n",
        "            })\n",
        "\n",
        "    model.eval()\n",
        "    loss, accuracy = evaluate(model, data_loaders['test'], 1 if training_size < 1 else 2 - training_size)\n",
        "    wandb.log({\n",
        "        \"test_loss\": loss,\n",
        "        \"test_accuracy\": accuracy,\n",
        "    })\n",
        "    print(\n",
        "        \"Test set: Average loss: {:8.6f}, Accuracy: ({:4.1f}%)\".format(\n",
        "            loss,\n",
        "            100.0 * accuracy,\n",
        "        )\n",
        "    )\n",
        "\n",
        "    run.finish()"
      ]
    },
    {
      "cell_type": "markdown",
      "id": "2dd9e3ac",
      "metadata": {
        "id": "2dd9e3ac"
      },
      "source": [
        "## Task 3\n",
        "* Implement a baseline AlexNet model using PyTorch.\n",
        "* Training AlexNet may take a long time, so try to use GPU acceleration if available.\n"
      ]
    },
    {
      "cell_type": "markdown",
      "id": "ebedad85",
      "metadata": {
        "id": "ebedad85"
      },
      "source": [
        "### Model class"
      ]
    },
    {
      "cell_type": "code",
      "execution_count": 51,
      "id": "f9fef544",
      "metadata": {
        "id": "f9fef544"
      },
      "outputs": [],
      "source": [
        "class AlexNetBaseline(nn.Module):\n",
        "    def __init__(self, num_classes=102):\n",
        "        super(AlexNetBaseline, self).__init__()\n",
        "        self.features = nn.Sequential(\n",
        "            nn.Conv2d(3, 64, kernel_size=11, stride=4, padding=2),\n",
        "            nn.ReLU(inplace=True),\n",
        "            nn.MaxPool2d(kernel_size=3, stride=2),\n",
        "            nn.Conv2d(64, 192, kernel_size=5, padding=2),\n",
        "            nn.ReLU(inplace=True),\n",
        "            nn.MaxPool2d(kernel_size=3, stride=2),\n",
        "            nn.Conv2d(192, 384, kernel_size=3, padding=1),\n",
        "            nn.ReLU(inplace=True),\n",
        "            nn.Conv2d(384, 256, kernel_size=3, padding=1),\n",
        "            nn.ReLU(inplace=True),\n",
        "            nn.Conv2d(256, 256, kernel_size=3, padding=1),\n",
        "            nn.ReLU(inplace=True),\n",
        "            nn.MaxPool2d(kernel_size=3, stride=2),\n",
        "        )\n",
        "        self.classifier = nn.Sequential(\n",
        "            nn.Dropout(p=0.5),\n",
        "            nn.Linear(256 * 6 * 6, 4096),\n",
        "            nn.ReLU(inplace=True),\n",
        "            nn.Dropout(p=0.5),\n",
        "            nn.Linear(4096, 4096),\n",
        "            nn.ReLU(inplace=True),\n",
        "            nn.Linear(4096, num_classes),\n",
        "        )\n",
        "\n",
        "    def forward(self, x):\n",
        "        x = self.features(x)\n",
        "        x = torch.flatten(x, 1)\n",
        "        x = self.classifier(x)\n",
        "        return x\n",
        "\n",
        "    def init_weights(self):\n",
        "        for layer in self.modules():\n",
        "            if isinstance(layer, nn.Conv2d) or isinstance(layer, nn.Linear):\n",
        "                nn.init.kaiming_uniform_(layer.weight, nonlinearity='relu')\n",
        "                if layer.bias is not None:\n",
        "                    nn.init.zeros_(layer.bias)\n",
        "            elif isinstance(layer, nn.BatchNorm2d):\n",
        "                nn.init.ones_(layer.weight)\n",
        "                if layer.bias is not None:\n",
        "                    nn.init.zeros_(layer.bias)\n",
        "\n",
        "    def evaluate(self, data_loader):\n",
        "        loss = 0\n",
        "        correct = 0\n",
        "        loss_fn = nn.CrossEntropyLoss(\n",
        "            reduction='sum',\n",
        "        )\n",
        "\n",
        "        with torch.no_grad():\n",
        "            for inputs, labels in data_loader:\n",
        "                inputs, labels = inputs.to(_device), labels.to(_device)\n",
        "\n",
        "                outputs = self(inputs)\n",
        "                loss += loss_fn(outputs, labels).item()\n",
        "                pred = outputs.argmax(\n",
        "                    dim=1, keepdim=True\n",
        "                )\n",
        "                correct += (\n",
        "                    pred.eq(labels.view_as(pred)).sum().item()\n",
        "                )\n",
        "\n",
        "        loss /= len(data_loader.dataset)\n",
        "        accuracy = correct / len(data_loader.dataset)\n",
        "        return loss, accuracy"
      ]
    },
    {
      "cell_type": "code",
      "execution_count": 52,
      "id": "59d6b75d",
      "metadata": {
        "id": "59d6b75d"
      },
      "outputs": [],
      "source": [
        "def train_step(model, optimizer, loss_fn, data_loader):\n",
        "    data_iter = iter(data_loader)\n",
        "\n",
        "    for batch_idx, (inputs, labels) in enumerate(data_iter):\n",
        "        inputs, labels = inputs.to(_device), labels.to(_device)\n",
        "\n",
        "        optimizer.zero_grad()   # Zero gradients\n",
        "        logits = model(inputs)   # Forward pass\n",
        "        loss = loss_fn(logits, labels)  # Compute loss\n",
        "        loss.backward() # Backward pass\n",
        "        optimizer.step()    # Update weights\n",
        "\n",
        "        wandb.log({\n",
        "            \"loss\": loss.item(),\n",
        "            \"batch_idx\": batch_idx,\n",
        "        })"
      ]
    },
    {
      "cell_type": "markdown",
      "id": "56dc34dc",
      "metadata": {
        "id": "56dc34dc"
      },
      "source": [
        "### Train model"
      ]
    },
    {
      "cell_type": "code",
      "source": [
        "batch_size = 64\n",
        "data_loaders = load_flowers(batch_size, (1, 1, 1), transform=None, Loader=torch.utils.data.DataLoader)"
      ],
      "metadata": {
        "id": "OvhR36NXsCAx"
      },
      "id": "OvhR36NXsCAx",
      "execution_count": null,
      "outputs": []
    },
    {
      "cell_type": "code",
      "execution_count": 20,
      "id": "9f4669e3",
      "metadata": {
        "colab": {
          "base_uri": "https://localhost:8080/",
          "height": 0
        },
        "id": "9f4669e3",
        "outputId": "00646bc8-83fa-4358-bae0-7a42cb5f6965"
      },
      "outputs": [
        {
          "output_type": "stream",
          "name": "stdout",
          "text": [
            "AlexNetBaseline(\n",
            "  (features): Sequential(\n",
            "    (0): Conv2d(3, 64, kernel_size=(11, 11), stride=(4, 4), padding=(2, 2))\n",
            "    (1): ReLU(inplace=True)\n",
            "    (2): MaxPool2d(kernel_size=3, stride=2, padding=0, dilation=1, ceil_mode=False)\n",
            "    (3): Conv2d(64, 192, kernel_size=(5, 5), stride=(1, 1), padding=(2, 2))\n",
            "    (4): ReLU(inplace=True)\n",
            "    (5): MaxPool2d(kernel_size=3, stride=2, padding=0, dilation=1, ceil_mode=False)\n",
            "    (6): Conv2d(192, 384, kernel_size=(3, 3), stride=(1, 1), padding=(1, 1))\n",
            "    (7): ReLU(inplace=True)\n",
            "    (8): Conv2d(384, 256, kernel_size=(3, 3), stride=(1, 1), padding=(1, 1))\n",
            "    (9): ReLU(inplace=True)\n",
            "    (10): Conv2d(256, 256, kernel_size=(3, 3), stride=(1, 1), padding=(1, 1))\n",
            "    (11): ReLU(inplace=True)\n",
            "    (12): MaxPool2d(kernel_size=3, stride=2, padding=0, dilation=1, ceil_mode=False)\n",
            "  )\n",
            "  (classifier): Sequential(\n",
            "    (0): Dropout(p=0.5, inplace=False)\n",
            "    (1): Linear(in_features=9216, out_features=4096, bias=True)\n",
            "    (2): ReLU(inplace=True)\n",
            "    (3): Dropout(p=0.5, inplace=False)\n",
            "    (4): Linear(in_features=4096, out_features=4096, bias=True)\n",
            "    (5): ReLU(inplace=True)\n",
            "    (6): Linear(in_features=4096, out_features=102, bias=True)\n",
            "  )\n",
            ")\n"
          ]
        }
      ],
      "source": [
        "# initialize\n",
        "alexnet_model = AlexNetBaseline(num_classes=102).to(_device)\n",
        "print(alexnet_model)"
      ]
    },
    {
      "cell_type": "code",
      "execution_count": 22,
      "id": "5d1dcee0",
      "metadata": {
        "colab": {
          "base_uri": "https://localhost:8080/",
          "height": 756,
          "referenced_widgets": [
            "76a0942c183240ffbad8737ade16643e",
            "12b0026a9711459a854c6d4001f19ded",
            "c5aaf1894e7b4459be86e86c1396b5f8",
            "1d5c343cbc534d1a9fd8dded39dfd80a",
            "50a46a2fd585488fb08e3c71b75acaab",
            "b434d22f78a841d0b636329f124f538c",
            "1ef99c33bcd042f3ba9ffd2f5f40001d",
            "f0601be76ee04640862cedb9a21f0ca1",
            "89d6a9e16f7c471394f2d7188c735e10",
            "6467329fc14f4033bb083b2d97a084e0",
            "9bdf95fd3f264792ba5c647bf97dc5a5"
          ]
        },
        "id": "5d1dcee0",
        "outputId": "cd2ccf48-6d61-41a8-88bf-36e3bd6e3680"
      },
      "outputs": [
        {
          "output_type": "display_data",
          "data": {
            "text/plain": [
              "<IPython.core.display.HTML object>"
            ],
            "text/html": [
              "Tracking run with wandb version 0.19.9"
            ]
          },
          "metadata": {}
        },
        {
          "output_type": "display_data",
          "data": {
            "text/plain": [
              "<IPython.core.display.HTML object>"
            ],
            "text/html": [
              "Run data is saved locally in <code>/content/wandb/run-20250420_122513-5ttuh21k</code>"
            ]
          },
          "metadata": {}
        },
        {
          "output_type": "display_data",
          "data": {
            "text/plain": [
              "<IPython.core.display.HTML object>"
            ],
            "text/html": [
              "Syncing run <strong><a href='https://wandb.ai/fejowo5522-/NN_list3_OxFlow/runs/5ttuh21k' target=\"_blank\">denim-capybara-92</a></strong> to <a href='https://wandb.ai/fejowo5522-/NN_list3_OxFlow' target=\"_blank\">Weights & Biases</a> (<a href='https://wandb.me/developer-guide' target=\"_blank\">docs</a>)<br>"
            ]
          },
          "metadata": {}
        },
        {
          "output_type": "display_data",
          "data": {
            "text/plain": [
              "<IPython.core.display.HTML object>"
            ],
            "text/html": [
              " View project at <a href='https://wandb.ai/fejowo5522-/NN_list3_OxFlow' target=\"_blank\">https://wandb.ai/fejowo5522-/NN_list3_OxFlow</a>"
            ]
          },
          "metadata": {}
        },
        {
          "output_type": "display_data",
          "data": {
            "text/plain": [
              "<IPython.core.display.HTML object>"
            ],
            "text/html": [
              " View run at <a href='https://wandb.ai/fejowo5522-/NN_list3_OxFlow/runs/5ttuh21k' target=\"_blank\">https://wandb.ai/fejowo5522-/NN_list3_OxFlow/runs/5ttuh21k</a>"
            ]
          },
          "metadata": {}
        },
        {
          "output_type": "display_data",
          "data": {
            "text/plain": [
              "Training:   0%|          | 0/100 [00:00<?, ?it/s]"
            ],
            "application/vnd.jupyter.widget-view+json": {
              "version_major": 2,
              "version_minor": 0,
              "model_id": "76a0942c183240ffbad8737ade16643e"
            }
          },
          "metadata": {}
        },
        {
          "output_type": "stream",
          "name": "stdout",
          "text": [
            "Test set: Average loss: 4.625029, Accuracy: ( 0.7%)\n"
          ]
        },
        {
          "output_type": "display_data",
          "data": {
            "text/plain": [
              "<IPython.core.display.HTML object>"
            ],
            "text/html": []
          },
          "metadata": {}
        },
        {
          "output_type": "display_data",
          "data": {
            "text/plain": [
              "<IPython.core.display.HTML object>"
            ],
            "text/html": [
              "<br>    <style><br>        .wandb-row {<br>            display: flex;<br>            flex-direction: row;<br>            flex-wrap: wrap;<br>            justify-content: flex-start;<br>            width: 100%;<br>        }<br>        .wandb-col {<br>            display: flex;<br>            flex-direction: column;<br>            flex-basis: 100%;<br>            flex: 1;<br>            padding: 10px;<br>        }<br>    </style><br><div class=\"wandb-row\"><div class=\"wandb-col\"><h3>Run history:</h3><br/><table class=\"wandb\"><tr><td>batch_idx</td><td>▆▁▃▅▄▇▇█▇█▃▄▁▄▅▁▆▁▆█▃▃▇▇▃▇▂▅█▆▄▅▁▃▃▂█▅▄█</td></tr><tr><td>epoch</td><td>▁▁▁▁▂▂▂▂▂▂▃▃▃▃▃▄▄▄▄▄▄▄▄▄▅▅▅▆▆▆▆▆▆▆▇▇▇▇▇█</td></tr><tr><td>loss</td><td>█▁▇▄▃▃▂▄▄▃▂▄▃▄▃▂▃▃▃▃▃▃▂▂▃▃▃▃▄▂▃▄▃▃▂▃▄▂▃▂</td></tr><tr><td>test_accuracy</td><td>▁</td></tr><tr><td>test_loss</td><td>▁</td></tr><tr><td>train_accuracy</td><td>█▅▁▅█▄▅▅▅▅▅▅▅▅▄▅▅▅▅▅▅▅▄▅▅▅▅▅▅▅▅▅▅▅▅▅▅▅▅▅</td></tr><tr><td>train_loss</td><td>█▆▁▂▁▁▁▁▁▁▁▁▁▁▁▁▁▁▁▁▁▁▁▁▁▁▁▁▁▁▁▁▁▁▁▁▁▁▁▁</td></tr><tr><td>valid_accuracy</td><td>█▇▇▆▇▁█▆▆▇█▇▇▇▇▇█▇▇▇▇▇▇▇▇▇▇▇▇▇▇▇▇▇▇▇▇▇▇▇</td></tr><tr><td>valid_loss</td><td>█▅▃▂▂▁▁▁▁▁▁▁▁▁▁▁▁▁▁▁▁▁▁▁▁▁▁▁▁▁▁▁▁▁▁▁▁▁▁▁</td></tr></table><br/></div><div class=\"wandb-col\"><h3>Run summary:</h3><br/><table class=\"wandb\"><tr><td>batch_idx</td><td>15</td></tr><tr><td>epoch</td><td>99</td></tr><tr><td>loss</td><td>4.62572</td></tr><tr><td>test_accuracy</td><td>0.00748</td></tr><tr><td>test_loss</td><td>4.62503</td></tr><tr><td>train_accuracy</td><td>0.0098</td></tr><tr><td>train_loss</td><td>4.62497</td></tr><tr><td>valid_accuracy</td><td>0.0098</td></tr><tr><td>valid_loss</td><td>4.62497</td></tr></table><br/></div></div>"
            ]
          },
          "metadata": {}
        },
        {
          "output_type": "display_data",
          "data": {
            "text/plain": [
              "<IPython.core.display.HTML object>"
            ],
            "text/html": [
              " View run <strong style=\"color:#cdcd00\">Task3_1745151916</strong> at: <a href='https://wandb.ai/fejowo5522-/NN_list3_OxFlow/runs/5ttuh21k' target=\"_blank\">https://wandb.ai/fejowo5522-/NN_list3_OxFlow/runs/5ttuh21k</a><br> View project at: <a href='https://wandb.ai/fejowo5522-/NN_list3_OxFlow' target=\"_blank\">https://wandb.ai/fejowo5522-/NN_list3_OxFlow</a><br>Synced 5 W&B file(s), 0 media file(s), 0 artifact file(s) and 0 other file(s)"
            ]
          },
          "metadata": {}
        },
        {
          "output_type": "display_data",
          "data": {
            "text/plain": [
              "<IPython.core.display.HTML object>"
            ],
            "text/html": [
              "Find logs at: <code>./wandb/run-20250420_122513-5ttuh21k/logs</code>"
            ]
          },
          "metadata": {}
        }
      ],
      "source": [
        "# parameters\n",
        "epochs = 100\n",
        "learning_rate = 0.001\n",
        "weight_decay = 0.0005\n",
        "\n",
        "# optimizer and loss\n",
        "optimizer = torch.optim.Adam(alexnet_model.parameters(), lr=learning_rate, weight_decay=weight_decay)\n",
        "loss_fn = nn.CrossEntropyLoss()\n",
        "\n",
        "alexnet_model.init_weights()\n",
        "\n",
        "run = wandb.init(\n",
        "    entity = \"fejowo5522-\",\n",
        "    project= \"NN_list3_OxFlow\",\n",
        "    config = {\n",
        "        \"task\": 3,\n",
        "        \"batch_size\": batch_size,\n",
        "        \"epochs\": epochs,\n",
        "        \"optimizer\": \"Adam\",\n",
        "        \"learning_rate\": learning_rate,\n",
        "        \"weight_decay\": weight_decay,\n",
        "        \"loss_fn\": \"cross_entropy\",\n",
        "        \"model\": 'alexnet',\n",
        "        \"data_augmentation\": data_augmentation,\n",
        "    }\n",
        ")\n",
        "run.name = \"Task3_\" + str(int(time.time()))\n",
        "\n",
        "\n",
        "alexnet_model.train()\n",
        "for epoch in tqdm(range(epochs), desc=\"Training\", leave=False):\n",
        "    train_step(alexnet_model, optimizer, loss_fn, data_loaders['train'])\n",
        "\n",
        "    for loader, split in [\n",
        "        (data_loaders['train'], 'train'),\n",
        "        (data_loaders['valid'], 'valid'),\n",
        "    ]:\n",
        "        loss, accuracy = alexnet_model.evaluate(loader)\n",
        "        wandb.log({\n",
        "            \"epoch\": epoch,\n",
        "            f\"{split}_loss\": loss,\n",
        "            f\"{split}_accuracy\": accuracy,\n",
        "        })\n",
        "\n",
        "alexnet_model.eval()\n",
        "loss, accuracy = alexnet_model.evaluate(data_loaders['test'])\n",
        "wandb.log({\n",
        "    \"test_loss\": loss,\n",
        "    \"test_accuracy\": accuracy,\n",
        "})\n",
        "print(\n",
        "    \"Test set: Average loss: {:8.6f}, Accuracy: ({:4.1f}%)\".format(\n",
        "        loss,\n",
        "        100.0 * accuracy,\n",
        "    )\n",
        ")\n",
        "\n",
        "run.finish()"
      ]
    },
    {
      "cell_type": "markdown",
      "source": [
        "## Task 4\n",
        "* Input normalization: experiment with different input normalization techniques (e.g., mean subtraction, standardization) and analyze their impact on the model's performance.\n"
      ],
      "metadata": {
        "id": "h_sR8QQ6sJf_"
      },
      "id": "h_sR8QQ6sJf_"
    },
    {
      "cell_type": "code",
      "source": [
        "def train_step(model, optimizer, loss_fn, data_loader):\n",
        "    data_iter = iter(data_loader)\n",
        "\n",
        "    for batch_idx, (inputs, labels) in enumerate(data_iter):\n",
        "        inputs, labels = inputs.to(_device), labels.to(_device)\n",
        "\n",
        "        optimizer.zero_grad()   # Zero gradients\n",
        "        logits = model(inputs)   # Forward pass\n",
        "        loss = loss_fn(logits, labels)  # Compute loss\n",
        "        loss.backward() # Backward pass\n",
        "        optimizer.step()    # Update weights\n",
        "\n",
        "        wandb.log({\n",
        "            \"loss\": loss.item(),\n",
        "            \"batch_idx\": batch_idx,\n",
        "        })"
      ],
      "metadata": {
        "id": "cI-Mr0erKKku"
      },
      "id": "cI-Mr0erKKku",
      "execution_count": null,
      "outputs": []
    },
    {
      "cell_type": "code",
      "source": [
        "def test_data_loaders(\n",
        "    normalization_method,\n",
        "    data_loaders,\n",
        "    model,\n",
        "    epochs=10,\n",
        "    learning_rate=0.001,\n",
        "    weight_decay = 0.0005,\n",
        "):\n",
        "    # optimizer and loss\n",
        "    optimizer = torch.optim.Adam(model.parameters(), lr=learning_rate, weight_decay=weight_decay)\n",
        "    loss_fn = nn.CrossEntropyLoss()\n",
        "\n",
        "    model.init_weights()\n",
        "\n",
        "    run = wandb.init(\n",
        "        entity = \"fejowo5522-\",\n",
        "        project= \"NN_list3_OxFlow\",\n",
        "        config = {\n",
        "            \"task\": 4,\n",
        "            \"batch_size\": batch_size,\n",
        "            \"epochs\": epochs,\n",
        "            \"optimizer\": \"Adam\",\n",
        "            \"learning_rate\": learning_rate,\n",
        "            \"weight_decay\": weight_decay,\n",
        "            \"loss_fn\": \"cross_entropy\",\n",
        "            \"model\": 'alexnet',\n",
        "            \"normalization\": normalization_method,\n",
        "            \"data_augmentation\": data_augmentation,\n",
        "        }\n",
        "    )\n",
        "    run.name = \"Task4_\" + str(int(time.time()))\n",
        "\n",
        "\n",
        "    model.train()\n",
        "    for epoch in tqdm(range(epochs), desc=\"Training\", leave=False):\n",
        "        train_step(model, optimizer, loss_fn, data_loaders['train'])\n",
        "\n",
        "        for loader, split in [\n",
        "            (data_loaders['train'], 'train'),\n",
        "            (data_loaders['valid'], 'valid'),\n",
        "        ]:\n",
        "            loss, accuracy = model.evaluate(loader)\n",
        "            wandb.log({\n",
        "                \"epoch\": epoch,\n",
        "                f\"{split}_loss\": loss,\n",
        "                f\"{split}_accuracy\": accuracy,\n",
        "            })\n",
        "\n",
        "    model.eval()\n",
        "    loss, accuracy = model.evaluate(data_loaders['test'])\n",
        "    wandb.log({\n",
        "        \"test_loss\": loss,\n",
        "        \"test_accuracy\": accuracy,\n",
        "    })\n",
        "    print(\n",
        "        \"Test set: Average loss: {:8.6f}, Accuracy: ({:4.1f}%)\".format(\n",
        "            loss,\n",
        "            100.0 * accuracy,\n",
        "        )\n",
        "    )\n",
        "\n",
        "    run.finish()"
      ],
      "metadata": {
        "id": "nsC8Cv-ctYs6"
      },
      "id": "nsC8Cv-ctYs6",
      "execution_count": 65,
      "outputs": []
    },
    {
      "cell_type": "code",
      "source": [
        "normalization_transforms = {\n",
        "    'mean_subtraction': transforms.Normalize(mean=[0.485, 0.456, 0.406], std=[1, 1, 1]),\n",
        "    'standardization': transforms.Normalize(mean=[0.485, 0.456, 0.406], std=[0.229, 0.224, 0.225]),\n",
        "}\n",
        "\n",
        "for name, normalization in normalization_transforms.items():\n",
        "    data_loaders = load_flowers(\n",
        "        batch_size,\n",
        "        (1,1,1),\n",
        "        train_transform=transforms.Compose([\n",
        "            transforms.Resize((224, 224)),\n",
        "\n",
        "            transforms.RandomResizedCrop(224, scale=(0.8, 1.0)),\n",
        "            transforms.RandomRotation(15),\n",
        "            transforms.RandomHorizontalFlip(),\n",
        "            transforms.RandomAdjustSharpness(sharpness_factor=2),\n",
        "            transforms.ColorJitter(brightness=0.2, contrast=0.2, saturation=0.2),\n",
        "\n",
        "            transforms.ToTensor(),\n",
        "            normalization,\n",
        "        ]),\n",
        "        eval_transform=transforms.Compose([\n",
        "            transforms.Resize((224, 224)),\n",
        "            transforms.ToTensor(),\n",
        "            normalization,\n",
        "        ]),\n",
        "        Loader=torch.utils.data.DataLoader\n",
        "    )\n",
        "\n",
        "\n",
        "    model = AlexNetBaseline(num_classes=102).to(_device)\n",
        "\n",
        "    test_data_loaders(name, data_loaders, model)\n",
        "\n"
      ],
      "metadata": {
        "colab": {
          "base_uri": "https://localhost:8080/",
          "height": 1000,
          "referenced_widgets": [
            "d91dcdcea05241a5a29afcd278fa82d0",
            "207ecbe74fd94c9bbee49e78bccbb114",
            "bbb34e6c2b004d339fb607f79f9da62a",
            "48b6bc6c63064396934ea4d0888a5910",
            "e7b662617f3b467a81680944430c0189",
            "a33e572741494f22b1c7fa1473d12fba",
            "d72deb31dc874356a328f4d11a41034e",
            "df42ff91d8234c3c9cae54e194302063",
            "bce0bf1b15c141fa868a4ff9c9cad10c",
            "bc7bc3bcd617463b8acd45de0dcae9fb",
            "774fa10f23c9470e99e39de6e52243fd",
            "63078e81221d47ce915756d175e44daf",
            "3ebcb1cb84a84dc7a08eda6f3e45eb32",
            "1af0721f7d124ffdaeaf076fae5d885f",
            "abbd6adb872f4272a082732e36b704b0",
            "36d2459b63934bcfa09450da86e3b342",
            "d337772c25a54b74a8fb5f4ded922948",
            "0f15ee3a73f0404983f07982d861b78f",
            "3da9d2ef06a14765a8cb03e3714509ea",
            "e693224d838a4470ae4f436174283991",
            "6c5dbdee23c546559b84ea89751acfd9",
            "fb879be9e7ff407a8a5d6cb3136cf539"
          ]
        },
        "id": "KgQ8WJtDsoCC",
        "outputId": "7e0345bc-3c20-4c23-efba-deffff3a4568"
      },
      "id": "KgQ8WJtDsoCC",
      "execution_count": 66,
      "outputs": [
        {
          "output_type": "display_data",
          "data": {
            "text/plain": [
              "<IPython.core.display.HTML object>"
            ],
            "text/html": []
          },
          "metadata": {}
        },
        {
          "output_type": "display_data",
          "data": {
            "text/plain": [
              "<IPython.core.display.HTML object>"
            ],
            "text/html": [
              " View run <strong style=\"color:#cdcd00\">Task4_1745167144</strong> at: <a href='https://wandb.ai/fejowo5522-/NN_list3_OxFlow/runs/5a643qrb' target=\"_blank\">https://wandb.ai/fejowo5522-/NN_list3_OxFlow/runs/5a643qrb</a><br> View project at: <a href='https://wandb.ai/fejowo5522-/NN_list3_OxFlow' target=\"_blank\">https://wandb.ai/fejowo5522-/NN_list3_OxFlow</a><br>Synced 5 W&B file(s), 0 media file(s), 0 artifact file(s) and 0 other file(s)"
            ]
          },
          "metadata": {}
        },
        {
          "output_type": "display_data",
          "data": {
            "text/plain": [
              "<IPython.core.display.HTML object>"
            ],
            "text/html": [
              "Find logs at: <code>./wandb/run-20250420_163900-5a643qrb/logs</code>"
            ]
          },
          "metadata": {}
        },
        {
          "output_type": "display_data",
          "data": {
            "text/plain": [
              "<IPython.core.display.HTML object>"
            ],
            "text/html": [
              "Tracking run with wandb version 0.19.9"
            ]
          },
          "metadata": {}
        },
        {
          "output_type": "display_data",
          "data": {
            "text/plain": [
              "<IPython.core.display.HTML object>"
            ],
            "text/html": [
              "Run data is saved locally in <code>/content/wandb/run-20250420_164224-n1079spk</code>"
            ]
          },
          "metadata": {}
        },
        {
          "output_type": "display_data",
          "data": {
            "text/plain": [
              "<IPython.core.display.HTML object>"
            ],
            "text/html": [
              "Syncing run <strong><a href='https://wandb.ai/fejowo5522-/NN_list3_OxFlow/runs/n1079spk' target=\"_blank\">apricot-serenity-98</a></strong> to <a href='https://wandb.ai/fejowo5522-/NN_list3_OxFlow' target=\"_blank\">Weights & Biases</a> (<a href='https://wandb.me/developer-guide' target=\"_blank\">docs</a>)<br>"
            ]
          },
          "metadata": {}
        },
        {
          "output_type": "display_data",
          "data": {
            "text/plain": [
              "<IPython.core.display.HTML object>"
            ],
            "text/html": [
              " View project at <a href='https://wandb.ai/fejowo5522-/NN_list3_OxFlow' target=\"_blank\">https://wandb.ai/fejowo5522-/NN_list3_OxFlow</a>"
            ]
          },
          "metadata": {}
        },
        {
          "output_type": "display_data",
          "data": {
            "text/plain": [
              "<IPython.core.display.HTML object>"
            ],
            "text/html": [
              " View run at <a href='https://wandb.ai/fejowo5522-/NN_list3_OxFlow/runs/n1079spk' target=\"_blank\">https://wandb.ai/fejowo5522-/NN_list3_OxFlow/runs/n1079spk</a>"
            ]
          },
          "metadata": {}
        },
        {
          "output_type": "display_data",
          "data": {
            "text/plain": [
              "Training:   0%|          | 0/10 [00:00<?, ?it/s]"
            ],
            "application/vnd.jupyter.widget-view+json": {
              "version_major": 2,
              "version_minor": 0,
              "model_id": "d91dcdcea05241a5a29afcd278fa82d0"
            }
          },
          "metadata": {}
        },
        {
          "output_type": "stream",
          "name": "stdout",
          "text": [
            "Test set: Average loss: 4.135406, Accuracy: ( 3.7%)\n"
          ]
        },
        {
          "output_type": "display_data",
          "data": {
            "text/plain": [
              "<IPython.core.display.HTML object>"
            ],
            "text/html": []
          },
          "metadata": {}
        },
        {
          "output_type": "display_data",
          "data": {
            "text/plain": [
              "<IPython.core.display.HTML object>"
            ],
            "text/html": [
              "<br>    <style><br>        .wandb-row {<br>            display: flex;<br>            flex-direction: row;<br>            flex-wrap: wrap;<br>            justify-content: flex-start;<br>            width: 100%;<br>        }<br>        .wandb-col {<br>            display: flex;<br>            flex-direction: column;<br>            flex-basis: 100%;<br>            flex: 1;<br>            padding: 10px;<br>        }<br>    </style><br><div class=\"wandb-row\"><div class=\"wandb-col\"><h3>Run history:</h3><br/><table class=\"wandb\"><tr><td>batch_idx</td><td>▂▃▄▄▁▄▅█▇█▂▃▃▄▅▂▃▅██▄▄▅▂▂▄▅▇█▁▃▆█▅▇█▂▃▄█</td></tr><tr><td>epoch</td><td>▁▁▂▂▃▃▃▃▄▄▅▅▆▆▆▆▇▇██</td></tr><tr><td>loss</td><td>██████████▇▇▅▆▇█▇▇▆▇▇▅▆▅▅▅▆▅▆▆▅▅▄▃▃▂▃▁▁▃</td></tr><tr><td>test_accuracy</td><td>▁</td></tr><tr><td>test_loss</td><td>▁</td></tr><tr><td>train_accuracy</td><td>▁▁▂▃▃▃▄▆▆█</td></tr><tr><td>train_loss</td><td>██▇▇▇▆▆▄▂▁</td></tr><tr><td>valid_accuracy</td><td>▁▂▁▃▃▅▅█▇█</td></tr><tr><td>valid_loss</td><td>██▇▇▇▆▅▄▂▁</td></tr></table><br/></div><div class=\"wandb-col\"><h3>Run summary:</h3><br/><table class=\"wandb\"><tr><td>batch_idx</td><td>15</td></tr><tr><td>epoch</td><td>9</td></tr><tr><td>loss</td><td>4.24219</td></tr><tr><td>test_accuracy</td><td>0.03692</td></tr><tr><td>test_loss</td><td>4.13541</td></tr><tr><td>train_accuracy</td><td>0.0451</td></tr><tr><td>train_loss</td><td>4.06377</td></tr><tr><td>valid_accuracy</td><td>0.03529</td></tr><tr><td>valid_loss</td><td>4.1377</td></tr></table><br/></div></div>"
            ]
          },
          "metadata": {}
        },
        {
          "output_type": "display_data",
          "data": {
            "text/plain": [
              "<IPython.core.display.HTML object>"
            ],
            "text/html": [
              " View run <strong style=\"color:#cdcd00\">Task4_1745167348</strong> at: <a href='https://wandb.ai/fejowo5522-/NN_list3_OxFlow/runs/n1079spk' target=\"_blank\">https://wandb.ai/fejowo5522-/NN_list3_OxFlow/runs/n1079spk</a><br> View project at: <a href='https://wandb.ai/fejowo5522-/NN_list3_OxFlow' target=\"_blank\">https://wandb.ai/fejowo5522-/NN_list3_OxFlow</a><br>Synced 5 W&B file(s), 0 media file(s), 0 artifact file(s) and 0 other file(s)"
            ]
          },
          "metadata": {}
        },
        {
          "output_type": "display_data",
          "data": {
            "text/plain": [
              "<IPython.core.display.HTML object>"
            ],
            "text/html": [
              "Find logs at: <code>./wandb/run-20250420_164224-n1079spk/logs</code>"
            ]
          },
          "metadata": {}
        },
        {
          "output_type": "display_data",
          "data": {
            "text/plain": [
              "<IPython.core.display.HTML object>"
            ],
            "text/html": [
              "Tracking run with wandb version 0.19.9"
            ]
          },
          "metadata": {}
        },
        {
          "output_type": "display_data",
          "data": {
            "text/plain": [
              "<IPython.core.display.HTML object>"
            ],
            "text/html": [
              "Run data is saved locally in <code>/content/wandb/run-20250420_164742-06drvtrw</code>"
            ]
          },
          "metadata": {}
        },
        {
          "output_type": "display_data",
          "data": {
            "text/plain": [
              "<IPython.core.display.HTML object>"
            ],
            "text/html": [
              "Syncing run <strong><a href='https://wandb.ai/fejowo5522-/NN_list3_OxFlow/runs/06drvtrw' target=\"_blank\">rich-violet-99</a></strong> to <a href='https://wandb.ai/fejowo5522-/NN_list3_OxFlow' target=\"_blank\">Weights & Biases</a> (<a href='https://wandb.me/developer-guide' target=\"_blank\">docs</a>)<br>"
            ]
          },
          "metadata": {}
        },
        {
          "output_type": "display_data",
          "data": {
            "text/plain": [
              "<IPython.core.display.HTML object>"
            ],
            "text/html": [
              " View project at <a href='https://wandb.ai/fejowo5522-/NN_list3_OxFlow' target=\"_blank\">https://wandb.ai/fejowo5522-/NN_list3_OxFlow</a>"
            ]
          },
          "metadata": {}
        },
        {
          "output_type": "display_data",
          "data": {
            "text/plain": [
              "<IPython.core.display.HTML object>"
            ],
            "text/html": [
              " View run at <a href='https://wandb.ai/fejowo5522-/NN_list3_OxFlow/runs/06drvtrw' target=\"_blank\">https://wandb.ai/fejowo5522-/NN_list3_OxFlow/runs/06drvtrw</a>"
            ]
          },
          "metadata": {}
        },
        {
          "output_type": "display_data",
          "data": {
            "text/plain": [
              "Training:   0%|          | 0/10 [00:00<?, ?it/s]"
            ],
            "application/vnd.jupyter.widget-view+json": {
              "version_major": 2,
              "version_minor": 0,
              "model_id": "63078e81221d47ce915756d175e44daf"
            }
          },
          "metadata": {}
        },
        {
          "output_type": "stream",
          "name": "stdout",
          "text": [
            "Test set: Average loss: 4.626478, Accuracy: ( 1.1%)\n"
          ]
        },
        {
          "output_type": "display_data",
          "data": {
            "text/plain": [
              "<IPython.core.display.HTML object>"
            ],
            "text/html": []
          },
          "metadata": {}
        },
        {
          "output_type": "display_data",
          "data": {
            "text/plain": [
              "<IPython.core.display.HTML object>"
            ],
            "text/html": [
              "<br>    <style><br>        .wandb-row {<br>            display: flex;<br>            flex-direction: row;<br>            flex-wrap: wrap;<br>            justify-content: flex-start;<br>            width: 100%;<br>        }<br>        .wandb-col {<br>            display: flex;<br>            flex-direction: column;<br>            flex-basis: 100%;<br>            flex: 1;<br>            padding: 10px;<br>        }<br>    </style><br><div class=\"wandb-row\"><div class=\"wandb-col\"><h3>Run history:</h3><br/><table class=\"wandb\"><tr><td>batch_idx</td><td>▁▂▃▄█▅▂▆▇█▁▁▂▆▆▁▂▃▆▇▂▂▆█▁▅▇█▁▄▁▁▂▅▆▁▂▂▄█</td></tr><tr><td>epoch</td><td>▁▁▂▂▃▃▃▃▄▄▅▅▆▆▆▆▇▇██</td></tr><tr><td>loss</td><td>█▁▁▁▁▁▁▁▁▁▁▁▁▁▁▁▁▁▁▁▁▁▁▁▁▁▁▁▁▁▁▁▁▁▁▁▁▁▁▁</td></tr><tr><td>test_accuracy</td><td>▁</td></tr><tr><td>test_loss</td><td>▁</td></tr><tr><td>train_accuracy</td><td>▆▆▆█▆▆▆▆▆▁</td></tr><tr><td>train_loss</td><td>██▄▃▃▂▁▂▁▂</td></tr><tr><td>valid_accuracy</td><td>▅█▅▅▅▇▂▂▅▁</td></tr><tr><td>valid_loss</td><td>▆█▃▃▃▂▂▂▁▁</td></tr></table><br/></div><div class=\"wandb-col\"><h3>Run summary:</h3><br/><table class=\"wandb\"><tr><td>batch_idx</td><td>15</td></tr><tr><td>epoch</td><td>9</td></tr><tr><td>loss</td><td>4.62759</td></tr><tr><td>test_accuracy</td><td>0.01073</td></tr><tr><td>test_loss</td><td>4.62648</td></tr><tr><td>train_accuracy</td><td>0.00784</td></tr><tr><td>train_loss</td><td>4.62503</td></tr><tr><td>valid_accuracy</td><td>0.00686</td></tr><tr><td>valid_loss</td><td>4.625</td></tr></table><br/></div></div>"
            ]
          },
          "metadata": {}
        },
        {
          "output_type": "display_data",
          "data": {
            "text/plain": [
              "<IPython.core.display.HTML object>"
            ],
            "text/html": [
              " View run <strong style=\"color:#cdcd00\">Task4_1745167666</strong> at: <a href='https://wandb.ai/fejowo5522-/NN_list3_OxFlow/runs/06drvtrw' target=\"_blank\">https://wandb.ai/fejowo5522-/NN_list3_OxFlow/runs/06drvtrw</a><br> View project at: <a href='https://wandb.ai/fejowo5522-/NN_list3_OxFlow' target=\"_blank\">https://wandb.ai/fejowo5522-/NN_list3_OxFlow</a><br>Synced 5 W&B file(s), 0 media file(s), 0 artifact file(s) and 0 other file(s)"
            ]
          },
          "metadata": {}
        },
        {
          "output_type": "display_data",
          "data": {
            "text/plain": [
              "<IPython.core.display.HTML object>"
            ],
            "text/html": [
              "Find logs at: <code>./wandb/run-20250420_164742-06drvtrw/logs</code>"
            ]
          },
          "metadata": {}
        }
      ]
    },
    {
      "cell_type": "markdown",
      "source": [
        "## Zad 5\n",
        "* Experiment with different hyperparameters such as learning rate, batch size, number of epochs, and optimizer choice (e.g., SGD, Adam)."
      ],
      "metadata": {
        "id": "RhqlS7OEFV3_"
      },
      "id": "RhqlS7OEFV3_"
    },
    {
      "cell_type": "markdown",
      "source": [
        "### Testing function"
      ],
      "metadata": {
        "id": "mlzF1HDnKNLl"
      },
      "id": "mlzF1HDnKNLl"
    },
    {
      "cell_type": "code",
      "source": [
        "def random_search_tuner(\n",
        "    param_ranges,\n",
        "    model_name,\n",
        "    model_class,\n",
        "    optimizer_name='Adam',\n",
        "    loss_fn_name='cross_entropy',\n",
        "    trials=10,\n",
        "    epochs=10,\n",
        "):\n",
        "    optimizer = {\n",
        "        'Adam': torch.optim.Adam,\n",
        "        'SGD': torch.optim.SGD,\n",
        "    }[optimizer_name]\n",
        "\n",
        "    loss_fn = {\n",
        "        'cross_entropy': nn.CrossEntropyLoss,\n",
        "        'mse': nn.MSELoss,\n",
        "    }[loss_fn_name]\n",
        "    loss_fn = loss_fn()\n",
        "\n",
        "    for trial in tqdm(range(trials), desc=\"Trial\", leave=False, position=0):\n",
        "        # randomly sample hyperparameters\n",
        "        variables = {\n",
        "            'learning_rate': 0,\n",
        "            'weight_decay': 0,\n",
        "            'momentum': 0,\n",
        "            'batch_size': 0,\n",
        "        }\n",
        "\n",
        "        for name, variable in variables.items():\n",
        "            if name in param_ranges:\n",
        "                variables[name] = np.random.uniform(param_ranges[name][0], param_ranges[name][1])\n",
        "\n",
        "        # init model\n",
        "        model = model_class().to(_device)\n",
        "        model.init_weights()\n",
        "\n",
        "        # create optimizer\n",
        "        if(optimizer_name == 'SGD'):\n",
        "            _optimizer = optimizer(\n",
        "                model.parameters(),\n",
        "                lr=variables['learning_rate'],\n",
        "                weight_decay=variables['weight_decay'],\n",
        "                momentum=variables['momentum'],\n",
        "            )\n",
        "        elif(optimizer_name == 'Adam'):\n",
        "            _optimizer = optimizer(\n",
        "                model.parameters(),\n",
        "                lr=variables['learning_rate'],\n",
        "                weight_decay=variables['weight_decay'],\n",
        "            )\n",
        "\n",
        "        # create data loaders\n",
        "        data_percent = (1,1,1)\n",
        "        data_loaders = load_flowers(\n",
        "            batch_size,\n",
        "            data_percent,\n",
        "        )\n",
        "\n",
        "        # init wandb\n",
        "        with Capturing() as output:\n",
        "            run = wandb.init(\n",
        "                entity = \"fejowo5522-\",\n",
        "                project= \"NN_list3_OxFlow\",\n",
        "                config = {\n",
        "                    \"task\": 5,\n",
        "                    \"batch_size\": variables['batch_size'],\n",
        "                    \"epochs\": epochs,\n",
        "                    \"optimizer\": optimizer_name,\n",
        "                    \"learning_rate\": variables['learning_rate'],\n",
        "                    \"momentum\": variables['momentum'],\n",
        "                    \"weight_decay\": variables['weight_decay'],\n",
        "                    \"loss_fn\": loss_fn_name,\n",
        "                    \"model\": model_name,\n",
        "                    \"data_percent\": data_percent,\n",
        "                    \"data_augmentation\": data_augmentation,\n",
        "                }\n",
        "            )\n",
        "            run.name = \"Task5_\" + str(int(time.time()))\n",
        "\n",
        "        # train model\n",
        "        model.train()\n",
        "        for epoch in tqdm(range(epochs), desc=\"Epoch\", leave=False, position=1):\n",
        "            train_step(model, _optimizer, loss_fn, data_loaders['train'])\n",
        "\n",
        "            for loader, split in [\n",
        "                (data_loaders['train'], 'train'),\n",
        "                (data_loaders['valid'], 'valid'),\n",
        "            ]:\n",
        "                loss, accuracy = model.evaluate(loader)\n",
        "                wandb.log({\n",
        "                    \"epoch\": epoch,\n",
        "                    f\"{split}_loss\": loss,\n",
        "                    f\"{split}_accuracy\": accuracy,\n",
        "                })\n",
        "\n",
        "        model.eval()\n",
        "        loss, accuracy = model.evaluate(data_loaders['test'])\n",
        "        wandb.log({\n",
        "            \"test_loss\": loss,\n",
        "            \"test_accuracy\": accuracy,\n",
        "        })\n",
        "        print(\n",
        "            \"Test set: Average loss: {:8.6f}, Accuracy: ({:4.1f}%)\".format(\n",
        "                loss,\n",
        "                100.0 * accuracy,\n",
        "            )\n",
        "        )\n",
        "\n",
        "        run.finish()\n"
      ],
      "metadata": {
        "id": "JM0F_foWFVBS"
      },
      "id": "JM0F_foWFVBS",
      "execution_count": 9,
      "outputs": []
    },
    {
      "cell_type": "markdown",
      "source": [
        "### Model class"
      ],
      "metadata": {
        "id": "lsbg8Ye1KTtB"
      },
      "id": "lsbg8Ye1KTtB"
    },
    {
      "cell_type": "code",
      "source": [
        "def train_step(model, optimizer, loss_fn, data_loader):\n",
        "    data_iter = iter(data_loader)\n",
        "\n",
        "    for batch_idx, (inputs, labels) in enumerate(data_iter):\n",
        "        inputs, labels = inputs.to(_device), labels.to(_device)\n",
        "\n",
        "        optimizer.zero_grad()   # Zero gradients\n",
        "        logits = model(inputs)   # Forward pass\n",
        "        loss = loss_fn(logits, labels)  # Compute loss\n",
        "        loss.backward() # Backward pass\n",
        "        optimizer.step()    # Update weights\n",
        "\n",
        "        wandb.log({\n",
        "            \"loss\": loss.item(),\n",
        "            \"batch_idx\": batch_idx,\n",
        "        })"
      ],
      "metadata": {
        "id": "UefGJ5VVKU-F"
      },
      "id": "UefGJ5VVKU-F",
      "execution_count": 10,
      "outputs": []
    },
    {
      "cell_type": "code",
      "source": [
        "class AlexNetBaseline(nn.Module):\n",
        "    def __init__(self, num_classes=102):\n",
        "        super(AlexNetBaseline, self).__init__()\n",
        "        self.features = nn.Sequential(\n",
        "            nn.Conv2d(3, 64, kernel_size=11, stride=4, padding=2),\n",
        "            nn.ReLU(inplace=True),\n",
        "            nn.MaxPool2d(kernel_size=3, stride=2),\n",
        "            nn.Conv2d(64, 192, kernel_size=5, padding=2),\n",
        "            nn.ReLU(inplace=True),\n",
        "            nn.MaxPool2d(kernel_size=3, stride=2),\n",
        "            nn.Conv2d(192, 384, kernel_size=3, padding=1),\n",
        "            nn.ReLU(inplace=True),\n",
        "            nn.Conv2d(384, 256, kernel_size=3, padding=1),\n",
        "            nn.ReLU(inplace=True),\n",
        "            nn.Conv2d(256, 256, kernel_size=3, padding=1),\n",
        "            nn.ReLU(inplace=True),\n",
        "            nn.MaxPool2d(kernel_size=3, stride=2),\n",
        "        )\n",
        "        self.classifier = nn.Sequential(\n",
        "            nn.Dropout(p=0.5),\n",
        "            nn.Linear(256 * 6 * 6, 4096),\n",
        "            nn.ReLU(inplace=True),\n",
        "            nn.Dropout(p=0.5),\n",
        "            nn.Linear(4096, 4096),\n",
        "            nn.ReLU(inplace=True),\n",
        "            nn.Linear(4096, num_classes),\n",
        "        )\n",
        "\n",
        "    def forward(self, x):\n",
        "        x = self.features(x)\n",
        "        x = torch.flatten(x, 1)\n",
        "        x = self.classifier(x)\n",
        "        return x\n",
        "\n",
        "    def init_weights(self):\n",
        "        for layer in self.modules():\n",
        "            if isinstance(layer, nn.Conv2d) or isinstance(layer, nn.Linear):\n",
        "                nn.init.kaiming_uniform_(layer.weight, nonlinearity='relu')\n",
        "                if layer.bias is not None:\n",
        "                    nn.init.zeros_(layer.bias)\n",
        "            elif isinstance(layer, nn.BatchNorm2d):\n",
        "                nn.init.ones_(layer.weight)\n",
        "                if layer.bias is not None:\n",
        "                    nn.init.zeros_(layer.bias)\n",
        "\n",
        "    def evaluate(self, data_loader):\n",
        "        loss = 0\n",
        "        correct = 0\n",
        "        loss_fn = nn.CrossEntropyLoss(\n",
        "            reduction='sum',\n",
        "        )\n",
        "\n",
        "        with torch.no_grad():\n",
        "            for inputs, labels in data_loader:\n",
        "                inputs, labels = inputs.to(_device), labels.to(_device)\n",
        "\n",
        "                outputs = self(inputs)\n",
        "                loss += loss_fn(outputs, labels).item()\n",
        "                pred = outputs.argmax(\n",
        "                    dim=1, keepdim=True\n",
        "                )\n",
        "                correct += (\n",
        "                    pred.eq(labels.view_as(pred)).sum().item()\n",
        "                )\n",
        "\n",
        "        loss /= len(data_loader.dataset)\n",
        "        accuracy = correct / len(data_loader.dataset)\n",
        "        return loss, accuracy"
      ],
      "metadata": {
        "id": "OHRvwBBEKeDz"
      },
      "id": "OHRvwBBEKeDz",
      "execution_count": 11,
      "outputs": []
    },
    {
      "cell_type": "markdown",
      "source": [
        "### Test parameters"
      ],
      "metadata": {
        "id": "Jih9V5i7KhgF"
      },
      "id": "Jih9V5i7KhgF"
    },
    {
      "cell_type": "code",
      "source": [
        "random_search_tuner(\n",
        "    param_ranges={\n",
        "        'learning_rate': (1e-5, 1e-1),\n",
        "        'weight_decay': (0.0, 0.1),\n",
        "    },\n",
        "    model_name = 'AlexNetBaseline',\n",
        "    model_class = AlexNetBaseline,\n",
        "    optimizer_name='Adam',\n",
        "    loss_fn_name='cross_entropy',\n",
        "    trials=10,\n",
        "    epochs=10,\n",
        ")"
      ],
      "metadata": {
        "colab": {
          "base_uri": "https://localhost:8080/",
          "height": 700,
          "referenced_widgets": [
            "e27dd60fcfd64dc182691b9d42c20867",
            "b3f3a97f3fe74d93981caf4b92c78a0b",
            "d86615520aa042bf8752040c0512db16",
            "3a71a02cc09344a8b2283844684781ee",
            "e870e28c930a4d16b4768f27d6a77283",
            "d1a0b77df13743e699c23f6ed5fc8f38",
            "ab4d967f02b1474f9edf6513cd6a4dad",
            "85a4225f19734019b907ad786493032e",
            "2d22a5b9e7034484874b4da70086248a",
            "b26c1f8140854b78afe4df570d77472e",
            "1facb9118b454854b5bfae931115b15e",
            "f8039dacf28b4129ae528e69ef1caaab",
            "c376880bf4254311a4241386a27faa9e",
            "d2ce25838b5a48c7bdb7a8a9b36c11b6",
            "2dcf7b78f9354239bd3c76019fcc9b4c",
            "0d4eade8ef9a4017b83a8eb49fd6ff71",
            "723dfb211a154cb8ac7aa51b6727d293",
            "4ded19614e0c4484b80a4c1e403adc48",
            "a31b8c0837724178ab7a833391fdb97c",
            "290120c1c54843e4b32600ff0b993a83",
            "ef5334ac18be434f8cec8267b1da13ad",
            "5104afc176074c529de3e48133151ff4"
          ]
        },
        "id": "QcM9cMoeKjci",
        "outputId": "edd60e11-181c-4bfa-bbbd-a73409d8e843"
      },
      "id": "QcM9cMoeKjci",
      "execution_count": 12,
      "outputs": [
        {
          "output_type": "display_data",
          "data": {
            "text/plain": [
              "Trial:   0%|          | 0/10 [00:00<?, ?it/s]"
            ],
            "application/vnd.jupyter.widget-view+json": {
              "version_major": 2,
              "version_minor": 0,
              "model_id": "e27dd60fcfd64dc182691b9d42c20867"
            }
          },
          "metadata": {}
        },
        {
          "output_type": "stream",
          "name": "stderr",
          "text": [
            "\u001b[34m\u001b[1mwandb\u001b[0m: Using wandb-core as the SDK backend.  Please refer to https://wandb.me/wandb-core for more information.\n"
          ]
        },
        {
          "output_type": "display_data",
          "data": {
            "text/plain": [
              "<IPython.core.display.Javascript object>"
            ],
            "application/javascript": [
              "\n",
              "        window._wandbApiKey = new Promise((resolve, reject) => {\n",
              "            function loadScript(url) {\n",
              "            return new Promise(function(resolve, reject) {\n",
              "                let newScript = document.createElement(\"script\");\n",
              "                newScript.onerror = reject;\n",
              "                newScript.onload = resolve;\n",
              "                document.body.appendChild(newScript);\n",
              "                newScript.src = url;\n",
              "            });\n",
              "            }\n",
              "            loadScript(\"https://cdn.jsdelivr.net/npm/postmate/build/postmate.min.js\").then(() => {\n",
              "            const iframe = document.createElement('iframe')\n",
              "            iframe.style.cssText = \"width:0;height:0;border:none\"\n",
              "            document.body.appendChild(iframe)\n",
              "            const handshake = new Postmate({\n",
              "                container: iframe,\n",
              "                url: 'https://wandb.ai/authorize'\n",
              "            });\n",
              "            const timeout = setTimeout(() => reject(\"Couldn't auto authenticate\"), 5000)\n",
              "            handshake.then(function(child) {\n",
              "                child.on('authorize', data => {\n",
              "                    clearTimeout(timeout)\n",
              "                    resolve(data)\n",
              "                });\n",
              "            });\n",
              "            })\n",
              "        });\n",
              "    "
            ]
          },
          "metadata": {}
        },
        {
          "output_type": "stream",
          "name": "stderr",
          "text": [
            "\u001b[34m\u001b[1mwandb\u001b[0m: Logging into wandb.ai. (Learn how to deploy a W&B server locally: https://wandb.me/wandb-server)\n",
            "\u001b[34m\u001b[1mwandb\u001b[0m: You can find your API key in your browser here: https://wandb.ai/authorize\n",
            "wandb: Paste an API key from your profile and hit enter:"
          ]
        },
        {
          "name": "stdout",
          "output_type": "stream",
          "text": [
            " ··········\n"
          ]
        },
        {
          "output_type": "stream",
          "name": "stderr",
          "text": [
            "\u001b[34m\u001b[1mwandb\u001b[0m: \u001b[33mWARNING\u001b[0m If you're specifying your api key in code, ensure this code is not shared publicly.\n",
            "\u001b[34m\u001b[1mwandb\u001b[0m: \u001b[33mWARNING\u001b[0m Consider setting the WANDB_API_KEY environment variable, or running `wandb login` from the command line.\n",
            "\u001b[34m\u001b[1mwandb\u001b[0m: No netrc file found, creating one.\n",
            "\u001b[34m\u001b[1mwandb\u001b[0m: Appending key for api.wandb.ai to your netrc file: /root/.netrc\n",
            "\u001b[34m\u001b[1mwandb\u001b[0m: Currently logged in as: \u001b[33mfejowo5522\u001b[0m (\u001b[33mfejowo5522-\u001b[0m) to \u001b[32mhttps://api.wandb.ai\u001b[0m. Use \u001b[1m`wandb login --relogin`\u001b[0m to force relogin\n"
          ]
        },
        {
          "output_type": "display_data",
          "data": {
            "text/plain": [
              "<IPython.core.display.HTML object>"
            ],
            "text/html": [
              "Tracking run with wandb version 0.19.9"
            ]
          },
          "metadata": {}
        },
        {
          "output_type": "display_data",
          "data": {
            "text/plain": [
              "<IPython.core.display.HTML object>"
            ],
            "text/html": [
              "Run data is saved locally in <code>/content/wandb/run-20250420_173608-hoemv82q</code>"
            ]
          },
          "metadata": {}
        },
        {
          "output_type": "display_data",
          "data": {
            "text/plain": [
              "<IPython.core.display.HTML object>"
            ],
            "text/html": [
              "Syncing run <strong><a href='https://wandb.ai/fejowo5522-/NN_list3_OxFlow/runs/hoemv82q' target=\"_blank\">astral-shadow-102</a></strong> to <a href='https://wandb.ai/fejowo5522-/NN_list3_OxFlow' target=\"_blank\">Weights & Biases</a> (<a href='https://wandb.me/developer-guide' target=\"_blank\">docs</a>)<br>"
            ]
          },
          "metadata": {}
        },
        {
          "output_type": "display_data",
          "data": {
            "text/plain": [
              "<IPython.core.display.HTML object>"
            ],
            "text/html": [
              " View project at <a href='https://wandb.ai/fejowo5522-/NN_list3_OxFlow' target=\"_blank\">https://wandb.ai/fejowo5522-/NN_list3_OxFlow</a>"
            ]
          },
          "metadata": {}
        },
        {
          "output_type": "display_data",
          "data": {
            "text/plain": [
              "<IPython.core.display.HTML object>"
            ],
            "text/html": [
              " View run at <a href='https://wandb.ai/fejowo5522-/NN_list3_OxFlow/runs/hoemv82q' target=\"_blank\">https://wandb.ai/fejowo5522-/NN_list3_OxFlow/runs/hoemv82q</a>"
            ]
          },
          "metadata": {}
        },
        {
          "output_type": "display_data",
          "data": {
            "text/plain": [
              "Epoch:   0%|          | 0/20 [00:00<?, ?it/s]"
            ],
            "application/vnd.jupyter.widget-view+json": {
              "version_major": 2,
              "version_minor": 0,
              "model_id": "f8039dacf28b4129ae528e69ef1caaab"
            }
          },
          "metadata": {}
        },
        {
          "output_type": "error",
          "ename": "KeyboardInterrupt",
          "evalue": "",
          "traceback": [
            "\u001b[0;31m---------------------------------------------------------------------------\u001b[0m",
            "\u001b[0;31mKeyboardInterrupt\u001b[0m                         Traceback (most recent call last)",
            "\u001b[0;32m<ipython-input-12-28db3b7005c2>\u001b[0m in \u001b[0;36m<cell line: 0>\u001b[0;34m()\u001b[0m\n\u001b[0;32m----> 1\u001b[0;31m random_search_tuner(\n\u001b[0m\u001b[1;32m      2\u001b[0m     param_ranges={\n\u001b[1;32m      3\u001b[0m         \u001b[0;34m'learning_rate'\u001b[0m\u001b[0;34m:\u001b[0m \u001b[0;34m(\u001b[0m\u001b[0;36m1e-5\u001b[0m\u001b[0;34m,\u001b[0m \u001b[0;36m1e-1\u001b[0m\u001b[0;34m)\u001b[0m\u001b[0;34m,\u001b[0m\u001b[0;34m\u001b[0m\u001b[0;34m\u001b[0m\u001b[0m\n\u001b[1;32m      4\u001b[0m         \u001b[0;34m'weight_decay'\u001b[0m\u001b[0;34m:\u001b[0m \u001b[0;34m(\u001b[0m\u001b[0;36m0.0\u001b[0m\u001b[0;34m,\u001b[0m \u001b[0;36m0.1\u001b[0m\u001b[0;34m)\u001b[0m\u001b[0;34m,\u001b[0m\u001b[0;34m\u001b[0m\u001b[0;34m\u001b[0m\u001b[0m\n\u001b[1;32m      5\u001b[0m     },\n",
            "\u001b[0;32m<ipython-input-9-56be6de3ec75>\u001b[0m in \u001b[0;36mrandom_search_tuner\u001b[0;34m(param_ranges, model_name, model_class, optimizer_name, loss_fn_name, trials, epochs)\u001b[0m\n\u001b[1;32m     80\u001b[0m         \u001b[0mmodel\u001b[0m\u001b[0;34m.\u001b[0m\u001b[0mtrain\u001b[0m\u001b[0;34m(\u001b[0m\u001b[0;34m)\u001b[0m\u001b[0;34m\u001b[0m\u001b[0;34m\u001b[0m\u001b[0m\n\u001b[1;32m     81\u001b[0m         \u001b[0;32mfor\u001b[0m \u001b[0mepoch\u001b[0m \u001b[0;32min\u001b[0m \u001b[0mtqdm\u001b[0m\u001b[0;34m(\u001b[0m\u001b[0mrange\u001b[0m\u001b[0;34m(\u001b[0m\u001b[0mepochs\u001b[0m\u001b[0;34m)\u001b[0m\u001b[0;34m,\u001b[0m \u001b[0mdesc\u001b[0m\u001b[0;34m=\u001b[0m\u001b[0;34m\"Epoch\"\u001b[0m\u001b[0;34m,\u001b[0m \u001b[0mleave\u001b[0m\u001b[0;34m=\u001b[0m\u001b[0;32mFalse\u001b[0m\u001b[0;34m,\u001b[0m \u001b[0mposition\u001b[0m\u001b[0;34m=\u001b[0m\u001b[0;36m1\u001b[0m\u001b[0;34m)\u001b[0m\u001b[0;34m:\u001b[0m\u001b[0;34m\u001b[0m\u001b[0;34m\u001b[0m\u001b[0m\n\u001b[0;32m---> 82\u001b[0;31m             \u001b[0mtrain_step\u001b[0m\u001b[0;34m(\u001b[0m\u001b[0mmodel\u001b[0m\u001b[0;34m,\u001b[0m \u001b[0m_optimizer\u001b[0m\u001b[0;34m,\u001b[0m \u001b[0mloss_fn\u001b[0m\u001b[0;34m,\u001b[0m \u001b[0mdata_loaders\u001b[0m\u001b[0;34m[\u001b[0m\u001b[0;34m'train'\u001b[0m\u001b[0;34m]\u001b[0m\u001b[0;34m)\u001b[0m\u001b[0;34m\u001b[0m\u001b[0;34m\u001b[0m\u001b[0m\n\u001b[0m\u001b[1;32m     83\u001b[0m \u001b[0;34m\u001b[0m\u001b[0m\n\u001b[1;32m     84\u001b[0m             for loader, split in [\n",
            "\u001b[0;32m<ipython-input-10-764a00812183>\u001b[0m in \u001b[0;36mtrain_step\u001b[0;34m(model, optimizer, loss_fn, data_loader)\u001b[0m\n\u001b[1;32m      8\u001b[0m         \u001b[0mlogits\u001b[0m \u001b[0;34m=\u001b[0m \u001b[0mmodel\u001b[0m\u001b[0;34m(\u001b[0m\u001b[0minputs\u001b[0m\u001b[0;34m)\u001b[0m   \u001b[0;31m# Forward pass\u001b[0m\u001b[0;34m\u001b[0m\u001b[0;34m\u001b[0m\u001b[0m\n\u001b[1;32m      9\u001b[0m         \u001b[0mloss\u001b[0m \u001b[0;34m=\u001b[0m \u001b[0mloss_fn\u001b[0m\u001b[0;34m(\u001b[0m\u001b[0mlogits\u001b[0m\u001b[0;34m,\u001b[0m \u001b[0mlabels\u001b[0m\u001b[0;34m)\u001b[0m  \u001b[0;31m# Compute loss\u001b[0m\u001b[0;34m\u001b[0m\u001b[0;34m\u001b[0m\u001b[0m\n\u001b[0;32m---> 10\u001b[0;31m         \u001b[0mloss\u001b[0m\u001b[0;34m.\u001b[0m\u001b[0mbackward\u001b[0m\u001b[0;34m(\u001b[0m\u001b[0;34m)\u001b[0m \u001b[0;31m# Backward pass\u001b[0m\u001b[0;34m\u001b[0m\u001b[0;34m\u001b[0m\u001b[0m\n\u001b[0m\u001b[1;32m     11\u001b[0m         \u001b[0moptimizer\u001b[0m\u001b[0;34m.\u001b[0m\u001b[0mstep\u001b[0m\u001b[0;34m(\u001b[0m\u001b[0;34m)\u001b[0m    \u001b[0;31m# Update weights\u001b[0m\u001b[0;34m\u001b[0m\u001b[0;34m\u001b[0m\u001b[0m\n\u001b[1;32m     12\u001b[0m \u001b[0;34m\u001b[0m\u001b[0m\n",
            "\u001b[0;32m/usr/local/lib/python3.11/dist-packages/torch/_tensor.py\u001b[0m in \u001b[0;36mbackward\u001b[0;34m(self, gradient, retain_graph, create_graph, inputs)\u001b[0m\n\u001b[1;32m    624\u001b[0m                 \u001b[0minputs\u001b[0m\u001b[0;34m=\u001b[0m\u001b[0minputs\u001b[0m\u001b[0;34m,\u001b[0m\u001b[0;34m\u001b[0m\u001b[0;34m\u001b[0m\u001b[0m\n\u001b[1;32m    625\u001b[0m             )\n\u001b[0;32m--> 626\u001b[0;31m         torch.autograd.backward(\n\u001b[0m\u001b[1;32m    627\u001b[0m             \u001b[0mself\u001b[0m\u001b[0;34m,\u001b[0m \u001b[0mgradient\u001b[0m\u001b[0;34m,\u001b[0m \u001b[0mretain_graph\u001b[0m\u001b[0;34m,\u001b[0m \u001b[0mcreate_graph\u001b[0m\u001b[0;34m,\u001b[0m \u001b[0minputs\u001b[0m\u001b[0;34m=\u001b[0m\u001b[0minputs\u001b[0m\u001b[0;34m\u001b[0m\u001b[0;34m\u001b[0m\u001b[0m\n\u001b[1;32m    628\u001b[0m         )\n",
            "\u001b[0;32m/usr/local/lib/python3.11/dist-packages/torch/autograd/__init__.py\u001b[0m in \u001b[0;36mbackward\u001b[0;34m(tensors, grad_tensors, retain_graph, create_graph, grad_variables, inputs)\u001b[0m\n\u001b[1;32m    345\u001b[0m     \u001b[0;31m# some Python versions print out the first line of a multi-line function\u001b[0m\u001b[0;34m\u001b[0m\u001b[0;34m\u001b[0m\u001b[0m\n\u001b[1;32m    346\u001b[0m     \u001b[0;31m# calls in the traceback and some print out the last line\u001b[0m\u001b[0;34m\u001b[0m\u001b[0;34m\u001b[0m\u001b[0m\n\u001b[0;32m--> 347\u001b[0;31m     _engine_run_backward(\n\u001b[0m\u001b[1;32m    348\u001b[0m         \u001b[0mtensors\u001b[0m\u001b[0;34m,\u001b[0m\u001b[0;34m\u001b[0m\u001b[0;34m\u001b[0m\u001b[0m\n\u001b[1;32m    349\u001b[0m         \u001b[0mgrad_tensors_\u001b[0m\u001b[0;34m,\u001b[0m\u001b[0;34m\u001b[0m\u001b[0;34m\u001b[0m\u001b[0m\n",
            "\u001b[0;32m/usr/local/lib/python3.11/dist-packages/torch/autograd/graph.py\u001b[0m in \u001b[0;36m_engine_run_backward\u001b[0;34m(t_outputs, *args, **kwargs)\u001b[0m\n\u001b[1;32m    821\u001b[0m         \u001b[0munregister_hooks\u001b[0m \u001b[0;34m=\u001b[0m \u001b[0m_register_logging_hooks_on_whole_graph\u001b[0m\u001b[0;34m(\u001b[0m\u001b[0mt_outputs\u001b[0m\u001b[0;34m)\u001b[0m\u001b[0;34m\u001b[0m\u001b[0;34m\u001b[0m\u001b[0m\n\u001b[1;32m    822\u001b[0m     \u001b[0;32mtry\u001b[0m\u001b[0;34m:\u001b[0m\u001b[0;34m\u001b[0m\u001b[0;34m\u001b[0m\u001b[0m\n\u001b[0;32m--> 823\u001b[0;31m         return Variable._execution_engine.run_backward(  # Calls into the C++ engine to run the backward pass\n\u001b[0m\u001b[1;32m    824\u001b[0m             \u001b[0mt_outputs\u001b[0m\u001b[0;34m,\u001b[0m \u001b[0;34m*\u001b[0m\u001b[0margs\u001b[0m\u001b[0;34m,\u001b[0m \u001b[0;34m**\u001b[0m\u001b[0mkwargs\u001b[0m\u001b[0;34m\u001b[0m\u001b[0;34m\u001b[0m\u001b[0m\n\u001b[1;32m    825\u001b[0m         )  # Calls into the C++ engine to run the backward pass\n",
            "\u001b[0;31mKeyboardInterrupt\u001b[0m: "
          ]
        }
      ]
    },
    {
      "cell_type": "code",
      "source": [
        "random_search_tuner(\n",
        "    param_ranges={\n",
        "        'learning_rate': (1e-5, 1e-1),\n",
        "        'weight_decay': (0.0, 0.1),\n",
        "        'momentum': (0.0, 0.01),\n",
        "    },\n",
        "    model_name = 'AlexNetBaseline',\n",
        "    model_class = AlexNetBaseline,\n",
        "    optimizer_name='SGD',\n",
        "    loss_fn_name='cross_entropy',\n",
        "    trials=10,\n",
        "    epochs=20,\n",
        ")"
      ],
      "metadata": {
        "id": "C6Sj0HRvL0w4"
      },
      "id": "C6Sj0HRvL0w4",
      "execution_count": null,
      "outputs": []
    },
    {
      "cell_type": "markdown",
      "source": [
        "## Zad 6\n",
        "* Modify your CNN architecture to include batch normalization and dropout layers.\n",
        "* Experiment with different dropout rates and analyze their impact on the model's performance.\n"
      ],
      "metadata": {
        "id": "nxHWxcNoQUFO"
      },
      "id": "nxHWxcNoQUFO"
    },
    {
      "cell_type": "markdown",
      "source": [
        "### Model class"
      ],
      "metadata": {
        "id": "fzbWv_dLUafP"
      },
      "id": "fzbWv_dLUafP"
    },
    {
      "cell_type": "code",
      "source": [
        "class AlexNetBaseline(nn.Module):\n",
        "    def __init__(self, dropout_p=0.5, num_classes=102):\n",
        "        super(AlexNetBaseline, self).__init__()\n",
        "        self.features = nn.Sequential(\n",
        "            nn.Conv2d(3, 64, kernel_size=11, stride=4, padding=2),\n",
        "            nn.Dropout(p=dropout_p),\n",
        "            nn.ReLU(inplace=True),\n",
        "            nn.MaxPool2d(kernel_size=3, stride=2),\n",
        "\n",
        "            nn.Conv2d(64, 192, kernel_size=5, padding=2),\n",
        "            nn.Dropout(p=dropout_p),\n",
        "            nn.ReLU(inplace=True),\n",
        "            nn.MaxPool2d(kernel_size=3, stride=2),\n",
        "\n",
        "            nn.Conv2d(192, 384, kernel_size=3, padding=1),\n",
        "            nn.Dropout(p=dropout_p),\n",
        "            nn.ReLU(inplace=True),\n",
        "\n",
        "            nn.Conv2d(384, 256, kernel_size=3, padding=1),\n",
        "            nn.Dropout(p=dropout_p),\n",
        "            nn.ReLU(inplace=True),\n",
        "\n",
        "            nn.Conv2d(256, 256, kernel_size=3, padding=1),\n",
        "            nn.Dropout(p=dropout_p),\n",
        "            nn.ReLU(inplace=True),\n",
        "            nn.MaxPool2d(kernel_size=3, stride=2),\n",
        "        )\n",
        "        self.classifier = nn.Sequential(\n",
        "            nn.Dropout(p=dropout_p),\n",
        "            nn.Linear(256 * 6 * 6, 4096),\n",
        "            nn.ReLU(inplace=True),\n",
        "\n",
        "            nn.Dropout(p=dropout_p),\n",
        "            nn.Linear(4096, 4096),\n",
        "            nn.ReLU(inplace=True),\n",
        "            nn.Linear(4096, num_classes),\n",
        "        )\n",
        "\n",
        "    def forward(self, x):\n",
        "        x = self.features(x)\n",
        "        x = torch.flatten(x, 1)\n",
        "        x = self.classifier(x)\n",
        "        return x\n",
        "\n",
        "    def init_weights(self):\n",
        "        for layer in self.modules():\n",
        "            if isinstance(layer, nn.Conv2d) or isinstance(layer, nn.Linear):\n",
        "                nn.init.kaiming_uniform_(layer.weight, nonlinearity='relu')\n",
        "                if layer.bias is not None:\n",
        "                    nn.init.zeros_(layer.bias)\n",
        "            elif isinstance(layer, nn.BatchNorm2d):\n",
        "                nn.init.ones_(layer.weight)\n",
        "                if layer.bias is not None:\n",
        "                    nn.init.zeros_(layer.bias)\n",
        "\n",
        "    def evaluate(self, data_loader):\n",
        "        loss = 0\n",
        "        correct = 0\n",
        "        loss_fn = nn.CrossEntropyLoss(\n",
        "            reduction='sum',\n",
        "        )\n",
        "\n",
        "        with torch.no_grad():\n",
        "            for inputs, labels in data_loader:\n",
        "                inputs, labels = inputs.to(_device), labels.to(_device)\n",
        "\n",
        "                outputs = self(inputs)\n",
        "                loss += loss_fn(outputs, labels).item()\n",
        "                pred = outputs.argmax(\n",
        "                    dim=1, keepdim=True\n",
        "                )\n",
        "                correct += (\n",
        "                    pred.eq(labels.view_as(pred)).sum().item()\n",
        "                )\n",
        "\n",
        "        loss /= len(data_loader.dataset)\n",
        "        accuracy = correct / len(data_loader.dataset)\n",
        "        return loss, accuracy"
      ],
      "metadata": {
        "id": "tQUjC_ENUcOk"
      },
      "id": "tQUjC_ENUcOk",
      "execution_count": 13,
      "outputs": []
    },
    {
      "cell_type": "markdown",
      "source": [
        "### Training functions"
      ],
      "metadata": {
        "id": "RV74ttfjUZLu"
      },
      "id": "RV74ttfjUZLu"
    },
    {
      "cell_type": "code",
      "source": [
        "def train_step(model, optimizer, loss_fn, data_loader):\n",
        "    data_iter = iter(data_loader)\n",
        "\n",
        "    for batch_idx, (inputs, labels) in enumerate(data_iter):\n",
        "        inputs, labels = inputs.to(_device), labels.to(_device)\n",
        "\n",
        "        optimizer.zero_grad()   # Zero gradients\n",
        "        logits = model(inputs)   # Forward pass\n",
        "        loss = loss_fn(logits, labels)  # Compute loss\n",
        "        loss.backward() # Backward pass\n",
        "        optimizer.step()    # Update weights\n",
        "\n",
        "        wandb.log({\n",
        "            \"loss\": loss.item(),\n",
        "            \"batch_idx\": batch_idx,\n",
        "        })"
      ],
      "metadata": {
        "id": "7Mb3qht_TZ8f"
      },
      "execution_count": 14,
      "outputs": [],
      "id": "7Mb3qht_TZ8f"
    },
    {
      "cell_type": "code",
      "source": [
        "def test_dropout(\n",
        "    dropout,\n",
        "    model_class,\n",
        "    epochs=10,\n",
        "    learning_rate=0.001,\n",
        "    weight_decay = 0.0005,\n",
        "):\n",
        "    model = model_class(dropout)\n",
        "    model.init_weights()\n",
        "\n",
        "    # optimizer and loss\n",
        "    optimizer = torch.optim.Adam(model.parameters(), lr=learning_rate, weight_decay=weight_decay)\n",
        "    loss_fn = nn.CrossEntropyLoss()\n",
        "\n",
        "    with Capturing() as output:\n",
        "        run = wandb.init(\n",
        "            entity = \"fejowo5522-\",\n",
        "            project= \"NN_list3_OxFlow\",\n",
        "            config = {\n",
        "                \"task\": 6,\n",
        "                \"batch_size\": batch_size,\n",
        "                \"epochs\": epochs,\n",
        "                \"data_augmentation\": data_augmentation,\n",
        "                \"optimizer\": \"Adam\",\n",
        "                \"loss_fn\": \"cross_entropy\",\n",
        "                \"learning_rate\": learning_rate,\n",
        "                \"weight_decay\": weight_decay,\n",
        "                \"model\": 'alexnet',\n",
        "                \"dropout\": dropout,\n",
        "            }\n",
        "        )\n",
        "        run.name = \"Task6_\" + str(int(time.time()))\n",
        "\n",
        "\n",
        "    model.train()\n",
        "    for epoch in tqdm(range(epochs), desc=\"Training\", leave=False, position=1):\n",
        "        train_step(model, optimizer, loss_fn, data_loaders['train'])\n",
        "\n",
        "        for loader, split in [\n",
        "            (data_loaders['train'], 'train'),\n",
        "            (data_loaders['valid'], 'valid'),\n",
        "        ]:\n",
        "            loss, accuracy = model.evaluate(loader)\n",
        "            wandb.log({\n",
        "                \"epoch\": epoch,\n",
        "                f\"{split}_loss\": loss,\n",
        "                f\"{split}_accuracy\": accuracy,\n",
        "            })\n",
        "\n",
        "    model.eval()\n",
        "    loss, accuracy = model.evaluate(data_loaders['test'])\n",
        "    wandb.log({\n",
        "        \"test_loss\": loss,\n",
        "        \"test_accuracy\": accuracy,\n",
        "    })\n",
        "    print(\n",
        "        \"Test set: Average loss: {:8.6f}, Accuracy: ({:4.1f}%)\".format(\n",
        "            loss,\n",
        "            100.0 * accuracy,\n",
        "        )\n",
        "    )\n",
        "\n",
        "    run.finish()"
      ],
      "metadata": {
        "id": "5XZS8Ax2TZ8g"
      },
      "execution_count": 15,
      "outputs": [],
      "id": "5XZS8Ax2TZ8g"
    },
    {
      "cell_type": "markdown",
      "source": [
        "### Test dropouts"
      ],
      "metadata": {
        "id": "UA-KjOxJUWub"
      },
      "id": "UA-KjOxJUWub"
    },
    {
      "cell_type": "code",
      "source": [
        "for drop in tqdm(range(0, 100, 10), position=0):\n",
        "    test_dropout(\n",
        "        drop/100,\n",
        "        AlexNetBaseline,\n",
        "        epochs=10,\n",
        "        learning_rate=0.001,\n",
        "        weight_decay = 0.0005,\n",
        "    )"
      ],
      "metadata": {
        "colab": {
          "base_uri": "https://localhost:8080/",
          "height": 478,
          "referenced_widgets": [
            "30531324cedb4b768624d1d73a588432",
            "6b17eccba96841feab7831b8407d4c52",
            "9d4142f2cbde4f81bcf3dcccd6094ca5",
            "7640f2779f664cab84dd204c3b7196ad",
            "f79dcf604de64521921c7e0ff9fea3a1",
            "aea9eb7ed09948eea016aa7cc7e0abd4",
            "29fc706f9bdf4da2885eb08845f6badb",
            "6e85cda149d449c68db9bba230e37681",
            "fbc03877773940e88c89c52e7e83fc60",
            "4d58fced911f4fb194f2c271669a0137",
            "9de9d09abd4042459339ecb5015cf5c5"
          ]
        },
        "id": "Ogdk5xaJUUH5",
        "outputId": "38294868-2883-422c-8dc1-72b9673ec15f"
      },
      "id": "Ogdk5xaJUUH5",
      "execution_count": null,
      "outputs": [
        {
          "output_type": "display_data",
          "data": {
            "text/plain": [
              "<IPython.core.display.HTML object>"
            ],
            "text/html": []
          },
          "metadata": {}
        },
        {
          "output_type": "display_data",
          "data": {
            "text/plain": [
              "<IPython.core.display.HTML object>"
            ],
            "text/html": [
              "<br>    <style><br>        .wandb-row {<br>            display: flex;<br>            flex-direction: row;<br>            flex-wrap: wrap;<br>            justify-content: flex-start;<br>            width: 100%;<br>        }<br>        .wandb-col {<br>            display: flex;<br>            flex-direction: column;<br>            flex-basis: 100%;<br>            flex: 1;<br>            padding: 10px;<br>        }<br>    </style><br><div class=\"wandb-row\"><div class=\"wandb-col\"><h3>Run history:</h3><br/><table class=\"wandb\"><tr><td>batch_idx</td><td>▁</td></tr><tr><td>loss</td><td>▁</td></tr></table><br/></div><div class=\"wandb-col\"><h3>Run summary:</h3><br/><table class=\"wandb\"><tr><td>batch_idx</td><td>0</td></tr><tr><td>loss</td><td>5.8069</td></tr></table><br/></div></div>"
            ]
          },
          "metadata": {}
        },
        {
          "output_type": "display_data",
          "data": {
            "text/plain": [
              "<IPython.core.display.HTML object>"
            ],
            "text/html": [
              " View run <strong style=\"color:#cdcd00\">Task6_1745171549</strong> at: <a href='https://wandb.ai/fejowo5522-/NN_list3_OxFlow/runs/416273f2' target=\"_blank\">https://wandb.ai/fejowo5522-/NN_list3_OxFlow/runs/416273f2</a><br> View project at: <a href='https://wandb.ai/fejowo5522-/NN_list3_OxFlow' target=\"_blank\">https://wandb.ai/fejowo5522-/NN_list3_OxFlow</a><br>Synced 5 W&B file(s), 0 media file(s), 0 artifact file(s) and 0 other file(s)"
            ]
          },
          "metadata": {}
        },
        {
          "output_type": "display_data",
          "data": {
            "text/plain": [
              "<IPython.core.display.HTML object>"
            ],
            "text/html": [
              "Find logs at: <code>./wandb/run-20250420_175223-416273f2/logs</code>"
            ]
          },
          "metadata": {}
        },
        {
          "output_type": "display_data",
          "data": {
            "text/plain": [
              "<IPython.core.display.HTML object>"
            ],
            "text/html": [
              "Tracking run with wandb version 0.19.9"
            ]
          },
          "metadata": {}
        },
        {
          "output_type": "display_data",
          "data": {
            "text/plain": [
              "<IPython.core.display.HTML object>"
            ],
            "text/html": [
              "Run data is saved locally in <code>/content/wandb/run-20250420_175244-ju5welwx</code>"
            ]
          },
          "metadata": {}
        },
        {
          "output_type": "display_data",
          "data": {
            "text/plain": [
              "<IPython.core.display.HTML object>"
            ],
            "text/html": [
              "Syncing run <strong><a href='https://wandb.ai/fejowo5522-/NN_list3_OxFlow/runs/ju5welwx' target=\"_blank\">noble-plasma-104</a></strong> to <a href='https://wandb.ai/fejowo5522-/NN_list3_OxFlow' target=\"_blank\">Weights & Biases</a> (<a href='https://wandb.me/developer-guide' target=\"_blank\">docs</a>)<br>"
            ]
          },
          "metadata": {}
        },
        {
          "output_type": "display_data",
          "data": {
            "text/plain": [
              "<IPython.core.display.HTML object>"
            ],
            "text/html": [
              " View project at <a href='https://wandb.ai/fejowo5522-/NN_list3_OxFlow' target=\"_blank\">https://wandb.ai/fejowo5522-/NN_list3_OxFlow</a>"
            ]
          },
          "metadata": {}
        },
        {
          "output_type": "display_data",
          "data": {
            "text/plain": [
              "<IPython.core.display.HTML object>"
            ],
            "text/html": [
              " View run at <a href='https://wandb.ai/fejowo5522-/NN_list3_OxFlow/runs/ju5welwx' target=\"_blank\">https://wandb.ai/fejowo5522-/NN_list3_OxFlow/runs/ju5welwx</a>"
            ]
          },
          "metadata": {}
        },
        {
          "output_type": "display_data",
          "data": {
            "text/plain": [
              "Training:   0%|          | 0/10 [00:00<?, ?it/s]"
            ],
            "application/vnd.jupyter.widget-view+json": {
              "version_major": 2,
              "version_minor": 0,
              "model_id": "30531324cedb4b768624d1d73a588432"
            }
          },
          "metadata": {}
        }
      ]
    },
    {
      "cell_type": "markdown",
      "source": [
        "## Zad 7\n",
        "* Implement data augmentation techniques such as random rotations, shifts, flips, and zooms on the training dataset.\n",
        "* Train your CNN with augmented data and compare the performance with the baseline model trained on the original data.\n"
      ],
      "metadata": {
        "id": "R_xrTs-GQVqp"
      },
      "id": "R_xrTs-GQVqp"
    },
    {
      "cell_type": "markdown",
      "source": [
        "implemented already in `load_flowers` data loader and global `data_augmentation` variable or custom `transfrom`'s"
      ],
      "metadata": {
        "id": "Yg6A8kxvVY6X"
      },
      "id": "Yg6A8kxvVY6X"
    },
    {
      "cell_type": "markdown",
      "source": [
        "## Zad 8\n",
        "* Implement residual connections in your CNN architecture; see the [ResNet paper](https://arxiv.org/abs/1512.03385) for more details.\n",
        "* Implement inception modules in your CNN architecture; see the [GoogLeNet paper](https://arxiv.org/abs/1409.4842) for more details.\n",
        "            "
      ],
      "metadata": {
        "id": "on2nSgBESPgA"
      },
      "id": "on2nSgBESPgA"
    }
  ],
  "metadata": {
    "accelerator": "GPU",
    "colab": {
      "collapsed_sections": [
        "e0358b4a",
        "3b65df0e",
        "9DEJDmrwRfS4",
        "e741ab63",
        "fedf7b0e",
        "8cb926eb",
        "f486fbb5",
        "KAd_QlZII8vu",
        "B_R6q4DZJbJC",
        "2dd9e3ac",
        "ebedad85",
        "h_sR8QQ6sJf_",
        "RhqlS7OEFV3_",
        "lsbg8Ye1KTtB",
        "fzbWv_dLUafP",
        "RV74ttfjUZLu"
      ],
      "gpuType": "T4",
      "provenance": []
    },
    "kernelspec": {
      "display_name": "Python 3",
      "name": "python3"
    },
    "language_info": {
      "codemirror_mode": {
        "name": "ipython",
        "version": 3
      },
      "file_extension": ".py",
      "mimetype": "text/x-python",
      "name": "python",
      "nbconvert_exporter": "python",
      "pygments_lexer": "ipython3",
      "version": "3.12.8"
    },
    "widgets": {
      "application/vnd.jupyter.widget-state+json": {
        "04663791b3404fbbb8eefafc8d044ab8": {
          "model_module": "@jupyter-widgets/controls",
          "model_module_version": "1.5.0",
          "model_name": "HBoxModel",
          "state": {
            "_dom_classes": [],
            "_model_module": "@jupyter-widgets/controls",
            "_model_module_version": "1.5.0",
            "_model_name": "HBoxModel",
            "_view_count": null,
            "_view_module": "@jupyter-widgets/controls",
            "_view_module_version": "1.5.0",
            "_view_name": "HBoxView",
            "box_style": "",
            "children": [
              "IPY_MODEL_4adbefb7c49748699e9a381e4977c4a2",
              "IPY_MODEL_7bb8bfc8e256481ea016d70ab098e0a5",
              "IPY_MODEL_c68e33cb5b9c47a29750ebae10d491f6"
            ],
            "layout": "IPY_MODEL_c4147903f89a4ed0ac0542b229de00ef"
          }
        },
        "0d00e88b1f52412496896d742e8258f4": {
          "model_module": "@jupyter-widgets/base",
          "model_module_version": "1.2.0",
          "model_name": "LayoutModel",
          "state": {
            "_model_module": "@jupyter-widgets/base",
            "_model_module_version": "1.2.0",
            "_model_name": "LayoutModel",
            "_view_count": null,
            "_view_module": "@jupyter-widgets/base",
            "_view_module_version": "1.2.0",
            "_view_name": "LayoutView",
            "align_content": null,
            "align_items": null,
            "align_self": null,
            "border": null,
            "bottom": null,
            "display": null,
            "flex": null,
            "flex_flow": null,
            "grid_area": null,
            "grid_auto_columns": null,
            "grid_auto_flow": null,
            "grid_auto_rows": null,
            "grid_column": null,
            "grid_gap": null,
            "grid_row": null,
            "grid_template_areas": null,
            "grid_template_columns": null,
            "grid_template_rows": null,
            "height": null,
            "justify_content": null,
            "justify_items": null,
            "left": null,
            "margin": null,
            "max_height": null,
            "max_width": null,
            "min_height": null,
            "min_width": null,
            "object_fit": null,
            "object_position": null,
            "order": null,
            "overflow": null,
            "overflow_x": null,
            "overflow_y": null,
            "padding": null,
            "right": null,
            "top": null,
            "visibility": "hidden",
            "width": null
          }
        },
        "101787fa17a1480b97587ee9006fc530": {
          "model_module": "@jupyter-widgets/controls",
          "model_module_version": "1.5.0",
          "model_name": "HBoxModel",
          "state": {
            "_dom_classes": [],
            "_model_module": "@jupyter-widgets/controls",
            "_model_module_version": "1.5.0",
            "_model_name": "HBoxModel",
            "_view_count": null,
            "_view_module": "@jupyter-widgets/controls",
            "_view_module_version": "1.5.0",
            "_view_name": "HBoxView",
            "box_style": "",
            "children": [
              "IPY_MODEL_915652964d8b45009f058ab1840b3de8",
              "IPY_MODEL_bcc9a6f7d8274a44a6a577eb81f1269c",
              "IPY_MODEL_228a16a3a3f943d9a5016ad71bd6b94b"
            ],
            "layout": "IPY_MODEL_b1fd6b72a71649b8a2f223b89e526195"
          }
        },
        "12d35d2c98a04517ba3d699af657ca46": {
          "model_module": "@jupyter-widgets/controls",
          "model_module_version": "1.5.0",
          "model_name": "HBoxModel",
          "state": {
            "_dom_classes": [],
            "_model_module": "@jupyter-widgets/controls",
            "_model_module_version": "1.5.0",
            "_model_name": "HBoxModel",
            "_view_count": null,
            "_view_module": "@jupyter-widgets/controls",
            "_view_module_version": "1.5.0",
            "_view_name": "HBoxView",
            "box_style": "",
            "children": [
              "IPY_MODEL_fa81678bf787411ea7ee221ed165cd42",
              "IPY_MODEL_c383d13d01594dccba643921dec97e40",
              "IPY_MODEL_8f0cb2f853b5489e9b9c63b4c0bd4b02"
            ],
            "layout": "IPY_MODEL_0d00e88b1f52412496896d742e8258f4"
          }
        },
        "15d43da0964c48e79e50b1cd94f05afd": {
          "model_module": "@jupyter-widgets/base",
          "model_module_version": "1.2.0",
          "model_name": "LayoutModel",
          "state": {
            "_model_module": "@jupyter-widgets/base",
            "_model_module_version": "1.2.0",
            "_model_name": "LayoutModel",
            "_view_count": null,
            "_view_module": "@jupyter-widgets/base",
            "_view_module_version": "1.2.0",
            "_view_name": "LayoutView",
            "align_content": null,
            "align_items": null,
            "align_self": null,
            "border": null,
            "bottom": null,
            "display": null,
            "flex": null,
            "flex_flow": null,
            "grid_area": null,
            "grid_auto_columns": null,
            "grid_auto_flow": null,
            "grid_auto_rows": null,
            "grid_column": null,
            "grid_gap": null,
            "grid_row": null,
            "grid_template_areas": null,
            "grid_template_columns": null,
            "grid_template_rows": null,
            "height": null,
            "justify_content": null,
            "justify_items": null,
            "left": null,
            "margin": null,
            "max_height": null,
            "max_width": null,
            "min_height": null,
            "min_width": null,
            "object_fit": null,
            "object_position": null,
            "order": null,
            "overflow": null,
            "overflow_x": null,
            "overflow_y": null,
            "padding": null,
            "right": null,
            "top": null,
            "visibility": null,
            "width": null
          }
        },
        "17fdc65b12bd4ea28c280bea33fac2ac": {
          "model_module": "@jupyter-widgets/controls",
          "model_module_version": "1.5.0",
          "model_name": "HTMLModel",
          "state": {
            "_dom_classes": [],
            "_model_module": "@jupyter-widgets/controls",
            "_model_module_version": "1.5.0",
            "_model_name": "HTMLModel",
            "_view_count": null,
            "_view_module": "@jupyter-widgets/controls",
            "_view_module_version": "1.5.0",
            "_view_name": "HTMLView",
            "description": "",
            "description_tooltip": null,
            "layout": "IPY_MODEL_fb8904b0f1c542149031f60f99a65067",
            "placeholder": "​",
            "style": "IPY_MODEL_6140400d011b4918b36315fb86445d6b",
            "value": " 5/5 [00:17&lt;00:00,  3.40s/it]"
          }
        },
        "1877e5e007174d61853df4a60bdd02d1": {
          "model_module": "@jupyter-widgets/controls",
          "model_module_version": "1.5.0",
          "model_name": "DescriptionStyleModel",
          "state": {
            "_model_module": "@jupyter-widgets/controls",
            "_model_module_version": "1.5.0",
            "_model_name": "DescriptionStyleModel",
            "_view_count": null,
            "_view_module": "@jupyter-widgets/base",
            "_view_module_version": "1.2.0",
            "_view_name": "StyleView",
            "description_width": ""
          }
        },
        "19b39a947851455c928a6ed3299116d9": {
          "model_module": "@jupyter-widgets/base",
          "model_module_version": "1.2.0",
          "model_name": "LayoutModel",
          "state": {
            "_model_module": "@jupyter-widgets/base",
            "_model_module_version": "1.2.0",
            "_model_name": "LayoutModel",
            "_view_count": null,
            "_view_module": "@jupyter-widgets/base",
            "_view_module_version": "1.2.0",
            "_view_name": "LayoutView",
            "align_content": null,
            "align_items": null,
            "align_self": null,
            "border": null,
            "bottom": null,
            "display": null,
            "flex": null,
            "flex_flow": null,
            "grid_area": null,
            "grid_auto_columns": null,
            "grid_auto_flow": null,
            "grid_auto_rows": null,
            "grid_column": null,
            "grid_gap": null,
            "grid_row": null,
            "grid_template_areas": null,
            "grid_template_columns": null,
            "grid_template_rows": null,
            "height": null,
            "justify_content": null,
            "justify_items": null,
            "left": null,
            "margin": null,
            "max_height": null,
            "max_width": null,
            "min_height": null,
            "min_width": null,
            "object_fit": null,
            "object_position": null,
            "order": null,
            "overflow": null,
            "overflow_x": null,
            "overflow_y": null,
            "padding": null,
            "right": null,
            "top": null,
            "visibility": null,
            "width": null
          }
        },
        "1f3a472598b04113ab118977eb3840eb": {
          "model_module": "@jupyter-widgets/base",
          "model_module_version": "1.2.0",
          "model_name": "LayoutModel",
          "state": {
            "_model_module": "@jupyter-widgets/base",
            "_model_module_version": "1.2.0",
            "_model_name": "LayoutModel",
            "_view_count": null,
            "_view_module": "@jupyter-widgets/base",
            "_view_module_version": "1.2.0",
            "_view_name": "LayoutView",
            "align_content": null,
            "align_items": null,
            "align_self": null,
            "border": null,
            "bottom": null,
            "display": null,
            "flex": null,
            "flex_flow": null,
            "grid_area": null,
            "grid_auto_columns": null,
            "grid_auto_flow": null,
            "grid_auto_rows": null,
            "grid_column": null,
            "grid_gap": null,
            "grid_row": null,
            "grid_template_areas": null,
            "grid_template_columns": null,
            "grid_template_rows": null,
            "height": null,
            "justify_content": null,
            "justify_items": null,
            "left": null,
            "margin": null,
            "max_height": null,
            "max_width": null,
            "min_height": null,
            "min_width": null,
            "object_fit": null,
            "object_position": null,
            "order": null,
            "overflow": null,
            "overflow_x": null,
            "overflow_y": null,
            "padding": null,
            "right": null,
            "top": null,
            "visibility": null,
            "width": null
          }
        },
        "228a16a3a3f943d9a5016ad71bd6b94b": {
          "model_module": "@jupyter-widgets/controls",
          "model_module_version": "1.5.0",
          "model_name": "HTMLModel",
          "state": {
            "_dom_classes": [],
            "_model_module": "@jupyter-widgets/controls",
            "_model_module_version": "1.5.0",
            "_model_name": "HTMLModel",
            "_view_count": null,
            "_view_module": "@jupyter-widgets/controls",
            "_view_module_version": "1.5.0",
            "_view_name": "HTMLView",
            "description": "",
            "description_tooltip": null,
            "layout": "IPY_MODEL_362d974f66d444698a5f3fcc9ab5b79e",
            "placeholder": "​",
            "style": "IPY_MODEL_3a9c3e758b3348a7a0d81ebb2d4233e4",
            "value": " 5/5 [01:15&lt;00:00, 15.03s/it]"
          }
        },
        "24cd3f6ebe1945a282f3e79d7e935109": {
          "model_module": "@jupyter-widgets/controls",
          "model_module_version": "1.5.0",
          "model_name": "ProgressStyleModel",
          "state": {
            "_model_module": "@jupyter-widgets/controls",
            "_model_module_version": "1.5.0",
            "_model_name": "ProgressStyleModel",
            "_view_count": null,
            "_view_module": "@jupyter-widgets/base",
            "_view_module_version": "1.2.0",
            "_view_name": "StyleView",
            "bar_color": null,
            "description_width": ""
          }
        },
        "2934717a766545919b1c25504d40429a": {
          "model_module": "@jupyter-widgets/base",
          "model_module_version": "1.2.0",
          "model_name": "LayoutModel",
          "state": {
            "_model_module": "@jupyter-widgets/base",
            "_model_module_version": "1.2.0",
            "_model_name": "LayoutModel",
            "_view_count": null,
            "_view_module": "@jupyter-widgets/base",
            "_view_module_version": "1.2.0",
            "_view_name": "LayoutView",
            "align_content": null,
            "align_items": null,
            "align_self": null,
            "border": null,
            "bottom": null,
            "display": null,
            "flex": null,
            "flex_flow": null,
            "grid_area": null,
            "grid_auto_columns": null,
            "grid_auto_flow": null,
            "grid_auto_rows": null,
            "grid_column": null,
            "grid_gap": null,
            "grid_row": null,
            "grid_template_areas": null,
            "grid_template_columns": null,
            "grid_template_rows": null,
            "height": null,
            "justify_content": null,
            "justify_items": null,
            "left": null,
            "margin": null,
            "max_height": null,
            "max_width": null,
            "min_height": null,
            "min_width": null,
            "object_fit": null,
            "object_position": null,
            "order": null,
            "overflow": null,
            "overflow_x": null,
            "overflow_y": null,
            "padding": null,
            "right": null,
            "top": null,
            "visibility": null,
            "width": null
          }
        },
        "2c1944399ed44975b541699562afdda8": {
          "model_module": "@jupyter-widgets/base",
          "model_module_version": "1.2.0",
          "model_name": "LayoutModel",
          "state": {
            "_model_module": "@jupyter-widgets/base",
            "_model_module_version": "1.2.0",
            "_model_name": "LayoutModel",
            "_view_count": null,
            "_view_module": "@jupyter-widgets/base",
            "_view_module_version": "1.2.0",
            "_view_name": "LayoutView",
            "align_content": null,
            "align_items": null,
            "align_self": null,
            "border": null,
            "bottom": null,
            "display": null,
            "flex": null,
            "flex_flow": null,
            "grid_area": null,
            "grid_auto_columns": null,
            "grid_auto_flow": null,
            "grid_auto_rows": null,
            "grid_column": null,
            "grid_gap": null,
            "grid_row": null,
            "grid_template_areas": null,
            "grid_template_columns": null,
            "grid_template_rows": null,
            "height": null,
            "justify_content": null,
            "justify_items": null,
            "left": null,
            "margin": null,
            "max_height": null,
            "max_width": null,
            "min_height": null,
            "min_width": null,
            "object_fit": null,
            "object_position": null,
            "order": null,
            "overflow": null,
            "overflow_x": null,
            "overflow_y": null,
            "padding": null,
            "right": null,
            "top": null,
            "visibility": null,
            "width": null
          }
        },
        "362d974f66d444698a5f3fcc9ab5b79e": {
          "model_module": "@jupyter-widgets/base",
          "model_module_version": "1.2.0",
          "model_name": "LayoutModel",
          "state": {
            "_model_module": "@jupyter-widgets/base",
            "_model_module_version": "1.2.0",
            "_model_name": "LayoutModel",
            "_view_count": null,
            "_view_module": "@jupyter-widgets/base",
            "_view_module_version": "1.2.0",
            "_view_name": "LayoutView",
            "align_content": null,
            "align_items": null,
            "align_self": null,
            "border": null,
            "bottom": null,
            "display": null,
            "flex": null,
            "flex_flow": null,
            "grid_area": null,
            "grid_auto_columns": null,
            "grid_auto_flow": null,
            "grid_auto_rows": null,
            "grid_column": null,
            "grid_gap": null,
            "grid_row": null,
            "grid_template_areas": null,
            "grid_template_columns": null,
            "grid_template_rows": null,
            "height": null,
            "justify_content": null,
            "justify_items": null,
            "left": null,
            "margin": null,
            "max_height": null,
            "max_width": null,
            "min_height": null,
            "min_width": null,
            "object_fit": null,
            "object_position": null,
            "order": null,
            "overflow": null,
            "overflow_x": null,
            "overflow_y": null,
            "padding": null,
            "right": null,
            "top": null,
            "visibility": null,
            "width": null
          }
        },
        "378b45d1b3c34c9493535009fc9a38d1": {
          "model_module": "@jupyter-widgets/base",
          "model_module_version": "1.2.0",
          "model_name": "LayoutModel",
          "state": {
            "_model_module": "@jupyter-widgets/base",
            "_model_module_version": "1.2.0",
            "_model_name": "LayoutModel",
            "_view_count": null,
            "_view_module": "@jupyter-widgets/base",
            "_view_module_version": "1.2.0",
            "_view_name": "LayoutView",
            "align_content": null,
            "align_items": null,
            "align_self": null,
            "border": null,
            "bottom": null,
            "display": null,
            "flex": null,
            "flex_flow": null,
            "grid_area": null,
            "grid_auto_columns": null,
            "grid_auto_flow": null,
            "grid_auto_rows": null,
            "grid_column": null,
            "grid_gap": null,
            "grid_row": null,
            "grid_template_areas": null,
            "grid_template_columns": null,
            "grid_template_rows": null,
            "height": null,
            "justify_content": null,
            "justify_items": null,
            "left": null,
            "margin": null,
            "max_height": null,
            "max_width": null,
            "min_height": null,
            "min_width": null,
            "object_fit": null,
            "object_position": null,
            "order": null,
            "overflow": null,
            "overflow_x": null,
            "overflow_y": null,
            "padding": null,
            "right": null,
            "top": null,
            "visibility": null,
            "width": null
          }
        },
        "383a524e4608457cbcd1989acbc57c99": {
          "model_module": "@jupyter-widgets/controls",
          "model_module_version": "1.5.0",
          "model_name": "DescriptionStyleModel",
          "state": {
            "_model_module": "@jupyter-widgets/controls",
            "_model_module_version": "1.5.0",
            "_model_name": "DescriptionStyleModel",
            "_view_count": null,
            "_view_module": "@jupyter-widgets/base",
            "_view_module_version": "1.2.0",
            "_view_name": "StyleView",
            "description_width": ""
          }
        },
        "3a9c3e758b3348a7a0d81ebb2d4233e4": {
          "model_module": "@jupyter-widgets/controls",
          "model_module_version": "1.5.0",
          "model_name": "DescriptionStyleModel",
          "state": {
            "_model_module": "@jupyter-widgets/controls",
            "_model_module_version": "1.5.0",
            "_model_name": "DescriptionStyleModel",
            "_view_count": null,
            "_view_module": "@jupyter-widgets/base",
            "_view_module_version": "1.2.0",
            "_view_name": "StyleView",
            "description_width": ""
          }
        },
        "3b20af919b4845a6afe52998706c1921": {
          "model_module": "@jupyter-widgets/controls",
          "model_module_version": "1.5.0",
          "model_name": "HTMLModel",
          "state": {
            "_dom_classes": [],
            "_model_module": "@jupyter-widgets/controls",
            "_model_module_version": "1.5.0",
            "_model_name": "HTMLModel",
            "_view_count": null,
            "_view_module": "@jupyter-widgets/controls",
            "_view_module_version": "1.5.0",
            "_view_name": "HTMLView",
            "description": "",
            "description_tooltip": null,
            "layout": "IPY_MODEL_586af2ed76df4e49ad58e2c09577b76f",
            "placeholder": "​",
            "style": "IPY_MODEL_4fceafdccd964d329e8d066687b31ea6",
            "value": " 5/5 [00:25&lt;00:00,  5.02s/it]"
          }
        },
        "3e129b177eb44d839247ab99d7d96818": {
          "model_module": "@jupyter-widgets/controls",
          "model_module_version": "1.5.0",
          "model_name": "HTMLModel",
          "state": {
            "_dom_classes": [],
            "_model_module": "@jupyter-widgets/controls",
            "_model_module_version": "1.5.0",
            "_model_name": "HTMLModel",
            "_view_count": null,
            "_view_module": "@jupyter-widgets/controls",
            "_view_module_version": "1.5.0",
            "_view_name": "HTMLView",
            "description": "",
            "description_tooltip": null,
            "layout": "IPY_MODEL_1f3a472598b04113ab118977eb3840eb",
            "placeholder": "​",
            "style": "IPY_MODEL_c841f733ddd64b4bbce8565f4c40cf6d",
            "value": " 5/5 [00:19&lt;00:00,  3.93s/it]"
          }
        },
        "3fc15fb7588e43bd8c9e77cb7d1cc5b9": {
          "model_module": "@jupyter-widgets/controls",
          "model_module_version": "1.5.0",
          "model_name": "ProgressStyleModel",
          "state": {
            "_model_module": "@jupyter-widgets/controls",
            "_model_module_version": "1.5.0",
            "_model_name": "ProgressStyleModel",
            "_view_count": null,
            "_view_module": "@jupyter-widgets/base",
            "_view_module_version": "1.2.0",
            "_view_name": "StyleView",
            "bar_color": null,
            "description_width": ""
          }
        },
        "415e327053d04664a09429cb968835c8": {
          "model_module": "@jupyter-widgets/base",
          "model_module_version": "1.2.0",
          "model_name": "LayoutModel",
          "state": {
            "_model_module": "@jupyter-widgets/base",
            "_model_module_version": "1.2.0",
            "_model_name": "LayoutModel",
            "_view_count": null,
            "_view_module": "@jupyter-widgets/base",
            "_view_module_version": "1.2.0",
            "_view_name": "LayoutView",
            "align_content": null,
            "align_items": null,
            "align_self": null,
            "border": null,
            "bottom": null,
            "display": null,
            "flex": null,
            "flex_flow": null,
            "grid_area": null,
            "grid_auto_columns": null,
            "grid_auto_flow": null,
            "grid_auto_rows": null,
            "grid_column": null,
            "grid_gap": null,
            "grid_row": null,
            "grid_template_areas": null,
            "grid_template_columns": null,
            "grid_template_rows": null,
            "height": null,
            "justify_content": null,
            "justify_items": null,
            "left": null,
            "margin": null,
            "max_height": null,
            "max_width": null,
            "min_height": null,
            "min_width": null,
            "object_fit": null,
            "object_position": null,
            "order": null,
            "overflow": null,
            "overflow_x": null,
            "overflow_y": null,
            "padding": null,
            "right": null,
            "top": null,
            "visibility": null,
            "width": null
          }
        },
        "43f05496e8ab4644b5bf544d442a1244": {
          "model_module": "@jupyter-widgets/base",
          "model_module_version": "1.2.0",
          "model_name": "LayoutModel",
          "state": {
            "_model_module": "@jupyter-widgets/base",
            "_model_module_version": "1.2.0",
            "_model_name": "LayoutModel",
            "_view_count": null,
            "_view_module": "@jupyter-widgets/base",
            "_view_module_version": "1.2.0",
            "_view_name": "LayoutView",
            "align_content": null,
            "align_items": null,
            "align_self": null,
            "border": null,
            "bottom": null,
            "display": null,
            "flex": null,
            "flex_flow": null,
            "grid_area": null,
            "grid_auto_columns": null,
            "grid_auto_flow": null,
            "grid_auto_rows": null,
            "grid_column": null,
            "grid_gap": null,
            "grid_row": null,
            "grid_template_areas": null,
            "grid_template_columns": null,
            "grid_template_rows": null,
            "height": null,
            "justify_content": null,
            "justify_items": null,
            "left": null,
            "margin": null,
            "max_height": null,
            "max_width": null,
            "min_height": null,
            "min_width": null,
            "object_fit": null,
            "object_position": null,
            "order": null,
            "overflow": null,
            "overflow_x": null,
            "overflow_y": null,
            "padding": null,
            "right": null,
            "top": null,
            "visibility": null,
            "width": null
          }
        },
        "45eda23825f2483c890f42e531e770a8": {
          "model_module": "@jupyter-widgets/controls",
          "model_module_version": "1.5.0",
          "model_name": "HTMLModel",
          "state": {
            "_dom_classes": [],
            "_model_module": "@jupyter-widgets/controls",
            "_model_module_version": "1.5.0",
            "_model_name": "HTMLModel",
            "_view_count": null,
            "_view_module": "@jupyter-widgets/controls",
            "_view_module_version": "1.5.0",
            "_view_name": "HTMLView",
            "description": "",
            "description_tooltip": null,
            "layout": "IPY_MODEL_b2682c8e91c8426b8b69bc0fb983f7e4",
            "placeholder": "​",
            "style": "IPY_MODEL_fa9df3b8eff746248ede173332693c8e",
            "value": "Training: 100%"
          }
        },
        "47368149c8094c3b97f2b438fd770770": {
          "model_module": "@jupyter-widgets/base",
          "model_module_version": "1.2.0",
          "model_name": "LayoutModel",
          "state": {
            "_model_module": "@jupyter-widgets/base",
            "_model_module_version": "1.2.0",
            "_model_name": "LayoutModel",
            "_view_count": null,
            "_view_module": "@jupyter-widgets/base",
            "_view_module_version": "1.2.0",
            "_view_name": "LayoutView",
            "align_content": null,
            "align_items": null,
            "align_self": null,
            "border": null,
            "bottom": null,
            "display": null,
            "flex": null,
            "flex_flow": null,
            "grid_area": null,
            "grid_auto_columns": null,
            "grid_auto_flow": null,
            "grid_auto_rows": null,
            "grid_column": null,
            "grid_gap": null,
            "grid_row": null,
            "grid_template_areas": null,
            "grid_template_columns": null,
            "grid_template_rows": null,
            "height": null,
            "justify_content": null,
            "justify_items": null,
            "left": null,
            "margin": null,
            "max_height": null,
            "max_width": null,
            "min_height": null,
            "min_width": null,
            "object_fit": null,
            "object_position": null,
            "order": null,
            "overflow": null,
            "overflow_x": null,
            "overflow_y": null,
            "padding": null,
            "right": null,
            "top": null,
            "visibility": null,
            "width": null
          }
        },
        "4adbefb7c49748699e9a381e4977c4a2": {
          "model_module": "@jupyter-widgets/controls",
          "model_module_version": "1.5.0",
          "model_name": "HTMLModel",
          "state": {
            "_dom_classes": [],
            "_model_module": "@jupyter-widgets/controls",
            "_model_module_version": "1.5.0",
            "_model_name": "HTMLModel",
            "_view_count": null,
            "_view_module": "@jupyter-widgets/controls",
            "_view_module_version": "1.5.0",
            "_view_name": "HTMLView",
            "description": "",
            "description_tooltip": null,
            "layout": "IPY_MODEL_6af4af7f2de64386ac00bf7796950b91",
            "placeholder": "​",
            "style": "IPY_MODEL_4fbc2a47567942159ea314db6f8d385e",
            "value": "Training: 100%"
          }
        },
        "4c4ab23b8eda42ae849c604782b348fa": {
          "model_module": "@jupyter-widgets/controls",
          "model_module_version": "1.5.0",
          "model_name": "DescriptionStyleModel",
          "state": {
            "_model_module": "@jupyter-widgets/controls",
            "_model_module_version": "1.5.0",
            "_model_name": "DescriptionStyleModel",
            "_view_count": null,
            "_view_module": "@jupyter-widgets/base",
            "_view_module_version": "1.2.0",
            "_view_name": "StyleView",
            "description_width": ""
          }
        },
        "4e5b9d27a2a74733a8da68b442279c19": {
          "model_module": "@jupyter-widgets/controls",
          "model_module_version": "1.5.0",
          "model_name": "DescriptionStyleModel",
          "state": {
            "_model_module": "@jupyter-widgets/controls",
            "_model_module_version": "1.5.0",
            "_model_name": "DescriptionStyleModel",
            "_view_count": null,
            "_view_module": "@jupyter-widgets/base",
            "_view_module_version": "1.2.0",
            "_view_name": "StyleView",
            "description_width": ""
          }
        },
        "4fbc2a47567942159ea314db6f8d385e": {
          "model_module": "@jupyter-widgets/controls",
          "model_module_version": "1.5.0",
          "model_name": "DescriptionStyleModel",
          "state": {
            "_model_module": "@jupyter-widgets/controls",
            "_model_module_version": "1.5.0",
            "_model_name": "DescriptionStyleModel",
            "_view_count": null,
            "_view_module": "@jupyter-widgets/base",
            "_view_module_version": "1.2.0",
            "_view_name": "StyleView",
            "description_width": ""
          }
        },
        "4fceafdccd964d329e8d066687b31ea6": {
          "model_module": "@jupyter-widgets/controls",
          "model_module_version": "1.5.0",
          "model_name": "DescriptionStyleModel",
          "state": {
            "_model_module": "@jupyter-widgets/controls",
            "_model_module_version": "1.5.0",
            "_model_name": "DescriptionStyleModel",
            "_view_count": null,
            "_view_module": "@jupyter-widgets/base",
            "_view_module_version": "1.2.0",
            "_view_name": "StyleView",
            "description_width": ""
          }
        },
        "586af2ed76df4e49ad58e2c09577b76f": {
          "model_module": "@jupyter-widgets/base",
          "model_module_version": "1.2.0",
          "model_name": "LayoutModel",
          "state": {
            "_model_module": "@jupyter-widgets/base",
            "_model_module_version": "1.2.0",
            "_model_name": "LayoutModel",
            "_view_count": null,
            "_view_module": "@jupyter-widgets/base",
            "_view_module_version": "1.2.0",
            "_view_name": "LayoutView",
            "align_content": null,
            "align_items": null,
            "align_self": null,
            "border": null,
            "bottom": null,
            "display": null,
            "flex": null,
            "flex_flow": null,
            "grid_area": null,
            "grid_auto_columns": null,
            "grid_auto_flow": null,
            "grid_auto_rows": null,
            "grid_column": null,
            "grid_gap": null,
            "grid_row": null,
            "grid_template_areas": null,
            "grid_template_columns": null,
            "grid_template_rows": null,
            "height": null,
            "justify_content": null,
            "justify_items": null,
            "left": null,
            "margin": null,
            "max_height": null,
            "max_width": null,
            "min_height": null,
            "min_width": null,
            "object_fit": null,
            "object_position": null,
            "order": null,
            "overflow": null,
            "overflow_x": null,
            "overflow_y": null,
            "padding": null,
            "right": null,
            "top": null,
            "visibility": null,
            "width": null
          }
        },
        "5b376966309b48dba1a5402e097a69e0": {
          "model_module": "@jupyter-widgets/controls",
          "model_module_version": "1.5.0",
          "model_name": "HBoxModel",
          "state": {
            "_dom_classes": [],
            "_model_module": "@jupyter-widgets/controls",
            "_model_module_version": "1.5.0",
            "_model_name": "HBoxModel",
            "_view_count": null,
            "_view_module": "@jupyter-widgets/controls",
            "_view_module_version": "1.5.0",
            "_view_name": "HBoxView",
            "box_style": "",
            "children": [
              "IPY_MODEL_b63ea0956353410e8bd82c0e82f77359",
              "IPY_MODEL_d4275e2cad9c4e559cc9d1349ff9d389",
              "IPY_MODEL_17fdc65b12bd4ea28c280bea33fac2ac"
            ],
            "layout": "IPY_MODEL_d3d462f2be2749889a14d6f27d926953"
          }
        },
        "6094b130466443a78e0d0733ded44dfb": {
          "model_module": "@jupyter-widgets/controls",
          "model_module_version": "1.5.0",
          "model_name": "DescriptionStyleModel",
          "state": {
            "_model_module": "@jupyter-widgets/controls",
            "_model_module_version": "1.5.0",
            "_model_name": "DescriptionStyleModel",
            "_view_count": null,
            "_view_module": "@jupyter-widgets/base",
            "_view_module_version": "1.2.0",
            "_view_name": "StyleView",
            "description_width": ""
          }
        },
        "6140400d011b4918b36315fb86445d6b": {
          "model_module": "@jupyter-widgets/controls",
          "model_module_version": "1.5.0",
          "model_name": "DescriptionStyleModel",
          "state": {
            "_model_module": "@jupyter-widgets/controls",
            "_model_module_version": "1.5.0",
            "_model_name": "DescriptionStyleModel",
            "_view_count": null,
            "_view_module": "@jupyter-widgets/base",
            "_view_module_version": "1.2.0",
            "_view_name": "StyleView",
            "description_width": ""
          }
        },
        "61cecb160bd34b02a88879709de8f863": {
          "model_module": "@jupyter-widgets/base",
          "model_module_version": "1.2.0",
          "model_name": "LayoutModel",
          "state": {
            "_model_module": "@jupyter-widgets/base",
            "_model_module_version": "1.2.0",
            "_model_name": "LayoutModel",
            "_view_count": null,
            "_view_module": "@jupyter-widgets/base",
            "_view_module_version": "1.2.0",
            "_view_name": "LayoutView",
            "align_content": null,
            "align_items": null,
            "align_self": null,
            "border": null,
            "bottom": null,
            "display": null,
            "flex": null,
            "flex_flow": null,
            "grid_area": null,
            "grid_auto_columns": null,
            "grid_auto_flow": null,
            "grid_auto_rows": null,
            "grid_column": null,
            "grid_gap": null,
            "grid_row": null,
            "grid_template_areas": null,
            "grid_template_columns": null,
            "grid_template_rows": null,
            "height": null,
            "justify_content": null,
            "justify_items": null,
            "left": null,
            "margin": null,
            "max_height": null,
            "max_width": null,
            "min_height": null,
            "min_width": null,
            "object_fit": null,
            "object_position": null,
            "order": null,
            "overflow": null,
            "overflow_x": null,
            "overflow_y": null,
            "padding": null,
            "right": null,
            "top": null,
            "visibility": null,
            "width": null
          }
        },
        "6884f7f898634bbc9dbc0a4b0ae75ce3": {
          "model_module": "@jupyter-widgets/controls",
          "model_module_version": "1.5.0",
          "model_name": "HTMLModel",
          "state": {
            "_dom_classes": [],
            "_model_module": "@jupyter-widgets/controls",
            "_model_module_version": "1.5.0",
            "_model_name": "HTMLModel",
            "_view_count": null,
            "_view_module": "@jupyter-widgets/controls",
            "_view_module_version": "1.5.0",
            "_view_name": "HTMLView",
            "description": "",
            "description_tooltip": null,
            "layout": "IPY_MODEL_2934717a766545919b1c25504d40429a",
            "placeholder": "​",
            "style": "IPY_MODEL_be075ad893b74e049a71096b567d7a66",
            "value": " 5/5 [00:32&lt;00:00,  6.46s/it]"
          }
        },
        "6ad2e47dccfe4f829e1b0f07bc530c04": {
          "model_module": "@jupyter-widgets/controls",
          "model_module_version": "1.5.0",
          "model_name": "HTMLModel",
          "state": {
            "_dom_classes": [],
            "_model_module": "@jupyter-widgets/controls",
            "_model_module_version": "1.5.0",
            "_model_name": "HTMLModel",
            "_view_count": null,
            "_view_module": "@jupyter-widgets/controls",
            "_view_module_version": "1.5.0",
            "_view_name": "HTMLView",
            "description": "",
            "description_tooltip": null,
            "layout": "IPY_MODEL_c3cd28f79694419192fa14f621a84f8c",
            "placeholder": "​",
            "style": "IPY_MODEL_7a3be49a913a4de6ac56734ddfc8fb58",
            "value": "Training: 100%"
          }
        },
        "6af4af7f2de64386ac00bf7796950b91": {
          "model_module": "@jupyter-widgets/base",
          "model_module_version": "1.2.0",
          "model_name": "LayoutModel",
          "state": {
            "_model_module": "@jupyter-widgets/base",
            "_model_module_version": "1.2.0",
            "_model_name": "LayoutModel",
            "_view_count": null,
            "_view_module": "@jupyter-widgets/base",
            "_view_module_version": "1.2.0",
            "_view_name": "LayoutView",
            "align_content": null,
            "align_items": null,
            "align_self": null,
            "border": null,
            "bottom": null,
            "display": null,
            "flex": null,
            "flex_flow": null,
            "grid_area": null,
            "grid_auto_columns": null,
            "grid_auto_flow": null,
            "grid_auto_rows": null,
            "grid_column": null,
            "grid_gap": null,
            "grid_row": null,
            "grid_template_areas": null,
            "grid_template_columns": null,
            "grid_template_rows": null,
            "height": null,
            "justify_content": null,
            "justify_items": null,
            "left": null,
            "margin": null,
            "max_height": null,
            "max_width": null,
            "min_height": null,
            "min_width": null,
            "object_fit": null,
            "object_position": null,
            "order": null,
            "overflow": null,
            "overflow_x": null,
            "overflow_y": null,
            "padding": null,
            "right": null,
            "top": null,
            "visibility": null,
            "width": null
          }
        },
        "6f195517f0e04d87a2692234ba9cb098": {
          "model_module": "@jupyter-widgets/controls",
          "model_module_version": "1.5.0",
          "model_name": "FloatProgressModel",
          "state": {
            "_dom_classes": [],
            "_model_module": "@jupyter-widgets/controls",
            "_model_module_version": "1.5.0",
            "_model_name": "FloatProgressModel",
            "_view_count": null,
            "_view_module": "@jupyter-widgets/controls",
            "_view_module_version": "1.5.0",
            "_view_name": "ProgressView",
            "bar_style": "",
            "description": "",
            "description_tooltip": null,
            "layout": "IPY_MODEL_19b39a947851455c928a6ed3299116d9",
            "max": 5,
            "min": 0,
            "orientation": "horizontal",
            "style": "IPY_MODEL_24cd3f6ebe1945a282f3e79d7e935109",
            "value": 5
          }
        },
        "73b687c713164b86bf4e51c41b86181e": {
          "model_module": "@jupyter-widgets/controls",
          "model_module_version": "1.5.0",
          "model_name": "DescriptionStyleModel",
          "state": {
            "_model_module": "@jupyter-widgets/controls",
            "_model_module_version": "1.5.0",
            "_model_name": "DescriptionStyleModel",
            "_view_count": null,
            "_view_module": "@jupyter-widgets/base",
            "_view_module_version": "1.2.0",
            "_view_name": "StyleView",
            "description_width": ""
          }
        },
        "765d1cd453ce42e9a7a8fdf68f93c9f3": {
          "model_module": "@jupyter-widgets/controls",
          "model_module_version": "1.5.0",
          "model_name": "DescriptionStyleModel",
          "state": {
            "_model_module": "@jupyter-widgets/controls",
            "_model_module_version": "1.5.0",
            "_model_name": "DescriptionStyleModel",
            "_view_count": null,
            "_view_module": "@jupyter-widgets/base",
            "_view_module_version": "1.2.0",
            "_view_name": "StyleView",
            "description_width": ""
          }
        },
        "78e61ccc56064bb48e9101c44f09079e": {
          "model_module": "@jupyter-widgets/controls",
          "model_module_version": "1.5.0",
          "model_name": "ProgressStyleModel",
          "state": {
            "_model_module": "@jupyter-widgets/controls",
            "_model_module_version": "1.5.0",
            "_model_name": "ProgressStyleModel",
            "_view_count": null,
            "_view_module": "@jupyter-widgets/base",
            "_view_module_version": "1.2.0",
            "_view_name": "StyleView",
            "bar_color": null,
            "description_width": ""
          }
        },
        "7a3be49a913a4de6ac56734ddfc8fb58": {
          "model_module": "@jupyter-widgets/controls",
          "model_module_version": "1.5.0",
          "model_name": "DescriptionStyleModel",
          "state": {
            "_model_module": "@jupyter-widgets/controls",
            "_model_module_version": "1.5.0",
            "_model_name": "DescriptionStyleModel",
            "_view_count": null,
            "_view_module": "@jupyter-widgets/base",
            "_view_module_version": "1.2.0",
            "_view_name": "StyleView",
            "description_width": ""
          }
        },
        "7bb8bfc8e256481ea016d70ab098e0a5": {
          "model_module": "@jupyter-widgets/controls",
          "model_module_version": "1.5.0",
          "model_name": "FloatProgressModel",
          "state": {
            "_dom_classes": [],
            "_model_module": "@jupyter-widgets/controls",
            "_model_module_version": "1.5.0",
            "_model_name": "FloatProgressModel",
            "_view_count": null,
            "_view_module": "@jupyter-widgets/controls",
            "_view_module_version": "1.5.0",
            "_view_name": "ProgressView",
            "bar_style": "",
            "description": "",
            "description_tooltip": null,
            "layout": "IPY_MODEL_b9faf53ad15b4e74bffe3284be9ea8ca",
            "max": 5,
            "min": 0,
            "orientation": "horizontal",
            "style": "IPY_MODEL_cc1cc65d29ef4c4bab91c34d53c2ac8b",
            "value": 5
          }
        },
        "7bd1bcff2cba4a91a24ae6cee6e7c55c": {
          "model_module": "@jupyter-widgets/controls",
          "model_module_version": "1.5.0",
          "model_name": "DescriptionStyleModel",
          "state": {
            "_model_module": "@jupyter-widgets/controls",
            "_model_module_version": "1.5.0",
            "_model_name": "DescriptionStyleModel",
            "_view_count": null,
            "_view_module": "@jupyter-widgets/base",
            "_view_module_version": "1.2.0",
            "_view_name": "StyleView",
            "description_width": ""
          }
        },
        "7c938a53d76840ddbb2862d5a9d9562b": {
          "model_module": "@jupyter-widgets/base",
          "model_module_version": "1.2.0",
          "model_name": "LayoutModel",
          "state": {
            "_model_module": "@jupyter-widgets/base",
            "_model_module_version": "1.2.0",
            "_model_name": "LayoutModel",
            "_view_count": null,
            "_view_module": "@jupyter-widgets/base",
            "_view_module_version": "1.2.0",
            "_view_name": "LayoutView",
            "align_content": null,
            "align_items": null,
            "align_self": null,
            "border": null,
            "bottom": null,
            "display": null,
            "flex": null,
            "flex_flow": null,
            "grid_area": null,
            "grid_auto_columns": null,
            "grid_auto_flow": null,
            "grid_auto_rows": null,
            "grid_column": null,
            "grid_gap": null,
            "grid_row": null,
            "grid_template_areas": null,
            "grid_template_columns": null,
            "grid_template_rows": null,
            "height": null,
            "justify_content": null,
            "justify_items": null,
            "left": null,
            "margin": null,
            "max_height": null,
            "max_width": null,
            "min_height": null,
            "min_width": null,
            "object_fit": null,
            "object_position": null,
            "order": null,
            "overflow": null,
            "overflow_x": null,
            "overflow_y": null,
            "padding": null,
            "right": null,
            "top": null,
            "visibility": null,
            "width": null
          }
        },
        "7d1b7de9849543009ce588f0d52c9eb9": {
          "model_module": "@jupyter-widgets/controls",
          "model_module_version": "1.5.0",
          "model_name": "ProgressStyleModel",
          "state": {
            "_model_module": "@jupyter-widgets/controls",
            "_model_module_version": "1.5.0",
            "_model_name": "ProgressStyleModel",
            "_view_count": null,
            "_view_module": "@jupyter-widgets/base",
            "_view_module_version": "1.2.0",
            "_view_name": "StyleView",
            "bar_color": null,
            "description_width": ""
          }
        },
        "895f03e1286e4497aa8e0897afc095fc": {
          "model_module": "@jupyter-widgets/controls",
          "model_module_version": "1.5.0",
          "model_name": "HBoxModel",
          "state": {
            "_dom_classes": [],
            "_model_module": "@jupyter-widgets/controls",
            "_model_module_version": "1.5.0",
            "_model_name": "HBoxModel",
            "_view_count": null,
            "_view_module": "@jupyter-widgets/controls",
            "_view_module_version": "1.5.0",
            "_view_name": "HBoxView",
            "box_style": "",
            "children": [
              "IPY_MODEL_e0f5a8f8c3b0487eb0f2686b5157b724",
              "IPY_MODEL_e2f3bc2420fb42faaff60417cc475b4f",
              "IPY_MODEL_cc4c44ca88c147d28b0fa10df5be602c"
            ],
            "layout": "IPY_MODEL_c771c0d9e86b44bfb3c8c069b488295f"
          }
        },
        "8a006181ac724a0184ede4353f0be080": {
          "model_module": "@jupyter-widgets/base",
          "model_module_version": "1.2.0",
          "model_name": "LayoutModel",
          "state": {
            "_model_module": "@jupyter-widgets/base",
            "_model_module_version": "1.2.0",
            "_model_name": "LayoutModel",
            "_view_count": null,
            "_view_module": "@jupyter-widgets/base",
            "_view_module_version": "1.2.0",
            "_view_name": "LayoutView",
            "align_content": null,
            "align_items": null,
            "align_self": null,
            "border": null,
            "bottom": null,
            "display": null,
            "flex": null,
            "flex_flow": null,
            "grid_area": null,
            "grid_auto_columns": null,
            "grid_auto_flow": null,
            "grid_auto_rows": null,
            "grid_column": null,
            "grid_gap": null,
            "grid_row": null,
            "grid_template_areas": null,
            "grid_template_columns": null,
            "grid_template_rows": null,
            "height": null,
            "justify_content": null,
            "justify_items": null,
            "left": null,
            "margin": null,
            "max_height": null,
            "max_width": null,
            "min_height": null,
            "min_width": null,
            "object_fit": null,
            "object_position": null,
            "order": null,
            "overflow": null,
            "overflow_x": null,
            "overflow_y": null,
            "padding": null,
            "right": null,
            "top": null,
            "visibility": "hidden",
            "width": null
          }
        },
        "8f0cb2f853b5489e9b9c63b4c0bd4b02": {
          "model_module": "@jupyter-widgets/controls",
          "model_module_version": "1.5.0",
          "model_name": "HTMLModel",
          "state": {
            "_dom_classes": [],
            "_model_module": "@jupyter-widgets/controls",
            "_model_module_version": "1.5.0",
            "_model_name": "HTMLModel",
            "_view_count": null,
            "_view_module": "@jupyter-widgets/controls",
            "_view_module_version": "1.5.0",
            "_view_name": "HTMLView",
            "description": "",
            "description_tooltip": null,
            "layout": "IPY_MODEL_15d43da0964c48e79e50b1cd94f05afd",
            "placeholder": "​",
            "style": "IPY_MODEL_6094b130466443a78e0d0733ded44dfb",
            "value": " 5/5 [00:36&lt;00:00,  7.26s/it]"
          }
        },
        "915652964d8b45009f058ab1840b3de8": {
          "model_module": "@jupyter-widgets/controls",
          "model_module_version": "1.5.0",
          "model_name": "HTMLModel",
          "state": {
            "_dom_classes": [],
            "_model_module": "@jupyter-widgets/controls",
            "_model_module_version": "1.5.0",
            "_model_name": "HTMLModel",
            "_view_count": null,
            "_view_module": "@jupyter-widgets/controls",
            "_view_module_version": "1.5.0",
            "_view_name": "HTMLView",
            "description": "",
            "description_tooltip": null,
            "layout": "IPY_MODEL_a6d06f6ad1174c4090374ea8dffd0f81",
            "placeholder": "​",
            "style": "IPY_MODEL_765d1cd453ce42e9a7a8fdf68f93c9f3",
            "value": "Training: 100%"
          }
        },
        "9357a69d31af440fbfca4b0f4ad6dcf9": {
          "model_module": "@jupyter-widgets/controls",
          "model_module_version": "1.5.0",
          "model_name": "FloatProgressModel",
          "state": {
            "_dom_classes": [],
            "_model_module": "@jupyter-widgets/controls",
            "_model_module_version": "1.5.0",
            "_model_name": "FloatProgressModel",
            "_view_count": null,
            "_view_module": "@jupyter-widgets/controls",
            "_view_module_version": "1.5.0",
            "_view_name": "ProgressView",
            "bar_style": "",
            "description": "",
            "description_tooltip": null,
            "layout": "IPY_MODEL_61cecb160bd34b02a88879709de8f863",
            "max": 5,
            "min": 0,
            "orientation": "horizontal",
            "style": "IPY_MODEL_7d1b7de9849543009ce588f0d52c9eb9",
            "value": 5
          }
        },
        "9452791e02ae40f2881b830219274021": {
          "model_module": "@jupyter-widgets/base",
          "model_module_version": "1.2.0",
          "model_name": "LayoutModel",
          "state": {
            "_model_module": "@jupyter-widgets/base",
            "_model_module_version": "1.2.0",
            "_model_name": "LayoutModel",
            "_view_count": null,
            "_view_module": "@jupyter-widgets/base",
            "_view_module_version": "1.2.0",
            "_view_name": "LayoutView",
            "align_content": null,
            "align_items": null,
            "align_self": null,
            "border": null,
            "bottom": null,
            "display": null,
            "flex": null,
            "flex_flow": null,
            "grid_area": null,
            "grid_auto_columns": null,
            "grid_auto_flow": null,
            "grid_auto_rows": null,
            "grid_column": null,
            "grid_gap": null,
            "grid_row": null,
            "grid_template_areas": null,
            "grid_template_columns": null,
            "grid_template_rows": null,
            "height": null,
            "justify_content": null,
            "justify_items": null,
            "left": null,
            "margin": null,
            "max_height": null,
            "max_width": null,
            "min_height": null,
            "min_width": null,
            "object_fit": null,
            "object_position": null,
            "order": null,
            "overflow": null,
            "overflow_x": null,
            "overflow_y": null,
            "padding": null,
            "right": null,
            "top": null,
            "visibility": null,
            "width": null
          }
        },
        "a6d06f6ad1174c4090374ea8dffd0f81": {
          "model_module": "@jupyter-widgets/base",
          "model_module_version": "1.2.0",
          "model_name": "LayoutModel",
          "state": {
            "_model_module": "@jupyter-widgets/base",
            "_model_module_version": "1.2.0",
            "_model_name": "LayoutModel",
            "_view_count": null,
            "_view_module": "@jupyter-widgets/base",
            "_view_module_version": "1.2.0",
            "_view_name": "LayoutView",
            "align_content": null,
            "align_items": null,
            "align_self": null,
            "border": null,
            "bottom": null,
            "display": null,
            "flex": null,
            "flex_flow": null,
            "grid_area": null,
            "grid_auto_columns": null,
            "grid_auto_flow": null,
            "grid_auto_rows": null,
            "grid_column": null,
            "grid_gap": null,
            "grid_row": null,
            "grid_template_areas": null,
            "grid_template_columns": null,
            "grid_template_rows": null,
            "height": null,
            "justify_content": null,
            "justify_items": null,
            "left": null,
            "margin": null,
            "max_height": null,
            "max_width": null,
            "min_height": null,
            "min_width": null,
            "object_fit": null,
            "object_position": null,
            "order": null,
            "overflow": null,
            "overflow_x": null,
            "overflow_y": null,
            "padding": null,
            "right": null,
            "top": null,
            "visibility": null,
            "width": null
          }
        },
        "a7c0dcf1c10a4389b59715e3985b7fdc": {
          "model_module": "@jupyter-widgets/base",
          "model_module_version": "1.2.0",
          "model_name": "LayoutModel",
          "state": {
            "_model_module": "@jupyter-widgets/base",
            "_model_module_version": "1.2.0",
            "_model_name": "LayoutModel",
            "_view_count": null,
            "_view_module": "@jupyter-widgets/base",
            "_view_module_version": "1.2.0",
            "_view_name": "LayoutView",
            "align_content": null,
            "align_items": null,
            "align_self": null,
            "border": null,
            "bottom": null,
            "display": null,
            "flex": null,
            "flex_flow": null,
            "grid_area": null,
            "grid_auto_columns": null,
            "grid_auto_flow": null,
            "grid_auto_rows": null,
            "grid_column": null,
            "grid_gap": null,
            "grid_row": null,
            "grid_template_areas": null,
            "grid_template_columns": null,
            "grid_template_rows": null,
            "height": null,
            "justify_content": null,
            "justify_items": null,
            "left": null,
            "margin": null,
            "max_height": null,
            "max_width": null,
            "min_height": null,
            "min_width": null,
            "object_fit": null,
            "object_position": null,
            "order": null,
            "overflow": null,
            "overflow_x": null,
            "overflow_y": null,
            "padding": null,
            "right": null,
            "top": null,
            "visibility": null,
            "width": null
          }
        },
        "ad8c6ae966aa4e68a4742cee58a63971": {
          "model_module": "@jupyter-widgets/controls",
          "model_module_version": "1.5.0",
          "model_name": "HBoxModel",
          "state": {
            "_dom_classes": [],
            "_model_module": "@jupyter-widgets/controls",
            "_model_module_version": "1.5.0",
            "_model_name": "HBoxModel",
            "_view_count": null,
            "_view_module": "@jupyter-widgets/controls",
            "_view_module_version": "1.5.0",
            "_view_name": "HBoxView",
            "box_style": "",
            "children": [
              "IPY_MODEL_45eda23825f2483c890f42e531e770a8",
              "IPY_MODEL_6f195517f0e04d87a2692234ba9cb098",
              "IPY_MODEL_3b20af919b4845a6afe52998706c1921"
            ],
            "layout": "IPY_MODEL_b5012ec11ac1474fae8beea3029ce85c"
          }
        },
        "afe07127662b4000b730330c01859d24": {
          "model_module": "@jupyter-widgets/base",
          "model_module_version": "1.2.0",
          "model_name": "LayoutModel",
          "state": {
            "_model_module": "@jupyter-widgets/base",
            "_model_module_version": "1.2.0",
            "_model_name": "LayoutModel",
            "_view_count": null,
            "_view_module": "@jupyter-widgets/base",
            "_view_module_version": "1.2.0",
            "_view_name": "LayoutView",
            "align_content": null,
            "align_items": null,
            "align_self": null,
            "border": null,
            "bottom": null,
            "display": null,
            "flex": null,
            "flex_flow": null,
            "grid_area": null,
            "grid_auto_columns": null,
            "grid_auto_flow": null,
            "grid_auto_rows": null,
            "grid_column": null,
            "grid_gap": null,
            "grid_row": null,
            "grid_template_areas": null,
            "grid_template_columns": null,
            "grid_template_rows": null,
            "height": null,
            "justify_content": null,
            "justify_items": null,
            "left": null,
            "margin": null,
            "max_height": null,
            "max_width": null,
            "min_height": null,
            "min_width": null,
            "object_fit": null,
            "object_position": null,
            "order": null,
            "overflow": null,
            "overflow_x": null,
            "overflow_y": null,
            "padding": null,
            "right": null,
            "top": null,
            "visibility": "hidden",
            "width": null
          }
        },
        "b1fd6b72a71649b8a2f223b89e526195": {
          "model_module": "@jupyter-widgets/base",
          "model_module_version": "1.2.0",
          "model_name": "LayoutModel",
          "state": {
            "_model_module": "@jupyter-widgets/base",
            "_model_module_version": "1.2.0",
            "_model_name": "LayoutModel",
            "_view_count": null,
            "_view_module": "@jupyter-widgets/base",
            "_view_module_version": "1.2.0",
            "_view_name": "LayoutView",
            "align_content": null,
            "align_items": null,
            "align_self": null,
            "border": null,
            "bottom": null,
            "display": null,
            "flex": null,
            "flex_flow": null,
            "grid_area": null,
            "grid_auto_columns": null,
            "grid_auto_flow": null,
            "grid_auto_rows": null,
            "grid_column": null,
            "grid_gap": null,
            "grid_row": null,
            "grid_template_areas": null,
            "grid_template_columns": null,
            "grid_template_rows": null,
            "height": null,
            "justify_content": null,
            "justify_items": null,
            "left": null,
            "margin": null,
            "max_height": null,
            "max_width": null,
            "min_height": null,
            "min_width": null,
            "object_fit": null,
            "object_position": null,
            "order": null,
            "overflow": null,
            "overflow_x": null,
            "overflow_y": null,
            "padding": null,
            "right": null,
            "top": null,
            "visibility": "hidden",
            "width": null
          }
        },
        "b2682c8e91c8426b8b69bc0fb983f7e4": {
          "model_module": "@jupyter-widgets/base",
          "model_module_version": "1.2.0",
          "model_name": "LayoutModel",
          "state": {
            "_model_module": "@jupyter-widgets/base",
            "_model_module_version": "1.2.0",
            "_model_name": "LayoutModel",
            "_view_count": null,
            "_view_module": "@jupyter-widgets/base",
            "_view_module_version": "1.2.0",
            "_view_name": "LayoutView",
            "align_content": null,
            "align_items": null,
            "align_self": null,
            "border": null,
            "bottom": null,
            "display": null,
            "flex": null,
            "flex_flow": null,
            "grid_area": null,
            "grid_auto_columns": null,
            "grid_auto_flow": null,
            "grid_auto_rows": null,
            "grid_column": null,
            "grid_gap": null,
            "grid_row": null,
            "grid_template_areas": null,
            "grid_template_columns": null,
            "grid_template_rows": null,
            "height": null,
            "justify_content": null,
            "justify_items": null,
            "left": null,
            "margin": null,
            "max_height": null,
            "max_width": null,
            "min_height": null,
            "min_width": null,
            "object_fit": null,
            "object_position": null,
            "order": null,
            "overflow": null,
            "overflow_x": null,
            "overflow_y": null,
            "padding": null,
            "right": null,
            "top": null,
            "visibility": null,
            "width": null
          }
        },
        "b5012ec11ac1474fae8beea3029ce85c": {
          "model_module": "@jupyter-widgets/base",
          "model_module_version": "1.2.0",
          "model_name": "LayoutModel",
          "state": {
            "_model_module": "@jupyter-widgets/base",
            "_model_module_version": "1.2.0",
            "_model_name": "LayoutModel",
            "_view_count": null,
            "_view_module": "@jupyter-widgets/base",
            "_view_module_version": "1.2.0",
            "_view_name": "LayoutView",
            "align_content": null,
            "align_items": null,
            "align_self": null,
            "border": null,
            "bottom": null,
            "display": null,
            "flex": null,
            "flex_flow": null,
            "grid_area": null,
            "grid_auto_columns": null,
            "grid_auto_flow": null,
            "grid_auto_rows": null,
            "grid_column": null,
            "grid_gap": null,
            "grid_row": null,
            "grid_template_areas": null,
            "grid_template_columns": null,
            "grid_template_rows": null,
            "height": null,
            "justify_content": null,
            "justify_items": null,
            "left": null,
            "margin": null,
            "max_height": null,
            "max_width": null,
            "min_height": null,
            "min_width": null,
            "object_fit": null,
            "object_position": null,
            "order": null,
            "overflow": null,
            "overflow_x": null,
            "overflow_y": null,
            "padding": null,
            "right": null,
            "top": null,
            "visibility": "hidden",
            "width": null
          }
        },
        "b63ea0956353410e8bd82c0e82f77359": {
          "model_module": "@jupyter-widgets/controls",
          "model_module_version": "1.5.0",
          "model_name": "HTMLModel",
          "state": {
            "_dom_classes": [],
            "_model_module": "@jupyter-widgets/controls",
            "_model_module_version": "1.5.0",
            "_model_name": "HTMLModel",
            "_view_count": null,
            "_view_module": "@jupyter-widgets/controls",
            "_view_module_version": "1.5.0",
            "_view_name": "HTMLView",
            "description": "",
            "description_tooltip": null,
            "layout": "IPY_MODEL_378b45d1b3c34c9493535009fc9a38d1",
            "placeholder": "​",
            "style": "IPY_MODEL_4c4ab23b8eda42ae849c604782b348fa",
            "value": "Training: 100%"
          }
        },
        "b80e6b3d3d1d40428bb42b1e372a1d1b": {
          "model_module": "@jupyter-widgets/controls",
          "model_module_version": "1.5.0",
          "model_name": "HBoxModel",
          "state": {
            "_dom_classes": [],
            "_model_module": "@jupyter-widgets/controls",
            "_model_module_version": "1.5.0",
            "_model_name": "HBoxModel",
            "_view_count": null,
            "_view_module": "@jupyter-widgets/controls",
            "_view_module_version": "1.5.0",
            "_view_name": "HBoxView",
            "box_style": "",
            "children": [
              "IPY_MODEL_cfbfe1da4f85446f9578366485422d8c",
              "IPY_MODEL_f50867693af14910b779f3fb294848e7",
              "IPY_MODEL_3e129b177eb44d839247ab99d7d96818"
            ],
            "layout": "IPY_MODEL_afe07127662b4000b730330c01859d24"
          }
        },
        "b9faf53ad15b4e74bffe3284be9ea8ca": {
          "model_module": "@jupyter-widgets/base",
          "model_module_version": "1.2.0",
          "model_name": "LayoutModel",
          "state": {
            "_model_module": "@jupyter-widgets/base",
            "_model_module_version": "1.2.0",
            "_model_name": "LayoutModel",
            "_view_count": null,
            "_view_module": "@jupyter-widgets/base",
            "_view_module_version": "1.2.0",
            "_view_name": "LayoutView",
            "align_content": null,
            "align_items": null,
            "align_self": null,
            "border": null,
            "bottom": null,
            "display": null,
            "flex": null,
            "flex_flow": null,
            "grid_area": null,
            "grid_auto_columns": null,
            "grid_auto_flow": null,
            "grid_auto_rows": null,
            "grid_column": null,
            "grid_gap": null,
            "grid_row": null,
            "grid_template_areas": null,
            "grid_template_columns": null,
            "grid_template_rows": null,
            "height": null,
            "justify_content": null,
            "justify_items": null,
            "left": null,
            "margin": null,
            "max_height": null,
            "max_width": null,
            "min_height": null,
            "min_width": null,
            "object_fit": null,
            "object_position": null,
            "order": null,
            "overflow": null,
            "overflow_x": null,
            "overflow_y": null,
            "padding": null,
            "right": null,
            "top": null,
            "visibility": null,
            "width": null
          }
        },
        "bcc9a6f7d8274a44a6a577eb81f1269c": {
          "model_module": "@jupyter-widgets/controls",
          "model_module_version": "1.5.0",
          "model_name": "FloatProgressModel",
          "state": {
            "_dom_classes": [],
            "_model_module": "@jupyter-widgets/controls",
            "_model_module_version": "1.5.0",
            "_model_name": "FloatProgressModel",
            "_view_count": null,
            "_view_module": "@jupyter-widgets/controls",
            "_view_module_version": "1.5.0",
            "_view_name": "ProgressView",
            "bar_style": "",
            "description": "",
            "description_tooltip": null,
            "layout": "IPY_MODEL_415e327053d04664a09429cb968835c8",
            "max": 5,
            "min": 0,
            "orientation": "horizontal",
            "style": "IPY_MODEL_e79eb8bf1bd040cc801f4aac2d05042c",
            "value": 5
          }
        },
        "be075ad893b74e049a71096b567d7a66": {
          "model_module": "@jupyter-widgets/controls",
          "model_module_version": "1.5.0",
          "model_name": "DescriptionStyleModel",
          "state": {
            "_model_module": "@jupyter-widgets/controls",
            "_model_module_version": "1.5.0",
            "_model_name": "DescriptionStyleModel",
            "_view_count": null,
            "_view_module": "@jupyter-widgets/base",
            "_view_module_version": "1.2.0",
            "_view_name": "StyleView",
            "description_width": ""
          }
        },
        "bf63988768164be28da7c388eed7bcf2": {
          "model_module": "@jupyter-widgets/base",
          "model_module_version": "1.2.0",
          "model_name": "LayoutModel",
          "state": {
            "_model_module": "@jupyter-widgets/base",
            "_model_module_version": "1.2.0",
            "_model_name": "LayoutModel",
            "_view_count": null,
            "_view_module": "@jupyter-widgets/base",
            "_view_module_version": "1.2.0",
            "_view_name": "LayoutView",
            "align_content": null,
            "align_items": null,
            "align_self": null,
            "border": null,
            "bottom": null,
            "display": null,
            "flex": null,
            "flex_flow": null,
            "grid_area": null,
            "grid_auto_columns": null,
            "grid_auto_flow": null,
            "grid_auto_rows": null,
            "grid_column": null,
            "grid_gap": null,
            "grid_row": null,
            "grid_template_areas": null,
            "grid_template_columns": null,
            "grid_template_rows": null,
            "height": null,
            "justify_content": null,
            "justify_items": null,
            "left": null,
            "margin": null,
            "max_height": null,
            "max_width": null,
            "min_height": null,
            "min_width": null,
            "object_fit": null,
            "object_position": null,
            "order": null,
            "overflow": null,
            "overflow_x": null,
            "overflow_y": null,
            "padding": null,
            "right": null,
            "top": null,
            "visibility": null,
            "width": null
          }
        },
        "c383d13d01594dccba643921dec97e40": {
          "model_module": "@jupyter-widgets/controls",
          "model_module_version": "1.5.0",
          "model_name": "FloatProgressModel",
          "state": {
            "_dom_classes": [],
            "_model_module": "@jupyter-widgets/controls",
            "_model_module_version": "1.5.0",
            "_model_name": "FloatProgressModel",
            "_view_count": null,
            "_view_module": "@jupyter-widgets/controls",
            "_view_module_version": "1.5.0",
            "_view_name": "ProgressView",
            "bar_style": "",
            "description": "",
            "description_tooltip": null,
            "layout": "IPY_MODEL_43f05496e8ab4644b5bf544d442a1244",
            "max": 5,
            "min": 0,
            "orientation": "horizontal",
            "style": "IPY_MODEL_e488020de2c8431b9a07e399013fbe4a",
            "value": 5
          }
        },
        "c3cd28f79694419192fa14f621a84f8c": {
          "model_module": "@jupyter-widgets/base",
          "model_module_version": "1.2.0",
          "model_name": "LayoutModel",
          "state": {
            "_model_module": "@jupyter-widgets/base",
            "_model_module_version": "1.2.0",
            "_model_name": "LayoutModel",
            "_view_count": null,
            "_view_module": "@jupyter-widgets/base",
            "_view_module_version": "1.2.0",
            "_view_name": "LayoutView",
            "align_content": null,
            "align_items": null,
            "align_self": null,
            "border": null,
            "bottom": null,
            "display": null,
            "flex": null,
            "flex_flow": null,
            "grid_area": null,
            "grid_auto_columns": null,
            "grid_auto_flow": null,
            "grid_auto_rows": null,
            "grid_column": null,
            "grid_gap": null,
            "grid_row": null,
            "grid_template_areas": null,
            "grid_template_columns": null,
            "grid_template_rows": null,
            "height": null,
            "justify_content": null,
            "justify_items": null,
            "left": null,
            "margin": null,
            "max_height": null,
            "max_width": null,
            "min_height": null,
            "min_width": null,
            "object_fit": null,
            "object_position": null,
            "order": null,
            "overflow": null,
            "overflow_x": null,
            "overflow_y": null,
            "padding": null,
            "right": null,
            "top": null,
            "visibility": null,
            "width": null
          }
        },
        "c4147903f89a4ed0ac0542b229de00ef": {
          "model_module": "@jupyter-widgets/base",
          "model_module_version": "1.2.0",
          "model_name": "LayoutModel",
          "state": {
            "_model_module": "@jupyter-widgets/base",
            "_model_module_version": "1.2.0",
            "_model_name": "LayoutModel",
            "_view_count": null,
            "_view_module": "@jupyter-widgets/base",
            "_view_module_version": "1.2.0",
            "_view_name": "LayoutView",
            "align_content": null,
            "align_items": null,
            "align_self": null,
            "border": null,
            "bottom": null,
            "display": null,
            "flex": null,
            "flex_flow": null,
            "grid_area": null,
            "grid_auto_columns": null,
            "grid_auto_flow": null,
            "grid_auto_rows": null,
            "grid_column": null,
            "grid_gap": null,
            "grid_row": null,
            "grid_template_areas": null,
            "grid_template_columns": null,
            "grid_template_rows": null,
            "height": null,
            "justify_content": null,
            "justify_items": null,
            "left": null,
            "margin": null,
            "max_height": null,
            "max_width": null,
            "min_height": null,
            "min_width": null,
            "object_fit": null,
            "object_position": null,
            "order": null,
            "overflow": null,
            "overflow_x": null,
            "overflow_y": null,
            "padding": null,
            "right": null,
            "top": null,
            "visibility": "hidden",
            "width": null
          }
        },
        "c68e33cb5b9c47a29750ebae10d491f6": {
          "model_module": "@jupyter-widgets/controls",
          "model_module_version": "1.5.0",
          "model_name": "HTMLModel",
          "state": {
            "_dom_classes": [],
            "_model_module": "@jupyter-widgets/controls",
            "_model_module_version": "1.5.0",
            "_model_name": "HTMLModel",
            "_view_count": null,
            "_view_module": "@jupyter-widgets/controls",
            "_view_module_version": "1.5.0",
            "_view_name": "HTMLView",
            "description": "",
            "description_tooltip": null,
            "layout": "IPY_MODEL_bf63988768164be28da7c388eed7bcf2",
            "placeholder": "​",
            "style": "IPY_MODEL_73b687c713164b86bf4e51c41b86181e",
            "value": " 5/5 [02:32&lt;00:00, 30.47s/it]"
          }
        },
        "c771c0d9e86b44bfb3c8c069b488295f": {
          "model_module": "@jupyter-widgets/base",
          "model_module_version": "1.2.0",
          "model_name": "LayoutModel",
          "state": {
            "_model_module": "@jupyter-widgets/base",
            "_model_module_version": "1.2.0",
            "_model_name": "LayoutModel",
            "_view_count": null,
            "_view_module": "@jupyter-widgets/base",
            "_view_module_version": "1.2.0",
            "_view_name": "LayoutView",
            "align_content": null,
            "align_items": null,
            "align_self": null,
            "border": null,
            "bottom": null,
            "display": null,
            "flex": null,
            "flex_flow": null,
            "grid_area": null,
            "grid_auto_columns": null,
            "grid_auto_flow": null,
            "grid_auto_rows": null,
            "grid_column": null,
            "grid_gap": null,
            "grid_row": null,
            "grid_template_areas": null,
            "grid_template_columns": null,
            "grid_template_rows": null,
            "height": null,
            "justify_content": null,
            "justify_items": null,
            "left": null,
            "margin": null,
            "max_height": null,
            "max_width": null,
            "min_height": null,
            "min_width": null,
            "object_fit": null,
            "object_position": null,
            "order": null,
            "overflow": null,
            "overflow_x": null,
            "overflow_y": null,
            "padding": null,
            "right": null,
            "top": null,
            "visibility": "hidden",
            "width": null
          }
        },
        "c841f733ddd64b4bbce8565f4c40cf6d": {
          "model_module": "@jupyter-widgets/controls",
          "model_module_version": "1.5.0",
          "model_name": "DescriptionStyleModel",
          "state": {
            "_model_module": "@jupyter-widgets/controls",
            "_model_module_version": "1.5.0",
            "_model_name": "DescriptionStyleModel",
            "_view_count": null,
            "_view_module": "@jupyter-widgets/base",
            "_view_module_version": "1.2.0",
            "_view_name": "StyleView",
            "description_width": ""
          }
        },
        "ca4fb363164745d68e8d9f4f7e767bf9": {
          "model_module": "@jupyter-widgets/base",
          "model_module_version": "1.2.0",
          "model_name": "LayoutModel",
          "state": {
            "_model_module": "@jupyter-widgets/base",
            "_model_module_version": "1.2.0",
            "_model_name": "LayoutModel",
            "_view_count": null,
            "_view_module": "@jupyter-widgets/base",
            "_view_module_version": "1.2.0",
            "_view_name": "LayoutView",
            "align_content": null,
            "align_items": null,
            "align_self": null,
            "border": null,
            "bottom": null,
            "display": null,
            "flex": null,
            "flex_flow": null,
            "grid_area": null,
            "grid_auto_columns": null,
            "grid_auto_flow": null,
            "grid_auto_rows": null,
            "grid_column": null,
            "grid_gap": null,
            "grid_row": null,
            "grid_template_areas": null,
            "grid_template_columns": null,
            "grid_template_rows": null,
            "height": null,
            "justify_content": null,
            "justify_items": null,
            "left": null,
            "margin": null,
            "max_height": null,
            "max_width": null,
            "min_height": null,
            "min_width": null,
            "object_fit": null,
            "object_position": null,
            "order": null,
            "overflow": null,
            "overflow_x": null,
            "overflow_y": null,
            "padding": null,
            "right": null,
            "top": null,
            "visibility": null,
            "width": null
          }
        },
        "cc1cc65d29ef4c4bab91c34d53c2ac8b": {
          "model_module": "@jupyter-widgets/controls",
          "model_module_version": "1.5.0",
          "model_name": "ProgressStyleModel",
          "state": {
            "_model_module": "@jupyter-widgets/controls",
            "_model_module_version": "1.5.0",
            "_model_name": "ProgressStyleModel",
            "_view_count": null,
            "_view_module": "@jupyter-widgets/base",
            "_view_module_version": "1.2.0",
            "_view_name": "StyleView",
            "bar_color": null,
            "description_width": ""
          }
        },
        "cc4c44ca88c147d28b0fa10df5be602c": {
          "model_module": "@jupyter-widgets/controls",
          "model_module_version": "1.5.0",
          "model_name": "HTMLModel",
          "state": {
            "_dom_classes": [],
            "_model_module": "@jupyter-widgets/controls",
            "_model_module_version": "1.5.0",
            "_model_name": "HTMLModel",
            "_view_count": null,
            "_view_module": "@jupyter-widgets/controls",
            "_view_module_version": "1.5.0",
            "_view_name": "HTMLView",
            "description": "",
            "description_tooltip": null,
            "layout": "IPY_MODEL_47368149c8094c3b97f2b438fd770770",
            "placeholder": "​",
            "style": "IPY_MODEL_4e5b9d27a2a74733a8da68b442279c19",
            "value": " 5/5 [01:53&lt;00:00, 22.70s/it]"
          }
        },
        "cfbfe1da4f85446f9578366485422d8c": {
          "model_module": "@jupyter-widgets/controls",
          "model_module_version": "1.5.0",
          "model_name": "HTMLModel",
          "state": {
            "_dom_classes": [],
            "_model_module": "@jupyter-widgets/controls",
            "_model_module_version": "1.5.0",
            "_model_name": "HTMLModel",
            "_view_count": null,
            "_view_module": "@jupyter-widgets/controls",
            "_view_module_version": "1.5.0",
            "_view_name": "HTMLView",
            "description": "",
            "description_tooltip": null,
            "layout": "IPY_MODEL_ca4fb363164745d68e8d9f4f7e767bf9",
            "placeholder": "​",
            "style": "IPY_MODEL_1877e5e007174d61853df4a60bdd02d1",
            "value": "Training: 100%"
          }
        },
        "d3d462f2be2749889a14d6f27d926953": {
          "model_module": "@jupyter-widgets/base",
          "model_module_version": "1.2.0",
          "model_name": "LayoutModel",
          "state": {
            "_model_module": "@jupyter-widgets/base",
            "_model_module_version": "1.2.0",
            "_model_name": "LayoutModel",
            "_view_count": null,
            "_view_module": "@jupyter-widgets/base",
            "_view_module_version": "1.2.0",
            "_view_name": "LayoutView",
            "align_content": null,
            "align_items": null,
            "align_self": null,
            "border": null,
            "bottom": null,
            "display": null,
            "flex": null,
            "flex_flow": null,
            "grid_area": null,
            "grid_auto_columns": null,
            "grid_auto_flow": null,
            "grid_auto_rows": null,
            "grid_column": null,
            "grid_gap": null,
            "grid_row": null,
            "grid_template_areas": null,
            "grid_template_columns": null,
            "grid_template_rows": null,
            "height": null,
            "justify_content": null,
            "justify_items": null,
            "left": null,
            "margin": null,
            "max_height": null,
            "max_width": null,
            "min_height": null,
            "min_width": null,
            "object_fit": null,
            "object_position": null,
            "order": null,
            "overflow": null,
            "overflow_x": null,
            "overflow_y": null,
            "padding": null,
            "right": null,
            "top": null,
            "visibility": "hidden",
            "width": null
          }
        },
        "d4275e2cad9c4e559cc9d1349ff9d389": {
          "model_module": "@jupyter-widgets/controls",
          "model_module_version": "1.5.0",
          "model_name": "FloatProgressModel",
          "state": {
            "_dom_classes": [],
            "_model_module": "@jupyter-widgets/controls",
            "_model_module_version": "1.5.0",
            "_model_name": "FloatProgressModel",
            "_view_count": null,
            "_view_module": "@jupyter-widgets/controls",
            "_view_module_version": "1.5.0",
            "_view_name": "ProgressView",
            "bar_style": "",
            "description": "",
            "description_tooltip": null,
            "layout": "IPY_MODEL_7c938a53d76840ddbb2862d5a9d9562b",
            "max": 5,
            "min": 0,
            "orientation": "horizontal",
            "style": "IPY_MODEL_3fc15fb7588e43bd8c9e77cb7d1cc5b9",
            "value": 5
          }
        },
        "db6ece1f110f4c5bbbdb341aaafa27eb": {
          "model_module": "@jupyter-widgets/controls",
          "model_module_version": "1.5.0",
          "model_name": "HBoxModel",
          "state": {
            "_dom_classes": [],
            "_model_module": "@jupyter-widgets/controls",
            "_model_module_version": "1.5.0",
            "_model_name": "HBoxModel",
            "_view_count": null,
            "_view_module": "@jupyter-widgets/controls",
            "_view_module_version": "1.5.0",
            "_view_name": "HBoxView",
            "box_style": "",
            "children": [
              "IPY_MODEL_6ad2e47dccfe4f829e1b0f07bc530c04",
              "IPY_MODEL_9357a69d31af440fbfca4b0f4ad6dcf9",
              "IPY_MODEL_6884f7f898634bbc9dbc0a4b0ae75ce3"
            ],
            "layout": "IPY_MODEL_8a006181ac724a0184ede4353f0be080"
          }
        },
        "e0f5a8f8c3b0487eb0f2686b5157b724": {
          "model_module": "@jupyter-widgets/controls",
          "model_module_version": "1.5.0",
          "model_name": "HTMLModel",
          "state": {
            "_dom_classes": [],
            "_model_module": "@jupyter-widgets/controls",
            "_model_module_version": "1.5.0",
            "_model_name": "HTMLModel",
            "_view_count": null,
            "_view_module": "@jupyter-widgets/controls",
            "_view_module_version": "1.5.0",
            "_view_name": "HTMLView",
            "description": "",
            "description_tooltip": null,
            "layout": "IPY_MODEL_9452791e02ae40f2881b830219274021",
            "placeholder": "​",
            "style": "IPY_MODEL_383a524e4608457cbcd1989acbc57c99",
            "value": "Training: 100%"
          }
        },
        "e2f3bc2420fb42faaff60417cc475b4f": {
          "model_module": "@jupyter-widgets/controls",
          "model_module_version": "1.5.0",
          "model_name": "FloatProgressModel",
          "state": {
            "_dom_classes": [],
            "_model_module": "@jupyter-widgets/controls",
            "_model_module_version": "1.5.0",
            "_model_name": "FloatProgressModel",
            "_view_count": null,
            "_view_module": "@jupyter-widgets/controls",
            "_view_module_version": "1.5.0",
            "_view_name": "ProgressView",
            "bar_style": "",
            "description": "",
            "description_tooltip": null,
            "layout": "IPY_MODEL_a7c0dcf1c10a4389b59715e3985b7fdc",
            "max": 5,
            "min": 0,
            "orientation": "horizontal",
            "style": "IPY_MODEL_fa795271c3af4ff6a2005befc9ec43df",
            "value": 5
          }
        },
        "e488020de2c8431b9a07e399013fbe4a": {
          "model_module": "@jupyter-widgets/controls",
          "model_module_version": "1.5.0",
          "model_name": "ProgressStyleModel",
          "state": {
            "_model_module": "@jupyter-widgets/controls",
            "_model_module_version": "1.5.0",
            "_model_name": "ProgressStyleModel",
            "_view_count": null,
            "_view_module": "@jupyter-widgets/base",
            "_view_module_version": "1.2.0",
            "_view_name": "StyleView",
            "bar_color": null,
            "description_width": ""
          }
        },
        "e79eb8bf1bd040cc801f4aac2d05042c": {
          "model_module": "@jupyter-widgets/controls",
          "model_module_version": "1.5.0",
          "model_name": "ProgressStyleModel",
          "state": {
            "_model_module": "@jupyter-widgets/controls",
            "_model_module_version": "1.5.0",
            "_model_name": "ProgressStyleModel",
            "_view_count": null,
            "_view_module": "@jupyter-widgets/base",
            "_view_module_version": "1.2.0",
            "_view_name": "StyleView",
            "bar_color": null,
            "description_width": ""
          }
        },
        "ed01b9a2c71045b5a32ae931375fd530": {
          "model_module": "@jupyter-widgets/base",
          "model_module_version": "1.2.0",
          "model_name": "LayoutModel",
          "state": {
            "_model_module": "@jupyter-widgets/base",
            "_model_module_version": "1.2.0",
            "_model_name": "LayoutModel",
            "_view_count": null,
            "_view_module": "@jupyter-widgets/base",
            "_view_module_version": "1.2.0",
            "_view_name": "LayoutView",
            "align_content": null,
            "align_items": null,
            "align_self": null,
            "border": null,
            "bottom": null,
            "display": null,
            "flex": null,
            "flex_flow": null,
            "grid_area": null,
            "grid_auto_columns": null,
            "grid_auto_flow": null,
            "grid_auto_rows": null,
            "grid_column": null,
            "grid_gap": null,
            "grid_row": null,
            "grid_template_areas": null,
            "grid_template_columns": null,
            "grid_template_rows": null,
            "height": null,
            "justify_content": null,
            "justify_items": null,
            "left": null,
            "margin": null,
            "max_height": null,
            "max_width": null,
            "min_height": null,
            "min_width": null,
            "object_fit": null,
            "object_position": null,
            "order": null,
            "overflow": null,
            "overflow_x": null,
            "overflow_y": null,
            "padding": null,
            "right": null,
            "top": null,
            "visibility": null,
            "width": null
          }
        },
        "f50867693af14910b779f3fb294848e7": {
          "model_module": "@jupyter-widgets/controls",
          "model_module_version": "1.5.0",
          "model_name": "FloatProgressModel",
          "state": {
            "_dom_classes": [],
            "_model_module": "@jupyter-widgets/controls",
            "_model_module_version": "1.5.0",
            "_model_name": "FloatProgressModel",
            "_view_count": null,
            "_view_module": "@jupyter-widgets/controls",
            "_view_module_version": "1.5.0",
            "_view_name": "ProgressView",
            "bar_style": "",
            "description": "",
            "description_tooltip": null,
            "layout": "IPY_MODEL_ed01b9a2c71045b5a32ae931375fd530",
            "max": 5,
            "min": 0,
            "orientation": "horizontal",
            "style": "IPY_MODEL_78e61ccc56064bb48e9101c44f09079e",
            "value": 5
          }
        },
        "fa795271c3af4ff6a2005befc9ec43df": {
          "model_module": "@jupyter-widgets/controls",
          "model_module_version": "1.5.0",
          "model_name": "ProgressStyleModel",
          "state": {
            "_model_module": "@jupyter-widgets/controls",
            "_model_module_version": "1.5.0",
            "_model_name": "ProgressStyleModel",
            "_view_count": null,
            "_view_module": "@jupyter-widgets/base",
            "_view_module_version": "1.2.0",
            "_view_name": "StyleView",
            "bar_color": null,
            "description_width": ""
          }
        },
        "fa81678bf787411ea7ee221ed165cd42": {
          "model_module": "@jupyter-widgets/controls",
          "model_module_version": "1.5.0",
          "model_name": "HTMLModel",
          "state": {
            "_dom_classes": [],
            "_model_module": "@jupyter-widgets/controls",
            "_model_module_version": "1.5.0",
            "_model_name": "HTMLModel",
            "_view_count": null,
            "_view_module": "@jupyter-widgets/controls",
            "_view_module_version": "1.5.0",
            "_view_name": "HTMLView",
            "description": "",
            "description_tooltip": null,
            "layout": "IPY_MODEL_2c1944399ed44975b541699562afdda8",
            "placeholder": "​",
            "style": "IPY_MODEL_7bd1bcff2cba4a91a24ae6cee6e7c55c",
            "value": "Training: 100%"
          }
        },
        "fa9df3b8eff746248ede173332693c8e": {
          "model_module": "@jupyter-widgets/controls",
          "model_module_version": "1.5.0",
          "model_name": "DescriptionStyleModel",
          "state": {
            "_model_module": "@jupyter-widgets/controls",
            "_model_module_version": "1.5.0",
            "_model_name": "DescriptionStyleModel",
            "_view_count": null,
            "_view_module": "@jupyter-widgets/base",
            "_view_module_version": "1.2.0",
            "_view_name": "StyleView",
            "description_width": ""
          }
        },
        "fb8904b0f1c542149031f60f99a65067": {
          "model_module": "@jupyter-widgets/base",
          "model_module_version": "1.2.0",
          "model_name": "LayoutModel",
          "state": {
            "_model_module": "@jupyter-widgets/base",
            "_model_module_version": "1.2.0",
            "_model_name": "LayoutModel",
            "_view_count": null,
            "_view_module": "@jupyter-widgets/base",
            "_view_module_version": "1.2.0",
            "_view_name": "LayoutView",
            "align_content": null,
            "align_items": null,
            "align_self": null,
            "border": null,
            "bottom": null,
            "display": null,
            "flex": null,
            "flex_flow": null,
            "grid_area": null,
            "grid_auto_columns": null,
            "grid_auto_flow": null,
            "grid_auto_rows": null,
            "grid_column": null,
            "grid_gap": null,
            "grid_row": null,
            "grid_template_areas": null,
            "grid_template_columns": null,
            "grid_template_rows": null,
            "height": null,
            "justify_content": null,
            "justify_items": null,
            "left": null,
            "margin": null,
            "max_height": null,
            "max_width": null,
            "min_height": null,
            "min_width": null,
            "object_fit": null,
            "object_position": null,
            "order": null,
            "overflow": null,
            "overflow_x": null,
            "overflow_y": null,
            "padding": null,
            "right": null,
            "top": null,
            "visibility": null,
            "width": null
          }
        },
        "76a0942c183240ffbad8737ade16643e": {
          "model_module": "@jupyter-widgets/controls",
          "model_name": "HBoxModel",
          "model_module_version": "1.5.0",
          "state": {
            "_dom_classes": [],
            "_model_module": "@jupyter-widgets/controls",
            "_model_module_version": "1.5.0",
            "_model_name": "HBoxModel",
            "_view_count": null,
            "_view_module": "@jupyter-widgets/controls",
            "_view_module_version": "1.5.0",
            "_view_name": "HBoxView",
            "box_style": "",
            "children": [
              "IPY_MODEL_12b0026a9711459a854c6d4001f19ded",
              "IPY_MODEL_c5aaf1894e7b4459be86e86c1396b5f8",
              "IPY_MODEL_1d5c343cbc534d1a9fd8dded39dfd80a"
            ],
            "layout": "IPY_MODEL_50a46a2fd585488fb08e3c71b75acaab"
          }
        },
        "12b0026a9711459a854c6d4001f19ded": {
          "model_module": "@jupyter-widgets/controls",
          "model_name": "HTMLModel",
          "model_module_version": "1.5.0",
          "state": {
            "_dom_classes": [],
            "_model_module": "@jupyter-widgets/controls",
            "_model_module_version": "1.5.0",
            "_model_name": "HTMLModel",
            "_view_count": null,
            "_view_module": "@jupyter-widgets/controls",
            "_view_module_version": "1.5.0",
            "_view_name": "HTMLView",
            "description": "",
            "description_tooltip": null,
            "layout": "IPY_MODEL_b434d22f78a841d0b636329f124f538c",
            "placeholder": "​",
            "style": "IPY_MODEL_1ef99c33bcd042f3ba9ffd2f5f40001d",
            "value": "Training: 100%"
          }
        },
        "c5aaf1894e7b4459be86e86c1396b5f8": {
          "model_module": "@jupyter-widgets/controls",
          "model_name": "FloatProgressModel",
          "model_module_version": "1.5.0",
          "state": {
            "_dom_classes": [],
            "_model_module": "@jupyter-widgets/controls",
            "_model_module_version": "1.5.0",
            "_model_name": "FloatProgressModel",
            "_view_count": null,
            "_view_module": "@jupyter-widgets/controls",
            "_view_module_version": "1.5.0",
            "_view_name": "ProgressView",
            "bar_style": "",
            "description": "",
            "description_tooltip": null,
            "layout": "IPY_MODEL_f0601be76ee04640862cedb9a21f0ca1",
            "max": 100,
            "min": 0,
            "orientation": "horizontal",
            "style": "IPY_MODEL_89d6a9e16f7c471394f2d7188c735e10",
            "value": 100
          }
        },
        "1d5c343cbc534d1a9fd8dded39dfd80a": {
          "model_module": "@jupyter-widgets/controls",
          "model_name": "HTMLModel",
          "model_module_version": "1.5.0",
          "state": {
            "_dom_classes": [],
            "_model_module": "@jupyter-widgets/controls",
            "_model_module_version": "1.5.0",
            "_model_name": "HTMLModel",
            "_view_count": null,
            "_view_module": "@jupyter-widgets/controls",
            "_view_module_version": "1.5.0",
            "_view_name": "HTMLView",
            "description": "",
            "description_tooltip": null,
            "layout": "IPY_MODEL_6467329fc14f4033bb083b2d97a084e0",
            "placeholder": "​",
            "style": "IPY_MODEL_9bdf95fd3f264792ba5c647bf97dc5a5",
            "value": " 100/100 [31:49&lt;00:00, 19.09s/it]"
          }
        },
        "50a46a2fd585488fb08e3c71b75acaab": {
          "model_module": "@jupyter-widgets/base",
          "model_name": "LayoutModel",
          "model_module_version": "1.2.0",
          "state": {
            "_model_module": "@jupyter-widgets/base",
            "_model_module_version": "1.2.0",
            "_model_name": "LayoutModel",
            "_view_count": null,
            "_view_module": "@jupyter-widgets/base",
            "_view_module_version": "1.2.0",
            "_view_name": "LayoutView",
            "align_content": null,
            "align_items": null,
            "align_self": null,
            "border": null,
            "bottom": null,
            "display": null,
            "flex": null,
            "flex_flow": null,
            "grid_area": null,
            "grid_auto_columns": null,
            "grid_auto_flow": null,
            "grid_auto_rows": null,
            "grid_column": null,
            "grid_gap": null,
            "grid_row": null,
            "grid_template_areas": null,
            "grid_template_columns": null,
            "grid_template_rows": null,
            "height": null,
            "justify_content": null,
            "justify_items": null,
            "left": null,
            "margin": null,
            "max_height": null,
            "max_width": null,
            "min_height": null,
            "min_width": null,
            "object_fit": null,
            "object_position": null,
            "order": null,
            "overflow": null,
            "overflow_x": null,
            "overflow_y": null,
            "padding": null,
            "right": null,
            "top": null,
            "visibility": "hidden",
            "width": null
          }
        },
        "b434d22f78a841d0b636329f124f538c": {
          "model_module": "@jupyter-widgets/base",
          "model_name": "LayoutModel",
          "model_module_version": "1.2.0",
          "state": {
            "_model_module": "@jupyter-widgets/base",
            "_model_module_version": "1.2.0",
            "_model_name": "LayoutModel",
            "_view_count": null,
            "_view_module": "@jupyter-widgets/base",
            "_view_module_version": "1.2.0",
            "_view_name": "LayoutView",
            "align_content": null,
            "align_items": null,
            "align_self": null,
            "border": null,
            "bottom": null,
            "display": null,
            "flex": null,
            "flex_flow": null,
            "grid_area": null,
            "grid_auto_columns": null,
            "grid_auto_flow": null,
            "grid_auto_rows": null,
            "grid_column": null,
            "grid_gap": null,
            "grid_row": null,
            "grid_template_areas": null,
            "grid_template_columns": null,
            "grid_template_rows": null,
            "height": null,
            "justify_content": null,
            "justify_items": null,
            "left": null,
            "margin": null,
            "max_height": null,
            "max_width": null,
            "min_height": null,
            "min_width": null,
            "object_fit": null,
            "object_position": null,
            "order": null,
            "overflow": null,
            "overflow_x": null,
            "overflow_y": null,
            "padding": null,
            "right": null,
            "top": null,
            "visibility": null,
            "width": null
          }
        },
        "1ef99c33bcd042f3ba9ffd2f5f40001d": {
          "model_module": "@jupyter-widgets/controls",
          "model_name": "DescriptionStyleModel",
          "model_module_version": "1.5.0",
          "state": {
            "_model_module": "@jupyter-widgets/controls",
            "_model_module_version": "1.5.0",
            "_model_name": "DescriptionStyleModel",
            "_view_count": null,
            "_view_module": "@jupyter-widgets/base",
            "_view_module_version": "1.2.0",
            "_view_name": "StyleView",
            "description_width": ""
          }
        },
        "f0601be76ee04640862cedb9a21f0ca1": {
          "model_module": "@jupyter-widgets/base",
          "model_name": "LayoutModel",
          "model_module_version": "1.2.0",
          "state": {
            "_model_module": "@jupyter-widgets/base",
            "_model_module_version": "1.2.0",
            "_model_name": "LayoutModel",
            "_view_count": null,
            "_view_module": "@jupyter-widgets/base",
            "_view_module_version": "1.2.0",
            "_view_name": "LayoutView",
            "align_content": null,
            "align_items": null,
            "align_self": null,
            "border": null,
            "bottom": null,
            "display": null,
            "flex": null,
            "flex_flow": null,
            "grid_area": null,
            "grid_auto_columns": null,
            "grid_auto_flow": null,
            "grid_auto_rows": null,
            "grid_column": null,
            "grid_gap": null,
            "grid_row": null,
            "grid_template_areas": null,
            "grid_template_columns": null,
            "grid_template_rows": null,
            "height": null,
            "justify_content": null,
            "justify_items": null,
            "left": null,
            "margin": null,
            "max_height": null,
            "max_width": null,
            "min_height": null,
            "min_width": null,
            "object_fit": null,
            "object_position": null,
            "order": null,
            "overflow": null,
            "overflow_x": null,
            "overflow_y": null,
            "padding": null,
            "right": null,
            "top": null,
            "visibility": null,
            "width": null
          }
        },
        "89d6a9e16f7c471394f2d7188c735e10": {
          "model_module": "@jupyter-widgets/controls",
          "model_name": "ProgressStyleModel",
          "model_module_version": "1.5.0",
          "state": {
            "_model_module": "@jupyter-widgets/controls",
            "_model_module_version": "1.5.0",
            "_model_name": "ProgressStyleModel",
            "_view_count": null,
            "_view_module": "@jupyter-widgets/base",
            "_view_module_version": "1.2.0",
            "_view_name": "StyleView",
            "bar_color": null,
            "description_width": ""
          }
        },
        "6467329fc14f4033bb083b2d97a084e0": {
          "model_module": "@jupyter-widgets/base",
          "model_name": "LayoutModel",
          "model_module_version": "1.2.0",
          "state": {
            "_model_module": "@jupyter-widgets/base",
            "_model_module_version": "1.2.0",
            "_model_name": "LayoutModel",
            "_view_count": null,
            "_view_module": "@jupyter-widgets/base",
            "_view_module_version": "1.2.0",
            "_view_name": "LayoutView",
            "align_content": null,
            "align_items": null,
            "align_self": null,
            "border": null,
            "bottom": null,
            "display": null,
            "flex": null,
            "flex_flow": null,
            "grid_area": null,
            "grid_auto_columns": null,
            "grid_auto_flow": null,
            "grid_auto_rows": null,
            "grid_column": null,
            "grid_gap": null,
            "grid_row": null,
            "grid_template_areas": null,
            "grid_template_columns": null,
            "grid_template_rows": null,
            "height": null,
            "justify_content": null,
            "justify_items": null,
            "left": null,
            "margin": null,
            "max_height": null,
            "max_width": null,
            "min_height": null,
            "min_width": null,
            "object_fit": null,
            "object_position": null,
            "order": null,
            "overflow": null,
            "overflow_x": null,
            "overflow_y": null,
            "padding": null,
            "right": null,
            "top": null,
            "visibility": null,
            "width": null
          }
        },
        "9bdf95fd3f264792ba5c647bf97dc5a5": {
          "model_module": "@jupyter-widgets/controls",
          "model_name": "DescriptionStyleModel",
          "model_module_version": "1.5.0",
          "state": {
            "_model_module": "@jupyter-widgets/controls",
            "_model_module_version": "1.5.0",
            "_model_name": "DescriptionStyleModel",
            "_view_count": null,
            "_view_module": "@jupyter-widgets/base",
            "_view_module_version": "1.2.0",
            "_view_name": "StyleView",
            "description_width": ""
          }
        },
        "d91dcdcea05241a5a29afcd278fa82d0": {
          "model_module": "@jupyter-widgets/controls",
          "model_name": "HBoxModel",
          "model_module_version": "1.5.0",
          "state": {
            "_dom_classes": [],
            "_model_module": "@jupyter-widgets/controls",
            "_model_module_version": "1.5.0",
            "_model_name": "HBoxModel",
            "_view_count": null,
            "_view_module": "@jupyter-widgets/controls",
            "_view_module_version": "1.5.0",
            "_view_name": "HBoxView",
            "box_style": "",
            "children": [
              "IPY_MODEL_207ecbe74fd94c9bbee49e78bccbb114",
              "IPY_MODEL_bbb34e6c2b004d339fb607f79f9da62a",
              "IPY_MODEL_48b6bc6c63064396934ea4d0888a5910"
            ],
            "layout": "IPY_MODEL_e7b662617f3b467a81680944430c0189"
          }
        },
        "207ecbe74fd94c9bbee49e78bccbb114": {
          "model_module": "@jupyter-widgets/controls",
          "model_name": "HTMLModel",
          "model_module_version": "1.5.0",
          "state": {
            "_dom_classes": [],
            "_model_module": "@jupyter-widgets/controls",
            "_model_module_version": "1.5.0",
            "_model_name": "HTMLModel",
            "_view_count": null,
            "_view_module": "@jupyter-widgets/controls",
            "_view_module_version": "1.5.0",
            "_view_name": "HTMLView",
            "description": "",
            "description_tooltip": null,
            "layout": "IPY_MODEL_a33e572741494f22b1c7fa1473d12fba",
            "placeholder": "​",
            "style": "IPY_MODEL_d72deb31dc874356a328f4d11a41034e",
            "value": "Training: 100%"
          }
        },
        "bbb34e6c2b004d339fb607f79f9da62a": {
          "model_module": "@jupyter-widgets/controls",
          "model_name": "FloatProgressModel",
          "model_module_version": "1.5.0",
          "state": {
            "_dom_classes": [],
            "_model_module": "@jupyter-widgets/controls",
            "_model_module_version": "1.5.0",
            "_model_name": "FloatProgressModel",
            "_view_count": null,
            "_view_module": "@jupyter-widgets/controls",
            "_view_module_version": "1.5.0",
            "_view_name": "ProgressView",
            "bar_style": "",
            "description": "",
            "description_tooltip": null,
            "layout": "IPY_MODEL_df42ff91d8234c3c9cae54e194302063",
            "max": 10,
            "min": 0,
            "orientation": "horizontal",
            "style": "IPY_MODEL_bce0bf1b15c141fa868a4ff9c9cad10c",
            "value": 10
          }
        },
        "48b6bc6c63064396934ea4d0888a5910": {
          "model_module": "@jupyter-widgets/controls",
          "model_name": "HTMLModel",
          "model_module_version": "1.5.0",
          "state": {
            "_dom_classes": [],
            "_model_module": "@jupyter-widgets/controls",
            "_model_module_version": "1.5.0",
            "_model_name": "HTMLModel",
            "_view_count": null,
            "_view_module": "@jupyter-widgets/controls",
            "_view_module_version": "1.5.0",
            "_view_name": "HTMLView",
            "description": "",
            "description_tooltip": null,
            "layout": "IPY_MODEL_bc7bc3bcd617463b8acd45de0dcae9fb",
            "placeholder": "​",
            "style": "IPY_MODEL_774fa10f23c9470e99e39de6e52243fd",
            "value": " 10/10 [04:37&lt;00:00, 27.67s/it]"
          }
        },
        "e7b662617f3b467a81680944430c0189": {
          "model_module": "@jupyter-widgets/base",
          "model_name": "LayoutModel",
          "model_module_version": "1.2.0",
          "state": {
            "_model_module": "@jupyter-widgets/base",
            "_model_module_version": "1.2.0",
            "_model_name": "LayoutModel",
            "_view_count": null,
            "_view_module": "@jupyter-widgets/base",
            "_view_module_version": "1.2.0",
            "_view_name": "LayoutView",
            "align_content": null,
            "align_items": null,
            "align_self": null,
            "border": null,
            "bottom": null,
            "display": null,
            "flex": null,
            "flex_flow": null,
            "grid_area": null,
            "grid_auto_columns": null,
            "grid_auto_flow": null,
            "grid_auto_rows": null,
            "grid_column": null,
            "grid_gap": null,
            "grid_row": null,
            "grid_template_areas": null,
            "grid_template_columns": null,
            "grid_template_rows": null,
            "height": null,
            "justify_content": null,
            "justify_items": null,
            "left": null,
            "margin": null,
            "max_height": null,
            "max_width": null,
            "min_height": null,
            "min_width": null,
            "object_fit": null,
            "object_position": null,
            "order": null,
            "overflow": null,
            "overflow_x": null,
            "overflow_y": null,
            "padding": null,
            "right": null,
            "top": null,
            "visibility": "hidden",
            "width": null
          }
        },
        "a33e572741494f22b1c7fa1473d12fba": {
          "model_module": "@jupyter-widgets/base",
          "model_name": "LayoutModel",
          "model_module_version": "1.2.0",
          "state": {
            "_model_module": "@jupyter-widgets/base",
            "_model_module_version": "1.2.0",
            "_model_name": "LayoutModel",
            "_view_count": null,
            "_view_module": "@jupyter-widgets/base",
            "_view_module_version": "1.2.0",
            "_view_name": "LayoutView",
            "align_content": null,
            "align_items": null,
            "align_self": null,
            "border": null,
            "bottom": null,
            "display": null,
            "flex": null,
            "flex_flow": null,
            "grid_area": null,
            "grid_auto_columns": null,
            "grid_auto_flow": null,
            "grid_auto_rows": null,
            "grid_column": null,
            "grid_gap": null,
            "grid_row": null,
            "grid_template_areas": null,
            "grid_template_columns": null,
            "grid_template_rows": null,
            "height": null,
            "justify_content": null,
            "justify_items": null,
            "left": null,
            "margin": null,
            "max_height": null,
            "max_width": null,
            "min_height": null,
            "min_width": null,
            "object_fit": null,
            "object_position": null,
            "order": null,
            "overflow": null,
            "overflow_x": null,
            "overflow_y": null,
            "padding": null,
            "right": null,
            "top": null,
            "visibility": null,
            "width": null
          }
        },
        "d72deb31dc874356a328f4d11a41034e": {
          "model_module": "@jupyter-widgets/controls",
          "model_name": "DescriptionStyleModel",
          "model_module_version": "1.5.0",
          "state": {
            "_model_module": "@jupyter-widgets/controls",
            "_model_module_version": "1.5.0",
            "_model_name": "DescriptionStyleModel",
            "_view_count": null,
            "_view_module": "@jupyter-widgets/base",
            "_view_module_version": "1.2.0",
            "_view_name": "StyleView",
            "description_width": ""
          }
        },
        "df42ff91d8234c3c9cae54e194302063": {
          "model_module": "@jupyter-widgets/base",
          "model_name": "LayoutModel",
          "model_module_version": "1.2.0",
          "state": {
            "_model_module": "@jupyter-widgets/base",
            "_model_module_version": "1.2.0",
            "_model_name": "LayoutModel",
            "_view_count": null,
            "_view_module": "@jupyter-widgets/base",
            "_view_module_version": "1.2.0",
            "_view_name": "LayoutView",
            "align_content": null,
            "align_items": null,
            "align_self": null,
            "border": null,
            "bottom": null,
            "display": null,
            "flex": null,
            "flex_flow": null,
            "grid_area": null,
            "grid_auto_columns": null,
            "grid_auto_flow": null,
            "grid_auto_rows": null,
            "grid_column": null,
            "grid_gap": null,
            "grid_row": null,
            "grid_template_areas": null,
            "grid_template_columns": null,
            "grid_template_rows": null,
            "height": null,
            "justify_content": null,
            "justify_items": null,
            "left": null,
            "margin": null,
            "max_height": null,
            "max_width": null,
            "min_height": null,
            "min_width": null,
            "object_fit": null,
            "object_position": null,
            "order": null,
            "overflow": null,
            "overflow_x": null,
            "overflow_y": null,
            "padding": null,
            "right": null,
            "top": null,
            "visibility": null,
            "width": null
          }
        },
        "bce0bf1b15c141fa868a4ff9c9cad10c": {
          "model_module": "@jupyter-widgets/controls",
          "model_name": "ProgressStyleModel",
          "model_module_version": "1.5.0",
          "state": {
            "_model_module": "@jupyter-widgets/controls",
            "_model_module_version": "1.5.0",
            "_model_name": "ProgressStyleModel",
            "_view_count": null,
            "_view_module": "@jupyter-widgets/base",
            "_view_module_version": "1.2.0",
            "_view_name": "StyleView",
            "bar_color": null,
            "description_width": ""
          }
        },
        "bc7bc3bcd617463b8acd45de0dcae9fb": {
          "model_module": "@jupyter-widgets/base",
          "model_name": "LayoutModel",
          "model_module_version": "1.2.0",
          "state": {
            "_model_module": "@jupyter-widgets/base",
            "_model_module_version": "1.2.0",
            "_model_name": "LayoutModel",
            "_view_count": null,
            "_view_module": "@jupyter-widgets/base",
            "_view_module_version": "1.2.0",
            "_view_name": "LayoutView",
            "align_content": null,
            "align_items": null,
            "align_self": null,
            "border": null,
            "bottom": null,
            "display": null,
            "flex": null,
            "flex_flow": null,
            "grid_area": null,
            "grid_auto_columns": null,
            "grid_auto_flow": null,
            "grid_auto_rows": null,
            "grid_column": null,
            "grid_gap": null,
            "grid_row": null,
            "grid_template_areas": null,
            "grid_template_columns": null,
            "grid_template_rows": null,
            "height": null,
            "justify_content": null,
            "justify_items": null,
            "left": null,
            "margin": null,
            "max_height": null,
            "max_width": null,
            "min_height": null,
            "min_width": null,
            "object_fit": null,
            "object_position": null,
            "order": null,
            "overflow": null,
            "overflow_x": null,
            "overflow_y": null,
            "padding": null,
            "right": null,
            "top": null,
            "visibility": null,
            "width": null
          }
        },
        "774fa10f23c9470e99e39de6e52243fd": {
          "model_module": "@jupyter-widgets/controls",
          "model_name": "DescriptionStyleModel",
          "model_module_version": "1.5.0",
          "state": {
            "_model_module": "@jupyter-widgets/controls",
            "_model_module_version": "1.5.0",
            "_model_name": "DescriptionStyleModel",
            "_view_count": null,
            "_view_module": "@jupyter-widgets/base",
            "_view_module_version": "1.2.0",
            "_view_name": "StyleView",
            "description_width": ""
          }
        },
        "63078e81221d47ce915756d175e44daf": {
          "model_module": "@jupyter-widgets/controls",
          "model_name": "HBoxModel",
          "model_module_version": "1.5.0",
          "state": {
            "_dom_classes": [],
            "_model_module": "@jupyter-widgets/controls",
            "_model_module_version": "1.5.0",
            "_model_name": "HBoxModel",
            "_view_count": null,
            "_view_module": "@jupyter-widgets/controls",
            "_view_module_version": "1.5.0",
            "_view_name": "HBoxView",
            "box_style": "",
            "children": [
              "IPY_MODEL_3ebcb1cb84a84dc7a08eda6f3e45eb32",
              "IPY_MODEL_1af0721f7d124ffdaeaf076fae5d885f",
              "IPY_MODEL_abbd6adb872f4272a082732e36b704b0"
            ],
            "layout": "IPY_MODEL_36d2459b63934bcfa09450da86e3b342"
          }
        },
        "3ebcb1cb84a84dc7a08eda6f3e45eb32": {
          "model_module": "@jupyter-widgets/controls",
          "model_name": "HTMLModel",
          "model_module_version": "1.5.0",
          "state": {
            "_dom_classes": [],
            "_model_module": "@jupyter-widgets/controls",
            "_model_module_version": "1.5.0",
            "_model_name": "HTMLModel",
            "_view_count": null,
            "_view_module": "@jupyter-widgets/controls",
            "_view_module_version": "1.5.0",
            "_view_name": "HTMLView",
            "description": "",
            "description_tooltip": null,
            "layout": "IPY_MODEL_d337772c25a54b74a8fb5f4ded922948",
            "placeholder": "​",
            "style": "IPY_MODEL_0f15ee3a73f0404983f07982d861b78f",
            "value": "Training: 100%"
          }
        },
        "1af0721f7d124ffdaeaf076fae5d885f": {
          "model_module": "@jupyter-widgets/controls",
          "model_name": "FloatProgressModel",
          "model_module_version": "1.5.0",
          "state": {
            "_dom_classes": [],
            "_model_module": "@jupyter-widgets/controls",
            "_model_module_version": "1.5.0",
            "_model_name": "FloatProgressModel",
            "_view_count": null,
            "_view_module": "@jupyter-widgets/controls",
            "_view_module_version": "1.5.0",
            "_view_name": "ProgressView",
            "bar_style": "",
            "description": "",
            "description_tooltip": null,
            "layout": "IPY_MODEL_3da9d2ef06a14765a8cb03e3714509ea",
            "max": 10,
            "min": 0,
            "orientation": "horizontal",
            "style": "IPY_MODEL_e693224d838a4470ae4f436174283991",
            "value": 10
          }
        },
        "abbd6adb872f4272a082732e36b704b0": {
          "model_module": "@jupyter-widgets/controls",
          "model_name": "HTMLModel",
          "model_module_version": "1.5.0",
          "state": {
            "_dom_classes": [],
            "_model_module": "@jupyter-widgets/controls",
            "_model_module_version": "1.5.0",
            "_model_name": "HTMLModel",
            "_view_count": null,
            "_view_module": "@jupyter-widgets/controls",
            "_view_module_version": "1.5.0",
            "_view_name": "HTMLView",
            "description": "",
            "description_tooltip": null,
            "layout": "IPY_MODEL_6c5dbdee23c546559b84ea89751acfd9",
            "placeholder": "​",
            "style": "IPY_MODEL_fb879be9e7ff407a8a5d6cb3136cf539",
            "value": " 10/10 [05:16&lt;00:00, 31.63s/it]"
          }
        },
        "36d2459b63934bcfa09450da86e3b342": {
          "model_module": "@jupyter-widgets/base",
          "model_name": "LayoutModel",
          "model_module_version": "1.2.0",
          "state": {
            "_model_module": "@jupyter-widgets/base",
            "_model_module_version": "1.2.0",
            "_model_name": "LayoutModel",
            "_view_count": null,
            "_view_module": "@jupyter-widgets/base",
            "_view_module_version": "1.2.0",
            "_view_name": "LayoutView",
            "align_content": null,
            "align_items": null,
            "align_self": null,
            "border": null,
            "bottom": null,
            "display": null,
            "flex": null,
            "flex_flow": null,
            "grid_area": null,
            "grid_auto_columns": null,
            "grid_auto_flow": null,
            "grid_auto_rows": null,
            "grid_column": null,
            "grid_gap": null,
            "grid_row": null,
            "grid_template_areas": null,
            "grid_template_columns": null,
            "grid_template_rows": null,
            "height": null,
            "justify_content": null,
            "justify_items": null,
            "left": null,
            "margin": null,
            "max_height": null,
            "max_width": null,
            "min_height": null,
            "min_width": null,
            "object_fit": null,
            "object_position": null,
            "order": null,
            "overflow": null,
            "overflow_x": null,
            "overflow_y": null,
            "padding": null,
            "right": null,
            "top": null,
            "visibility": "hidden",
            "width": null
          }
        },
        "d337772c25a54b74a8fb5f4ded922948": {
          "model_module": "@jupyter-widgets/base",
          "model_name": "LayoutModel",
          "model_module_version": "1.2.0",
          "state": {
            "_model_module": "@jupyter-widgets/base",
            "_model_module_version": "1.2.0",
            "_model_name": "LayoutModel",
            "_view_count": null,
            "_view_module": "@jupyter-widgets/base",
            "_view_module_version": "1.2.0",
            "_view_name": "LayoutView",
            "align_content": null,
            "align_items": null,
            "align_self": null,
            "border": null,
            "bottom": null,
            "display": null,
            "flex": null,
            "flex_flow": null,
            "grid_area": null,
            "grid_auto_columns": null,
            "grid_auto_flow": null,
            "grid_auto_rows": null,
            "grid_column": null,
            "grid_gap": null,
            "grid_row": null,
            "grid_template_areas": null,
            "grid_template_columns": null,
            "grid_template_rows": null,
            "height": null,
            "justify_content": null,
            "justify_items": null,
            "left": null,
            "margin": null,
            "max_height": null,
            "max_width": null,
            "min_height": null,
            "min_width": null,
            "object_fit": null,
            "object_position": null,
            "order": null,
            "overflow": null,
            "overflow_x": null,
            "overflow_y": null,
            "padding": null,
            "right": null,
            "top": null,
            "visibility": null,
            "width": null
          }
        },
        "0f15ee3a73f0404983f07982d861b78f": {
          "model_module": "@jupyter-widgets/controls",
          "model_name": "DescriptionStyleModel",
          "model_module_version": "1.5.0",
          "state": {
            "_model_module": "@jupyter-widgets/controls",
            "_model_module_version": "1.5.0",
            "_model_name": "DescriptionStyleModel",
            "_view_count": null,
            "_view_module": "@jupyter-widgets/base",
            "_view_module_version": "1.2.0",
            "_view_name": "StyleView",
            "description_width": ""
          }
        },
        "3da9d2ef06a14765a8cb03e3714509ea": {
          "model_module": "@jupyter-widgets/base",
          "model_name": "LayoutModel",
          "model_module_version": "1.2.0",
          "state": {
            "_model_module": "@jupyter-widgets/base",
            "_model_module_version": "1.2.0",
            "_model_name": "LayoutModel",
            "_view_count": null,
            "_view_module": "@jupyter-widgets/base",
            "_view_module_version": "1.2.0",
            "_view_name": "LayoutView",
            "align_content": null,
            "align_items": null,
            "align_self": null,
            "border": null,
            "bottom": null,
            "display": null,
            "flex": null,
            "flex_flow": null,
            "grid_area": null,
            "grid_auto_columns": null,
            "grid_auto_flow": null,
            "grid_auto_rows": null,
            "grid_column": null,
            "grid_gap": null,
            "grid_row": null,
            "grid_template_areas": null,
            "grid_template_columns": null,
            "grid_template_rows": null,
            "height": null,
            "justify_content": null,
            "justify_items": null,
            "left": null,
            "margin": null,
            "max_height": null,
            "max_width": null,
            "min_height": null,
            "min_width": null,
            "object_fit": null,
            "object_position": null,
            "order": null,
            "overflow": null,
            "overflow_x": null,
            "overflow_y": null,
            "padding": null,
            "right": null,
            "top": null,
            "visibility": null,
            "width": null
          }
        },
        "e693224d838a4470ae4f436174283991": {
          "model_module": "@jupyter-widgets/controls",
          "model_name": "ProgressStyleModel",
          "model_module_version": "1.5.0",
          "state": {
            "_model_module": "@jupyter-widgets/controls",
            "_model_module_version": "1.5.0",
            "_model_name": "ProgressStyleModel",
            "_view_count": null,
            "_view_module": "@jupyter-widgets/base",
            "_view_module_version": "1.2.0",
            "_view_name": "StyleView",
            "bar_color": null,
            "description_width": ""
          }
        },
        "6c5dbdee23c546559b84ea89751acfd9": {
          "model_module": "@jupyter-widgets/base",
          "model_name": "LayoutModel",
          "model_module_version": "1.2.0",
          "state": {
            "_model_module": "@jupyter-widgets/base",
            "_model_module_version": "1.2.0",
            "_model_name": "LayoutModel",
            "_view_count": null,
            "_view_module": "@jupyter-widgets/base",
            "_view_module_version": "1.2.0",
            "_view_name": "LayoutView",
            "align_content": null,
            "align_items": null,
            "align_self": null,
            "border": null,
            "bottom": null,
            "display": null,
            "flex": null,
            "flex_flow": null,
            "grid_area": null,
            "grid_auto_columns": null,
            "grid_auto_flow": null,
            "grid_auto_rows": null,
            "grid_column": null,
            "grid_gap": null,
            "grid_row": null,
            "grid_template_areas": null,
            "grid_template_columns": null,
            "grid_template_rows": null,
            "height": null,
            "justify_content": null,
            "justify_items": null,
            "left": null,
            "margin": null,
            "max_height": null,
            "max_width": null,
            "min_height": null,
            "min_width": null,
            "object_fit": null,
            "object_position": null,
            "order": null,
            "overflow": null,
            "overflow_x": null,
            "overflow_y": null,
            "padding": null,
            "right": null,
            "top": null,
            "visibility": null,
            "width": null
          }
        },
        "fb879be9e7ff407a8a5d6cb3136cf539": {
          "model_module": "@jupyter-widgets/controls",
          "model_name": "DescriptionStyleModel",
          "model_module_version": "1.5.0",
          "state": {
            "_model_module": "@jupyter-widgets/controls",
            "_model_module_version": "1.5.0",
            "_model_name": "DescriptionStyleModel",
            "_view_count": null,
            "_view_module": "@jupyter-widgets/base",
            "_view_module_version": "1.2.0",
            "_view_name": "StyleView",
            "description_width": ""
          }
        },
        "e27dd60fcfd64dc182691b9d42c20867": {
          "model_module": "@jupyter-widgets/controls",
          "model_name": "HBoxModel",
          "model_module_version": "1.5.0",
          "state": {
            "_dom_classes": [],
            "_model_module": "@jupyter-widgets/controls",
            "_model_module_version": "1.5.0",
            "_model_name": "HBoxModel",
            "_view_count": null,
            "_view_module": "@jupyter-widgets/controls",
            "_view_module_version": "1.5.0",
            "_view_name": "HBoxView",
            "box_style": "",
            "children": [
              "IPY_MODEL_b3f3a97f3fe74d93981caf4b92c78a0b",
              "IPY_MODEL_d86615520aa042bf8752040c0512db16",
              "IPY_MODEL_3a71a02cc09344a8b2283844684781ee"
            ],
            "layout": "IPY_MODEL_e870e28c930a4d16b4768f27d6a77283"
          }
        },
        "b3f3a97f3fe74d93981caf4b92c78a0b": {
          "model_module": "@jupyter-widgets/controls",
          "model_name": "HTMLModel",
          "model_module_version": "1.5.0",
          "state": {
            "_dom_classes": [],
            "_model_module": "@jupyter-widgets/controls",
            "_model_module_version": "1.5.0",
            "_model_name": "HTMLModel",
            "_view_count": null,
            "_view_module": "@jupyter-widgets/controls",
            "_view_module_version": "1.5.0",
            "_view_name": "HTMLView",
            "description": "",
            "description_tooltip": null,
            "layout": "IPY_MODEL_d1a0b77df13743e699c23f6ed5fc8f38",
            "placeholder": "​",
            "style": "IPY_MODEL_ab4d967f02b1474f9edf6513cd6a4dad",
            "value": "Trial:   0%"
          }
        },
        "d86615520aa042bf8752040c0512db16": {
          "model_module": "@jupyter-widgets/controls",
          "model_name": "FloatProgressModel",
          "model_module_version": "1.5.0",
          "state": {
            "_dom_classes": [],
            "_model_module": "@jupyter-widgets/controls",
            "_model_module_version": "1.5.0",
            "_model_name": "FloatProgressModel",
            "_view_count": null,
            "_view_module": "@jupyter-widgets/controls",
            "_view_module_version": "1.5.0",
            "_view_name": "ProgressView",
            "bar_style": "danger",
            "description": "",
            "description_tooltip": null,
            "layout": "IPY_MODEL_85a4225f19734019b907ad786493032e",
            "max": 10,
            "min": 0,
            "orientation": "horizontal",
            "style": "IPY_MODEL_2d22a5b9e7034484874b4da70086248a",
            "value": 0
          }
        },
        "3a71a02cc09344a8b2283844684781ee": {
          "model_module": "@jupyter-widgets/controls",
          "model_name": "HTMLModel",
          "model_module_version": "1.5.0",
          "state": {
            "_dom_classes": [],
            "_model_module": "@jupyter-widgets/controls",
            "_model_module_version": "1.5.0",
            "_model_name": "HTMLModel",
            "_view_count": null,
            "_view_module": "@jupyter-widgets/controls",
            "_view_module_version": "1.5.0",
            "_view_name": "HTMLView",
            "description": "",
            "description_tooltip": null,
            "layout": "IPY_MODEL_b26c1f8140854b78afe4df570d77472e",
            "placeholder": "​",
            "style": "IPY_MODEL_1facb9118b454854b5bfae931115b15e",
            "value": " 0/10 [13:14&lt;?, ?it/s]"
          }
        },
        "e870e28c930a4d16b4768f27d6a77283": {
          "model_module": "@jupyter-widgets/base",
          "model_name": "LayoutModel",
          "model_module_version": "1.2.0",
          "state": {
            "_model_module": "@jupyter-widgets/base",
            "_model_module_version": "1.2.0",
            "_model_name": "LayoutModel",
            "_view_count": null,
            "_view_module": "@jupyter-widgets/base",
            "_view_module_version": "1.2.0",
            "_view_name": "LayoutView",
            "align_content": null,
            "align_items": null,
            "align_self": null,
            "border": null,
            "bottom": null,
            "display": null,
            "flex": null,
            "flex_flow": null,
            "grid_area": null,
            "grid_auto_columns": null,
            "grid_auto_flow": null,
            "grid_auto_rows": null,
            "grid_column": null,
            "grid_gap": null,
            "grid_row": null,
            "grid_template_areas": null,
            "grid_template_columns": null,
            "grid_template_rows": null,
            "height": null,
            "justify_content": null,
            "justify_items": null,
            "left": null,
            "margin": null,
            "max_height": null,
            "max_width": null,
            "min_height": null,
            "min_width": null,
            "object_fit": null,
            "object_position": null,
            "order": null,
            "overflow": null,
            "overflow_x": null,
            "overflow_y": null,
            "padding": null,
            "right": null,
            "top": null,
            "visibility": null,
            "width": null
          }
        },
        "d1a0b77df13743e699c23f6ed5fc8f38": {
          "model_module": "@jupyter-widgets/base",
          "model_name": "LayoutModel",
          "model_module_version": "1.2.0",
          "state": {
            "_model_module": "@jupyter-widgets/base",
            "_model_module_version": "1.2.0",
            "_model_name": "LayoutModel",
            "_view_count": null,
            "_view_module": "@jupyter-widgets/base",
            "_view_module_version": "1.2.0",
            "_view_name": "LayoutView",
            "align_content": null,
            "align_items": null,
            "align_self": null,
            "border": null,
            "bottom": null,
            "display": null,
            "flex": null,
            "flex_flow": null,
            "grid_area": null,
            "grid_auto_columns": null,
            "grid_auto_flow": null,
            "grid_auto_rows": null,
            "grid_column": null,
            "grid_gap": null,
            "grid_row": null,
            "grid_template_areas": null,
            "grid_template_columns": null,
            "grid_template_rows": null,
            "height": null,
            "justify_content": null,
            "justify_items": null,
            "left": null,
            "margin": null,
            "max_height": null,
            "max_width": null,
            "min_height": null,
            "min_width": null,
            "object_fit": null,
            "object_position": null,
            "order": null,
            "overflow": null,
            "overflow_x": null,
            "overflow_y": null,
            "padding": null,
            "right": null,
            "top": null,
            "visibility": null,
            "width": null
          }
        },
        "ab4d967f02b1474f9edf6513cd6a4dad": {
          "model_module": "@jupyter-widgets/controls",
          "model_name": "DescriptionStyleModel",
          "model_module_version": "1.5.0",
          "state": {
            "_model_module": "@jupyter-widgets/controls",
            "_model_module_version": "1.5.0",
            "_model_name": "DescriptionStyleModel",
            "_view_count": null,
            "_view_module": "@jupyter-widgets/base",
            "_view_module_version": "1.2.0",
            "_view_name": "StyleView",
            "description_width": ""
          }
        },
        "85a4225f19734019b907ad786493032e": {
          "model_module": "@jupyter-widgets/base",
          "model_name": "LayoutModel",
          "model_module_version": "1.2.0",
          "state": {
            "_model_module": "@jupyter-widgets/base",
            "_model_module_version": "1.2.0",
            "_model_name": "LayoutModel",
            "_view_count": null,
            "_view_module": "@jupyter-widgets/base",
            "_view_module_version": "1.2.0",
            "_view_name": "LayoutView",
            "align_content": null,
            "align_items": null,
            "align_self": null,
            "border": null,
            "bottom": null,
            "display": null,
            "flex": null,
            "flex_flow": null,
            "grid_area": null,
            "grid_auto_columns": null,
            "grid_auto_flow": null,
            "grid_auto_rows": null,
            "grid_column": null,
            "grid_gap": null,
            "grid_row": null,
            "grid_template_areas": null,
            "grid_template_columns": null,
            "grid_template_rows": null,
            "height": null,
            "justify_content": null,
            "justify_items": null,
            "left": null,
            "margin": null,
            "max_height": null,
            "max_width": null,
            "min_height": null,
            "min_width": null,
            "object_fit": null,
            "object_position": null,
            "order": null,
            "overflow": null,
            "overflow_x": null,
            "overflow_y": null,
            "padding": null,
            "right": null,
            "top": null,
            "visibility": null,
            "width": null
          }
        },
        "2d22a5b9e7034484874b4da70086248a": {
          "model_module": "@jupyter-widgets/controls",
          "model_name": "ProgressStyleModel",
          "model_module_version": "1.5.0",
          "state": {
            "_model_module": "@jupyter-widgets/controls",
            "_model_module_version": "1.5.0",
            "_model_name": "ProgressStyleModel",
            "_view_count": null,
            "_view_module": "@jupyter-widgets/base",
            "_view_module_version": "1.2.0",
            "_view_name": "StyleView",
            "bar_color": null,
            "description_width": ""
          }
        },
        "b26c1f8140854b78afe4df570d77472e": {
          "model_module": "@jupyter-widgets/base",
          "model_name": "LayoutModel",
          "model_module_version": "1.2.0",
          "state": {
            "_model_module": "@jupyter-widgets/base",
            "_model_module_version": "1.2.0",
            "_model_name": "LayoutModel",
            "_view_count": null,
            "_view_module": "@jupyter-widgets/base",
            "_view_module_version": "1.2.0",
            "_view_name": "LayoutView",
            "align_content": null,
            "align_items": null,
            "align_self": null,
            "border": null,
            "bottom": null,
            "display": null,
            "flex": null,
            "flex_flow": null,
            "grid_area": null,
            "grid_auto_columns": null,
            "grid_auto_flow": null,
            "grid_auto_rows": null,
            "grid_column": null,
            "grid_gap": null,
            "grid_row": null,
            "grid_template_areas": null,
            "grid_template_columns": null,
            "grid_template_rows": null,
            "height": null,
            "justify_content": null,
            "justify_items": null,
            "left": null,
            "margin": null,
            "max_height": null,
            "max_width": null,
            "min_height": null,
            "min_width": null,
            "object_fit": null,
            "object_position": null,
            "order": null,
            "overflow": null,
            "overflow_x": null,
            "overflow_y": null,
            "padding": null,
            "right": null,
            "top": null,
            "visibility": null,
            "width": null
          }
        },
        "1facb9118b454854b5bfae931115b15e": {
          "model_module": "@jupyter-widgets/controls",
          "model_name": "DescriptionStyleModel",
          "model_module_version": "1.5.0",
          "state": {
            "_model_module": "@jupyter-widgets/controls",
            "_model_module_version": "1.5.0",
            "_model_name": "DescriptionStyleModel",
            "_view_count": null,
            "_view_module": "@jupyter-widgets/base",
            "_view_module_version": "1.2.0",
            "_view_name": "StyleView",
            "description_width": ""
          }
        },
        "f8039dacf28b4129ae528e69ef1caaab": {
          "model_module": "@jupyter-widgets/controls",
          "model_name": "HBoxModel",
          "model_module_version": "1.5.0",
          "state": {
            "_dom_classes": [],
            "_model_module": "@jupyter-widgets/controls",
            "_model_module_version": "1.5.0",
            "_model_name": "HBoxModel",
            "_view_count": null,
            "_view_module": "@jupyter-widgets/controls",
            "_view_module_version": "1.5.0",
            "_view_name": "HBoxView",
            "box_style": "",
            "children": [
              "IPY_MODEL_c376880bf4254311a4241386a27faa9e",
              "IPY_MODEL_d2ce25838b5a48c7bdb7a8a9b36c11b6",
              "IPY_MODEL_2dcf7b78f9354239bd3c76019fcc9b4c"
            ],
            "layout": "IPY_MODEL_0d4eade8ef9a4017b83a8eb49fd6ff71"
          }
        },
        "c376880bf4254311a4241386a27faa9e": {
          "model_module": "@jupyter-widgets/controls",
          "model_name": "HTMLModel",
          "model_module_version": "1.5.0",
          "state": {
            "_dom_classes": [],
            "_model_module": "@jupyter-widgets/controls",
            "_model_module_version": "1.5.0",
            "_model_name": "HTMLModel",
            "_view_count": null,
            "_view_module": "@jupyter-widgets/controls",
            "_view_module_version": "1.5.0",
            "_view_name": "HTMLView",
            "description": "",
            "description_tooltip": null,
            "layout": "IPY_MODEL_723dfb211a154cb8ac7aa51b6727d293",
            "placeholder": "​",
            "style": "IPY_MODEL_4ded19614e0c4484b80a4c1e403adc48",
            "value": "Epoch:  15%"
          }
        },
        "d2ce25838b5a48c7bdb7a8a9b36c11b6": {
          "model_module": "@jupyter-widgets/controls",
          "model_name": "FloatProgressModel",
          "model_module_version": "1.5.0",
          "state": {
            "_dom_classes": [],
            "_model_module": "@jupyter-widgets/controls",
            "_model_module_version": "1.5.0",
            "_model_name": "FloatProgressModel",
            "_view_count": null,
            "_view_module": "@jupyter-widgets/controls",
            "_view_module_version": "1.5.0",
            "_view_name": "ProgressView",
            "bar_style": "danger",
            "description": "",
            "description_tooltip": null,
            "layout": "IPY_MODEL_a31b8c0837724178ab7a833391fdb97c",
            "max": 20,
            "min": 0,
            "orientation": "horizontal",
            "style": "IPY_MODEL_290120c1c54843e4b32600ff0b993a83",
            "value": 3
          }
        },
        "2dcf7b78f9354239bd3c76019fcc9b4c": {
          "model_module": "@jupyter-widgets/controls",
          "model_name": "HTMLModel",
          "model_module_version": "1.5.0",
          "state": {
            "_dom_classes": [],
            "_model_module": "@jupyter-widgets/controls",
            "_model_module_version": "1.5.0",
            "_model_name": "HTMLModel",
            "_view_count": null,
            "_view_module": "@jupyter-widgets/controls",
            "_view_module_version": "1.5.0",
            "_view_name": "HTMLView",
            "description": "",
            "description_tooltip": null,
            "layout": "IPY_MODEL_ef5334ac18be434f8cec8267b1da13ad",
            "placeholder": "​",
            "style": "IPY_MODEL_5104afc176074c529de3e48133151ff4",
            "value": " 3/20 [11:41&lt;56:56, 200.96s/it]"
          }
        },
        "0d4eade8ef9a4017b83a8eb49fd6ff71": {
          "model_module": "@jupyter-widgets/base",
          "model_name": "LayoutModel",
          "model_module_version": "1.2.0",
          "state": {
            "_model_module": "@jupyter-widgets/base",
            "_model_module_version": "1.2.0",
            "_model_name": "LayoutModel",
            "_view_count": null,
            "_view_module": "@jupyter-widgets/base",
            "_view_module_version": "1.2.0",
            "_view_name": "LayoutView",
            "align_content": null,
            "align_items": null,
            "align_self": null,
            "border": null,
            "bottom": null,
            "display": null,
            "flex": null,
            "flex_flow": null,
            "grid_area": null,
            "grid_auto_columns": null,
            "grid_auto_flow": null,
            "grid_auto_rows": null,
            "grid_column": null,
            "grid_gap": null,
            "grid_row": null,
            "grid_template_areas": null,
            "grid_template_columns": null,
            "grid_template_rows": null,
            "height": null,
            "justify_content": null,
            "justify_items": null,
            "left": null,
            "margin": null,
            "max_height": null,
            "max_width": null,
            "min_height": null,
            "min_width": null,
            "object_fit": null,
            "object_position": null,
            "order": null,
            "overflow": null,
            "overflow_x": null,
            "overflow_y": null,
            "padding": null,
            "right": null,
            "top": null,
            "visibility": null,
            "width": null
          }
        },
        "723dfb211a154cb8ac7aa51b6727d293": {
          "model_module": "@jupyter-widgets/base",
          "model_name": "LayoutModel",
          "model_module_version": "1.2.0",
          "state": {
            "_model_module": "@jupyter-widgets/base",
            "_model_module_version": "1.2.0",
            "_model_name": "LayoutModel",
            "_view_count": null,
            "_view_module": "@jupyter-widgets/base",
            "_view_module_version": "1.2.0",
            "_view_name": "LayoutView",
            "align_content": null,
            "align_items": null,
            "align_self": null,
            "border": null,
            "bottom": null,
            "display": null,
            "flex": null,
            "flex_flow": null,
            "grid_area": null,
            "grid_auto_columns": null,
            "grid_auto_flow": null,
            "grid_auto_rows": null,
            "grid_column": null,
            "grid_gap": null,
            "grid_row": null,
            "grid_template_areas": null,
            "grid_template_columns": null,
            "grid_template_rows": null,
            "height": null,
            "justify_content": null,
            "justify_items": null,
            "left": null,
            "margin": null,
            "max_height": null,
            "max_width": null,
            "min_height": null,
            "min_width": null,
            "object_fit": null,
            "object_position": null,
            "order": null,
            "overflow": null,
            "overflow_x": null,
            "overflow_y": null,
            "padding": null,
            "right": null,
            "top": null,
            "visibility": null,
            "width": null
          }
        },
        "4ded19614e0c4484b80a4c1e403adc48": {
          "model_module": "@jupyter-widgets/controls",
          "model_name": "DescriptionStyleModel",
          "model_module_version": "1.5.0",
          "state": {
            "_model_module": "@jupyter-widgets/controls",
            "_model_module_version": "1.5.0",
            "_model_name": "DescriptionStyleModel",
            "_view_count": null,
            "_view_module": "@jupyter-widgets/base",
            "_view_module_version": "1.2.0",
            "_view_name": "StyleView",
            "description_width": ""
          }
        },
        "a31b8c0837724178ab7a833391fdb97c": {
          "model_module": "@jupyter-widgets/base",
          "model_name": "LayoutModel",
          "model_module_version": "1.2.0",
          "state": {
            "_model_module": "@jupyter-widgets/base",
            "_model_module_version": "1.2.0",
            "_model_name": "LayoutModel",
            "_view_count": null,
            "_view_module": "@jupyter-widgets/base",
            "_view_module_version": "1.2.0",
            "_view_name": "LayoutView",
            "align_content": null,
            "align_items": null,
            "align_self": null,
            "border": null,
            "bottom": null,
            "display": null,
            "flex": null,
            "flex_flow": null,
            "grid_area": null,
            "grid_auto_columns": null,
            "grid_auto_flow": null,
            "grid_auto_rows": null,
            "grid_column": null,
            "grid_gap": null,
            "grid_row": null,
            "grid_template_areas": null,
            "grid_template_columns": null,
            "grid_template_rows": null,
            "height": null,
            "justify_content": null,
            "justify_items": null,
            "left": null,
            "margin": null,
            "max_height": null,
            "max_width": null,
            "min_height": null,
            "min_width": null,
            "object_fit": null,
            "object_position": null,
            "order": null,
            "overflow": null,
            "overflow_x": null,
            "overflow_y": null,
            "padding": null,
            "right": null,
            "top": null,
            "visibility": null,
            "width": null
          }
        },
        "290120c1c54843e4b32600ff0b993a83": {
          "model_module": "@jupyter-widgets/controls",
          "model_name": "ProgressStyleModel",
          "model_module_version": "1.5.0",
          "state": {
            "_model_module": "@jupyter-widgets/controls",
            "_model_module_version": "1.5.0",
            "_model_name": "ProgressStyleModel",
            "_view_count": null,
            "_view_module": "@jupyter-widgets/base",
            "_view_module_version": "1.2.0",
            "_view_name": "StyleView",
            "bar_color": null,
            "description_width": ""
          }
        },
        "ef5334ac18be434f8cec8267b1da13ad": {
          "model_module": "@jupyter-widgets/base",
          "model_name": "LayoutModel",
          "model_module_version": "1.2.0",
          "state": {
            "_model_module": "@jupyter-widgets/base",
            "_model_module_version": "1.2.0",
            "_model_name": "LayoutModel",
            "_view_count": null,
            "_view_module": "@jupyter-widgets/base",
            "_view_module_version": "1.2.0",
            "_view_name": "LayoutView",
            "align_content": null,
            "align_items": null,
            "align_self": null,
            "border": null,
            "bottom": null,
            "display": null,
            "flex": null,
            "flex_flow": null,
            "grid_area": null,
            "grid_auto_columns": null,
            "grid_auto_flow": null,
            "grid_auto_rows": null,
            "grid_column": null,
            "grid_gap": null,
            "grid_row": null,
            "grid_template_areas": null,
            "grid_template_columns": null,
            "grid_template_rows": null,
            "height": null,
            "justify_content": null,
            "justify_items": null,
            "left": null,
            "margin": null,
            "max_height": null,
            "max_width": null,
            "min_height": null,
            "min_width": null,
            "object_fit": null,
            "object_position": null,
            "order": null,
            "overflow": null,
            "overflow_x": null,
            "overflow_y": null,
            "padding": null,
            "right": null,
            "top": null,
            "visibility": null,
            "width": null
          }
        },
        "5104afc176074c529de3e48133151ff4": {
          "model_module": "@jupyter-widgets/controls",
          "model_name": "DescriptionStyleModel",
          "model_module_version": "1.5.0",
          "state": {
            "_model_module": "@jupyter-widgets/controls",
            "_model_module_version": "1.5.0",
            "_model_name": "DescriptionStyleModel",
            "_view_count": null,
            "_view_module": "@jupyter-widgets/base",
            "_view_module_version": "1.2.0",
            "_view_name": "StyleView",
            "description_width": ""
          }
        },
        "30531324cedb4b768624d1d73a588432": {
          "model_module": "@jupyter-widgets/controls",
          "model_name": "HBoxModel",
          "model_module_version": "1.5.0",
          "state": {
            "_dom_classes": [],
            "_model_module": "@jupyter-widgets/controls",
            "_model_module_version": "1.5.0",
            "_model_name": "HBoxModel",
            "_view_count": null,
            "_view_module": "@jupyter-widgets/controls",
            "_view_module_version": "1.5.0",
            "_view_name": "HBoxView",
            "box_style": "",
            "children": [
              "IPY_MODEL_6b17eccba96841feab7831b8407d4c52",
              "IPY_MODEL_9d4142f2cbde4f81bcf3dcccd6094ca5",
              "IPY_MODEL_7640f2779f664cab84dd204c3b7196ad"
            ],
            "layout": "IPY_MODEL_f79dcf604de64521921c7e0ff9fea3a1"
          }
        },
        "6b17eccba96841feab7831b8407d4c52": {
          "model_module": "@jupyter-widgets/controls",
          "model_name": "HTMLModel",
          "model_module_version": "1.5.0",
          "state": {
            "_dom_classes": [],
            "_model_module": "@jupyter-widgets/controls",
            "_model_module_version": "1.5.0",
            "_model_name": "HTMLModel",
            "_view_count": null,
            "_view_module": "@jupyter-widgets/controls",
            "_view_module_version": "1.5.0",
            "_view_name": "HTMLView",
            "description": "",
            "description_tooltip": null,
            "layout": "IPY_MODEL_aea9eb7ed09948eea016aa7cc7e0abd4",
            "placeholder": "​",
            "style": "IPY_MODEL_29fc706f9bdf4da2885eb08845f6badb",
            "value": "Training:  10%"
          }
        },
        "9d4142f2cbde4f81bcf3dcccd6094ca5": {
          "model_module": "@jupyter-widgets/controls",
          "model_name": "FloatProgressModel",
          "model_module_version": "1.5.0",
          "state": {
            "_dom_classes": [],
            "_model_module": "@jupyter-widgets/controls",
            "_model_module_version": "1.5.0",
            "_model_name": "FloatProgressModel",
            "_view_count": null,
            "_view_module": "@jupyter-widgets/controls",
            "_view_module_version": "1.5.0",
            "_view_name": "ProgressView",
            "bar_style": "",
            "description": "",
            "description_tooltip": null,
            "layout": "IPY_MODEL_6e85cda149d449c68db9bba230e37681",
            "max": 10,
            "min": 0,
            "orientation": "horizontal",
            "style": "IPY_MODEL_fbc03877773940e88c89c52e7e83fc60",
            "value": 1
          }
        },
        "7640f2779f664cab84dd204c3b7196ad": {
          "model_module": "@jupyter-widgets/controls",
          "model_name": "HTMLModel",
          "model_module_version": "1.5.0",
          "state": {
            "_dom_classes": [],
            "_model_module": "@jupyter-widgets/controls",
            "_model_module_version": "1.5.0",
            "_model_name": "HTMLModel",
            "_view_count": null,
            "_view_module": "@jupyter-widgets/controls",
            "_view_module_version": "1.5.0",
            "_view_name": "HTMLView",
            "description": "",
            "description_tooltip": null,
            "layout": "IPY_MODEL_4d58fced911f4fb194f2c271669a0137",
            "placeholder": "​",
            "style": "IPY_MODEL_9de9d09abd4042459339ecb5015cf5c5",
            "value": " 1/10 [02:48&lt;25:13, 168.18s/it]"
          }
        },
        "f79dcf604de64521921c7e0ff9fea3a1": {
          "model_module": "@jupyter-widgets/base",
          "model_name": "LayoutModel",
          "model_module_version": "1.2.0",
          "state": {
            "_model_module": "@jupyter-widgets/base",
            "_model_module_version": "1.2.0",
            "_model_name": "LayoutModel",
            "_view_count": null,
            "_view_module": "@jupyter-widgets/base",
            "_view_module_version": "1.2.0",
            "_view_name": "LayoutView",
            "align_content": null,
            "align_items": null,
            "align_self": null,
            "border": null,
            "bottom": null,
            "display": null,
            "flex": null,
            "flex_flow": null,
            "grid_area": null,
            "grid_auto_columns": null,
            "grid_auto_flow": null,
            "grid_auto_rows": null,
            "grid_column": null,
            "grid_gap": null,
            "grid_row": null,
            "grid_template_areas": null,
            "grid_template_columns": null,
            "grid_template_rows": null,
            "height": null,
            "justify_content": null,
            "justify_items": null,
            "left": null,
            "margin": null,
            "max_height": null,
            "max_width": null,
            "min_height": null,
            "min_width": null,
            "object_fit": null,
            "object_position": null,
            "order": null,
            "overflow": null,
            "overflow_x": null,
            "overflow_y": null,
            "padding": null,
            "right": null,
            "top": null,
            "visibility": null,
            "width": null
          }
        },
        "aea9eb7ed09948eea016aa7cc7e0abd4": {
          "model_module": "@jupyter-widgets/base",
          "model_name": "LayoutModel",
          "model_module_version": "1.2.0",
          "state": {
            "_model_module": "@jupyter-widgets/base",
            "_model_module_version": "1.2.0",
            "_model_name": "LayoutModel",
            "_view_count": null,
            "_view_module": "@jupyter-widgets/base",
            "_view_module_version": "1.2.0",
            "_view_name": "LayoutView",
            "align_content": null,
            "align_items": null,
            "align_self": null,
            "border": null,
            "bottom": null,
            "display": null,
            "flex": null,
            "flex_flow": null,
            "grid_area": null,
            "grid_auto_columns": null,
            "grid_auto_flow": null,
            "grid_auto_rows": null,
            "grid_column": null,
            "grid_gap": null,
            "grid_row": null,
            "grid_template_areas": null,
            "grid_template_columns": null,
            "grid_template_rows": null,
            "height": null,
            "justify_content": null,
            "justify_items": null,
            "left": null,
            "margin": null,
            "max_height": null,
            "max_width": null,
            "min_height": null,
            "min_width": null,
            "object_fit": null,
            "object_position": null,
            "order": null,
            "overflow": null,
            "overflow_x": null,
            "overflow_y": null,
            "padding": null,
            "right": null,
            "top": null,
            "visibility": null,
            "width": null
          }
        },
        "29fc706f9bdf4da2885eb08845f6badb": {
          "model_module": "@jupyter-widgets/controls",
          "model_name": "DescriptionStyleModel",
          "model_module_version": "1.5.0",
          "state": {
            "_model_module": "@jupyter-widgets/controls",
            "_model_module_version": "1.5.0",
            "_model_name": "DescriptionStyleModel",
            "_view_count": null,
            "_view_module": "@jupyter-widgets/base",
            "_view_module_version": "1.2.0",
            "_view_name": "StyleView",
            "description_width": ""
          }
        },
        "6e85cda149d449c68db9bba230e37681": {
          "model_module": "@jupyter-widgets/base",
          "model_name": "LayoutModel",
          "model_module_version": "1.2.0",
          "state": {
            "_model_module": "@jupyter-widgets/base",
            "_model_module_version": "1.2.0",
            "_model_name": "LayoutModel",
            "_view_count": null,
            "_view_module": "@jupyter-widgets/base",
            "_view_module_version": "1.2.0",
            "_view_name": "LayoutView",
            "align_content": null,
            "align_items": null,
            "align_self": null,
            "border": null,
            "bottom": null,
            "display": null,
            "flex": null,
            "flex_flow": null,
            "grid_area": null,
            "grid_auto_columns": null,
            "grid_auto_flow": null,
            "grid_auto_rows": null,
            "grid_column": null,
            "grid_gap": null,
            "grid_row": null,
            "grid_template_areas": null,
            "grid_template_columns": null,
            "grid_template_rows": null,
            "height": null,
            "justify_content": null,
            "justify_items": null,
            "left": null,
            "margin": null,
            "max_height": null,
            "max_width": null,
            "min_height": null,
            "min_width": null,
            "object_fit": null,
            "object_position": null,
            "order": null,
            "overflow": null,
            "overflow_x": null,
            "overflow_y": null,
            "padding": null,
            "right": null,
            "top": null,
            "visibility": null,
            "width": null
          }
        },
        "fbc03877773940e88c89c52e7e83fc60": {
          "model_module": "@jupyter-widgets/controls",
          "model_name": "ProgressStyleModel",
          "model_module_version": "1.5.0",
          "state": {
            "_model_module": "@jupyter-widgets/controls",
            "_model_module_version": "1.5.0",
            "_model_name": "ProgressStyleModel",
            "_view_count": null,
            "_view_module": "@jupyter-widgets/base",
            "_view_module_version": "1.2.0",
            "_view_name": "StyleView",
            "bar_color": null,
            "description_width": ""
          }
        },
        "4d58fced911f4fb194f2c271669a0137": {
          "model_module": "@jupyter-widgets/base",
          "model_name": "LayoutModel",
          "model_module_version": "1.2.0",
          "state": {
            "_model_module": "@jupyter-widgets/base",
            "_model_module_version": "1.2.0",
            "_model_name": "LayoutModel",
            "_view_count": null,
            "_view_module": "@jupyter-widgets/base",
            "_view_module_version": "1.2.0",
            "_view_name": "LayoutView",
            "align_content": null,
            "align_items": null,
            "align_self": null,
            "border": null,
            "bottom": null,
            "display": null,
            "flex": null,
            "flex_flow": null,
            "grid_area": null,
            "grid_auto_columns": null,
            "grid_auto_flow": null,
            "grid_auto_rows": null,
            "grid_column": null,
            "grid_gap": null,
            "grid_row": null,
            "grid_template_areas": null,
            "grid_template_columns": null,
            "grid_template_rows": null,
            "height": null,
            "justify_content": null,
            "justify_items": null,
            "left": null,
            "margin": null,
            "max_height": null,
            "max_width": null,
            "min_height": null,
            "min_width": null,
            "object_fit": null,
            "object_position": null,
            "order": null,
            "overflow": null,
            "overflow_x": null,
            "overflow_y": null,
            "padding": null,
            "right": null,
            "top": null,
            "visibility": null,
            "width": null
          }
        },
        "9de9d09abd4042459339ecb5015cf5c5": {
          "model_module": "@jupyter-widgets/controls",
          "model_name": "DescriptionStyleModel",
          "model_module_version": "1.5.0",
          "state": {
            "_model_module": "@jupyter-widgets/controls",
            "_model_module_version": "1.5.0",
            "_model_name": "DescriptionStyleModel",
            "_view_count": null,
            "_view_module": "@jupyter-widgets/base",
            "_view_module_version": "1.2.0",
            "_view_name": "StyleView",
            "description_width": ""
          }
        }
      }
    }
  },
  "nbformat": 4,
  "nbformat_minor": 5
}