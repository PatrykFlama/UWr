{
 "cells": [
  {
   "cell_type": "markdown",
   "id": "9e2c9940",
   "metadata": {},
   "source": [
    "## Problem\n",
    "1. (**0.25p**) Please describe the output tensor and how to interpret it. Especially, explain the meaning of the 5th number, i.e. the objectness score. How is it calculated and related to the class scores?\n",
    "2. **1p**  Implement the NMS and thresholding yourself.\n",
    "3. **1p**  Visualize the raw predictions and the predictions after NMS and thresholding.\n",
    "4. (**0.25p**) Compare the results with the original predictions.\n",
    "5. (**0.5p**) Vary IoU threshold for NMS and show its effect on detections.\n",
    "6. (**1p**) Calculate precision, recall, F1 for different IoU thresholds. Calculate `mAP@0.5` (mean Average Precision at an Intersection over Union (IoU) threshold of 0.5) for the model predictions; see https://www.v7labs.com/blog/mean-average-precision\n",
    "7. (**1p**) Experiment with your own images. Find examples where NMS removes a valid detection (e.g., overlapping people).\n",
    "\n",
    "\n",
    "### Bonus points:\n",
    "8. (**1p**) Implement Soft-NMS and compare results; see https://arxiv.org/abs/1704.04503\n",
    "Does it help in scenes with many overlapping objects?\n"
   ]
  },
  {
   "cell_type": "markdown",
   "id": "58a69a61",
   "metadata": {},
   "source": [
    "# Solution"
   ]
  },
  {
   "cell_type": "markdown",
   "id": "f9625ed5",
   "metadata": {},
   "source": [
    "### 1\n",
    "(**0.25p**) Please describe the output tensor and how to interpret it. Especially, explain the meaning of the 5th number, i.e. the objectness score. How is it calculated and related to the class scores?"
   ]
  },
  {
   "cell_type": "markdown",
   "id": "4eb6443b",
   "metadata": {},
   "source": [
    "Output tensor has size of 85 - it consiste of 4 coordinates of the bounding box, 1 objectness score and 80 class scores.  \n",
    "\n",
    "The objectness score is a measure of how likely it is that an object is present in the bounding box. It is calculated as the product of the class scores and the confidence score of the bounding box.  \n",
    "The class scores are the probabilities of each class being present in the bounding box, and the confidence score is a measure of how confident the model is that the bounding box contains an object.  \n",
    "The objectness score is used to filter out low-confidence detections and keep only high-confidence ones."
   ]
  },
  {
   "cell_type": "markdown",
   "id": "2d98d8ca",
   "metadata": {},
   "source": [
    "### 2\n",
    "**1p**  Implement the NMS and thresholding yourself."
   ]
  },
  {
   "cell_type": "code",
   "execution_count": null,
   "id": "b797db29",
   "metadata": {},
   "outputs": [],
   "source": [
    "def non_max_suppression(boxes, scores, threshold):\n",
    "    \"\"\"\n",
    "    Perform non-maximum suppression on bounding boxes.\n",
    "\n",
    "    Parameters:\n",
    "    - boxes: List of bounding boxes (x1, y1, x2, y2)\n",
    "    - scores: List of scores for each bounding box\n",
    "    - threshold: IoU threshold for suppression\n",
    "\n",
    "    Returns:\n",
    "    - List of indices of the remaining boxes after suppression\n",
    "    \"\"\"\n",
    "    if len(boxes) == 0:\n",
    "        return []\n",
    "\n",
    "    # Convert to numpy arrays for easier manipulation\n",
    "    boxes = np.array(boxes)\n",
    "    scores = np.array(scores)\n",
    "\n",
    "    # Compute area of the boxes\n",
    "    x1 = boxes[:, 0]\n",
    "    y1 = boxes[:, 1]\n",
    "    x2 = boxes[:, 2]\n",
    "    y2 = boxes[:, 3]\n",
    "    area = (x2 - x1 + 1) * (y2 - y1 + 1)\n",
    "\n",
    "    # Sort by scores\n",
    "    indices = np.argsort(scores)[::-1]\n",
    "\n",
    "    keep = []\n",
    "    \n",
    "    while len(indices) > 0:\n",
    "        i = indices[0]\n",
    "        keep.append(i)\n",
    "\n",
    "        # Compute IoU with the remaining boxes\n",
    "        xx1 = np.maximum(x1[i], x1[indices[1:]])\n",
    "        yy1 = np.maximum(y1[i], y1[indices[1:]])\n",
    "        xx2 = np.minimum(x2[i], x2[indices[1:]])\n",
    "        yy2 = np.minimum(y2[i], y2[indices[1:]])\n",
    "\n",
    "        w = np.maximum(0, xx2 - xx1 + 1)\n",
    "        h = np.maximum(0, yy2 - yy1 + 1)\n",
    "        inter_area = w * h\n",
    "\n",
    "        iou = inter_area / (area[i] + area[indices[1:]] - inter_area)\n",
    "\n",
    "        # Keep only boxes with IoU less than the threshold\n",
    "        indices = indices[np.where(iou <= threshold)[0] + 1]\n",
    "\n",
    "    return keep"
   ]
  }
 ],
 "metadata": {
  "kernelspec": {
   "display_name": "base",
   "language": "python",
   "name": "python3"
  },
  "language_info": {
   "codemirror_mode": {
    "name": "ipython",
    "version": 3
   },
   "file_extension": ".py",
   "mimetype": "text/x-python",
   "name": "python",
   "nbconvert_exporter": "python",
   "pygments_lexer": "ipython3",
   "version": "3.12.4"
  }
 },
 "nbformat": 4,
 "nbformat_minor": 5
}
