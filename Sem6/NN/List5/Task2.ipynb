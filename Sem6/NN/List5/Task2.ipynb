{
 "cells": [
  {
   "cell_type": "markdown",
   "id": "b87e06a0",
   "metadata": {},
   "source": [
    "## Task 2 [2p*]\n",
    "\n",
    "Your task is to train the embeddings for Simple Wikipedia titles, using gensim library. As the example below shows, training is really simple:\n",
    "\n",
    "```python\n",
    "from gensim.test.utils import common_texts\n",
    "from gensim.models import Word2Vec\n",
    "model = Word2Vec(sentences=common_texts, vector_size=100, window=5, min_count=1, workers=4)\n",
    "model.save(\"word2vec.model\")\n",
    "```\n",
    "*sentences* can be a list of list of tokens, you can also use *gensim.models.word2vec.LineSentence(source)* to create restartable iterator from file. At first, use [this file](https://drive.google.com/file/d/1H0ChgZjcbW7x3Gy_9RK0CoduP5M8WscP/view?usp=drive_link) containing such pairs of titles, that one article links to another.\n",
    "\n",
    "We say that two titles are *related* if they both contain a word (or a word bigram) which is not very popular (it occurs only in several titles). Make this definition more precise, and create the corpora which contains pairs of related titles. Make a mixture of the original corpora, and the new one, then train title vectors again.\n",
    "\n",
    "Compare these two approaches using similar code to the code from Task 1."
   ]
  },
  {
   "cell_type": "code",
   "execution_count": 8,
   "id": "a2b439d1",
   "metadata": {},
   "outputs": [],
   "source": [
    "input_wiki_file = \"input/simple.wiki.links.txt\"\n"
   ]
  },
  {
   "cell_type": "code",
   "execution_count": 9,
   "id": "b71eee2f",
   "metadata": {},
   "outputs": [],
   "source": [
    "def tokenize(title):\n",
    "    for c in '!\"#$%&\\'()*+,-./:;<=>?@[\\\\]^_`{|}~':\n",
    "        title = title.replace(c, ' ' + c + ' ')\n",
    "    return title.lower().split()\n"
   ]
  },
  {
   "cell_type": "markdown",
   "id": "028caf7e",
   "metadata": {},
   "source": [
    "___"
   ]
  },
  {
   "cell_type": "code",
   "execution_count": 10,
   "id": "929f07d9",
   "metadata": {},
   "outputs": [],
   "source": [
    "from gensim.models.word2vec import LineSentence\n",
    "from gensim.test.utils import datapath\n",
    "\n",
    "# with open(input_wiki_file, 'r', encoding='utf-8') as f:\n",
    "#     content = f.read()\n",
    "# content = tokenize(content)\n",
    "\n",
    "# sentences = LineSentence(content)\n",
    "\n",
    "sentences = LineSentence(input_wiki_file)\n"
   ]
  },
  {
   "cell_type": "code",
   "execution_count": 11,
   "id": "5db6b0ff",
   "metadata": {},
   "outputs": [],
   "source": [
    "from gensim.models import Word2Vec\n",
    "\n",
    "model_basic = Word2Vec(sentences=sentences, vector_size=100, window=5, min_count=1, workers=6)\n",
    "model_basic.save(\"output/model_basic_links_only.w2v\")\n"
   ]
  },
  {
   "cell_type": "markdown",
   "id": "8bb468ce",
   "metadata": {},
   "source": [
    "___"
   ]
  },
  {
   "cell_type": "code",
   "execution_count": 12,
   "id": "53f51332",
   "metadata": {},
   "outputs": [],
   "source": [
    "with open(input_wiki_file, \"r\", encoding=\"utf-8\") as f:\n",
    "    original_pairs = [line.strip().lower().split() for line in f]\n",
    "\n",
    "original_pairs = [pair for pair in original_pairs if len(pair) == 2]\n"
   ]
  },
  {
   "cell_type": "code",
   "execution_count": 13,
   "id": "6aad48a7",
   "metadata": {},
   "outputs": [],
   "source": [
    "from collections import Counter\n",
    "import itertools\n",
    "\n",
    "title_tokens = [tokenize(t) for pair in original_pairs for t in pair]\n",
    "word_counter = Counter(itertools.chain.from_iterable(title_tokens))\n"
   ]
  },
  {
   "cell_type": "code",
   "execution_count": 14,
   "id": "92d857f7",
   "metadata": {},
   "outputs": [],
   "source": [
    "def get_valuable_bigrams(token_lists, min_count=5, delta=0.5, top_n=1000):\n",
    "    \"\"\"\n",
    "    Finds valuable bigrams in a corpus of tokenized sentences\n",
    "    Returns a set of bigrams to merge (as tuples)\n",
    "    \"\"\"\n",
    "    from collections import Counter\n",
    "    import itertools\n",
    "\n",
    "    # count unigrams and bigrams\n",
    "    unigram_counts = Counter(itertools.chain.from_iterable(token_lists))\n",
    "    bigram_counts = Counter(itertools.chain.from_iterable(\n",
    "        zip(tokens, tokens[1:]) for tokens in token_lists if len(tokens) > 1\n",
    "    ))\n",
    "\n",
    "    # compute bigram scores\n",
    "    scores = {}\n",
    "    for (w1, w2), bigram_count in bigram_counts.items():\n",
    "        if unigram_counts[w1] > 0 and unigram_counts[w2] > 0 and bigram_count >= min_count:\n",
    "            score = (bigram_count - delta) / (unigram_counts[w1] * unigram_counts[w2])\n",
    "            scores[(w1, w2)] = score\n",
    "\n",
    "    # select top_n bigrams by score\n",
    "    valuable_bigrams = set(sorted(scores, key=scores.get, reverse=True)[:top_n])\n",
    "    return valuable_bigrams\n",
    "\n",
    "def merge_bigrams(tokens, bigrams_to_merge):\n",
    "    \"\"\"\n",
    "    Replaces valuable bigrams in a token list with a single token joined by '_'\n",
    "    \"\"\"\n",
    "    i = 0\n",
    "    merged = []\n",
    "    while i < len(tokens):\n",
    "        if i < len(tokens) - 1 and (tokens[i], tokens[i+1]) in bigrams_to_merge:\n",
    "            merged.append(f\"{tokens[i]}_{tokens[i+1]}\")\n",
    "            i += 2\n",
    "        else:\n",
    "            merged.append(tokens[i])\n",
    "            i += 1\n",
    "    return merged\n",
    "\n",
    "def get_bigrams(tokens):\n",
    "    \"\"\"\n",
    "    Returns a list of bigrams (as tuples) from a list of tokens\n",
    "    \"\"\"\n",
    "    if len(tokens) < 2:\n",
    "        return []\n",
    "    return list(zip(tokens, tokens[1:]))\n"
   ]
  },
  {
   "cell_type": "code",
   "execution_count": 15,
   "id": "8b0b03d7",
   "metadata": {},
   "outputs": [],
   "source": [
    "# valuable_bigrams = get_valuable_bigrams(title_tokens, min_count=5, delta=0.5, top_n=1000)\n",
    "# merged_title_tokens = [merge_bigrams(tokens, valuable_bigrams) for tokens in title_tokens]\n",
    "\n",
    "bigram_counter = Counter(itertools.chain.from_iterable(\n",
    "    [get_bigrams(t) for t in title_tokens]\n",
    "))"
   ]
  },
  {
   "cell_type": "code",
   "execution_count": 16,
   "id": "f8f766c4",
   "metadata": {},
   "outputs": [],
   "source": [
    "RARE_THRESHOLD = 10\n",
    "rare_words = set(w for w, c in word_counter.items() if c <= RARE_THRESHOLD)\n",
    "rare_bigrams = set(b for b, c in bigram_counter.items() if c <= RARE_THRESHOLD)\n"
   ]
  },
  {
   "cell_type": "code",
   "execution_count": 17,
   "id": "390aa691",
   "metadata": {},
   "outputs": [],
   "source": [
    "from itertools import combinations\n",
    "\n",
    "title_to_tokens = {t: tokenize(t) for t in set(\n",
    "    itertools.chain.from_iterable(original_pairs)\n",
    ")}\n",
    "title_list = list(title_to_tokens.keys())\n",
    "\n",
    "# --- index of titles by rare features ---\n",
    "# for rare word get titles containing it\n",
    "word_index = {}\n",
    "for title, tokens in title_to_tokens.items():\n",
    "    # get rare tokens from title\n",
    "    features = set(tokens).intersection(rare_words)\n",
    "    for f in features:\n",
    "        word_index.setdefault(f, set()).add(title)\n",
    "\n",
    "# for rare bigram get titles containing it\n",
    "bigram_index = {}\n",
    "for title, tokens in title_to_tokens.items():\n",
    "    features = set(get_bigrams(tokens)).intersection(rare_bigrams)\n",
    "    for b in features:\n",
    "        bigram_index.setdefault(b, set()).add(title)\n",
    "\n",
    "# create set of related pairs\n",
    "related_pairs = set()\n",
    "for index in (word_index, bigram_index):\n",
    "    for titles in index.values():\n",
    "        for a, b in combinations(titles, 2):\n",
    "            related_pairs.add((a, b))\n"
   ]
  },
  {
   "cell_type": "code",
   "execution_count": 18,
   "id": "3c66e843",
   "metadata": {},
   "outputs": [],
   "source": [
    "# combine/mix original pairs/sentences with related pairs\n",
    "combined_pairs = original_pairs + list(related_pairs)\n",
    "combined_sentences = [tokenize(a) + tokenize(b) for a, b in combined_pairs]\n"
   ]
  },
  {
   "cell_type": "code",
   "execution_count": 19,
   "id": "fa0a071e",
   "metadata": {},
   "outputs": [],
   "source": [
    "model_mixed = Word2Vec(sentences=combined_sentences, vector_size=100, window=5, min_count=1, workers=6)\n",
    "model_mixed.save(\"output/model_mixed_links_plus_related.w2v\")\n"
   ]
  },
  {
   "cell_type": "markdown",
   "id": "09778115",
   "metadata": {},
   "source": [
    "___"
   ]
  },
  {
   "cell_type": "code",
   "execution_count": 20,
   "id": "e0248e48",
   "metadata": {},
   "outputs": [],
   "source": [
    "from sklearn.decomposition import PCA\n",
    "import matplotlib.pyplot as plt\n",
    "\n",
    "def visualize(model, title_tokens, num=100):\n",
    "    words = list(title_tokens.keys())[:num]\n",
    "    words_with_vectors = [' '.join(tokenize(w)) for w in words if ' '.join(tokenize(w)) in model.wv]\n",
    "    orig_words = [w for w in words if ' '.join(tokenize(w)) in model.wv]\n",
    "    vectors = [model.wv[w] for w in words_with_vectors]\n",
    "    reduced = PCA(n_components=2).fit_transform(vectors)\n",
    "\n",
    "    plt.figure(figsize=(10, 10))\n",
    "    for i, word in enumerate(orig_words):\n",
    "        plt.scatter(reduced[i, 0], reduced[i, 1])\n",
    "        plt.text(reduced[i, 0], reduced[i, 1], word, fontsize=9)\n",
    "    plt.title(\"PCA of title vectors\")\n",
    "    plt.grid(True)\n",
    "    plt.show()\n"
   ]
  },
  {
   "cell_type": "code",
   "execution_count": 21,
   "id": "41ed1e59",
   "metadata": {},
   "outputs": [
    {
     "data": {
      "image/png": "[encoded data removed]",
      "text/plain": [
       "<Figure size 1000x1000 with 1 Axes>"
      ]
     },
     "metadata": {},
     "output_type": "display_data"
    },
    {
     "data": {
      "image/png": "[encoded data removed]",
      "text/plain": [
       "<Figure size 1000x1000 with 1 Axes>"
      ]
     },
     "metadata": {},
     "output_type": "display_data"
    }
   ],
   "source": [
    "visualize(model_basic, title_to_tokens)\n",
    "visualize(model_mixed, title_to_tokens)"
   ]
  },
  {
   "cell_type": "code",
   "execution_count": 22,
   "id": "4507f834",
   "metadata": {},
   "outputs": [
    {
     "name": "stdout",
     "output_type": "stream",
     "text": [
      "Similar words from model_basic:\n",
      "\n",
      "science:\n",
      "  mars (0.975)\n",
      "  charles_darwin (0.974)\n",
      "  astronomy (0.973)\n",
      "  orbit (0.972)\n",
      "  biology (0.970)\n",
      "\n",
      "history:\n",
      "  culture (0.987)\n",
      "  war (0.984)\n",
      "  christian (0.983)\n",
      "  americas (0.982)\n",
      "  caribbean (0.981)\n",
      "\n",
      "computer:\n",
      "  genetics (0.942)\n",
      "  female (0.935)\n",
      "  gas (0.929)\n",
      "  dog (0.928)\n",
      "  galaxy (0.924)\n",
      "\n",
      "music:\n",
      "  rock_and_roll (0.961)\n",
      "  book (0.957)\n",
      "  electric_guitar (0.956)\n",
      "  song (0.955)\n",
      "  internet (0.953)\n",
      "\n",
      "Similar words from model_mixed:\n",
      "\n",
      "science:\n",
      "  technology (0.588)\n",
      "  scientific (0.540)\n",
      "  society (0.535)\n",
      "  astronautical (0.527)\n",
      "  children (0.523)\n",
      "\n",
      "history:\n",
      "  politics (0.629)\n",
      "  geography (0.627)\n",
      "  demographics (0.620)\n",
      "  economy (0.606)\n",
      "  subfields (0.575)\n",
      "\n",
      "computer:\n",
      "  computing (0.691)\n",
      "  audio (0.586)\n",
      "  application (0.583)\n",
      "  laptop (0.569)\n",
      "  interface (0.565)\n",
      "\n",
      "music:\n",
      "  musical (0.654)\n",
      "  grammy (0.597)\n",
      "  dance (0.570)\n",
      "  albums (0.564)\n",
      "  indie (0.554)\n"
     ]
    }
   ],
   "source": [
    "def display_similar_words(word, model, topn=5):\n",
    "    if word in model.wv:\n",
    "        print(f\"\\n{word}:\")\n",
    "        for sim_word, score in model.wv.most_similar(word, topn=topn):\n",
    "            print(f\"  {sim_word} ({score:.3f})\")\n",
    "    else:\n",
    "        print(f\"\\n{word}: not in vocabulary\")\n",
    "\n",
    "example_words = [\"science\", \"history\", \"computer\", \"music\"]\n",
    "\n",
    "print(\"Similar words from model_basic:\")\n",
    "for word in example_words:\n",
    "    display_similar_words(word, model_basic)\n",
    "\n",
    "print(\"\\nSimilar words from model_mixed:\")\n",
    "for word in example_words:\n",
    "    display_similar_words(word, model_mixed)\n"
   ]
  }
 ],
 "metadata": {
  "kernelspec": {
   "display_name": "Python 3",
   "language": "python",
   "name": "python3"
  },
  "language_info": {
   "codemirror_mode": {
    "name": "ipython",
    "version": 3
   },
   "file_extension": ".py",
   "mimetype": "text/x-python",
   "name": "python",
   "nbconvert_exporter": "python",
   "pygments_lexer": "ipython3",
   "version": "3.12.8"
  }
 },
 "nbformat": 4,
 "nbformat_minor": 5
}
