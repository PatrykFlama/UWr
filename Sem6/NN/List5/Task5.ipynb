{
 "cells": [
  {
   "cell_type": "markdown",
   "id": "dd226815",
   "metadata": {},
   "source": [
    "# Task 5: Language Model [5p]"
   ]
  },
  {
   "cell_type": "markdown",
   "id": "013f1871",
   "metadata": {},
   "source": [
    "Build a basic language model using a publicly available text dataset. You'll experiment with RNN-based architectures (Simple RNN, LSTM, GRU) to learn how they model sequences.\n",
    "\n",
    "### **Part 1: Dataset Download & Preparation (1 point)**\n",
    "\n",
    "**Tasks:**\n",
    "\n",
    "* Download a publicly available dataset, e.g., *Alice’s Adventures in Wonderland* from Project Gutenberg.\n",
    "  * Use requests or a dataset API like torchtext.datasets.\n",
    "* Preprocess the text:\n",
    "  * Lowercase, remove non-alphabetic characters.\n",
    "  * Tokenize into words (use nltk or spaCy).\n",
    "  * Build a vocabulary, keeping frequent words (e.g., top 10k).\n",
    "* Use **pretrained word embeddings** (e.g., GloVe 100d or FastText):\n",
    "  * Load with torchtext.vocab, gensim, or similar.\n",
    "  * Initialize the embedding layer with pretrained vectors.\n",
    "\n",
    "\n",
    "### **Part 2: Build a Recurrent Language Model (1 point)**\n",
    "\n",
    "**Tasks:**\n",
    "\n",
    "* Implement a word-level language model using:\n",
    "  * Pretrained embedding layer (frozen or trainable).\n",
    "  * A single-layer **Simple RNN**.\n",
    "  * A fully connected output layer with softmax.\n",
    "\n",
    "### **Part 3: Train the Model (1 point)**\n",
    "\n",
    "**Tasks:**\n",
    "\n",
    "* Use cross-entropy loss.\n",
    "* Predict the next word from a sequence.\n",
    "* Use teacher forcing and batching.\n",
    "* Plot training loss over time.\n",
    "\n",
    "### **Part 4: Generate Text (1 point)**\n",
    "\n",
    "**Tasks:**\n",
    "\n",
    "* Given a seed sequence, generate text of specified length.\n",
    "* Use **temperature sampling** to vary creativity.\n",
    "* Try different temperatures and compare.\n",
    "\n",
    "### **Part 5: Evaluation & Reflection (1 point) -> W&B report**\n",
    "\n",
    "**Tasks:**\n",
    "\n",
    "* Evaluate model outputs: does it learn sentence structure?\n",
    "* Reflect on limitations of the Simple RNN and its behavior on longer sequences.\n",
    "\n",
    "### **Bonus Section (Up to +2 Points): Model Comparison**\n",
    "\n",
    "Compare the performance of three models:\n",
    "\n",
    "\n",
    "1. Simple RNN\n",
    "2. LSTM\n",
    "3. GRU\n",
    "\n",
    "**Tasks:**\n",
    "\n",
    "* Implement the same model architecture but switch out the recurrent layer.\n",
    "* Train all three models under the same conditions.\n",
    "* Record and compare:\n",
    "  * Training time\n",
    "  * Final loss\n",
    "  * Generated text quality\n",
    "* (Optional) Add dropout to recurrent layers and observe effects.\n",
    "* Summarize findings in a table or chart."
   ]
  },
  {
   "cell_type": "markdown",
   "id": "99352163",
   "metadata": {},
   "source": [
    "## App1"
   ]
  },
  {
   "cell_type": "code",
   "execution_count": 79,
   "id": "5ba63f7a",
   "metadata": {},
   "outputs": [],
   "source": [
    "URL = \"https://www.gutenberg.org/cache/epub/11/pg11.txt\"\n",
    "MAX_VOCAB_SIZE = 10000\n",
    "EMBEDDING_DIM = 100\n",
    "HIDDEN_SIZE = 128\n",
    "BATCH_SIZE = 64\n",
    "SEQ_LEN = 30\n",
    "DATA_PATH = \"alice_ds.pt\"\n",
    "MODEL_PATH = \"alice_model.pt\""
   ]
  },
  {
   "cell_type": "code",
   "execution_count": 83,
   "id": "665ef6e7",
   "metadata": {},
   "outputs": [
    {
     "name": "stderr",
     "output_type": "stream",
     "text": [
      "[nltk_data] Downloading package punkt to\n",
      "[nltk_data]     C:\\Users\\patry\\AppData\\Roaming\\nltk_data...\n",
      "[nltk_data]   Package punkt is already up-to-date!\n"
     ]
    },
    {
     "data": {
      "text/plain": [
       "True"
      ]
     },
     "execution_count": 83,
     "metadata": {},
     "output_type": "execute_result"
    }
   ],
   "source": [
    "import requests\n",
    "import re\n",
    "import nltk\n",
    "import torch\n",
    "import numpy as np\n",
    "from collections import Counter\n",
    "import gensim.downloader as api\n",
    "from nltk.tokenize import word_tokenize\n",
    "from tqdm import tqdm\n",
    "import torch.nn as nn\n",
    "from torch.utils.data import Dataset, DataLoader\n",
    "import torch.optim as optim\n",
    "import matplotlib.pyplot as plt\n",
    "import wandb\n",
    "\n",
    "_device = torch.device(\"cuda\" if torch.cuda.is_available() else \"cpu\")\n",
    "\n",
    "# NLTK punkt tokenizer\n",
    "nltk.download('punkt')\n",
    "\n",
    "wandb.login()"
   ]
  },
  {
   "cell_type": "markdown",
   "id": "60a465de",
   "metadata": {},
   "source": [
    "### Dataset Download & Preparation"
   ]
  },
  {
   "cell_type": "code",
   "execution_count": 36,
   "id": "4c9499b9",
   "metadata": {},
   "outputs": [],
   "source": [
    "# download the dataset\n",
    "response = requests.get(URL)\n",
    "text = response.text"
   ]
  },
  {
   "cell_type": "code",
   "execution_count": 37,
   "id": "2432d90e",
   "metadata": {},
   "outputs": [],
   "source": [
    "# preprocess text\n",
    "def preprocess(text):\n",
    "    # lowercase, remove non-alphnum characters, tokenize\n",
    "    text = text.lower()\n",
    "    text = re.sub(r\"[^a-z\\s]\", \"\", text)\n",
    "    tokens = word_tokenize(text)\n",
    "    return tokens\n",
    "\n",
    "tokens = preprocess(text)"
   ]
  },
  {
   "cell_type": "code",
   "execution_count": 38,
   "id": "b8da400c",
   "metadata": {},
   "outputs": [],
   "source": [
    "# build vocab (top 10k frequent words)\n",
    "specials = [\"<unk>\", \"<pad>\"]\n",
    "counter = Counter(tokens)\n",
    "most_common = counter.most_common(MAX_VOCAB_SIZE - len(specials))  # reserve space for special tokens\n",
    "vocab = {word: idx + len(specials) for idx, (word, _) in enumerate(most_common)}\n",
    "\n",
    "for idx, special in enumerate(specials):\n",
    "    vocab[special] = idx\n",
    "\n",
    "inv_vocab = {idx: word for word, idx in vocab.items()}"
   ]
  },
  {
   "cell_type": "code",
   "execution_count": 39,
   "id": "ad8bda83",
   "metadata": {},
   "outputs": [],
   "source": [
    "# convert tokens to id\n",
    "token_ids = [vocab.get(word, vocab[\"<unk>\"]) for word in tokens]"
   ]
  },
  {
   "cell_type": "code",
   "execution_count": 40,
   "id": "107a59b9",
   "metadata": {},
   "outputs": [
    {
     "name": "stderr",
     "output_type": "stream",
     "text": [
      "Initializing embeddings: 100%|██████████| 3193/3193 [00:00<00:00, 58046.67it/s]"
     ]
    },
    {
     "name": "stdout",
     "output_type": "stream",
     "text": [
      "257 words not found in pretrained model:\n",
      "['alices', 'itll', 'hadnt', 'soooop', 'youve', 'breadandbutter', 'wwwgutenbergorg', 'shouldnt', 'jurymen', 'rabbithole']\n",
      "Vocab size: 3193\n",
      "Sample tokens: ['the', 'project', 'gutenberg', 'ebook', 'of', 'alices', 'adventures', 'in', 'wonderland', 'this']\n"
     ]
    },
    {
     "name": "stderr",
     "output_type": "stream",
     "text": [
      "\n"
     ]
    }
   ],
   "source": [
    "# load pretrained embeddings\n",
    "# pretrained = api.load(\"fasttext-wiki-news-subwords-300\")\n",
    "pretrained = api.load(\"glove-wiki-gigaword-100\")\n",
    "# pretrained = api.load(\"glove-twitter-100\")\n",
    "\n",
    "embedding_matrix = torch.randn(len(vocab), EMBEDDING_DIM)\n",
    "embedding_matrix[specials.index(\"<pad>\")] = torch.zeros(EMBEDDING_DIM)\n",
    "\n",
    "# initialize embedding weights\n",
    "not_found_words = []\n",
    "for word, idx in tqdm(vocab.items(), desc=\"Initializing embeddings\"):\n",
    "    if word in pretrained.key_to_index:\n",
    "        embedding_matrix[idx] = torch.tensor(pretrained[word])\n",
    "    else:\n",
    "        embedding_matrix[idx] = torch.randn(EMBEDDING_DIM) * 0.01\n",
    "        not_found_words.append(word)\n",
    "\n",
    "print(f\"{len(not_found_words)} words not found in pretrained model:\")\n",
    "print(not_found_words[:10])\n",
    "print(\"Vocab size:\", len(vocab))\n",
    "print(\"Sample tokens:\", tokens[:10])"
   ]
  },
  {
   "cell_type": "code",
   "execution_count": null,
   "id": "b8e027c7",
   "metadata": {},
   "outputs": [],
   "source": [
    "# save the dataset\n",
    "torch.save({\n",
    "    'token_ids': token_ids,\n",
    "    'vocab': vocab,\n",
    "    'inv_vocab': inv_vocab,\n",
    "    'embedding_matrix': embedding_matrix\n",
    "}, DATA_PATH)"
   ]
  },
  {
   "cell_type": "code",
   "execution_count": null,
   "id": "13e08008",
   "metadata": {},
   "outputs": [],
   "source": [
    "# load the dataset\n",
    "loaded_data = torch.load(DATA_PATH)\n",
    "token_ids = loaded_data['token_ids']\n",
    "vocab = loaded_data['vocab']\n",
    "inv_vocab = loaded_data['inv_vocab']\n",
    "embedding_matrix = loaded_data['embedding_matrix']"
   ]
  },
  {
   "cell_type": "markdown",
   "id": "7fc21364",
   "metadata": {},
   "source": [
    "### Build a Recurrent Language Model"
   ]
  },
  {
   "cell_type": "code",
   "execution_count": 84,
   "id": "1b4c6c96",
   "metadata": {},
   "outputs": [],
   "source": [
    "vocab_size = len(vocab)\n",
    "\n",
    "class RNNLanguageModel(nn.Module):\n",
    "    def __init__(self, vocab_size, embedding_dim, hidden_dim, rnn_type='RNN', embedding_matrix=None, dropout=0.0):\n",
    "        super().__init__()\n",
    "        self.embedding = nn.Embedding(vocab_size, embedding_dim, padding_idx=0)\n",
    "        if embedding_matrix is not None:\n",
    "            self.embedding.weight.data.copy_(embedding_matrix)\n",
    "            self.embedding.weight.requires_grad = False  # freeze if needed\n",
    "\n",
    "        rnn_cls = {'RNN': nn.RNN, 'LSTM': nn.LSTM, 'GRU': nn.GRU}[rnn_type]\n",
    "        self.rnn = rnn_cls(embedding_dim, hidden_dim, batch_first=True, dropout=dropout)\n",
    "        self.fc = nn.Linear(hidden_dim, vocab_size)\n",
    "\n",
    "    def forward(self, x, hidden=None):\n",
    "        x = self.embedding(x)\n",
    "        output, hidden = self.rnn(x, hidden)\n",
    "        output = self.fc(output)\n",
    "        return output, hidden"
   ]
  },
  {
   "cell_type": "markdown",
   "id": "87144a91",
   "metadata": {},
   "source": [
    "### Train the Model"
   ]
  },
  {
   "cell_type": "code",
   "execution_count": 50,
   "id": "dce05ee3",
   "metadata": {},
   "outputs": [],
   "source": [
    "class WordDataset(Dataset):\n",
    "    def __init__(self, token_ids, seq_len):\n",
    "        self.inputs = []\n",
    "        self.targets = []\n",
    "        for i in range(len(token_ids) - seq_len):\n",
    "            self.inputs.append(token_ids[i:i+seq_len])\n",
    "            self.targets.append(token_ids[i+1:i+seq_len+1])  # predict next word\n",
    "\n",
    "    def __len__(self):\n",
    "        return len(self.inputs)\n",
    "\n",
    "    def __getitem__(self, idx):\n",
    "        return torch.tensor(self.inputs[idx]), torch.tensor(self.targets[idx])\n"
   ]
  },
  {
   "cell_type": "code",
   "execution_count": 51,
   "id": "2111fc4d",
   "metadata": {},
   "outputs": [],
   "source": [
    "dataset = WordDataset(token_ids, SEQ_LEN)\n",
    "dataloader = DataLoader(dataset, batch_size=BATCH_SIZE, shuffle=True)"
   ]
  },
  {
   "cell_type": "code",
   "execution_count": 85,
   "id": "8b13c83b",
   "metadata": {},
   "outputs": [],
   "source": [
    "def train_model(rnn_type: str, num_epochs=100, lr=0.001):\n",
    "    print(f\"\\nTraining model with {rnn_type}...\")\n",
    "\n",
    "    model = RNNLanguageModel(\n",
    "        vocab_size=len(vocab),\n",
    "        embedding_dim=EMBEDDING_DIM,\n",
    "        hidden_dim=HIDDEN_SIZE,\n",
    "        rnn_type=rnn_type,\n",
    "        embedding_matrix=embedding_matrix\n",
    "    ).to(_device)\n",
    "\n",
    "    criterion = nn.CrossEntropyLoss()\n",
    "    optimizer = optim.Adam(model.parameters(), lr=lr)\n",
    "    loss_history = []\n",
    "\n",
    "    wandb.init(\n",
    "        project=\"NNList5\",\n",
    "        name=f\"{rnn_type}-run\",\n",
    "        config={\n",
    "            \"architecture\": rnn_type,\n",
    "            \"dataset\": \"Alice in Wonderland\",\n",
    "            \"epochs\": num_epochs,\n",
    "            \"batch_size\": BATCH_SIZE,\n",
    "            \"embedding_dim\": EMBEDDING_DIM,\n",
    "            \"hidden_dim\": HIDDEN_SIZE,\n",
    "            \"seq_len\": SEQ_LEN,\n",
    "            \"learning_rate\": lr,\n",
    "        }\n",
    "    )\n",
    "\n",
    "    for epoch in tqdm(range(num_epochs), desc=f\"{rnn_type} Training Epochs\", position=0):\n",
    "        model.train()\n",
    "        total_loss = 0\n",
    "\n",
    "        for inputs, targets in dataloader:\n",
    "            inputs, targets = inputs.to(_device), targets.to(_device)\n",
    "\n",
    "            optimizer.zero_grad()\n",
    "            output, _ = model(inputs)\n",
    "\n",
    "            loss = criterion(output.view(-1, len(vocab)), targets.view(-1))\n",
    "            loss.backward()\n",
    "            optimizer.step()\n",
    "\n",
    "            total_loss += loss.item()\n",
    "            wandb.log({\"batch_loss\": loss.item()})\n",
    "\n",
    "        avg_loss = total_loss / len(dataloader)\n",
    "        loss_history.append(avg_loss)\n",
    "        wandb.log({\"epoch\": epoch + 1, \"loss\": avg_loss})\n",
    "\n",
    "    wandb.finish()\n",
    "    return model, loss_history\n"
   ]
  },
  {
   "cell_type": "code",
   "execution_count": 86,
   "id": "478f9d34",
   "metadata": {},
   "outputs": [
    {
     "name": "stdout",
     "output_type": "stream",
     "text": [
      "\n",
      "Training model with RNN...\n"
     ]
    },
    {
     "data": {
      "text/html": [
       "Tracking run with wandb version 0.19.11"
      ],
      "text/plain": [
       "<IPython.core.display.HTML object>"
      ]
     },
     "metadata": {},
     "output_type": "display_data"
    },
    {
     "data": {
      "text/html": [
       "Run data is saved locally in <code>d:\\SharedData\\Documents\\Programming\\UWr\\Sem6\\NN\\List5\\wandb\\run-20250531_220333-z9tgljgr</code>"
      ],
      "text/plain": [
       "<IPython.core.display.HTML object>"
      ]
     },
     "metadata": {},
     "output_type": "display_data"
    },
    {
     "data": {
      "text/html": [
       "Syncing run <strong><a href='https://wandb.ai/fejowo5522-/NNList5/runs/z9tgljgr' target=\"_blank\">RNN-run</a></strong> to <a href='https://wandb.ai/fejowo5522-/NNList5' target=\"_blank\">Weights & Biases</a> (<a href='https://wandb.me/developer-guide' target=\"_blank\">docs</a>)<br>"
      ],
      "text/plain": [
       "<IPython.core.display.HTML object>"
      ]
     },
     "metadata": {},
     "output_type": "display_data"
    },
    {
     "data": {
      "text/html": [
       " View project at <a href='https://wandb.ai/fejowo5522-/NNList5' target=\"_blank\">https://wandb.ai/fejowo5522-/NNList5</a>"
      ],
      "text/plain": [
       "<IPython.core.display.HTML object>"
      ]
     },
     "metadata": {},
     "output_type": "display_data"
    },
    {
     "data": {
      "text/html": [
       " View run at <a href='https://wandb.ai/fejowo5522-/NNList5/runs/z9tgljgr' target=\"_blank\">https://wandb.ai/fejowo5522-/NNList5/runs/z9tgljgr</a>"
      ],
      "text/plain": [
       "<IPython.core.display.HTML object>"
      ]
     },
     "metadata": {},
     "output_type": "display_data"
    },
    {
     "name": "stderr",
     "output_type": "stream",
     "text": [
      "RNN Training Epochs: 100%|██████████| 100/100 [03:01<00:00,  1.81s/it]\n"
     ]
    },
    {
     "data": {
      "text/html": [],
      "text/plain": [
       "<IPython.core.display.HTML object>"
      ]
     },
     "metadata": {},
     "output_type": "display_data"
    },
    {
     "data": {
      "text/html": [
       "<br>    <style><br>        .wandb-row {<br>            display: flex;<br>            flex-direction: row;<br>            flex-wrap: wrap;<br>            justify-content: flex-start;<br>            width: 100%;<br>        }<br>        .wandb-col {<br>            display: flex;<br>            flex-direction: column;<br>            flex-basis: 100%;<br>            flex: 1;<br>            padding: 10px;<br>        }<br>    </style><br><div class=\"wandb-row\"><div class=\"wandb-col\"><h3>Run history:</h3><br/><table class=\"wandb\"><tr><td>batch_loss</td><td>█▆▅▅▅▃▃▃▂▂▂▂▂▁▁▁▁▁▂▁▁▁▁▂▁▁▁▁▁▁▁▁▁▁▁▁▁▁▁▁</td></tr><tr><td>epoch</td><td>▁▁▁▁▂▂▂▂▂▃▃▃▃▃▃▃▄▄▄▄▄▄▅▅▅▅▅▅▅▆▆▆▆▆▆▇▇▇▇█</td></tr><tr><td>loss</td><td>█▄▄▃▃▃▃▂▂▂▂▂▂▂▂▁▁▁▁▁▁▁▁▁▁▁▁▁▁▁▁▁▁▁▁▁▁▁▁▁</td></tr></table><br/></div><div class=\"wandb-col\"><h3>Run summary:</h3><br/><table class=\"wandb\"><tr><td>batch_loss</td><td>1.08715</td></tr><tr><td>epoch</td><td>100</td></tr><tr><td>loss</td><td>1.08399</td></tr></table><br/></div></div>"
      ],
      "text/plain": [
       "<IPython.core.display.HTML object>"
      ]
     },
     "metadata": {},
     "output_type": "display_data"
    },
    {
     "data": {
      "text/html": [
       " View run <strong style=\"color:#cdcd00\">RNN-run</strong> at: <a href='https://wandb.ai/fejowo5522-/NNList5/runs/z9tgljgr' target=\"_blank\">https://wandb.ai/fejowo5522-/NNList5/runs/z9tgljgr</a><br> View project at: <a href='https://wandb.ai/fejowo5522-/NNList5' target=\"_blank\">https://wandb.ai/fejowo5522-/NNList5</a><br>Synced 5 W&B file(s), 0 media file(s), 0 artifact file(s) and 0 other file(s)"
      ],
      "text/plain": [
       "<IPython.core.display.HTML object>"
      ]
     },
     "metadata": {},
     "output_type": "display_data"
    },
    {
     "data": {
      "text/html": [
       "Find logs at: <code>.\\wandb\\run-20250531_220333-z9tgljgr\\logs</code>"
      ],
      "text/plain": [
       "<IPython.core.display.HTML object>"
      ]
     },
     "metadata": {},
     "output_type": "display_data"
    },
    {
     "data": {
      "image/png": "[encoded data removed]",
      "text/plain": [
       "<Figure size 640x480 with 1 Axes>"
      ]
     },
     "metadata": {},
     "output_type": "display_data"
    },
    {
     "name": "stdout",
     "output_type": "stream",
     "text": [
      "\n",
      "Training model with LSTM...\n"
     ]
    },
    {
     "data": {
      "text/html": [
       "Tracking run with wandb version 0.19.11"
      ],
      "text/plain": [
       "<IPython.core.display.HTML object>"
      ]
     },
     "metadata": {},
     "output_type": "display_data"
    },
    {
     "data": {
      "text/html": [
       "Run data is saved locally in <code>d:\\SharedData\\Documents\\Programming\\UWr\\Sem6\\NN\\List5\\wandb\\run-20250531_220636-uuofzucy</code>"
      ],
      "text/plain": [
       "<IPython.core.display.HTML object>"
      ]
     },
     "metadata": {},
     "output_type": "display_data"
    },
    {
     "data": {
      "text/html": [
       "Syncing run <strong><a href='https://wandb.ai/fejowo5522-/NNList5/runs/uuofzucy' target=\"_blank\">LSTM-run</a></strong> to <a href='https://wandb.ai/fejowo5522-/NNList5' target=\"_blank\">Weights & Biases</a> (<a href='https://wandb.me/developer-guide' target=\"_blank\">docs</a>)<br>"
      ],
      "text/plain": [
       "<IPython.core.display.HTML object>"
      ]
     },
     "metadata": {},
     "output_type": "display_data"
    },
    {
     "data": {
      "text/html": [
       " View project at <a href='https://wandb.ai/fejowo5522-/NNList5' target=\"_blank\">https://wandb.ai/fejowo5522-/NNList5</a>"
      ],
      "text/plain": [
       "<IPython.core.display.HTML object>"
      ]
     },
     "metadata": {},
     "output_type": "display_data"
    },
    {
     "data": {
      "text/html": [
       " View run at <a href='https://wandb.ai/fejowo5522-/NNList5/runs/uuofzucy' target=\"_blank\">https://wandb.ai/fejowo5522-/NNList5/runs/uuofzucy</a>"
      ],
      "text/plain": [
       "<IPython.core.display.HTML object>"
      ]
     },
     "metadata": {},
     "output_type": "display_data"
    },
    {
     "name": "stderr",
     "output_type": "stream",
     "text": [
      "LSTM Training Epochs: 100%|██████████| 100/100 [03:24<00:00,  2.04s/it]\n"
     ]
    },
    {
     "data": {
      "text/html": [],
      "text/plain": [
       "<IPython.core.display.HTML object>"
      ]
     },
     "metadata": {},
     "output_type": "display_data"
    },
    {
     "data": {
      "text/html": [
       "<br>    <style><br>        .wandb-row {<br>            display: flex;<br>            flex-direction: row;<br>            flex-wrap: wrap;<br>            justify-content: flex-start;<br>            width: 100%;<br>        }<br>        .wandb-col {<br>            display: flex;<br>            flex-direction: column;<br>            flex-basis: 100%;<br>            flex: 1;<br>            padding: 10px;<br>        }<br>    </style><br><div class=\"wandb-row\"><div class=\"wandb-col\"><h3>Run history:</h3><br/><table class=\"wandb\"><tr><td>batch_loss</td><td>█▅▅▅▅▄▄▃▂▂▂▂▂▂▂▁▁▁▁▁▁▁▁▁▁▁▁▁▁▁▁▁▁▁▁▁▁▁▁▁</td></tr><tr><td>epoch</td><td>▁▁▁▁▁▂▂▂▂▂▃▃▃▃▃▄▄▄▄▄▄▄▅▅▅▅▅▆▆▆▇▇▇▇▇▇▇▇██</td></tr><tr><td>loss</td><td>█▇▇▅▄▂▂▂▂▂▂▂▂▁▁▁▁▁▁▁▁▁▁▁▁▁▁▁▁▁▁▁▁▁▁▁▁▁▁▁</td></tr></table><br/></div><div class=\"wandb-col\"><h3>Run summary:</h3><br/><table class=\"wandb\"><tr><td>batch_loss</td><td>0.36919</td></tr><tr><td>epoch</td><td>100</td></tr><tr><td>loss</td><td>0.34791</td></tr></table><br/></div></div>"
      ],
      "text/plain": [
       "<IPython.core.display.HTML object>"
      ]
     },
     "metadata": {},
     "output_type": "display_data"
    },
    {
     "data": {
      "text/html": [
       " View run <strong style=\"color:#cdcd00\">LSTM-run</strong> at: <a href='https://wandb.ai/fejowo5522-/NNList5/runs/uuofzucy' target=\"_blank\">https://wandb.ai/fejowo5522-/NNList5/runs/uuofzucy</a><br> View project at: <a href='https://wandb.ai/fejowo5522-/NNList5' target=\"_blank\">https://wandb.ai/fejowo5522-/NNList5</a><br>Synced 5 W&B file(s), 0 media file(s), 0 artifact file(s) and 0 other file(s)"
      ],
      "text/plain": [
       "<IPython.core.display.HTML object>"
      ]
     },
     "metadata": {},
     "output_type": "display_data"
    },
    {
     "data": {
      "text/html": [
       "Find logs at: <code>.\\wandb\\run-20250531_220636-uuofzucy\\logs</code>"
      ],
      "text/plain": [
       "<IPython.core.display.HTML object>"
      ]
     },
     "metadata": {},
     "output_type": "display_data"
    },
    {
     "data": {
      "image/png": "[encoded data removed]",
      "text/plain": [
       "<Figure size 640x480 with 1 Axes>"
      ]
     },
     "metadata": {},
     "output_type": "display_data"
    },
    {
     "name": "stdout",
     "output_type": "stream",
     "text": [
      "\n",
      "Training model with GRU...\n"
     ]
    },
    {
     "data": {
      "text/html": [
       "Tracking run with wandb version 0.19.11"
      ],
      "text/plain": [
       "<IPython.core.display.HTML object>"
      ]
     },
     "metadata": {},
     "output_type": "display_data"
    },
    {
     "data": {
      "text/html": [
       "Run data is saved locally in <code>d:\\SharedData\\Documents\\Programming\\UWr\\Sem6\\NN\\List5\\wandb\\run-20250531_221002-gtir0a8j</code>"
      ],
      "text/plain": [
       "<IPython.core.display.HTML object>"
      ]
     },
     "metadata": {},
     "output_type": "display_data"
    },
    {
     "data": {
      "text/html": [
       "Syncing run <strong><a href='https://wandb.ai/fejowo5522-/NNList5/runs/gtir0a8j' target=\"_blank\">GRU-run</a></strong> to <a href='https://wandb.ai/fejowo5522-/NNList5' target=\"_blank\">Weights & Biases</a> (<a href='https://wandb.me/developer-guide' target=\"_blank\">docs</a>)<br>"
      ],
      "text/plain": [
       "<IPython.core.display.HTML object>"
      ]
     },
     "metadata": {},
     "output_type": "display_data"
    },
    {
     "data": {
      "text/html": [
       " View project at <a href='https://wandb.ai/fejowo5522-/NNList5' target=\"_blank\">https://wandb.ai/fejowo5522-/NNList5</a>"
      ],
      "text/plain": [
       "<IPython.core.display.HTML object>"
      ]
     },
     "metadata": {},
     "output_type": "display_data"
    },
    {
     "data": {
      "text/html": [
       " View run at <a href='https://wandb.ai/fejowo5522-/NNList5/runs/gtir0a8j' target=\"_blank\">https://wandb.ai/fejowo5522-/NNList5/runs/gtir0a8j</a>"
      ],
      "text/plain": [
       "<IPython.core.display.HTML object>"
      ]
     },
     "metadata": {},
     "output_type": "display_data"
    },
    {
     "name": "stderr",
     "output_type": "stream",
     "text": [
      "GRU Training Epochs: 100%|██████████| 100/100 [03:09<00:00,  1.90s/it]\n"
     ]
    },
    {
     "data": {
      "text/html": [],
      "text/plain": [
       "<IPython.core.display.HTML object>"
      ]
     },
     "metadata": {},
     "output_type": "display_data"
    },
    {
     "data": {
      "text/html": [
       "<br>    <style><br>        .wandb-row {<br>            display: flex;<br>            flex-direction: row;<br>            flex-wrap: wrap;<br>            justify-content: flex-start;<br>            width: 100%;<br>        }<br>        .wandb-col {<br>            display: flex;<br>            flex-direction: column;<br>            flex-basis: 100%;<br>            flex: 1;<br>            padding: 10px;<br>        }<br>    </style><br><div class=\"wandb-row\"><div class=\"wandb-col\"><h3>Run history:</h3><br/><table class=\"wandb\"><tr><td>batch_loss</td><td>█▆▄▄▃▃▂▂▂▂▂▂▂▂▂▁▁▁▁▁▁▁▁▁▁▁▁▁▁▁▁▁▁▁▁▁▁▁▁▁</td></tr><tr><td>epoch</td><td>▁▁▁▁▂▂▂▂▂▃▃▃▃▃▄▄▄▄▄▄▅▅▅▅▅▆▆▆▆▆▆▇▇▇▇▇▇███</td></tr><tr><td>loss</td><td>█▆▅▄▄▃▃▂▂▂▂▂▂▂▂▂▂▂▁▁▁▁▁▁▁▁▁▁▁▁▁▁▁▁▁▁▁▁▁▁</td></tr></table><br/></div><div class=\"wandb-col\"><h3>Run summary:</h3><br/><table class=\"wandb\"><tr><td>batch_loss</td><td>0.61162</td></tr><tr><td>epoch</td><td>100</td></tr><tr><td>loss</td><td>0.60924</td></tr></table><br/></div></div>"
      ],
      "text/plain": [
       "<IPython.core.display.HTML object>"
      ]
     },
     "metadata": {},
     "output_type": "display_data"
    },
    {
     "data": {
      "text/html": [
       " View run <strong style=\"color:#cdcd00\">GRU-run</strong> at: <a href='https://wandb.ai/fejowo5522-/NNList5/runs/gtir0a8j' target=\"_blank\">https://wandb.ai/fejowo5522-/NNList5/runs/gtir0a8j</a><br> View project at: <a href='https://wandb.ai/fejowo5522-/NNList5' target=\"_blank\">https://wandb.ai/fejowo5522-/NNList5</a><br>Synced 5 W&B file(s), 0 media file(s), 0 artifact file(s) and 0 other file(s)"
      ],
      "text/plain": [
       "<IPython.core.display.HTML object>"
      ]
     },
     "metadata": {},
     "output_type": "display_data"
    },
    {
     "data": {
      "text/html": [
       "Find logs at: <code>.\\wandb\\run-20250531_221002-gtir0a8j\\logs</code>"
      ],
      "text/plain": [
       "<IPython.core.display.HTML object>"
      ]
     },
     "metadata": {},
     "output_type": "display_data"
    },
    {
     "data": {
      "image/png": "[encoded data removed]",
      "text/plain": [
       "<Figure size 640x480 with 1 Axes>"
      ]
     },
     "metadata": {},
     "output_type": "display_data"
    }
   ],
   "source": [
    "models = {}\n",
    "histories = {}\n",
    "\n",
    "for model_type in [\"RNN\", \"LSTM\", \"GRU\"]:\n",
    "    model, history = train_model(model_type)\n",
    "    models[model_type] = model\n",
    "    histories[model_type] = history\n",
    "\n",
    "    plt.plot(history, label=model_type)\n",
    "    plt.xlabel(\"Epoch\")\n",
    "    plt.ylabel(\"Training Loss\")\n",
    "    plt.title(\"Training Loss over Epochs\")\n",
    "    plt.grid(True)\n",
    "    plt.show()\n"
   ]
  },
  {
   "cell_type": "code",
   "execution_count": null,
   "id": "c331a843",
   "metadata": {},
   "outputs": [],
   "source": [
    "# save the model\n",
    "# torch.save(model.state_dict(), MODEL_PATH)"
   ]
  },
  {
   "cell_type": "code",
   "execution_count": null,
   "id": "48e0af98",
   "metadata": {},
   "outputs": [],
   "source": [
    "# load the model\n",
    "# model = RNNLanguageModel(embedding_matrix, HIDDEN_SIZE, vocab_size)\n",
    "# model.load_state_dict(torch.load(MODEL_PATH))"
   ]
  },
  {
   "cell_type": "markdown",
   "id": "624b8dbd",
   "metadata": {},
   "source": [
    "### Generate Text"
   ]
  },
  {
   "cell_type": "code",
   "execution_count": 87,
   "id": "9984b279",
   "metadata": {},
   "outputs": [],
   "source": [
    "def generate_text(model, seed_text, vocab, inv_vocab, max_len=20, temperature=1.0):\n",
    "    model = model.to(_device)\n",
    "    model.eval()\n",
    "    tokens = word_tokenize(seed_text.lower())\n",
    "    tokens = [t for t in tokens if t in vocab]\n",
    "\n",
    "    if len(tokens) == 0:\n",
    "        raise ValueError(\"Seed text contains no known vocabulary words.\")\n",
    "\n",
    "    input_ids = torch.tensor([[vocab.get(t, vocab[\"<unk>\"]) for t in tokens]], dtype=torch.long).to(_device)\n",
    "\n",
    "    generated = tokens[:]\n",
    "    hidden = None\n",
    "\n",
    "    for _ in range(max_len):\n",
    "        output, hidden = model(input_ids, hidden)  # output: [1, seq_len, vocab_size]\n",
    "        last_logits = output[0, -1] / temperature\n",
    "        probs = torch.nn.functional.softmax(last_logits, dim=0).detach().cpu().numpy()\n",
    "        next_token_id = np.random.choice(len(probs), p=probs)\n",
    "        next_token = inv_vocab.get(next_token_id, \"<unk>\")\n",
    "\n",
    "        generated.append(next_token)\n",
    "        input_ids = torch.tensor([[next_token_id]], dtype=torch.long).to(_device)\n",
    "\n",
    "    return \" \".join(generated)"
   ]
  },
  {
   "cell_type": "code",
   "execution_count": 88,
   "id": "57f1c98a",
   "metadata": {},
   "outputs": [
    {
     "name": "stdout",
     "output_type": "stream",
     "text": [
      "\n",
      "--- Temperature = 0.5 ---\n",
      "\n",
      "RNN Model:\n",
      "alice was beginning to grow larger again for really once a little said alice i must be shutting up and perhaps as i eat would be so easily offended youll get used talk\n",
      "\n",
      "LSTM Model:\n",
      "alice was beginning to grow larger again and she thought at first she would get up and leave the court but on second thoughts she decided to remain where she was as long\n",
      "\n",
      "GRU Model:\n",
      "alice was beginning to feel that this is may the rabbit say he went said the pigeon but i should get to get to say it and as you do ill manage her\n",
      "\n",
      "--- Temperature = 1.0 ---\n",
      "\n",
      "RNN Model:\n",
      "alice was beginning that you dont like it yer honour the gryphon whispered in reply its disappeared for him ill get which it might be quite round it said alice why it does\n",
      "\n",
      "LSTM Model:\n",
      "alice was beginning to grow again as quickly and she hastily dried her hands and was surprised to see that she had the door and who it was no room as it left\n",
      "\n",
      "GRU Model:\n",
      "alice was beginning very angrily but the mouse heard of dormouse i didnt know so i hadnt put you know she had never done so she ran off very sulkily but she had\n",
      "\n",
      "--- Temperature = 1.5 ---\n",
      "\n",
      "RNN Model:\n",
      "alice was beginning to be only side as she liked by then i think it at all one could have got burnt again about as well in her going in that nor to\n",
      "\n",
      "LSTM Model:\n",
      "alice was beginning to grow larger again and she thought at first she would get up and leave in an agony if you drink me out to this to here a word but\n",
      "\n",
      "GRU Model:\n",
      "alice was beginning to write it then in was heard alice she remembered and called and as an unusually lessons him but said alice a little timidly why you was asleep about her\n"
     ]
    }
   ],
   "source": [
    "seed = \"alice was beginning\"\n",
    "for temp in [0.5, 1.0, 1.5]:\n",
    "    print(f\"\\n--- Temperature = {temp} ---\")\n",
    "    for model_type, model in models.items():\n",
    "        print(f\"\\n{model_type} Model:\")\n",
    "        print(generate_text(model, seed, vocab, inv_vocab, max_len=30, temperature=temp))"
   ]
  }
 ],
 "metadata": {
  "kernelspec": {
   "display_name": "Python 3",
   "language": "python",
   "name": "python3"
  },
  "language_info": {
   "codemirror_mode": {
    "name": "ipython",
    "version": 3
   },
   "file_extension": ".py",
   "mimetype": "text/x-python",
   "name": "python",
   "nbconvert_exporter": "python",
   "pygments_lexer": "ipython3",
   "version": "3.12.8"
  }
 },
 "nbformat": 4,
 "nbformat_minor": 5
}
