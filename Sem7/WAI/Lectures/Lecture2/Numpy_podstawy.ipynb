{
 "cells": [
  {
   "cell_type": "markdown",
   "metadata": {},
   "source": [
    "# Introduction to NumPy\n",
    "\n",
    "## What is NumPy?\n",
    "\n",
    "NumPy (Numerical Python) is a fundamental library for scientific computing in Python.  \n",
    "It provides:\n",
    "- a powerful **n-dimensional array object** (`ndarray`),\n",
    "- tools for **mathematical and logical operations**,\n",
    "- fast routines for **linear algebra, statistics, random generation**, and more.\n",
    "\n",
    "### NumPy Arrays (`ndarray`)\n",
    "\n",
    "A **NumPy array** (also called an `ndarray`) is a **multidimensional, homogeneous data structure** provided by the NumPy library in Python. It is designed for efficient numerical and scientific computing.\n",
    "\n",
    "Unlike Python lists, NumPy arrays store elements of the **same data type** and allow **vectorized operations**, meaning operations are applied to entire arrays without explicit loops.\n",
    "\n",
    "**Key features:**\n",
    "\n",
    "* Homogeneous elements (same data type)\n",
    "* Multidimensional (1D, 2D, or more)\n",
    "* Efficient (C-based implementation)\n",
    "* Supports broadcasting and element-wise operations\n",
    "\n",
    "### NumPy Arrays (`ndarray`) vs Python Lists\n",
    "\n",
    "| Feature | Python List | NumPy ndarray |\n",
    "|----------|--------------|----------------|\n",
    "| Size | Dynamic | Fixed at creation |\n",
    "| Data types | Mixed allowed | All elements must have the same type |\n",
    "| Memory layout | Objects stored separately | Contiguous memory block (efficient) |\n",
    "| Performance | Slower (interpreted Python) | Much faster (C-optimized) |\n",
    "| Supported operations | Basic | Vectorized math, broadcasting, etc. |\n",
    "\n",
    "\n",
    "### Example: Speed Comparison"
   ]
  },
  {
   "cell_type": "code",
   "execution_count": 1,
   "metadata": {},
   "outputs": [
    {
     "name": "stdout",
     "output_type": "stream",
     "text": [
      "Python list time: 0.23435616493225098 seconds\n",
      "NumPy array time: 0.008805036544799805 seconds\n"
     ]
    }
   ],
   "source": [
    "import numpy as np\n",
    "import time\n",
    "\n",
    "N = 10000000\n",
    "a_list = list(range(N))\n",
    "b_list = list(range(N))\n",
    "a_np = np.arange(N)\n",
    "b_np = np.arange(N)\n",
    "\n",
    "# Python loop\n",
    "start = time.time()\n",
    "c_list = [a_list[i] * b_list[i] for i in range(N)]\n",
    "print(\"Python list time:\", time.time() - start, \"seconds\")\n",
    "\n",
    "# NumPy operation\n",
    "start = time.time()\n",
    "c_np = a_np * b_np\n",
    "print(\"NumPy array time:\", time.time() - start, \"seconds\")"
   ]
  },
  {
   "cell_type": "markdown",
   "metadata": {},
   "source": [
    "## Array Creation in NumPy\n",
    "\n",
    "NumPy provides several convenient ways to create arrays.  \n",
    "You can build them from Python lists, generate them with built-in functions, or fill them with specific values.\n",
    "\n",
    "\n",
    "### Creating arrays from Python lists or tuples\n",
    "\n",
    "Use `np.array()` to convert a regular Python list or tuple into a NumPy array."
   ]
  },
  {
   "cell_type": "code",
   "execution_count": 2,
   "metadata": {},
   "outputs": [
    {
     "name": "stdout",
     "output_type": "stream",
     "text": [
      "[2 3 4]\n",
      "int64\n",
      "float64\n"
     ]
    }
   ],
   "source": [
    "a = np.array([2, 3, 4])\n",
    "print(a)\n",
    "print(a.dtype)\n",
    "\n",
    "b = np.array([1.2, 3.5, 5.0])\n",
    "print(b.dtype)"
   ]
  },
  {
   "cell_type": "markdown",
   "metadata": {},
   "source": [
    "NumPy automatically infers the element type from the data you provide."
   ]
  },
  {
   "cell_type": "markdown",
   "metadata": {},
   "source": [
    "### Creating multi-dimensional arrays\n",
    "\n",
    "You can nest sequences (lists or tuples) to create higher-dimensional arrays."
   ]
  },
  {
   "cell_type": "code",
   "execution_count": 3,
   "metadata": {},
   "outputs": [
    {
     "name": "stdout",
     "output_type": "stream",
     "text": [
      "[[1.5 2.  3. ]\n",
      " [4.  5.  6. ]]\n"
     ]
    }
   ],
   "source": [
    "b = np.array([[1.5, 2, 3], [4, 5, 6]])\n",
    "print(b)"
   ]
  },
  {
   "cell_type": "markdown",
   "metadata": {},
   "source": [
    "### Specifying the data type\n",
    "\n",
    "You can set the element type using the `dtype` keyword."
   ]
  },
  {
   "cell_type": "code",
   "execution_count": 4,
   "metadata": {},
   "outputs": [
    {
     "name": "stdout",
     "output_type": "stream",
     "text": [
      "[[1.+0.j 2.+0.j]\n",
      " [3.+0.j 4.+0.j]]\n"
     ]
    }
   ],
   "source": [
    "c = np.array([[1, 2], [3, 4]], dtype=complex)\n",
    "print(c)"
   ]
  },
  {
   "cell_type": "markdown",
   "metadata": {},
   "source": [
    "### Creating placeholder arrays\n",
    "\n",
    "When the array size is known but the contents are not, NumPy provides fast constructors:\n",
    "\n",
    "| Function          | Description                                                      | \n",
    "| ----------------- | ---------------------------------------------------------------- |\n",
    "| `np.zeros(shape)` | Creates an array filled with zeros                               |\n",
    "| `np.ones(shape)`  | Creates an array filled with ones                                |\n",
    "| `np.empty(shape)` | Creates an uninitialized array (contents depend on memory state) |"
   ]
  },
  {
   "cell_type": "code",
   "execution_count": 5,
   "metadata": {},
   "outputs": [
    {
     "name": "stdout",
     "output_type": "stream",
     "text": [
      "np.zeros((3, 4)): \n",
      " [[0. 0. 0. 0.]\n",
      " [0. 0. 0. 0.]\n",
      " [0. 0. 0. 0.]]\n",
      "\n",
      "np.ones((2, 3, 4): \n",
      " [[[1. 1. 1. 1.]\n",
      "  [1. 1. 1. 1.]\n",
      "  [1. 1. 1. 1.]]\n",
      "\n",
      " [[1. 1. 1. 1.]\n",
      "  [1. 1. 1. 1.]\n",
      "  [1. 1. 1. 1.]]]\n",
      "\n",
      "np.empty((2, 3)): \n",
      " [[1.5 2.  3. ]\n",
      " [4.  5.  6. ]]\n",
      "\n"
     ]
    }
   ],
   "source": [
    "print(f'np.zeros((3, 4)): \\n {np.zeros((3, 4))}\\n')\n",
    "print(f'np.ones((2, 3, 4): \\n {np.ones((2, 3, 4))}\\n')\n",
    "print(f'np.empty((2, 3)): \\n {np.empty((2, 3))}\\n') # unpredictable values"
   ]
  },
  {
   "cell_type": "markdown",
   "metadata": {},
   "source": [
    "### Creating numeric sequences\n",
    "\n",
    "#### Using `np.arange()`\n",
    "\n",
    "Similar to Python’s built-in `range()`, but returns an array instead of a list."
   ]
  },
  {
   "cell_type": "code",
   "execution_count": 6,
   "metadata": {},
   "outputs": [
    {
     "name": "stdout",
     "output_type": "stream",
     "text": [
      "[10 15 20 25]\n",
      "[0.  0.3 0.6 0.9 1.2 1.5 1.8]\n"
     ]
    }
   ],
   "source": [
    "x = np.arange(10, 30, 5)\n",
    "print(x)\n",
    "\n",
    "x = np.arange(0, 2, 0.3)\n",
    "print(x)"
   ]
  },
  {
   "cell_type": "markdown",
   "metadata": {},
   "source": [
    "⚠️ When using floating-point steps, the endpoint and number of elements may not be exact due to rounding errors.\n",
    "\n",
    "#### Using `np.linspace()`\n",
    "\n",
    "`linspace()` lets you specify **how many values** you want, not the step size.\n",
    "This is usually more precise for evenly spaced sequences."
   ]
  },
  {
   "cell_type": "code",
   "execution_count": 7,
   "metadata": {},
   "outputs": [
    {
     "name": "stdout",
     "output_type": "stream",
     "text": [
      "[0.         1.57079633 3.14159265 4.71238898 6.28318531]\n"
     ]
    }
   ],
   "source": [
    "from numpy import pi\n",
    "\n",
    "x = np.linspace(0, 2 * pi, 5)\n",
    "print(x)"
   ]
  },
  {
   "cell_type": "markdown",
   "metadata": {},
   "source": [
    "### Summary\n",
    "\n",
    "| Function                                | Purpose                                                   | Example                |\n",
    "| --------------------------------------- | --------------------------------------------------------- | ---------------------- |\n",
    "| `np.array()`                            | Create from list or tuple                                 | `np.array([1, 2, 3])`  |\n",
    "| `np.zeros()`, `np.ones()`, `np.empty()` | Create placeholder arrays                                 | `np.zeros((3, 4))`     |\n",
    "| `np.arange()`                           | Create numeric sequence with a fixed step                 | `np.arange(0, 10, 2)`  |\n",
    "| `np.linspace()`                         | Create evenly spaced sequence with fixed number of points | `np.linspace(0, 1, 5)` |"
   ]
  },
  {
   "cell_type": "markdown",
   "metadata": {},
   "source": [
    "## Internal Organization of NumPy Arrays\n",
    "\n",
    "A NumPy array consists of **two main parts**:\n",
    "1. the **data buffer** – the raw block of memory where the actual numbers are stored, and  \n",
    "2. the **metadata** – information that tells NumPy how to interpret that memory.\n",
    "\n",
    "This design allows NumPy to handle large datasets efficiently and perform operations without unnecessary copying.\n",
    "\n",
    "### What the metadata contains\n",
    "\n",
    "- `ndarray.itemsize`\n",
    "The **size in bytes** of one element.  \n",
    "Equivalent to `ndarray.dtype.itemsize`.\n",
    "\n",
    "- `ndarray.ndim` number of dimensions (axes) of the array.  \n",
    "\n",
    "- `ndarray.shape` a tuple indicating the size of each dimension, e.g. `(rows, columns)`.\n",
    "\n",
    "- `ndarray.dtype` Describes the **data type** of each element. It can represent basic types (`int32`, `float64`) or compound types.\n",
    "\n",
    "- `ndarray.strides`\n",
    "A tuple indicating **how many bytes** to skip in memory to move to the next element along each axis.\n",
    "\n",
    "- `ndarray.flags`\n",
    "Contains information such as:\n",
    "  * whether the array is **read-only**,  \n",
    "  * if it’s **C-contiguous** or **Fortran-contiguous** in memory,  \n",
    "  * and other internal memory layout details."
   ]
  },
  {
   "cell_type": "code",
   "execution_count": 8,
   "metadata": {},
   "outputs": [
    {
     "name": "stdout",
     "output_type": "stream",
     "text": [
      "Array:\n",
      " [[ 1  2  3  4]\n",
      " [ 5  6  7  8]\n",
      " [ 9 10 11 12]]\n",
      "----------------------------------------\n",
      "arr.itemsize: 4\n",
      "arr.ndim: 2\n",
      "arr.shape: (3, 4)\n",
      "arr.dtype: int32\n",
      "arr.strides: (16, 4)\n",
      "arr.flags:\n",
      "   C_CONTIGUOUS : True\n",
      "  F_CONTIGUOUS : False\n",
      "  OWNDATA : True\n",
      "  WRITEABLE : True\n",
      "  ALIGNED : True\n",
      "  WRITEBACKIFCOPY : False\n",
      "\n"
     ]
    }
   ],
   "source": [
    "arr = np.array([[1, 2, 3, 4],\n",
    "                [5, 6, 7, 8],\n",
    "                [9, 10, 11, 12]], dtype=np.int32)\n",
    "\n",
    "print(\"Array:\\n\", arr)\n",
    "print(\"-\" * 40)\n",
    "\n",
    "print(\"arr.itemsize:\", arr.itemsize)\n",
    "print(\"arr.ndim:\", arr.ndim)\n",
    "print(\"arr.shape:\", arr.shape)\n",
    "print(\"arr.dtype:\", arr.dtype)\n",
    "print(\"arr.strides:\", arr.strides)\n",
    "print(\"arr.flags:\\n\", arr.flags)\n"
   ]
  },
  {
   "cell_type": "markdown",
   "metadata": {},
   "source": [
    "### Example: Changing shape"
   ]
  },
  {
   "cell_type": "markdown",
   "metadata": {},
   "source": [
    "The shape of the array can be changed very easily without changing anything in the data buffer or any data copying at all. To reshape the array in-place assume a tuple of array dimensions to it. Reshaping an array in-place will fail if a copy is required."
   ]
  },
  {
   "cell_type": "code",
   "execution_count": 9,
   "metadata": {},
   "outputs": [
    {
     "name": "stdout",
     "output_type": "stream",
     "text": [
      "x.shape: (2, 3, 4)\n",
      "x.strides: (96, 32, 8)\n",
      "[[[ 0  1  2  3]\n",
      "  [ 4  5  6  7]\n",
      "  [ 8  9 10 11]]\n",
      "\n",
      " [[12 13 14 15]\n",
      "  [16 17 18 19]\n",
      "  [20 21 22 23]]]\n"
     ]
    }
   ],
   "source": [
    "x = np.arange(0, 24).reshape((2, 3, 4))\n",
    "print(f'x.shape: {x.shape}')\n",
    "print(f'x.strides: {x.strides}')\n",
    "print(x)"
   ]
  },
  {
   "cell_type": "code",
   "execution_count": 10,
   "metadata": {},
   "outputs": [
    {
     "name": "stdout",
     "output_type": "stream",
     "text": [
      "x.shape: (3, 8)\n",
      "x.strides: (64, 8)\n",
      "[[ 0  1  2  3  4  5  6  7]\n",
      " [ 8  9 10 11 12 13 14 15]\n",
      " [16 17 18 19 20 21 22 23]]\n"
     ]
    }
   ],
   "source": [
    "x.shape = (3, 8)\n",
    "print(f'x.shape: {x.shape}')\n",
    "print(f'x.strides: {x.strides}')\n",
    "print(x)"
   ]
  },
  {
   "cell_type": "code",
   "execution_count": 11,
   "metadata": {},
   "outputs": [],
   "source": [
    "# # ValueError: total size of new array must be unchanged\n",
    "# x.shape = (3, 6)"
   ]
  },
  {
   "cell_type": "code",
   "execution_count": 12,
   "metadata": {},
   "outputs": [],
   "source": [
    "# # AttributeError: Incompatible shape for in-place modification. Use `.reshape()` to make a copy with the desired shape.\n",
    "# np.zeros((4,2))[::2].shape = (-1,)"
   ]
  },
  {
   "cell_type": "markdown",
   "metadata": {},
   "source": [
    "## Memory\n",
    "\n",
    "The actual data of a numpy array is stored in a homogeneous and contiguous block of memory called data buffer. \n",
    "\n",
    "![Memory](./Images/PythonMemory.png)"
   ]
  },
  {
   "cell_type": "markdown",
   "metadata": {},
   "source": [
    "### Strides\n",
    "Stride is a tuple of bytes to step in each dimension when traversing an array."
   ]
  },
  {
   "cell_type": "code",
   "execution_count": 13,
   "metadata": {},
   "outputs": [
    {
     "data": {
      "text/plain": [
       "array([[[ 0,  1,  2,  3],\n",
       "        [ 4,  5,  6,  7],\n",
       "        [ 8,  9, 10, 11]],\n",
       "\n",
       "       [[12, 13, 14, 15],\n",
       "        [16, 17, 18, 19],\n",
       "        [20, 21, 22, 23]]])"
      ]
     },
     "execution_count": 13,
     "metadata": {},
     "output_type": "execute_result"
    }
   ],
   "source": [
    "y = np.reshape(np.arange(2*3*4), (2,3,4))\n",
    "y"
   ]
  },
  {
   "cell_type": "code",
   "execution_count": 14,
   "metadata": {},
   "outputs": [
    {
     "data": {
      "text/plain": [
       "(96, 32, 8)"
      ]
     },
     "execution_count": 14,
     "metadata": {},
     "output_type": "execute_result"
    }
   ],
   "source": [
    "y.strides"
   ]
  },
  {
   "cell_type": "code",
   "execution_count": 15,
   "metadata": {},
   "outputs": [
    {
     "data": {
      "text/plain": [
       "(8, 32, 96)"
      ]
     },
     "execution_count": 15,
     "metadata": {},
     "output_type": "execute_result"
    }
   ],
   "source": [
    "z = y.T\n",
    "z.strides"
   ]
  },
  {
   "cell_type": "code",
   "execution_count": 16,
   "metadata": {},
   "outputs": [
    {
     "data": {
      "text/plain": [
       "17"
      ]
     },
     "execution_count": 16,
     "metadata": {},
     "output_type": "execute_result"
    }
   ],
   "source": [
    "y[1,1,1]"
   ]
  },
  {
   "cell_type": "markdown",
   "metadata": {},
   "source": [
    "At this step, we want to calculate how many bytes we need to \"jump\" in memory to access the element."
   ]
  },
  {
   "cell_type": "code",
   "execution_count": 17,
   "metadata": {},
   "outputs": [
    {
     "data": {
      "text/plain": [
       "17.0"
      ]
     },
     "execution_count": 17,
     "metadata": {},
     "output_type": "execute_result"
    }
   ],
   "source": [
    "offset=sum(y.strides * np.array((1,1,1)))\n",
    "offset/y.itemsize\n",
    "\n",
    "# Simpler:\n",
    "# i0, i1, i2 = 1, 1, 1\n",
    "# offset_bytes = y.strides[0] * i0 + y.strides[1] * i1 + y.strides[2] * i2"
   ]
  },
  {
   "cell_type": "markdown",
   "metadata": {},
   "source": [
    "What does `y.strides * np.array((1, 1, 1))` mean?\n",
    "\n",
    "Each dimension of the array (2, 3, 4) has its own stride, which tells us how far apart elements are in memory:\n",
    "* For the first dimension (axis 0), we need to jump 96 bytes to move to the next element.\n",
    "* For the second dimension (axis 1), we jump 32 bytes.\n",
    "* For the third dimension (axis 2), we jump 8 bytes.\n",
    "\n",
    "By summing these values we obtain the offset.\n",
    "\n",
    "What about `offset / y.itemsize`?\n",
    "\n",
    "Each element occupies 4 bytes (y.itemsize == 4). To find the position of the element in the flattened 1D representation, we divide `offset / y.itemsize`."
   ]
  },
  {
   "cell_type": "markdown",
   "metadata": {},
   "source": [
    "## Basic Operations with NumPy Arrays\n",
    "\n",
    "NumPy arrays support **elementwise arithmetic operations**, meaning operations are applied to each element individually. A new array is usually created with the result."
   ]
  },
  {
   "cell_type": "code",
   "execution_count": 18,
   "metadata": {},
   "outputs": [
    {
     "name": "stdout",
     "output_type": "stream",
     "text": [
      "[20 29 38 47]\n",
      "[0 1 4 9]\n",
      "[ 9.12945251 -9.88031624  7.4511316  -2.62374854]\n",
      "[ True  True False False]\n"
     ]
    }
   ],
   "source": [
    "import numpy as np\n",
    "from numpy import pi\n",
    "\n",
    "a = np.array([20, 30, 40, 50])\n",
    "b = np.arange(4)  # [0, 1, 2, 3]\n",
    "\n",
    "c = a - b\n",
    "print(c)  \n",
    "print(b**2)\n",
    "print(10 * np.sin(a))\n",
    "print(a < 35)"
   ]
  },
  {
   "cell_type": "markdown",
   "metadata": {},
   "source": [
    "### Elementwise vs. Matrix Multiplication\n",
    "\n",
    "In NumPy, the `*` operator performs **elementwise multiplication**.\n",
    "For matrix multiplication, use `@` (Python ≥3.5) or the `dot()` method."
   ]
  },
  {
   "cell_type": "code",
   "execution_count": 19,
   "metadata": {},
   "outputs": [
    {
     "name": "stdout",
     "output_type": "stream",
     "text": [
      "Elementwise product:\n",
      "[[2 0]\n",
      " [0 4]]\n",
      "Matrix product:\n",
      "[[5 4]\n",
      " [3 4]]\n",
      "[[5 4]\n",
      " [3 4]]\n"
     ]
    }
   ],
   "source": [
    "A = np.array([[1, 1],\n",
    "              [0, 1]])\n",
    "B = np.array([[2, 0],\n",
    "              [3, 4]])\n",
    "\n",
    "print('Elementwise product:')\n",
    "print(A * B)\n",
    "\n",
    "print('Matrix product:')\n",
    "print(A @ B)\n",
    "print(A.dot(B))"
   ]
  },
  {
   "cell_type": "markdown",
   "metadata": {},
   "source": [
    "### In-place Operations\n",
    "\n",
    "Some operations, like `+=` and `*=`, **modify the array directly** instead of creating a new one."
   ]
  },
  {
   "cell_type": "code",
   "execution_count": 20,
   "metadata": {},
   "outputs": [
    {
     "name": "stdout",
     "output_type": "stream",
     "text": [
      "a:\n",
      "[[1 1 1]\n",
      " [1 1 1]]\n",
      "b:\n",
      "[[6 3 7]\n",
      " [5 6 1]]\n",
      "a *= 3:\n",
      "[[3 3 3]\n",
      " [3 3 3]]\n",
      "b += a:\n",
      "[[ 9  6 10]\n",
      " [ 8  9  4]]\n"
     ]
    }
   ],
   "source": [
    "a = np.ones((2, 3), dtype=int) # Why dtype=int?\n",
    "b = np.random.randint(0, 10, (2, 3))\n",
    "\n",
    "print(f'a:\\n{a}')\n",
    "print(f'b:\\n{b}')\n",
    "\n",
    "a *= 3\n",
    "print(f'a *= 3:\\n{a}')\n",
    "b += a\n",
    "print(f'b += a:\\n{b}')"
   ]
  },
  {
   "cell_type": "markdown",
   "metadata": {},
   "source": [
    "### Type Promotion (Upcasting)\n",
    "\n",
    "When arrays of different types are combined, NumPy **upcasts** to the more general type."
   ]
  },
  {
   "cell_type": "code",
   "execution_count": 21,
   "metadata": {},
   "outputs": [
    {
     "name": "stdout",
     "output_type": "stream",
     "text": [
      "a.dtype: int32\n",
      "b.dtype: float64\n",
      "c = a + b, c : [1.         2.57079633 4.14159265]\n",
      "c.dtype: float64\n",
      "d: [ 0.54030231+0.84147098j -0.84147098+0.54030231j -0.54030231-0.84147098j]\n",
      "d.dtype: complex128\n"
     ]
    }
   ],
   "source": [
    "a = np.ones(3, dtype=np.int32)\n",
    "b = np.linspace(0, pi, 3)\n",
    "\n",
    "print(f'a.dtype: {a.dtype}')\n",
    "print(f'b.dtype: {b.dtype}')\n",
    "\n",
    "c = a + b\n",
    "print(f'c = a + b, c : {c}')\n",
    "print(f'c.dtype: {c.dtype}')\n",
    "\n",
    "d = np.exp(c * 1j)\n",
    "print(f'd: {d}')\n",
    "print(f'd.dtype: {d.dtype}')"
   ]
  },
  {
   "cell_type": "markdown",
   "metadata": {},
   "source": [
    "### Unary Operations\n",
    "\n",
    "NumPy arrays have built-in **methods for common operations**, such as sum, min, max."
   ]
  },
  {
   "cell_type": "code",
   "execution_count": 22,
   "metadata": {},
   "outputs": [
    {
     "name": "stdout",
     "output_type": "stream",
     "text": [
      "[[37 98 24]\n",
      " [79 36 60]]\n",
      "334\n",
      "24\n",
      "98\n"
     ]
    }
   ],
   "source": [
    "a = np.random.randint(0,100, (2, 3))\n",
    "print(a)\n",
    "\n",
    "print(a.sum())\n",
    "print(a.min())\n",
    "print(a.max())"
   ]
  },
  {
   "cell_type": "markdown",
   "metadata": {},
   "source": [
    "### Operations Along an Axis\n",
    "\n",
    "By default, methods treat the array as a flat list.\n",
    "Use the `axis` parameter to operate along a specific dimension."
   ]
  },
  {
   "cell_type": "code",
   "execution_count": 23,
   "metadata": {},
   "outputs": [
    {
     "name": "stdout",
     "output_type": "stream",
     "text": [
      "b:\n",
      "[[ 0  1  2  3]\n",
      " [ 4  5  6  7]\n",
      " [ 8  9 10 11]]\n",
      "sum:\n",
      "[12 15 18 21]\n",
      "min:\n",
      "[0 4 8]\n",
      "cumsum:\n",
      "[[ 0  1  3  6]\n",
      " [ 4  9 15 22]\n",
      " [ 8 17 27 38]]\n"
     ]
    }
   ],
   "source": [
    "b = np.arange(12).reshape(3, 4)\n",
    "print(f'b:\\n{b}')\n",
    "\n",
    "# Sum of each column\n",
    "print(f'sum:\\n{b.sum(axis=0)}')\n",
    "\n",
    "# Min of each row\n",
    "print(f'min:\\n{b.min(axis=1)}')\n",
    "\n",
    "# Cumulative sum along each row\n",
    "print(f'cumsum:\\n{b.cumsum(axis=1)}')"
   ]
  },
  {
   "cell_type": "markdown",
   "metadata": {},
   "source": [
    "### Summary\n",
    "\n",
    "| Operation                       | Description                                                         |\n",
    "| ------------------------------- | ------------------------------------------------------------------- |\n",
    "| `+ - * / **`                    | Elementwise arithmetic                                              |\n",
    "| `@` or `dot()`                  | Matrix multiplication                                               |\n",
    "| `+=, *=`                        | In-place modification                                               |\n",
    "| `sum(), min(), max(), cumsum()` | Unary array operations                                              |\n",
    "| `axis` parameter                | Perform operation along rows (`axis=1`) or columns (`axis=0`)       |\n",
    "| Type promotion                  | Operations between different dtypes result in the more general type |"
   ]
  },
  {
   "cell_type": "markdown",
   "metadata": {},
   "source": [
    "## Indexing, Slicing, and Iterating in NumPy\n",
    "\n",
    "NumPy arrays can be **indexed, sliced, and iterated** over, similar to Python lists, but with additional features for multidimensional arrays.\n",
    "\n",
    "### One-dimensional arrays"
   ]
  },
  {
   "cell_type": "code",
   "execution_count": 24,
   "metadata": {},
   "outputs": [
    {
     "name": "stdout",
     "output_type": "stream",
     "text": [
      "Full array a:\n",
      "[  0   1   8  27  64 125 216 343 512 729]\n",
      "\n",
      "Element at index 2 (a[2]):\n",
      "8\n",
      "\n",
      "Slice from index 2 to 5 (a[2:5]):\n",
      "[ 8 27 64]\n",
      "\n",
      "Assigning 1000 to every 2nd element up to position 6 (a[:6:2] = 1000):\n",
      "Array after assignment:\n",
      "[1000    1 1000   27 1000  125  216  343  512  729]\n",
      "\n",
      "Array reversed (a[::-1]):\n",
      "[ 729  512  343  216  125 1000   27 1000    1 1000]\n",
      "\n",
      "Iterating over a and printing each element’s cube root:\n",
      "9.999999999999998\n",
      "1.0\n",
      "9.999999999999998\n",
      "3.0\n",
      "9.999999999999998\n",
      "4.999999999999999\n",
      "5.999999999999999\n",
      "6.999999999999999\n",
      "7.999999999999999\n",
      "8.999999999999998\n"
     ]
    }
   ],
   "source": [
    "import numpy as np\n",
    "\n",
    "a = np.arange(10)**3\n",
    "\n",
    "print(\"Full array a:\")\n",
    "print(a)  # [0 1 8 27 64 125 216 343 512 729]\n",
    "\n",
    "\n",
    "# Indexing\n",
    "print(\"\\nElement at index 2 (a[2]):\")\n",
    "print(a[2])  # 8\n",
    "\n",
    "\n",
    "# Slicing\n",
    "print(\"\\nSlice from index 2 to 5 (a[2:5]):\")\n",
    "print(a[2:5])  # [8 27 64]\n",
    "\n",
    "\n",
    "# Assigning to slices\n",
    "print(\"\\nAssigning 1000 to every 2nd element up to position 6 (a[:6:2] = 1000):\")\n",
    "a[:6:2] = 1000 # a[start:stop:step]\n",
    "print(\"Array after assignment:\")\n",
    "print(a)  # [1000, 1, 1000, 27, 1000, 125, 216, 343, 512, 729]\n",
    "\n",
    "\n",
    "# Reversing\n",
    "print(\"\\nArray reversed (a[::-1]):\")\n",
    "print(a[::-1])  # reversed order\n",
    "\n",
    "\n",
    "# Iterating\n",
    "print(\"\\nIterating over a and printing each element’s cube root:\")\n",
    "for i in a:\n",
    "    print(i**(1/3))\n"
   ]
  },
  {
   "cell_type": "markdown",
   "metadata": {},
   "source": [
    "### Multidimensional arrays\n",
    "\n",
    "Each axis of a multidimensional array can be indexed individually."
   ]
  },
  {
   "cell_type": "code",
   "execution_count": 25,
   "metadata": {},
   "outputs": [
    {
     "name": "stdout",
     "output_type": "stream",
     "text": [
      "Full array b (5x4):\n",
      "[[ 0  1  2  3]\n",
      " [10 11 12 13]\n",
      " [20 21 22 23]\n",
      " [30 31 32 33]\n",
      " [40 41 42 43]]\n",
      "\n",
      "Element at row 2, column 3 (b[2, 3]):\n",
      "23\n",
      "\n",
      "Column 1, rows 0 to 4 (b[0:5, 1]):\n",
      "[ 1 11 21 31 41]\n",
      "\n",
      "Column 1 using ':' to select all rows (b[:, 1]):\n",
      "[ 1 11 21 31 41]\n",
      "\n",
      "Rows 1 to 2, all columns (b[1:3, :]):\n",
      "[[10 11 12 13]\n",
      " [20 21 22 23]]\n"
     ]
    }
   ],
   "source": [
    "import numpy as np\n",
    "\n",
    "def f(x, y):\n",
    "    return 10*x + y\n",
    "\n",
    "b = np.fromfunction(f, (5, 4), dtype=int)\n",
    "\n",
    "print(\"Full array b (5x4):\")\n",
    "print(b)\n",
    "\n",
    "print(\"\\nElement at row 2, column 3 (b[2, 3]):\")\n",
    "print(b[2, 3])\n",
    "\n",
    "\n",
    "print(\"\\nColumn 1, rows 0 to 4 (b[0:5, 1]):\")\n",
    "print(b[0:5, 1])\n",
    "\n",
    "\n",
    "print(\"\\nColumn 1 using ':' to select all rows (b[:, 1]):\")\n",
    "print(b[:, 1])\n",
    "\n",
    "\n",
    "print(\"\\nRows 1 to 2, all columns (b[1:3, :]):\")\n",
    "print(b[1:3, :])"
   ]
  },
  {
   "cell_type": "markdown",
   "metadata": {},
   "source": [
    "### Using ellipsis `...`\n",
    "\n",
    "Ellipsis represents as many `:` slices as needed:"
   ]
  },
  {
   "cell_type": "code",
   "execution_count": 26,
   "metadata": {},
   "outputs": [
    {
     "name": "stdout",
     "output_type": "stream",
     "text": [
      "(2, 2, 3)\n",
      "[[100 101 102]\n",
      " [110 112 113]]\n",
      "[[  2  13]\n",
      " [102 113]]\n"
     ]
    }
   ],
   "source": [
    "c = np.array([[[0, 1, 2],\n",
    "               [10, 12, 13]],\n",
    "              [[100, 101, 102],\n",
    "               [110, 112, 113]]])\n",
    "print(c.shape)\n",
    "print(c[1, ...])\n",
    "print(c[..., 2])"
   ]
  },
  {
   "cell_type": "markdown",
   "metadata": {},
   "source": [
    "### Iterating over arrays\n",
    "\n",
    "Iteration happens along the **first axis** by default:"
   ]
  },
  {
   "cell_type": "code",
   "execution_count": 27,
   "metadata": {},
   "outputs": [
    {
     "name": "stdout",
     "output_type": "stream",
     "text": [
      "[0 1 2 3]\n",
      "[10 11 12 13]\n",
      "[20 21 22 23]\n",
      "[30 31 32 33]\n",
      "[40 41 42 43]\n"
     ]
    }
   ],
   "source": [
    "for row in b:\n",
    "    print(row)"
   ]
  },
  {
   "cell_type": "markdown",
   "metadata": {},
   "source": [
    "To iterate over **all elements** of an array, use the `flat` attribute:\n"
   ]
  },
  {
   "cell_type": "code",
   "execution_count": 28,
   "metadata": {},
   "outputs": [
    {
     "name": "stdout",
     "output_type": "stream",
     "text": [
      "0\n",
      "1\n",
      "2\n",
      "3\n",
      "10\n",
      "11\n",
      "12\n",
      "13\n",
      "20\n",
      "21\n",
      "22\n",
      "23\n",
      "30\n",
      "31\n",
      "32\n",
      "33\n",
      "40\n",
      "41\n",
      "42\n",
      "43\n"
     ]
    }
   ],
   "source": [
    "for element in b.flat:\n",
    "    print(element)"
   ]
  },
  {
   "cell_type": "markdown",
   "metadata": {},
   "source": [
    "\n",
    "### Summary\n",
    "\n",
    "| Concept                            | Description                                                       |\n",
    "| ---------------------------------- | ----------------------------------------------------------------- |\n",
    "| `array[i]`                         | Indexing along first axis (or specified axis for multidim arrays) |\n",
    "| `array[start:stop:step]`           | Slicing with optional step                                        |\n",
    "| `array[:, col]` or `array[row, :]` | Slice specific columns or rows                                    |\n",
    "| `array[...]`                       | Ellipsis: fill in missing slices                                  |\n",
    "| Iterating                          | Default along first axis; `flat` iterates over all elements       |"
   ]
  },
  {
   "cell_type": "markdown",
   "metadata": {},
   "source": [
    "## Shape Manipulation in NumPy\n",
    "\n",
    "NumPy provides multiple ways to **change the shape of arrays**, stack arrays together, and split them."
   ]
  },
  {
   "cell_type": "markdown",
   "metadata": {},
   "source": [
    "### Understanding the shape of an array"
   ]
  },
  {
   "cell_type": "code",
   "execution_count": 29,
   "metadata": {},
   "outputs": [
    {
     "name": "stdout",
     "output_type": "stream",
     "text": [
      "[[430. 990. 410. 340.]\n",
      " [960.  80. 100. 840.]\n",
      " [190. 810.  20. 710.]]\n",
      "(3, 4)\n"
     ]
    }
   ],
   "source": [
    "import numpy as np\n",
    "\n",
    "a = np.floor(10 * np.random.randint(0, 100, (3, 4)))\n",
    "print(a)\n",
    "print(a.shape)"
   ]
  },
  {
   "cell_type": "markdown",
   "metadata": {},
   "source": [
    "### Changing the shape\n",
    "\n",
    "#### Flattening, reshaping, and transposing\n"
   ]
  },
  {
   "cell_type": "code",
   "execution_count": 30,
   "metadata": {},
   "outputs": [
    {
     "name": "stdout",
     "output_type": "stream",
     "text": [
      "Original array a (3x4):\n",
      "[[ 0  1  2  3]\n",
      " [ 4  5  6  7]\n",
      " [ 8  9 10 11]]\n",
      "\n",
      "Flattened array using ravel():\n",
      "[ 0  1  2  3  4  5  6  7  8  9 10 11]\n",
      "\n",
      "Reshaped array into shape (6, 2) using reshape():\n",
      "[[ 0  1]\n",
      " [ 2  3]\n",
      " [ 4  5]\n",
      " [ 6  7]\n",
      " [ 8  9]\n",
      " [10 11]]\n",
      "\n",
      "Transposed array (swap rows and columns) using a.T:\n",
      "[[ 0  4  8]\n",
      " [ 1  5  9]\n",
      " [ 2  6 10]\n",
      " [ 3  7 11]]\n",
      "\n",
      "Shape of the transposed array:\n",
      "(4, 3)\n",
      "\n",
      "Shape of the original array (a) remains the same:\n",
      "(3, 4)\n"
     ]
    }
   ],
   "source": [
    "import numpy as np\n",
    "\n",
    "a = np.arange(12).reshape(3, 4)\n",
    "print(\"Original array a (3x4):\")\n",
    "print(a)\n",
    "\n",
    "\n",
    "# Flatten the array into 1D\n",
    "print(\"\\nFlattened array using ravel():\")\n",
    "print(a.ravel())\n",
    "\n",
    "# Reshape into 6x2 (returns a new array)\n",
    "print(\"\\nReshaped array into shape (6, 2) using reshape():\")\n",
    "print(a.reshape(6, 2))\n",
    "\n",
    "# Transpose the array\n",
    "print(\"\\nTransposed array (swap rows and columns) using a.T:\")\n",
    "print(a.T)\n",
    "\n",
    "print(\"\\nShape of the transposed array:\")\n",
    "print(a.T.shape)\n",
    "\n",
    "# Original array remains unchanged\n",
    "print(\"\\nShape of the original array (a) remains the same:\")\n",
    "print(a.shape)"
   ]
  },
  {
   "cell_type": "markdown",
   "metadata": {},
   "source": [
    "#### Resizing in-place"
   ]
  },
  {
   "cell_type": "code",
   "execution_count": 31,
   "metadata": {},
   "outputs": [
    {
     "name": "stdout",
     "output_type": "stream",
     "text": [
      "[[ 0  1  2  3  4  5]\n",
      " [ 6  7  8  9 10 11]]\n"
     ]
    }
   ],
   "source": [
    "a.resize((2, 6))\n",
    "print(a)"
   ]
  },
  {
   "cell_type": "markdown",
   "metadata": {},
   "source": [
    "#### Using `-1` to infer dimension\n",
    "\n",
    "In NumPy, the -1 in the reshape() method is a special placeholder that tells NumPy to automatically calculate the dimension so that the total number of elements remains the same.\n",
    "You can only use one -1 per reshape()."
   ]
  },
  {
   "cell_type": "code",
   "execution_count": 32,
   "metadata": {},
   "outputs": [
    {
     "name": "stdout",
     "output_type": "stream",
     "text": [
      "[[83  4 32 79]\n",
      " [51 19 56 91]\n",
      " [14 79 19  7]]\n"
     ]
    }
   ],
   "source": [
    "a = np.random.randint(0, 100, (3, 4))\n",
    "print(a.reshape(3, -1))"
   ]
  },
  {
   "cell_type": "markdown",
   "metadata": {},
   "source": [
    "#### Stacking arrays\n",
    "\n",
    "You can combine arrays along different axes."
   ]
  },
  {
   "cell_type": "code",
   "execution_count": 33,
   "metadata": {},
   "outputs": [
    {
     "name": "stdout",
     "output_type": "stream",
     "text": [
      "a:\n",
      "[[93 43]\n",
      " [93 69]]\n",
      "b:\n",
      "[[87 49]\n",
      " [35 83]]\n",
      "Vertical stack:\n",
      "[[93 43]\n",
      " [93 69]\n",
      " [87 49]\n",
      " [35 83]]\n",
      "Horizontal stack:\n",
      "[[93 43 87 49]\n",
      " [93 69 35 83]]\n"
     ]
    }
   ],
   "source": [
    "a = np.random.randint(0, 100, (2, 2))\n",
    "b = np.random.randint(0, 100, (2, 2))\n",
    "\n",
    "print(f'a:\\n{a}')\n",
    "print(f'b:\\n{b}')\n",
    "\n",
    "# Vertical stack\n",
    "print(\"Vertical stack:\")\n",
    "print(np.vstack((a, b)))\n",
    "\n",
    "# Horizontal stack\n",
    "print(\"Horizontal stack:\")\n",
    "print(np.hstack((a, b)))"
   ]
  },
  {
   "cell_type": "markdown",
   "metadata": {},
   "source": [
    "> **Note:** `hstack` concatenates along the second axis, `vstack` along the first axis. For higher dimensions, `concatenate` allows specifying the axis."
   ]
  },
  {
   "cell_type": "markdown",
   "metadata": {},
   "source": [
    "#### Column stack (for 1D arrays or 2D arrays as columns)\n",
    "\n",
    "Stack 1-D arrays as columns into a 2-D array.\n",
    "\n",
    "Take a sequence of 1-D arrays and stack them as columns to make a single 2-D array. 2-D arrays are stacked as-is, just like with hstack. 1-D arrays are turned into 2-D columns first."
   ]
  },
  {
   "cell_type": "code",
   "execution_count": 34,
   "metadata": {},
   "outputs": [
    {
     "name": "stdout",
     "output_type": "stream",
     "text": [
      "a:\n",
      "[4. 2.]\n",
      "b:\n",
      "[3. 8.]\n",
      "Column stack:\n",
      "[[4. 3.]\n",
      " [2. 8.]]\n",
      "Column stack with newaxis:\n",
      "[[4. 3.]\n",
      " [2. 8.]]\n"
     ]
    }
   ],
   "source": [
    "from numpy import newaxis\n",
    "\n",
    "a = np.array([4., 2.])\n",
    "b = np.array([3., 8.])\n",
    "\n",
    "print(f'a:\\n{a}')\n",
    "print(f'b:\\n{b}')\n",
    "\n",
    "print(\"Column stack:\")\n",
    "print(np.column_stack((a, b)))\n",
    "\n",
    "print(\"Column stack with newaxis:\")\n",
    "print(np.column_stack((a[:, newaxis], b[:, newaxis])))"
   ]
  },
  {
   "cell_type": "markdown",
   "metadata": {},
   "source": [
    "## Splitting arrays\n",
    "\n",
    "### Horizontal split\n",
    "\n",
    "Split an array into multiple sub-arrays horizontally (column-wise)."
   ]
  },
  {
   "cell_type": "code",
   "execution_count": 35,
   "metadata": {},
   "outputs": [
    {
     "name": "stdout",
     "output_type": "stream",
     "text": [
      "[array([[3, 7],\n",
      "       [2, 4]]), array([[9, 9],\n",
      "       [8, 1]]), array([[3, 5],\n",
      "       [3, 3]])]\n",
      "[array([[3, 7, 9],\n",
      "       [2, 4, 8]]), array([[9],\n",
      "       [1]]), array([[3, 5],\n",
      "       [3, 3]])]\n"
     ]
    }
   ],
   "source": [
    "a = np.random.randint(0, 10, (2, 6))\n",
    "\n",
    "print(np.hsplit(a, 3))  # split into 3 equal parts\n",
    "print(np.hsplit(a, (3, 4)))  # split after 3rd and 4th column"
   ]
  },
  {
   "cell_type": "markdown",
   "metadata": {},
   "source": [
    "### Vertical split\n",
    "\n",
    "Split an array into multiple sub-arrays vertically (row-wise)."
   ]
  },
  {
   "cell_type": "code",
   "execution_count": 36,
   "metadata": {},
   "outputs": [
    {
     "data": {
      "text/plain": [
       "[array([[3, 7, 9, 9, 3, 5]]), array([[2, 4, 8, 1, 3, 3]])]"
      ]
     },
     "execution_count": 36,
     "metadata": {},
     "output_type": "execute_result"
    }
   ],
   "source": [
    "np.vsplit(a, 2)  # split along first axis"
   ]
  },
  {
   "cell_type": "markdown",
   "metadata": {},
   "source": [
    "### Flexible split"
   ]
  },
  {
   "cell_type": "code",
   "execution_count": 37,
   "metadata": {},
   "outputs": [
    {
     "data": {
      "text/plain": [
       "[array([[3, 7],\n",
       "        [2, 4]]),\n",
       " array([[9, 9],\n",
       "        [8, 1]]),\n",
       " array([[3, 5],\n",
       "        [3, 3]])]"
      ]
     },
     "execution_count": 37,
     "metadata": {},
     "output_type": "execute_result"
    }
   ],
   "source": [
    "np.array_split(a, 3, axis=1)  # specify axis"
   ]
  },
  {
   "cell_type": "markdown",
   "metadata": {},
   "source": [
    "### Summary\n",
    "\n",
    "| Operation                                         | Description                                |\n",
    "| ------------------------------------------------- | ------------------------------------------ |\n",
    "| `reshape`, `resize`, `ravel`, `T`                 | Change the shape of an array or flatten it |\n",
    "| `-1` in reshape                                   | Automatically calculate the dimension      |\n",
    "| `hstack`, `vstack`, `column_stack`, `concatenate` | Stack arrays along different axes          |\n",
    "| `hsplit`, `vsplit`, `array_split`                 | Split arrays horizontally or vertically    |"
   ]
  },
  {
   "cell_type": "markdown",
   "metadata": {},
   "source": [
    "## Copies and Views in NumPy and Copy library\n",
    "\n",
    "When working with NumPy arrays, **sometimes data is copied, sometimes not**. This is a common source of confusion for beginners. There are **three main cases**:\n",
    "\n",
    "### No Copy at All\n",
    "\n",
    "Simple assignments do **not create a copy**. Both variables point to the same array."
   ]
  },
  {
   "cell_type": "code",
   "execution_count": 38,
   "metadata": {},
   "outputs": [
    {
     "name": "stdout",
     "output_type": "stream",
     "text": [
      "True\n"
     ]
    }
   ],
   "source": [
    "import numpy as np\n",
    "\n",
    "a = np.array([[ 0,  1,  2,  3],\n",
    "              [ 4,  5,  6,  7],\n",
    "              [ 8,  9, 10, 11]])\n",
    "\n",
    "b = a             # no new object is created\n",
    "print(b is a)     # True, both names refer to the same ndarray"
   ]
  },
  {
   "cell_type": "markdown",
   "metadata": {},
   "source": [
    "Passing mutable objects to functions also does not make a copy:"
   ]
  },
  {
   "cell_type": "code",
   "execution_count": 39,
   "metadata": {},
   "outputs": [
    {
     "name": "stdout",
     "output_type": "stream",
     "text": [
      "4490638992\n",
      "4490638992\n"
     ]
    }
   ],
   "source": [
    "def f(x):\n",
    "    print(id(x))  # unique object identifier\n",
    "\n",
    "print(id(a))\n",
    "f(a)\n",
    "# Both outputs will be the same"
   ]
  },
  {
   "cell_type": "markdown",
   "metadata": {},
   "source": [
    "### View (Shallow Copy)\n",
    "\n",
    "A **view** is a new array object that looks at the same data."
   ]
  },
  {
   "cell_type": "code",
   "execution_count": 40,
   "metadata": {},
   "outputs": [
    {
     "name": "stdout",
     "output_type": "stream",
     "text": [
      "False\n",
      "True\n",
      "False\n"
     ]
    }
   ],
   "source": [
    "c = a.view()\n",
    "print(c is a)         # False, different objects\n",
    "print(c.base is a)    # True, shares data with 'a'\n",
    "print(c.flags.owndata) # False"
   ]
  },
  {
   "cell_type": "markdown",
   "metadata": {},
   "source": [
    "Modifying the view **affects the original array**:"
   ]
  },
  {
   "cell_type": "code",
   "execution_count": 41,
   "metadata": {},
   "outputs": [
    {
     "name": "stdout",
     "output_type": "stream",
     "text": [
      "(3, 4)\n",
      "[[   0    1    2    3]\n",
      " [1234    5    6    7]\n",
      " [   8    9   10   11]]\n"
     ]
    }
   ],
   "source": [
    "c = c.reshape((2, 6))\n",
    "print(a.shape)  # (3, 4) - a's shape doesn't change\n",
    "\n",
    "c[0, 4] = 1234\n",
    "print(a)"
   ]
  },
  {
   "cell_type": "markdown",
   "metadata": {},
   "source": [
    "Slicing returns a view:"
   ]
  },
  {
   "cell_type": "code",
   "execution_count": 42,
   "metadata": {},
   "outputs": [
    {
     "name": "stdout",
     "output_type": "stream",
     "text": [
      "[[   0   10   10    3]\n",
      " [1234   10   10    7]\n",
      " [   8   10   10   11]]\n",
      "[[   0   10   10    3 1234   10]\n",
      " [  10    7    8   10   10   11]]\n"
     ]
    }
   ],
   "source": [
    "s = a[:, 1:3]\n",
    "s[:] = 10\n",
    "print(a)\n",
    "print(c)"
   ]
  },
  {
   "cell_type": "markdown",
   "metadata": {},
   "source": [
    "> Difference: `s = 10` reassigns the variable, while `s[:] = 10` modifies the underlying data."
   ]
  },
  {
   "cell_type": "markdown",
   "metadata": {},
   "source": [
    "### Deep Copy\n",
    "\n",
    "The **copy** method creates a **new array with new data**."
   ]
  },
  {
   "cell_type": "code",
   "execution_count": 43,
   "metadata": {},
   "outputs": [
    {
     "name": "stdout",
     "output_type": "stream",
     "text": [
      "False\n",
      "False\n",
      "[[   0   10   10    3]\n",
      " [1234   10   10    7]\n",
      " [   8   10   10   11]]\n"
     ]
    }
   ],
   "source": [
    "d = a.copy()\n",
    "print(d is a)       # False\n",
    "print(d.base is a)  # False\n",
    "\n",
    "d[0, 0] = 9999\n",
    "print(a)"
   ]
  },
  {
   "cell_type": "markdown",
   "metadata": {},
   "source": [
    "Deep copies are useful when working with **large arrays** and slicing only a small portion:"
   ]
  },
  {
   "cell_type": "code",
   "execution_count": 44,
   "metadata": {},
   "outputs": [],
   "source": [
    "a = np.arange(int(1e8))\n",
    "b = a[:100].copy()  # deep copy of a small slice\n",
    "del a                # memory of 'a' can now be released"
   ]
  },
  {
   "cell_type": "markdown",
   "metadata": {},
   "source": [
    "> ⚠️ If `b = a[:100]` is used instead, `b` still references `a` and the memory cannot be released even after `del a`.\n"
   ]
  },
  {
   "cell_type": "markdown",
   "metadata": {},
   "source": [
    "### Copy library \n",
    "\n",
    "Lets compare np.copy() and np.view() with copy.deepcopy(), copy.copy().\n",
    "Shallow copy creates a new object that references the same inner objects as the original, sharing data references. Changes to inner objects affect all references, but changes to top-level objects may not.\n",
    "\n",
    "When you change the inner item (origin[1][0]), all collections reflect the change:\n",
    "from copy import copy"
   ]
  },
  {
   "cell_type": "code",
   "execution_count": 45,
   "metadata": {},
   "outputs": [
    {
     "name": "stdout",
     "output_type": "stream",
     "text": [
      "[[1], [0], [3]]\n",
      "[[1], [0], [3]]\n",
      "[[1], [0], [3]]\n"
     ]
    }
   ],
   "source": [
    "from copy import copy\n",
    "\n",
    "# changing inner item\n",
    "origin = [[1], [2], [3]]\n",
    "shallow_copy = copy(origin)\n",
    "referenced = origin\n",
    "origin[1][0] = 0\n",
    "\n",
    "print(origin)     \n",
    "print(shallow_copy) \n",
    "print(referenced) "
   ]
  },
  {
   "cell_type": "markdown",
   "metadata": {},
   "source": [
    "When you change a top-level item (origin[1]), the reference reflects the change, but the shallow copy remains unchanged because it shares references to the inner lists:"
   ]
  },
  {
   "cell_type": "code",
   "execution_count": 46,
   "metadata": {},
   "outputs": [
    {
     "name": "stdout",
     "output_type": "stream",
     "text": [
      "[[1], 0, [3]]\n",
      "[[1], [2], [3]]\n",
      "[[1], 0, [3]]\n"
     ]
    }
   ],
   "source": [
    "# changing a top-level item\n",
    "origin = [[1], [2], [3]]\n",
    "shallow_copy = copy(origin)\n",
    "referenced = origin\n",
    "origin[1] = 0\n",
    "\n",
    "print(origin)      \n",
    "print(shallow_copy) \n",
    "print(referenced)  "
   ]
  },
  {
   "cell_type": "markdown",
   "metadata": {},
   "source": [
    "Deep copy duplicates the entire structure, including all nested sublists, ensuring independence:\n",
    "from copy import deepcopy"
   ]
  },
  {
   "cell_type": "code",
   "execution_count": 47,
   "metadata": {},
   "outputs": [
    {
     "name": "stdout",
     "output_type": "stream",
     "text": [
      "[[1], [0], [3]]\n",
      "[[1], [2], [3]]\n",
      "[[1], [0], [3]]\n"
     ]
    }
   ],
   "source": [
    "from copy import deepcopy \n",
    "\n",
    "origin = [[1],[2],[3]]\n",
    "deep_copy = deepcopy(origin)\n",
    "referenced = origin\n",
    "origin[1][0]= 0\n",
    "\n",
    "print(origin) \n",
    "print(deep_copy) \n",
    "print(referenced) "
   ]
  },
  {
   "cell_type": "markdown",
   "metadata": {},
   "source": [
    "### Summary\n",
    "\n",
    "Here’s the key difference between references, shallow copies, and deep copies:\n",
    "- `copy.deepcopy()` → Creates a completely independent copy of an object, including all nested elements. Changes in the original object do not affect the deep copy.\n",
    "- `References` → Simply point to the same object, meaning any modification to the original will be reflected in all references.\n",
    "- `copy.copy()` → Creates a shallow copy, duplicating only the outer structure of an object, but the inner elements remain shared with the original.\n",
    "- `np.copy()` → In NumPy, this creates a fully independent copy of an array, duplicating all data.\n",
    "- `np.view()` → Creates a new view of the same data, meaning changes in one will affect the other.\n",
    "\n",
    "In NumPy:\n",
    "\n",
    "| Concept            | Description                                               |\n",
    "| ------------------ | --------------------------------------------------------- |\n",
    "| Assignment `b = a` | No copy, both names refer to the same array               |\n",
    "| `view()`           | Shallow copy, new array object, shares data with original |\n",
    "| Slicing            | Returns a view (shares data)                              |\n",
    "| `copy()`           | Deep copy, creates a new array with independent data      |\n"
   ]
  }
 ],
 "metadata": {
  "kernelspec": {
   "display_name": "Python 3.6 (tensorflow)",
   "language": "python",
   "name": "imageio"
  },
  "language_info": {
   "codemirror_mode": {
    "name": "ipython",
    "version": 3
   },
   "file_extension": ".py",
   "mimetype": "text/x-python",
   "name": "python",
   "nbconvert_exporter": "python",
   "pygments_lexer": "ipython3",
   "version": "3.11.0"
  }
 },
 "nbformat": 4,
 "nbformat_minor": 2
}
