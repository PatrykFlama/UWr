{
 "cells": [
  {
   "cell_type": "code",
   "execution_count": 1,
   "metadata": {},
   "outputs": [],
   "source": [
    "import numpy as np"
   ]
  },
  {
   "cell_type": "markdown",
   "metadata": {},
   "source": [
    "# Basic NumPy\n",
    "\n",
    "## Slicing\n",
    "\n",
    "**Key Principles**\n",
    "\n",
    "1. **Syntax:** `array[start:stop:step]`\n",
    "\n",
    "   * Selects elements starting from `start` (inclusive) to `stop` (exclusive), every `step`.\n",
    "   * Negative indices count from the end; negative steps reverse order.\n",
    "   * `::` means “take everything”.\n",
    "\n",
    "2. **View vs Copy:**\n",
    "   NumPy slicing returns a **view**, not a copy. Changes to the slice affect the original array.\n",
    "   Use `.copy()` if you want an independent dataset.\n",
    "\n",
    "3. **Multidimensional slicing:**\n",
    "   You can slice along each axis using commas: `data[1:3, ::-1]`.\n",
    "\n",
    "\n",
    "### Example 1 – Temperature Readings (1D Array)\n",
    "\n",
    "Imagine you collected hourly temperatures for 10 hours:"
   ]
  },
  {
   "cell_type": "code",
   "execution_count": 2,
   "metadata": {},
   "outputs": [
    {
     "name": "stdout",
     "output_type": "stream",
     "text": [
      "All hourly temperatures: [14 15 15 16 17 17 18 18 17 16]\n",
      "Every second hour: [14 15 17 18 17]\n",
      "Last 3 hours: [18 17 16]\n",
      "Reversed order (most recent first): [16 17 18 18 17 17 16 15 15 14]\n"
     ]
    }
   ],
   "source": [
    "import numpy as np\n",
    "\n",
    "temps = np.array([14, 15, 15, 16, 17, 17, 18, 18, 17, 16])\n",
    "\n",
    "print(\"All hourly temperatures:\", temps)\n",
    "print(\"Every second hour:\", temps[::2])\n",
    "print(\"Last 3 hours:\", temps[-3:])\n",
    "print(\"Reversed order (most recent first):\", temps[::-1])"
   ]
  },
  {
   "cell_type": "markdown",
   "metadata": {},
   "source": [
    "### Example 2 – Model Predictions (2D Array)\n",
    "\n",
    "Suppose you have predictions from a regression model over several days for 3 cities:"
   ]
  },
  {
   "cell_type": "code",
   "execution_count": 3,
   "metadata": {},
   "outputs": [
    {
     "name": "stdout",
     "output_type": "stream",
     "text": [
      "Full prediction table:\n",
      " [[22.3 21.9 20.5]\n",
      " [23.1 22.2 21. ]\n",
      " [24.5 23.8 22.3]\n",
      " [25.  24.1 22.8]]\n",
      "\n",
      "First two days (all cities):\n",
      " [[22.3 21.9 20.5]\n",
      " [23.1 22.2 21. ]]\n",
      "\n",
      "City C predictions only:\n",
      " [20.5 21.  22.3 22.8]\n",
      "\n",
      "Every second day (all cities):\n",
      " [[22.3 21.9 20.5]\n",
      " [24.5 23.8 22.3]]\n"
     ]
    }
   ],
   "source": [
    "import numpy as np\n",
    "\n",
    "preds = np.array([\n",
    "    [22.3, 21.9, 20.5],\n",
    "    [23.1, 22.2, 21.0],\n",
    "    [24.5, 23.8, 22.3],\n",
    "    [25.0, 24.1, 22.8]\n",
    "])\n",
    "# Rows = days, Columns = cities (A, B, C)\n",
    "\n",
    "print(\"Full prediction table:\\n\", preds)\n",
    "print(\"\\nFirst two days (all cities):\\n\", preds[:2, :])\n",
    "print(\"\\nCity C predictions only:\\n\", preds[:, 2])\n",
    "print(\"\\nEvery second day (all cities):\\n\", preds[::2, :])"
   ]
  },
  {
   "cell_type": "markdown",
   "metadata": {},
   "source": [
    "### Example 3 – Image Dataset (3D Array)\n",
    "\n",
    "Now consider you have grayscale images represented as arrays:\n",
    "Each image has shape `(height, width) = (4, 4)` and there are 2 images total."
   ]
  },
  {
   "cell_type": "code",
   "execution_count": 4,
   "metadata": {},
   "outputs": [
    {
     "name": "stdout",
     "output_type": "stream",
     "text": [
      "Original images:\n",
      " [[[ 0  1  2  3]\n",
      "  [ 4  5  6  7]\n",
      "  [ 8  9 10 11]\n",
      "  [12 13 14 15]]\n",
      "\n",
      " [[16 17 18 19]\n",
      "  [20 21 22 23]\n",
      "  [24 25 26 27]\n",
      "  [28 29 30 31]]]\n",
      "\n",
      "Top-left 2x2 crop from each image:\n",
      " [[[ 0  1]\n",
      "  [ 4  5]]\n",
      "\n",
      " [[16 17]\n",
      "  [20 21]]]\n",
      "\n",
      "Every second row and column:\n",
      " [[[ 0  2]\n",
      "  [ 8 10]]\n",
      "\n",
      " [[16 18]\n",
      "  [24 26]]]\n",
      "\n",
      "Horizontally flipped images:\n",
      " [[[ 3  2  1  0]\n",
      "  [ 7  6  5  4]\n",
      "  [11 10  9  8]\n",
      "  [15 14 13 12]]\n",
      "\n",
      " [[19 18 17 16]\n",
      "  [23 22 21 20]\n",
      "  [27 26 25 24]\n",
      "  [31 30 29 28]]]\n"
     ]
    }
   ],
   "source": [
    "import numpy as np\n",
    "\n",
    "images = np.arange(32).reshape(2, 4, 4)\n",
    "# Shape: (2 images, 4 rows, 4 columns)\n",
    "\n",
    "print(\"Original images:\\n\", images)\n",
    "print(\"\\nTop-left 2x2 crop from each image:\\n\", images[:, :2, :2])\n",
    "print(\"\\nEvery second row and column:\\n\", images[:, ::2, ::2])\n",
    "print(\"\\nHorizontally flipped images:\\n\", images[:, :, ::-1])"
   ]
  },
  {
   "cell_type": "markdown",
   "metadata": {},
   "source": [
    "## Understanding \"axis\" in NumPy\n",
    "\n",
    "Many NumPy functions (sum, mean, max, min, etc.) take an \"axis\" argument.\n",
    "\n",
    "Setting **axis = 0** means: collapse axis 0.\n",
    "- In a 2D array, axis 0 is the rows.\n",
    "- So we aggregate *down* the rows, producing one result per column.\n",
    "\n",
    "Setting **axis = 1** means: collapse axis 1.\n",
    "- In a 2D array, axis 1 is the columns.\n",
    "- So we aggregate *across* the columns, producing one result per row.\n",
    "\n",
    "So when we set axis = 0, we’re not summing across the rows —\n",
    "we’re aggregating *down* the rows (we collapse axis 0).\n",
    "When we set axis = 1, we collapse the columns (axis 1).\n",
    "\n",
    "![axis0](./Images/numpy-axes-np-sum-axis-0.png)\n",
    "![axis1](./Images//numpy-axes-np-sum-axis-1.png)"
   ]
  },
  {
   "cell_type": "markdown",
   "metadata": {},
   "source": [
    "### Example - Daily Sales in 3 Stores"
   ]
  },
  {
   "cell_type": "code",
   "execution_count": 5,
   "metadata": {},
   "outputs": [
    {
     "name": "stdout",
     "output_type": "stream",
     "text": [
      "Daily sales data:\n",
      " [[120 100  90]\n",
      " [150 130 100]\n",
      " [170 160 110]\n",
      " [200 180 120]]\n",
      "\n",
      "Sum per store (axis=0): [640 570 420]\n",
      "Mean per store (axis=0): [160.  142.5 105. ]\n",
      "Max per store (axis=0): [200 180 120]\n",
      "Store index with max total sales (argmax over axis=0): [3 3 3]\n",
      "\n",
      "Sum per day (axis=1): [310 380 440 500]\n",
      "Mean per day (axis=1): [103.33333333 126.66666667 146.66666667 166.66666667]\n",
      "Min per day (axis=1): [ 90 100 110 120]\n",
      "Column index of min sale each day (argmin over axis=1): [2 2 2 2]\n"
     ]
    }
   ],
   "source": [
    "import numpy as np\n",
    "\n",
    "# Rows = days, Columns = stores (A, B, C)\n",
    "sales = np.array([\n",
    "    [120, 100, 90],\n",
    "    [150, 130, 100],\n",
    "    [170, 160, 110],\n",
    "    [200, 180, 120]\n",
    "])\n",
    "\n",
    "print(\"Daily sales data:\\n\", sales)\n",
    "\n",
    "# When we set axis = 0, we collapse axis 0 (rows).\n",
    "# So we aggregate *down* the rows — one result per column (store).\n",
    "print(\"\\nSum per store (axis=0):\", np.sum(sales, axis=0))\n",
    "print(\"Mean per store (axis=0):\", np.mean(sales, axis=0))\n",
    "print(\"Max per store (axis=0):\", np.max(sales, axis=0))\n",
    "print(\"Store index with max total sales (argmax over axis=0):\", np.argmax(sales, axis=0))\n",
    "\n",
    "# When we set axis = 1, we collapse axis 1 (columns).\n",
    "# So we aggregate *across* the columns — one result per row (day).\n",
    "print(\"\\nSum per day (axis=1):\", np.sum(sales, axis=1))\n",
    "print(\"Mean per day (axis=1):\", np.mean(sales, axis=1))\n",
    "print(\"Min per day (axis=1):\", np.min(sales, axis=1))\n",
    "print(\"Column index of min sale each day (argmin over axis=1):\", np.argmin(sales, axis=1))"
   ]
  },
  {
   "cell_type": "markdown",
   "metadata": {},
   "source": [
    "## Array Combination and Splitting\n",
    "\n",
    "In data analysis, arrays often need to be **combined** (merged).\n",
    "NumPy provides intuitive functions for this: `concatenate`, `stack`.\n",
    "\n",
    "### `np.concatenate()`\n",
    "\n",
    "Joins existing arrays along an existing axis (must have compatible shapes)."
   ]
  },
  {
   "cell_type": "code",
   "execution_count": 6,
   "metadata": {},
   "outputs": [
    {
     "name": "stdout",
     "output_type": "stream",
     "text": [
      "Concatenate along rows:\n",
      " [[1 2]\n",
      " [3 4]\n",
      " [5 6]]\n"
     ]
    }
   ],
   "source": [
    "a = np.array([[1, 2], [3, 4]])\n",
    "b = np.array([[5, 6]])\n",
    "\n",
    "# Combine along rows (axis=0)\n",
    "result = np.concatenate((a, b))\n",
    "print(\"Concatenate along rows:\\n\", result)"
   ]
  },
  {
   "cell_type": "markdown",
   "metadata": {},
   "source": [
    "### `np.stack()`\n",
    "\n",
    "Creates a **new axis** while joining arrays.\n",
    "All arrays must have the **same shape**."
   ]
  },
  {
   "cell_type": "code",
   "execution_count": 7,
   "metadata": {},
   "outputs": [
    {
     "name": "stdout",
     "output_type": "stream",
     "text": [
      "Stacked along new axis 0:\n",
      " [[1 2 3]\n",
      " [4 5 6]]\n",
      "\n",
      "Stacked along new axis 1:\n",
      " [[1 4]\n",
      " [2 5]\n",
      " [3 6]]\n"
     ]
    }
   ],
   "source": [
    "a = np.array([1, 2, 3])\n",
    "b = np.array([4, 5, 6])\n",
    "\n",
    "stacked0 = np.stack((a, b), axis=0)  # new axis 0\n",
    "stacked1 = np.stack((a, b), axis=1)  # new axis 1\n",
    "\n",
    "print(\"Stacked along new axis 0:\\n\", stacked0)\n",
    "print(\"\\nStacked along new axis 1:\\n\", stacked1)"
   ]
  },
  {
   "cell_type": "markdown",
   "metadata": {},
   "source": [
    "**Difference `stack` vs. `concatenate`:**\n",
    "\n",
    "* `concatenate` merges *existing axes*\n",
    "* `stack` creates a *new axis*\n",
    "\n",
    "https://medium.com/better-programming/numpy-illustrated-the-visual-guide-to-numpy-3b1d4976de1d"
   ]
  },
  {
   "cell_type": "markdown",
   "metadata": {},
   "source": [
    "## NumPy Sorting & Uniqueness Functions\n",
    "\n",
    "### `np.sort()` – Sort Values\n",
    "\n",
    "Returns a sorted copy of an array along a given axis.\n",
    "\n",
    "* By default, sorts along the last axis (`axis = -1`).\n",
    "* Does **not** modify the original array (use `.sort()` method for in-place sorting).\n",
    "* Works on multidimensional arrays — you can choose which axis to sort.\n",
    "\n",
    "#### Example – Sorting model predictions"
   ]
  },
  {
   "cell_type": "code",
   "execution_count": 8,
   "metadata": {},
   "outputs": [
    {
     "name": "stdout",
     "output_type": "stream",
     "text": [
      "Original probabilities: [0.65 0.15 0.2 ]\n",
      "Sorted probabilities: [0.15 0.2  0.65]\n"
     ]
    }
   ],
   "source": [
    "import numpy as np\n",
    "\n",
    "# Suppose we have predicted probabilities for 3 classes\n",
    "probs = np.array([0.65, 0.15, 0.20])\n",
    "\n",
    "print(\"Original probabilities:\", probs)\n",
    "print(\"Sorted probabilities:\", np.sort(probs))"
   ]
  },
  {
   "cell_type": "markdown",
   "metadata": {},
   "source": [
    "#### Exaample 2"
   ]
  },
  {
   "cell_type": "code",
   "execution_count": 9,
   "metadata": {},
   "outputs": [
    {
     "name": "stdout",
     "output_type": "stream",
     "text": [
      "Original 2D array:\n",
      " [[0.65 0.15 0.2 ]\n",
      " [0.1  0.8  0.5 ]\n",
      " [0.3  0.4  0.9 ]]\n",
      "\n",
      "Sorted along last axis (axis=-1):\n",
      " [[0.15 0.2  0.65]\n",
      " [0.1  0.5  0.8 ]\n",
      " [0.3  0.4  0.9 ]]\n",
      "\n",
      "Sorted along axis=0 (down each column):\n",
      " [[0.1  0.15 0.2 ]\n",
      " [0.3  0.4  0.5 ]\n",
      " [0.65 0.8  0.9 ]]\n",
      "\n",
      "Sorted along axis=1 (across each row):\n",
      " [[0.15 0.2  0.65]\n",
      " [0.1  0.5  0.8 ]\n",
      " [0.3  0.4  0.9 ]]\n"
     ]
    }
   ],
   "source": [
    "import numpy as np\n",
    "\n",
    "# Rows = samples, Columns = class probabilities\n",
    "probs_2d = np.array([\n",
    "    [0.65, 0.15, 0.20],\n",
    "    [0.10, 0.80, 0.50],\n",
    "    [0.30, 0.40, 0.90]\n",
    "])\n",
    "\n",
    "print(\"Original 2D array:\\n\", probs_2d)\n",
    "\n",
    "# Sort without specifying axis (default: axis = -1 → sort within each row)\n",
    "print(\"\\nSorted along last axis (axis=-1):\\n\", np.sort(probs_2d))\n",
    "\n",
    "# Sort along rows (axis=0) — sorts *down* each column\n",
    "print(\"\\nSorted along axis=0 (down each column):\\n\", np.sort(probs_2d, axis=0))\n",
    "\n",
    "# Sort along columns (axis=1) — sorts *across* each row\n",
    "print(\"\\nSorted along axis=1 (across each row):\\n\", np.sort(probs_2d, axis=1))\n"
   ]
  },
  {
   "cell_type": "markdown",
   "metadata": {},
   "source": [
    "### `np.argsort()` – Get Sorted Indices\n",
    "\n",
    "Returns the **indices** that would sort the array.\n",
    "This is useful when you want the *ranking* or to reorder another array accordingly.\n",
    "\n",
    "#### Example – Ranking model predictions"
   ]
  },
  {
   "cell_type": "code",
   "execution_count": 10,
   "metadata": {},
   "outputs": [
    {
     "name": "stdout",
     "output_type": "stream",
     "text": [
      "Sorted indices: [1 2 0]\n",
      "Classes from lowest to highest probability: [1 2 0]\n",
      "Classes from highest to lowest probability: [0 2 1]\n"
     ]
    }
   ],
   "source": [
    "import numpy as np\n",
    "\n",
    "# Probabilities for 3 classes\n",
    "probs = np.array([0.65, 0.15, 0.20])\n",
    "\n",
    "sorted_idx = np.argsort(probs)\n",
    "print(\"Sorted indices:\", sorted_idx)\n",
    "print(\"Classes from lowest to highest probability:\", sorted_idx)\n",
    "print(\"Classes from highest to lowest probability:\", sorted_idx[::-1])"
   ]
  },
  {
   "cell_type": "markdown",
   "metadata": {},
   "source": [
    "###  `np.unique()` – Find Unique Values\n",
    "\n",
    "Finds all unique values in an array (optionally, also their counts or indices).\n",
    "Useful for identifying **unique categories**, **class labels**, or **distinct values** in datasets.\n",
    "\n",
    "#### Example – Unique class labels in dataset"
   ]
  },
  {
   "cell_type": "code",
   "execution_count": 11,
   "metadata": {},
   "outputs": [
    {
     "name": "stdout",
     "output_type": "stream",
     "text": [
      "Unique class labels: ['bird' 'cat' 'dog']\n"
     ]
    }
   ],
   "source": [
    "labels = np.array([\"cat\", \"dog\", \"dog\", \"cat\", \"bird\", \"dog\"])\n",
    "\n",
    "unique_labels = np.unique(labels)\n",
    "print(\"Unique class labels:\", unique_labels)"
   ]
  },
  {
   "cell_type": "markdown",
   "metadata": {},
   "source": [
    "### Summary\n",
    "\n",
    "* **`np.sort`** get ordered values\n",
    "* **`np.argsort`** get order indices (for ranking)\n",
    "* **`np.unique`** get unique or categorical values"
   ]
  },
  {
   "cell_type": "markdown",
   "metadata": {},
   "source": [
    "## Random Data Generation in NumPy\n",
    "\n",
    "The `numpy.random` module provides functions for generating random numbers.\n",
    "These are widely used for:\n",
    "\n",
    "* Sampling data\n",
    "* Initializing model weights\n",
    "* Random shuffling\n",
    "* Data augmentation\n",
    "\n",
    "### Understanding the Random Seed\n",
    "\n",
    "Every time you call a random function, NumPy uses an internal algorithm to produce random-looking numbers.\n",
    "However, these numbers are **not truly random** — they’re **pseudo-random**, generated by a deterministic process.\n",
    "\n",
    "The **random seed** is the *starting point* for this process.\n",
    "If you set the same seed, NumPy will always produce the same random numbers.\n",
    "\n",
    "Setting `np.random.seed(n)` makes your random results **reproducible** — crucial for experiments and debugging in machine learning."
   ]
  },
  {
   "cell_type": "code",
   "execution_count": null,
   "metadata": {},
   "outputs": [
    {
     "name": "stdout",
     "output_type": "stream",
     "text": [
      "Run 1: [0.37454012 0.95071431 0.73199394]\n",
      "Run 2: [0.37454012 0.95071431 0.73199394]\n"
     ]
    }
   ],
   "source": [
    "np.random.seed(42)\n",
    "print(\"Run 1:\", np.random.rand(3))\n",
    "\n",
    "np.random.seed(42)\n",
    "print(\"Run 2:\", np.random.rand(3))"
   ]
  },
  {
   "cell_type": "markdown",
   "metadata": {},
   "source": [
    "### Differences Between `rand`, `randint`, and `randn`\n",
    "\n",
    "| Function                             | Description                                              | Output Range  |\n",
    "| ------------------------------------ | -------------------------------------------------------- | ------------- |\n",
    "| `np.random.rand(shape)`              | Uniform random floats                                    | [0, 1)        |\n",
    "| `np.random.randint(low, high, size)` | Random integers                                          | [low, high) |\n",
    "| `np.random.randn(shape)`             | Random floats from *normal distribution* (mean=0, std=1) | (-∞, +∞)      | "
   ]
  },
  {
   "cell_type": "code",
   "execution_count": 13,
   "metadata": {},
   "outputs": [
    {
     "name": "stdout",
     "output_type": "stream",
     "text": [
      "rand: [0.5488135  0.71518937 0.60276338]\n",
      "randint: [3 7 9]\n",
      "randint: [[3 5 2]\n",
      " [4 7 6]\n",
      " [8 8 1]]\n",
      "randn: [0.14404357 1.45427351 0.76103773]\n"
     ]
    }
   ],
   "source": [
    "np.random.seed(0)\n",
    "\n",
    "print(\"rand:\", np.random.rand(3))      # uniform\n",
    "print(\"randint:\", np.random.randint(0, 10, 3))  # integers\n",
    "print(\"randint:\", np.random.randint(0, 10, (3, 3)))  # integers\n",
    "print(\"randn:\", np.random.randn(3))    # normal distribution"
   ]
  },
  {
   "cell_type": "markdown",
   "metadata": {},
   "source": [
    "# Advanced NumPy"
   ]
  },
  {
   "cell_type": "markdown",
   "metadata": {},
   "source": [
    "## broadcasting\n",
    "\n",
    "The term **broadcasting** describes how NumPy treats arrays with different shapes during arithmetic operations. Subject to certain constraints, the smaller array is “broadcast” across the larger array so that they have compatible shapes.\n",
    "\n",
    "NumPy operations are usually done on pairs of arrays on an element-by-element basis. In the simplest case, the two arrays must have exactly the same shape, as in the following example:"
   ]
  },
  {
   "cell_type": "code",
   "execution_count": 14,
   "metadata": {},
   "outputs": [
    {
     "data": {
      "text/plain": [
       "array([2., 4., 6.])"
      ]
     },
     "execution_count": 14,
     "metadata": {},
     "output_type": "execute_result"
    }
   ],
   "source": [
    "a = np.array([1.0, 2.0, 3.0])\n",
    "b = np.array([2.0, 2.0, 2.0])\n",
    "a * b"
   ]
  },
  {
   "cell_type": "markdown",
   "metadata": {},
   "source": [
    "NumPy’s broadcasting rule relaxes this constraint when the arrays’ shapes meet certain constraints. The simplest broadcasting example occurs when an array and a scalar value are combined in an operation:"
   ]
  },
  {
   "cell_type": "code",
   "execution_count": 15,
   "metadata": {},
   "outputs": [
    {
     "data": {
      "text/plain": [
       "array([2., 4., 6.])"
      ]
     },
     "execution_count": 15,
     "metadata": {},
     "output_type": "execute_result"
    }
   ],
   "source": [
    "a = np.array([1.0, 2.0, 3.0])\n",
    "b = 2.0\n",
    "a * b"
   ]
  },
  {
   "cell_type": "markdown",
   "metadata": {},
   "source": [
    "The result matches the previous example where `b` was an array. Conceptually, `b` is stretched to match `a`'s shape, with copies of the scalar. However, NumPy optimizes this without creating actual copies, ensuring efficient memory and computation.\n",
    "\n",
    "![Broadcasting](./Images/broadcasting.png)"
   ]
  },
  {
   "cell_type": "markdown",
   "metadata": {},
   "source": [
    "### General broadcasting rules\n",
    "\n",
    "When operating on two arrays, NumPy compares their shapes element-wise. It starts with the trailing (i.e. rightmost) dimension and works its way left. Two dimensions are compatible when\n",
    "\n",
    "1. they are equal, or\n",
    "2. one of them is 1.\n",
    "\n",
    "Input arrays can have different dimensions. The result matches the array with the most dimensions, using the largest size per dimension, assuming missing dimensions are size one."
   ]
  },
  {
   "cell_type": "markdown",
   "metadata": {},
   "source": [
    "### Example 1\n",
    "\n",
    "Scaling RGB values for an image"
   ]
  },
  {
   "cell_type": "code",
   "execution_count": null,
   "metadata": {},
   "outputs": [
    {
     "name": "stdout",
     "output_type": "stream",
     "text": [
      "Image shape: (256, 256, 3)\n",
      "Scale shape: (3,)\n",
      "Result shape: (256, 256, 3)\n",
      "\n"
     ]
    }
   ],
   "source": [
    "image = np.random.rand(256, 256, 3)  # 256x256 image with 3 color channels\n",
    "scale = np.array([0.5, 1.0, 1.5])  # Different scaling factors for each channel\n",
    "\n",
    "# Broadcasting operation\n",
    "scaled_image = image * scale\n",
    "\n",
    "print(\"Image shape:\", image.shape)\n",
    "print(\"Scale shape:\", scale.shape)\n",
    "print(\"Result shape:\", scaled_image.shape)\n",
    "\n",
    "# Image shape:  (256, 256, 3)\n",
    "# Scale shape:            (3,)\n",
    "# Result shape: (256, 256, 3)"
   ]
  },
  {
   "cell_type": "markdown",
   "metadata": {},
   "source": [
    "### Example 2\n",
    "\n",
    "Broadcasting with different shaped arrays"
   ]
  },
  {
   "cell_type": "code",
   "execution_count": null,
   "metadata": {},
   "outputs": [
    {
     "name": "stdout",
     "output_type": "stream",
     "text": [
      "A shape: (8, 1, 6, 1)\n",
      "B shape: (7, 1, 5)\n",
      "Result shape: (8, 7, 6, 5)\n"
     ]
    }
   ],
   "source": [
    "A = np.random.rand(8, 1, 6, 1)  # 4D array\n",
    "B = np.random.rand(   7, 1, 5)  # 3D array\n",
    "\n",
    "# Broadcasting operation\n",
    "result = A * B\n",
    "\n",
    "print(\"A shape:\", A.shape)\n",
    "print(\"B shape:\", B.shape)\n",
    "print(\"Result shape:\", result.shape)\n",
    "\n",
    "# A shape:      (8, 1, 6, 1)\n",
    "# B shape:         (7, 1, 5)\n",
    "# Result shape: (8, 7, 6, 5)"
   ]
  },
  {
   "cell_type": "markdown",
   "metadata": {},
   "source": [
    "### Example 3\n",
    "\n",
    "Examples of Arrays that can`t be broadcast."
   ]
  },
  {
   "cell_type": "code",
   "execution_count": 18,
   "metadata": {},
   "outputs": [
    {
     "name": "stdout",
     "output_type": "stream",
     "text": [
      "operands could not be broadcast together with shapes (3,) (4,) \n"
     ]
    }
   ],
   "source": [
    "try:\n",
    "    A = np.random.rand(3)\n",
    "    B = np.random.rand(4)\n",
    "    result = A + B \n",
    "except ValueError as e:\n",
    "    print(e)"
   ]
  },
  {
   "cell_type": "code",
   "execution_count": 19,
   "metadata": {},
   "outputs": [
    {
     "name": "stdout",
     "output_type": "stream",
     "text": [
      "operands could not be broadcast together with shapes (2,1) (8,4,3) \n"
     ]
    }
   ],
   "source": [
    "try:\n",
    "    A = np.random.rand(   2, 1)\n",
    "    B = np.random.rand(8, 4, 3)\n",
    "    result = A + B \n",
    "except ValueError as e:\n",
    "    print(e)"
   ]
  },
  {
   "cell_type": "markdown",
   "metadata": {},
   "source": [
    "### Example 4\n",
    "\n",
    "Broadcasting when a 1-d array is added to a 2-d array"
   ]
  },
  {
   "cell_type": "code",
   "execution_count": 35,
   "metadata": {},
   "outputs": [
    {
     "data": {
      "text/plain": [
       "array([[ 1.,  2.,  3.],\n",
       "       [11., 12., 13.],\n",
       "       [21., 22., 23.],\n",
       "       [31., 32., 33.]])"
      ]
     },
     "execution_count": 35,
     "metadata": {},
     "output_type": "execute_result"
    }
   ],
   "source": [
    "A = np.array([[ 0.0,  0.0,  0.0],\n",
    "              [10.0, 10.0, 10.0],\n",
    "              [20.0, 20.0, 20.0],\n",
    "              [30.0, 30.0, 30.0]])\n",
    "B = np.array([1.0, 2.0, 3.0])\n",
    "A + B"
   ]
  },
  {
   "cell_type": "markdown",
   "metadata": {},
   "source": [
    "![Broadcastin1D2D](./Images/broadcasting_2.png)"
   ]
  },
  {
   "cell_type": "markdown",
   "metadata": {},
   "source": [
    "### Example 5\n",
    "\n",
    "Broadcasting provides a convenient way of taking the outer product (or any other outer operation) of two arrays. The following example shows an outer addition operation of two 1-d arrays"
   ]
  },
  {
   "cell_type": "code",
   "execution_count": 21,
   "metadata": {},
   "outputs": [
    {
     "data": {
      "text/plain": [
       "array([[ 1.,  2.,  3.],\n",
       "       [11., 12., 13.],\n",
       "       [21., 22., 23.],\n",
       "       [31., 32., 33.]])"
      ]
     },
     "execution_count": 21,
     "metadata": {},
     "output_type": "execute_result"
    }
   ],
   "source": [
    "a = np.array([0.0, 10.0, 20.0, 30.0])\n",
    "b = np.array([1.0, 2.0, 3.0])\n",
    "a[:, np.newaxis] + b"
   ]
  },
  {
   "cell_type": "markdown",
   "metadata": {},
   "source": [
    "![Broadcasting](./Images/broadcasting_4.png)\n",
    "\n",
    "Here the newaxis index operator inserts a new axis into a, making it a two-dimensional 4x1 array. Combining the 4x1 array with b, which has shape (3,), yields a 4x3 array."
   ]
  },
  {
   "cell_type": "markdown",
   "metadata": {},
   "source": [
    "## Structured arrays"
   ]
  },
  {
   "cell_type": "markdown",
   "metadata": {},
   "source": [
    "Structured arrays are ndarrays whose datatype is a composition of simpler datatypes organized as a sequence of named fields. For example:"
   ]
  },
  {
   "cell_type": "code",
   "execution_count": 22,
   "metadata": {},
   "outputs": [
    {
     "data": {
      "text/plain": [
       "array([((10,  0), 2.), ((10, 30), 3.), ((11,  0), 5.)],\n",
       "      dtype=[('time', [('min', '<i8'), ('sec', '<i8')]), ('temp', '<f8')])"
      ]
     },
     "execution_count": 22,
     "metadata": {},
     "output_type": "execute_result"
    }
   ],
   "source": [
    "dt = np.dtype([('time', [('min', np.int64), ('sec', np.int64)]),\n",
    "               ('temp', float)])\n",
    "x = np.array([((10, 0), 2), ((10,30), 3), ((11,00), 5)], \n",
    "             dtype=dt)\n",
    "x"
   ]
  },
  {
   "cell_type": "code",
   "execution_count": 23,
   "metadata": {},
   "outputs": [
    {
     "name": "stdout",
     "output_type": "stream",
     "text": [
      "x[time]: [(10,  0) (10, 30) (11,  0)]\n"
     ]
    }
   ],
   "source": [
    "print(f'x[time]: {x[\"time\"]}')"
   ]
  },
  {
   "cell_type": "code",
   "execution_count": 24,
   "metadata": {},
   "outputs": [
    {
     "name": "stdout",
     "output_type": "stream",
     "text": [
      "x[temp]: [2. 3. 5.]\n"
     ]
    }
   ],
   "source": [
    "print(f'x[temp]: {x[\"temp\"]}')"
   ]
  },
  {
   "cell_type": "markdown",
   "metadata": {},
   "source": [
    "### numpy.fromfile\n",
    "\n",
    "Construct an array from data in a text or binary file."
   ]
  },
  {
   "cell_type": "code",
   "execution_count": 25,
   "metadata": {},
   "outputs": [],
   "source": [
    "import tempfile\n",
    "fname = tempfile.mkstemp()[1]\n",
    "x.tofile(fname)"
   ]
  },
  {
   "cell_type": "code",
   "execution_count": 26,
   "metadata": {},
   "outputs": [
    {
     "data": {
      "text/plain": [
       "array([((10,  0), 2.), ((10, 30), 3.), ((11,  0), 5.)],\n",
       "      dtype=[('time', [('min', '<i8'), ('sec', '<i8')]), ('temp', '<f8')])"
      ]
     },
     "execution_count": 26,
     "metadata": {},
     "output_type": "execute_result"
    }
   ],
   "source": [
    "np.fromfile(fname, dtype=dt)"
   ]
  },
  {
   "cell_type": "markdown",
   "metadata": {},
   "source": [
    "## Masked Arrays in NumPy\n",
    "\n",
    "### Why Masked Arrays?\n",
    "\n",
    "In real-world datasets, some values can be **missing** or **invalid**.\n",
    "For example:\n",
    "\n",
    "* A temperature sensor may fail and return `-999`.\n",
    "* A survey might have unanswered fields.\n",
    "* Some data could be corrupted or physically impossible.\n",
    "\n",
    "The **`numpy.ma`** module helps handle such cases without removing or replacing values manually.\n",
    "It lets you **“mask”** bad data — i.e., mark it as invalid so NumPy ignores it in computations.\n",
    "\n",
    "### Basic Concept\n",
    "\n",
    "A **masked array** combines:\n",
    "\n",
    "* A **data array** (like any NumPy `ndarray`)\n",
    "* A **mask**: Boolean array where\n",
    "\n",
    "  * `True` → value is invalid (masked)\n",
    "  * `False` → value is valid (used in computations)\n",
    "\n",
    "Masked values are automatically excluded from calculations like `mean()`, `sum()`, `max()`, etc.\n",
    "\n",
    "### Example 1"
   ]
  },
  {
   "cell_type": "code",
   "execution_count": 27,
   "metadata": {},
   "outputs": [
    {
     "name": "stdout",
     "output_type": "stream",
     "text": [
      "Raw sensor readings: [ 1  2  3 -1  5]\n",
      "\n",
      "Masked array:\n",
      " [1 2 3 -- 5]\n",
      "Mask:\n",
      " [False False False  True False]\n",
      "\n",
      "Mean (ignoring masked values): 2.75\n",
      "Sum (ignoring masked values): 11\n",
      "Standard deviation (ignoring masked values): 1.479019945774904\n"
     ]
    }
   ],
   "source": [
    "import numpy.ma as ma\n",
    "\n",
    "# Example dataset: sensor readings\n",
    "x = np.array([1, 2, 3, -1, 5])\n",
    "print(\"Raw sensor readings:\", x)\n",
    "\n",
    "# Suppose -1 means an invalid measurement\n",
    "mask = [0, 0, 0, 1, 0]  # mask=True (1) marks invalid entries\n",
    "\n",
    "mx = ma.masked_array(x, mask=mask)\n",
    "print(\"\\nMasked array:\\n\", mx)\n",
    "print(\"Mask:\\n\", mx.mask)\n",
    "\n",
    "# Compute mean while ignoring invalid (masked) values\n",
    "print(\"\\nMean (ignoring masked values):\", mx.mean())\n",
    "print(\"Sum (ignoring masked values):\", mx.sum())\n",
    "print(\"Standard deviation (ignoring masked values):\", mx.std())"
   ]
  },
  {
   "cell_type": "markdown",
   "metadata": {},
   "source": [
    "### Example 2 – Replacing Masked Values\n",
    "\n",
    "You can “fill in” masked values with a constant (e.g., 0 or mean)."
   ]
  },
  {
   "cell_type": "code",
   "execution_count": 28,
   "metadata": {},
   "outputs": [
    {
     "name": "stdout",
     "output_type": "stream",
     "text": [
      "Masked array: [20 21 -- 23 22]\n",
      "Filled with 0: [20 21  0 23 22]\n",
      "Filled with mean value: [20 21 21 23 22]\n"
     ]
    }
   ],
   "source": [
    "temps = np.array([20, 21, -999, 23, 22])\n",
    "mtemps = ma.masked_equal(temps, -999)\n",
    "\n",
    "print(\"Masked array:\", mtemps)\n",
    "print(\"Filled with 0:\", mtemps.filled(0))\n",
    "print(\"Filled with mean value:\", mtemps.filled(mtemps.mean()))\n"
   ]
  },
  {
   "cell_type": "markdown",
   "metadata": {},
   "source": [
    "### Summary\n",
    "\n",
    "| Function                    | Description                                 |\n",
    "| --------------------------- | ------------------------------------------- |\n",
    "| `ma.masked_equal(x, value)` | Mask all entries equal to a given value     |\n",
    "| `ma.masked_where(cond, x)`  | Mask where condition is True                |\n",
    "| `ma.masked_invalid(x)`      | Mask NaN or inf values                      |\n",
    "| `ma.mean(x)`                | Mean ignoring masked values                 |\n",
    "| `ma.sum(x)`                 | Sum ignoring masked values                  |\n",
    "| `ma.filled(x, fill_value)`  | Replace masked values with given fill value |"
   ]
  },
  {
   "cell_type": "markdown",
   "metadata": {},
   "source": [
    "## Stride Tricks"
   ]
  },
  {
   "cell_type": "code",
   "execution_count": 29,
   "metadata": {},
   "outputs": [],
   "source": [
    "from numpy.lib import stride_tricks"
   ]
  },
  {
   "cell_type": "markdown",
   "metadata": {},
   "source": [
    "### Reminder: Strides\n",
    "\n",
    "#### What Are Strides?\n",
    "\n",
    "In NumPy, **strides** show how many **bytes in memory** you need to move to reach the next element **along each axis**.\n",
    "\n",
    "#### Example – 2D Array"
   ]
  },
  {
   "cell_type": "code",
   "execution_count": 30,
   "metadata": {},
   "outputs": [
    {
     "name": "stdout",
     "output_type": "stream",
     "text": [
      "Array:\n",
      " [[1 2 3]\n",
      " [4 5 6]]\n",
      "Shape: (2, 3)\n",
      "Item size (bytes): 8\n",
      "Strides: (24, 8)\n"
     ]
    }
   ],
   "source": [
    "x = np.array([[1, 2, 3],\n",
    "              [4, 5, 6]])\n",
    "print(\"Array:\\n\", x)\n",
    "print(\"Shape:\", x.shape)\n",
    "print(\"Item size (bytes):\", x.itemsize)\n",
    "print(\"Strides:\", x.strides)"
   ]
  },
  {
   "cell_type": "markdown",
   "metadata": {},
   "source": [
    "#### Interpretation\n",
    "\n",
    "Each element takes **8 bytes**.\n",
    "\n",
    "* The second stride (8) → to move from one element to the next **in the same row**,\n",
    "  NumPy jumps **8 bytes** in memory.\n",
    "* The first stride (24) → to move to the next **row**, NumPy skips **24 bytes**\n",
    "  (3 columns × 8 bytes = 24 bytes)."
   ]
  },
  {
   "cell_type": "markdown",
   "metadata": {},
   "source": [
    "### numpy.lib.stride_tricks.sliding_window_view"
   ]
  },
  {
   "cell_type": "markdown",
   "metadata": {},
   "source": [
    "The `numpy.lib.stride_tricks.sliding_window_view()` function creates sliding window views of N-dimensional arrays without copying data. This function is safer and easier to use than `as_strided()` for tasks like generating moving windows for convolution or analysis.\n",
    "\n",
    "**Function Parameters**\n",
    "\n",
    "| Parameter        | Description                                                  |\n",
    "|------------------|--------------------------------------------------------------|\n",
    "| `x`              | Input NumPy array                                            |\n",
    "| `window_shape`   | Size of the sliding window (int or tuple for N-dim arrays)   |\n",
    "| `axis` (optional) | Axis or axes to slide over; defaults to all axes            |\n",
    "\n",
    "**Returns**\n",
    "\n",
    "`view : ndarray`  \n",
    "A new view of the input array with overlapping sliding windows.\n"
   ]
  },
  {
   "cell_type": "markdown",
   "metadata": {},
   "source": [
    "#### Example 1D"
   ]
  },
  {
   "cell_type": "code",
   "execution_count": 31,
   "metadata": {},
   "outputs": [
    {
     "name": "stdout",
     "output_type": "stream",
     "text": [
      "x: [0 1 2 3 4 5 6 7 8 9]\n",
      "Sliding window:\n",
      " [[0 1 2]\n",
      " [1 2 3]\n",
      " [2 3 4]\n",
      " [3 4 5]\n",
      " [4 5 6]\n",
      " [5 6 7]\n",
      " [6 7 8]\n",
      " [7 8 9]]\n"
     ]
    }
   ],
   "source": [
    "x = np.arange(10)\n",
    "print(\"x:\", x)\n",
    "\n",
    "windows = stride_tricks.sliding_window_view(x, window_shape=3)\n",
    "print(\"Sliding window:\\n\", windows)"
   ]
  },
  {
   "cell_type": "markdown",
   "metadata": {},
   "source": [
    "#### Example 2D"
   ]
  },
  {
   "cell_type": "code",
   "execution_count": 32,
   "metadata": {},
   "outputs": [
    {
     "name": "stdout",
     "output_type": "stream",
     "text": [
      "A:\n",
      " [[ 1  2  3  4]\n",
      " [ 5  6  7  8]\n",
      " [ 9 10 11 12]\n",
      " [13 14 15 16]]\n",
      "\n",
      "Sliding 2x2 windows:\n",
      " [[[[ 1  2]\n",
      "   [ 5  6]]\n",
      "\n",
      "  [[ 2  3]\n",
      "   [ 6  7]]\n",
      "\n",
      "  [[ 3  4]\n",
      "   [ 7  8]]]\n",
      "\n",
      "\n",
      " [[[ 5  6]\n",
      "   [ 9 10]]\n",
      "\n",
      "  [[ 6  7]\n",
      "   [10 11]]\n",
      "\n",
      "  [[ 7  8]\n",
      "   [11 12]]]\n",
      "\n",
      "\n",
      " [[[ 9 10]\n",
      "   [13 14]]\n",
      "\n",
      "  [[10 11]\n",
      "   [14 15]]\n",
      "\n",
      "  [[11 12]\n",
      "   [15 16]]]]\n",
      "\n",
      "Shape of windows: (3, 3, 2, 2)\n"
     ]
    }
   ],
   "source": [
    "import numpy as np\n",
    "from numpy.lib import stride_tricks\n",
    "\n",
    "# Tworzymy macierz 2D\n",
    "A = np.arange(1, 17).reshape(4, 4)\n",
    "print(\"A:\\n\", A)\n",
    "\n",
    "# Tworzymy okna 2x2\n",
    "windows = stride_tricks.sliding_window_view(A, window_shape=(2, 2))\n",
    "print(\"\\nSliding 2x2 windows:\\n\", windows)\n",
    "\n",
    "print(\"\\nShape of windows:\", windows.shape)\n"
   ]
  },
  {
   "cell_type": "markdown",
   "metadata": {},
   "source": [
    "For a 2D array `A` of shape (4,4), `sliding_window_view(A, (2,2))` produces a 4-D view of shape (3,3,2,2).  \n",
    "The first two dimensions (3,3) represent the possible window positions,  \n",
    "and the last two (2,2) are the shape of each window.  \n",
    "Each element `windows[i,j]` is a 2×2 subarray `A[i:i+2, j:j+2]`.  \n",
    "This is useful for vectorized convolution, pooling, or local neighborhood operations — all done without copying data."
   ]
  },
  {
   "cell_type": "markdown",
   "metadata": {},
   "source": [
    "### numpy.lib.stride_tricks.as_strided"
   ]
  },
  {
   "cell_type": "markdown",
   "metadata": {},
   "source": [
    "The `numpy.lib.stride_tricks.as_strided()` function allows you to create custom views of NumPy arrays without copying data. It works by manipulating memory strides, enabling you to define a custom way of interpreting the underlying data.\n",
    "\n",
    "**Function Parameters**\n",
    "\n",
    "| Parameter     | Description                                           |\n",
    "|---------------|-------------------------------------------------------|\n",
    "| `x`           | Input NumPy array                                     |\n",
    "| `shape`       | Desired shape of the new view                         |\n",
    "| `strides`     | Bytes to move between elements in each dimension      |\n",
    "| `subok`       | Keeps subclass type if `True` (default)               |\n",
    "| `writeable`   | If `True`, allows changes to the view (use cautiously)|\n",
    "\n",
    "**Returns**\n",
    "\n",
    "`view : ndarray`\n",
    "A new view of the input array with overlapping sliding windows.\n",
    "\n",
    "\n",
    "**Risks**\n",
    "1. **Memory violation risk** Manipulating strides allows reading data outside the valid array range, which can cause errors or undefined behavior.\n",
    "2. **No data copying** Modifying elements of a view created with as_strided will also modify the original data."
   ]
  },
  {
   "cell_type": "markdown",
   "metadata": {},
   "source": [
    "#### Example\n",
    "It can be used to efficiently perform operations on input data, such as creating sliding windows without memory overhead. This is particularly useful for convolutional operations."
   ]
  },
  {
   "cell_type": "code",
   "execution_count": null,
   "metadata": {},
   "outputs": [
    {
     "name": "stdout",
     "output_type": "stream",
     "text": [
      "[[0 1 2]\n",
      " [1 2 3]\n",
      " [2 3 4]\n",
      " [3 4 5]\n",
      " [4 5 6]\n",
      " [5 6 7]\n",
      " [6 7 8]\n",
      " [7 8 9]]\n"
     ]
    }
   ],
   "source": [
    "x = np.arange(10)\n",
    "\n",
    "window_size = 3\n",
    "stride = x.strides[0]\n",
    "\n",
    "windows = stride_tricks.as_strided(x, \n",
    "                                   shape=(len(x) - window_size + 1, window_size), \n",
    "                                   strides=(stride, stride))\n",
    "print(windows)"
   ]
  },
  {
   "cell_type": "markdown",
   "metadata": {},
   "source": [
    "**How It Works**\n",
    "\n",
    "1. Create the input array x\n",
    "2. Define the window size and stride\n",
    "    * window_size = 3: We want overlapping sliding windows of length 3.\n",
    "    * x.strides[0]: The stride for a 1D NumPy array is the number of bytes required to move from one element to the next.\n",
    "3. Set the shape of the new view `shape=(len(x) - window_size + 1, window_size)`\n",
    "    * len(x) = 10\n",
    "    * We want windows of size 3, so the number of possible windows is 10 - 3 + 1 = 8. This makes the shape of the resulting array (8, 3).\n",
    "4. Set the strides `strides=(stride, stride)`\n",
    "    * The first value tells NumPy how many bytes to move when selecting the starting point of the next window (row).\n",
    "    * The second value tells NumPy how many bytes to move between elements within a window (column).\n"
   ]
  }
 ],
 "metadata": {
  "kernelspec": {
   "display_name": "Python 3.6 (tensorflow)",
   "language": "python",
   "name": "tensorflow"
  },
  "language_info": {
   "codemirror_mode": {
    "name": "ipython",
    "version": 3
   },
   "file_extension": ".py",
   "mimetype": "text/x-python",
   "name": "python",
   "nbconvert_exporter": "python",
   "pygments_lexer": "ipython3",
   "version": "3.11.0"
  }
 },
 "nbformat": 4,
 "nbformat_minor": 2
}
